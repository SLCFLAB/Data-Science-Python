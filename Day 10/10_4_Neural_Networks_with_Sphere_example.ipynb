{
  "cells": [
    {
      "cell_type": "markdown",
      "metadata": {
        "id": "view-in-github",
        "colab_type": "text"
      },
      "source": [
        "<a href=\"https://colab.research.google.com/github/SLCFLAB/Data-Science-Python/blob/main/Day%2010/10_4_Neural_Networks_with_Sphere_example.ipynb\" target=\"_parent\"><img src=\"https://colab.research.google.com/assets/colab-badge.svg\" alt=\"Open In Colab\"/></a>"
      ]
    },
    {
      "cell_type": "markdown",
      "metadata": {
        "id": "LULkFlUej7Q1"
      },
      "source": [
        "# Neural Networks with Sphere example"
      ]
    },
    {
      "cell_type": "code",
      "execution_count": 1,
      "metadata": {
        "id": "BQ8c9dK_j7RB"
      },
      "outputs": [],
      "source": [
        "import numpy as np\n",
        "\n",
        "import torch\n",
        "import torch.nn as nn\n",
        "import torch.optim as optim\n",
        "\n",
        "from torch.utils.data import TensorDataset, DataLoader"
      ]
    },
    {
      "cell_type": "code",
      "execution_count": 2,
      "metadata": {
        "id": "ZhgT6Kqxj7RE"
      },
      "outputs": [],
      "source": [
        "import matplotlib.pyplot as plt\n",
        "%matplotlib inline"
      ]
    },
    {
      "cell_type": "markdown",
      "metadata": {
        "id": "lFJxgXhGj7RG"
      },
      "source": [
        "## 1. Generate Data"
      ]
    },
    {
      "cell_type": "code",
      "execution_count": 3,
      "metadata": {
        "id": "cmUpFhSLj7RH"
      },
      "outputs": [],
      "source": [
        "def make_datasets(size, dim) :\n",
        "    x = torch.randn(size, dim)\n",
        "    y = torch.randn(size, dim)\n",
        "\n",
        "    x = x / x.norm(dim=1).view(size, 1)\n",
        "    y = 4 * y / y.norm(dim=1).view(size, 1)\n",
        "    \n",
        "    label_x = torch.ones(size)\n",
        "    label_y = torch.zeros(size)\n",
        "\n",
        "    data = torch.cat([x, y])\n",
        "    label = torch.cat([label_x, label_y])\n",
        "    \n",
        "    return TensorDataset(data, label)"
      ]
    },
    {
      "cell_type": "code",
      "execution_count": 4,
      "metadata": {
        "id": "bl1RA4MGj7RI"
      },
      "outputs": [],
      "source": [
        "train_data = make_datasets(500, 2)\n",
        "test_data = make_datasets(100, 2)\n",
        "\n",
        "batch_size = 100\n",
        "\n",
        "train_loader = DataLoader(batch_size=batch_size, dataset=train_data, shuffle=True)\n",
        "test_loader = DataLoader(batch_size=batch_size, dataset=test_data, shuffle=False)\n",
        "\n",
        "# dataset (Dataset) – dataset from which to load the data.\n",
        "# batch_size (int, optional) – how many samples per batch to load (default: 1).\n",
        "# shuffle (bool, optional) – set to True to have the data reshuffled at every epoch (default: False)."
      ]
    },
    {
      "cell_type": "code",
      "execution_count": 5,
      "metadata": {
        "id": "6LgxeJ1Ij7RK"
      },
      "outputs": [],
      "source": [
        "X = train_data.tensors[0]\n",
        "Y = train_data.tensors[1]"
      ]
    },
    {
      "cell_type": "code",
      "execution_count": 6,
      "metadata": {
        "id": "YWHHeJnWj7RM",
        "outputId": "7360d76f-234b-4dde-a5b2-f632df10a9a3",
        "colab": {
          "base_uri": "https://localhost:8080/",
          "height": 269
        }
      },
      "outputs": [
        {
          "output_type": "display_data",
          "data": {
            "text/plain": [
              "<Figure size 360x288 with 2 Axes>"
            ],
            "image/png": "[encoded data removed]"
          },
          "metadata": {
            "needs_background": "light"
          }
        }
      ],
      "source": [
        "fig = plt.figure(figsize = (5, 4))\n",
        "plt.scatter(X[:, 0], X[:, 1], c = Y)\n",
        "plt.colorbar()\n",
        "plt.show()"
      ]
    },
    {
      "cell_type": "markdown",
      "metadata": {
        "id": "Rxswg-FKj7RQ"
      },
      "source": [
        "## 2. Define Model"
      ]
    },
    {
      "cell_type": "code",
      "execution_count": 7,
      "metadata": {
        "id": "eA8-5J4vj7RS"
      },
      "outputs": [],
      "source": [
        "model = nn.Sequential(\n",
        "    nn.Linear(2, 1000),\n",
        "    nn.ReLU(),\n",
        "    nn.Linear(1000, 1000),\n",
        "    nn.ReLU(),\n",
        "    nn.Linear(1000, 1),\n",
        "    nn.Sigmoid()\n",
        ")"
      ]
    },
    {
      "cell_type": "markdown",
      "metadata": {
        "id": "kElxQbe0j7RT"
      },
      "source": [
        "## 3. Train Model"
      ]
    },
    {
      "cell_type": "code",
      "execution_count": 8,
      "metadata": {
        "id": "d_YFoO35j7RU"
      },
      "outputs": [],
      "source": [
        "loss = nn.BCELoss()\n",
        "optimizer = optim.SGD(model.parameters(), lr=0.1)"
      ]
    },
    {
      "cell_type": "code",
      "execution_count": 9,
      "metadata": {
        "id": "_nhZoBJmj7RU"
      },
      "outputs": [],
      "source": [
        "num_epochs = 10"
      ]
    },
    {
      "cell_type": "code",
      "execution_count": 10,
      "metadata": {
        "scrolled": false,
        "id": "07j7bvx1j7RV",
        "outputId": "454a3d97-94df-4515-e820-615878d33878",
        "colab": {
          "base_uri": "https://localhost:8080/"
        }
      },
      "outputs": [
        {
          "output_type": "stream",
          "name": "stdout",
          "text": [
            "lter [1/10], Loss: 0.6637\n",
            "lter [2/10], Loss: 0.6429\n",
            "lter [3/10], Loss: 0.4894\n",
            "lter [4/10], Loss: 0.3585\n",
            "lter [5/10], Loss: 0.3606\n",
            "lter [6/10], Loss: 0.3273\n",
            "lter [7/10], Loss: 0.2818\n",
            "lter [8/10], Loss: 0.2442\n",
            "lter [9/10], Loss: 0.2131\n",
            "lter [10/10], Loss: 0.1790\n",
            "Learning Finished!\n"
          ]
        }
      ],
      "source": [
        "model.train()\n",
        "    \n",
        "for i, (batch_data, batch_labels) in enumerate(train_loader):\n",
        "\n",
        "    X = batch_data\n",
        "    Y = batch_labels\n",
        "\n",
        "    pre = model(X)\n",
        "    cost = loss(pre.squeeze(), Y)\n",
        "\n",
        "    optimizer.zero_grad()\n",
        "    cost.backward()\n",
        "    optimizer.step()\n",
        "    \n",
        "    print('lter [%d/%d], Loss: %.4f'%(i+1, len(train_loader), cost.item()))\n",
        "    \n",
        "print(\"Learning Finished!\")"
      ]
    },
    {
      "cell_type": "markdown",
      "metadata": {
        "id": "St37p3eej7RX"
      },
      "source": [
        "## 4. Test Model"
      ]
    },
    {
      "cell_type": "code",
      "execution_count": 11,
      "metadata": {
        "id": "BMxdJJiAj7RX",
        "outputId": "057c634f-54d7-43df-8929-fa3ffe60d40b",
        "colab": {
          "base_uri": "https://localhost:8080/"
        }
      },
      "outputs": [
        {
          "output_type": "stream",
          "name": "stdout",
          "text": [
            "Accuracy of test images: 100.000000 %\n",
            "Misclassified : 0 %\n"
          ]
        }
      ],
      "source": [
        "correct = 0\n",
        "total = 0\n",
        "\n",
        "for data, labels in test_loader:\n",
        "    \n",
        "    outputs = model(data)\n",
        "    \n",
        "    predicted = outputs.squeeze().data > 0.5\n",
        "    total += data.shape[0]\n",
        "    correct += (predicted == labels).sum()\n",
        "    \n",
        "print('Accuracy of test images: %f %%' % (100 * float(correct) / total))\n",
        "print('Misclassified : %d %%' % (total - correct))"
      ]
    },
    {
      "cell_type": "markdown",
      "metadata": {
        "id": "p-Cw-jTmj7RY"
      },
      "source": [
        "## 5. Decision Boundary"
      ]
    },
    {
      "cell_type": "code",
      "execution_count": 12,
      "metadata": {
        "id": "PWb7Ubvzj7RY",
        "outputId": "df9997df-685f-42e9-96cd-30e3af0f797f",
        "colab": {
          "base_uri": "https://localhost:8080/"
        }
      },
      "outputs": [
        {
          "output_type": "stream",
          "name": "stderr",
          "text": [
            "/usr/local/lib/python3.7/dist-packages/torch/functional.py:445: UserWarning: torch.meshgrid: in an upcoming release, it will be required to pass the indexing argument. (Triggered internally at  ../aten/src/ATen/native/TensorShape.cpp:2157.)\n",
            "  return _VF.meshgrid(tensors, **kwargs)  # type: ignore[attr-defined]\n"
          ]
        }
      ],
      "source": [
        "grid_size = 500\n",
        "x = torch.linspace(-5, 5, grid_size)\n",
        "y = torch.linspace(-5, 5, grid_size)\n",
        "xv, yv = torch.meshgrid(x, y)"
      ]
    },
    {
      "cell_type": "code",
      "execution_count": 13,
      "metadata": {
        "id": "hvdakTs0j7RZ",
        "outputId": "08465721-51e8-4320-a34a-e824b7acdac4",
        "colab": {
          "base_uri": "https://localhost:8080/"
        }
      },
      "outputs": [
        {
          "output_type": "execute_result",
          "data": {
            "text/plain": [
              "(torch.Size([500, 500]), torch.Size([500, 500]))"
            ]
          },
          "metadata": {},
          "execution_count": 13
        }
      ],
      "source": [
        "xv.shape, yv.shape"
      ]
    },
    {
      "cell_type": "code",
      "execution_count": 14,
      "metadata": {
        "id": "78YvOHWrj7Ra"
      },
      "outputs": [],
      "source": [
        "xv = xv.reshape(-1, 1)\n",
        "yv = yv.reshape(-1, 1)"
      ]
    },
    {
      "cell_type": "code",
      "execution_count": 15,
      "metadata": {
        "id": "jvpgSN2-j7Ra",
        "outputId": "8b8606d4-b1e1-437e-f862-6bf605848f73",
        "colab": {
          "base_uri": "https://localhost:8080/"
        }
      },
      "outputs": [
        {
          "output_type": "execute_result",
          "data": {
            "text/plain": [
              "tensor([[-5.0000, -5.0000],\n",
              "        [-5.0000, -4.9800],\n",
              "        [-5.0000, -4.9599],\n",
              "        ...,\n",
              "        [ 5.0000,  4.9599],\n",
              "        [ 5.0000,  4.9800],\n",
              "        [ 5.0000,  5.0000]])"
            ]
          },
          "metadata": {},
          "execution_count": 15
        }
      ],
      "source": [
        "torch.cat([xv, yv], dim=1)"
      ]
    },
    {
      "cell_type": "code",
      "execution_count": 16,
      "metadata": {
        "id": "wzCQy5DWj7Rb"
      },
      "outputs": [],
      "source": [
        "z = model(torch.cat([xv, yv], dim=1)) > 0.5"
      ]
    },
    {
      "cell_type": "code",
      "execution_count": 17,
      "metadata": {
        "id": "thB8gX6Pj7Rc",
        "outputId": "4fdd7cf8-49b2-4751-f903-7a1dcf029f12",
        "colab": {
          "base_uri": "https://localhost:8080/",
          "height": 269
        }
      },
      "outputs": [
        {
          "output_type": "display_data",
          "data": {
            "text/plain": [
              "<Figure size 360x288 with 2 Axes>"
            ],
            "image/png": "[encoded data removed]"
          },
          "metadata": {
            "needs_background": "light"
          }
        }
      ],
      "source": [
        "x = xv.data.numpy().reshape(grid_size, grid_size)\n",
        "y = yv.data.numpy().reshape(grid_size, grid_size)\n",
        "z = z.data.numpy().reshape(grid_size, grid_size)\n",
        "\n",
        "fig = plt.figure(figsize = (5, 4))\n",
        "plt.scatter(X[:, 0], X[:, 1], c = Y)\n",
        "plt.contourf(x, y, z, alpha=0.3)\n",
        "plt.colorbar()\n",
        "plt.show()"
      ]
    },
    {
      "cell_type": "code",
      "execution_count": 17,
      "metadata": {
        "id": "_8BamNpvj7Re"
      },
      "outputs": [],
      "source": [
        ""
      ]
    }
  ],
  "metadata": {
    "kernelspec": {
      "display_name": "Python 3",
      "language": "python",
      "name": "python3"
    },
    "language_info": {
      "codemirror_mode": {
        "name": "ipython",
        "version": 3
      },
      "file_extension": ".py",
      "mimetype": "text/x-python",
      "name": "python",
      "nbconvert_exporter": "python",
      "pygments_lexer": "ipython3",
      "version": "3.6.5"
    },
    "colab": {
      "name": "09. Neural Networks with Sphere example.ipynb",
      "provenance": [],
      "include_colab_link": true
    }
  },
  "nbformat": 4,
  "nbformat_minor": 0
}