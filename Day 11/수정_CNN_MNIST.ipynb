{
  "cells": [
    {
      "cell_type": "markdown",
      "id": "49267eb1",
      "metadata": {
        "id": "49267eb1"
      },
      "source": [
        "# CNN"
      ]
    },
    {
      "cell_type": "markdown",
      "source": [
        "출처: https://github.com/SLCFLAB/Fintech2022, https://github.com/Harry24k/Pytorch-Basic\n"
      ],
      "metadata": {
        "id": "c4AVgEr1tq2r"
      },
      "id": "c4AVgEr1tq2r"
    },
    {
      "cell_type": "markdown",
      "source": [
        "GPU 사용하는 방법: 런타임 -> 런타임 유형 변경 -> GPU\n",
        "\n",
        "\n",
        "\n"
      ],
      "metadata": {
        "id": "JsOj53QKtawL"
      },
      "id": "JsOj53QKtawL"
    },
    {
      "cell_type": "code",
      "execution_count": 1,
      "id": "d63013a9",
      "metadata": {
        "id": "d63013a9"
      },
      "outputs": [],
      "source": [
        "import torch\n",
        "import torch.nn as nn\n",
        "import torch.optim as optim\n",
        "from torch.utils.data import DataLoader\n",
        "\n",
        "import torchvision.utils\n",
        "import torchvision.datasets as dsets\n",
        "import torchvision.transforms as transforms\n",
        "\n",
        "import numpy as np\n",
        "import random\n",
        "import os\n",
        "\n",
        "import matplotlib.pyplot as plt\n",
        "%matplotlib inline"
      ]
    },
    {
      "cell_type": "markdown",
      "source": [
        "#### torchvision.datasets.MNIST 설명\n",
        "https://pytorch.org/vision/stable/generated/torchvision.datasets.MNIST.html#torchvision.datasets.MNIST \n",
        "\n",
        "* train (bool, optional) – If True, creates dataset from train-images\n",
        "* transform (callable, optional) – A function/transform that takes in an PIL image and returns a transformed version."
      ],
      "metadata": {
        "id": "sgf2MwFU2eT2"
      },
      "id": "sgf2MwFU2eT2"
    },
    {
      "cell_type": "markdown",
      "id": "f3be5262",
      "metadata": {
        "id": "f3be5262"
      },
      "source": [
        "## Load data"
      ]
    },
    {
      "cell_type": "code",
      "execution_count": 22,
      "id": "68ecb96b",
      "metadata": {
        "id": "68ecb96b"
      },
      "outputs": [],
      "source": [
        "train_data = dsets.MNIST(root='data/',\n",
        "                         train=True,\n",
        "                         transform=transforms.ToTensor(), #데이터를 텐서형태로 바꾸어줌 (0~255를 0~1 사이 값으로) #PILToTensor\n",
        "                         download=True) #해당 경로에 이미 데이터 있으면 다운 생략\n",
        "\n",
        "test_data = dsets.MNIST(root='data/',\n",
        "                        train=False,\n",
        "                        transform=transforms.ToTensor(),\n",
        "                        download=True)"
      ]
    },
    {
      "cell_type": "code",
      "source": [
        "train_data[0] #28x28 tensor, label"
      ],
      "metadata": {
        "colab": {
          "base_uri": "https://localhost:8080/"
        },
        "id": "k7XYT-r4TJQX",
        "outputId": "9159ba52-298b-4fab-c8f2-09092b17e42a"
      },
      "id": "k7XYT-r4TJQX",
      "execution_count": 23,
      "outputs": [
        {
          "output_type": "execute_result",
          "data": {
            "text/plain": [
              "(tensor([[[0.0000, 0.0000, 0.0000, 0.0000, 0.0000, 0.0000, 0.0000, 0.0000,\n",
              "           0.0000, 0.0000, 0.0000, 0.0000, 0.0000, 0.0000, 0.0000, 0.0000,\n",
              "           0.0000, 0.0000, 0.0000, 0.0000, 0.0000, 0.0000, 0.0000, 0.0000,\n",
              "           0.0000, 0.0000, 0.0000, 0.0000],\n",
              "          [0.0000, 0.0000, 0.0000, 0.0000, 0.0000, 0.0000, 0.0000, 0.0000,\n",
              "           0.0000, 0.0000, 0.0000, 0.0000, 0.0000, 0.0000, 0.0000, 0.0000,\n",
              "           0.0000, 0.0000, 0.0000, 0.0000, 0.0000, 0.0000, 0.0000, 0.0000,\n",
              "           0.0000, 0.0000, 0.0000, 0.0000],\n",
              "          [0.0000, 0.0000, 0.0000, 0.0000, 0.0000, 0.0000, 0.0000, 0.0000,\n",
              "           0.0000, 0.0000, 0.0000, 0.0000, 0.0000, 0.0000, 0.0000, 0.0000,\n",
              "           0.0000, 0.0000, 0.0000, 0.0000, 0.0000, 0.0000, 0.0000, 0.0000,\n",
              "           0.0000, 0.0000, 0.0000, 0.0000],\n",
              "          [0.0000, 0.0000, 0.0000, 0.0000, 0.0000, 0.0000, 0.0000, 0.0000,\n",
              "           0.0000, 0.0000, 0.0000, 0.0000, 0.0000, 0.0000, 0.0000, 0.0000,\n",
              "           0.0000, 0.0000, 0.0000, 0.0000, 0.0000, 0.0000, 0.0000, 0.0000,\n",
              "           0.0000, 0.0000, 0.0000, 0.0000],\n",
              "          [0.0000, 0.0000, 0.0000, 0.0000, 0.0000, 0.0000, 0.0000, 0.0000,\n",
              "           0.0000, 0.0000, 0.0000, 0.0000, 0.0000, 0.0000, 0.0000, 0.0000,\n",
              "           0.0000, 0.0000, 0.0000, 0.0000, 0.0000, 0.0000, 0.0000, 0.0000,\n",
              "           0.0000, 0.0000, 0.0000, 0.0000],\n",
              "          [0.0000, 0.0000, 0.0000, 0.0000, 0.0000, 0.0000, 0.0000, 0.0000,\n",
              "           0.0000, 0.0000, 0.0000, 0.0000, 0.0118, 0.0706, 0.0706, 0.0706,\n",
              "           0.4941, 0.5333, 0.6863, 0.1020, 0.6510, 1.0000, 0.9686, 0.4980,\n",
              "           0.0000, 0.0000, 0.0000, 0.0000],\n",
              "          [0.0000, 0.0000, 0.0000, 0.0000, 0.0000, 0.0000, 0.0000, 0.0000,\n",
              "           0.1176, 0.1412, 0.3686, 0.6039, 0.6667, 0.9922, 0.9922, 0.9922,\n",
              "           0.9922, 0.9922, 0.8824, 0.6745, 0.9922, 0.9490, 0.7647, 0.2510,\n",
              "           0.0000, 0.0000, 0.0000, 0.0000],\n",
              "          [0.0000, 0.0000, 0.0000, 0.0000, 0.0000, 0.0000, 0.0000, 0.1922,\n",
              "           0.9333, 0.9922, 0.9922, 0.9922, 0.9922, 0.9922, 0.9922, 0.9922,\n",
              "           0.9922, 0.9843, 0.3647, 0.3216, 0.3216, 0.2196, 0.1529, 0.0000,\n",
              "           0.0000, 0.0000, 0.0000, 0.0000],\n",
              "          [0.0000, 0.0000, 0.0000, 0.0000, 0.0000, 0.0000, 0.0000, 0.0706,\n",
              "           0.8588, 0.9922, 0.9922, 0.9922, 0.9922, 0.9922, 0.7765, 0.7137,\n",
              "           0.9686, 0.9451, 0.0000, 0.0000, 0.0000, 0.0000, 0.0000, 0.0000,\n",
              "           0.0000, 0.0000, 0.0000, 0.0000],\n",
              "          [0.0000, 0.0000, 0.0000, 0.0000, 0.0000, 0.0000, 0.0000, 0.0000,\n",
              "           0.3137, 0.6118, 0.4196, 0.9922, 0.9922, 0.8039, 0.0431, 0.0000,\n",
              "           0.1686, 0.6039, 0.0000, 0.0000, 0.0000, 0.0000, 0.0000, 0.0000,\n",
              "           0.0000, 0.0000, 0.0000, 0.0000],\n",
              "          [0.0000, 0.0000, 0.0000, 0.0000, 0.0000, 0.0000, 0.0000, 0.0000,\n",
              "           0.0000, 0.0549, 0.0039, 0.6039, 0.9922, 0.3529, 0.0000, 0.0000,\n",
              "           0.0000, 0.0000, 0.0000, 0.0000, 0.0000, 0.0000, 0.0000, 0.0000,\n",
              "           0.0000, 0.0000, 0.0000, 0.0000],\n",
              "          [0.0000, 0.0000, 0.0000, 0.0000, 0.0000, 0.0000, 0.0000, 0.0000,\n",
              "           0.0000, 0.0000, 0.0000, 0.5451, 0.9922, 0.7451, 0.0078, 0.0000,\n",
              "           0.0000, 0.0000, 0.0000, 0.0000, 0.0000, 0.0000, 0.0000, 0.0000,\n",
              "           0.0000, 0.0000, 0.0000, 0.0000],\n",
              "          [0.0000, 0.0000, 0.0000, 0.0000, 0.0000, 0.0000, 0.0000, 0.0000,\n",
              "           0.0000, 0.0000, 0.0000, 0.0431, 0.7451, 0.9922, 0.2745, 0.0000,\n",
              "           0.0000, 0.0000, 0.0000, 0.0000, 0.0000, 0.0000, 0.0000, 0.0000,\n",
              "           0.0000, 0.0000, 0.0000, 0.0000],\n",
              "          [0.0000, 0.0000, 0.0000, 0.0000, 0.0000, 0.0000, 0.0000, 0.0000,\n",
              "           0.0000, 0.0000, 0.0000, 0.0000, 0.1373, 0.9451, 0.8824, 0.6275,\n",
              "           0.4235, 0.0039, 0.0000, 0.0000, 0.0000, 0.0000, 0.0000, 0.0000,\n",
              "           0.0000, 0.0000, 0.0000, 0.0000],\n",
              "          [0.0000, 0.0000, 0.0000, 0.0000, 0.0000, 0.0000, 0.0000, 0.0000,\n",
              "           0.0000, 0.0000, 0.0000, 0.0000, 0.0000, 0.3176, 0.9412, 0.9922,\n",
              "           0.9922, 0.4667, 0.0980, 0.0000, 0.0000, 0.0000, 0.0000, 0.0000,\n",
              "           0.0000, 0.0000, 0.0000, 0.0000],\n",
              "          [0.0000, 0.0000, 0.0000, 0.0000, 0.0000, 0.0000, 0.0000, 0.0000,\n",
              "           0.0000, 0.0000, 0.0000, 0.0000, 0.0000, 0.0000, 0.1765, 0.7294,\n",
              "           0.9922, 0.9922, 0.5882, 0.1059, 0.0000, 0.0000, 0.0000, 0.0000,\n",
              "           0.0000, 0.0000, 0.0000, 0.0000],\n",
              "          [0.0000, 0.0000, 0.0000, 0.0000, 0.0000, 0.0000, 0.0000, 0.0000,\n",
              "           0.0000, 0.0000, 0.0000, 0.0000, 0.0000, 0.0000, 0.0000, 0.0627,\n",
              "           0.3647, 0.9882, 0.9922, 0.7333, 0.0000, 0.0000, 0.0000, 0.0000,\n",
              "           0.0000, 0.0000, 0.0000, 0.0000],\n",
              "          [0.0000, 0.0000, 0.0000, 0.0000, 0.0000, 0.0000, 0.0000, 0.0000,\n",
              "           0.0000, 0.0000, 0.0000, 0.0000, 0.0000, 0.0000, 0.0000, 0.0000,\n",
              "           0.0000, 0.9765, 0.9922, 0.9765, 0.2510, 0.0000, 0.0000, 0.0000,\n",
              "           0.0000, 0.0000, 0.0000, 0.0000],\n",
              "          [0.0000, 0.0000, 0.0000, 0.0000, 0.0000, 0.0000, 0.0000, 0.0000,\n",
              "           0.0000, 0.0000, 0.0000, 0.0000, 0.0000, 0.0000, 0.1804, 0.5098,\n",
              "           0.7176, 0.9922, 0.9922, 0.8118, 0.0078, 0.0000, 0.0000, 0.0000,\n",
              "           0.0000, 0.0000, 0.0000, 0.0000],\n",
              "          [0.0000, 0.0000, 0.0000, 0.0000, 0.0000, 0.0000, 0.0000, 0.0000,\n",
              "           0.0000, 0.0000, 0.0000, 0.0000, 0.1529, 0.5804, 0.8980, 0.9922,\n",
              "           0.9922, 0.9922, 0.9804, 0.7137, 0.0000, 0.0000, 0.0000, 0.0000,\n",
              "           0.0000, 0.0000, 0.0000, 0.0000],\n",
              "          [0.0000, 0.0000, 0.0000, 0.0000, 0.0000, 0.0000, 0.0000, 0.0000,\n",
              "           0.0000, 0.0000, 0.0941, 0.4471, 0.8667, 0.9922, 0.9922, 0.9922,\n",
              "           0.9922, 0.7882, 0.3059, 0.0000, 0.0000, 0.0000, 0.0000, 0.0000,\n",
              "           0.0000, 0.0000, 0.0000, 0.0000],\n",
              "          [0.0000, 0.0000, 0.0000, 0.0000, 0.0000, 0.0000, 0.0000, 0.0000,\n",
              "           0.0902, 0.2588, 0.8353, 0.9922, 0.9922, 0.9922, 0.9922, 0.7765,\n",
              "           0.3176, 0.0078, 0.0000, 0.0000, 0.0000, 0.0000, 0.0000, 0.0000,\n",
              "           0.0000, 0.0000, 0.0000, 0.0000],\n",
              "          [0.0000, 0.0000, 0.0000, 0.0000, 0.0000, 0.0000, 0.0706, 0.6706,\n",
              "           0.8588, 0.9922, 0.9922, 0.9922, 0.9922, 0.7647, 0.3137, 0.0353,\n",
              "           0.0000, 0.0000, 0.0000, 0.0000, 0.0000, 0.0000, 0.0000, 0.0000,\n",
              "           0.0000, 0.0000, 0.0000, 0.0000],\n",
              "          [0.0000, 0.0000, 0.0000, 0.0000, 0.2157, 0.6745, 0.8863, 0.9922,\n",
              "           0.9922, 0.9922, 0.9922, 0.9569, 0.5216, 0.0431, 0.0000, 0.0000,\n",
              "           0.0000, 0.0000, 0.0000, 0.0000, 0.0000, 0.0000, 0.0000, 0.0000,\n",
              "           0.0000, 0.0000, 0.0000, 0.0000],\n",
              "          [0.0000, 0.0000, 0.0000, 0.0000, 0.5333, 0.9922, 0.9922, 0.9922,\n",
              "           0.8314, 0.5294, 0.5176, 0.0627, 0.0000, 0.0000, 0.0000, 0.0000,\n",
              "           0.0000, 0.0000, 0.0000, 0.0000, 0.0000, 0.0000, 0.0000, 0.0000,\n",
              "           0.0000, 0.0000, 0.0000, 0.0000],\n",
              "          [0.0000, 0.0000, 0.0000, 0.0000, 0.0000, 0.0000, 0.0000, 0.0000,\n",
              "           0.0000, 0.0000, 0.0000, 0.0000, 0.0000, 0.0000, 0.0000, 0.0000,\n",
              "           0.0000, 0.0000, 0.0000, 0.0000, 0.0000, 0.0000, 0.0000, 0.0000,\n",
              "           0.0000, 0.0000, 0.0000, 0.0000],\n",
              "          [0.0000, 0.0000, 0.0000, 0.0000, 0.0000, 0.0000, 0.0000, 0.0000,\n",
              "           0.0000, 0.0000, 0.0000, 0.0000, 0.0000, 0.0000, 0.0000, 0.0000,\n",
              "           0.0000, 0.0000, 0.0000, 0.0000, 0.0000, 0.0000, 0.0000, 0.0000,\n",
              "           0.0000, 0.0000, 0.0000, 0.0000],\n",
              "          [0.0000, 0.0000, 0.0000, 0.0000, 0.0000, 0.0000, 0.0000, 0.0000,\n",
              "           0.0000, 0.0000, 0.0000, 0.0000, 0.0000, 0.0000, 0.0000, 0.0000,\n",
              "           0.0000, 0.0000, 0.0000, 0.0000, 0.0000, 0.0000, 0.0000, 0.0000,\n",
              "           0.0000, 0.0000, 0.0000, 0.0000]]]), 5)"
            ]
          },
          "metadata": {},
          "execution_count": 23
        }
      ]
    },
    {
      "cell_type": "code",
      "source": [
        "import matplotlib.pyplot as plt\n",
        "figure = plt.figure(figsize=(10, 8))\n",
        "cols, rows = 5, 5\n",
        "for i in range(1, cols * rows + 1):\n",
        "    sample_idx = torch.randint(len(train_data), size=(1,)).item()\n",
        "    img, label = train_data[sample_idx]\n",
        "    figure.add_subplot(rows, cols, i)\n",
        "    plt.title(label)\n",
        "    plt.axis(\"off\")\n",
        "    plt.imshow(img.squeeze(), cmap=\"gray\")\n",
        "plt.show()\n"
      ],
      "metadata": {
        "id": "2bHxhdWBa24f",
        "outputId": "6c4a5629-8a38-49dd-dfba-07c87b4f949f",
        "colab": {
          "base_uri": "https://localhost:8080/",
          "height": 482
        }
      },
      "id": "2bHxhdWBa24f",
      "execution_count": null,
      "outputs": [
        {
          "output_type": "display_data",
          "data": {
            "text/plain": [
              "<Figure size 720x576 with 25 Axes>"
            ],
            "image/png": "[encoded data removed]"
          },
          "metadata": {
            "needs_background": "light"
          }
        }
      ]
    },
    {
      "cell_type": "code",
      "source": [
        "print(len(train_data))\n",
        "print(len(test_data))"
      ],
      "metadata": {
        "id": "h5AsFM4x4yol",
        "outputId": "33bee457-2314-4a61-e5d3-9afaff3a931f",
        "colab": {
          "base_uri": "https://localhost:8080/"
        }
      },
      "id": "h5AsFM4x4yol",
      "execution_count": null,
      "outputs": [
        {
          "output_type": "stream",
          "name": "stdout",
          "text": [
            "60000\n",
            "10000\n"
          ]
        }
      ]
    },
    {
      "cell_type": "markdown",
      "source": [
        "MNIST 학습 데이터 셋은 총 60000장으로 구성되어 있음.  \n",
        "6만장이라는 데이터 학습을 한 번에 하려면 시간이 굉장히 비효율적으로 리소스를 사용하기 때문에 Batch size로 나누어주어 쪼개서 학습을 하겠다는 의미.  \n",
        "여기서는 batch size를 100 -> 총 600번의 step을 통해 1 epoch을 돌게 된다. \n",
        "* dataloader: https://pytorch.org/docs/stable/data.html "
      ],
      "metadata": {
        "id": "iUnJlai66ECu"
      },
      "id": "iUnJlai66ECu"
    },
    {
      "cell_type": "code",
      "execution_count": 10,
      "id": "e0d0747d",
      "metadata": {
        "id": "e0d0747d"
      },
      "outputs": [],
      "source": [
        "batch_size = 100 # 한번에 할 연산량\n",
        "\n",
        "#데이터를 100개씩 임의로 불러옴 \n",
        "train_loader = DataLoader(dataset=train_data,\n",
        "                          batch_size=batch_size,\n",
        "                          shuffle=True)\n",
        "\n",
        "test_loader = DataLoader(dataset=test_data,\n",
        "                         batch_size=batch_size,\n",
        "                         shuffle=False)"
      ]
    },
    {
      "cell_type": "code",
      "source": [
        "len(train_loader)"
      ],
      "metadata": {
        "id": "ivbAhJzcXoBt",
        "outputId": "cb886431-e573-4d5d-8137-1032c3e3b2e0",
        "colab": {
          "base_uri": "https://localhost:8080/"
        }
      },
      "id": "ivbAhJzcXoBt",
      "execution_count": 24,
      "outputs": [
        {
          "output_type": "execute_result",
          "data": {
            "text/plain": [
              "600"
            ]
          },
          "metadata": {},
          "execution_count": 24
        }
      ]
    },
    {
      "cell_type": "markdown",
      "source": [
        "### CNN 모델 구조\n",
        "* neural network 모델을 선언할 때는 거의 대부분 nn.Module을 상속받는다.\n",
        "* __init__ 함수를 통해서 클래스를 초기화\n",
        "* nn.Conv2d (input_channel, out_channel, kernel size)\n",
        "  - 입력 데이터로부터 특징을 추출하는 층\n",
        "  - kernel size can be tuple, int\n",
        "  - https://bcho.tistory.com/1149\n",
        "* convolution layer의 activation function은 추출한 특성을 비선형 값으로 바꿔 주는 역할\n",
        "  - CNN에서 sigmoid가 아닌 ReLU 사용하는 이유? \"gradinet vanishing\" 때문에 역전파가 잘 안일어남\n",
        "* fc_layer: 컨볼루셔널 계층에서 특징이 추출이 되었으면 이 추출된 특징 값을 모델에 넣어서 분류"
      ],
      "metadata": {
        "id": "8e9KBisl7jaR"
      },
      "id": "8e9KBisl7jaR"
    },
    {
      "cell_type": "code",
      "execution_count": 13,
      "id": "5f61e6db",
      "metadata": {
        "id": "5f61e6db"
      },
      "outputs": [],
      "source": [
        "class CNN(nn.Module): #CNN이라는 클래스는 nn.Module을 상속받는다.\n",
        "    def __init__(self):\n",
        "        super(CNN, self).__init__() #초기화하지 않으면 부모 클래스를 상속받을 수 없음\n",
        "        \n",
        "        self.conv_layer = nn.Sequential( ## To DO: 주석으로 달아둔 shape과 다음 layer를 참고해 ?를 채워주세요\n",
        "                                #input: 100(batch) * 28 * 28\n",
        "            nn.Conv2d(1, 16, ?), #[100, ? ,24,24]: batch, channel, width, height\n",
        "            nn.ReLU(),\n",
        "            nn.Conv2d(16, ?, ?),#[100,32,?,?]\n",
        "            nn.ReLU(),\n",
        "            nn.MaxPool2d(2, 2),# [100,32,?,?]\n",
        "            nn.Conv2d(32, ?, 5),# [100,64,6,6]\n",
        "            nn.ReLU(),\n",
        "            nn.MaxPool2d(?, ?) # [100,64,3,3] -> 여기서 batch 빼고 나머지 64*3*3\n",
        "        )\n",
        "        \n",
        "        self.fc_layer = nn.Sequential(\n",
        "            nn.Linear(64*3*3, 100), #여기서 64*3*3 -> 100 \n",
        "            nn.ReLU(),\n",
        "            nn.Linear(100, 10)#100 -> 10\n",
        "        )       \n",
        "        \n",
        "    def forward(self,x):\n",
        "        out = self.conv_layer(x)\n",
        "        out = out.view(-1,64*3*3)\n",
        "        out = self.fc_layer(out)\n",
        "\n",
        "        return out"
      ]
    },
    {
      "cell_type": "code",
      "execution_count": 15,
      "id": "541823c9",
      "metadata": {
        "id": "541823c9"
      },
      "outputs": [],
      "source": [
        "model = CNN().cuda() ## GPU 사용"
      ]
    },
    {
      "cell_type": "markdown",
      "source": [
        "* CrossEntropy: classification에서 자주 사용되는 loss function\n",
        "* optimizer: SGD(stochastic gradient descent). \n",
        "큰 스텝씩 움직이면서 경사 하강하기 때문에, 일반 GD보다 수렴 속도가 빠름 "
      ],
      "metadata": {
        "id": "XwUwJzTz9jz8"
      },
      "id": "XwUwJzTz9jz8"
    },
    {
      "cell_type": "code",
      "execution_count": 16,
      "id": "a8b15fa5",
      "metadata": {
        "id": "a8b15fa5",
        "colab": {
          "base_uri": "https://localhost:8080/",
          "height": 183
        },
        "outputId": "c5699ce3-bc6f-401f-c3fb-b68967faa5f0"
      },
      "outputs": [
        {
          "output_type": "error",
          "ename": "AttributeError",
          "evalue": "ignored",
          "traceback": [
            "\u001b[0;31m---------------------------------------------------------------------------\u001b[0m",
            "\u001b[0;31mAttributeError\u001b[0m                            Traceback (most recent call last)",
            "\u001b[0;32m<ipython-input-16-c9351cdeebdc>\u001b[0m in \u001b[0;36m<module>\u001b[0;34m()\u001b[0m\n\u001b[1;32m      1\u001b[0m \u001b[0mloss\u001b[0m \u001b[0;34m=\u001b[0m \u001b[0mnn\u001b[0m\u001b[0;34m.\u001b[0m\u001b[0mCrossEntropyLoss\u001b[0m\u001b[0;34m(\u001b[0m\u001b[0;34m)\u001b[0m\u001b[0;34m\u001b[0m\u001b[0;34m\u001b[0m\u001b[0m\n\u001b[0;32m----> 2\u001b[0;31m \u001b[0moptimizer\u001b[0m \u001b[0;34m=\u001b[0m \u001b[0moptim\u001b[0m\u001b[0;34m.\u001b[0m\u001b[0mSGD\u001b[0m\u001b[0;34m(\u001b[0m\u001b[0mmodel\u001b[0m\u001b[0;34m.\u001b[0m\u001b[0mparameters\u001b[0m\u001b[0;34m(\u001b[0m\u001b[0;34m)\u001b[0m\u001b[0;34m,\u001b[0m \u001b[0mlr\u001b[0m\u001b[0;34m=\u001b[0m\u001b[0;36m0.01\u001b[0m\u001b[0;34m)\u001b[0m\u001b[0;34m\u001b[0m\u001b[0;34m\u001b[0m\u001b[0m\n\u001b[0m",
            "\u001b[0;31mAttributeError\u001b[0m: 'CNN' object has no attribute 'parameters'"
          ]
        }
      ],
      "source": [
        "loss = nn.CrossEntropyLoss()\n",
        "optimizer = optim.SGD(model.parameters(), lr=0.01)"
      ]
    },
    {
      "cell_type": "markdown",
      "id": "c66b374b",
      "metadata": {
        "id": "c66b374b"
      },
      "source": [
        "## Train model"
      ]
    },
    {
      "cell_type": "markdown",
      "source": [
        "#### train의 기본 구조\n",
        "* output = model(data) : 모델에서 정의한 forward 단계실행. 모델에 data를 전달하여 예상하는 label 값 계산\n",
        "* cost = criterion(output, label) : 모델에서 나온 output과 label을 이용해 loss 계산\n",
        "* optimizer.zero_grad() : 갱신할 Variable들에 대한 모든 변화도를 0으로 만듬\n",
        "* cost.backward() : 역전파 단계 실행. 모델의 Variable들에 대한 손실의 변화도를 계산\n",
        "* optimizer.step() : 가중치 갱신\n",
        "* epoch은 전체 트레이닝 셋이 신경망을 통과한 횟수를 의미함."
      ],
      "metadata": {
        "id": "XY2uXr14GFsP"
      },
      "id": "XY2uXr14GFsP"
    },
    {
      "cell_type": "code",
      "execution_count": null,
      "id": "e31d46c2",
      "metadata": {
        "id": "e31d46c2"
      },
      "outputs": [],
      "source": [
        "num_epochs = 3"
      ]
    },
    {
      "cell_type": "markdown",
      "source": [
        "* .zero_grad(): 역전파 실행하기 전에 그래디언트를 0으로 만듦. (초기화)"
      ],
      "metadata": {
        "id": "T06vQMw5I-54"
      },
      "id": "T06vQMw5I-54"
    },
    {
      "cell_type": "code",
      "execution_count": null,
      "id": "2325aaef",
      "metadata": {
        "scrolled": true,
        "id": "2325aaef",
        "outputId": "025fa829-e539-47ec-99bf-5c89a99200a0",
        "colab": {
          "base_uri": "https://localhost:8080/"
        }
      },
      "outputs": [
        {
          "output_type": "stream",
          "name": "stdout",
          "text": [
            "Epoch [1/3], lter [300/600], Loss: 0.0691\n",
            "Epoch [1/3], lter [600/600], Loss: 0.0821\n",
            "Epoch [2/3], lter [300/600], Loss: 0.0616\n",
            "Epoch [2/3], lter [600/600], Loss: 0.0744\n",
            "Epoch [3/3], lter [300/600], Loss: 0.0541\n",
            "Epoch [3/3], lter [600/600], Loss: 0.0566\n"
          ]
        }
      ],
      "source": [
        "for epoch in range(num_epochs):\n",
        "\n",
        "    total_batch = len(train_data) // batch_size #60000//100 = 600 steps per 1 epoch\n",
        "\n",
        "    #train_loader : MNIST의 train 데이터를 받아오는 함수. data, label 값을 return 해줌. \n",
        "    for i, (batch_images, batch_labels) in enumerate(train_loader):\n",
        "\n",
        "        X = batch_images.cuda()\n",
        "        Y = batch_labels.cuda()\n",
        "\n",
        "        pre = model(X)\n",
        "        cost = loss(pre, Y)\n",
        "\n",
        "        optimizer.zero_grad() \n",
        "        cost.backward()\n",
        "        optimizer.step()\n",
        "\n",
        "        if (i+1) % 300 == 0: #300, 600번째 스텝에 대해서만 프린트(한 에폭당)\n",
        "            print('Epoch [%d/%d], lter [%d/%d], Loss: %.4f'\n",
        "                 %(epoch+1, num_epochs, i+1, total_batch, cost.item()))"
      ]
    },
    {
      "cell_type": "markdown",
      "id": "a2bcae4a",
      "metadata": {
        "id": "a2bcae4a"
      },
      "source": [
        "## Test model"
      ]
    },
    {
      "cell_type": "code",
      "execution_count": null,
      "id": "335238b8",
      "metadata": {
        "id": "335238b8",
        "outputId": "88118f55-bbb3-41a7-d7ed-0565108e122d",
        "colab": {
          "base_uri": "https://localhost:8080/"
        }
      },
      "outputs": [
        {
          "output_type": "stream",
          "name": "stdout",
          "text": [
            "Accuracy of test images: 95.960000 %\n"
          ]
        }
      ],
      "source": [
        "correct = 0\n",
        "total = 0\n",
        "\n",
        "for images, labels in test_loader:\n",
        "    \n",
        "    images = images.cuda()\n",
        "    outputs = model(images)\n",
        "    \n",
        "    _, predicted = torch.max(outputs.data, 1) #outputs.data 행마다 최대 (torch.max(tensor, dim))\n",
        "    #최댓값 자체는 필요없으므로 언더바로 표현, predicted는 인덱스 나타냄(즉, 라벨)\n",
        "    \n",
        "    total += labels.size(0)\n",
        "    correct += (predicted == labels.cuda()).sum()\n",
        "    \n",
        "print('Accuracy of test images: %f %%' % (100 * float(correct) / total))"
      ]
    },
    {
      "cell_type": "code",
      "source": [
        "print(labels[:10])\n",
        "classes = ('0', '1','2','3','4','5','6','7','8','9')\n",
        "outputs = model(images)\n",
        "\n",
        "print('Predicted: ', ' '.join('%5s' % classes[predicted[j]] for j in range(10)))"
      ],
      "metadata": {
        "id": "rZ-g0ZBcc__2",
        "outputId": "aa14fdf1-a063-4124-981d-bfa7944c10cd",
        "colab": {
          "base_uri": "https://localhost:8080/"
        }
      },
      "id": "rZ-g0ZBcc__2",
      "execution_count": null,
      "outputs": [
        {
          "output_type": "stream",
          "name": "stdout",
          "text": [
            "tensor([8, 9, 0, 1, 2, 3, 4, 5, 6, 7])\n",
            "Predicted:      8     9     0     1     3     7     4     5     6     7\n"
          ]
        }
      ]
    }
  ],
  "metadata": {
    "kernelspec": {
      "display_name": "Python 3",
      "language": "python",
      "name": "python3"
    },
    "language_info": {
      "codemirror_mode": {
        "name": "ipython",
        "version": 3
      },
      "file_extension": ".py",
      "mimetype": "text/x-python",
      "name": "python",
      "nbconvert_exporter": "python",
      "pygments_lexer": "ipython3",
      "version": "3.8.8"
    },
    "colab": {
      "name": "\bCNN_MNIST",
      "provenance": [],
      "collapsed_sections": []
    },
    "accelerator": "GPU"
  },
  "nbformat": 4,
  "nbformat_minor": 5
}