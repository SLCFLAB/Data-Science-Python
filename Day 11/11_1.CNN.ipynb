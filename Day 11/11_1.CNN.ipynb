{
  "cells": [
    {
      "cell_type": "markdown",
      "metadata": {
        "id": "view-in-github",
        "colab_type": "text"
      },
      "source": [
        "<a href=\"https://colab.research.google.com/github/SLCFLAB/Data-Science-Python/blob/main/Day%2011/11_1.CNN.ipynb\" target=\"_parent\"><img src=\"https://colab.research.google.com/assets/colab-badge.svg\" alt=\"Open In Colab\"/></a>"
      ]
    },
    {
      "cell_type": "markdown",
      "id": "49267eb1",
      "metadata": {
        "id": "49267eb1"
      },
      "source": [
        "# CNN"
      ]
    },
    {
      "cell_type": "markdown",
      "source": [
        "출처: https://github.com/SLCFLAB/Fintech2022"
      ],
      "metadata": {
        "id": "c4AVgEr1tq2r"
      },
      "id": "c4AVgEr1tq2r"
    },
    {
      "cell_type": "markdown",
      "id": "99d18698",
      "metadata": {
        "id": "99d18698"
      },
      "source": [
        "- 선형신경망의 경우, pixel을 펴서 학습시키기 때문에 공간적 구조를 잃어버릴 수 있음. \n",
        "- 또한, 저장되어야 하는 parameter가 매우 많음.\n",
        "- 이미지 처리를 위해 CNN 모델이 만들어짐.\n",
        "- 필터의 연산 활용함.\n"
      ]
    },
    {
      "cell_type": "code",
      "execution_count": null,
      "id": "d63013a9",
      "metadata": {
        "id": "d63013a9"
      },
      "outputs": [],
      "source": [
        "import torch\n",
        "import torch.nn as nn\n",
        "import torch.optim as optim\n",
        "from torch.utils.data import DataLoader\n",
        "\n",
        "import torchvision.utils\n",
        "import torchvision.datasets as dsets\n",
        "import torchvision.transforms as transforms\n",
        "\n",
        "import numpy as np\n",
        "import random\n",
        "import os\n",
        "\n",
        "import matplotlib.pyplot as plt\n",
        "%matplotlib inline"
      ]
    },
    {
      "cell_type": "markdown",
      "id": "f3be5262",
      "metadata": {
        "id": "f3be5262"
      },
      "source": [
        "## Load data"
      ]
    },
    {
      "cell_type": "code",
      "execution_count": null,
      "id": "68ecb96b",
      "metadata": {
        "id": "68ecb96b"
      },
      "outputs": [],
      "source": [
        "train_data = dsets.MNIST(root='data/',\n",
        "                         train=True,\n",
        "                         transform=transforms.ToTensor(),\n",
        "                         download=True)\n",
        "\n",
        "test_data = dsets.MNIST(root='data/',\n",
        "                        train=False,\n",
        "                        transform=transforms.ToTensor(),\n",
        "                        download=True)"
      ]
    },
    {
      "cell_type": "code",
      "execution_count": null,
      "id": "e0d0747d",
      "metadata": {
        "id": "e0d0747d"
      },
      "outputs": [],
      "source": [
        "batch_size = 100 # 한번에 할 연산량\n",
        "\n",
        "train_loader = DataLoader(dataset=train_data,\n",
        "                          batch_size=batch_size,\n",
        "                          shuffle=True)\n",
        "\n",
        "test_loader = DataLoader(dataset=test_data,\n",
        "                         batch_size=batch_size,\n",
        "                         shuffle=False)"
      ]
    },
    {
      "cell_type": "markdown",
      "id": "4c0a73a7",
      "metadata": {
        "id": "4c0a73a7"
      },
      "source": [
        "## Define model"
      ]
    },
    {
      "cell_type": "markdown",
      "id": "87e5897d",
      "metadata": {
        "id": "87e5897d"
      },
      "source": [
        "- CNN 모델은 일반적으로 covolution과 pooling layer로 구성되어 있음(보통 그 사이에 ReLU layer을 넣지만, 최근 연구결과 순서를 바꿔도 됨이 밝혀짐)\n",
        "- filter을 이용해 연산을 하면 크기가 줄어듦, padding을 통해 이를 해결할 수 있음.\n",
        "- pooling을 통해 중요한 정보만 남게 할 수 있음. 보통 max pooling을 사용하며, 예를들어 2*2 max pooling을 하면 크기는 반으로 줄어듦.\n",
        "- stride를 통해 건너뛰면서 연산을 할 수도 있음.\n"
      ]
    },
    {
      "cell_type": "markdown",
      "id": "28930770",
      "metadata": {
        "id": "28930770"
      },
      "source": [
        "모델 만들 때 크기 계산 필수적임!!!\n",
        "- input : N * N\n",
        "- padding : P\n",
        "- stride : S\n",
        "- Filter : F * F"
      ]
    },
    {
      "cell_type": "markdown",
      "id": "7e78d405",
      "metadata": {
        "id": "7e78d405"
      },
      "source": [
        "### output = {[(N+2P-F)/S] + 1} * {[(N+2P-F)/S] + 1} \n",
        "여기서 []는 가우스기호"
      ]
    },
    {
      "cell_type": "code",
      "execution_count": null,
      "id": "5f61e6db",
      "metadata": {
        "id": "5f61e6db"
      },
      "outputs": [],
      "source": [
        "class CNN(nn.Module):\n",
        "    def __init__(self):\n",
        "        super(CNN, self).__init__()\n",
        "        \n",
        "        self.conv_layer = nn.Sequential(\n",
        "            nn.Conv2d(1, 16, 5), #[100,16,24,24]\n",
        "            nn.ReLU(),\n",
        "            nn.Conv2d(16, 32, 5),#[100,32,20,20]\n",
        "            nn.ReLU(),\n",
        "            nn.MaxPool2d(2, 2),#100,32,10,10\n",
        "            nn.Conv2d(32, 64, 5),#100,64,6,6\n",
        "            nn.ReLU(),\n",
        "            nn.MaxPool2d(2, 2)#100,64,3,3 -> 여기서 batch 빼고 나머지 64*3*3\n",
        "        )\n",
        "        \n",
        "        self.fc_layer = nn.Sequential(\n",
        "            nn.Linear(64*3*3, 100), #여기서 64*3*3 -> 100\n",
        "            nn.ReLU(),\n",
        "            nn.Linear(100, 10)#100 -> 10\n",
        "        )       \n",
        "        \n",
        "    def forward(self,x):\n",
        "        out = self.conv_layer(x)\n",
        "        out = out.view(-1,64*3*3)\n",
        "        out = self.fc_layer(out)\n",
        "\n",
        "        return out"
      ]
    },
    {
      "cell_type": "code",
      "execution_count": null,
      "id": "541823c9",
      "metadata": {
        "id": "541823c9"
      },
      "outputs": [],
      "source": [
        "model = CNN().cuda() ## GPU 사용"
      ]
    },
    {
      "cell_type": "code",
      "execution_count": null,
      "id": "a8b15fa5",
      "metadata": {
        "id": "a8b15fa5"
      },
      "outputs": [],
      "source": [
        "loss = nn.CrossEntropyLoss()\n",
        "optimizer = optim.SGD(model.parameters(), lr=0.01)"
      ]
    },
    {
      "cell_type": "markdown",
      "id": "c66b374b",
      "metadata": {
        "id": "c66b374b"
      },
      "source": [
        "## Train model"
      ]
    },
    {
      "cell_type": "code",
      "execution_count": null,
      "id": "e31d46c2",
      "metadata": {
        "id": "e31d46c2"
      },
      "outputs": [],
      "source": [
        "num_epochs = 3"
      ]
    },
    {
      "cell_type": "code",
      "execution_count": null,
      "id": "2325aaef",
      "metadata": {
        "scrolled": true,
        "id": "2325aaef",
        "outputId": "dace788a-edb1-4055-da01-851a1e2fe786"
      },
      "outputs": [
        {
          "name": "stdout",
          "output_type": "stream",
          "text": [
            "Epoch [1/3], lter [300/600], Loss: 2.2847\n",
            "Epoch [1/3], lter [600/600], Loss: 1.9827\n",
            "Epoch [2/3], lter [300/600], Loss: 0.4843\n",
            "Epoch [2/3], lter [600/600], Loss: 0.2493\n",
            "Epoch [3/3], lter [300/600], Loss: 0.1727\n",
            "Epoch [3/3], lter [600/600], Loss: 0.1895\n"
          ]
        }
      ],
      "source": [
        "for epoch in range(num_epochs):\n",
        "\n",
        "    total_batch = len(train_data) // batch_size\n",
        "\n",
        "    for i, (batch_images, batch_labels) in enumerate(train_loader):\n",
        "\n",
        "        X = batch_images.cuda()\n",
        "        Y = batch_labels.cuda()\n",
        "\n",
        "        pre = model(X)\n",
        "        cost = loss(pre, Y)\n",
        "\n",
        "        optimizer.zero_grad()\n",
        "        cost.backward()\n",
        "        optimizer.step()\n",
        "\n",
        "        if (i+1) % 300 == 0:\n",
        "            print('Epoch [%d/%d], lter [%d/%d], Loss: %.4f'\n",
        "                 %(epoch+1, num_epochs, i+1, total_batch, cost.item()))"
      ]
    },
    {
      "cell_type": "markdown",
      "id": "a2bcae4a",
      "metadata": {
        "id": "a2bcae4a"
      },
      "source": [
        "## Test model"
      ]
    },
    {
      "cell_type": "code",
      "execution_count": null,
      "id": "335238b8",
      "metadata": {
        "id": "335238b8",
        "outputId": "022a98d3-15d4-459f-dcf6-a5dfc271d601"
      },
      "outputs": [
        {
          "name": "stdout",
          "output_type": "stream",
          "text": [
            "Accuracy of test images: 94.590000 %\n"
          ]
        }
      ],
      "source": [
        "correct = 0\n",
        "total = 0\n",
        "\n",
        "for images, labels in test_loader:\n",
        "    \n",
        "    images = images.cuda()\n",
        "    outputs = model(images)\n",
        "    \n",
        "    _, predicted = torch.max(outputs.data, 1)\n",
        "    \n",
        "    total += labels.size(0)\n",
        "    correct += (predicted == labels.cuda()).sum()\n",
        "    \n",
        "print('Accuracy of test images: %f %%' % (100 * float(correct) / total))"
      ]
    }
  ],
  "metadata": {
    "kernelspec": {
      "display_name": "Python 3",
      "language": "python",
      "name": "python3"
    },
    "language_info": {
      "codemirror_mode": {
        "name": "ipython",
        "version": 3
      },
      "file_extension": ".py",
      "mimetype": "text/x-python",
      "name": "python",
      "nbconvert_exporter": "python",
      "pygments_lexer": "ipython3",
      "version": "3.8.8"
    },
    "colab": {
      "name": "ML_day10_2.ipynb의 사본",
      "provenance": [],
      "include_colab_link": true
    }
  },
  "nbformat": 4,
  "nbformat_minor": 5
}