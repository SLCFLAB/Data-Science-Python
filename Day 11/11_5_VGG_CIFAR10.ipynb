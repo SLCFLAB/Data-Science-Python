{
  "cells": [
    {
      "cell_type": "markdown",
      "metadata": {
        "id": "view-in-github",
        "colab_type": "text"
      },
      "source": [
        "<a href=\"https://colab.research.google.com/github/SLCFLAB/Data-Science-Python/blob/main/Day%2011/11_5_VGG_CIFAR10.ipynb\" target=\"_parent\"><img src=\"https://colab.research.google.com/assets/colab-badge.svg\" alt=\"Open In Colab\"/></a>"
      ]
    },
    {
      "cell_type": "markdown",
      "id": "49267eb1",
      "metadata": {
        "id": "49267eb1"
      },
      "source": [
        "# AlexNet"
      ]
    },
    {
      "cell_type": "markdown",
      "source": [
        "출처: \n",
        "https://github.com/soapisnotfat/pytorch-cifar10\n"
      ],
      "metadata": {
        "id": "c4AVgEr1tq2r"
      },
      "id": "c4AVgEr1tq2r"
    },
    {
      "cell_type": "code",
      "execution_count": 63,
      "id": "d63013a9",
      "metadata": {
        "id": "d63013a9"
      },
      "outputs": [],
      "source": [
        "import torch\n",
        "import torch.nn as nn\n",
        "import torch.optim as optim\n",
        "from torch.utils.data import DataLoader\n",
        "\n",
        "import torchvision.utils\n",
        "import torchvision.datasets as dsets\n",
        "import torchvision.transforms as transforms\n",
        "\n",
        "import numpy as np\n",
        "import random\n",
        "import os\n",
        "\n",
        "import matplotlib.pyplot as plt\n",
        "%matplotlib inline"
      ]
    },
    {
      "cell_type": "markdown",
      "id": "f3be5262",
      "metadata": {
        "id": "f3be5262"
      },
      "source": [
        "## Load data"
      ]
    },
    {
      "cell_type": "code",
      "execution_count": 64,
      "id": "68ecb96b",
      "metadata": {
        "id": "68ecb96b",
        "colab": {
          "base_uri": "https://localhost:8080/"
        },
        "outputId": "2454d370-ace9-435a-d4e4-91139ce352fe"
      },
      "outputs": [
        {
          "output_type": "stream",
          "name": "stdout",
          "text": [
            "Files already downloaded and verified\n",
            "Files already downloaded and verified\n"
          ]
        }
      ],
      "source": [
        "train_data = dsets.CIFAR10(root='./data', \n",
        "                           train=True,\n",
        "                           download=True, \n",
        "                           transform=transforms.ToTensor())\n",
        "\n",
        "test_data  = dsets.CIFAR10(root='./data', \n",
        "                           train=False,\n",
        "                           download=True, \n",
        "                           transform=transforms.ToTensor())"
      ]
    },
    {
      "cell_type": "code",
      "execution_count": 66,
      "id": "e0d0747d",
      "metadata": {
        "id": "e0d0747d"
      },
      "outputs": [],
      "source": [
        "batch_size = 128 # 한번에 할 연산량\n",
        "\n",
        "train_loader = DataLoader(dataset=train_data,\n",
        "                          batch_size=batch_size,\n",
        "                          shuffle=True)\n",
        "\n",
        "test_loader = DataLoader(dataset=test_data,\n",
        "                         batch_size=batch_size,\n",
        "                         shuffle=False)"
      ]
    },
    {
      "cell_type": "markdown",
      "id": "4c0a73a7",
      "metadata": {
        "id": "4c0a73a7"
      },
      "source": [
        "## Define model"
      ]
    },
    {
      "cell_type": "code",
      "execution_count": 67,
      "id": "5f61e6db",
      "metadata": {
        "id": "5f61e6db"
      },
      "outputs": [],
      "source": [
        "cfg = {\n",
        "    'VGG11': [64, 'M', 128, 'M', 256, 256, 'M', 512, 512, 'M', 512, 512, 'M'],\n",
        "    'VGG13': [64, 64, 'M', 128, 128, 'M', 256, 256, 'M', 512, 512, 'M', 512, 512, 'M'],\n",
        "    'VGG16': [64, 64, 'M', 128, 128, 'M', 256, 256, 256, 'M', 512, 512, 512, 'M', 512, 512, 512, 'M'],\n",
        "    'VGG19': [64, 64, 'M', 128, 128, 'M', 256, 256, 256, 256, 'M', 512, 512, 512, 512, 'M', 512, 512, 512, 512, 'M'],\n",
        "}\n",
        "\n",
        "\n",
        "class VGG(nn.Module):\n",
        "    def __init__(self, vgg_name):\n",
        "        super(VGG, self).__init__()\n",
        "        self.features = self._make_layers(cfg[vgg_name])\n",
        "        self.classifier = nn.Linear(512, 10)\n",
        "\n",
        "    def forward(self, x):\n",
        "        out = self.features(x)\n",
        "        out = out.view(out.size(0), -1)\n",
        "        out = self.classifier(out)\n",
        "        return out\n",
        "\n",
        "    def _make_layers(self, cfg):\n",
        "        layers = []\n",
        "        in_channels = 3\n",
        "        for x in cfg:\n",
        "            if x == 'M':\n",
        "                layers += [nn.MaxPool2d(kernel_size=2, stride=2)]\n",
        "            else:\n",
        "                layers += [nn.Conv2d(in_channels, x, kernel_size=3, padding=1),\n",
        "                           nn.BatchNorm2d(x),\n",
        "                           nn.ReLU(inplace=True)]\n",
        "                in_channels = x\n",
        "        layers += [nn.AvgPool2d(kernel_size=1, stride=1)]\n",
        "        return nn.Sequential(*layers)\n",
        "\n",
        "\n",
        "def VGG11():\n",
        "    return VGG('VGG11')\n",
        "\n",
        "\n",
        "def VGG13():\n",
        "    return VGG('VGG13')\n",
        "\n",
        "\n",
        "def VGG16():\n",
        "    return VGG('VGG16')\n",
        "\n",
        "\n",
        "def VGG19():\n",
        "    return VGG('VGG19')"
      ]
    },
    {
      "cell_type": "code",
      "execution_count": 68,
      "id": "541823c9",
      "metadata": {
        "id": "541823c9"
      },
      "outputs": [],
      "source": [
        "model = VGG('VGG19').cuda() ## GPU 사용"
      ]
    },
    {
      "cell_type": "code",
      "execution_count": 69,
      "id": "a8b15fa5",
      "metadata": {
        "id": "a8b15fa5"
      },
      "outputs": [],
      "source": [
        "loss = nn.CrossEntropyLoss()\n",
        "optimizer = optim.Adam(model.parameters(), lr=0.001)"
      ]
    },
    {
      "cell_type": "markdown",
      "id": "c66b374b",
      "metadata": {
        "id": "c66b374b"
      },
      "source": [
        "## Train model"
      ]
    },
    {
      "cell_type": "code",
      "execution_count": 70,
      "id": "e31d46c2",
      "metadata": {
        "id": "e31d46c2"
      },
      "outputs": [],
      "source": [
        "num_epochs = 3"
      ]
    },
    {
      "cell_type": "code",
      "execution_count": 71,
      "id": "2325aaef",
      "metadata": {
        "scrolled": true,
        "id": "2325aaef",
        "outputId": "7cd8a52e-7f5f-466f-a371-b953c26e5f31",
        "colab": {
          "base_uri": "https://localhost:8080/"
        }
      },
      "outputs": [
        {
          "output_type": "stream",
          "name": "stdout",
          "text": [
            "Epoch [1/3], lter [300/390], Loss: 1.6697\n",
            "Epoch [2/3], lter [300/390], Loss: 1.0327\n",
            "Epoch [3/3], lter [300/390], Loss: 0.9098\n"
          ]
        }
      ],
      "source": [
        "for epoch in range(num_epochs):\n",
        "\n",
        "    total_batch = len(train_data) // batch_size\n",
        "\n",
        "    for i, (batch_images, batch_labels) in enumerate(train_loader):\n",
        "\n",
        "        X = batch_images.cuda()\n",
        "        Y = batch_labels.cuda()\n",
        "\n",
        "        pre = model(X)\n",
        "        cost = loss(pre, Y)\n",
        "\n",
        "        optimizer.zero_grad()\n",
        "        cost.backward()\n",
        "        optimizer.step()\n",
        "\n",
        "        if (i+1) % 300 == 0:\n",
        "            print('Epoch [%d/%d], lter [%d/%d], Loss: %.4f'\n",
        "                 %(epoch+1, num_epochs, i+1, total_batch, cost.item()))"
      ]
    },
    {
      "cell_type": "markdown",
      "id": "a2bcae4a",
      "metadata": {
        "id": "a2bcae4a"
      },
      "source": [
        "## Test model"
      ]
    },
    {
      "cell_type": "code",
      "execution_count": 72,
      "id": "335238b8",
      "metadata": {
        "id": "335238b8",
        "outputId": "5143f3e5-28aa-48bd-c84c-353bd3b73fc2",
        "colab": {
          "base_uri": "https://localhost:8080/"
        }
      },
      "outputs": [
        {
          "output_type": "stream",
          "name": "stdout",
          "text": [
            "Accuracy of test images: 69.540000 %\n"
          ]
        }
      ],
      "source": [
        "correct = 0\n",
        "total = 0\n",
        "\n",
        "for images, labels in test_loader:\n",
        "    \n",
        "    images = images.cuda()\n",
        "    outputs = model(images)\n",
        "    \n",
        "    _, predicted = torch.max(outputs.data, 1)\n",
        "    \n",
        "    total += labels.size(0)\n",
        "    correct += (predicted == labels.cuda()).sum()\n",
        "    \n",
        "print('Accuracy of test images: %f %%' % (100 * float(correct) / total))"
      ]
    },
    {
      "cell_type": "code",
      "source": [
        ""
      ],
      "metadata": {
        "id": "igjeQEjvb-ju"
      },
      "id": "igjeQEjvb-ju",
      "execution_count": null,
      "outputs": []
    }
  ],
  "metadata": {
    "kernelspec": {
      "display_name": "Python 3",
      "language": "python",
      "name": "python3"
    },
    "language_info": {
      "codemirror_mode": {
        "name": "ipython",
        "version": 3
      },
      "file_extension": ".py",
      "mimetype": "text/x-python",
      "name": "python",
      "nbconvert_exporter": "python",
      "pygments_lexer": "ipython3",
      "version": "3.8.8"
    },
    "colab": {
      "name": "11_5_VGG_CIFAR10",
      "provenance": [],
      "collapsed_sections": [],
      "include_colab_link": true
    },
    "accelerator": "GPU"
  },
  "nbformat": 4,
  "nbformat_minor": 5
}