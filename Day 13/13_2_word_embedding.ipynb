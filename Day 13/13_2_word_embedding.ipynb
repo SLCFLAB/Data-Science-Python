{
  "cells": [
    {
      "cell_type": "markdown",
      "metadata": {
        "id": "view-in-github",
        "colab_type": "text"
      },
      "source": [
        "<a href=\"https://colab.research.google.com/github/SLCFLAB/Data-Science-Python/blob/main/Day%2013/13_2_word_embedding.ipynb\" target=\"_parent\"><img src=\"https://colab.research.google.com/assets/colab-badge.svg\" alt=\"Open In Colab\"/></a>"
      ]
    },
    {
      "cell_type": "markdown",
      "source": [
        "# Word Embedding"
      ],
      "metadata": {
        "id": "Z7FBcTcPLOfq"
      }
    },
    {
      "cell_type": "markdown",
      "source": [
        "자연어차리는 언어데이터를 기반으로 정보를 추출하고 분석, 활용하는 기술\n",
        "- 분석 단위 설정: 토큰화(Tokenize)\n",
        "- 불필요한 단어 제거: 스토핑(Stopping)\n",
        "> a, the, 은, 는, 이, 가\n",
        "- 단어의 형태 고려: 스테밍(Stemming)\n",
        "> ed, ing, 하다, 했다, 할 것이다\n"
      ],
      "metadata": {
        "id": "hvdQPk7tRKgI"
      }
    },
    {
      "cell_type": "markdown",
      "source": [
        "이렇게 전처리 한 후 어떻게 해야할까?\n",
        "> Word Embedding(단어를 벡터화 하는 것)\n",
        "- Bag of Words\n",
        "- Word2Vec"
      ],
      "metadata": {
        "id": "_tSWrBXfSIWg"
      }
    },
    {
      "cell_type": "code",
      "execution_count": 1,
      "metadata": {
        "id": "5svSGT8uIAb4"
      },
      "outputs": [],
      "source": [
        "import torch\n",
        "import torch.nn as nn"
      ]
    },
    {
      "cell_type": "code",
      "source": [
        "train_data = '우리은행 분석방법론 과정 딥러닝 수업 시간입니다'"
      ],
      "metadata": {
        "id": "vG-GBY2XIc06"
      },
      "execution_count": 2,
      "outputs": []
    },
    {
      "cell_type": "code",
      "source": [
        "word_set = set(train_data.split())"
      ],
      "metadata": {
        "id": "VJy7Lg_CIcx9"
      },
      "execution_count": 3,
      "outputs": []
    },
    {
      "cell_type": "code",
      "source": [
        "vocab = {word: i+2 for i, word in enumerate(word_set)}\n",
        "vocab['<unk>'] = 0\n",
        "vocab['<pad>'] = 1\n",
        "print(vocab)"
      ],
      "metadata": {
        "colab": {
          "base_uri": "https://localhost:8080/"
        },
        "id": "kwVKOi6qIcu6",
        "outputId": "7163affe-fcdd-4007-a1f2-363778f938e6"
      },
      "execution_count": 4,
      "outputs": [
        {
          "output_type": "stream",
          "name": "stdout",
          "text": [
            "{'과정': 2, '시간입니다': 3, '딥러닝': 4, '수업': 5, '우리은행': 6, '분석방법론': 7, '<unk>': 0, '<pad>': 1}\n"
          ]
        }
      ]
    },
    {
      "cell_type": "code",
      "source": [
        "len(vocab)"
      ],
      "metadata": {
        "colab": {
          "base_uri": "https://localhost:8080/"
        },
        "id": "LPVE8PS6Kn8z",
        "outputId": "997fbea9-84ec-495d-bdff-f15bb4b3b1f5"
      },
      "execution_count": 5,
      "outputs": [
        {
          "output_type": "execute_result",
          "data": {
            "text/plain": [
              "8"
            ]
          },
          "metadata": {},
          "execution_count": 5
        }
      ]
    },
    {
      "cell_type": "code",
      "source": [
        "embedding_table = torch.FloatTensor([\n",
        "                               [ 0.0,  0.0,  0.0],\n",
        "                               [ 0.0,  0.0,  0.0],\n",
        "                               [ 0.2,  0.9,  0.3],\n",
        "                               [ 0.1,  0.5,  0.7],\n",
        "                               [ 0.2,  0.1,  0.8],\n",
        "                               [ 0.4,  0.1,  0.1],\n",
        "                               [ 0.1,  0.8,  0.9],\n",
        "                               [ 0.6,  0.1,  0.1]])"
      ],
      "metadata": {
        "id": "WW7tBZBuIcsg"
      },
      "execution_count": 6,
      "outputs": []
    },
    {
      "cell_type": "code",
      "source": [
        "sample = '분석방법론 과정 수업 재밌습니다'.split()\n",
        "idxes = []\n",
        "\n",
        "# 각 단어를 정수로 변환\n",
        "for word in sample:\n",
        "  try:\n",
        "    idxes.append(vocab[word])\n",
        "  # 단어 집합에 없는 단어일 경우 <unk>로 대체된다.\n",
        "  except KeyError:\n",
        "    idxes.append(vocab['<unk>'])\n",
        "idxes = torch.LongTensor(idxes)\n",
        "\n",
        "# 각 정수를 인덱스로 임베딩 테이블에서 값을 가져온다.\n",
        "lookup_result = embedding_table[idxes, :]\n",
        "print(lookup_result)"
      ],
      "metadata": {
        "id": "I33yF03MIcp5",
        "colab": {
          "base_uri": "https://localhost:8080/"
        },
        "outputId": "ec2e3893-ea39-492e-e112-1fc40b1a5d6b"
      },
      "execution_count": 7,
      "outputs": [
        {
          "output_type": "stream",
          "name": "stdout",
          "text": [
            "tensor([[0.6000, 0.1000, 0.1000],\n",
            "        [0.2000, 0.9000, 0.3000],\n",
            "        [0.4000, 0.1000, 0.1000],\n",
            "        [0.0000, 0.0000, 0.0000]])\n"
          ]
        }
      ]
    },
    {
      "cell_type": "markdown",
      "source": [
        "nn.Embedding 사용"
      ],
      "metadata": {
        "id": "cqU2RdaGLEPG"
      }
    },
    {
      "cell_type": "code",
      "source": [
        "train_data = '우리은행 분석방법론 과정 딥러닝 수업 시간입니다'\n",
        "\n",
        "# 중복을 제거한 단어들의 집합인 단어 집합 생성.\n",
        "word_set = set(train_data.split())\n",
        "\n",
        "# 단어 집합의 각 단어에 고유한 정수 맵핑.\n",
        "vocab = {tkn: i+2 for i, tkn in enumerate(word_set)}\n",
        "vocab['<unk>'] = 0\n",
        "vocab['<pad>'] = 1"
      ],
      "metadata": {
        "id": "wEZWjdrCIcnY"
      },
      "execution_count": 8,
      "outputs": []
    },
    {
      "cell_type": "code",
      "source": [
        "embedding_layer = nn.Embedding(num_embeddings=len(vocab), \n",
        "                               embedding_dim=3,\n",
        "                               padding_idx=1)"
      ],
      "metadata": {
        "id": "5TT19Dr4Ickz"
      },
      "execution_count": 9,
      "outputs": []
    },
    {
      "cell_type": "code",
      "source": [
        "print(embedding_layer.weight)\n"
      ],
      "metadata": {
        "id": "M415J7cXIcig",
        "colab": {
          "base_uri": "https://localhost:8080/"
        },
        "outputId": "132252f1-d35b-4151-807f-4fe440ee15af"
      },
      "execution_count": 10,
      "outputs": [
        {
          "output_type": "stream",
          "name": "stdout",
          "text": [
            "Parameter containing:\n",
            "tensor([[ 1.2210, -0.5159, -0.0428],\n",
            "        [ 0.0000,  0.0000,  0.0000],\n",
            "        [-0.5819,  0.6124,  0.1771],\n",
            "        [ 0.1883, -0.1404, -0.3063],\n",
            "        [ 1.1972, -0.1939,  0.0635],\n",
            "        [ 0.2754,  1.7144, -0.5651],\n",
            "        [-0.1080, -0.9608,  0.5468],\n",
            "        [ 0.3280,  0.2384,  0.6320]], requires_grad=True)\n"
          ]
        }
      ]
    },
    {
      "cell_type": "markdown",
      "source": [
        "## Bag of Words"
      ],
      "metadata": {
        "id": "OFuOCoCkUJP0"
      }
    },
    {
      "cell_type": "code",
      "source": [
        "!pip install konlpy"
      ],
      "metadata": {
        "colab": {
          "base_uri": "https://localhost:8080/"
        },
        "id": "nefy57IQUWJP",
        "outputId": "0ec7dc62-b022-442d-f856-346da2452601"
      },
      "execution_count": 11,
      "outputs": [
        {
          "output_type": "stream",
          "name": "stdout",
          "text": [
            "Collecting konlpy\n",
            "  Downloading konlpy-0.6.0-py2.py3-none-any.whl (19.4 MB)\n",
            "\u001b[K     |████████████████████████████████| 19.4 MB 506 kB/s \n",
            "\u001b[?25hRequirement already satisfied: lxml>=4.1.0 in /usr/local/lib/python3.7/dist-packages (from konlpy) (4.2.6)\n",
            "Requirement already satisfied: numpy>=1.6 in /usr/local/lib/python3.7/dist-packages (from konlpy) (1.21.6)\n",
            "Collecting JPype1>=0.7.0\n",
            "  Downloading JPype1-1.3.0-cp37-cp37m-manylinux_2_5_x86_64.manylinux1_x86_64.whl (448 kB)\n",
            "\u001b[K     |████████████████████████████████| 448 kB 68.6 MB/s \n",
            "\u001b[?25hRequirement already satisfied: typing-extensions in /usr/local/lib/python3.7/dist-packages (from JPype1>=0.7.0->konlpy) (4.2.0)\n",
            "Installing collected packages: JPype1, konlpy\n",
            "Successfully installed JPype1-1.3.0 konlpy-0.6.0\n"
          ]
        }
      ]
    },
    {
      "cell_type": "code",
      "source": [
        "from konlpy.tag import Okt\n",
        "\n",
        "okt = Okt()\n",
        "\n",
        "def build_bag_of_words(document):\n",
        "  # 온점 제거 및 형태소 분석\n",
        "  document = document.replace('.', '')\n",
        "  tokenized_document = okt.morphs(document)\n",
        "\n",
        "  word_to_index = {}\n",
        "  bow = []\n",
        "\n",
        "  for word in tokenized_document:  \n",
        "    if word not in word_to_index.keys():\n",
        "      word_to_index[word] = len(word_to_index)  \n",
        "      # BoW에 전부 기본값 1을 넣는다.\n",
        "      bow.insert(len(word_to_index) - 1, 1)\n",
        "    else:\n",
        "      # 재등장하는 단어의 인덱스\n",
        "      index = word_to_index.get(word)\n",
        "      # 재등장한 단어는 해당하는 인덱스의 위치에 1을 더한다.\n",
        "      bow[index] = bow[index] + 1\n",
        "\n",
        "  return word_to_index, bow"
      ],
      "metadata": {
        "id": "OGUX1RjIUKn_"
      },
      "execution_count": 12,
      "outputs": []
    },
    {
      "cell_type": "code",
      "source": [
        "doc1 = \"정부가 발표하는 물가상승률과 소비자가 느끼는 물가상승률은 다르다.\"\n",
        "vocab, bow = build_bag_of_words(doc1)\n",
        "print('vocabulary :', vocab)\n",
        "print('bag of words vector :', bow)"
      ],
      "metadata": {
        "colab": {
          "base_uri": "https://localhost:8080/"
        },
        "id": "NvDTi6q7UKkb",
        "outputId": "99a591c7-9564-4370-a3fa-7f2e548e5d6a"
      },
      "execution_count": 13,
      "outputs": [
        {
          "output_type": "stream",
          "name": "stdout",
          "text": [
            "vocabulary : {'정부': 0, '가': 1, '발표': 2, '하는': 3, '물가상승률': 4, '과': 5, '소비자': 6, '느끼는': 7, '은': 8, '다르다': 9}\n",
            "bag of words vector : [1, 2, 1, 1, 2, 1, 1, 1, 1, 1]\n"
          ]
        }
      ]
    },
    {
      "cell_type": "code",
      "execution_count": 14,
      "metadata": {
        "id": "b692cfb5"
      },
      "outputs": [],
      "source": [
        "import re\n",
        "import urllib.request\n",
        "import zipfile\n",
        "from lxml import etree\n",
        "from nltk.tokenize import word_tokenize, sent_tokenize"
      ]
    },
    {
      "cell_type": "markdown",
      "metadata": {
        "id": "a24029b1"
      },
      "source": [
        "## TF-IDF"
      ]
    },
    {
      "cell_type": "markdown",
      "source": [
        "TF-IDF란 출현 빈도를 사용해 어떤 단어가 문서내에서 얼마나 중요한지 나타내는 수치이다.\n",
        "TF-IDF가 높을수록 그 단어가 문서를 대표하는 성질을 띈다고 할 수 있다.\n",
        "- TF(term frequency): 문서 내에서 단어가 출현한 횟수\n",
        "- IDF(inverse document frequency): 단어가 출현한 문서 수의 역수"
      ],
      "metadata": {
        "id": "6w75Zeq9XaZ3"
      }
    },
    {
      "cell_type": "markdown",
      "source": [
        "TF가 높고, IDF가 적을수록 TF-IDF가 높다. 예를 들어 the는 TF가 높지만, the가 출현한 문서도 많기 때문에 그 숫자의 역인 IDF가 작아 문서 내에서 중요하지 않다고 할 수 있다."
      ],
      "metadata": {
        "id": "ui_hZ4gtYBNs"
      }
    },
    {
      "cell_type": "code",
      "execution_count": 15,
      "metadata": {
        "id": "9bd13625"
      },
      "outputs": [],
      "source": [
        "import pandas as pd"
      ]
    },
    {
      "cell_type": "code",
      "execution_count": 16,
      "metadata": {
        "id": "3f9a0a28"
      },
      "outputs": [],
      "source": [
        "def get_term_frequency(document, word_dict=None): # 문서 내의 단어들의 출현 빈도\n",
        "    if word_dict is None:\n",
        "        word_dict = {}\n",
        "    words = document.split()\n",
        "    \n",
        "    for w in words:\n",
        "        word_dict[w] = 1 + (0 if word_dict.get(w) is None else word_dict[2])\n",
        "        \n",
        "    return pd.Series(word_dict).sort_values(ascending=False)"
      ]
    },
    {
      "cell_type": "code",
      "execution_count": 17,
      "metadata": {
        "id": "9820d4cc"
      },
      "outputs": [],
      "source": [
        "def get_document_frequency(documents): # 각 단어가 몇 개의 문서에서 나타났는지\n",
        "    dicts = []\n",
        "    vocab = set([])\n",
        "    df = {}\n",
        "    \n",
        "    for d in documents:\n",
        "        tf = get_term_frequency(d)\n",
        "        dicts += [tf]\n",
        "        vocab = vocab | set(tf.keys())\n",
        "        \n",
        "    for v in list(vocab):\n",
        "        df[v] = 0\n",
        "        for dict_d in dicts:\n",
        "            if dict_d.get(v) is not None:\n",
        "                df[v] += 1\n",
        "    \n",
        "    return pd.Series(df).sort_values(ascending=False)\n",
        "        "
      ]
    },
    {
      "cell_type": "code",
      "execution_count": 18,
      "metadata": {
        "id": "963547e6"
      },
      "outputs": [],
      "source": [
        "from operator import itemgetter\n",
        "import numpy as np"
      ]
    },
    {
      "cell_type": "code",
      "execution_count": 19,
      "metadata": {
        "id": "b48009db"
      },
      "outputs": [],
      "source": [
        "def get_tfidf(docs):#TF-IDF 계산\n",
        "    vocab = {}\n",
        "    tfs = []\n",
        "    for d in docs:\n",
        "        vocab = get_term_frequency(d, vocab)\n",
        "        tfs += [get_term_frequency(d)]\n",
        "    df = get_document_frequency(docs)\n",
        "    \n",
        "    stats = []\n",
        "    for word, freq in vocab.items():\n",
        "        tf_idfs = []\n",
        "        for idx in range(len(docs)):\n",
        "            if tfs[idx].get(word) is not None:\n",
        "                tf_idfs += [tfs[idx][word] * np.log(len(docs) / df[word])]\n",
        "            else:\n",
        "                tf_idfs += [0]\n",
        "                \n",
        "        stats.append((word, freq, *tf_idfs, max(tf_idfs)))\n",
        "        \n",
        "    return pd.DataFrame(stats, columns = ('word',\n",
        "                                          'frequency',\n",
        "                                          'doc1',\n",
        "                                          'doc2',\n",
        "                                          'doc3',\n",
        "                                          'max')).sort_values('max', ascending=False)\n",
        "                "
      ]
    },
    {
      "cell_type": "code",
      "execution_count": 20,
      "metadata": {
        "id": "8cc712ab"
      },
      "outputs": [],
      "source": [
        "doc1 = \"나는 오늘 즐겁다.\"\n",
        "doc2 = \"너는 오늘 즐겁다.\"\n",
        "doc3 = \"즐거운 것은 오늘이 아니라 내일이다\""
      ]
    },
    {
      "cell_type": "code",
      "execution_count": 21,
      "metadata": {
        "id": "561e7727"
      },
      "outputs": [],
      "source": [
        "docs = [doc1, doc2, doc3]"
      ]
    },
    {
      "cell_type": "code",
      "execution_count": 22,
      "metadata": {
        "colab": {
          "base_uri": "https://localhost:8080/",
          "height": 331
        },
        "id": "ccc8fac9",
        "outputId": "18c09ba5-00e0-446d-b8eb-7981d9e66abb"
      },
      "outputs": [
        {
          "output_type": "execute_result",
          "data": {
            "text/plain": [
              "   word  frequency      doc1      doc2      doc3       max\n",
              "2    나는          1  1.098612  0.000000  0.000000  1.098612\n",
              "3    너는          1  0.000000  1.098612  0.000000  1.098612\n",
              "4   즐거운          1  0.000000  0.000000  1.098612  1.098612\n",
              "5    것은          1  0.000000  0.000000  1.098612  1.098612\n",
              "6   오늘이          1  0.000000  0.000000  1.098612  1.098612\n",
              "7   아니라          1  0.000000  0.000000  1.098612  1.098612\n",
              "8  내일이다          1  0.000000  0.000000  1.098612  1.098612\n",
              "0    오늘          2  0.405465  0.405465  0.000000  0.405465\n",
              "1  즐겁다.          2  0.405465  0.405465  0.000000  0.405465"
            ],
            "text/html": [
              "\n",
              "  <div id=\"df-7e05a94c-d2d6-4896-98a5-e4717ddc633d\">\n",
              "    <div class=\"colab-df-container\">\n",
              "      <div>\n",
              "<style scoped>\n",
              "    .dataframe tbody tr th:only-of-type {\n",
              "        vertical-align: middle;\n",
              "    }\n",
              "\n",
              "    .dataframe tbody tr th {\n",
              "        vertical-align: top;\n",
              "    }\n",
              "\n",
              "    .dataframe thead th {\n",
              "        text-align: right;\n",
              "    }\n",
              "</style>\n",
              "<table border=\"1\" class=\"dataframe\">\n",
              "  <thead>\n",
              "    <tr style=\"text-align: right;\">\n",
              "      <th></th>\n",
              "      <th>word</th>\n",
              "      <th>frequency</th>\n",
              "      <th>doc1</th>\n",
              "      <th>doc2</th>\n",
              "      <th>doc3</th>\n",
              "      <th>max</th>\n",
              "    </tr>\n",
              "  </thead>\n",
              "  <tbody>\n",
              "    <tr>\n",
              "      <th>2</th>\n",
              "      <td>나는</td>\n",
              "      <td>1</td>\n",
              "      <td>1.098612</td>\n",
              "      <td>0.000000</td>\n",
              "      <td>0.000000</td>\n",
              "      <td>1.098612</td>\n",
              "    </tr>\n",
              "    <tr>\n",
              "      <th>3</th>\n",
              "      <td>너는</td>\n",
              "      <td>1</td>\n",
              "      <td>0.000000</td>\n",
              "      <td>1.098612</td>\n",
              "      <td>0.000000</td>\n",
              "      <td>1.098612</td>\n",
              "    </tr>\n",
              "    <tr>\n",
              "      <th>4</th>\n",
              "      <td>즐거운</td>\n",
              "      <td>1</td>\n",
              "      <td>0.000000</td>\n",
              "      <td>0.000000</td>\n",
              "      <td>1.098612</td>\n",
              "      <td>1.098612</td>\n",
              "    </tr>\n",
              "    <tr>\n",
              "      <th>5</th>\n",
              "      <td>것은</td>\n",
              "      <td>1</td>\n",
              "      <td>0.000000</td>\n",
              "      <td>0.000000</td>\n",
              "      <td>1.098612</td>\n",
              "      <td>1.098612</td>\n",
              "    </tr>\n",
              "    <tr>\n",
              "      <th>6</th>\n",
              "      <td>오늘이</td>\n",
              "      <td>1</td>\n",
              "      <td>0.000000</td>\n",
              "      <td>0.000000</td>\n",
              "      <td>1.098612</td>\n",
              "      <td>1.098612</td>\n",
              "    </tr>\n",
              "    <tr>\n",
              "      <th>7</th>\n",
              "      <td>아니라</td>\n",
              "      <td>1</td>\n",
              "      <td>0.000000</td>\n",
              "      <td>0.000000</td>\n",
              "      <td>1.098612</td>\n",
              "      <td>1.098612</td>\n",
              "    </tr>\n",
              "    <tr>\n",
              "      <th>8</th>\n",
              "      <td>내일이다</td>\n",
              "      <td>1</td>\n",
              "      <td>0.000000</td>\n",
              "      <td>0.000000</td>\n",
              "      <td>1.098612</td>\n",
              "      <td>1.098612</td>\n",
              "    </tr>\n",
              "    <tr>\n",
              "      <th>0</th>\n",
              "      <td>오늘</td>\n",
              "      <td>2</td>\n",
              "      <td>0.405465</td>\n",
              "      <td>0.405465</td>\n",
              "      <td>0.000000</td>\n",
              "      <td>0.405465</td>\n",
              "    </tr>\n",
              "    <tr>\n",
              "      <th>1</th>\n",
              "      <td>즐겁다.</td>\n",
              "      <td>2</td>\n",
              "      <td>0.405465</td>\n",
              "      <td>0.405465</td>\n",
              "      <td>0.000000</td>\n",
              "      <td>0.405465</td>\n",
              "    </tr>\n",
              "  </tbody>\n",
              "</table>\n",
              "</div>\n",
              "      <button class=\"colab-df-convert\" onclick=\"convertToInteractive('df-7e05a94c-d2d6-4896-98a5-e4717ddc633d')\"\n",
              "              title=\"Convert this dataframe to an interactive table.\"\n",
              "              style=\"display:none;\">\n",
              "        \n",
              "  <svg xmlns=\"http://www.w3.org/2000/svg\" height=\"24px\"viewBox=\"0 0 24 24\"\n",
              "       width=\"24px\">\n",
              "    <path d=\"M0 0h24v24H0V0z\" fill=\"none\"/>\n",
              "    <path d=\"M18.56 5.44l.94 2.06.94-2.06 2.06-.94-2.06-.94-.94-2.06-.94 2.06-2.06.94zm-11 1L8.5 8.5l.94-2.06 2.06-.94-2.06-.94L8.5 2.5l-.94 2.06-2.06.94zm10 10l.94 2.06.94-2.06 2.06-.94-2.06-.94-.94-2.06-.94 2.06-2.06.94z\"/><path d=\"M17.41 7.96l-1.37-1.37c-.4-.4-.92-.59-1.43-.59-.52 0-1.04.2-1.43.59L10.3 9.45l-7.72 7.72c-.78.78-.78 2.05 0 2.83L4 21.41c.39.39.9.59 1.41.59.51 0 1.02-.2 1.41-.59l7.78-7.78 2.81-2.81c.8-.78.8-2.07 0-2.86zM5.41 20L4 18.59l7.72-7.72 1.47 1.35L5.41 20z\"/>\n",
              "  </svg>\n",
              "      </button>\n",
              "      \n",
              "  <style>\n",
              "    .colab-df-container {\n",
              "      display:flex;\n",
              "      flex-wrap:wrap;\n",
              "      gap: 12px;\n",
              "    }\n",
              "\n",
              "    .colab-df-convert {\n",
              "      background-color: #E8F0FE;\n",
              "      border: none;\n",
              "      border-radius: 50%;\n",
              "      cursor: pointer;\n",
              "      display: none;\n",
              "      fill: #1967D2;\n",
              "      height: 32px;\n",
              "      padding: 0 0 0 0;\n",
              "      width: 32px;\n",
              "    }\n",
              "\n",
              "    .colab-df-convert:hover {\n",
              "      background-color: #E2EBFA;\n",
              "      box-shadow: 0px 1px 2px rgba(60, 64, 67, 0.3), 0px 1px 3px 1px rgba(60, 64, 67, 0.15);\n",
              "      fill: #174EA6;\n",
              "    }\n",
              "\n",
              "    [theme=dark] .colab-df-convert {\n",
              "      background-color: #3B4455;\n",
              "      fill: #D2E3FC;\n",
              "    }\n",
              "\n",
              "    [theme=dark] .colab-df-convert:hover {\n",
              "      background-color: #434B5C;\n",
              "      box-shadow: 0px 1px 3px 1px rgba(0, 0, 0, 0.15);\n",
              "      filter: drop-shadow(0px 1px 2px rgba(0, 0, 0, 0.3));\n",
              "      fill: #FFFFFF;\n",
              "    }\n",
              "  </style>\n",
              "\n",
              "      <script>\n",
              "        const buttonEl =\n",
              "          document.querySelector('#df-7e05a94c-d2d6-4896-98a5-e4717ddc633d button.colab-df-convert');\n",
              "        buttonEl.style.display =\n",
              "          google.colab.kernel.accessAllowed ? 'block' : 'none';\n",
              "\n",
              "        async function convertToInteractive(key) {\n",
              "          const element = document.querySelector('#df-7e05a94c-d2d6-4896-98a5-e4717ddc633d');\n",
              "          const dataTable =\n",
              "            await google.colab.kernel.invokeFunction('convertToInteractive',\n",
              "                                                     [key], {});\n",
              "          if (!dataTable) return;\n",
              "\n",
              "          const docLinkHtml = 'Like what you see? Visit the ' +\n",
              "            '<a target=\"_blank\" href=https://colab.research.google.com/notebooks/data_table.ipynb>data table notebook</a>'\n",
              "            + ' to learn more about interactive tables.';\n",
              "          element.innerHTML = '';\n",
              "          dataTable['output_type'] = 'display_data';\n",
              "          await google.colab.output.renderOutput(dataTable, element);\n",
              "          const docLink = document.createElement('div');\n",
              "          docLink.innerHTML = docLinkHtml;\n",
              "          element.appendChild(docLink);\n",
              "        }\n",
              "      </script>\n",
              "    </div>\n",
              "  </div>\n",
              "  "
            ]
          },
          "metadata": {},
          "execution_count": 22
        }
      ],
      "source": [
        "get_tfidf(docs)"
      ]
    },
    {
      "cell_type": "code",
      "execution_count": 23,
      "metadata": {
        "id": "8904a099"
      },
      "outputs": [],
      "source": [
        "from sklearn.feature_extraction.text import TfidfVectorizer\n",
        "\n",
        "corpus = [\n",
        "    'All you need is love',\n",
        "    'I love you',\n",
        "    'I think I am in love with you'\n",
        "]\n",
        "\n",
        "tfidfv = TfidfVectorizer().fit(corpus)"
      ]
    },
    {
      "cell_type": "code",
      "execution_count": 24,
      "metadata": {
        "colab": {
          "base_uri": "https://localhost:8080/"
        },
        "id": "32dcb97b",
        "outputId": "5b7a6be7-8acd-4bda-fa73-66784c5db1cc"
      },
      "outputs": [
        {
          "output_type": "execute_result",
          "data": {
            "text/plain": [
              "array([[0.52004008, 0.        , 0.        , 0.52004008, 0.30714405,\n",
              "        0.52004008, 0.        , 0.        , 0.30714405],\n",
              "       [0.        , 0.        , 0.        , 0.        , 0.70710678,\n",
              "        0.        , 0.        , 0.        , 0.70710678],\n",
              "       [0.        , 0.46138073, 0.46138073, 0.        , 0.27249889,\n",
              "        0.        , 0.46138073, 0.46138073, 0.27249889]])"
            ]
          },
          "metadata": {},
          "execution_count": 24
        }
      ],
      "source": [
        "tfidfv.transform(corpus).toarray()"
      ]
    },
    {
      "cell_type": "code",
      "execution_count": 25,
      "metadata": {
        "colab": {
          "base_uri": "https://localhost:8080/"
        },
        "id": "844cc9e0",
        "outputId": "9ac79baf-4180-494a-c71e-551180f2bb6e"
      },
      "outputs": [
        {
          "output_type": "execute_result",
          "data": {
            "text/plain": [
              "{'all': 0,\n",
              " 'am': 1,\n",
              " 'in': 2,\n",
              " 'is': 3,\n",
              " 'love': 4,\n",
              " 'need': 5,\n",
              " 'think': 6,\n",
              " 'with': 7,\n",
              " 'you': 8}"
            ]
          },
          "metadata": {},
          "execution_count": 25
        }
      ],
      "source": [
        "tfidfv.vocabulary_"
      ]
    },
    {
      "cell_type": "code",
      "execution_count": 26,
      "metadata": {
        "id": "4cdb5461"
      },
      "outputs": [],
      "source": [
        "tfidfv_kor = TfidfVectorizer().fit(docs)"
      ]
    },
    {
      "cell_type": "code",
      "execution_count": 27,
      "metadata": {
        "colab": {
          "base_uri": "https://localhost:8080/"
        },
        "id": "0d83b95b",
        "outputId": "fe42440e-bb38-49ac-9c35-b299190859b6"
      },
      "outputs": [
        {
          "output_type": "execute_result",
          "data": {
            "text/plain": [
              "array([[0.        , 0.68091856, 0.        , 0.        , 0.        ,\n",
              "        0.51785612, 0.        , 0.        , 0.51785612],\n",
              "       [0.        , 0.        , 0.        , 0.68091856, 0.        ,\n",
              "        0.51785612, 0.        , 0.        , 0.51785612],\n",
              "       [0.4472136 , 0.        , 0.4472136 , 0.        , 0.4472136 ,\n",
              "        0.        , 0.4472136 , 0.4472136 , 0.        ]])"
            ]
          },
          "metadata": {},
          "execution_count": 27
        }
      ],
      "source": [
        "tfidfv_kor.transform(docs).toarray()"
      ]
    },
    {
      "cell_type": "code",
      "execution_count": 28,
      "metadata": {
        "colab": {
          "base_uri": "https://localhost:8080/"
        },
        "id": "446d1ee4",
        "outputId": "8158a539-6b2f-4011-892f-c2dc81321b58"
      },
      "outputs": [
        {
          "output_type": "execute_result",
          "data": {
            "text/plain": [
              "{'것은': 0,\n",
              " '나는': 1,\n",
              " '내일이다': 2,\n",
              " '너는': 3,\n",
              " '아니라': 4,\n",
              " '오늘': 5,\n",
              " '오늘이': 6,\n",
              " '즐거운': 7,\n",
              " '즐겁다': 8}"
            ]
          },
          "metadata": {},
          "execution_count": 28
        }
      ],
      "source": [
        "tfidfv_kor.vocabulary_"
      ]
    },
    {
      "cell_type": "markdown",
      "metadata": {
        "id": "e84adfb4"
      },
      "source": [
        "## N-gram"
      ]
    },
    {
      "cell_type": "code",
      "execution_count": 29,
      "metadata": {
        "id": "665b6218"
      },
      "outputs": [],
      "source": [
        "def custom_ngrams(text, n):\n",
        "    text = text.split(' ')\n",
        "    output = []\n",
        "    for i in range(len(text) - n + 1):\n",
        "        output.append(text[i:i+n])\n",
        "    return output"
      ]
    },
    {
      "cell_type": "code",
      "execution_count": 30,
      "metadata": {
        "id": "febd4867"
      },
      "outputs": [],
      "source": [
        "dynamite = 'Cause I\\'m in the stars tonight, So watch me bring the fire and set the night alight'"
      ]
    },
    {
      "cell_type": "code",
      "execution_count": 31,
      "metadata": {
        "colab": {
          "base_uri": "https://localhost:8080/"
        },
        "id": "2e7f366d",
        "outputId": "8a33e84e-7b96-42ff-8e63-d10d820405b7"
      },
      "outputs": [
        {
          "output_type": "stream",
          "name": "stdout",
          "text": [
            "[['Cause', \"I'm\", 'in'], [\"I'm\", 'in', 'the'], ['in', 'the', 'stars'], ['the', 'stars', 'tonight,'], ['stars', 'tonight,', 'So'], ['tonight,', 'So', 'watch'], ['So', 'watch', 'me'], ['watch', 'me', 'bring'], ['me', 'bring', 'the'], ['bring', 'the', 'fire'], ['the', 'fire', 'and'], ['fire', 'and', 'set'], ['and', 'set', 'the'], ['set', 'the', 'night'], ['the', 'night', 'alight']]\n"
          ]
        }
      ],
      "source": [
        "print(custom_ngrams(dynamite, 3))"
      ]
    },
    {
      "cell_type": "code",
      "execution_count": 32,
      "metadata": {
        "id": "42dbb8e3"
      },
      "outputs": [],
      "source": [
        "from nltk import ngrams"
      ]
    },
    {
      "cell_type": "code",
      "execution_count": 33,
      "metadata": {
        "id": "1cbd072a"
      },
      "outputs": [],
      "source": [
        "trigram = ngrams(dynamite.split(' '), 3)"
      ]
    },
    {
      "cell_type": "code",
      "execution_count": 34,
      "metadata": {
        "colab": {
          "base_uri": "https://localhost:8080/"
        },
        "id": "356ba667",
        "outputId": "f5f39823-8501-4607-cdb5-462b0af28599"
      },
      "outputs": [
        {
          "output_type": "stream",
          "name": "stdout",
          "text": [
            "('Cause', \"I'm\", 'in') (\"I'm\", 'in', 'the') ('in', 'the', 'stars') ('the', 'stars', 'tonight,') ('stars', 'tonight,', 'So') ('tonight,', 'So', 'watch') ('So', 'watch', 'me') ('watch', 'me', 'bring') ('me', 'bring', 'the') ('bring', 'the', 'fire') ('the', 'fire', 'and') ('fire', 'and', 'set') ('and', 'set', 'the') ('set', 'the', 'night') ('the', 'night', 'alight')\n"
          ]
        }
      ],
      "source": [
        "print(*trigram)"
      ]
    },
    {
      "cell_type": "markdown",
      "source": [
        "## Word2Vec"
      ],
      "metadata": {
        "id": "omU5n4ixUJMZ"
      }
    },
    {
      "cell_type": "markdown",
      "source": [
        "http://w.elnn.kr/search/ 단어간의 유사도 측정"
      ],
      "metadata": {
        "id": "9Pbl9km_Y4kw"
      }
    },
    {
      "cell_type": "markdown",
      "source": [
        "단어를 벡터로 바꿔서 단어간의 연산이 가능하도록 만들었다: 비슷한 위치의 단어는 비슷한 의미를 가진다"
      ],
      "metadata": {
        "id": "C_v0oMUEaTmm"
      }
    },
    {
      "cell_type": "code",
      "execution_count": 35,
      "metadata": {
        "id": "34392ba0"
      },
      "outputs": [],
      "source": [
        "from gensim.models import Word2Vec"
      ]
    },
    {
      "cell_type": "code",
      "execution_count": 36,
      "metadata": {
        "colab": {
          "base_uri": "https://localhost:8080/"
        },
        "id": "61abb9a8",
        "outputId": "74528218-a240-4edb-c725-d124fe49bfc8"
      },
      "outputs": [
        {
          "output_type": "stream",
          "name": "stdout",
          "text": [
            "Word2Vec(vocab=14, size=100, alpha=0.025)\n"
          ]
        }
      ],
      "source": [
        "# define training data\n",
        "sentences = [['this', 'is', 'the', 'first', 'sentence', 'for', 'word2vec'],\n",
        "             ['this', 'is', 'the', 'second', 'sentence'],\n",
        "             ['yet', 'another', 'sentence'],\n",
        "             ['one', 'more', 'sentence'],\n",
        "             ['and', 'the', 'final', 'sentence']]\n",
        "# train model\n",
        "# 문장을 이용하여 단어와 벡터를 생성한다.\n",
        "model = Word2Vec(sentences, min_count=1) #min count: 빈도 작은 것은 학습하지 않기 위해서\n",
        "# summarize the loaded model\n",
        "print(model)"
      ]
    },
    {
      "cell_type": "code",
      "source": [
        "# 단어벡터를 구하고, 단어간 유사도를 확인하다\n",
        "model_result = model.wv.most_similar(\"this\")\n",
        "print(model_result)"
      ],
      "metadata": {
        "colab": {
          "base_uri": "https://localhost:8080/"
        },
        "id": "M_H92ioNkuMC",
        "outputId": "6464fe0b-b59d-4a65-b17f-e8b12bb40e50"
      },
      "execution_count": 49,
      "outputs": [
        {
          "output_type": "stream",
          "name": "stdout",
          "text": [
            "[('is', 0.2356736660003662), ('yet', 0.16455909609794617), ('final', 0.16245020925998688), ('more', 0.09147600829601288), ('and', 0.08108092099428177), ('sentence', 0.06762610375881195), ('first', 0.016863994300365448), ('for', 0.012674249708652496), ('the', -0.03223539516329765), ('second', -0.08764021098613739)]\n"
          ]
        }
      ]
    },
    {
      "cell_type": "code",
      "source": [
        "model.wv.most_similar(\"this\")"
      ],
      "metadata": {
        "colab": {
          "base_uri": "https://localhost:8080/"
        },
        "id": "cHavfJkXk6dI",
        "outputId": "2d9bbc99-c97f-4ffc-a20e-fb5e1d853287"
      },
      "execution_count": 38,
      "outputs": [
        {
          "output_type": "execute_result",
          "data": {
            "text/plain": [
              "[('is', 0.2356736660003662),\n",
              " ('yet', 0.16455909609794617),\n",
              " ('final', 0.16245020925998688),\n",
              " ('more', 0.09147600829601288),\n",
              " ('and', 0.08108092099428177),\n",
              " ('sentence', 0.06762610375881195),\n",
              " ('first', 0.016863994300365448),\n",
              " ('for', 0.012674249708652496),\n",
              " ('the', -0.03223539516329765),\n",
              " ('second', -0.08764021098613739)]"
            ]
          },
          "metadata": {},
          "execution_count": 38
        }
      ]
    },
    {
      "cell_type": "code",
      "source": [
        "model.wv.similarity(w1='first', w2='second')"
      ],
      "metadata": {
        "id": "6ehLr_QKVT-o",
        "outputId": "0b591bf9-6f65-46b0-b1f8-a6dd5217acd1",
        "colab": {
          "base_uri": "https://localhost:8080/"
        }
      },
      "execution_count": 48,
      "outputs": [
        {
          "output_type": "execute_result",
          "data": {
            "text/plain": [
              "0.08261504"
            ]
          },
          "metadata": {},
          "execution_count": 48
        }
      ]
    },
    {
      "cell_type": "code",
      "execution_count": 40,
      "metadata": {
        "id": "3e3a528e"
      },
      "outputs": [],
      "source": [
        "import gensim.downloader"
      ]
    },
    {
      "cell_type": "code",
      "execution_count": 50,
      "metadata": {
        "colab": {
          "base_uri": "https://localhost:8080/"
        },
        "id": "004bd549",
        "outputId": "430f307a-d775-40e2-ed2a-32f0784794a4"
      },
      "outputs": [
        {
          "output_type": "stream",
          "name": "stdout",
          "text": [
            "['fasttext-wiki-news-subwords-300', 'conceptnet-numberbatch-17-06-300', 'word2vec-ruscorpora-300', 'word2vec-google-news-300', 'glove-wiki-gigaword-50', 'glove-wiki-gigaword-100', 'glove-wiki-gigaword-200', 'glove-wiki-gigaword-300', 'glove-twitter-25', 'glove-twitter-50', 'glove-twitter-100', 'glove-twitter-200', '__testing_word2vec-matrix-synopsis']\n"
          ]
        }
      ],
      "source": [
        "print(list(gensim.downloader.info()['models'].keys()))"
      ]
    },
    {
      "cell_type": "code",
      "source": [
        "from gensim.models import Word2Vec\n",
        "import matplotlib.pyplot as plt\n",
        " \n",
        "# 단어와 2차원 X축의 값, Y축의 값을 입력받아 2차원 그래프를 그린다\n",
        "def plot_2d_graph(vocabs, xs, ys):\n",
        "    plt.figure(figsize=(8 ,6))\n",
        "    plt.scatter(xs, ys, marker = 'o')\n",
        "    for i, v in enumerate(vocabs):\n",
        "        plt.annotate(v, xy=(xs[i], ys[i]))\n",
        " \n",
        " \n",
        "# 단어벡터를 구한다.\n",
        "word_vectors = model.wv\n",
        " \n",
        "vocabs            = word_vectors.vocab.keys()\n",
        "word_vectors_list = [word_vectors[v] for v in vocabs]\n",
        "\n",
        " \n",
        "from sklearn.decomposition import PCA\n",
        "pca = PCA(n_components=2)\n",
        "xys = pca.fit_transform(word_vectors_list)\n",
        "xs = xys[:,0]\n",
        "ys = xys[:,1]\n",
        " \n",
        "plot_2d_graph(vocabs, xs, ys)"
      ],
      "metadata": {
        "id": "RzfCNVuMUZwG",
        "outputId": "2030850d-a9f7-4621-81fe-6e70295bb858",
        "colab": {
          "base_uri": "https://localhost:8080/",
          "height": 374
        }
      },
      "execution_count": 51,
      "outputs": [
        {
          "output_type": "display_data",
          "data": {
            "text/plain": [
              "<Figure size 576x432 with 1 Axes>"
            ],
            "image/png": "[encoded data removed]"
          },
          "metadata": {
            "needs_background": "light"
          }
        }
      ]
    },
    {
      "cell_type": "code",
      "source": [
        ""
      ],
      "metadata": {
        "id": "qSOWc2YzSORx"
      },
      "execution_count": null,
      "outputs": []
    }
  ],
  "metadata": {
    "kernelspec": {
      "display_name": "Python 3",
      "language": "python",
      "name": "python3"
    },
    "language_info": {
      "codemirror_mode": {
        "name": "ipython",
        "version": 3
      },
      "file_extension": ".py",
      "mimetype": "text/x-python",
      "name": "python",
      "nbconvert_exporter": "python",
      "pygments_lexer": "ipython3",
      "version": "3.6.5"
    },
    "varInspector": {
      "cols": {
        "lenName": 16,
        "lenType": 16,
        "lenVar": 40
      },
      "kernels_config": {
        "python": {
          "delete_cmd_postfix": "",
          "delete_cmd_prefix": "del ",
          "library": "var_list.py",
          "varRefreshCmd": "print(var_dic_list())"
        },
        "r": {
          "delete_cmd_postfix": ") ",
          "delete_cmd_prefix": "rm(",
          "library": "var_list.r",
          "varRefreshCmd": "cat(var_dic_list()) "
        }
      },
      "types_to_exclude": [
        "module",
        "function",
        "builtin_function_or_method",
        "instance",
        "_Feature"
      ],
      "window_display": false
    },
    "colab": {
      "name": "ML_day13_2",
      "provenance": [],
      "collapsed_sections": [],
      "include_colab_link": true
    },
    "accelerator": "GPU"
  },
  "nbformat": 4,
  "nbformat_minor": 0
}