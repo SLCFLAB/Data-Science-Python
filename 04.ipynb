{
  "nbformat": 4,
  "nbformat_minor": 0,
  "metadata": {
    "colab": {
      "name": "04.ipynb",
      "provenance": [],
      "authorship_tag": "ABX9TyNFtfalDpldC75NLscMBBxE",
      "include_colab_link": true
    },
    "kernelspec": {
      "name": "python3",
      "display_name": "Python 3"
    },
    "language_info": {
      "name": "python"
    }
  },
  "cells": [
    {
      "cell_type": "markdown",
      "metadata": {
        "id": "view-in-github",
        "colab_type": "text"
      },
      "source": [
        "<a href=\"https://colab.research.google.com/github/SLCFLAB/Data-Science-Python/blob/main/04.ipynb\" target=\"_parent\"><img src=\"https://colab.research.google.com/assets/colab-badge.svg\" alt=\"Open In Colab\"/></a>"
      ]
    },
    {
      "cell_type": "markdown",
      "source": [
        ""
      ],
      "metadata": {
        "id": "qMilnEXgACbV"
      }
    },
    {
      "cell_type": "markdown",
      "source": [
        "# 투자지표 수집"
      ],
      "metadata": {
        "id": "5h6KrC2EAFUP"
      }
    },
    {
      "cell_type": "code",
      "execution_count": 24,
      "metadata": {
        "id": "4Zy8dj0HFe1Y",
        "outputId": "0ba3f643-c4ce-4473-c0b0-5e90cf14dd22",
        "colab": {
          "base_uri": "https://localhost:8080/"
        }
      },
      "outputs": [
        {
          "output_type": "stream",
          "name": "stdout",
          "text": [
            "Requirement already satisfied: finance-datareader in /usr/local/lib/python3.7/dist-packages (0.9.33)\n",
            "Requirement already satisfied: requests>=2.3.0 in /usr/local/lib/python3.7/dist-packages (from finance-datareader) (2.23.0)\n",
            "Requirement already satisfied: lxml in /usr/local/lib/python3.7/dist-packages (from finance-datareader) (4.2.6)\n",
            "Requirement already satisfied: requests-file in /usr/local/lib/python3.7/dist-packages (from finance-datareader) (1.5.1)\n",
            "Requirement already satisfied: pandas>=0.19.2 in /usr/local/lib/python3.7/dist-packages (from finance-datareader) (1.3.5)\n",
            "Requirement already satisfied: tqdm in /usr/local/lib/python3.7/dist-packages (from finance-datareader) (4.63.0)\n",
            "Requirement already satisfied: python-dateutil>=2.7.3 in /usr/local/lib/python3.7/dist-packages (from pandas>=0.19.2->finance-datareader) (2.8.2)\n",
            "Requirement already satisfied: numpy>=1.17.3 in /usr/local/lib/python3.7/dist-packages (from pandas>=0.19.2->finance-datareader) (1.21.5)\n",
            "Requirement already satisfied: pytz>=2017.3 in /usr/local/lib/python3.7/dist-packages (from pandas>=0.19.2->finance-datareader) (2018.9)\n",
            "Requirement already satisfied: six>=1.5 in /usr/local/lib/python3.7/dist-packages (from python-dateutil>=2.7.3->pandas>=0.19.2->finance-datareader) (1.15.0)\n",
            "Requirement already satisfied: certifi>=2017.4.17 in /usr/local/lib/python3.7/dist-packages (from requests>=2.3.0->finance-datareader) (2021.10.8)\n",
            "Requirement already satisfied: urllib3!=1.25.0,!=1.25.1,<1.26,>=1.21.1 in /usr/local/lib/python3.7/dist-packages (from requests>=2.3.0->finance-datareader) (1.24.3)\n",
            "Requirement already satisfied: chardet<4,>=3.0.2 in /usr/local/lib/python3.7/dist-packages (from requests>=2.3.0->finance-datareader) (3.0.4)\n",
            "Requirement already satisfied: idna<3,>=2.5 in /usr/local/lib/python3.7/dist-packages (from requests>=2.3.0->finance-datareader) (2.10)\n"
          ]
        }
      ],
      "source": [
        "import requests\n",
        "from bs4 import BeautifulSoup\n",
        "import time\n",
        "import pandas as pd\n",
        "!pip install finance-datareader\n",
        "import FinanceDataReader as fdr\n",
        "import numpy as np"
      ]
    },
    {
      "cell_type": "code",
      "source": [
        "stocks = fdr.StockListing('KRX') # 코스피, 코스닥, 코넥스 전체\n",
        "stocks.dropna(inplace = True) # 지표가 없는 선물 등은 홈페이지, 지역, 산업 등이 모두 결측으로 되어 있으므로 삭제하면 됨\n",
        "base_url = \"https://search.itooza.com/search.htm?seName={}&jl=&search_ck=&sm=&sd=2021-08-09&ed=2021-09-08&ds_de=&page=&cpv=\""
      ],
      "metadata": {
        "id": "QqzgV89zFg-p"
      },
      "execution_count": 4,
      "outputs": []
    },
    {
      "cell_type": "code",
      "source": [
        "for code, name in stocks[:20][['Symbol', 'Name']].values:\n",
        "    print(name)\n",
        "    while True:\n",
        "        try:\n",
        "            url = base_url.format(code)\n",
        "            html = requests.get(url, headers={'User-Agent':'Gils'}).content\n",
        "            soup = BeautifulSoup(html, 'lxml')\n",
        "            break\n",
        "        except:\n",
        "            time.sleep(15 * 60)\n",
        "    \n",
        "    # 만약 해당 종목 자료가 없다면, 아래 테이블이 없음\n",
        "    table = soup.find(\"table\", {\"class\":\"ex\"}) # class가 ex인 테이블을 찾음\n",
        "    \n",
        "    if table == None: # class가 ex인 테이블이 없으면 크롤링하지 않음\n",
        "        continue\n",
        "\n",
        "    idx = [\"2021-2Q\", \"2021-1Q\",\n",
        "           \"2020-4Q\", \"2020-3Q\", \"2020-2Q\", \"2020-1Q\",\n",
        "           \"2019-4Q\", \"2019-3Q\", \"2019-2Q\", \"2019-1Q\",\n",
        "           \"2018-4Q\", \"2018-3Q\"] # 인덱스를 직접 정의\n",
        "\n",
        "    table_body = table.find('tbody')  # table에서 tbody만 가져옴\n",
        "    tr_list = table_body.find_all('tr') # tbody에서 행을 다 찾아서 저장\n",
        "\n",
        "    result_dict = dict()\n",
        "    for tr in tr_list:\n",
        "        col_name = tr.find('th').text # 투자 지표 이름\n",
        "        values = [td.text for td in tr.find_all('td')] # tr에 있는 모든 td의 text만 가져와서 저장\n",
        "        result_dict[col_name] = values # 사전으로 저장\n",
        "\n",
        "    result = pd.DataFrame.from_dict(result_dict)\n",
        "    result.drop('주가', axis = 1, inplace = True) # 주가열도 필요없으니 삭제\n",
        "    result['분기'] = idx\n",
        "    \n",
        "    result.to_csv(name + \".csv\", index = False, encoding = \"cp949\")\n",
        "    \n",
        "    time.sleep(1) # 1초씩 재우기"
      ],
      "metadata": {
        "id": "I3yCb6ZR_60M",
        "outputId": "226f0b68-9e96-437c-9d83-a09d7649a682",
        "colab": {
          "base_uri": "https://localhost:8080/"
        }
      },
      "execution_count": 6,
      "outputs": [
        {
          "output_type": "stream",
          "name": "stdout",
          "text": [
            "3S\n",
            "AJ네트웍스\n",
            "AK홀딩스\n",
            "APS홀딩스\n",
            "AP시스템\n",
            "AP위성\n",
            "BGF\n",
            "BGF리테일\n",
            "BNGT\n",
            "BNK금융지주\n",
            "BYC\n",
            "CBI\n",
            "CJ\n",
            "CJ CGV\n",
            "CJ ENM\n",
            "CJ 바이오사이언스\n",
            "CJ대한통운\n",
            "CJ씨푸드\n",
            "CJ제일제당\n",
            "CJ프레시웨이\n"
          ]
        }
      ]
    },
    {
      "cell_type": "code",
      "source": [
        ""
      ],
      "metadata": {
        "id": "DkjnSaj7BDAr"
      },
      "execution_count": null,
      "outputs": []
    },
    {
      "cell_type": "markdown",
      "source": [
        "# 한경컨센서스 리포트 수집"
      ],
      "metadata": {
        "id": "noUxRfuOCb5P"
      }
    },
    {
      "cell_type": "code",
      "source": [
        "import requests\n",
        "import re"
      ],
      "metadata": {
        "id": "tl-0o_9mCdGi"
      },
      "execution_count": 12,
      "outputs": []
    },
    {
      "cell_type": "code",
      "source": [
        "stocks = fdr.StockListing('KRX') # 코스피, 코스닥, 코넥스 전체"
      ],
      "metadata": {
        "id": "nzbH92PQCixu"
      },
      "execution_count": 8,
      "outputs": []
    },
    {
      "cell_type": "code",
      "source": [
        "stocks['Symbol'] = stocks['Symbol'].astype(str)\n",
        "def remove_noise_and_split_title(title):\n",
        "    in_code = ''\n",
        "    in_name = ''\n",
        "    \n",
        "    for code, name in stocks[['Symbol', 'Name']].values:\n",
        "        if code in title and name in title:\n",
        "            in_code = code\n",
        "            in_name = name\n",
        "    \n",
        "    # 한글, 영어, 숫자 외 노이즈 제거\n",
        "    clean_title = re.sub('[^A-Za-z0-9가-힣]', ' ', title)\n",
        "    \n",
        "    # 기업명 코드 수정\n",
        "    clean_title = clean_title.replace(in_code, ' ')\n",
        "    clean_title = clean_title.replace(in_name, ' ')\n",
        "    while ' ' * 2 in clean_title:\n",
        "        clean_title = clean_title.replace(' ' * 2, ' ')\n",
        "    \n",
        "    if in_name == '': # 기업명이 없는 제목이라면, 데이터에 추가하지 않음\n",
        "        return [None] \n",
        "    else:\n",
        "        return [in_name, in_code, clean_title]  "
      ],
      "metadata": {
        "id": "lpczuKDqCkVv"
      },
      "execution_count": 9,
      "outputs": []
    },
    {
      "cell_type": "code",
      "source": [
        "base_url = \"http://consensus.hankyung.com/apps.analysis/analysis.list?&sdate=2016-09-01&edate=2021-08-31&report_type=CO&order_type=&now_page={}\"\n",
        "data = [] \n",
        "\n",
        "for page_no in range(1, 10):\n",
        "    while True:\n",
        "        try:\n",
        "            url = base_url.format(page_no)\n",
        "            html = requests.get(url, headers={'User-Agent':'Gils'}).content\n",
        "            soup = BeautifulSoup(html, 'lxml')\n",
        "            print(\"{}/{}\".format(page_no, 4284))\n",
        "            break\n",
        "        except:\n",
        "            time.sleep(15 * 60)\n",
        "\n",
        "    table = soup.find(\"div\", {\"class\":\"table_style01\"}).find('table')\n",
        "    for tr in table.find_all(\"tr\")[1:]: # 1번째 행부터 순회\n",
        "        record = []\n",
        "        for i, td in enumerate(tr.find_all(\"td\")[:6]): # 6번째 셀까지 순회\n",
        "            if i == 1:\n",
        "                record += remove_noise_and_split_title(td.text) # remove_noise_title의 출력과 이어 붙임\n",
        "            elif i == 3: # 노이즈가 껴있는 세번째 셀만 따로 처리\n",
        "                record.append(td.text.replace(\" \", \"\").replace(\"\\r\",\"\").replace(\"\\n\",\"\"))\n",
        "            else: # 1번째 셀이 아니면:\n",
        "                record.append(td.text) # 셀의 텍스트 값 그대로 입력\n",
        "            \n",
        "        if None not in record: # 레코드에 None이 없으면\n",
        "            data.append(record)\n",
        "\n",
        "    time.sleep(1) # 연결 끊김 방지를 위해, 1초씩 재움\n",
        "    \n",
        "data = pd.DataFrame(data, columns = [\"작성일\", \"종목명\", \"종목코드\", \"제목\", \"적정가격\", \"평가의견\", \"작성자\", \"작성기관\"])\n",
        "data.to_csv(\"리포트_데이터.csv\", index = False, encoding = \"cp949\")"
      ],
      "metadata": {
        "id": "eqMmodE5CluV",
        "outputId": "bb190519-6d86-4469-a987-6a6c2e15b254",
        "colab": {
          "base_uri": "https://localhost:8080/"
        }
      },
      "execution_count": 14,
      "outputs": [
        {
          "output_type": "stream",
          "name": "stdout",
          "text": [
            "1/4284\n",
            "2/4284\n",
            "3/4284\n",
            "4/4284\n",
            "5/4284\n",
            "6/4284\n",
            "7/4284\n",
            "8/4284\n",
            "9/4284\n"
          ]
        }
      ]
    },
    {
      "cell_type": "markdown",
      "source": [
        "# OpenDart 활용"
      ],
      "metadata": {
        "id": "lClh4PSvCpGq"
      }
    },
    {
      "cell_type": "code",
      "source": [
        "!pip install opendartreader"
      ],
      "metadata": {
        "id": "S396VsyCCpwo",
        "outputId": "3798f545-9b4c-4e79-ffc1-f3d750d04a6f",
        "colab": {
          "base_uri": "https://localhost:8080/"
        }
      },
      "execution_count": 15,
      "outputs": [
        {
          "output_type": "stream",
          "name": "stdout",
          "text": [
            "Collecting opendartreader\n",
            "  Downloading OpenDartReader-0.1.6-py3-none-any.whl (19 kB)\n",
            "Requirement already satisfied: requests-file in /usr/local/lib/python3.7/dist-packages (from opendartreader) (1.5.1)\n",
            "Requirement already satisfied: pandas>=0.19.2 in /usr/local/lib/python3.7/dist-packages (from opendartreader) (1.3.5)\n",
            "Requirement already satisfied: lxml in /usr/local/lib/python3.7/dist-packages (from opendartreader) (4.2.6)\n",
            "Requirement already satisfied: requests>=2.3.0 in /usr/local/lib/python3.7/dist-packages (from opendartreader) (2.23.0)\n",
            "Requirement already satisfied: python-dateutil>=2.7.3 in /usr/local/lib/python3.7/dist-packages (from pandas>=0.19.2->opendartreader) (2.8.2)\n",
            "Requirement already satisfied: numpy>=1.17.3 in /usr/local/lib/python3.7/dist-packages (from pandas>=0.19.2->opendartreader) (1.21.5)\n",
            "Requirement already satisfied: pytz>=2017.3 in /usr/local/lib/python3.7/dist-packages (from pandas>=0.19.2->opendartreader) (2018.9)\n",
            "Requirement already satisfied: six>=1.5 in /usr/local/lib/python3.7/dist-packages (from python-dateutil>=2.7.3->pandas>=0.19.2->opendartreader) (1.15.0)\n",
            "Requirement already satisfied: urllib3!=1.25.0,!=1.25.1,<1.26,>=1.21.1 in /usr/local/lib/python3.7/dist-packages (from requests>=2.3.0->opendartreader) (1.24.3)\n",
            "Requirement already satisfied: idna<3,>=2.5 in /usr/local/lib/python3.7/dist-packages (from requests>=2.3.0->opendartreader) (2.10)\n",
            "Requirement already satisfied: chardet<4,>=3.0.2 in /usr/local/lib/python3.7/dist-packages (from requests>=2.3.0->opendartreader) (3.0.4)\n",
            "Requirement already satisfied: certifi>=2017.4.17 in /usr/local/lib/python3.7/dist-packages (from requests>=2.3.0->opendartreader) (2021.10.8)\n",
            "Installing collected packages: opendartreader\n",
            "Successfully installed opendartreader-0.1.6\n"
          ]
        }
      ]
    },
    {
      "cell_type": "code",
      "source": [
        "import OpenDartReader"
      ],
      "metadata": {
        "id": "LjsdF2MJERzx"
      },
      "execution_count": 16,
      "outputs": []
    },
    {
      "cell_type": "markdown",
      "source": [
        "API 키 발급 링크 : https://opendart.fss.or.kr/uss/umt/EgovMberInsertView.do"
      ],
      "metadata": {
        "id": "FbBmbhb5HoiP"
      }
    },
    {
      "cell_type": "code",
      "source": [
        "my_api = \"7c21274166c816929c5a5c6dacffaa8315b7daeb\"\n",
        "dart = OpenDartReader(my_api)"
      ],
      "metadata": {
        "id": "dLeU5GfHEM3M"
      },
      "execution_count": 17,
      "outputs": []
    },
    {
      "cell_type": "code",
      "source": [
        "display(dart.report(\"SK하이닉스\",\"배당\",2020,\"11011\"))"
      ],
      "metadata": {
        "id": "2O_ME5jZEdEe",
        "outputId": "fbccad21-e7f8-4904-d3cd-3ba4fa0aa5a5",
        "colab": {
          "base_uri": "https://localhost:8080/",
          "height": 519
        }
      },
      "execution_count": 18,
      "outputs": [
        {
          "output_type": "display_data",
          "data": {
            "text/plain": [
              "          rcept_no corp_cls corp_code corp_name              se     thstrm  \\\n",
              "0   20210330000776        Y  00164779    SK하이닉스       주당액면가액(원)      5,000   \n",
              "1   20210330000776        Y  00164779    SK하이닉스  (연결)당기순이익(백만원)  4,755,102   \n",
              "2   20210330000776        Y  00164779    SK하이닉스  (별도)당기순이익(백만원)  4,217,841   \n",
              "3   20210330000776        Y  00164779    SK하이닉스    (연결)주당순이익(원)      6,952   \n",
              "4   20210330000776        Y  00164779    SK하이닉스    현금배당금총액(백만원)    800,282   \n",
              "5   20210330000776        Y  00164779    SK하이닉스    주식배당금총액(백만원)          -   \n",
              "6   20210330000776        Y  00164779    SK하이닉스   (연결)현금배당성향(%)      16.80   \n",
              "7   20210330000776        Y  00164779    SK하이닉스      현금배당수익률(%)       1.00   \n",
              "8   20210330000776        Y  00164779    SK하이닉스      현금배당수익률(%)          -   \n",
              "9   20210330000776        Y  00164779    SK하이닉스      주식배당수익률(%)          -   \n",
              "10  20210330000776        Y  00164779    SK하이닉스      주식배당수익률(%)          -   \n",
              "11  20210330000776        Y  00164779    SK하이닉스     주당 현금배당금(원)      1,170   \n",
              "12  20210330000776        Y  00164779    SK하이닉스     주당 현금배당금(원)          -   \n",
              "13  20210330000776        Y  00164779    SK하이닉스      주당 주식배당(주)          -   \n",
              "14  20210330000776        Y  00164779    SK하이닉스      주당 주식배당(주)          -   \n",
              "\n",
              "       frmtrm        lwfr  \n",
              "0       5,000       5,000  \n",
              "1   2,005,975  15,540,111  \n",
              "2   1,476,981  15,407,086  \n",
              "3       2,933      22,255  \n",
              "4     684,002   1,026,003  \n",
              "5           -           -  \n",
              "6       34.10        6.60  \n",
              "7        1.10        2.50  \n",
              "8           -           -  \n",
              "9           -           -  \n",
              "10          -           -  \n",
              "11      1,000       1,500  \n",
              "12          -           -  \n",
              "13          -           -  \n",
              "14          -           -  "
            ],
            "text/html": [
              "\n",
              "  <div id=\"df-4c4298bc-f4f5-4323-ab70-1f89428e5aed\">\n",
              "    <div class=\"colab-df-container\">\n",
              "      <div>\n",
              "<style scoped>\n",
              "    .dataframe tbody tr th:only-of-type {\n",
              "        vertical-align: middle;\n",
              "    }\n",
              "\n",
              "    .dataframe tbody tr th {\n",
              "        vertical-align: top;\n",
              "    }\n",
              "\n",
              "    .dataframe thead th {\n",
              "        text-align: right;\n",
              "    }\n",
              "</style>\n",
              "<table border=\"1\" class=\"dataframe\">\n",
              "  <thead>\n",
              "    <tr style=\"text-align: right;\">\n",
              "      <th></th>\n",
              "      <th>rcept_no</th>\n",
              "      <th>corp_cls</th>\n",
              "      <th>corp_code</th>\n",
              "      <th>corp_name</th>\n",
              "      <th>se</th>\n",
              "      <th>thstrm</th>\n",
              "      <th>frmtrm</th>\n",
              "      <th>lwfr</th>\n",
              "    </tr>\n",
              "  </thead>\n",
              "  <tbody>\n",
              "    <tr>\n",
              "      <th>0</th>\n",
              "      <td>20210330000776</td>\n",
              "      <td>Y</td>\n",
              "      <td>00164779</td>\n",
              "      <td>SK하이닉스</td>\n",
              "      <td>주당액면가액(원)</td>\n",
              "      <td>5,000</td>\n",
              "      <td>5,000</td>\n",
              "      <td>5,000</td>\n",
              "    </tr>\n",
              "    <tr>\n",
              "      <th>1</th>\n",
              "      <td>20210330000776</td>\n",
              "      <td>Y</td>\n",
              "      <td>00164779</td>\n",
              "      <td>SK하이닉스</td>\n",
              "      <td>(연결)당기순이익(백만원)</td>\n",
              "      <td>4,755,102</td>\n",
              "      <td>2,005,975</td>\n",
              "      <td>15,540,111</td>\n",
              "    </tr>\n",
              "    <tr>\n",
              "      <th>2</th>\n",
              "      <td>20210330000776</td>\n",
              "      <td>Y</td>\n",
              "      <td>00164779</td>\n",
              "      <td>SK하이닉스</td>\n",
              "      <td>(별도)당기순이익(백만원)</td>\n",
              "      <td>4,217,841</td>\n",
              "      <td>1,476,981</td>\n",
              "      <td>15,407,086</td>\n",
              "    </tr>\n",
              "    <tr>\n",
              "      <th>3</th>\n",
              "      <td>20210330000776</td>\n",
              "      <td>Y</td>\n",
              "      <td>00164779</td>\n",
              "      <td>SK하이닉스</td>\n",
              "      <td>(연결)주당순이익(원)</td>\n",
              "      <td>6,952</td>\n",
              "      <td>2,933</td>\n",
              "      <td>22,255</td>\n",
              "    </tr>\n",
              "    <tr>\n",
              "      <th>4</th>\n",
              "      <td>20210330000776</td>\n",
              "      <td>Y</td>\n",
              "      <td>00164779</td>\n",
              "      <td>SK하이닉스</td>\n",
              "      <td>현금배당금총액(백만원)</td>\n",
              "      <td>800,282</td>\n",
              "      <td>684,002</td>\n",
              "      <td>1,026,003</td>\n",
              "    </tr>\n",
              "    <tr>\n",
              "      <th>5</th>\n",
              "      <td>20210330000776</td>\n",
              "      <td>Y</td>\n",
              "      <td>00164779</td>\n",
              "      <td>SK하이닉스</td>\n",
              "      <td>주식배당금총액(백만원)</td>\n",
              "      <td>-</td>\n",
              "      <td>-</td>\n",
              "      <td>-</td>\n",
              "    </tr>\n",
              "    <tr>\n",
              "      <th>6</th>\n",
              "      <td>20210330000776</td>\n",
              "      <td>Y</td>\n",
              "      <td>00164779</td>\n",
              "      <td>SK하이닉스</td>\n",
              "      <td>(연결)현금배당성향(%)</td>\n",
              "      <td>16.80</td>\n",
              "      <td>34.10</td>\n",
              "      <td>6.60</td>\n",
              "    </tr>\n",
              "    <tr>\n",
              "      <th>7</th>\n",
              "      <td>20210330000776</td>\n",
              "      <td>Y</td>\n",
              "      <td>00164779</td>\n",
              "      <td>SK하이닉스</td>\n",
              "      <td>현금배당수익률(%)</td>\n",
              "      <td>1.00</td>\n",
              "      <td>1.10</td>\n",
              "      <td>2.50</td>\n",
              "    </tr>\n",
              "    <tr>\n",
              "      <th>8</th>\n",
              "      <td>20210330000776</td>\n",
              "      <td>Y</td>\n",
              "      <td>00164779</td>\n",
              "      <td>SK하이닉스</td>\n",
              "      <td>현금배당수익률(%)</td>\n",
              "      <td>-</td>\n",
              "      <td>-</td>\n",
              "      <td>-</td>\n",
              "    </tr>\n",
              "    <tr>\n",
              "      <th>9</th>\n",
              "      <td>20210330000776</td>\n",
              "      <td>Y</td>\n",
              "      <td>00164779</td>\n",
              "      <td>SK하이닉스</td>\n",
              "      <td>주식배당수익률(%)</td>\n",
              "      <td>-</td>\n",
              "      <td>-</td>\n",
              "      <td>-</td>\n",
              "    </tr>\n",
              "    <tr>\n",
              "      <th>10</th>\n",
              "      <td>20210330000776</td>\n",
              "      <td>Y</td>\n",
              "      <td>00164779</td>\n",
              "      <td>SK하이닉스</td>\n",
              "      <td>주식배당수익률(%)</td>\n",
              "      <td>-</td>\n",
              "      <td>-</td>\n",
              "      <td>-</td>\n",
              "    </tr>\n",
              "    <tr>\n",
              "      <th>11</th>\n",
              "      <td>20210330000776</td>\n",
              "      <td>Y</td>\n",
              "      <td>00164779</td>\n",
              "      <td>SK하이닉스</td>\n",
              "      <td>주당 현금배당금(원)</td>\n",
              "      <td>1,170</td>\n",
              "      <td>1,000</td>\n",
              "      <td>1,500</td>\n",
              "    </tr>\n",
              "    <tr>\n",
              "      <th>12</th>\n",
              "      <td>20210330000776</td>\n",
              "      <td>Y</td>\n",
              "      <td>00164779</td>\n",
              "      <td>SK하이닉스</td>\n",
              "      <td>주당 현금배당금(원)</td>\n",
              "      <td>-</td>\n",
              "      <td>-</td>\n",
              "      <td>-</td>\n",
              "    </tr>\n",
              "    <tr>\n",
              "      <th>13</th>\n",
              "      <td>20210330000776</td>\n",
              "      <td>Y</td>\n",
              "      <td>00164779</td>\n",
              "      <td>SK하이닉스</td>\n",
              "      <td>주당 주식배당(주)</td>\n",
              "      <td>-</td>\n",
              "      <td>-</td>\n",
              "      <td>-</td>\n",
              "    </tr>\n",
              "    <tr>\n",
              "      <th>14</th>\n",
              "      <td>20210330000776</td>\n",
              "      <td>Y</td>\n",
              "      <td>00164779</td>\n",
              "      <td>SK하이닉스</td>\n",
              "      <td>주당 주식배당(주)</td>\n",
              "      <td>-</td>\n",
              "      <td>-</td>\n",
              "      <td>-</td>\n",
              "    </tr>\n",
              "  </tbody>\n",
              "</table>\n",
              "</div>\n",
              "      <button class=\"colab-df-convert\" onclick=\"convertToInteractive('df-4c4298bc-f4f5-4323-ab70-1f89428e5aed')\"\n",
              "              title=\"Convert this dataframe to an interactive table.\"\n",
              "              style=\"display:none;\">\n",
              "        \n",
              "  <svg xmlns=\"http://www.w3.org/2000/svg\" height=\"24px\"viewBox=\"0 0 24 24\"\n",
              "       width=\"24px\">\n",
              "    <path d=\"M0 0h24v24H0V0z\" fill=\"none\"/>\n",
              "    <path d=\"M18.56 5.44l.94 2.06.94-2.06 2.06-.94-2.06-.94-.94-2.06-.94 2.06-2.06.94zm-11 1L8.5 8.5l.94-2.06 2.06-.94-2.06-.94L8.5 2.5l-.94 2.06-2.06.94zm10 10l.94 2.06.94-2.06 2.06-.94-2.06-.94-.94-2.06-.94 2.06-2.06.94z\"/><path d=\"M17.41 7.96l-1.37-1.37c-.4-.4-.92-.59-1.43-.59-.52 0-1.04.2-1.43.59L10.3 9.45l-7.72 7.72c-.78.78-.78 2.05 0 2.83L4 21.41c.39.39.9.59 1.41.59.51 0 1.02-.2 1.41-.59l7.78-7.78 2.81-2.81c.8-.78.8-2.07 0-2.86zM5.41 20L4 18.59l7.72-7.72 1.47 1.35L5.41 20z\"/>\n",
              "  </svg>\n",
              "      </button>\n",
              "      \n",
              "  <style>\n",
              "    .colab-df-container {\n",
              "      display:flex;\n",
              "      flex-wrap:wrap;\n",
              "      gap: 12px;\n",
              "    }\n",
              "\n",
              "    .colab-df-convert {\n",
              "      background-color: #E8F0FE;\n",
              "      border: none;\n",
              "      border-radius: 50%;\n",
              "      cursor: pointer;\n",
              "      display: none;\n",
              "      fill: #1967D2;\n",
              "      height: 32px;\n",
              "      padding: 0 0 0 0;\n",
              "      width: 32px;\n",
              "    }\n",
              "\n",
              "    .colab-df-convert:hover {\n",
              "      background-color: #E2EBFA;\n",
              "      box-shadow: 0px 1px 2px rgba(60, 64, 67, 0.3), 0px 1px 3px 1px rgba(60, 64, 67, 0.15);\n",
              "      fill: #174EA6;\n",
              "    }\n",
              "\n",
              "    [theme=dark] .colab-df-convert {\n",
              "      background-color: #3B4455;\n",
              "      fill: #D2E3FC;\n",
              "    }\n",
              "\n",
              "    [theme=dark] .colab-df-convert:hover {\n",
              "      background-color: #434B5C;\n",
              "      box-shadow: 0px 1px 3px 1px rgba(0, 0, 0, 0.15);\n",
              "      filter: drop-shadow(0px 1px 2px rgba(0, 0, 0, 0.3));\n",
              "      fill: #FFFFFF;\n",
              "    }\n",
              "  </style>\n",
              "\n",
              "      <script>\n",
              "        const buttonEl =\n",
              "          document.querySelector('#df-4c4298bc-f4f5-4323-ab70-1f89428e5aed button.colab-df-convert');\n",
              "        buttonEl.style.display =\n",
              "          google.colab.kernel.accessAllowed ? 'block' : 'none';\n",
              "\n",
              "        async function convertToInteractive(key) {\n",
              "          const element = document.querySelector('#df-4c4298bc-f4f5-4323-ab70-1f89428e5aed');\n",
              "          const dataTable =\n",
              "            await google.colab.kernel.invokeFunction('convertToInteractive',\n",
              "                                                     [key], {});\n",
              "          if (!dataTable) return;\n",
              "\n",
              "          const docLinkHtml = 'Like what you see? Visit the ' +\n",
              "            '<a target=\"_blank\" href=https://colab.research.google.com/notebooks/data_table.ipynb>data table notebook</a>'\n",
              "            + ' to learn more about interactive tables.';\n",
              "          element.innerHTML = '';\n",
              "          dataTable['output_type'] = 'display_data';\n",
              "          await google.colab.output.renderOutput(dataTable, element);\n",
              "          const docLink = document.createElement('div');\n",
              "          docLink.innerHTML = docLinkHtml;\n",
              "          element.appendChild(docLink);\n",
              "        }\n",
              "      </script>\n",
              "    </div>\n",
              "  </div>\n",
              "  "
            ]
          },
          "metadata": {}
        }
      ]
    },
    {
      "cell_type": "code",
      "source": [
        "stock_list = fdr.StockListing(\"KRX\")"
      ],
      "metadata": {
        "id": "wrXZXJW9Hx36"
      },
      "execution_count": 19,
      "outputs": []
    },
    {
      "cell_type": "code",
      "source": [
        "stock_list = stock_list.loc[stock_list['Market'].isin([\"KOSPI\",\"KOSDAQ\"])]\n",
        "stock_name_list = stock_list.loc[stock_list['Region'].notnull(),'Name'].tolist()"
      ],
      "metadata": {
        "id": "rFZoqfXuID5l"
      },
      "execution_count": 20,
      "outputs": []
    },
    {
      "cell_type": "code",
      "source": [
        "def find_dividends(stock_name, year):\n",
        "  stock_name_report = dart.report(stock_name, \"배당\", year, \"11011\")\n",
        "  if stock_name_report is None:\n",
        "    return np.nan, np.nan, np.nan\n",
        "  else:\n",
        "    \n",
        "    stock_name_report = stock_name_report.loc[stock_name_report['se']==\"주당 현금배당금(원)\"].iloc[0]\n",
        "    \n",
        "    thstrm_dividends = int(stock_name_report['thstrm'].replace('-','0').replace(',',''))\n",
        "    frmtrm_dividends = int(stock_name_report['frmtrm'].replace('-','0').replace(',',''))\n",
        "    lwfr_dividends = int(stock_name_report['lwfr'].replace('-','0').replace(',',''))\n",
        "    \n",
        "    return lwfr_dividends, frmtrm_dividends, thstrm_dividends"
      ],
      "metadata": {
        "id": "NWWC9FisIgNt"
      },
      "execution_count": 34,
      "outputs": []
    },
    {
      "cell_type": "code",
      "source": [
        "data = []\n",
        "for idx, stock_name in enumerate(stock_name_list[:20]):\n",
        "  print(idx+1, \"/\", len(stock_name_list))\n",
        "  record = [stock_name]\n",
        "  for year in [2015,2018,2020]:\n",
        "    lwfr_dividends, frmtrm_dividends, thstrm_dividends = find_dividends(stock_name, year)\n",
        "\n",
        "    if year != 2020:\n",
        "      record += [lwfr_dividends, frmtrm_dividends, thstrm_dividends]\n",
        "    else:\n",
        "      record += [frmtrm_dividends, thstrm_dividends]\n",
        "    \n",
        "    data.append(record)\n",
        "    time.sleep(0.5)"
      ],
      "metadata": {
        "id": "qjEKr7-0KVir",
        "outputId": "f2db735d-17fa-4ec5-ac95-1925ff8978c1",
        "colab": {
          "base_uri": "https://localhost:8080/"
        }
      },
      "execution_count": 36,
      "outputs": [
        {
          "output_type": "stream",
          "name": "stdout",
          "text": [
            "1 / 2370\n",
            "2 / 2370\n",
            "3 / 2370\n",
            "4 / 2370\n",
            "5 / 2370\n",
            "6 / 2370\n",
            "7 / 2370\n",
            "8 / 2370\n",
            "9 / 2370\n",
            "10 / 2370\n",
            "11 / 2370\n",
            "12 / 2370\n",
            "13 / 2370\n",
            "14 / 2370\n",
            "15 / 2370\n",
            "16 / 2370\n",
            "17 / 2370\n",
            "18 / 2370\n",
            "19 / 2370\n",
            "20 / 2370\n"
          ]
        }
      ]
    },
    {
      "cell_type": "code",
      "source": [
        "data = pd.DataFrame(data,columns=[\"stock_name\",\"2015\",\"2016\",\"2017\",\"2018\",\"2019\",\"2020\",\"2021\",\"2022\"])\n",
        "data.to_csv(\"배당목록.csv\")"
      ],
      "metadata": {
        "id": "bSX_QHNiLp8M"
      },
      "execution_count": 39,
      "outputs": []
    },
    {
      "cell_type": "code",
      "source": [
        ""
      ],
      "metadata": {
        "id": "jH96tuhvNnwY"
      },
      "execution_count": null,
      "outputs": []
    }
  ]
}