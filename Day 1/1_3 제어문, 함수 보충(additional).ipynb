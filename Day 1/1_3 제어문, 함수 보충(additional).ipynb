{
 "cells": [
  {
   "cell_type": "markdown",
   "id": "7f9b31e2",
   "metadata": {},
   "source": [
    "### 조건문 if, elif, else"
   ]
  },
  {
   "cell_type": "code",
   "execution_count": 19,
   "id": "514c2d96",
   "metadata": {},
   "outputs": [
    {
     "name": "stdout",
     "output_type": "stream",
     "text": [
      "it's negative\n"
     ]
    }
   ],
   "source": [
    "x = -3\n",
    "if x < 0:\n",
    "    print('it\\'s negative')"
   ]
  },
  {
   "cell_type": "code",
   "execution_count": 20,
   "id": "ab135067",
   "metadata": {},
   "outputs": [
    {
     "name": "stdout",
     "output_type": "stream",
     "text": [
      "It's negative\n"
     ]
    }
   ],
   "source": [
    "if x < 0:\n",
    "    print('It\\'s negative')\n",
    "elif x == 0:\n",
    "    print('Equal to zero')\n",
    "elif 0 < x < 5:\n",
    "    print('Positive but smaller than 5')\n",
    "else:\n",
    "    print('Positive and larger than or eequal to 5')\n",
    "    "
   ]
  },
  {
   "cell_type": "code",
   "execution_count": 21,
   "id": "d6a3e2ba",
   "metadata": {},
   "outputs": [],
   "source": [
    "a = 5; b = 7"
   ]
  },
  {
   "cell_type": "code",
   "execution_count": 22,
   "id": "567a374b",
   "metadata": {},
   "outputs": [],
   "source": [
    "c = 8; d = 4"
   ]
  },
  {
   "cell_type": "code",
   "execution_count": 23,
   "id": "92f6ab1d",
   "metadata": {},
   "outputs": [
    {
     "name": "stdout",
     "output_type": "stream",
     "text": [
      "Made it\n"
     ]
    }
   ],
   "source": [
    "if a < b or c < d:\n",
    "    print('Made it')"
   ]
  },
  {
   "cell_type": "markdown",
   "id": "df4e2fc8",
   "metadata": {},
   "source": [
    "### for 반복문"
   ]
  },
  {
   "cell_type": "code",
   "execution_count": null,
   "id": "fa6ad6df",
   "metadata": {},
   "outputs": [],
   "source": [
    "for value in collection:\n",
    "\n",
    "    # value 를 사용하는 코드 "
   ]
  },
  {
   "cell_type": "markdown",
   "id": "9b5e8e64",
   "metadata": {},
   "source": [
    "continue, break 예약어"
   ]
  },
  {
   "cell_type": "code",
   "execution_count": 24,
   "id": "89933c3d",
   "metadata": {},
   "outputs": [],
   "source": [
    "sequence = [1, 2, None, 4, None, 5]"
   ]
  },
  {
   "cell_type": "code",
   "execution_count": 25,
   "id": "ef00b827",
   "metadata": {},
   "outputs": [],
   "source": [
    "total = 0"
   ]
  },
  {
   "cell_type": "code",
   "execution_count": 26,
   "id": "6effd3ff",
   "metadata": {},
   "outputs": [],
   "source": [
    "for value in sequence:\n",
    "    if value is None:\n",
    "        continue  # 건너뛰고 다음 순회로 넘어감\n",
    "    total += value"
   ]
  },
  {
   "cell_type": "code",
   "execution_count": 27,
   "id": "a49691ac",
   "metadata": {},
   "outputs": [
    {
     "data": {
      "text/plain": [
       "12"
      ]
     },
     "execution_count": 27,
     "metadata": {},
     "output_type": "execute_result"
    }
   ],
   "source": [
    "total"
   ]
  },
  {
   "cell_type": "code",
   "execution_count": 28,
   "id": "013a2479",
   "metadata": {},
   "outputs": [],
   "source": [
    "sequence = [1, 2, 0, 4, 6, 5, 2, 1]\n",
    "total_until_5 = 0\n",
    "for value in sequence:\n",
    "    if value == 5:\n",
    "        break  # for 문을 빠져나감\n",
    "    total_until_5 += value"
   ]
  },
  {
   "cell_type": "code",
   "execution_count": 29,
   "id": "55422188",
   "metadata": {},
   "outputs": [
    {
     "data": {
      "text/plain": [
       "13"
      ]
     },
     "execution_count": 29,
     "metadata": {},
     "output_type": "execute_result"
    }
   ],
   "source": [
    "total_until_5"
   ]
  },
  {
   "cell_type": "code",
   "execution_count": null,
   "id": "8781b98b",
   "metadata": {},
   "outputs": [],
   "source": [
    "#실행되지 않는 예제코드니 실행하지 마세요.\n",
    "for a, b, c in iterator:\n",
    "    \n",
    "    # 실행 내용"
   ]
  },
  {
   "cell_type": "code",
   "execution_count": 31,
   "id": "f2b7f54b",
   "metadata": {},
   "outputs": [
    {
     "name": "stdout",
     "output_type": "stream",
     "text": [
      "1 3\n",
      "4 6\n"
     ]
    }
   ],
   "source": [
    "for a, b, c in [(1,2,3),(4,5,6)]:\n",
    "    print(a,c)"
   ]
  },
  {
   "cell_type": "markdown",
   "id": "7ed32f6c",
   "metadata": {},
   "source": [
    "#### enumerate"
   ]
  },
  {
   "cell_type": "code",
   "execution_count": null,
   "id": "466e6790",
   "metadata": {},
   "outputs": [],
   "source": [
    "#실행되지 않는 예제코드니 실행하지 마세요.\n",
    "i = 0\n",
    "\n",
    "for value in collection:\n",
    "    # value를 가지고 무언가 한다\n",
    "    i += 1"
   ]
  },
  {
   "cell_type": "markdown",
   "id": "b607f7ab",
   "metadata": {},
   "source": [
    "enumerate: 순차 자료형에서 현재 아이템의 색인을 함께 처리하고자 할 때 사용 (i, value) 튜플을 반환"
   ]
  },
  {
   "cell_type": "code",
   "execution_count": null,
   "id": "6715df3f",
   "metadata": {},
   "outputs": [],
   "source": [
    "#실행되지 않는 예제코드니 실행하지 마세요. \n",
    "for i, value in enumerate(collection):\n",
    "    #  i, value를 가지고 무언가 한다"
   ]
  },
  {
   "cell_type": "markdown",
   "id": "64189324",
   "metadata": {},
   "source": [
    "순차 자료형에서의 값과 그 위치를 dict에 넘겨주는 예제"
   ]
  },
  {
   "cell_type": "code",
   "execution_count": 32,
   "id": "95b51bbb",
   "metadata": {},
   "outputs": [],
   "source": [
    "some_list = ['foo', 'bar', 'baz']"
   ]
  },
  {
   "cell_type": "code",
   "execution_count": 33,
   "id": "b8d3618d",
   "metadata": {},
   "outputs": [],
   "source": [
    "mapping = dict( (v, i) for i, v in enumerate(some_list))"
   ]
  },
  {
   "cell_type": "code",
   "execution_count": 34,
   "id": "18ea3c4d",
   "metadata": {},
   "outputs": [
    {
     "data": {
      "text/plain": [
       "{'foo': 0, 'bar': 1, 'baz': 2}"
      ]
     },
     "execution_count": 34,
     "metadata": {},
     "output_type": "execute_result"
    }
   ],
   "source": [
    "mapping"
   ]
  },
  {
   "cell_type": "markdown",
   "id": "3e659490",
   "metadata": {},
   "source": [
    "### 리스트 내포, 사전 내포, 세트 내포"
   ]
  },
  {
   "cell_type": "markdown",
   "id": "a493d72b",
   "metadata": {},
   "source": [
    "리스트 내포 기본 형태"
   ]
  },
  {
   "cell_type": "code",
   "execution_count": null,
   "id": "69e8e9ff",
   "metadata": {},
   "outputs": [],
   "source": [
    "# 실행되지 않는 코드이니 실행하지 마세요. \n",
    "[expr for val in collection if condtion]"
   ]
  },
  {
   "cell_type": "markdown",
   "id": "1fe71eda",
   "metadata": {},
   "source": [
    "반복문으로 구현하면 아래와 같음"
   ]
  },
  {
   "cell_type": "code",
   "execution_count": null,
   "id": "a81fa2ad",
   "metadata": {},
   "outputs": [],
   "source": [
    "# 실행되지 않는 코드이니 실행하지 마세요. \n",
    "\n",
    "result = []\n",
    "for val in collection:\n",
    "    if condition:\n",
    "        result.append(expr)"
   ]
  },
  {
   "cell_type": "markdown",
   "id": "eff9446b",
   "metadata": {},
   "source": [
    "<문자열 길이가 2 이하인 문자열 제외하고 나머지를 대문자로 바꾸는 예제>"
   ]
  },
  {
   "cell_type": "code",
   "execution_count": null,
   "id": "0fc3248b",
   "metadata": {},
   "outputs": [],
   "source": [
    "strings = ['a', 'as', 'bat', 'car', 'dove', 'python']"
   ]
  },
  {
   "cell_type": "code",
   "execution_count": null,
   "id": "6bf327df",
   "metadata": {},
   "outputs": [],
   "source": [
    "[x.upper() for x in strings if len(x) > 2]"
   ]
  },
  {
   "cell_type": "markdown",
   "id": "5f786e4a",
   "metadata": {},
   "source": [
    "사전과 세트에 대해서도 리스트 내포와 같은 방식 적용 가능 "
   ]
  },
  {
   "cell_type": "code",
   "execution_count": null,
   "id": "b6050d9c",
   "metadata": {},
   "outputs": [],
   "source": [
    "# 사전(실행되지 않는 예제 코드)\n",
    "dict_comp = {key-expr : value-expr for value in collection if condition}"
   ]
  },
  {
   "cell_type": "code",
   "execution_count": null,
   "id": "528eb2cd",
   "metadata": {},
   "outputs": [],
   "source": [
    "# 세트(실행되지 않는 예제 코드)\n",
    "set_comp = {expr for val in collection if condition}"
   ]
  },
  {
   "cell_type": "markdown",
   "id": "0932d5ef",
   "metadata": {},
   "source": [
    "<리스트 내의 문자열들의 길이가 저장된 세트 생성 예제>"
   ]
  },
  {
   "cell_type": "code",
   "execution_count": 36,
   "id": "d8df8ac0",
   "metadata": {},
   "outputs": [],
   "source": [
    "unique_lengths = {len(x) for x in strings}"
   ]
  },
  {
   "cell_type": "code",
   "execution_count": 37,
   "id": "a9eeda14",
   "metadata": {},
   "outputs": [
    {
     "data": {
      "text/plain": [
       "{1, 2, 3, 4, 6}"
      ]
     },
     "execution_count": 37,
     "metadata": {},
     "output_type": "execute_result"
    }
   ],
   "source": [
    "unique_lengths"
   ]
  },
  {
   "cell_type": "markdown",
   "id": "60d22019",
   "metadata": {},
   "source": [
    "<리스트에서 문자열의 위치 저장하고 있는 사전 생성 예제>"
   ]
  },
  {
   "cell_type": "code",
   "execution_count": 38,
   "id": "217af891",
   "metadata": {},
   "outputs": [],
   "source": [
    "loc_mapping = {val : index for index, val in enumerate(strings)}"
   ]
  },
  {
   "cell_type": "code",
   "execution_count": 39,
   "id": "909922a2",
   "metadata": {},
   "outputs": [
    {
     "data": {
      "text/plain": [
       "{'a': 0, 'as': 1, 'bat': 2, 'car': 3, 'dove': 4, 'python': 5}"
      ]
     },
     "execution_count": 39,
     "metadata": {},
     "output_type": "execute_result"
    }
   ],
   "source": [
    "loc_mapping"
   ]
  },
  {
   "cell_type": "code",
   "execution_count": 40,
   "id": "0ff94cd8",
   "metadata": {},
   "outputs": [],
   "source": [
    "loc_mapping = dict((val, idx) for idx, val in enumerate(strings))"
   ]
  },
  {
   "cell_type": "code",
   "execution_count": 41,
   "id": "88b41a19",
   "metadata": {},
   "outputs": [
    {
     "data": {
      "text/plain": [
       "{'a': 0, 'as': 1, 'bat': 2, 'car': 3, 'dove': 4, 'python': 5}"
      ]
     },
     "execution_count": 41,
     "metadata": {},
     "output_type": "execute_result"
    }
   ],
   "source": [
    "loc_mapping"
   ]
  },
  {
   "cell_type": "markdown",
   "id": "6e653822",
   "metadata": {},
   "source": [
    "#### 중첩된 리스트 내포 \n",
    "<e가 2개 이상 포함된 이름의 리스트 생성 예제>"
   ]
  },
  {
   "cell_type": "code",
   "execution_count": 42,
   "id": "83064944",
   "metadata": {},
   "outputs": [],
   "source": [
    "# 남녀의 이름 구분 저장\n",
    "all_data = [['Tom', 'Billy', 'Jefferson', 'Andrew', 'Wesley', 'Steven'], \n",
    "           ['Susie', 'Casey', 'Jill', 'Ana', 'Eva', 'Jennifer']]"
   ]
  },
  {
   "cell_type": "code",
   "execution_count": 43,
   "id": "0b47e050",
   "metadata": {},
   "outputs": [],
   "source": [
    "names_of_interest =[]\n",
    "for names in all_data:\n",
    "    enough_es = [name for name in names if name.count('e') >= 2]\n",
    "    names_of_interest.extend(enough_es)"
   ]
  },
  {
   "cell_type": "code",
   "execution_count": 44,
   "id": "7de335ac",
   "metadata": {},
   "outputs": [
    {
     "data": {
      "text/plain": [
       "['Jefferson', 'Wesley', 'Steven', 'Jennifer']"
      ]
     },
     "execution_count": 44,
     "metadata": {},
     "output_type": "execute_result"
    }
   ],
   "source": [
    "names_of_interest"
   ]
  },
  {
   "cell_type": "code",
   "execution_count": 45,
   "id": "5dc434fb",
   "metadata": {},
   "outputs": [],
   "source": [
    "# 중첩된 리스트 내포 이용\n",
    "result = [name for names in all_data for name in names \n",
    "          if name.count('e') >= 2]"
   ]
  },
  {
   "cell_type": "code",
   "execution_count": 46,
   "id": "883ca9ad",
   "metadata": {},
   "outputs": [
    {
     "data": {
      "text/plain": [
       "['Jefferson', 'Wesley', 'Steven', 'Jennifer']"
      ]
     },
     "execution_count": 46,
     "metadata": {},
     "output_type": "execute_result"
    }
   ],
   "source": [
    "result"
   ]
  },
  {
   "cell_type": "markdown",
   "id": "de938cb6",
   "metadata": {},
   "source": [
    "<숫자 튜플이 담긴 리스트를 단순한 리스트로 변환하는 예제>"
   ]
  },
  {
   "cell_type": "code",
   "execution_count": 47,
   "id": "75a612f4",
   "metadata": {},
   "outputs": [],
   "source": [
    "some_tuples = [(1, 2, 3), (4, 5, 6), (7, 8, 9)]"
   ]
  },
  {
   "cell_type": "code",
   "execution_count": 48,
   "id": "0f9108d0",
   "metadata": {},
   "outputs": [],
   "source": [
    "flattened = [x for tup in some_tuples for x in tup]"
   ]
  },
  {
   "cell_type": "code",
   "execution_count": 49,
   "id": "9acdde9c",
   "metadata": {},
   "outputs": [
    {
     "data": {
      "text/plain": [
       "[1, 2, 3, 4, 5, 6, 7, 8, 9]"
      ]
     },
     "execution_count": 49,
     "metadata": {},
     "output_type": "execute_result"
    }
   ],
   "source": [
    "flattened"
   ]
  },
  {
   "cell_type": "code",
   "execution_count": 50,
   "id": "34247d41",
   "metadata": {},
   "outputs": [],
   "source": [
    "flattened = []\n",
    "for tup in some_tuples:\n",
    "    for x in tup:\n",
    "        flattened.append(x)"
   ]
  },
  {
   "cell_type": "code",
   "execution_count": 51,
   "id": "fe8a9d0c",
   "metadata": {},
   "outputs": [
    {
     "data": {
      "text/plain": [
       "[[1, 2, 3], [4, 5, 6], [7, 8, 9]]"
      ]
     },
     "execution_count": 51,
     "metadata": {},
     "output_type": "execute_result"
    }
   ],
   "source": [
    "[[x for x in tup] for tup in some_tuples]"
   ]
  },
  {
   "cell_type": "markdown",
   "id": "026841bc",
   "metadata": {},
   "source": [
    "### while 반복문"
   ]
  },
  {
   "cell_type": "code",
   "execution_count": 52,
   "id": "4130e0c7",
   "metadata": {},
   "outputs": [],
   "source": [
    "x = 256\n",
    "total = 0\n",
    "while x > 0:\n",
    "    if total > 500:\n",
    "        break\n",
    "    total += x\n",
    "    x = x // 2\n"
   ]
  },
  {
   "cell_type": "code",
   "execution_count": 53,
   "id": "16a1297f",
   "metadata": {},
   "outputs": [
    {
     "data": {
      "text/plain": [
       "504"
      ]
     },
     "execution_count": 53,
     "metadata": {},
     "output_type": "execute_result"
    }
   ],
   "source": [
    "total"
   ]
  },
  {
   "cell_type": "markdown",
   "id": "c6faf19d",
   "metadata": {},
   "source": [
    "### pass"
   ]
  },
  {
   "cell_type": "code",
   "execution_count": 54,
   "id": "fc46bc01",
   "metadata": {},
   "outputs": [
    {
     "name": "stdout",
     "output_type": "stream",
     "text": [
      "positive\n"
     ]
    }
   ],
   "source": [
    "if x < 0:\n",
    "    print('negative')\n",
    "elif x == 0:\n",
    "    # todo: 나중에 뭔가 추가해야 함\n",
    "    pass\n",
    "else:\n",
    "    print('positive')"
   ]
  },
  {
   "cell_type": "code",
   "execution_count": 55,
   "id": "406e3419",
   "metadata": {},
   "outputs": [],
   "source": [
    "def f(x, y, z):\n",
    "    # todo: 이 함수는 구현해야 함\n",
    "    pass"
   ]
  },
  {
   "cell_type": "markdown",
   "id": "71d67df3",
   "metadata": {},
   "source": [
    "### range \n",
    "연속된 정수의 리스트 생성: range(stop) 또는 range(start, stop[, step])"
   ]
  },
  {
   "cell_type": "code",
   "execution_count": 56,
   "id": "1c0b8cd8",
   "metadata": {},
   "outputs": [
    {
     "data": {
      "text/plain": [
       "range(0, 10)"
      ]
     },
     "execution_count": 56,
     "metadata": {},
     "output_type": "execute_result"
    }
   ],
   "source": [
    "range(10)\n"
   ]
  },
  {
   "cell_type": "code",
   "execution_count": 57,
   "id": "7518d3c3",
   "metadata": {},
   "outputs": [
    {
     "name": "stdout",
     "output_type": "stream",
     "text": [
      "0\n",
      "1\n",
      "2\n",
      "3\n",
      "4\n",
      "5\n",
      "6\n",
      "7\n",
      "8\n",
      "9\n"
     ]
    }
   ],
   "source": [
    "for i in range(10):\n",
    "    print(i)"
   ]
  },
  {
   "cell_type": "code",
   "execution_count": 58,
   "id": "db6ffca8",
   "metadata": {},
   "outputs": [
    {
     "name": "stdout",
     "output_type": "stream",
     "text": [
      "2\n",
      "4\n",
      "6\n",
      "8\n",
      "10\n",
      "12\n",
      "14\n",
      "16\n",
      "18\n"
     ]
    }
   ],
   "source": [
    "for i in range(2, 20, 2):\n",
    "    print(i)"
   ]
  },
  {
   "cell_type": "markdown",
   "id": "6059eb4b",
   "metadata": {},
   "source": [
    "range는 주로 반복문에서 색인 리스트로 사용됨"
   ]
  },
  {
   "cell_type": "code",
   "execution_count": 59,
   "id": "d209ad69",
   "metadata": {},
   "outputs": [],
   "source": [
    "seq = [4, 3, 9, 1]\n",
    "for i in range(len(seq)):\n",
    "    val = seq[i]"
   ]
  },
  {
   "cell_type": "code",
   "execution_count": 60,
   "id": "268d4e61",
   "metadata": {},
   "outputs": [
    {
     "data": {
      "text/plain": [
       "23331668"
      ]
     },
     "execution_count": 60,
     "metadata": {},
     "output_type": "execute_result"
    }
   ],
   "source": [
    "# 0 에서 9999까지 숫자 중 3이나 5의 배수 값의 합\n",
    "sum = 0\n",
    "for i in range(10000):\n",
    "    # % is the modulo operator\n",
    "    if i % 3 == 0 or i % 5 == 0:\n",
    "        sum += i\n",
    "\n",
    "sum"
   ]
  },
  {
   "cell_type": "markdown",
   "id": "b2d380ae",
   "metadata": {},
   "source": [
    "### 삼단 표현"
   ]
  },
  {
   "cell_type": "markdown",
   "id": "f16c445d",
   "metadata": {},
   "source": [
    "if-else 블록을 한줄로 표현할 수 있도록 함"
   ]
  },
  {
   "cell_type": "code",
   "execution_count": null,
   "id": "28b123fe",
   "metadata": {},
   "outputs": [],
   "source": [
    "#실행X\n",
    "value = true-expr if condtion else false-expr"
   ]
  },
  {
   "cell_type": "markdown",
   "id": "f5193fb6",
   "metadata": {},
   "source": [
    "아래의 코드와 동일"
   ]
  },
  {
   "cell_type": "code",
   "execution_count": null,
   "id": "1feba71a",
   "metadata": {},
   "outputs": [],
   "source": [
    "#실행X\n",
    "if condtion:\n",
    "\n",
    "    value = true-expr\n",
    "    \n",
    "else:\n",
    "\n",
    "    value = false-expr"
   ]
  },
  {
   "cell_type": "code",
   "execution_count": 63,
   "id": "64c00da4",
   "metadata": {},
   "outputs": [],
   "source": [
    "x = 5\n",
    "s = 'Non-negative' if x >= 0 else 'Negative'"
   ]
  },
  {
   "cell_type": "markdown",
   "id": "e674476c",
   "metadata": {},
   "source": [
    "## 5. 함수"
   ]
  },
  {
   "cell_type": "code",
   "execution_count": 64,
   "id": "feee0f5b",
   "metadata": {},
   "outputs": [],
   "source": [
    "def my_function(x, y, z=1.5):\n",
    "    if z > 1:\n",
    "        return z * (x + y)\n",
    "    else:\n",
    "        return z / (x + y)\n"
   ]
  },
  {
   "cell_type": "markdown",
   "id": "7b33a1a0",
   "metadata": {},
   "source": [
    "함수호출"
   ]
  },
  {
   "cell_type": "code",
   "execution_count": 65,
   "id": "ca37238f",
   "metadata": {},
   "outputs": [
    {
     "data": {
      "text/plain": [
       "0.06363636363636363"
      ]
     },
     "execution_count": 65,
     "metadata": {},
     "output_type": "execute_result"
    }
   ],
   "source": [
    "my_function(5, 6, z = 0.7)"
   ]
  },
  {
   "cell_type": "code",
   "execution_count": 66,
   "id": "63c0aee3",
   "metadata": {},
   "outputs": [
    {
     "data": {
      "text/plain": [
       "35.49"
      ]
     },
     "execution_count": 66,
     "metadata": {},
     "output_type": "execute_result"
    }
   ],
   "source": [
    "my_function(3.14, 7, 3.5)"
   ]
  },
  {
   "cell_type": "markdown",
   "id": "8619241b",
   "metadata": {},
   "source": [
    "### 함수의 형태"
   ]
  },
  {
   "cell_type": "markdown",
   "id": "9bbd9d3d",
   "metadata": {},
   "source": [
    "일반적인 함수"
   ]
  },
  {
   "cell_type": "code",
   "execution_count": 67,
   "id": "d6383d9f",
   "metadata": {},
   "outputs": [],
   "source": [
    "def add(a, b):\n",
    "    result = a + b\n",
    "    return result"
   ]
  },
  {
   "cell_type": "code",
   "execution_count": 68,
   "id": "6ee62c58",
   "metadata": {},
   "outputs": [
    {
     "name": "stdout",
     "output_type": "stream",
     "text": [
      "7\n"
     ]
    }
   ],
   "source": [
    "a = add(3, 4)\n",
    "print(a)"
   ]
  },
  {
   "cell_type": "markdown",
   "id": "ef4e3904",
   "metadata": {},
   "source": [
    "입력값이 없는 함수"
   ]
  },
  {
   "cell_type": "code",
   "execution_count": 69,
   "id": "5a9d3a64",
   "metadata": {},
   "outputs": [],
   "source": [
    "def say():\n",
    "    return('Hi')"
   ]
  },
  {
   "cell_type": "code",
   "execution_count": 70,
   "id": "2573cd5b",
   "metadata": {},
   "outputs": [
    {
     "name": "stdout",
     "output_type": "stream",
     "text": [
      "Hi\n"
     ]
    }
   ],
   "source": [
    "a = say()\n",
    "print(a)"
   ]
  },
  {
   "cell_type": "markdown",
   "id": "6d5c1723",
   "metadata": {},
   "source": [
    "결괏값이 없는 함수"
   ]
  },
  {
   "cell_type": "code",
   "execution_count": 71,
   "id": "65408ade",
   "metadata": {},
   "outputs": [],
   "source": [
    "def add(a, b):\n",
    "    print(\"%d , %d의 합은 %d입니다.\" %(a, b, a+b))"
   ]
  },
  {
   "cell_type": "code",
   "execution_count": 72,
   "id": "7e75ffe7",
   "metadata": {},
   "outputs": [
    {
     "name": "stdout",
     "output_type": "stream",
     "text": [
      "3 , 4의 합은 7입니다.\n"
     ]
    }
   ],
   "source": [
    "add(3, 4)"
   ]
  },
  {
   "cell_type": "code",
   "execution_count": 73,
   "id": "76cc421c",
   "metadata": {},
   "outputs": [
    {
     "name": "stdout",
     "output_type": "stream",
     "text": [
      "3 , 4의 합은 7입니다.\n"
     ]
    }
   ],
   "source": [
    "a = add(3, 4)"
   ]
  },
  {
   "cell_type": "code",
   "execution_count": 74,
   "id": "e01d68ce",
   "metadata": {},
   "outputs": [
    {
     "name": "stdout",
     "output_type": "stream",
     "text": [
      "None\n"
     ]
    }
   ],
   "source": [
    "print(a)"
   ]
  },
  {
   "cell_type": "markdown",
   "id": "666e3515",
   "metadata": {},
   "source": [
    "입력값도 결괏값도 없는 함수"
   ]
  },
  {
   "cell_type": "code",
   "execution_count": 75,
   "id": "27013694",
   "metadata": {},
   "outputs": [],
   "source": [
    "def say():\n",
    "    print(\"Hi\")"
   ]
  },
  {
   "cell_type": "code",
   "execution_count": 76,
   "id": "632574c7",
   "metadata": {},
   "outputs": [
    {
     "name": "stdout",
     "output_type": "stream",
     "text": [
      "Hi\n"
     ]
    }
   ],
   "source": [
    "say()"
   ]
  },
  {
   "cell_type": "markdown",
   "id": "850401c0",
   "metadata": {},
   "source": [
    "## 입력값의 수가 미정일 때"
   ]
  },
  {
   "cell_type": "code",
   "execution_count": 77,
   "id": "8c8e9d7e",
   "metadata": {},
   "outputs": [],
   "source": [
    "def add_many(*args):\n",
    "    result = 0\n",
    "    for i in args:\n",
    "        result = result + i\n",
    "    return result"
   ]
  },
  {
   "cell_type": "code",
   "execution_count": 78,
   "id": "0bb7fd7d",
   "metadata": {},
   "outputs": [
    {
     "name": "stdout",
     "output_type": "stream",
     "text": [
      "6\n"
     ]
    }
   ],
   "source": [
    "result = add_many(1,2,3)\n",
    "print(result)"
   ]
  },
  {
   "cell_type": "markdown",
   "id": "57137860",
   "metadata": {},
   "source": [
    "### 네임스페이스, 스코프, 지역 함수"
   ]
  },
  {
   "cell_type": "code",
   "execution_count": 79,
   "id": "2cb7e673",
   "metadata": {},
   "outputs": [],
   "source": [
    "def func():\n",
    "    a = []\n",
    "    for i in range(5):\n",
    "        a.append(i)"
   ]
  },
  {
   "cell_type": "code",
   "execution_count": 80,
   "id": "5b004802",
   "metadata": {},
   "outputs": [],
   "source": [
    "a = []\n",
    "func()"
   ]
  },
  {
   "cell_type": "code",
   "execution_count": 81,
   "id": "15b10114",
   "metadata": {},
   "outputs": [
    {
     "data": {
      "text/plain": [
       "[]"
      ]
     },
     "execution_count": 81,
     "metadata": {},
     "output_type": "execute_result"
    }
   ],
   "source": [
    "a"
   ]
  },
  {
   "cell_type": "code",
   "execution_count": 82,
   "id": "78eda6e2",
   "metadata": {},
   "outputs": [],
   "source": [
    "a = []\n",
    "def func():\n",
    "    for i in range(5):\n",
    "        a.append(i)"
   ]
  },
  {
   "cell_type": "code",
   "execution_count": 83,
   "id": "faf49903",
   "metadata": {},
   "outputs": [],
   "source": [
    "func()"
   ]
  },
  {
   "cell_type": "code",
   "execution_count": 84,
   "id": "ffd95443",
   "metadata": {},
   "outputs": [
    {
     "data": {
      "text/plain": [
       "[0, 1, 2, 3, 4]"
      ]
     },
     "execution_count": 84,
     "metadata": {},
     "output_type": "execute_result"
    }
   ],
   "source": [
    "a"
   ]
  },
  {
   "cell_type": "code",
   "execution_count": 85,
   "id": "da066879",
   "metadata": {},
   "outputs": [],
   "source": [
    "a = None"
   ]
  },
  {
   "cell_type": "code",
   "execution_count": 86,
   "id": "47e2de83",
   "metadata": {},
   "outputs": [],
   "source": [
    "def bind_a_variable():\n",
    "    global a\n",
    "    a = []\n",
    "\n",
    "bind_a_variable()"
   ]
  },
  {
   "cell_type": "code",
   "execution_count": 87,
   "id": "e62d3c25",
   "metadata": {},
   "outputs": [
    {
     "data": {
      "text/plain": [
       "[]"
      ]
     },
     "execution_count": 87,
     "metadata": {},
     "output_type": "execute_result"
    }
   ],
   "source": [
    "a"
   ]
  },
  {
   "cell_type": "code",
   "execution_count": 88,
   "id": "504fcb2c",
   "metadata": {},
   "outputs": [],
   "source": [
    "def outer_function(x, y, z):\n",
    "    def inner_function(a, b, c):\n",
    "        pass\n",
    "    pass"
   ]
  },
  {
   "cell_type": "markdown",
   "id": "cbdbfb8b",
   "metadata": {},
   "source": [
    "### 여러 값 반환하기"
   ]
  },
  {
   "cell_type": "code",
   "execution_count": 89,
   "id": "06c2d587",
   "metadata": {},
   "outputs": [],
   "source": [
    "def f():\n",
    "    a = 5\n",
    "    b = 6\n",
    "    c = 7\n",
    "    return a, b, c\n",
    "\n",
    "a, b, c = f()"
   ]
  },
  {
   "cell_type": "code",
   "execution_count": 90,
   "id": "5e8369bf",
   "metadata": {},
   "outputs": [
    {
     "data": {
      "text/plain": [
       "(5, 6, 7)"
      ]
     },
     "execution_count": 90,
     "metadata": {},
     "output_type": "execute_result"
    }
   ],
   "source": [
    "a, b, c"
   ]
  },
  {
   "cell_type": "code",
   "execution_count": 91,
   "id": "c61ca302",
   "metadata": {},
   "outputs": [],
   "source": [
    "return_value = f()"
   ]
  },
  {
   "cell_type": "code",
   "execution_count": 92,
   "id": "22289aa6",
   "metadata": {},
   "outputs": [
    {
     "data": {
      "text/plain": [
       "(5, 6, 7)"
      ]
     },
     "execution_count": 92,
     "metadata": {},
     "output_type": "execute_result"
    }
   ],
   "source": [
    "return_value"
   ]
  },
  {
   "cell_type": "code",
   "execution_count": 93,
   "id": "dae9b929",
   "metadata": {},
   "outputs": [],
   "source": [
    "def f():\n",
    "    a = 5\n",
    "    b = 6\n",
    "    c = 7\n",
    "    return {'a' : a, 'b' : b, 'c' : c}"
   ]
  },
  {
   "cell_type": "code",
   "execution_count": 94,
   "id": "fe2de46c",
   "metadata": {},
   "outputs": [],
   "source": [
    "return_value = f()"
   ]
  },
  {
   "cell_type": "code",
   "execution_count": 95,
   "id": "695ab658",
   "metadata": {},
   "outputs": [
    {
     "data": {
      "text/plain": [
       "{'a': 5, 'b': 6, 'c': 7}"
      ]
     },
     "execution_count": 95,
     "metadata": {},
     "output_type": "execute_result"
    }
   ],
   "source": [
    "return_value"
   ]
  },
  {
   "cell_type": "markdown",
   "id": "47037577",
   "metadata": {
    "collapsed": true
   },
   "source": [
    "### 익명 함수(람다 함수)"
   ]
  },
  {
   "cell_type": "code",
   "execution_count": 96,
   "id": "50ea4f03",
   "metadata": {},
   "outputs": [
    {
     "name": "stdout",
     "output_type": "stream",
     "text": [
      "7\n"
     ]
    }
   ],
   "source": [
    "add = lambda a, b: a+b\n",
    "result = add(3,4)\n",
    "print(result)"
   ]
  },
  {
   "cell_type": "code",
   "execution_count": 97,
   "id": "dd6d12b1",
   "metadata": {},
   "outputs": [
    {
     "name": "stdout",
     "output_type": "stream",
     "text": [
      "7\n"
     ]
    }
   ],
   "source": [
    "def add(a, b):\n",
    "    return a+b\n",
    "\n",
    "result = add(3,4)\n",
    "print(result)"
   ]
  },
  {
   "cell_type": "code",
   "execution_count": 98,
   "id": "4b2257d7",
   "metadata": {},
   "outputs": [],
   "source": [
    "def short_function(x):\n",
    "    return x * 2\n",
    "\n",
    "equiv_anon = lambda x: x*2"
   ]
  },
  {
   "cell_type": "code",
   "execution_count": 99,
   "id": "289723a3",
   "metadata": {},
   "outputs": [
    {
     "data": {
      "text/plain": [
       "<function __main__.<lambda>(x)>"
      ]
     },
     "execution_count": 99,
     "metadata": {},
     "output_type": "execute_result"
    }
   ],
   "source": [
    "equiv_anon"
   ]
  }
 ],
 "metadata": {
  "kernelspec": {
   "display_name": "Python 3 (ipykernel)",
   "language": "python",
   "name": "python3"
  },
  "language_info": {
   "codemirror_mode": {
    "name": "ipython",
    "version": 3
   },
   "file_extension": ".py",
   "mimetype": "text/x-python",
   "name": "python",
   "nbconvert_exporter": "python",
   "pygments_lexer": "ipython3",
   "version": "3.9.7"
  }
 },
 "nbformat": 4,
 "nbformat_minor": 5
}
