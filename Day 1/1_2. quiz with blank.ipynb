{
  "cells": [
    {
      "cell_type": "markdown",
      "id": "adb63aef",
      "metadata": {
        "id": "adb63aef"
      },
      "source": [
        "## slide p.23"
      ]
    },
    {
      "cell_type": "code",
      "execution_count": null,
      "id": "a9566b90",
      "metadata": {
        "id": "a9566b90",
        "outputId": "68849f82-dd9f-4e78-c25f-d98f9b45ab19"
      },
      "outputs": [
        {
          "data": {
            "text/plain": [
              "'a%b%c:d'"
            ]
          },
          "execution_count": 1,
          "metadata": {},
          "output_type": "execute_result"
        }
      ],
      "source": [
        "string = \"a:b:c:d\"\n",
        "string.replace(?, ?, ?)"
      ]
    },
    {
      "cell_type": "code",
      "execution_count": null,
      "id": "adc72296",
      "metadata": {
        "id": "adc72296",
        "outputId": "35edc759-6d25-4cbd-e3a9-fe5fea145d7a"
      },
      "outputs": [
        {
          "name": "stdout",
          "output_type": "stream",
          "text": [
            "5678\n"
          ]
        }
      ],
      "source": [
        "phone = \"010-1234-5678\"\n",
        "print(?)"
      ]
    },
    {
      "cell_type": "markdown",
      "id": "6acede7a",
      "metadata": {
        "id": "6acede7a"
      },
      "source": [
        "(추가) 다음 코드에서 오류가 발생한 이유는?"
      ]
    },
    {
      "cell_type": "code",
      "execution_count": null,
      "id": "5bcd8dad",
      "metadata": {
        "id": "5bcd8dad"
      },
      "outputs": [],
      "source": [
        "a = (1,3)\n",
        "a[0]= 4"
      ]
    },
    {
      "cell_type": "markdown",
      "id": "58235c6b",
      "metadata": {
        "id": "58235c6b"
      },
      "source": [
        "(추가) nums 리스트에 다음과 같은 데이터가 있을 때 **가장 큰 원소 3개**와 **가장 작은 3개의 원소**을 출력하라."
      ]
    },
    {
      "cell_type": "code",
      "execution_count": null,
      "id": "696465b4",
      "metadata": {
        "id": "696465b4"
      },
      "outputs": [],
      "source": [
        "nums = [-1, 10, 2, 8, 9, 7, -11, 20, 21, 37, 56, 21, -27]\n",
        "?"
      ]
    },
    {
      "cell_type": "markdown",
      "id": "7b8475d7",
      "metadata": {
        "id": "7b8475d7"
      },
      "source": [
        "## slide p.30~31"
      ]
    },
    {
      "cell_type": "markdown",
      "id": "7d6d9a5b",
      "metadata": {
        "id": "7d6d9a5b"
      },
      "source": [
        "#### 1000이하의 3의 배수 합 구하는 문제"
      ]
    },
    {
      "cell_type": "code",
      "execution_count": null,
      "id": "0c48a144",
      "metadata": {
        "id": "0c48a144"
      },
      "outputs": [],
      "source": [
        "result = 0\n",
        "i=0\n",
        "while i <= 1000:\n",
        "    ?\n",
        "print(result)"
      ]
    },
    {
      "cell_type": "markdown",
      "id": "859befe4",
      "metadata": {
        "id": "859befe4"
      },
      "source": [
        "#### A반 점수의 평균 구하는 문제"
      ]
    },
    {
      "cell_type": "code",
      "execution_count": null,
      "id": "cfafc52b",
      "metadata": {
        "id": "cfafc52b"
      },
      "outputs": [],
      "source": [
        "A = [70, 60, 55, 75, 95, 90, 80, 80, 85, 100]\n",
        "sum=0\n",
        "for score in A:\n",
        "    ?\n",
        "print(?)"
      ]
    },
    {
      "cell_type": "markdown",
      "id": "8813fccb",
      "metadata": {
        "id": "8813fccb"
      },
      "source": [
        "#### 요일별 기온 문제"
      ]
    },
    {
      "cell_type": "code",
      "execution_count": null,
      "id": "ee8a47d5",
      "metadata": {
        "id": "ee8a47d5",
        "outputId": "b3368a6a-b338-44c4-a02d-080dae2f8234"
      },
      "outputs": [
        {
          "name": "stdout",
          "output_type": "stream",
          "text": [
            "수\n",
            "목\n",
            "토\n",
            "일\n"
          ]
        }
      ],
      "source": [
        "weather = ?\n",
        "for key in weather.keys():\n",
        "    ?"
      ]
    },
    {
      "cell_type": "markdown",
      "id": "d60e5b56",
      "metadata": {
        "id": "d60e5b56"
      },
      "source": [
        "#### 별 출력 문제 (for문)"
      ]
    },
    {
      "cell_type": "code",
      "execution_count": null,
      "id": "4f93cd36",
      "metadata": {
        "id": "4f93cd36",
        "outputId": "1ad12c03-ceee-4e6c-efd1-1847f2f063d8"
      },
      "outputs": [
        {
          "name": "stdout",
          "output_type": "stream",
          "text": [
            "5\n",
            "    *    \n",
            "   ***   \n",
            "  *****  \n",
            " ******* \n",
            "*********\n"
          ]
        }
      ],
      "source": [
        "n = int(input())\n",
        "?"
      ]
    },
    {
      "cell_type": "markdown",
      "id": "5bc3bb99",
      "metadata": {
        "id": "5bc3bb99"
      },
      "source": [
        "## slide p.34"
      ]
    },
    {
      "cell_type": "code",
      "execution_count": null,
      "id": "d49fe56f",
      "metadata": {
        "id": "d49fe56f",
        "outputId": "92c086d7-9c8b-439d-e23f-50209a90c94b"
      },
      "outputs": [
        {
          "name": "stdout",
          "output_type": "stream",
          "text": [
            "21\n",
            "6\n",
            "input error\n"
          ]
        }
      ],
      "source": [
        "def add_mul(choice, *args):\n",
        "    if ?: #add\n",
        "        ?\n",
        "    elif ?: #mul\n",
        "        ?\n",
        "    else:\n",
        "        result = 'input error'\n",
        "    return result\n",
        "\n",
        "print(add_mul('add', 1,2,3,4,5,6))\n",
        "print(add_mul('mul', 1,2,3))\n",
        "print(add_mul('div', 4,2))"
      ]
    },
    {
      "cell_type": "markdown",
      "id": "ec72b6c1",
      "metadata": {
        "id": "ec72b6c1"
      },
      "source": [
        "## slide p.36"
      ]
    },
    {
      "cell_type": "code",
      "execution_count": null,
      "id": "60888a16",
      "metadata": {
        "id": "60888a16",
        "outputId": "a29c7167-98bd-4f20-b839-897deb7c3315"
      },
      "outputs": [
        {
          "data": {
            "text/plain": [
              "55"
            ]
          },
          "execution_count": 8,
          "metadata": {},
          "output_type": "execute_result"
        }
      ],
      "source": [
        "def f(n):\n",
        "    ...\n",
        "    \n",
        "    return ?\n",
        "\n",
        "f(10)"
      ]
    },
    {
      "cell_type": "code",
      "execution_count": null,
      "id": "68829185",
      "metadata": {
        "id": "68829185",
        "outputId": "8cfb0e78-882c-4be0-de3f-f3da245a4a91"
      },
      "outputs": [
        {
          "data": {
            "text/plain": [
              "[1, 4, 9, 16]"
            ]
          },
          "execution_count": 9,
          "metadata": {},
          "output_type": "execute_result"
        }
      ],
      "source": [
        "def sq(n):\n",
        "    a=[]\n",
        "    ...\n",
        "    \n",
        "    return a\n",
        "\n",
        "sq(23)"
      ]
    },
    {
      "cell_type": "code",
      "execution_count": null,
      "id": "130bf210",
      "metadata": {
        "id": "130bf210"
      },
      "outputs": [],
      "source": [
        "def f(weather):\n",
        "    a=[]\n",
        "    ...\n",
        "    \n",
        "    return a"
      ]
    },
    {
      "cell_type": "code",
      "execution_count": null,
      "id": "ac75ee25",
      "metadata": {
        "scrolled": false,
        "id": "ac75ee25",
        "outputId": "0898c6d8-d779-4a80-f681-1bf373a0ee11"
      },
      "outputs": [
        {
          "data": {
            "text/plain": [
              "['수', '목', '토', '일']"
            ]
          },
          "execution_count": 11,
          "metadata": {},
          "output_type": "execute_result"
        }
      ],
      "source": [
        "weather = {'월': 25.5, '화': 28.3, '수':33.2, '목':32.1, '금':17.3, '토':35.3, '일':33.3}\n",
        "f(weather)"
      ]
    },
    {
      "cell_type": "markdown",
      "source": [
        "### Class"
      ],
      "metadata": {
        "id": "nZ6s7NFaLNLG"
      },
      "id": "nZ6s7NFaLNLG"
    },
    {
      "cell_type": "code",
      "source": [
        "class Calculator:\n",
        "  def __init__(self):\n",
        "    self.value = 0\n",
        "\n",
        "  def add(self, val):\n",
        "    self.value += val\n",
        "\n",
        "\n"
      ],
      "metadata": {
        "id": "17kOnkVyLOIU"
      },
      "id": "17kOnkVyLOIU",
      "execution_count": 26,
      "outputs": []
    },
    {
      "cell_type": "code",
      "source": [
        "# Todo\n",
        "# UpgradeCalculator 클래스 - Calculator 상속\n",
        "\n",
        "cal = UpgradeCalculator()\n",
        "print(cal.add(10))\n",
        "print(cal.minus(7))"
      ],
      "metadata": {
        "id": "cA1-4NRrL0BF"
      },
      "id": "cA1-4NRrL0BF",
      "execution_count": null,
      "outputs": []
    },
    {
      "cell_type": "markdown",
      "source": [
        "---"
      ],
      "metadata": {
        "id": "Qoz6PYhQNu3v"
      },
      "id": "Qoz6PYhQNu3v"
    },
    {
      "cell_type": "code",
      "source": [
        "# Todo\n",
        "# 객체변수 value가 100 이상의 값은 가질 수 없도록 제한하는 MaxLimitCalculator 클래스를 만들어보자. \n",
        "# 다음과 같이 동작해야 한다.\n",
        "\n",
        "cal = MaxCalculator()\n",
        "cal.add(50)\n",
        "cal.add(60)\n",
        "\n",
        "print(cal.value)"
      ],
      "metadata": {
        "id": "hlFNQtvEMFvS"
      },
      "id": "hlFNQtvEMFvS",
      "execution_count": null,
      "outputs": []
    }
  ],
  "metadata": {
    "kernelspec": {
      "display_name": "Python 3 (ipykernel)",
      "language": "python",
      "name": "python3"
    },
    "language_info": {
      "codemirror_mode": {
        "name": "ipython",
        "version": 3
      },
      "file_extension": ".py",
      "mimetype": "text/x-python",
      "name": "python",
      "nbconvert_exporter": "python",
      "pygments_lexer": "ipython3",
      "version": "3.9.7"
    },
    "colab": {
      "name": "1_2. quiz with blank.ipynb",
      "provenance": []
    }
  },
  "nbformat": 4,
  "nbformat_minor": 5
}