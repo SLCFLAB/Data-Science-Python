{
 "cells": [
  {
   "cell_type": "markdown",
   "id": "adb63aef",
   "metadata": {},
   "source": [
    "## slide p.23"
   ]
  },
  {
   "cell_type": "code",
   "execution_count": 1,
   "id": "a9566b90",
   "metadata": {},
   "outputs": [
    {
     "data": {
      "text/plain": [
       "'a%b%c:d'"
      ]
     },
     "execution_count": 1,
     "metadata": {},
     "output_type": "execute_result"
    }
   ],
   "source": [
    "string = \"a:b:c:d\"\n",
    "string.replace(?, ?, ?)"
   ]
  },
  {
   "cell_type": "code",
   "execution_count": 2,
   "id": "adc72296",
   "metadata": {},
   "outputs": [
    {
     "name": "stdout",
     "output_type": "stream",
     "text": [
      "5678\n"
     ]
    }
   ],
   "source": [
    "phone = \"010-1234-5678\"\n",
    "print(?)"
   ]
  },
  {
   "cell_type": "markdown",
   "id": "6acede7a",
   "metadata": {},
   "source": [
    "(추가) 다음 코드에서 오류가 발생한 이유는?"
   ]
  },
  {
   "cell_type": "code",
   "execution_count": null,
   "id": "5bcd8dad",
   "metadata": {},
   "outputs": [],
   "source": [
    "a = (1,3)\n",
    "a[0]= 4"
   ]
  },
  {
   "cell_type": "markdown",
   "id": "58235c6b",
   "metadata": {},
   "source": [
    "(추가) nums 리스트에 다음과 같은 데이터가 있을 때 **가장 큰 원소 3개**와 **가장 작은 3개의 원소**을 출력하라."
   ]
  },
  {
   "cell_type": "code",
   "execution_count": null,
   "id": "696465b4",
   "metadata": {},
   "outputs": [],
   "source": [
    "nums = [-1, 10, 2, 8, 9, 7, -11, 20, 21, 37, 56, 21, -27]\n",
    "?"
   ]
  },
  {
   "cell_type": "markdown",
   "id": "7b8475d7",
   "metadata": {},
   "source": [
    "## slide p.30~31"
   ]
  },
  {
   "cell_type": "markdown",
   "id": "859befe4",
   "metadata": {},
   "source": [
    "#### A반 점수의 평균 구하는 문제"
   ]
  },
  {
   "cell_type": "code",
   "execution_count": null,
   "id": "cfafc52b",
   "metadata": {},
   "outputs": [],
   "source": [
    "A = [70, 60, 55, 75, 95, 90, 80, 80, 85, 100]\n",
    "sum=0\n",
    "for score in A:\n",
    "    ?\n",
    "print(?)"
   ]
  },
  {
   "cell_type": "markdown",
   "id": "7d6d9a5b",
   "metadata": {},
   "source": [
    "#### 1000이하의 3의 배수 합 구하는 문제"
   ]
  },
  {
   "cell_type": "code",
   "execution_count": null,
   "id": "0c48a144",
   "metadata": {},
   "outputs": [],
   "source": [
    "result = 0\n",
    "i=1\n",
    "while i <= 1000:\n",
    "    ?\n",
    "1000이하의 3의 배수 합 구하는 문제\n",
    "print(result)"
   ]
  },
  {
   "cell_type": "markdown",
   "id": "8813fccb",
   "metadata": {},
   "source": [
    "#### 요일별 기온 문제"
   ]
  },
  {
   "cell_type": "code",
   "execution_count": 5,
   "id": "ee8a47d5",
   "metadata": {},
   "outputs": [
    {
     "name": "stdout",
     "output_type": "stream",
     "text": [
      "수\n",
      "목\n",
      "토\n",
      "일\n"
     ]
    }
   ],
   "source": [
    "weather = {'월': 25.5, '화': 28.3, '수':33.2, '목':32.1, '금':17.3, '토':35.3, '일':33.3}\n",
    "for key in weather.keys():\n",
    "    ?"
   ]
  },
  {
   "cell_type": "markdown",
   "id": "d60e5b56",
   "metadata": {},
   "source": [
    "#### 별 출력 문제 (for문)"
   ]
  },
  {
   "cell_type": "code",
   "execution_count": 6,
   "id": "4f93cd36",
   "metadata": {},
   "outputs": [
    {
     "name": "stdout",
     "output_type": "stream",
     "text": [
      "5\n",
      "    *    \n",
      "   ***   \n",
      "  *****  \n",
      " ******* \n",
      "*********\n"
     ]
    }
   ],
   "source": [
    "n = int(input())\n",
    "?"
   ]
  },
  {
   "cell_type": "markdown",
   "id": "5bc3bb99",
   "metadata": {},
   "source": [
    "## slide p.34"
   ]
  },
  {
   "cell_type": "code",
   "execution_count": 7,
   "id": "d49fe56f",
   "metadata": {},
   "outputs": [
    {
     "name": "stdout",
     "output_type": "stream",
     "text": [
      "21\n",
      "6\n",
      "input error\n"
     ]
    }
   ],
   "source": [
    "def add_mul(choice, *args):\n",
    "    if ?: #add\n",
    "        ?\n",
    "    elif ?: #mul\n",
    "        ?\n",
    "    else:\n",
    "        result = 'input error'\n",
    "    return result\n",
    "\n",
    "print(add_mul('add', 1,2,3,4,5,6))\n",
    "print(add_mul('mul', 1,2,3))\n",
    "print(add_mul('div', 4,2))"
   ]
  },
  {
   "cell_type": "markdown",
   "id": "ec72b6c1",
   "metadata": {},
   "source": [
    "## slide p.36"
   ]
  },
  {
   "cell_type": "code",
   "execution_count": 8,
   "id": "60888a16",
   "metadata": {},
   "outputs": [
    {
     "data": {
      "text/plain": [
       "55"
      ]
     },
     "execution_count": 8,
     "metadata": {},
     "output_type": "execute_result"
    }
   ],
   "source": [
    "def f(n):\n",
    "    ...\n",
    "    \n",
    "    return ?\n",
    "\n",
    "f(10)"
   ]
  },
  {
   "cell_type": "code",
   "execution_count": 9,
   "id": "68829185",
   "metadata": {},
   "outputs": [
    {
     "data": {
      "text/plain": [
       "[1, 4, 9, 16]"
      ]
     },
     "execution_count": 9,
     "metadata": {},
     "output_type": "execute_result"
    }
   ],
   "source": [
    "def sq(n):\n",
    "    a=[]\n",
    "    ...\n",
    "    \n",
    "    return a\n",
    "\n",
    "sq(23)"
   ]
  },
  {
   "cell_type": "code",
   "execution_count": 10,
   "id": "130bf210",
   "metadata": {},
   "outputs": [],
   "source": [
    "def f(weather):\n",
    "    a=[]\n",
    "    ...\n",
    "    \n",
    "    return a"
   ]
  },
  {
   "cell_type": "code",
   "execution_count": 11,
   "id": "ac75ee25",
   "metadata": {
    "scrolled": false
   },
   "outputs": [
    {
     "data": {
      "text/plain": [
       "['수', '목', '토', '일']"
      ]
     },
     "execution_count": 11,
     "metadata": {},
     "output_type": "execute_result"
    }
   ],
   "source": [
    "weather = {'월': 25.5, '화': 28.3, '수':33.2, '목':32.1, '금':17.3, '토':35.3, '일':33.3}\n",
    "f(weather)"
   ]
  }
 ],
 "metadata": {
  "kernelspec": {
   "display_name": "Python 3 (ipykernel)",
   "language": "python",
   "name": "python3"
  },
  "language_info": {
   "codemirror_mode": {
    "name": "ipython",
    "version": 3
   },
   "file_extension": ".py",
   "mimetype": "text/x-python",
   "name": "python",
   "nbconvert_exporter": "python",
   "pygments_lexer": "ipython3",
   "version": "3.9.7"
  }
 },
 "nbformat": 4,
 "nbformat_minor": 5
}
