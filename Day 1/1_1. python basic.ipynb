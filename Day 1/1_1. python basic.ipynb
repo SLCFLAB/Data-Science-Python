{
 "cells": [
  {
   "cell_type": "markdown",
   "id": "e8ea7aca",
   "metadata": {},
   "source": [
    "<a href=\"https://colab.research.google.com/github/SLCFLAB/Data-Science-Python/blob/main/Day%201/1_1.%20python%20basic.ipynb\" target=\"_parent\"><img src=\"https://colab.research.google.com/assets/colab-badge.svg\" alt=\"Open In Colab\"/></a>"
   ]
  },
  {
   "cell_type": "markdown",
   "id": "0aa45d2f",
   "metadata": {},
   "source": [
    "# python basic"
   ]
  },
  {
   "cell_type": "markdown",
   "id": "4aafef55",
   "metadata": {},
   "source": [
    "### Reference\n",
    "점프 투 파이썬 02장: 파이썬 프로그래밍의 기초, 자료형 https://wikidocs.net/11  "
   ]
  },
  {
   "cell_type": "markdown",
   "id": "7092c68f",
   "metadata": {},
   "source": [
    "### 입력"
   ]
  },
  {
   "cell_type": "code",
   "execution_count": 1,
   "id": "33986d5c",
   "metadata": {},
   "outputs": [
    {
     "name": "stdout",
     "output_type": "stream",
     "text": [
      "이름: 우진\n",
      "나이: 25\n"
     ]
    }
   ],
   "source": [
    "name = input(\"이름: \") #문자열 입력\n",
    "age = int(input(\"나이: \")) #정수 입력"
   ]
  },
  {
   "cell_type": "code",
   "execution_count": 2,
   "id": "8f106c3a",
   "metadata": {},
   "outputs": [
    {
     "name": "stdout",
     "output_type": "stream",
     "text": [
      "문자열을 입력해주세요: hello\n",
      "['hello']\n"
     ]
    }
   ],
   "source": [
    "#여러개 한번에 입력받기\n",
    "str_list = input('문자열을 입력해주세요: ').split()\n",
    "print(str_list)"
   ]
  },
  {
   "cell_type": "markdown",
   "id": "27c1bfa4",
   "metadata": {},
   "source": [
    "### 형식에 맞춘 출력\n",
    "* %s: 문자열, %d: 정수, %f: 실수\n",
    "* %.2f: 소수 둘째자리까지 출력\n",
    "* %03d: 정수를 3칸에 맞추어 출력하는데 앞의 빈칸은 0으로 채워서 출력\n",
    "* \"\".format(...): {}로 지정한 곳이 대응됨"
   ]
  },
  {
   "cell_type": "code",
   "execution_count": 3,
   "id": "779b68ee",
   "metadata": {},
   "outputs": [
    {
     "name": "stdout",
     "output_type": "stream",
     "text": [
      "오늘은 월요일. 3월 22일입니다.\n",
      "오늘은 월요일. 3월 22일입니다.\n",
      "오늘은 월요일. 3월 22일입니다.\n",
      "삼삼칠 박수 :  짝짝짝!!! 짝짝짝!!! 짝짝짝짝짝짝짝!!! \n",
      "----------------------------------------\n"
     ]
    }
   ],
   "source": [
    "print('오늘은 %s요일. %d월 %d일입니다.'%('월',3,22))\n",
    "print('오늘은 {0}요일. {1}월 {2}일입니다.'.format('월',3,22))\n",
    "print('오늘은 {day}요일. {month}월 {date}일입니다.'.format(day='월',month=3,date=22))\n",
    "print('삼삼칠 박수 :  {0}!!! {0}!!! {1}!!! '.format('짝'*3,'짝'*7))\n",
    "print('-' * 40)"
   ]
  },
  {
   "cell_type": "markdown",
   "id": "197363e5",
   "metadata": {},
   "source": [
    "## int, float, bool"
   ]
  },
  {
   "cell_type": "code",
   "execution_count": 4,
   "id": "c79ae11e",
   "metadata": {},
   "outputs": [
    {
     "name": "stdout",
     "output_type": "stream",
     "text": [
      "<class 'int'>\n",
      "<class 'int'>\n",
      "0\n",
      "4\n",
      "27\n"
     ]
    }
   ],
   "source": [
    "print(type(3))\n",
    "print(type(0x15)) #16진수의 int형 자료\n",
    "print(int(False))\n",
    "print(int(4.9))\n",
    "print(int(\"1000\",3)) #1000을 3진수로 출력"
   ]
  },
  {
   "cell_type": "code",
   "execution_count": 5,
   "id": "71e2f1ae",
   "metadata": {},
   "outputs": [
    {
     "name": "stdout",
     "output_type": "stream",
     "text": [
      "<class 'float'>\n",
      "7.0\n",
      "1.0\n",
      "nan inf\n",
      "<class 'float'>\n"
     ]
    }
   ],
   "source": [
    "print(type(3.125))\n",
    "print(float(7))\n",
    "print(float(True))\n",
    "print(float(\"nan\"), float(\"inf\"))\n",
    "print(type(3.0+1)) #float+int 결과는 float"
   ]
  },
  {
   "cell_type": "code",
   "execution_count": 6,
   "id": "0a90a93a",
   "metadata": {},
   "outputs": [
    {
     "name": "stdout",
     "output_type": "stream",
     "text": [
      "<class 'bool'>\n",
      "True\n"
     ]
    }
   ],
   "source": [
    "a=1\n",
    "print(type(a<0))\n",
    "print(a>0)"
   ]
  },
  {
   "cell_type": "code",
   "execution_count": 7,
   "id": "8508d3f7",
   "metadata": {},
   "outputs": [
    {
     "name": "stdout",
     "output_type": "stream",
     "text": [
      "0\n"
     ]
    }
   ],
   "source": [
    "True + True  #True:1, False:0 \n",
    "print(True * False)"
   ]
  },
  {
   "cell_type": "code",
   "execution_count": 8,
   "id": "0cff2532",
   "metadata": {},
   "outputs": [
    {
     "name": "stdout",
     "output_type": "stream",
     "text": [
      "False False\n",
      "True True True\n"
     ]
    }
   ],
   "source": [
    "print(bool(0), bool(\"\")) #0, empty string/list는 False \n",
    "print(bool(1), bool(-3), bool(2))"
   ]
  },
  {
   "cell_type": "markdown",
   "id": "07b01fa1",
   "metadata": {},
   "source": [
    "### *format()"
   ]
  },
  {
   "cell_type": "code",
   "execution_count": 9,
   "id": "3582e0c6",
   "metadata": {},
   "outputs": [
    {
     "name": "stdout",
     "output_type": "stream",
     "text": [
      "3.074\n",
      "12.0\n",
      "2.67\n",
      "2.6667\n"
     ]
    }
   ],
   "source": [
    "print(\"{0:.3f}\".format(8.3/2.7))\n",
    "y = 2.5*4.8 \n",
    "print(\"{0:.1f}\".format(y))\n",
    "r = 8/float(3)\n",
    "print(\"{0:.2f}\".format(r))\n",
    "print(\"{0:.4f}\".format(8.0/3))"
   ]
  },
  {
   "cell_type": "markdown",
   "id": "97d81a8b",
   "metadata": {},
   "source": [
    "### *math module"
   ]
  },
  {
   "cell_type": "code",
   "execution_count": 10,
   "id": "adbd69d1",
   "metadata": {},
   "outputs": [
    {
     "name": "stdout",
     "output_type": "stream",
     "text": [
      "20.0855\n",
      "1.39\n",
      "9.0\n"
     ]
    }
   ],
   "source": [
    "from math import exp, log, sqrt\n",
    "print(\"{0:.4f}\".format(exp(3)))\n",
    "print(\"{0:.2f}\".format(log(4)))\n",
    "print(\"{0:.1f}\".format(sqrt(81)))"
   ]
  },
  {
   "cell_type": "markdown",
   "id": "4d218351",
   "metadata": {},
   "source": [
    "## String \n",
    "split, join, replace, upper, lower, capitalize"
   ]
  },
  {
   "cell_type": "code",
   "execution_count": 11,
   "id": "e6a5bb94",
   "metadata": {},
   "outputs": [
    {
     "name": "stdout",
     "output_type": "stream",
     "text": [
      "['My', 'name', 'is', 'woojin', 'Jeong']\n",
      "['My', 'name', 'is woojin Jeong']\n"
     ]
    }
   ],
   "source": [
    "string1 = \"My name is woojin Jeong\"\n",
    "str1 = string1.split() #default: \" \"\n",
    "str2 = string1.split(\" \", 2) #처음 두번만 분할\n",
    "print(str1)\n",
    "print(str2)"
   ]
  },
  {
   "cell_type": "code",
   "execution_count": 12,
   "id": "42ccdb9e",
   "metadata": {},
   "outputs": [
    {
     "name": "stdout",
     "output_type": "stream",
     "text": [
      "['1+2', '3']\n"
     ]
    }
   ],
   "source": [
    "string2 = \"1+2=3\"\n",
    "str3 = string2.split(\"=\")\n",
    "print(str3)"
   ]
  },
  {
   "cell_type": "code",
   "execution_count": 13,
   "id": "55ecad80",
   "metadata": {},
   "outputs": [
    {
     "name": "stdout",
     "output_type": "stream",
     "text": [
      "My name is woojin Jeong\n",
      "My@name@is@woojin@Jeong\n"
     ]
    }
   ],
   "source": [
    "print(\" \".join(str1))\n",
    "print(\"@\".join(str1))"
   ]
  },
  {
   "cell_type": "code",
   "execution_count": 14,
   "id": "8b8b996a",
   "metadata": {},
   "outputs": [],
   "source": [
    "a = 'My name is'\n",
    "name = \"Woojin Jeong\""
   ]
  },
  {
   "cell_type": "code",
   "execution_count": 15,
   "id": "59a9f656",
   "metadata": {},
   "outputs": [
    {
     "data": {
      "text/plain": [
       "'My name is Woojin Jeong'"
      ]
     },
     "execution_count": 15,
     "metadata": {},
     "output_type": "execute_result"
    }
   ],
   "source": [
    "a+\" \"+name"
   ]
  },
  {
   "cell_type": "code",
   "execution_count": 16,
   "id": "8dbffb6c",
   "metadata": {},
   "outputs": [
    {
     "name": "stdout",
     "output_type": "stream",
     "text": [
      "My???name???is???woojin Jeong\n"
     ]
    }
   ],
   "source": [
    "str4 = string1.replace(\" \", \"???\", 3)\n",
    "print(str4)"
   ]
  },
  {
   "cell_type": "code",
   "execution_count": 17,
   "id": "4a4ddf67",
   "metadata": {},
   "outputs": [
    {
     "name": "stdout",
     "output_type": "stream",
     "text": [
      "MY NAME IS WOOJIN JEONG\n",
      "my name is woojin jeong\n",
      "My name is woojin jeong\n"
     ]
    }
   ],
   "source": [
    "print(string1.upper())\n",
    "print(string1.lower())\n",
    "print(string1.capitalize()) "
   ]
  },
  {
   "cell_type": "markdown",
   "id": "44c727ee",
   "metadata": {},
   "source": [
    "## List\n",
    "len, max, min, count, append, pop, sort, ..."
   ]
  },
  {
   "cell_type": "code",
   "execution_count": 18,
   "id": "1af41639",
   "metadata": {},
   "outputs": [
    {
     "name": "stdout",
     "output_type": "stream",
     "text": [
      "a_list has 10 elements.\n",
      "max value of a_list is 4.\n",
      "min value of a_list is 1.\n",
      "3 is in a_list 3 times\n"
     ]
    }
   ],
   "source": [
    "a_list = [1,2,2,3,3,3,4,4,4,4]\n",
    "print(\"a_list has {} elements.\".format(len(a_list)))\n",
    "print(\"max value of a_list is {}.\".format(max(a_list)))\n",
    "print(\"min value of a_list is {}.\".format(min(a_list)))\n",
    "print(\"3 is in a_list {} times\".format(a_list.count(3)))"
   ]
  },
  {
   "cell_type": "code",
   "execution_count": 19,
   "id": "e458e8dc",
   "metadata": {},
   "outputs": [
    {
     "name": "stdout",
     "output_type": "stream",
     "text": [
      "['show', 'how', 'to', 'index', 'into', 'sequences']\n",
      "show sequences into\n",
      "['how', 'to']\n",
      "['show', 'how', 'to', 'index']\n",
      "['to', 'index', 'into', 'sequences']\n"
     ]
    }
   ],
   "source": [
    "s = 'show how to index into sequences'.split()\n",
    "print(s)\n",
    "print(s[0], s[-1], s[-2])\n",
    "print(s[1:3])\n",
    "print(s[:-2])\n",
    "print(s[2:])"
   ]
  },
  {
   "cell_type": "code",
   "execution_count": 20,
   "id": "4b4d9891",
   "metadata": {},
   "outputs": [
    {
     "data": {
      "text/plain": [
       "[1, 2, 2, 3, 3, 3, 4, 4, 4, 4, 5, 5, 5, 5, 5]"
      ]
     },
     "execution_count": 20,
     "metadata": {},
     "output_type": "execute_result"
    }
   ],
   "source": [
    "a_list = [1,2,2,3,3,3,4,4,4,4]\n",
    "a_list + [5]*5"
   ]
  },
  {
   "cell_type": "code",
   "execution_count": 21,
   "id": "bf8a8e24",
   "metadata": {},
   "outputs": [
    {
     "name": "stdout",
     "output_type": "stream",
     "text": [
      "True\n",
      "False\n",
      "True\n"
     ]
    }
   ],
   "source": [
    "print(2 in a_list)\n",
    "print(8 in a_list)\n",
    "print(8 not in a_list)"
   ]
  },
  {
   "cell_type": "code",
   "execution_count": 22,
   "id": "8bb22731",
   "metadata": {},
   "outputs": [
    {
     "name": "stdout",
     "output_type": "stream",
     "text": [
      "[1, 2, 3, 4]\n",
      "[1, 2, 3, 5, 4]\n",
      "[1, 3, 5, 4]\n",
      "[1, 3, 5]\n"
     ]
    }
   ],
   "source": [
    "a = [1, 2, 3]\n",
    "a.append(4)\n",
    "print(a)\n",
    "a.insert(3,5) #index 3에 5 삽입\n",
    "print(a)\n",
    "a.remove(2) \n",
    "print(a)\n",
    "a.pop() #마지막 원소 제거\n",
    "print(a)"
   ]
  },
  {
   "cell_type": "code",
   "execution_count": 23,
   "id": "e2532b77",
   "metadata": {},
   "outputs": [
    {
     "name": "stdout",
     "output_type": "stream",
     "text": [
      "[3, 2, 4, 1]\n",
      "[1, 2, 3, 4]\n"
     ]
    }
   ],
   "source": [
    "b = [1,4,2,3]\n",
    "b.reverse()\n",
    "print(b)\n",
    "sorted(b)\n",
    "b.sort()\n",
    "print(b)"
   ]
  },
  {
   "cell_type": "code",
   "execution_count": 24,
   "id": "651655b5",
   "metadata": {},
   "outputs": [
    {
     "name": "stdout",
     "output_type": "stream",
     "text": [
      "['나는', '파이썬을', '잘하고', '싶다']\n",
      "['나는', '싶다', '잘하고', '파이썬을']\n"
     ]
    }
   ],
   "source": [
    "m = '나는 파이썬을 잘하고 싶다'\n",
    "m = m.split()\n",
    "print(m)\n",
    "m.sort(key=len)\n",
    "print(m)"
   ]
  },
  {
   "cell_type": "markdown",
   "id": "ba8487fd",
   "metadata": {},
   "source": [
    "## tuple"
   ]
  },
  {
   "cell_type": "code",
   "execution_count": 25,
   "id": "4ffa4e0e",
   "metadata": {},
   "outputs": [
    {
     "data": {
      "text/plain": [
       "tuple"
      ]
     },
     "execution_count": 25,
     "metadata": {},
     "output_type": "execute_result"
    }
   ],
   "source": [
    "p=1,3,2,5,7\n",
    "type(p)"
   ]
  },
  {
   "cell_type": "code",
   "execution_count": 26,
   "id": "6f13eb4a",
   "metadata": {},
   "outputs": [
    {
     "name": "stdout",
     "output_type": "stream",
     "text": [
      "<class 'int'>\n",
      "<class 'tuple'>\n"
     ]
    }
   ],
   "source": [
    "a1=(350)\n",
    "a2=(350,)\n",
    "print(type(a1))\n",
    "print(type(a2))"
   ]
  },
  {
   "cell_type": "code",
   "execution_count": 27,
   "id": "8980bd87",
   "metadata": {},
   "outputs": [
    {
     "name": "stdout",
     "output_type": "stream",
     "text": [
      "4 3 2 1\n"
     ]
    }
   ],
   "source": [
    "(a, (b,(c, d))) = (4,(3,(2,1)))\n",
    "print(a,b,c,d)"
   ]
  },
  {
   "cell_type": "code",
   "execution_count": 28,
   "id": "bf82ff3a",
   "metadata": {},
   "outputs": [
    {
     "name": "stdout",
     "output_type": "stream",
     "text": [
      "3 4\n",
      "4 3\n"
     ]
    }
   ],
   "source": [
    "a, b = 3, 4\n",
    "print(a, b)\n",
    "a, b = b, a\n",
    "print(a, b)"
   ]
  },
  {
   "cell_type": "code",
   "execution_count": 29,
   "id": "690aafe5",
   "metadata": {},
   "outputs": [
    {
     "data": {
      "text/plain": [
       "('a', 'b', 'c', 'd', 'e')"
      ]
     },
     "execution_count": 29,
     "metadata": {},
     "output_type": "execute_result"
    }
   ],
   "source": [
    "tuple(\"abcde\")"
   ]
  },
  {
   "cell_type": "markdown",
   "id": "649a97a7",
   "metadata": {},
   "source": [
    "## Dictionary"
   ]
  },
  {
   "cell_type": "code",
   "execution_count": 30,
   "id": "b208c05a",
   "metadata": {},
   "outputs": [
    {
     "name": "stdout",
     "output_type": "stream",
     "text": [
      "10\n",
      "99\n",
      "10\n",
      "None\n"
     ]
    }
   ],
   "source": [
    "grade = {'pey': 10, 'julliet': 99}\n",
    "print(grade['pey'])\n",
    "print(grade['julliet'])\n",
    "print(grade.get('pey'))\n",
    "print(grade.get('tom'))"
   ]
  },
  {
   "cell_type": "code",
   "execution_count": 31,
   "id": "b3e8d78b",
   "metadata": {},
   "outputs": [
    {
     "name": "stdout",
     "output_type": "stream",
     "text": [
      "{'alice': 5, 'bob': 20, 'tony': 15, 'suzy': 30}\n",
      "{'alice': 5, 'bob': 99, 'tony': 99, 'suzy': 30, 'kim': 30}\n",
      "{'bob': 99, 'tony': 99, 'suzy': 30, 'kim': 30}\n"
     ]
    }
   ],
   "source": [
    "a = {'alice': [1, 2, 3], 'bob': 20, 'tony': 15, 'suzy': 30}\n",
    "a['alice'] = 5\n",
    "print(a)\n",
    "a.update({'bob':99, 'tony':99, 'kim': 30}) #여러 개 한번에 수정\n",
    "print(a) \n",
    "del a['alice']\n",
    "print(a)"
   ]
  },
  {
   "cell_type": "code",
   "execution_count": 32,
   "id": "b6fa5f78",
   "metadata": {},
   "outputs": [
    {
     "name": "stdout",
     "output_type": "stream",
     "text": [
      "dict_values([99, 99, 30, 30])\n",
      "['bob', 'tony', 'suzy', 'kim']\n"
     ]
    }
   ],
   "source": [
    "print(a.values())\n",
    "print(list(a.keys())) #list로 변환"
   ]
  },
  {
   "cell_type": "code",
   "execution_count": 33,
   "id": "dc43f7b9",
   "metadata": {},
   "outputs": [
    {
     "data": {
      "text/plain": [
       "dict_items([('bob', 99), ('tony', 99), ('suzy', 30), ('kim', 30)])"
      ]
     },
     "execution_count": 33,
     "metadata": {},
     "output_type": "execute_result"
    }
   ],
   "source": [
    "a.items() #key, value 쌍을 튜플로 묶음"
   ]
  },
  {
   "cell_type": "code",
   "execution_count": 34,
   "id": "6818847c",
   "metadata": {},
   "outputs": [
    {
     "data": {
      "text/plain": [
       "False"
      ]
     },
     "execution_count": 34,
     "metadata": {},
     "output_type": "execute_result"
    }
   ],
   "source": [
    "'alice' in a"
   ]
  },
  {
   "cell_type": "markdown",
   "id": "68890eb5",
   "metadata": {},
   "source": [
    "## if, for, while"
   ]
  },
  {
   "cell_type": "code",
   "execution_count": 35,
   "id": "64b022d3",
   "metadata": {},
   "outputs": [
    {
     "name": "stdout",
     "output_type": "stream",
     "text": [
      "20이상 50이하면 실행\n"
     ]
    }
   ],
   "source": [
    "h=40\n",
    "if h>50:\n",
    "    print(\"50보다 크면 실행\")\n",
    "elif h<20:\n",
    "    print(\"20보다 작으면 실행\")\n",
    "else:\n",
    "    print(\"20이상 50이하면 실행\")"
   ]
  },
  {
   "cell_type": "code",
   "execution_count": 36,
   "id": "2469df2e",
   "metadata": {},
   "outputs": [],
   "source": [
    "pocket = ['paper', 'money', 'cellphone']\n",
    "if 'money' in pocket:\n",
    "    pass\n",
    "else:\n",
    "    print(\"카드를 꺼내라\")"
   ]
  },
  {
   "cell_type": "code",
   "execution_count": 37,
   "id": "4cb9f716",
   "metadata": {},
   "outputs": [
    {
     "name": "stdout",
     "output_type": "stream",
     "text": [
      "success\n"
     ]
    }
   ],
   "source": [
    "score=70\n",
    "message=\"success\" if score>=60 else \"failure\"\n",
    "print(message)"
   ]
  },
  {
   "cell_type": "code",
   "execution_count": 38,
   "id": "b346e763",
   "metadata": {},
   "outputs": [
    {
     "name": "stdout",
     "output_type": "stream",
     "text": [
      "one\n",
      "two\n",
      "three\n"
     ]
    }
   ],
   "source": [
    "test_list = ['one', 'two', 'three']\n",
    "for i in test_list:\n",
    "    print(i)"
   ]
  },
  {
   "cell_type": "code",
   "execution_count": 39,
   "id": "d5952fa3",
   "metadata": {},
   "outputs": [
    {
     "name": "stdout",
     "output_type": "stream",
     "text": [
      "3\n",
      "7\n",
      "11\n"
     ]
    }
   ],
   "source": [
    "a = [(1,2), (3,4), (5,6)]\n",
    "for (first, last) in a:\n",
    "    print(first + last)"
   ]
  },
  {
   "cell_type": "code",
   "execution_count": 40,
   "id": "9f1ca68b",
   "metadata": {},
   "outputs": [
    {
     "name": "stdout",
     "output_type": "stream",
     "text": [
      "55\n"
     ]
    }
   ],
   "source": [
    "add = 0 \n",
    "for i in range(1, 11): \n",
    "    add = add + i \n",
    "print(add)"
   ]
  },
  {
   "cell_type": "code",
   "execution_count": 41,
   "id": "d7466128",
   "metadata": {},
   "outputs": [
    {
     "name": "stdout",
     "output_type": "stream",
     "text": [
      "25\n"
     ]
    }
   ],
   "source": [
    "add = 0 \n",
    "for i in range(1, 11, 2):  #1,3,5,7,9\n",
    "    add = add + i \n",
    "print(add)"
   ]
  },
  {
   "cell_type": "code",
   "execution_count": 42,
   "id": "5ad05753",
   "metadata": {},
   "outputs": [
    {
     "name": "stdout",
     "output_type": "stream",
     "text": [
      "2 4 6 8 10 12 14 16 18 \n",
      "3 6 9 12 15 18 21 24 27 \n",
      "4 8 12 16 20 24 28 32 36 \n",
      "5 10 15 20 25 30 35 40 45 \n",
      "6 12 18 24 30 36 42 48 54 \n",
      "7 14 21 28 35 42 49 56 63 \n",
      "8 16 24 32 40 48 56 64 72 \n",
      "9 18 27 36 45 54 63 72 81 \n"
     ]
    }
   ],
   "source": [
    "for i in range(2,10):        # ①번 for문\n",
    "    for j in range(1, 10):   # ②번 for문\n",
    "        print(i*j, end=\" \") \n",
    "    print('') "
   ]
  },
  {
   "cell_type": "code",
   "execution_count": 44,
   "id": "b89e4240",
   "metadata": {},
   "outputs": [
    {
     "name": "stdout",
     "output_type": "stream",
     "text": [
      "index : 0, value: 1\n",
      "index : 1, value: 5\n",
      "index : 2, value: 7\n",
      "index : 3, value: 33\n",
      "index : 4, value: 39\n",
      "index : 5, value: 52\n"
     ]
    }
   ],
   "source": [
    "t = [1, 5, 7, 33, 39, 52]\n",
    "for i, v in enumerate(t):\n",
    "    print(\"index : {}, value: {}\".format(i,v))"
   ]
  },
  {
   "cell_type": "code",
   "execution_count": 43,
   "id": "8b1b7429",
   "metadata": {},
   "outputs": [
    {
     "name": "stdout",
     "output_type": "stream",
     "text": [
      "숫자를입력하세요:25\n",
      "숫자를입력하세요:34\n",
      "숫자를입력하세요:70\n",
      "10으로 나눈 나머지가 0입니다.\n"
     ]
    }
   ],
   "source": [
    "while True:\n",
    "    response = input('숫자를입력하세요:')\n",
    "    if int(response) % 10 == 0 :\n",
    "        print('10으로 나눈 나머지가 0입니다.')\n",
    "        break"
   ]
  },
  {
   "cell_type": "code",
   "execution_count": null,
   "id": "4f8ef486",
   "metadata": {},
   "outputs": [],
   "source": [
    "while True:\n",
    "    response = input('숫자를입력하세요:')\n",
    "    result = int(response)%10\n",
    "    if result == 0 :\n",
    "        continue\n",
    "    print('10으로 나눈 나머지가 {}입니다.'.format(result))"
   ]
  },
  {
   "cell_type": "markdown",
   "id": "516b14fb",
   "metadata": {},
   "source": [
    "### while문 예시 추가\n",
    "1~100까지 짝수만 더하다가, 합이 1000을 넘으면 멈추기"
   ]
  },
  {
   "cell_type": "code",
   "execution_count": 7,
   "id": "86e667e0",
   "metadata": {},
   "outputs": [
    {
     "name": "stdout",
     "output_type": "stream",
     "text": [
      "1056\n"
     ]
    }
   ],
   "source": [
    "i=0\n",
    "result=0\n",
    "\n",
    "while i<100:\n",
    "    i+=1\n",
    "    if i%2==0:\n",
    "        result+=i\n",
    "    if result>1000:\n",
    "        break\n",
    "\n",
    "print(result)"
   ]
  },
  {
   "cell_type": "code",
   "execution_count": 10,
   "id": "b6919dc3",
   "metadata": {},
   "outputs": [
    {
     "name": "stdout",
     "output_type": "stream",
     "text": [
      "1056\n"
     ]
    }
   ],
   "source": [
    "i=0\n",
    "result=0\n",
    "\n",
    "while result<=1000:\n",
    "    result+=i\n",
    "    i+=2\n",
    "        \n",
    "print(result)"
   ]
  },
  {
   "cell_type": "markdown",
   "id": "1d5f2dfa",
   "metadata": {},
   "source": [
    "## function"
   ]
  },
  {
   "cell_type": "code",
   "execution_count": 45,
   "id": "b6edbe49",
   "metadata": {},
   "outputs": [
    {
     "name": "stdout",
     "output_type": "stream",
     "text": [
      "Hi\n"
     ]
    }
   ],
   "source": [
    "#입력값 없는 함수: 결과값 받을 변수 = 함수이름()\n",
    "def say():\n",
    "    return 'Hi'\n",
    "\n",
    "a = say()\n",
    "print(a)"
   ]
  },
  {
   "cell_type": "code",
   "execution_count": 46,
   "id": "f227b053",
   "metadata": {},
   "outputs": [
    {
     "name": "stdout",
     "output_type": "stream",
     "text": [
      "4, 5의 합은 9입니다.\n"
     ]
    }
   ],
   "source": [
    "#결과값 없는 함수 = 특정 동작을 실행\n",
    "def add(a,b):\n",
    "    print(\"%d, %d의 합은 %d입니다.\" %(a,b,a+b))\n",
    "\n",
    "add(4,5)"
   ]
  },
  {
   "cell_type": "code",
   "execution_count": 47,
   "id": "ae6c5a1a",
   "metadata": {},
   "outputs": [
    {
     "name": "stdout",
     "output_type": "stream",
     "text": [
      "4, 5의 합은 9입니다.\n",
      "None\n"
     ]
    }
   ],
   "source": [
    "print(add(4,5)) #결과값이 none"
   ]
  },
  {
   "cell_type": "code",
   "execution_count": 48,
   "id": "634fbbe1",
   "metadata": {},
   "outputs": [
    {
     "name": "stdout",
     "output_type": "stream",
     "text": [
      "Hi\n"
     ]
    }
   ],
   "source": [
    "#입력, 결과값 둘다 없는 경우\n",
    "def say():\n",
    "    print('Hi')\n",
    "say()"
   ]
  },
  {
   "cell_type": "code",
   "execution_count": 49,
   "id": "41602cca",
   "metadata": {},
   "outputs": [
    {
     "name": "stdout",
     "output_type": "stream",
     "text": [
      "6\n",
      "36\n"
     ]
    }
   ],
   "source": [
    "def add_many(*args):\n",
    "    result=0\n",
    "    for i in args:\n",
    "        result+=i\n",
    "    return result\n",
    "\n",
    "print(add_many(1,2,3))\n",
    "print(add_many(1,2,3,4,5,6,7,8))"
   ]
  },
  {
   "cell_type": "code",
   "execution_count": 50,
   "id": "9709d57f",
   "metadata": {},
   "outputs": [
    {
     "name": "stdout",
     "output_type": "stream",
     "text": [
      "나의 별명은 야호 입니다.\n"
     ]
    }
   ],
   "source": [
    "def say_nick(nick):\n",
    "    if nick==\"바보\":\n",
    "        return\n",
    "    print(\"나의 별명은 %s 입니다.\" %nick)\n",
    "\n",
    "say_nick('야호')\n",
    "say_nick('바보')"
   ]
  },
  {
   "cell_type": "code",
   "execution_count": 51,
   "id": "bdb0408e",
   "metadata": {},
   "outputs": [
    {
     "name": "stdout",
     "output_type": "stream",
     "text": [
      "16\n"
     ]
    }
   ],
   "source": [
    "def double(x):\n",
    "    \"\"\"\n",
    "    보통은 이곳에 함수에 대한 설명을 주석으로 표현\n",
    "    this function multiplies its input by 2.\n",
    "    \"\"\"\n",
    "    return x*2\n",
    "\n",
    "print(double(8))"
   ]
  },
  {
   "cell_type": "code",
   "execution_count": 52,
   "id": "bf052a7a",
   "metadata": {},
   "outputs": [
    {
     "name": "stdout",
     "output_type": "stream",
     "text": [
      "16\n"
     ]
    }
   ],
   "source": [
    "g = lambda x: x*2\n",
    "print(g(8))"
   ]
  },
  {
   "cell_type": "code",
   "execution_count": 53,
   "id": "4dbbbff7",
   "metadata": {},
   "outputs": [
    {
     "name": "stdout",
     "output_type": "stream",
     "text": [
      "woojin Jeong\n",
      "woojin something\n",
      "Jeong something\n",
      "what Jeong\n",
      "what something\n"
     ]
    }
   ],
   "source": [
    "def fullname(first=\"what\", last=\"something\"):\n",
    "    print(first+\" \"+last)\n",
    "\n",
    "fullname(\"woojin\",\"Jeong\")\n",
    "fullname(\"woojin\")\n",
    "fullname(\"Jeong\")\n",
    "fullname(last=\"Jeong\")\n",
    "fullname()"
   ]
  },
  {
   "cell_type": "markdown",
   "id": "c664ff63",
   "metadata": {},
   "source": [
    "## Class"
   ]
  },
  {
   "cell_type": "code",
   "execution_count": 54,
   "id": "552ec2f7",
   "metadata": {},
   "outputs": [],
   "source": [
    "class Student:\n",
    "    def __init__(self, name, age): #생성자\n",
    "        self.name = name\n",
    "        self.age = age\n",
    "    def aboutMe(self):\n",
    "        print(\"제 이름은 \"+self.name + \"이고, 제 나이는\" +str(self.age)+\"살 입니다.\")"
   ]
  },
  {
   "cell_type": "code",
   "execution_count": 55,
   "id": "1a2a1bcd",
   "metadata": {},
   "outputs": [
    {
     "name": "stdout",
     "output_type": "stream",
     "text": [
      "제 이름은 정우진이고, 제 나이는25살 입니다.\n"
     ]
    }
   ],
   "source": [
    "woojin = Student(\"정우진\", 25) #student 클래스의 객체 생성\n",
    "woojin.aboutMe()"
   ]
  },
  {
   "cell_type": "code",
   "execution_count": 56,
   "id": "f244f73a",
   "metadata": {},
   "outputs": [
    {
     "name": "stdout",
     "output_type": "stream",
     "text": [
      "제 이름은 정우진이고, 제 나이는25살 입니다.\n"
     ]
    }
   ],
   "source": [
    "Student.aboutMe(woojin)"
   ]
  },
  {
   "cell_type": "code",
   "execution_count": 57,
   "id": "830526de",
   "metadata": {},
   "outputs": [],
   "source": [
    "class Person:\n",
    "    def __init__(self, name, age, gender):\n",
    "        self.Name = name\n",
    "        self.Age = age\n",
    "        self.Gender = gender\n",
    "    def aboutMe(self):\n",
    "        print(\"저의 이름은 \" + self.Name + \"이구요, 제 나이는 \" + self.Age + \"살 입니다.\")\n",
    "\n",
    "class Employee(Person): #직원 클래스는 사람 클래스를 상속받음\n",
    "    def __init__(self, name, age, gender, salary, hiredate):\n",
    "        super().__init__(name, age, gender) #부모 클래스의 생성자 호출\n",
    "        self.Salary = salary\n",
    "        self.Hiredate = hiredate\n",
    "    def doWork(self):\n",
    "        print(\"열심히 일을 합니다.\")\n",
    "    def aboutMe(self): #부모 클래스의 메소드와 이름은 같지만 다른 함수 구현 가능\n",
    "        Person.aboutMe(self) #self를 인자로 넣어주어야함\n",
    "        print(\"제 급여는 \" + self.Salary + \"원 이구요, 제 입사일은 \" + self.Hiredate + \" 입니다.\")"
   ]
  },
  {
   "cell_type": "code",
   "execution_count": 58,
   "id": "6d6637b1",
   "metadata": {
    "scrolled": true
   },
   "outputs": [
    {
     "name": "stdout",
     "output_type": "stream",
     "text": [
      "저의 이름은 정우진이구요, 제 나이는 25살 입니다.\n",
      "제 급여는 10억원 이구요, 제 입사일은 3월 1일 입니다.\n"
     ]
    }
   ],
   "source": [
    "woojin = Employee(\"정우진\", \"25\", \"female\", \"10억\", \"3월 1일\")\n",
    "woojin.aboutMe()"
   ]
  }
 ],
 "metadata": {
  "kernelspec": {
   "display_name": "Python 3 (ipykernel)",
   "language": "python",
   "name": "python3"
  },
  "language_info": {
   "codemirror_mode": {
    "name": "ipython",
    "version": 3
   },
   "file_extension": ".py",
   "mimetype": "text/x-python",
   "name": "python",
   "nbconvert_exporter": "python",
   "pygments_lexer": "ipython3",
   "version": "3.9.7"
  }
 },
 "nbformat": 4,
 "nbformat_minor": 5
}
