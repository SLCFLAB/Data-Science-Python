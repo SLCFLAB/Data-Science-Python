{
  "cells": [
    {
      "cell_type": "markdown",
      "metadata": {
        "id": "view-in-github",
        "colab_type": "text"
      },
      "source": [
        "<a href=\"https://colab.research.google.com/github/SLCFLAB/Data-Science-Python/blob/main/Day%2015/15_2.%20NLP_Transformer_Project.ipynb\" target=\"_parent\"><img src=\"https://colab.research.google.com/assets/colab-badge.svg\" alt=\"Open In Colab\"/></a>"
      ]
    },
    {
      "cell_type": "markdown",
      "metadata": {
        "id": "2mQKZ9sucF4y"
      },
      "source": [
        "ref: 서울대학교 신효필 교수님의 텍스트 및 자연어 빅데이터 분석 방법론 2021-2학기 강의에서 발췌된 내용을 포함합니다.\n",
        "\n",
        "https://hpshin.github.io/NaturalLanguageBigDataAnalysis/index.html\n"
      ]
    },
    {
      "cell_type": "code",
      "execution_count": 1,
      "metadata": {
        "colab": {
          "base_uri": "https://localhost:8080/"
        },
        "id": "g5bLHbZP3rO4",
        "outputId": "535a6e06-8d76-48d8-9ef2-2372f24b65a0"
      },
      "outputs": [
        {
          "output_type": "stream",
          "name": "stdout",
          "text": [
            "Collecting transformers\n",
            "  Downloading transformers-4.18.0-py3-none-any.whl (4.0 MB)\n",
            "\u001b[K     |████████████████████████████████| 4.0 MB 24.8 MB/s \n",
            "\u001b[?25hCollecting datasets\n",
            "  Downloading datasets-2.1.0-py3-none-any.whl (325 kB)\n",
            "\u001b[K     |████████████████████████████████| 325 kB 29.1 MB/s \n",
            "\u001b[?25hCollecting pyyaml>=5.1\n",
            "  Downloading PyYAML-6.0-cp37-cp37m-manylinux_2_5_x86_64.manylinux1_x86_64.manylinux_2_12_x86_64.manylinux2010_x86_64.whl (596 kB)\n",
            "\u001b[K     |████████████████████████████████| 596 kB 50.7 MB/s \n",
            "\u001b[?25hRequirement already satisfied: tqdm>=4.27 in /usr/local/lib/python3.7/dist-packages (from transformers) (4.64.0)\n",
            "Collecting sacremoses\n",
            "  Downloading sacremoses-0.0.53.tar.gz (880 kB)\n",
            "\u001b[K     |████████████████████████████████| 880 kB 51.7 MB/s \n",
            "\u001b[?25hCollecting tokenizers!=0.11.3,<0.13,>=0.11.1\n",
            "  Downloading tokenizers-0.12.1-cp37-cp37m-manylinux_2_12_x86_64.manylinux2010_x86_64.whl (6.6 MB)\n",
            "\u001b[K     |████████████████████████████████| 6.6 MB 31.4 MB/s \n",
            "\u001b[?25hRequirement already satisfied: importlib-metadata in /usr/local/lib/python3.7/dist-packages (from transformers) (4.11.3)\n",
            "Requirement already satisfied: regex!=2019.12.17 in /usr/local/lib/python3.7/dist-packages (from transformers) (2019.12.20)\n",
            "Collecting huggingface-hub<1.0,>=0.1.0\n",
            "  Downloading huggingface_hub-0.5.1-py3-none-any.whl (77 kB)\n",
            "\u001b[K     |████████████████████████████████| 77 kB 7.0 MB/s \n",
            "\u001b[?25hRequirement already satisfied: filelock in /usr/local/lib/python3.7/dist-packages (from transformers) (3.6.0)\n",
            "Requirement already satisfied: requests in /usr/local/lib/python3.7/dist-packages (from transformers) (2.23.0)\n",
            "Requirement already satisfied: numpy>=1.17 in /usr/local/lib/python3.7/dist-packages (from transformers) (1.21.6)\n",
            "Requirement already satisfied: packaging>=20.0 in /usr/local/lib/python3.7/dist-packages (from transformers) (21.3)\n",
            "Requirement already satisfied: typing-extensions>=3.7.4.3 in /usr/local/lib/python3.7/dist-packages (from huggingface-hub<1.0,>=0.1.0->transformers) (4.2.0)\n",
            "Requirement already satisfied: pyparsing!=3.0.5,>=2.0.2 in /usr/local/lib/python3.7/dist-packages (from packaging>=20.0->transformers) (3.0.8)\n",
            "Requirement already satisfied: pandas in /usr/local/lib/python3.7/dist-packages (from datasets) (1.3.5)\n",
            "Requirement already satisfied: pyarrow>=5.0.0 in /usr/local/lib/python3.7/dist-packages (from datasets) (6.0.1)\n",
            "Collecting fsspec[http]>=2021.05.0\n",
            "  Downloading fsspec-2022.3.0-py3-none-any.whl (136 kB)\n",
            "\u001b[K     |████████████████████████████████| 136 kB 42.0 MB/s \n",
            "\u001b[?25hRequirement already satisfied: multiprocess in /usr/local/lib/python3.7/dist-packages (from datasets) (0.70.12.2)\n",
            "Requirement already satisfied: dill in /usr/local/lib/python3.7/dist-packages (from datasets) (0.3.4)\n",
            "Collecting xxhash\n",
            "  Downloading xxhash-3.0.0-cp37-cp37m-manylinux_2_17_x86_64.manylinux2014_x86_64.whl (212 kB)\n",
            "\u001b[K     |████████████████████████████████| 212 kB 47.6 MB/s \n",
            "\u001b[?25hCollecting responses<0.19\n",
            "  Downloading responses-0.18.0-py3-none-any.whl (38 kB)\n",
            "Collecting aiohttp\n",
            "  Downloading aiohttp-3.8.1-cp37-cp37m-manylinux_2_5_x86_64.manylinux1_x86_64.manylinux_2_12_x86_64.manylinux2010_x86_64.whl (1.1 MB)\n",
            "\u001b[K     |████████████████████████████████| 1.1 MB 17.2 MB/s \n",
            "\u001b[?25hRequirement already satisfied: urllib3!=1.25.0,!=1.25.1,<1.26,>=1.21.1 in /usr/local/lib/python3.7/dist-packages (from requests->transformers) (1.24.3)\n",
            "Requirement already satisfied: idna<3,>=2.5 in /usr/local/lib/python3.7/dist-packages (from requests->transformers) (2.10)\n",
            "Requirement already satisfied: chardet<4,>=3.0.2 in /usr/local/lib/python3.7/dist-packages (from requests->transformers) (3.0.4)\n",
            "Requirement already satisfied: certifi>=2017.4.17 in /usr/local/lib/python3.7/dist-packages (from requests->transformers) (2021.10.8)\n",
            "Collecting urllib3!=1.25.0,!=1.25.1,<1.26,>=1.21.1\n",
            "  Downloading urllib3-1.25.11-py2.py3-none-any.whl (127 kB)\n",
            "\u001b[K     |████████████████████████████████| 127 kB 18.1 MB/s \n",
            "\u001b[?25hRequirement already satisfied: attrs>=17.3.0 in /usr/local/lib/python3.7/dist-packages (from aiohttp->datasets) (21.4.0)\n",
            "Collecting aiosignal>=1.1.2\n",
            "  Downloading aiosignal-1.2.0-py3-none-any.whl (8.2 kB)\n",
            "Collecting async-timeout<5.0,>=4.0.0a3\n",
            "  Downloading async_timeout-4.0.2-py3-none-any.whl (5.8 kB)\n",
            "Requirement already satisfied: charset-normalizer<3.0,>=2.0 in /usr/local/lib/python3.7/dist-packages (from aiohttp->datasets) (2.0.12)\n",
            "Collecting multidict<7.0,>=4.5\n",
            "  Downloading multidict-6.0.2-cp37-cp37m-manylinux_2_17_x86_64.manylinux2014_x86_64.whl (94 kB)\n",
            "\u001b[K     |████████████████████████████████| 94 kB 3.4 MB/s \n",
            "\u001b[?25hCollecting asynctest==0.13.0\n",
            "  Downloading asynctest-0.13.0-py3-none-any.whl (26 kB)\n",
            "Collecting yarl<2.0,>=1.0\n",
            "  Downloading yarl-1.7.2-cp37-cp37m-manylinux_2_5_x86_64.manylinux1_x86_64.manylinux_2_12_x86_64.manylinux2010_x86_64.whl (271 kB)\n",
            "\u001b[K     |████████████████████████████████| 271 kB 16.9 MB/s \n",
            "\u001b[?25hCollecting frozenlist>=1.1.1\n",
            "  Downloading frozenlist-1.3.0-cp37-cp37m-manylinux_2_5_x86_64.manylinux1_x86_64.manylinux_2_17_x86_64.manylinux2014_x86_64.whl (144 kB)\n",
            "\u001b[K     |████████████████████████████████| 144 kB 43.0 MB/s \n",
            "\u001b[?25hRequirement already satisfied: zipp>=0.5 in /usr/local/lib/python3.7/dist-packages (from importlib-metadata->transformers) (3.8.0)\n",
            "Requirement already satisfied: pytz>=2017.3 in /usr/local/lib/python3.7/dist-packages (from pandas->datasets) (2022.1)\n",
            "Requirement already satisfied: python-dateutil>=2.7.3 in /usr/local/lib/python3.7/dist-packages (from pandas->datasets) (2.8.2)\n",
            "Requirement already satisfied: six>=1.5 in /usr/local/lib/python3.7/dist-packages (from python-dateutil>=2.7.3->pandas->datasets) (1.15.0)\n",
            "Requirement already satisfied: click in /usr/local/lib/python3.7/dist-packages (from sacremoses->transformers) (7.1.2)\n",
            "Requirement already satisfied: joblib in /usr/local/lib/python3.7/dist-packages (from sacremoses->transformers) (1.1.0)\n",
            "Building wheels for collected packages: sacremoses\n",
            "  Building wheel for sacremoses (setup.py) ... \u001b[?25l\u001b[?25hdone\n",
            "  Created wheel for sacremoses: filename=sacremoses-0.0.53-py3-none-any.whl size=895260 sha256=14f390c0a080bfd9b68427e4cda23d10b892688859b6e4771b3d4c4f924a217b\n",
            "  Stored in directory: /root/.cache/pip/wheels/87/39/dd/a83eeef36d0bf98e7a4d1933a4ad2d660295a40613079bafc9\n",
            "Successfully built sacremoses\n",
            "Installing collected packages: multidict, frozenlist, yarl, urllib3, asynctest, async-timeout, aiosignal, pyyaml, fsspec, aiohttp, xxhash, tokenizers, sacremoses, responses, huggingface-hub, transformers, datasets\n",
            "  Attempting uninstall: urllib3\n",
            "    Found existing installation: urllib3 1.24.3\n",
            "    Uninstalling urllib3-1.24.3:\n",
            "      Successfully uninstalled urllib3-1.24.3\n",
            "  Attempting uninstall: pyyaml\n",
            "    Found existing installation: PyYAML 3.13\n",
            "    Uninstalling PyYAML-3.13:\n",
            "      Successfully uninstalled PyYAML-3.13\n",
            "\u001b[31mERROR: pip's dependency resolver does not currently take into account all the packages that are installed. This behaviour is the source of the following dependency conflicts.\n",
            "datascience 0.10.6 requires folium==0.2.1, but you have folium 0.8.3 which is incompatible.\u001b[0m\n",
            "Successfully installed aiohttp-3.8.1 aiosignal-1.2.0 async-timeout-4.0.2 asynctest-0.13.0 datasets-2.1.0 frozenlist-1.3.0 fsspec-2022.3.0 huggingface-hub-0.5.1 multidict-6.0.2 pyyaml-6.0 responses-0.18.0 sacremoses-0.0.53 tokenizers-0.12.1 transformers-4.18.0 urllib3-1.25.11 xxhash-3.0.0 yarl-1.7.2\n"
          ]
        }
      ],
      "source": [
        "# 트랜스포머 설치\n",
        "! pip install transformers datasets\n",
        "# 최신버전 설치는 아래 커맨드 참고\n",
        "# ! pip install git+https://github.com/huggingface/transformers.git"
      ]
    },
    {
      "cell_type": "markdown",
      "metadata": {
        "id": "4EGk1aMYAsCJ"
      },
      "source": [
        "# Project"
      ]
    },
    {
      "cell_type": "markdown",
      "metadata": {
        "id": "bJEzQvUVG5Ej"
      },
      "source": [
        "### **1. 시퀀스 분류(https://huggingface.co/transformers/v2.10.0/usage.html)**"
      ]
    },
    {
      "cell_type": "code",
      "execution_count": null,
      "metadata": {
        "colab": {
          "base_uri": "https://localhost:8080/"
        },
        "id": "JfLEinpKAnEE",
        "outputId": "f847184c-645d-4e29-f4be-2b3c8e290896"
      },
      "outputs": [
        {
          "name": "stdout",
          "output_type": "stream",
          "text": [
            "Requirement already satisfied: transformers in /usr/local/lib/python3.7/dist-packages (4.12.4)\n",
            "Requirement already satisfied: keras in /usr/local/lib/python3.7/dist-packages (2.7.0)\n",
            "Requirement already satisfied: tensorflow in /usr/local/lib/python3.7/dist-packages (2.7.0)\n",
            "Requirement already satisfied: regex!=2019.12.17 in /usr/local/lib/python3.7/dist-packages (from transformers) (2019.12.20)\n",
            "Requirement already satisfied: tqdm>=4.27 in /usr/local/lib/python3.7/dist-packages (from transformers) (4.62.3)\n",
            "Requirement already satisfied: packaging>=20.0 in /usr/local/lib/python3.7/dist-packages (from transformers) (21.2)\n",
            "Requirement already satisfied: sacremoses in /usr/local/lib/python3.7/dist-packages (from transformers) (0.0.46)\n",
            "Requirement already satisfied: numpy>=1.17 in /usr/local/lib/python3.7/dist-packages (from transformers) (1.19.5)\n",
            "Requirement already satisfied: requests in /usr/local/lib/python3.7/dist-packages (from transformers) (2.23.0)\n",
            "Requirement already satisfied: tokenizers<0.11,>=0.10.1 in /usr/local/lib/python3.7/dist-packages (from transformers) (0.10.3)\n",
            "Requirement already satisfied: pyyaml>=5.1 in /usr/local/lib/python3.7/dist-packages (from transformers) (6.0)\n",
            "Requirement already satisfied: huggingface-hub<1.0,>=0.1.0 in /usr/local/lib/python3.7/dist-packages (from transformers) (0.1.2)\n",
            "Requirement already satisfied: filelock in /usr/local/lib/python3.7/dist-packages (from transformers) (3.3.2)\n",
            "Requirement already satisfied: importlib-metadata in /usr/local/lib/python3.7/dist-packages (from transformers) (4.8.2)\n",
            "Requirement already satisfied: typing-extensions>=3.7.4.3 in /usr/local/lib/python3.7/dist-packages (from huggingface-hub<1.0,>=0.1.0->transformers) (3.10.0.2)\n",
            "Requirement already satisfied: pyparsing<3,>=2.0.2 in /usr/local/lib/python3.7/dist-packages (from packaging>=20.0->transformers) (2.4.7)\n",
            "Requirement already satisfied: google-pasta>=0.1.1 in /usr/local/lib/python3.7/dist-packages (from tensorflow) (0.2.0)\n",
            "Requirement already satisfied: flatbuffers<3.0,>=1.12 in /usr/local/lib/python3.7/dist-packages (from tensorflow) (2.0)\n",
            "Requirement already satisfied: grpcio<2.0,>=1.24.3 in /usr/local/lib/python3.7/dist-packages (from tensorflow) (1.41.1)\n",
            "Requirement already satisfied: termcolor>=1.1.0 in /usr/local/lib/python3.7/dist-packages (from tensorflow) (1.1.0)\n",
            "Requirement already satisfied: wheel<1.0,>=0.32.0 in /usr/local/lib/python3.7/dist-packages (from tensorflow) (0.37.0)\n",
            "Requirement already satisfied: h5py>=2.9.0 in /usr/local/lib/python3.7/dist-packages (from tensorflow) (3.1.0)\n",
            "Requirement already satisfied: keras-preprocessing>=1.1.1 in /usr/local/lib/python3.7/dist-packages (from tensorflow) (1.1.2)\n",
            "Requirement already satisfied: tensorflow-io-gcs-filesystem>=0.21.0 in /usr/local/lib/python3.7/dist-packages (from tensorflow) (0.22.0)\n",
            "Requirement already satisfied: absl-py>=0.4.0 in /usr/local/lib/python3.7/dist-packages (from tensorflow) (0.12.0)\n",
            "Requirement already satisfied: tensorboard~=2.6 in /usr/local/lib/python3.7/dist-packages (from tensorflow) (2.7.0)\n",
            "Requirement already satisfied: astunparse>=1.6.0 in /usr/local/lib/python3.7/dist-packages (from tensorflow) (1.6.3)\n",
            "Requirement already satisfied: libclang>=9.0.1 in /usr/local/lib/python3.7/dist-packages (from tensorflow) (12.0.0)\n",
            "Requirement already satisfied: six>=1.12.0 in /usr/local/lib/python3.7/dist-packages (from tensorflow) (1.15.0)\n",
            "Requirement already satisfied: gast<0.5.0,>=0.2.1 in /usr/local/lib/python3.7/dist-packages (from tensorflow) (0.4.0)\n",
            "Requirement already satisfied: protobuf>=3.9.2 in /usr/local/lib/python3.7/dist-packages (from tensorflow) (3.17.3)\n",
            "Requirement already satisfied: wrapt>=1.11.0 in /usr/local/lib/python3.7/dist-packages (from tensorflow) (1.13.3)\n",
            "Requirement already satisfied: opt-einsum>=2.3.2 in /usr/local/lib/python3.7/dist-packages (from tensorflow) (3.3.0)\n",
            "Requirement already satisfied: tensorflow-estimator<2.8,~=2.7.0rc0 in /usr/local/lib/python3.7/dist-packages (from tensorflow) (2.7.0)\n",
            "Requirement already satisfied: cached-property in /usr/local/lib/python3.7/dist-packages (from h5py>=2.9.0->tensorflow) (1.5.2)\n",
            "Requirement already satisfied: tensorboard-data-server<0.7.0,>=0.6.0 in /usr/local/lib/python3.7/dist-packages (from tensorboard~=2.6->tensorflow) (0.6.1)\n",
            "Requirement already satisfied: google-auth-oauthlib<0.5,>=0.4.1 in /usr/local/lib/python3.7/dist-packages (from tensorboard~=2.6->tensorflow) (0.4.6)\n",
            "Requirement already satisfied: setuptools>=41.0.0 in /usr/local/lib/python3.7/dist-packages (from tensorboard~=2.6->tensorflow) (57.4.0)\n",
            "Requirement already satisfied: markdown>=2.6.8 in /usr/local/lib/python3.7/dist-packages (from tensorboard~=2.6->tensorflow) (3.3.4)\n",
            "Requirement already satisfied: google-auth<3,>=1.6.3 in /usr/local/lib/python3.7/dist-packages (from tensorboard~=2.6->tensorflow) (1.35.0)\n",
            "Requirement already satisfied: werkzeug>=0.11.15 in /usr/local/lib/python3.7/dist-packages (from tensorboard~=2.6->tensorflow) (1.0.1)\n",
            "Requirement already satisfied: tensorboard-plugin-wit>=1.6.0 in /usr/local/lib/python3.7/dist-packages (from tensorboard~=2.6->tensorflow) (1.8.0)\n",
            "Requirement already satisfied: cachetools<5.0,>=2.0.0 in /usr/local/lib/python3.7/dist-packages (from google-auth<3,>=1.6.3->tensorboard~=2.6->tensorflow) (4.2.4)\n",
            "Requirement already satisfied: rsa<5,>=3.1.4 in /usr/local/lib/python3.7/dist-packages (from google-auth<3,>=1.6.3->tensorboard~=2.6->tensorflow) (4.7.2)\n",
            "Requirement already satisfied: pyasn1-modules>=0.2.1 in /usr/local/lib/python3.7/dist-packages (from google-auth<3,>=1.6.3->tensorboard~=2.6->tensorflow) (0.2.8)\n",
            "Requirement already satisfied: requests-oauthlib>=0.7.0 in /usr/local/lib/python3.7/dist-packages (from google-auth-oauthlib<0.5,>=0.4.1->tensorboard~=2.6->tensorflow) (1.3.0)\n",
            "Requirement already satisfied: pyasn1<0.5.0,>=0.4.6 in /usr/local/lib/python3.7/dist-packages (from pyasn1-modules>=0.2.1->google-auth<3,>=1.6.3->tensorboard~=2.6->tensorflow) (0.4.8)\n",
            "Requirement already satisfied: certifi>=2017.4.17 in /usr/local/lib/python3.7/dist-packages (from requests->transformers) (2021.10.8)\n",
            "Requirement already satisfied: chardet<4,>=3.0.2 in /usr/local/lib/python3.7/dist-packages (from requests->transformers) (3.0.4)\n",
            "Requirement already satisfied: urllib3!=1.25.0,!=1.25.1,<1.26,>=1.21.1 in /usr/local/lib/python3.7/dist-packages (from requests->transformers) (1.24.3)\n",
            "Requirement already satisfied: idna<3,>=2.5 in /usr/local/lib/python3.7/dist-packages (from requests->transformers) (2.10)\n",
            "Requirement already satisfied: oauthlib>=3.0.0 in /usr/local/lib/python3.7/dist-packages (from requests-oauthlib>=0.7.0->google-auth-oauthlib<0.5,>=0.4.1->tensorboard~=2.6->tensorflow) (3.1.1)\n",
            "Requirement already satisfied: zipp>=0.5 in /usr/local/lib/python3.7/dist-packages (from importlib-metadata->transformers) (3.6.0)\n",
            "Requirement already satisfied: joblib in /usr/local/lib/python3.7/dist-packages (from sacremoses->transformers) (1.1.0)\n",
            "Requirement already satisfied: click in /usr/local/lib/python3.7/dist-packages (from sacremoses->transformers) (7.1.2)\n"
          ]
        }
      ],
      "source": [
        "!pip install transformers keras tensorflow"
      ]
    },
    {
      "cell_type": "code",
      "execution_count": null,
      "metadata": {
        "colab": {
          "base_uri": "https://localhost:8080/"
        },
        "id": "9MvosCRwAm5A",
        "outputId": "958f7b4b-aa81-4800-a55e-535e2c96325c"
      },
      "outputs": [
        {
          "name": "stderr",
          "output_type": "stream",
          "text": [
            "No model was supplied, defaulted to distilbert-base-uncased-finetuned-sst-2-english (https://huggingface.co/distilbert-base-uncased-finetuned-sst-2-english)\n"
          ]
        }
      ],
      "source": [
        "# 감정 분석 파이프라인 설정 \n",
        "classifier = pipeline(\"sentiment-analysis\")"
      ]
    },
    {
      "cell_type": "code",
      "execution_count": null,
      "metadata": {
        "colab": {
          "base_uri": "https://localhost:8080/"
        },
        "id": "eK9Pc7w1Am-K",
        "outputId": "5efc0433-7a96-4e06-ac10-2a90c2b19dae"
      },
      "outputs": [
        {
          "name": "stdout",
          "output_type": "stream",
          "text": [
            "not paraphrase: 10%\n",
            "is paraphrase: 90%\n",
            "not paraphrase: 94%\n",
            "is paraphrase: 6%\n"
          ]
        }
      ],
      "source": [
        "from transformers import AutoTokenizer, AutoModelForSequenceClassification\n",
        "import torch\n",
        "\n",
        "tokenizer = AutoTokenizer.from_pretrained(\"bert-base-cased-finetuned-mrpc\")\n",
        "model = AutoModelForSequenceClassification.from_pretrained(\"bert-base-cased-finetuned-mrpc\")\n",
        "\n",
        "classes = [\"not paraphrase\", \"is paraphrase\"]\n",
        "\n",
        "sequence_0 = \"The company HuggingFace is based in New York City\" # 문자열_0: \"회사 허깅페이스는 뉴욕 도시에 위치해 있다.\"\"\n",
        "\n",
        "sequence_1 = \"Apples are especially bad for your health\" # 문자열_1 \"사과는 특히 당신의 건강에 좋지 않다.\"\n",
        "\n",
        "sequence_2 = \"HuggingFace's headquarters are situated in Manhattan\" # 문자열_2\"허깅페이스 사의 본부는 맨하탄에 위치해있다.\"\n",
        "\n",
        "# The tokenizer will automatically add any model specific separators (i.e. <CLS> and <SEP>) and tokens to\n",
        "# the sequence, as well as compute the attention masks.\n",
        "paraphrase = tokenizer(sequence_0, sequence_2, return_tensors=\"pt\") # 문자열_0과 문자열_2간의 패러프레이징 확률을 계산 \n",
        "\n",
        "not_paraphrase = tokenizer(sequence_0, sequence_1, return_tensors=\"pt\") # 문자열_0과 문자열_1간의 패러프레이징 확률을 계산 \n",
        "\n",
        "\n",
        "\n",
        "paraphrase_classification_logits = model(**paraphrase).logits # 문자열_0과 문자열_2간의 패러프레이징 확률을 로짓 함수값으로 계산 \n",
        "\n",
        "not_paraphrase_classification_logits = model(**not_paraphrase).logits # 문자열_0과 문자열_1간의 패러프레이징 확률을 로짓 함수값으로 계산 \n",
        "\n",
        "\n",
        "\n",
        "paraphrase_results = torch.softmax(paraphrase_classification_logits, dim=1).tolist()[0] # 문자열_0과 문자열_2간의 패러프레이징 확률 결과값 도출\n",
        "\n",
        "not_paraphrase_results = torch.softmax(not_paraphrase_classification_logits, dim=1).tolist()[0] # 문자열_0과 문자열_1간의 패러프레이징 확률 결과값 도출\n",
        "\n",
        "# Should be paraphrase\n",
        "for i in range(len(classes)):\n",
        "    print(f\"{classes[i]}: {int(round(paraphrase_results[i] * 100))}%\")\n",
        "\n",
        "# Should not be paraphrase\n",
        "for i in range(len(classes)):\n",
        "    print(f\"{classes[i]}: {int(round(not_paraphrase_results[i] * 100))}%\")"
      ]
    },
    {
      "cell_type": "code",
      "execution_count": null,
      "metadata": {
        "id": "419dv1FfAnJk"
      },
      "outputs": [],
      "source": [
        "# 모듈 불러오기\n",
        "import tensorflow as tf\n",
        "import torch\n",
        "\n",
        "from transformers import BertTokenizer\n",
        "from transformers import BertForSequenceClassification, AdamW, BertConfig\n",
        "from transformers import get_linear_schedule_with_warmup\n",
        "from torch.utils.data import TensorDataset, DataLoader, RandomSampler, SequentialSampler\n",
        "from keras.preprocessing.sequence import pad_sequences\n",
        "from sklearn.model_selection import train_test_split\n",
        "\n",
        "import pandas as pd\n",
        "import numpy as np\n",
        "import random\n",
        "import time\n",
        "import datetime"
      ]
    },
    {
      "cell_type": "code",
      "execution_count": null,
      "metadata": {
        "colab": {
          "base_uri": "https://localhost:8080/"
        },
        "id": "NUkVDWoKAnOD",
        "outputId": "987e83f1-7fa3-4cac-879c-f59914e520ab"
      },
      "outputs": [
        {
          "name": "stdout",
          "output_type": "stream",
          "text": [
            "Cloning into 'nsmc'...\n",
            "remote: Enumerating objects: 14763, done.\u001b[K\n",
            "remote: Total 14763 (delta 0), reused 0 (delta 0), pack-reused 14763\u001b[K\n",
            "Receiving objects: 100% (14763/14763), 56.19 MiB | 17.40 MiB/s, done.\n",
            "Resolving deltas: 100% (1749/1749), done.\n",
            "Checking out files: 100% (14737/14737), done.\n"
          ]
        }
      ],
      "source": [
        "# 네이버 영화 리뷰 감정분석 데이터 다운로드하기 \n",
        "!git clone https://github.com/e9t/nsmc.git"
      ]
    },
    {
      "cell_type": "code",
      "execution_count": null,
      "metadata": {
        "colab": {
          "base_uri": "https://localhost:8080/"
        },
        "id": "20SW1u62A-sh",
        "outputId": "a2e75e99-69a7-4b6f-ae33-a1d312237056"
      },
      "outputs": [
        {
          "name": "stdout",
          "output_type": "stream",
          "text": [
            "(150000, 3)\n",
            "(50000, 3)\n"
          ]
        }
      ],
      "source": [
        "# Pandas로 트레이닝셋과 테스트셋 데이터 로드하기 \n",
        "train = pd.read_csv(\"nsmc/ratings_train.txt\", sep='\\t')\n",
        "test = pd.read_csv(\"nsmc/ratings_test.txt\", sep='\\t')\n",
        "\n",
        "print(train.shape)\n",
        "print(test.shape)"
      ]
    },
    {
      "cell_type": "code",
      "execution_count": null,
      "metadata": {
        "colab": {
          "base_uri": "https://localhost:8080/",
          "height": 204
        },
        "id": "A6mr7nv3A-xG",
        "outputId": "60950c42-3087-47ba-e212-ea747e2977b0"
      },
      "outputs": [
        {
          "data": {
            "text/html": [
              "<div>\n",
              "<style scoped>\n",
              "    .dataframe tbody tr th:only-of-type {\n",
              "        vertical-align: middle;\n",
              "    }\n",
              "\n",
              "    .dataframe tbody tr th {\n",
              "        vertical-align: top;\n",
              "    }\n",
              "\n",
              "    .dataframe thead th {\n",
              "        text-align: right;\n",
              "    }\n",
              "</style>\n",
              "<table border=\"1\" class=\"dataframe\">\n",
              "  <thead>\n",
              "    <tr style=\"text-align: right;\">\n",
              "      <th></th>\n",
              "      <th>id</th>\n",
              "      <th>document</th>\n",
              "      <th>label</th>\n",
              "    </tr>\n",
              "  </thead>\n",
              "  <tbody>\n",
              "    <tr>\n",
              "      <th>0</th>\n",
              "      <td>9976970</td>\n",
              "      <td>아 더빙.. 진짜 짜증나네요 목소리</td>\n",
              "      <td>0</td>\n",
              "    </tr>\n",
              "    <tr>\n",
              "      <th>1</th>\n",
              "      <td>3819312</td>\n",
              "      <td>흠...포스터보고 초딩영화줄....오버연기조차 가볍지 않구나</td>\n",
              "      <td>1</td>\n",
              "    </tr>\n",
              "    <tr>\n",
              "      <th>2</th>\n",
              "      <td>10265843</td>\n",
              "      <td>너무재밓었다그래서보는것을추천한다</td>\n",
              "      <td>0</td>\n",
              "    </tr>\n",
              "    <tr>\n",
              "      <th>3</th>\n",
              "      <td>9045019</td>\n",
              "      <td>교도소 이야기구먼 ..솔직히 재미는 없다..평점 조정</td>\n",
              "      <td>0</td>\n",
              "    </tr>\n",
              "    <tr>\n",
              "      <th>4</th>\n",
              "      <td>6483659</td>\n",
              "      <td>사이몬페그의 익살스런 연기가 돋보였던 영화!스파이더맨에서 늙어보이기만 했던 커스틴 ...</td>\n",
              "      <td>1</td>\n",
              "    </tr>\n",
              "  </tbody>\n",
              "</table>\n",
              "</div>"
            ],
            "text/plain": [
              "         id                                           document  label\n",
              "0   9976970                                아 더빙.. 진짜 짜증나네요 목소리      0\n",
              "1   3819312                  흠...포스터보고 초딩영화줄....오버연기조차 가볍지 않구나      1\n",
              "2  10265843                                  너무재밓었다그래서보는것을추천한다      0\n",
              "3   9045019                      교도소 이야기구먼 ..솔직히 재미는 없다..평점 조정      0\n",
              "4   6483659  사이몬페그의 익살스런 연기가 돋보였던 영화!스파이더맨에서 늙어보이기만 했던 커스틴 ...      1"
            ]
          },
          "execution_count": 20,
          "metadata": {},
          "output_type": "execute_result"
        }
      ],
      "source": [
        "# 트레이닝셋 확인 (긍정은 1, 부정은 0)\n",
        "train.head(5)"
      ]
    },
    {
      "cell_type": "code",
      "execution_count": null,
      "metadata": {
        "colab": {
          "base_uri": "https://localhost:8080/"
        },
        "id": "ZBBja8NJA-1k",
        "outputId": "44934cb1-73ab-4d19-d418-1cbd4a2b5884"
      },
      "outputs": [
        {
          "data": {
            "text/plain": [
              "0                                  아 더빙.. 진짜 짜증나네요 목소리\n",
              "1                    흠...포스터보고 초딩영화줄....오버연기조차 가볍지 않구나\n",
              "2                                    너무재밓었다그래서보는것을추천한다\n",
              "3                        교도소 이야기구먼 ..솔직히 재미는 없다..평점 조정\n",
              "4    사이몬페그의 익살스런 연기가 돋보였던 영화!스파이더맨에서 늙어보이기만 했던 커스틴 ...\n",
              "Name: document, dtype: object"
            ]
          },
          "execution_count": 21,
          "metadata": {},
          "output_type": "execute_result"
        }
      ],
      "source": [
        "# 리뷰 문장 추출하기 \n",
        "sentences = train['document']\n",
        "sentences[:5]"
      ]
    },
    {
      "cell_type": "code",
      "execution_count": null,
      "metadata": {
        "colab": {
          "base_uri": "https://localhost:8080/"
        },
        "id": "joeloRXmA-5X",
        "outputId": "1fb71439-9c79-4f35-fd60-d0d517f43415"
      },
      "outputs": [
        {
          "data": {
            "text/plain": [
              "['[CLS] 아 더빙.. 진짜 짜증나네요 목소리 [SEP]',\n",
              " '[CLS] 흠...포스터보고 초딩영화줄....오버연기조차 가볍지 않구나 [SEP]',\n",
              " '[CLS] 너무재밓었다그래서보는것을추천한다 [SEP]',\n",
              " '[CLS] 교도소 이야기구먼 ..솔직히 재미는 없다..평점 조정 [SEP]',\n",
              " '[CLS] 사이몬페그의 익살스런 연기가 돋보였던 영화!스파이더맨에서 늙어보이기만 했던 커스틴 던스트가 너무나도 이뻐보였다 [SEP]']"
            ]
          },
          "execution_count": 22,
          "metadata": {},
          "output_type": "execute_result"
        }
      ],
      "source": [
        "# BERT의 입력 형태로 변화하기 \n",
        "sentences = [\"[CLS] \" + str(sentence) + \" [SEP]\" for sentence in sentences]\n",
        "sentences[:5]"
      ]
    },
    {
      "cell_type": "markdown",
      "metadata": {
        "id": "PpA8nhFgcF5F"
      },
      "source": [
        "![BERT](https://camo.githubusercontent.com/ea435ce1eed653db0b7412bbe87285a8ae976176/68747470733a2f2f6d696e6f2d7061726b372e6769746875622e696f2f696d616765732f323031392f30322f626572742d696e7075742d726570726573656e746174696f6e2e706e67)"
      ]
    },
    {
      "cell_type": "code",
      "execution_count": null,
      "metadata": {
        "colab": {
          "base_uri": "https://localhost:8080/"
        },
        "id": "5DCogJpwBEUf",
        "outputId": "039c7aa6-2c84-4cf6-85fd-7c8e462ab30c"
      },
      "outputs": [
        {
          "name": "stdout",
          "output_type": "stream",
          "text": [
            "[0 1 0 ... 0 1 0]\n",
            "150000\n"
          ]
        }
      ],
      "source": [
        "# 라벨 및 라벨 개수 확인하기 \n",
        "labels = train['label'].values\n",
        "print(labels)\n",
        "print(len(labels))"
      ]
    },
    {
      "cell_type": "code",
      "execution_count": null,
      "metadata": {
        "colab": {
          "base_uri": "https://localhost:8080/",
          "height": 179,
          "referenced_widgets": [
            "cedf226764a043ceb0fbb106b3ee939a",
            "0a453564d80343a4a3f153d432877fb7",
            "be63e8c6bfb34f04bd7b242da53a987b",
            "fa07ceffc834457ba7d0bb50f851623d",
            "4218605d81484a3c9a9cd1db53623c1a",
            "ede9e4d9472747cb8c240372339adf40",
            "d34f5de3fc9a4172a15b982f17921746",
            "98425d28cc534ede8f13104538756d3d",
            "13c8a79be7a34ecf854e39d7c843cd2d",
            "1d34591b80c64c328337aad9c8faf824",
            "d8df44f16bde4cfba16427df69a24b12",
            "7b72223097574f438162acf65cd14d15",
            "5e5100e485954175b12ad9ffaa9391c1",
            "2dd6e3de695642319d4177499a1b2c7c",
            "f7b97b5048b84160ad471e2c266aca57",
            "8a94534f5e3747009a7ec53713b1d585",
            "b58d9cb1d3da4bbaa3f77aac4b4f09c9",
            "b81dfcfca8a949598c8d9bf08f3e737d",
            "f8d6f9ee4674457ab1ec58d67e5fb580",
            "d50478b5b69e4903857b19b15411ffea",
            "28d40d583ac8471aaa151023227ea549",
            "0096cb12eca44179ae7854ad4c6fb6d7",
            "47d80ca277f74fb1ba87fea850dbc4fd",
            "73ae5317cff04364aae94f6402ec541d",
            "5ab4d6c6c5a943338d97d3fbc4a6e7c2",
            "33e84ffdc36b444a8339b020cf528d49",
            "f94292da9d674e12a762b649b17854c7",
            "2c7dd03d007b43609c87198f33484d25",
            "01c7d1aab8d844c7b361ac8576881a99",
            "6ae9c9f3392847f7a0d4b4e2b647996b",
            "b15bed4a578745368be75e63fbeee602",
            "b40375c56aed4c0da0a6f2417320a229",
            "1a8f8de84e7c423cbd0b2911e7b61551",
            "6b9c2eb779184040803556422679e065",
            "459284115dfe47d79146b2d99ecc8205",
            "df493fab2dba4440a19728dd0f968a2e",
            "8c5fbd3fc85f4e97a76f3a34884da910",
            "98422127b14e4ed6ad77008116231aeb",
            "b92c9e02bff8423f874c51d75dbdcb26",
            "e0a1263bfec74e63ab75b3ca95c009aa",
            "c6486d7aa2224fd08100e2150944771e",
            "35e97d1fe7684b17835a3af31a06a87c",
            "6668fd4e0ae6489bb978453c175d8a8c",
            "62b19bdbded0446c8c9c442f9dac7e16"
          ]
        },
        "id": "tUil_-q1BEYo",
        "outputId": "75f8f199-ef55-4ba7-da6e-c87dbe8c30fc"
      },
      "outputs": [
        {
          "data": {
            "application/vnd.jupyter.widget-view+json": {
              "model_id": "cedf226764a043ceb0fbb106b3ee939a",
              "version_major": 2,
              "version_minor": 0
            },
            "text/plain": [
              "Downloading:   0%|          | 0.00/972k [00:00<?, ?B/s]"
            ]
          },
          "metadata": {},
          "output_type": "display_data"
        },
        {
          "data": {
            "application/vnd.jupyter.widget-view+json": {
              "model_id": "7b72223097574f438162acf65cd14d15",
              "version_major": 2,
              "version_minor": 0
            },
            "text/plain": [
              "Downloading:   0%|          | 0.00/29.0 [00:00<?, ?B/s]"
            ]
          },
          "metadata": {},
          "output_type": "display_data"
        },
        {
          "data": {
            "application/vnd.jupyter.widget-view+json": {
              "model_id": "47d80ca277f74fb1ba87fea850dbc4fd",
              "version_major": 2,
              "version_minor": 0
            },
            "text/plain": [
              "Downloading:   0%|          | 0.00/1.87M [00:00<?, ?B/s]"
            ]
          },
          "metadata": {},
          "output_type": "display_data"
        },
        {
          "data": {
            "application/vnd.jupyter.widget-view+json": {
              "model_id": "6b9c2eb779184040803556422679e065",
              "version_major": 2,
              "version_minor": 0
            },
            "text/plain": [
              "Downloading:   0%|          | 0.00/625 [00:00<?, ?B/s]"
            ]
          },
          "metadata": {},
          "output_type": "display_data"
        },
        {
          "name": "stdout",
          "output_type": "stream",
          "text": [
            "[CLS] 아 더빙.. 진짜 짜증나네요 목소리 [SEP]\n",
            "['[CLS]', '아', '더', '##빙', '.', '.', '진', '##짜', '짜', '##증', '##나', '##네', '##요', '목', '##소', '##리', '[SEP]']\n"
          ]
        }
      ],
      "source": [
        "# BERT의 토크나이저 활용하기 \n",
        "tokenizer = BertTokenizer.from_pretrained('bert-base-multilingual-cased', do_lower_case=False)\n",
        "tokenized_texts = [tokenizer.tokenize(sent) for sent in sentences]\n",
        "\n",
        "# 토크나이저에 따라 구분하기\n",
        "print (sentences[0])\n",
        "print (tokenized_texts[0])"
      ]
    },
    {
      "cell_type": "code",
      "execution_count": null,
      "metadata": {
        "colab": {
          "base_uri": "https://localhost:8080/"
        },
        "id": "TQV_3IbWBEdG",
        "outputId": "853f50a2-681c-4866-9e7b-8dc394c17557"
      },
      "outputs": [
        {
          "data": {
            "text/plain": [
              "array([   101,   9519,   9074, 119005,    119,    119,   9708, 119235,\n",
              "         9715, 119230,  16439,  77884,  48549,   9284,  22333,  12692,\n",
              "          102,      0,      0,      0,      0,      0,      0,      0,\n",
              "            0,      0,      0,      0,      0,      0,      0,      0,\n",
              "            0,      0,      0,      0,      0,      0,      0,      0,\n",
              "            0,      0,      0,      0,      0,      0,      0,      0,\n",
              "            0,      0,      0,      0,      0,      0,      0,      0,\n",
              "            0,      0,      0,      0,      0,      0,      0,      0,\n",
              "            0,      0,      0,      0,      0,      0,      0,      0,\n",
              "            0,      0,      0,      0,      0,      0,      0,      0,\n",
              "            0,      0,      0,      0,      0,      0,      0,      0,\n",
              "            0,      0,      0,      0,      0,      0,      0,      0,\n",
              "            0,      0,      0,      0,      0,      0,      0,      0,\n",
              "            0,      0,      0,      0,      0,      0,      0,      0,\n",
              "            0,      0,      0,      0,      0,      0,      0,      0,\n",
              "            0,      0,      0,      0,      0,      0,      0,      0])"
            ]
          },
          "execution_count": 25,
          "metadata": {},
          "output_type": "execute_result"
        }
      ],
      "source": [
        "# 입력 토큰의 최대 시퀀스 길이 설정하기\n",
        "MAX_LEN = 128\n",
        "\n",
        "# 토큰을 숫자 인덱스로 변환하기 \n",
        "input_ids = [tokenizer.convert_tokens_to_ids(x) for x in tokenized_texts]\n",
        "\n",
        "# 문장을 최대 길이에 맞게 자르고, 모자란 부분을 패딩 0으로 채움\n",
        "input_ids = pad_sequences(input_ids, maxlen=MAX_LEN, dtype=\"long\", truncating=\"post\", padding=\"post\")\n",
        "\n",
        "input_ids[0]"
      ]
    },
    {
      "cell_type": "code",
      "execution_count": null,
      "metadata": {
        "colab": {
          "base_uri": "https://localhost:8080/"
        },
        "id": "2nCE66G6BEgw",
        "outputId": "41dabf4f-2764-49e0-83a2-7be6cf5f13e9"
      },
      "outputs": [
        {
          "name": "stdout",
          "output_type": "stream",
          "text": [
            "[1.0, 1.0, 1.0, 1.0, 1.0, 1.0, 1.0, 1.0, 1.0, 1.0, 1.0, 1.0, 1.0, 1.0, 1.0, 1.0, 1.0, 0.0, 0.0, 0.0, 0.0, 0.0, 0.0, 0.0, 0.0, 0.0, 0.0, 0.0, 0.0, 0.0, 0.0, 0.0, 0.0, 0.0, 0.0, 0.0, 0.0, 0.0, 0.0, 0.0, 0.0, 0.0, 0.0, 0.0, 0.0, 0.0, 0.0, 0.0, 0.0, 0.0, 0.0, 0.0, 0.0, 0.0, 0.0, 0.0, 0.0, 0.0, 0.0, 0.0, 0.0, 0.0, 0.0, 0.0, 0.0, 0.0, 0.0, 0.0, 0.0, 0.0, 0.0, 0.0, 0.0, 0.0, 0.0, 0.0, 0.0, 0.0, 0.0, 0.0, 0.0, 0.0, 0.0, 0.0, 0.0, 0.0, 0.0, 0.0, 0.0, 0.0, 0.0, 0.0, 0.0, 0.0, 0.0, 0.0, 0.0, 0.0, 0.0, 0.0, 0.0, 0.0, 0.0, 0.0, 0.0, 0.0, 0.0, 0.0, 0.0, 0.0, 0.0, 0.0, 0.0, 0.0, 0.0, 0.0, 0.0, 0.0, 0.0, 0.0, 0.0, 0.0, 0.0, 0.0, 0.0, 0.0, 0.0, 0.0]\n"
          ]
        }
      ],
      "source": [
        "# 어텐션 마스크 초기화\n",
        "attention_masks = []\n",
        "\n",
        "# 어텐션 마스크를 패딩이 아니면 1, 패딩이면 0으로 설정\n",
        "# 패딩 부분은 BERT 모델에서 어텐션을 수행하지 않아 속도 향상\n",
        "for seq in input_ids:\n",
        "    seq_mask = [float(i>0) for i in seq]\n",
        "    attention_masks.append(seq_mask)\n",
        "\n",
        "print(attention_masks[0])"
      ]
    },
    {
      "cell_type": "code",
      "execution_count": null,
      "metadata": {
        "colab": {
          "base_uri": "https://localhost:8080/"
        },
        "id": "olCwf1m1BEk9",
        "outputId": "e921e29b-c6c9-49fc-8c0f-4a3bb1fddadc"
      },
      "outputs": [
        {
          "name": "stdout",
          "output_type": "stream",
          "text": [
            "tensor([   101,   9711,  11489,   9364,  41850,   9004,  32537,   9491,  35506,\n",
            "         17360,  48549,    119,    119,   9477,  26444,  12692,   9665,  21789,\n",
            "         11287,   9708, 119235,   9659,  22458, 119136,  12965,  48549,    119,\n",
            "           119,   9532,  22879,   9685,  16985,  14523,  48549,    119,    119,\n",
            "          9596, 118728,    119,    119,   9178, 106065, 118916,    119,    119,\n",
            "          8903,  11664,  11513,   9960,  14423,  25503, 118671,  48549,    119,\n",
            "           119,  21890,   9546,  37819,  22879,   9356,  14867,   9715, 119230,\n",
            "        118716,  48345,    119,   9663,  23321,  10954,   9638,  35506, 106320,\n",
            "         10739,  20173,   9359,  19105,  11102,  42428,  17196,  48549,    119,\n",
            "           119,    100,    117,   9947,  12945,   9532,  25503,   8932,  14423,\n",
            "         35506, 119050,  11903,  14867,  10003,  14863,  33188,  48345,    119,\n",
            "           102,      0,      0,      0,      0,      0,      0,      0,      0,\n",
            "             0,      0,      0,      0,      0,      0,      0,      0,      0,\n",
            "             0,      0,      0,      0,      0,      0,      0,      0,      0,\n",
            "             0,      0])\n",
            "tensor(0)\n",
            "tensor([1., 1., 1., 1., 1., 1., 1., 1., 1., 1., 1., 1., 1., 1., 1., 1., 1., 1.,\n",
            "        1., 1., 1., 1., 1., 1., 1., 1., 1., 1., 1., 1., 1., 1., 1., 1., 1., 1.,\n",
            "        1., 1., 1., 1., 1., 1., 1., 1., 1., 1., 1., 1., 1., 1., 1., 1., 1., 1.,\n",
            "        1., 1., 1., 1., 1., 1., 1., 1., 1., 1., 1., 1., 1., 1., 1., 1., 1., 1.,\n",
            "        1., 1., 1., 1., 1., 1., 1., 1., 1., 1., 1., 1., 1., 1., 1., 1., 1., 1.,\n",
            "        1., 1., 1., 1., 1., 1., 1., 1., 1., 1., 0., 0., 0., 0., 0., 0., 0., 0.,\n",
            "        0., 0., 0., 0., 0., 0., 0., 0., 0., 0., 0., 0., 0., 0., 0., 0., 0., 0.,\n",
            "        0., 0.])\n",
            "tensor([   101,   1871, 111754, 111754, 111754, 111754,    102,      0,      0,\n",
            "             0,      0,      0,      0,      0,      0,      0,      0,      0,\n",
            "             0,      0,      0,      0,      0,      0,      0,      0,      0,\n",
            "             0,      0,      0,      0,      0,      0,      0,      0,      0,\n",
            "             0,      0,      0,      0,      0,      0,      0,      0,      0,\n",
            "             0,      0,      0,      0,      0,      0,      0,      0,      0,\n",
            "             0,      0,      0,      0,      0,      0,      0,      0,      0,\n",
            "             0,      0,      0,      0,      0,      0,      0,      0,      0,\n",
            "             0,      0,      0,      0,      0,      0,      0,      0,      0,\n",
            "             0,      0,      0,      0,      0,      0,      0,      0,      0,\n",
            "             0,      0,      0,      0,      0,      0,      0,      0,      0,\n",
            "             0,      0,      0,      0,      0,      0,      0,      0,      0,\n",
            "             0,      0,      0,      0,      0,      0,      0,      0,      0,\n",
            "             0,      0,      0,      0,      0,      0,      0,      0,      0,\n",
            "             0,      0])\n",
            "tensor(1)\n",
            "tensor([1., 1., 1., 1., 1., 1., 1., 0., 0., 0., 0., 0., 0., 0., 0., 0., 0., 0.,\n",
            "        0., 0., 0., 0., 0., 0., 0., 0., 0., 0., 0., 0., 0., 0., 0., 0., 0., 0.,\n",
            "        0., 0., 0., 0., 0., 0., 0., 0., 0., 0., 0., 0., 0., 0., 0., 0., 0., 0.,\n",
            "        0., 0., 0., 0., 0., 0., 0., 0., 0., 0., 0., 0., 0., 0., 0., 0., 0., 0.,\n",
            "        0., 0., 0., 0., 0., 0., 0., 0., 0., 0., 0., 0., 0., 0., 0., 0., 0., 0.,\n",
            "        0., 0., 0., 0., 0., 0., 0., 0., 0., 0., 0., 0., 0., 0., 0., 0., 0., 0.,\n",
            "        0., 0., 0., 0., 0., 0., 0., 0., 0., 0., 0., 0., 0., 0., 0., 0., 0., 0.,\n",
            "        0., 0.])\n"
          ]
        }
      ],
      "source": [
        "# 훈련셋과 검증셋으로 분리하기 \n",
        "train_inputs, validation_inputs, train_labels, validation_labels = train_test_split(input_ids,\n",
        "                                                                                    labels, \n",
        "                                                                                    random_state=2018, \n",
        "                                                                                    test_size=0.1)\n",
        "\n",
        "# 어텐션 마스크를 훈련셋과 검증셋으로 분리하기 \n",
        "train_masks, validation_masks, _, _ = train_test_split(attention_masks, \n",
        "                                                       input_ids,\n",
        "                                                       random_state=2018, \n",
        "                                                       test_size=0.1)\n",
        "\n",
        "# 데이터를 파이토치의 텐서로 변환하기\n",
        "train_inputs = torch.tensor(train_inputs)\n",
        "train_labels = torch.tensor(train_labels)\n",
        "train_masks = torch.tensor(train_masks)\n",
        "validation_inputs = torch.tensor(validation_inputs)\n",
        "validation_labels = torch.tensor(validation_labels)\n",
        "validation_masks = torch.tensor(validation_masks)\t\t\t\t\n",
        "\n",
        "# 텐서값 출력하기 \n",
        "print(train_inputs[0])\n",
        "print(train_labels[0])\n",
        "print(train_masks[0])\n",
        "print(validation_inputs[0])\n",
        "print(validation_labels[0])\n",
        "print(validation_masks[0])"
      ]
    },
    {
      "cell_type": "code",
      "execution_count": null,
      "metadata": {
        "id": "SUqKuL3eBEoi"
      },
      "outputs": [],
      "source": [
        "# 배치 사이즈\n",
        "batch_size = 32\n",
        "\n",
        "# 파이토치의 데이터 로더로 입력, 마스크, 라벨을 묶어 데이터 설정\n",
        "# 학습시 배치 사이즈 만큼 데이터를 가져옴\n",
        "# 데이터셋 구분 \n",
        "train_data = TensorDataset(train_inputs, train_masks, train_labels)\n",
        "train_sampler = RandomSampler(train_data)\n",
        "train_dataloader = DataLoader(train_data, sampler=train_sampler, batch_size=batch_size)\n",
        "\n",
        "validation_data = TensorDataset(validation_inputs, validation_masks, validation_labels)\n",
        "validation_sampler = SequentialSampler(validation_data)\n",
        "validation_dataloader = DataLoader(validation_data, sampler=validation_sampler, batch_size=batch_size)"
      ]
    },
    {
      "cell_type": "markdown",
      "metadata": {
        "id": "zOZjj4icBrz9"
      },
      "source": [
        "### **1.1.전처리 - 테스트셋**"
      ]
    },
    {
      "cell_type": "code",
      "execution_count": null,
      "metadata": {
        "colab": {
          "base_uri": "https://localhost:8080/"
        },
        "id": "F__eDHD7BEs-",
        "outputId": "45d22edc-bda1-44fe-c4d9-6fdf701ab4ec"
      },
      "outputs": [
        {
          "data": {
            "text/plain": [
              "0                                                  굳 ㅋ\n",
              "1                                 GDNTOPCLASSINTHECLUB\n",
              "2               뭐야 이 평점들은.... 나쁘진 않지만 10점 짜리는 더더욱 아니잖아\n",
              "3                     지루하지는 않은데 완전 막장임... 돈주고 보기에는....\n",
              "4    3D만 아니었어도 별 다섯 개 줬을텐데.. 왜 3D로 나와서 제 심기를 불편하게 하죠??\n",
              "Name: document, dtype: object"
            ]
          },
          "execution_count": 29,
          "metadata": {},
          "output_type": "execute_result"
        }
      ],
      "source": [
        "# 리뷰 문장 추출하기 \n",
        "sentences = test['document']\n",
        "sentences[:5]"
      ]
    },
    {
      "cell_type": "code",
      "execution_count": null,
      "metadata": {
        "colab": {
          "base_uri": "https://localhost:8080/"
        },
        "id": "fO4RFUAbBExJ",
        "outputId": "31c1251d-30a0-48de-cdbf-d9495df994eb"
      },
      "outputs": [
        {
          "data": {
            "text/plain": [
              "['[CLS] 굳 ㅋ [SEP]',\n",
              " '[CLS] GDNTOPCLASSINTHECLUB [SEP]',\n",
              " '[CLS] 뭐야 이 평점들은.... 나쁘진 않지만 10점 짜리는 더더욱 아니잖아 [SEP]',\n",
              " '[CLS] 지루하지는 않은데 완전 막장임... 돈주고 보기에는.... [SEP]',\n",
              " '[CLS] 3D만 아니었어도 별 다섯 개 줬을텐데.. 왜 3D로 나와서 제 심기를 불편하게 하죠?? [SEP]']"
            ]
          },
          "execution_count": 30,
          "metadata": {},
          "output_type": "execute_result"
        }
      ],
      "source": [
        "# BERT의 입력 형식에 맞게 변환하기 \n",
        "sentences = [\"[CLS] \" + str(sentence) + \" [SEP]\" for sentence in sentences]\n",
        "sentences[:5]"
      ]
    },
    {
      "cell_type": "code",
      "execution_count": null,
      "metadata": {
        "colab": {
          "base_uri": "https://localhost:8080/"
        },
        "id": "Qk36qOp0BE1I",
        "outputId": "3f235f4c-370d-4a37-c9f8-0defe08eae49"
      },
      "outputs": [
        {
          "name": "stdout",
          "output_type": "stream",
          "text": [
            "[1 0 0 ... 0 0 0]\n",
            "50000\n"
          ]
        }
      ],
      "source": [
        "# 라벨 및 라벨 개수 확인\n",
        "labels = test['label'].values\n",
        "print(labels)\n",
        "print(len(labels))"
      ]
    },
    {
      "cell_type": "code",
      "execution_count": null,
      "metadata": {
        "colab": {
          "base_uri": "https://localhost:8080/"
        },
        "id": "ucnj0yvcBE4j",
        "outputId": "3480a533-6e14-4960-ce53-db08a711e457"
      },
      "outputs": [
        {
          "name": "stdout",
          "output_type": "stream",
          "text": [
            "[CLS] 굳 ㅋ [SEP]\n",
            "['[CLS]', '굳', '[UNK]', '[SEP]']\n"
          ]
        }
      ],
      "source": [
        "# BERT의 토크나이저로 문장을 토큰으로 분리\n",
        "tokenizer = BertTokenizer.from_pretrained('bert-base-multilingual-cased', do_lower_case=False)\n",
        "tokenized_texts = [tokenizer.tokenize(sent) for sent in sentences]\n",
        "\n",
        "# 문장 확인하기 \n",
        "print (sentences[0])\n",
        "print (tokenized_texts[0])"
      ]
    },
    {
      "cell_type": "code",
      "execution_count": null,
      "metadata": {
        "colab": {
          "base_uri": "https://localhost:8080/"
        },
        "id": "K8n4LGvuBE9F",
        "outputId": "fc2e9ed3-48f5-4fc9-e9c1-626f7937b295"
      },
      "outputs": [
        {
          "data": {
            "text/plain": [
              "array([ 101, 8911,  100,  102,    0,    0,    0,    0,    0,    0,    0,\n",
              "          0,    0,    0,    0,    0,    0,    0,    0,    0,    0,    0,\n",
              "          0,    0,    0,    0,    0,    0,    0,    0,    0,    0,    0,\n",
              "          0,    0,    0,    0,    0,    0,    0,    0,    0,    0,    0,\n",
              "          0,    0,    0,    0,    0,    0,    0,    0,    0,    0,    0,\n",
              "          0,    0,    0,    0,    0,    0,    0,    0,    0,    0,    0,\n",
              "          0,    0,    0,    0,    0,    0,    0,    0,    0,    0,    0,\n",
              "          0,    0,    0,    0,    0,    0,    0,    0,    0,    0,    0,\n",
              "          0,    0,    0,    0,    0,    0,    0,    0,    0,    0,    0,\n",
              "          0,    0,    0,    0,    0,    0,    0,    0,    0,    0,    0,\n",
              "          0,    0,    0,    0,    0,    0,    0,    0,    0,    0,    0,\n",
              "          0,    0,    0,    0,    0,    0,    0])"
            ]
          },
          "execution_count": 33,
          "metadata": {},
          "output_type": "execute_result"
        }
      ],
      "source": [
        "# 입력 토큰의 최대 시퀀스 길이 설정하기\n",
        "MAX_LEN = 128\n",
        "\n",
        "# 토큰을 숫자 인덱스로 변환하기 \n",
        "input_ids = [tokenizer.convert_tokens_to_ids(x) for x in tokenized_texts]\n",
        "\n",
        "# 문장을 MAX_LEN 길이에 맞게 자르고, 모자란 부분을 패딩 0으로 채움\n",
        "input_ids = pad_sequences(input_ids, maxlen=MAX_LEN, dtype=\"long\", truncating=\"post\", padding=\"post\")\n",
        "\n",
        "input_ids[0]"
      ]
    },
    {
      "cell_type": "code",
      "execution_count": null,
      "metadata": {
        "colab": {
          "base_uri": "https://localhost:8080/"
        },
        "id": "twz4jD5vA-9h",
        "outputId": "841f308c-71ba-4310-b3ea-844c3a954306"
      },
      "outputs": [
        {
          "name": "stdout",
          "output_type": "stream",
          "text": [
            "[1.0, 1.0, 1.0, 1.0, 0.0, 0.0, 0.0, 0.0, 0.0, 0.0, 0.0, 0.0, 0.0, 0.0, 0.0, 0.0, 0.0, 0.0, 0.0, 0.0, 0.0, 0.0, 0.0, 0.0, 0.0, 0.0, 0.0, 0.0, 0.0, 0.0, 0.0, 0.0, 0.0, 0.0, 0.0, 0.0, 0.0, 0.0, 0.0, 0.0, 0.0, 0.0, 0.0, 0.0, 0.0, 0.0, 0.0, 0.0, 0.0, 0.0, 0.0, 0.0, 0.0, 0.0, 0.0, 0.0, 0.0, 0.0, 0.0, 0.0, 0.0, 0.0, 0.0, 0.0, 0.0, 0.0, 0.0, 0.0, 0.0, 0.0, 0.0, 0.0, 0.0, 0.0, 0.0, 0.0, 0.0, 0.0, 0.0, 0.0, 0.0, 0.0, 0.0, 0.0, 0.0, 0.0, 0.0, 0.0, 0.0, 0.0, 0.0, 0.0, 0.0, 0.0, 0.0, 0.0, 0.0, 0.0, 0.0, 0.0, 0.0, 0.0, 0.0, 0.0, 0.0, 0.0, 0.0, 0.0, 0.0, 0.0, 0.0, 0.0, 0.0, 0.0, 0.0, 0.0, 0.0, 0.0, 0.0, 0.0, 0.0, 0.0, 0.0, 0.0, 0.0, 0.0, 0.0, 0.0]\n"
          ]
        }
      ],
      "source": [
        "\n",
        "# 어텐션 마스크 초기화\n",
        "attention_masks = []\n",
        "\n",
        "# 어텐션 마스크를 패딩이 아니면 1, 패딩이면 0으로 설정\n",
        "# 패딩 부분은 BERT 모델에서 어텐션을 수행하지 않아 속도 향상\n",
        "for seq in input_ids:\n",
        "    seq_mask = [float(i>0) for i in seq]\n",
        "    attention_masks.append(seq_mask)\n",
        "\n",
        "print(attention_masks[0])"
      ]
    },
    {
      "cell_type": "code",
      "execution_count": null,
      "metadata": {
        "colab": {
          "base_uri": "https://localhost:8080/"
        },
        "id": "iQbPAm8cBzp8",
        "outputId": "3a91ef4b-6a3f-464e-ccc6-d5b806fa2bf0"
      },
      "outputs": [
        {
          "name": "stdout",
          "output_type": "stream",
          "text": [
            "tensor([ 101, 8911,  100,  102,    0,    0,    0,    0,    0,    0,    0,    0,\n",
            "           0,    0,    0,    0,    0,    0,    0,    0,    0,    0,    0,    0,\n",
            "           0,    0,    0,    0,    0,    0,    0,    0,    0,    0,    0,    0,\n",
            "           0,    0,    0,    0,    0,    0,    0,    0,    0,    0,    0,    0,\n",
            "           0,    0,    0,    0,    0,    0,    0,    0,    0,    0,    0,    0,\n",
            "           0,    0,    0,    0,    0,    0,    0,    0,    0,    0,    0,    0,\n",
            "           0,    0,    0,    0,    0,    0,    0,    0,    0,    0,    0,    0,\n",
            "           0,    0,    0,    0,    0,    0,    0,    0,    0,    0,    0,    0,\n",
            "           0,    0,    0,    0,    0,    0,    0,    0,    0,    0,    0,    0,\n",
            "           0,    0,    0,    0,    0,    0,    0,    0,    0,    0,    0,    0,\n",
            "           0,    0,    0,    0,    0,    0,    0,    0])\n",
            "tensor(1)\n",
            "tensor([1., 1., 1., 1., 0., 0., 0., 0., 0., 0., 0., 0., 0., 0., 0., 0., 0., 0.,\n",
            "        0., 0., 0., 0., 0., 0., 0., 0., 0., 0., 0., 0., 0., 0., 0., 0., 0., 0.,\n",
            "        0., 0., 0., 0., 0., 0., 0., 0., 0., 0., 0., 0., 0., 0., 0., 0., 0., 0.,\n",
            "        0., 0., 0., 0., 0., 0., 0., 0., 0., 0., 0., 0., 0., 0., 0., 0., 0., 0.,\n",
            "        0., 0., 0., 0., 0., 0., 0., 0., 0., 0., 0., 0., 0., 0., 0., 0., 0., 0.,\n",
            "        0., 0., 0., 0., 0., 0., 0., 0., 0., 0., 0., 0., 0., 0., 0., 0., 0., 0.,\n",
            "        0., 0., 0., 0., 0., 0., 0., 0., 0., 0., 0., 0., 0., 0., 0., 0., 0., 0.,\n",
            "        0., 0.])\n"
          ]
        }
      ],
      "source": [
        "# 데이터를 파이토치의 텐서로 변환\n",
        "test_inputs = torch.tensor(input_ids)\n",
        "test_labels = torch.tensor(labels)\n",
        "test_masks = torch.tensor(attention_masks)\n",
        "\n",
        "# 텐서값 확인하기\n",
        "print(test_inputs[0])\n",
        "print(test_labels[0])\n",
        "print(test_masks[0])"
      ]
    },
    {
      "cell_type": "code",
      "execution_count": null,
      "metadata": {
        "id": "eXhrkpqVBzuq"
      },
      "outputs": [],
      "source": [
        "# 배치 사이즈\n",
        "batch_size = 32\n",
        "\n",
        "# 파이토치의 DataLoader로 입력, 마스크, 라벨을 묶어 데이터 설정\n",
        "# 학습시 배치 사이즈 만큼 데이터를 가져옴\n",
        "test_data = TensorDataset(test_inputs, test_masks, test_labels)\n",
        "test_sampler = RandomSampler(test_data)\n",
        "test_dataloader = DataLoader(test_data, sampler=test_sampler, batch_size=batch_size)"
      ]
    },
    {
      "cell_type": "markdown",
      "metadata": {
        "id": "Oywbz2q3B5tR"
      },
      "source": [
        "### **1.2.모델 생성**"
      ]
    },
    {
      "cell_type": "code",
      "execution_count": null,
      "metadata": {
        "colab": {
          "base_uri": "https://localhost:8080/"
        },
        "id": "GwiLRwsCBz3l",
        "outputId": "60e4e4e6-c875-4950-98de-60055dc7e1eb"
      },
      "outputs": [
        {
          "name": "stdout",
          "output_type": "stream",
          "text": [
            "There are 1 GPU(s) available.\n",
            "We will use the GPU: Tesla K80\n"
          ]
        }
      ],
      "source": [
        "# 디바이스(CPU, GPU) 설정하기 및 확인하기 \n",
        "if torch.cuda.is_available():    \n",
        "    device = torch.device(\"cuda\")\n",
        "    print('There are %d GPU(s) available.' % torch.cuda.device_count())\n",
        "    print('We will use the GPU:', torch.cuda.get_device_name(0))\n",
        "else:\n",
        "    device = torch.device(\"cpu\")\n",
        "    print('No GPU available, using the CPU instead.')"
      ]
    },
    {
      "cell_type": "code",
      "execution_count": null,
      "metadata": {
        "colab": {
          "base_uri": "https://localhost:8080/",
          "height": 1000,
          "referenced_widgets": [
            "75a8f6f42c4547b4924666a28abf6d30",
            "03cf5c4dbb3c46bdbb57767c59318c24",
            "87749881f9434a079056d365e30c7ccd",
            "c89450b20a4e4756b27c7df2a1b62ed7",
            "54940a4c9be34b33aff41ab7a54d1958",
            "2f3445ec358c46409099d9b37e83aed9",
            "5b438621ffc44a8e801c2f63797a1e1e",
            "03b6dce9f49944659c0bacf41ab691ad",
            "b025b65240024fddade87a0a3bf197c4",
            "148830e72c114460b243af25e06b2b29",
            "aeba83a40c5941aa8c40f04fa62c9c5d"
          ]
        },
        "id": "BSIRJ3LOBz7v",
        "outputId": "4513a5a3-ecc0-4ee2-92de-d45ff2a923ee"
      },
      "outputs": [
        {
          "data": {
            "application/vnd.jupyter.widget-view+json": {
              "model_id": "75a8f6f42c4547b4924666a28abf6d30",
              "version_major": 2,
              "version_minor": 0
            },
            "text/plain": [
              "Downloading:   0%|          | 0.00/681M [00:00<?, ?B/s]"
            ]
          },
          "metadata": {},
          "output_type": "display_data"
        },
        {
          "name": "stderr",
          "output_type": "stream",
          "text": [
            "Some weights of the model checkpoint at bert-base-multilingual-cased were not used when initializing BertForSequenceClassification: ['cls.predictions.transform.dense.weight', 'cls.predictions.bias', 'cls.predictions.transform.LayerNorm.weight', 'cls.predictions.transform.LayerNorm.bias', 'cls.predictions.decoder.weight', 'cls.predictions.transform.dense.bias', 'cls.seq_relationship.weight', 'cls.seq_relationship.bias']\n",
            "- This IS expected if you are initializing BertForSequenceClassification from the checkpoint of a model trained on another task or with another architecture (e.g. initializing a BertForSequenceClassification model from a BertForPreTraining model).\n",
            "- This IS NOT expected if you are initializing BertForSequenceClassification from the checkpoint of a model that you expect to be exactly identical (initializing a BertForSequenceClassification model from a BertForSequenceClassification model).\n",
            "Some weights of BertForSequenceClassification were not initialized from the model checkpoint at bert-base-multilingual-cased and are newly initialized: ['classifier.weight', 'classifier.bias']\n",
            "You should probably TRAIN this model on a down-stream task to be able to use it for predictions and inference.\n"
          ]
        },
        {
          "data": {
            "text/plain": [
              "BertForSequenceClassification(\n",
              "  (bert): BertModel(\n",
              "    (embeddings): BertEmbeddings(\n",
              "      (word_embeddings): Embedding(119547, 768, padding_idx=0)\n",
              "      (position_embeddings): Embedding(512, 768)\n",
              "      (token_type_embeddings): Embedding(2, 768)\n",
              "      (LayerNorm): LayerNorm((768,), eps=1e-12, elementwise_affine=True)\n",
              "      (dropout): Dropout(p=0.1, inplace=False)\n",
              "    )\n",
              "    (encoder): BertEncoder(\n",
              "      (layer): ModuleList(\n",
              "        (0): BertLayer(\n",
              "          (attention): BertAttention(\n",
              "            (self): BertSelfAttention(\n",
              "              (query): Linear(in_features=768, out_features=768, bias=True)\n",
              "              (key): Linear(in_features=768, out_features=768, bias=True)\n",
              "              (value): Linear(in_features=768, out_features=768, bias=True)\n",
              "              (dropout): Dropout(p=0.1, inplace=False)\n",
              "            )\n",
              "            (output): BertSelfOutput(\n",
              "              (dense): Linear(in_features=768, out_features=768, bias=True)\n",
              "              (LayerNorm): LayerNorm((768,), eps=1e-12, elementwise_affine=True)\n",
              "              (dropout): Dropout(p=0.1, inplace=False)\n",
              "            )\n",
              "          )\n",
              "          (intermediate): BertIntermediate(\n",
              "            (dense): Linear(in_features=768, out_features=3072, bias=True)\n",
              "          )\n",
              "          (output): BertOutput(\n",
              "            (dense): Linear(in_features=3072, out_features=768, bias=True)\n",
              "            (LayerNorm): LayerNorm((768,), eps=1e-12, elementwise_affine=True)\n",
              "            (dropout): Dropout(p=0.1, inplace=False)\n",
              "          )\n",
              "        )\n",
              "        (1): BertLayer(\n",
              "          (attention): BertAttention(\n",
              "            (self): BertSelfAttention(\n",
              "              (query): Linear(in_features=768, out_features=768, bias=True)\n",
              "              (key): Linear(in_features=768, out_features=768, bias=True)\n",
              "              (value): Linear(in_features=768, out_features=768, bias=True)\n",
              "              (dropout): Dropout(p=0.1, inplace=False)\n",
              "            )\n",
              "            (output): BertSelfOutput(\n",
              "              (dense): Linear(in_features=768, out_features=768, bias=True)\n",
              "              (LayerNorm): LayerNorm((768,), eps=1e-12, elementwise_affine=True)\n",
              "              (dropout): Dropout(p=0.1, inplace=False)\n",
              "            )\n",
              "          )\n",
              "          (intermediate): BertIntermediate(\n",
              "            (dense): Linear(in_features=768, out_features=3072, bias=True)\n",
              "          )\n",
              "          (output): BertOutput(\n",
              "            (dense): Linear(in_features=3072, out_features=768, bias=True)\n",
              "            (LayerNorm): LayerNorm((768,), eps=1e-12, elementwise_affine=True)\n",
              "            (dropout): Dropout(p=0.1, inplace=False)\n",
              "          )\n",
              "        )\n",
              "        (2): BertLayer(\n",
              "          (attention): BertAttention(\n",
              "            (self): BertSelfAttention(\n",
              "              (query): Linear(in_features=768, out_features=768, bias=True)\n",
              "              (key): Linear(in_features=768, out_features=768, bias=True)\n",
              "              (value): Linear(in_features=768, out_features=768, bias=True)\n",
              "              (dropout): Dropout(p=0.1, inplace=False)\n",
              "            )\n",
              "            (output): BertSelfOutput(\n",
              "              (dense): Linear(in_features=768, out_features=768, bias=True)\n",
              "              (LayerNorm): LayerNorm((768,), eps=1e-12, elementwise_affine=True)\n",
              "              (dropout): Dropout(p=0.1, inplace=False)\n",
              "            )\n",
              "          )\n",
              "          (intermediate): BertIntermediate(\n",
              "            (dense): Linear(in_features=768, out_features=3072, bias=True)\n",
              "          )\n",
              "          (output): BertOutput(\n",
              "            (dense): Linear(in_features=3072, out_features=768, bias=True)\n",
              "            (LayerNorm): LayerNorm((768,), eps=1e-12, elementwise_affine=True)\n",
              "            (dropout): Dropout(p=0.1, inplace=False)\n",
              "          )\n",
              "        )\n",
              "        (3): BertLayer(\n",
              "          (attention): BertAttention(\n",
              "            (self): BertSelfAttention(\n",
              "              (query): Linear(in_features=768, out_features=768, bias=True)\n",
              "              (key): Linear(in_features=768, out_features=768, bias=True)\n",
              "              (value): Linear(in_features=768, out_features=768, bias=True)\n",
              "              (dropout): Dropout(p=0.1, inplace=False)\n",
              "            )\n",
              "            (output): BertSelfOutput(\n",
              "              (dense): Linear(in_features=768, out_features=768, bias=True)\n",
              "              (LayerNorm): LayerNorm((768,), eps=1e-12, elementwise_affine=True)\n",
              "              (dropout): Dropout(p=0.1, inplace=False)\n",
              "            )\n",
              "          )\n",
              "          (intermediate): BertIntermediate(\n",
              "            (dense): Linear(in_features=768, out_features=3072, bias=True)\n",
              "          )\n",
              "          (output): BertOutput(\n",
              "            (dense): Linear(in_features=3072, out_features=768, bias=True)\n",
              "            (LayerNorm): LayerNorm((768,), eps=1e-12, elementwise_affine=True)\n",
              "            (dropout): Dropout(p=0.1, inplace=False)\n",
              "          )\n",
              "        )\n",
              "        (4): BertLayer(\n",
              "          (attention): BertAttention(\n",
              "            (self): BertSelfAttention(\n",
              "              (query): Linear(in_features=768, out_features=768, bias=True)\n",
              "              (key): Linear(in_features=768, out_features=768, bias=True)\n",
              "              (value): Linear(in_features=768, out_features=768, bias=True)\n",
              "              (dropout): Dropout(p=0.1, inplace=False)\n",
              "            )\n",
              "            (output): BertSelfOutput(\n",
              "              (dense): Linear(in_features=768, out_features=768, bias=True)\n",
              "              (LayerNorm): LayerNorm((768,), eps=1e-12, elementwise_affine=True)\n",
              "              (dropout): Dropout(p=0.1, inplace=False)\n",
              "            )\n",
              "          )\n",
              "          (intermediate): BertIntermediate(\n",
              "            (dense): Linear(in_features=768, out_features=3072, bias=True)\n",
              "          )\n",
              "          (output): BertOutput(\n",
              "            (dense): Linear(in_features=3072, out_features=768, bias=True)\n",
              "            (LayerNorm): LayerNorm((768,), eps=1e-12, elementwise_affine=True)\n",
              "            (dropout): Dropout(p=0.1, inplace=False)\n",
              "          )\n",
              "        )\n",
              "        (5): BertLayer(\n",
              "          (attention): BertAttention(\n",
              "            (self): BertSelfAttention(\n",
              "              (query): Linear(in_features=768, out_features=768, bias=True)\n",
              "              (key): Linear(in_features=768, out_features=768, bias=True)\n",
              "              (value): Linear(in_features=768, out_features=768, bias=True)\n",
              "              (dropout): Dropout(p=0.1, inplace=False)\n",
              "            )\n",
              "            (output): BertSelfOutput(\n",
              "              (dense): Linear(in_features=768, out_features=768, bias=True)\n",
              "              (LayerNorm): LayerNorm((768,), eps=1e-12, elementwise_affine=True)\n",
              "              (dropout): Dropout(p=0.1, inplace=False)\n",
              "            )\n",
              "          )\n",
              "          (intermediate): BertIntermediate(\n",
              "            (dense): Linear(in_features=768, out_features=3072, bias=True)\n",
              "          )\n",
              "          (output): BertOutput(\n",
              "            (dense): Linear(in_features=3072, out_features=768, bias=True)\n",
              "            (LayerNorm): LayerNorm((768,), eps=1e-12, elementwise_affine=True)\n",
              "            (dropout): Dropout(p=0.1, inplace=False)\n",
              "          )\n",
              "        )\n",
              "        (6): BertLayer(\n",
              "          (attention): BertAttention(\n",
              "            (self): BertSelfAttention(\n",
              "              (query): Linear(in_features=768, out_features=768, bias=True)\n",
              "              (key): Linear(in_features=768, out_features=768, bias=True)\n",
              "              (value): Linear(in_features=768, out_features=768, bias=True)\n",
              "              (dropout): Dropout(p=0.1, inplace=False)\n",
              "            )\n",
              "            (output): BertSelfOutput(\n",
              "              (dense): Linear(in_features=768, out_features=768, bias=True)\n",
              "              (LayerNorm): LayerNorm((768,), eps=1e-12, elementwise_affine=True)\n",
              "              (dropout): Dropout(p=0.1, inplace=False)\n",
              "            )\n",
              "          )\n",
              "          (intermediate): BertIntermediate(\n",
              "            (dense): Linear(in_features=768, out_features=3072, bias=True)\n",
              "          )\n",
              "          (output): BertOutput(\n",
              "            (dense): Linear(in_features=3072, out_features=768, bias=True)\n",
              "            (LayerNorm): LayerNorm((768,), eps=1e-12, elementwise_affine=True)\n",
              "            (dropout): Dropout(p=0.1, inplace=False)\n",
              "          )\n",
              "        )\n",
              "        (7): BertLayer(\n",
              "          (attention): BertAttention(\n",
              "            (self): BertSelfAttention(\n",
              "              (query): Linear(in_features=768, out_features=768, bias=True)\n",
              "              (key): Linear(in_features=768, out_features=768, bias=True)\n",
              "              (value): Linear(in_features=768, out_features=768, bias=True)\n",
              "              (dropout): Dropout(p=0.1, inplace=False)\n",
              "            )\n",
              "            (output): BertSelfOutput(\n",
              "              (dense): Linear(in_features=768, out_features=768, bias=True)\n",
              "              (LayerNorm): LayerNorm((768,), eps=1e-12, elementwise_affine=True)\n",
              "              (dropout): Dropout(p=0.1, inplace=False)\n",
              "            )\n",
              "          )\n",
              "          (intermediate): BertIntermediate(\n",
              "            (dense): Linear(in_features=768, out_features=3072, bias=True)\n",
              "          )\n",
              "          (output): BertOutput(\n",
              "            (dense): Linear(in_features=3072, out_features=768, bias=True)\n",
              "            (LayerNorm): LayerNorm((768,), eps=1e-12, elementwise_affine=True)\n",
              "            (dropout): Dropout(p=0.1, inplace=False)\n",
              "          )\n",
              "        )\n",
              "        (8): BertLayer(\n",
              "          (attention): BertAttention(\n",
              "            (self): BertSelfAttention(\n",
              "              (query): Linear(in_features=768, out_features=768, bias=True)\n",
              "              (key): Linear(in_features=768, out_features=768, bias=True)\n",
              "              (value): Linear(in_features=768, out_features=768, bias=True)\n",
              "              (dropout): Dropout(p=0.1, inplace=False)\n",
              "            )\n",
              "            (output): BertSelfOutput(\n",
              "              (dense): Linear(in_features=768, out_features=768, bias=True)\n",
              "              (LayerNorm): LayerNorm((768,), eps=1e-12, elementwise_affine=True)\n",
              "              (dropout): Dropout(p=0.1, inplace=False)\n",
              "            )\n",
              "          )\n",
              "          (intermediate): BertIntermediate(\n",
              "            (dense): Linear(in_features=768, out_features=3072, bias=True)\n",
              "          )\n",
              "          (output): BertOutput(\n",
              "            (dense): Linear(in_features=3072, out_features=768, bias=True)\n",
              "            (LayerNorm): LayerNorm((768,), eps=1e-12, elementwise_affine=True)\n",
              "            (dropout): Dropout(p=0.1, inplace=False)\n",
              "          )\n",
              "        )\n",
              "        (9): BertLayer(\n",
              "          (attention): BertAttention(\n",
              "            (self): BertSelfAttention(\n",
              "              (query): Linear(in_features=768, out_features=768, bias=True)\n",
              "              (key): Linear(in_features=768, out_features=768, bias=True)\n",
              "              (value): Linear(in_features=768, out_features=768, bias=True)\n",
              "              (dropout): Dropout(p=0.1, inplace=False)\n",
              "            )\n",
              "            (output): BertSelfOutput(\n",
              "              (dense): Linear(in_features=768, out_features=768, bias=True)\n",
              "              (LayerNorm): LayerNorm((768,), eps=1e-12, elementwise_affine=True)\n",
              "              (dropout): Dropout(p=0.1, inplace=False)\n",
              "            )\n",
              "          )\n",
              "          (intermediate): BertIntermediate(\n",
              "            (dense): Linear(in_features=768, out_features=3072, bias=True)\n",
              "          )\n",
              "          (output): BertOutput(\n",
              "            (dense): Linear(in_features=3072, out_features=768, bias=True)\n",
              "            (LayerNorm): LayerNorm((768,), eps=1e-12, elementwise_affine=True)\n",
              "            (dropout): Dropout(p=0.1, inplace=False)\n",
              "          )\n",
              "        )\n",
              "        (10): BertLayer(\n",
              "          (attention): BertAttention(\n",
              "            (self): BertSelfAttention(\n",
              "              (query): Linear(in_features=768, out_features=768, bias=True)\n",
              "              (key): Linear(in_features=768, out_features=768, bias=True)\n",
              "              (value): Linear(in_features=768, out_features=768, bias=True)\n",
              "              (dropout): Dropout(p=0.1, inplace=False)\n",
              "            )\n",
              "            (output): BertSelfOutput(\n",
              "              (dense): Linear(in_features=768, out_features=768, bias=True)\n",
              "              (LayerNorm): LayerNorm((768,), eps=1e-12, elementwise_affine=True)\n",
              "              (dropout): Dropout(p=0.1, inplace=False)\n",
              "            )\n",
              "          )\n",
              "          (intermediate): BertIntermediate(\n",
              "            (dense): Linear(in_features=768, out_features=3072, bias=True)\n",
              "          )\n",
              "          (output): BertOutput(\n",
              "            (dense): Linear(in_features=3072, out_features=768, bias=True)\n",
              "            (LayerNorm): LayerNorm((768,), eps=1e-12, elementwise_affine=True)\n",
              "            (dropout): Dropout(p=0.1, inplace=False)\n",
              "          )\n",
              "        )\n",
              "        (11): BertLayer(\n",
              "          (attention): BertAttention(\n",
              "            (self): BertSelfAttention(\n",
              "              (query): Linear(in_features=768, out_features=768, bias=True)\n",
              "              (key): Linear(in_features=768, out_features=768, bias=True)\n",
              "              (value): Linear(in_features=768, out_features=768, bias=True)\n",
              "              (dropout): Dropout(p=0.1, inplace=False)\n",
              "            )\n",
              "            (output): BertSelfOutput(\n",
              "              (dense): Linear(in_features=768, out_features=768, bias=True)\n",
              "              (LayerNorm): LayerNorm((768,), eps=1e-12, elementwise_affine=True)\n",
              "              (dropout): Dropout(p=0.1, inplace=False)\n",
              "            )\n",
              "          )\n",
              "          (intermediate): BertIntermediate(\n",
              "            (dense): Linear(in_features=768, out_features=3072, bias=True)\n",
              "          )\n",
              "          (output): BertOutput(\n",
              "            (dense): Linear(in_features=3072, out_features=768, bias=True)\n",
              "            (LayerNorm): LayerNorm((768,), eps=1e-12, elementwise_affine=True)\n",
              "            (dropout): Dropout(p=0.1, inplace=False)\n",
              "          )\n",
              "        )\n",
              "      )\n",
              "    )\n",
              "    (pooler): BertPooler(\n",
              "      (dense): Linear(in_features=768, out_features=768, bias=True)\n",
              "      (activation): Tanh()\n",
              "    )\n",
              "  )\n",
              "  (dropout): Dropout(p=0.1, inplace=False)\n",
              "  (classifier): Linear(in_features=768, out_features=2, bias=True)\n",
              ")"
            ]
          },
          "execution_count": 38,
          "metadata": {},
          "output_type": "execute_result"
        }
      ],
      "source": [
        "# 분류를 위한 BERT 모델 생성하기 \n",
        "model = BertForSequenceClassification.from_pretrained(\"bert-base-multilingual-cased\", num_labels=2)\n",
        "model.cuda()"
      ]
    },
    {
      "cell_type": "markdown",
      "metadata": {
        "id": "fp1JkbEfC51X"
      },
      "source": [
        "![BERT 모델.png](data:image/png;base64,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)"
      ]
    },
    {
      "cell_type": "code",
      "execution_count": null,
      "metadata": {
        "id": "GI8SuordB0AD"
      },
      "outputs": [],
      "source": [
        "# 옵티마이저 설정하기\n",
        "optimizer = AdamW(model.parameters(),\n",
        "                  lr = 2e-5, # 학습률\n",
        "                  eps = 1e-8 # 0으로 나누는 것을 방지하기 위한 epsilon 값\n",
        "                )\n",
        "\n",
        "# 에포크 횟수 정하기(시간 관계상 2번으로 설정)\n",
        "epochs = 2\n",
        "\n",
        "# 총 훈련 스텝 정하기 : 배치반복 횟수 * 에폭\n",
        "total_steps = len(train_dataloader) * epochs\n",
        "\n",
        "# 초반에 학습률을 조금씩 변화시키는 스케줄러 생성하기 \n",
        "scheduler = get_linear_schedule_with_warmup(optimizer, \n",
        "                                            num_warmup_steps = 0,\n",
        "                                            num_training_steps = total_steps)"
      ]
    },
    {
      "cell_type": "markdown",
      "metadata": {
        "id": "rKqWVFTEDHQj"
      },
      "source": [
        "### **1.3.모델 학습**"
      ]
    },
    {
      "cell_type": "code",
      "execution_count": null,
      "metadata": {
        "id": "AfnznMSWB0Dz"
      },
      "outputs": [],
      "source": [
        "# 정확도 계산 함수 정의하기 \n",
        "def flat_accuracy(preds, labels):\n",
        "    \n",
        "    pred_flat = np.argmax(preds, axis=1).flatten()\n",
        "    labels_flat = labels.flatten()\n",
        "\n",
        "    return np.sum(pred_flat == labels_flat) / len(labels_flat)"
      ]
    },
    {
      "cell_type": "code",
      "execution_count": null,
      "metadata": {
        "id": "i2PuVTV9B0Il"
      },
      "outputs": [],
      "source": [
        "# 시간 표시 함수 정의하기\n",
        "def format_time(elapsed):\n",
        "\n",
        "    # 반올림\n",
        "    elapsed_rounded = int(round((elapsed)))\n",
        "    \n",
        "    # 시:분:초로 형태 변경\n",
        "    return str(datetime.timedelta(seconds=elapsed_rounded))"
      ]
    },
    {
      "cell_type": "code",
      "execution_count": null,
      "metadata": {
        "colab": {
          "base_uri": "https://localhost:8080/"
        },
        "id": "x57Zy1ceB0MZ",
        "outputId": "b25ced37-5a3c-4a42-848f-80de732da638"
      },
      "outputs": [
        {
          "name": "stdout",
          "output_type": "stream",
          "text": [
            "\n",
            "======== Epoch 1 / 2 ========\n",
            "Training...\n",
            "  Batch   500  of  4,219.    Elapsed: 0:10:23.\n",
            "  Batch 1,000  of  4,219.    Elapsed: 0:20:50.\n",
            "  Batch 1,500  of  4,219.    Elapsed: 0:31:18.\n",
            "  Batch 2,000  of  4,219.    Elapsed: 0:41:40.\n",
            "  Batch 2,500  of  4,219.    Elapsed: 0:52:00.\n",
            "  Batch 3,000  of  4,219.    Elapsed: 1:02:20.\n",
            "  Batch 3,500  of  4,219.    Elapsed: 1:12:39.\n",
            "  Batch 4,000  of  4,219.    Elapsed: 1:23:00.\n",
            "\n",
            "  Average training loss: 0.38\n",
            "  Training epcoh took: 1:27:33\n",
            "\n",
            "Running Validation...\n",
            "  Accuracy: 0.85\n",
            "  Validation took: 0:03:25\n",
            "\n",
            "======== Epoch 2 / 2 ========\n",
            "Training...\n",
            "  Batch   500  of  4,219.    Elapsed: 0:10:19.\n",
            "  Batch 1,000  of  4,219.    Elapsed: 0:20:38.\n",
            "  Batch 1,500  of  4,219.    Elapsed: 0:30:58.\n",
            "  Batch 2,000  of  4,219.    Elapsed: 0:41:17.\n",
            "  Batch 2,500  of  4,219.    Elapsed: 0:51:35.\n",
            "  Batch 3,000  of  4,219.    Elapsed: 1:01:54.\n",
            "  Batch 3,500  of  4,219.    Elapsed: 1:12:12.\n",
            "  Batch 4,000  of  4,219.    Elapsed: 1:22:30.\n",
            "\n",
            "  Average training loss: 0.28\n",
            "  Training epcoh took: 1:27:01\n",
            "\n",
            "Running Validation...\n",
            "  Accuracy: 0.87\n",
            "  Validation took: 0:03:28\n",
            "\n",
            "Training complete!\n"
          ]
        }
      ],
      "source": [
        "# 재현을 위해 랜덤시드 고정하기\n",
        "seed_val = 42\n",
        "random.seed(seed_val)\n",
        "np.random.seed(seed_val)\n",
        "torch.manual_seed(seed_val)\n",
        "torch.cuda.manual_seed_all(seed_val)\n",
        "\n",
        "# 그래디언트 초기화하기\n",
        "model.zero_grad()\n",
        "\n",
        "# 에포크만큼 반복하기 \n",
        "for epoch_i in range(0, epochs):\n",
        "    \n",
        "    # ========================================\n",
        "    #               Training\n",
        "    # ========================================\n",
        "    \n",
        "    print(\"\")\n",
        "    print('======== Epoch {:} / {:} ========'.format(epoch_i + 1, epochs))\n",
        "    print('Training...')\n",
        "\n",
        "    # 시작 시간 설정하기\n",
        "    t0 = time.time()\n",
        "\n",
        "    # 로스 초기화하기\n",
        "    total_loss = 0\n",
        "\n",
        "    # 훈련모드로 변경하기 \n",
        "    model.train()\n",
        "        \n",
        "    # 데이터로더에서 배치 수만큼 반복하여 가져오기 \n",
        "    for step, batch in enumerate(train_dataloader):\n",
        "        # 경과 정보 표시하기\n",
        "        if step % 500 == 0 and not step == 0:\n",
        "            elapsed = format_time(time.time() - t0)\n",
        "            print('  Batch {:>5,}  of  {:>5,}.    Elapsed: {:}.'.format(step, len(train_dataloader), elapsed))\n",
        "\n",
        "        # 배치를 GPU에 넣기\n",
        "        batch = tuple(t.to(device) for t in batch)\n",
        "        \n",
        "        # 배치에서 데이터 추출하기\n",
        "        b_input_ids, b_input_mask, b_labels = batch\n",
        "\n",
        "        # 순전파 수행하기                \n",
        "        outputs = model(b_input_ids, \n",
        "                        token_type_ids=None, \n",
        "                        attention_mask=b_input_mask, \n",
        "                        labels=b_labels)\n",
        "        \n",
        "        # 손실함수값 구하기\n",
        "        loss = outputs[0]\n",
        "\n",
        "        # 총 손실함수값 계산하기\n",
        "        total_loss += loss.item()\n",
        "\n",
        "        # 역전파 수행으로 그래디언트 계산하기\n",
        "        loss.backward()\n",
        "\n",
        "        # 그래디언트 클리핑(기울기 폭발에 대한 대책으로 기울기의 L2노름 값이 일정 기준을 초과하면 기울기를 수정하는 방식) 설정\n",
        "        torch.nn.utils.clip_grad_norm_(model.parameters(), 1.0)\n",
        "\n",
        "        # 그래디언트를 통해 가중치의 매개값 갱신하기\n",
        "        optimizer.step()\n",
        "\n",
        "        # 스케줄러로 학습률 감소시키기\n",
        "        scheduler.step()\n",
        "\n",
        "        # 그래디언트 초기화하기\n",
        "        model.zero_grad()\n",
        "\n",
        "    # 평균 손실함수값 계산하기 \n",
        "    avg_train_loss = total_loss / len(train_dataloader)            \n",
        "\n",
        "    print(\"\")\n",
        "    print(\"  Average training loss: {0:.2f}\".format(avg_train_loss))\n",
        "    print(\"  Training epcoh took: {:}\".format(format_time(time.time() - t0)))\n",
        "        \n",
        "    # ========================================\n",
        "    #               Validation\n",
        "    # ========================================\n",
        "\n",
        "    print(\"\")\n",
        "    print(\"Running Validation...\")\n",
        "\n",
        "    #시작 시간 설정하기\n",
        "    t0 = time.time()\n",
        "\n",
        "    # 평가모드로 변경하기\n",
        "    model.eval()\n",
        "\n",
        "    # 변수 초기화하기\n",
        "    eval_loss, eval_accuracy = 0, 0\n",
        "    nb_eval_steps, nb_eval_examples = 0, 0\n",
        "\n",
        "    # 데이터로더에서 배치만큼 반복하여 가져옴\n",
        "    for batch in validation_dataloader:\n",
        "        # 배치를 GPU에 넣기\n",
        "        batch = tuple(t.to(device) for t in batch)\n",
        "        \n",
        "        # 배치에서 데이터 추출하기\n",
        "        b_input_ids, b_input_mask, b_labels = batch\n",
        "        \n",
        "        # 그래디언트 계산하지 않기 \n",
        "        with torch.no_grad():     \n",
        "            # 순전파 수행하기\n",
        "            outputs = model(b_input_ids, \n",
        "                            token_type_ids=None, \n",
        "                            attention_mask=b_input_mask)\n",
        "        \n",
        "        # 손실함수값 구하기\n",
        "        logits = outputs[0]\n",
        "\n",
        "        # CPU로 데이터 이동시키기 \n",
        "        logits = logits.detach().cpu().numpy()\n",
        "        label_ids = b_labels.to('cpu').numpy()\n",
        "        \n",
        "        # 출력된 로짓값과 라벨을 비교하여 정확도 계산하기 \n",
        "        tmp_eval_accuracy = flat_accuracy(logits, label_ids)\n",
        "        eval_accuracy += tmp_eval_accuracy\n",
        "        nb_eval_steps += 1\n",
        "\n",
        "    # 정확도 출력하기\n",
        "    print(\"  Accuracy: {0:.2f}\".format(eval_accuracy/nb_eval_steps))\n",
        "    print(\"  Validation took: {:}\".format(format_time(time.time() - t0)))\n",
        "\n",
        "# 마감 메시지 출력하기\n",
        "print(\"\")\n",
        "print(\"Training complete!\")"
      ]
    },
    {
      "cell_type": "markdown",
      "metadata": {
        "id": "xa2XkGjDDWMD"
      },
      "source": [
        "### **1.4.새로운 문장 평가**"
      ]
    },
    {
      "cell_type": "code",
      "execution_count": null,
      "metadata": {
        "id": "QnF9_l8-A_Ce"
      },
      "outputs": [],
      "source": [
        "# 입력 데이터 변환하기\n",
        "def convert_input_data(sentences):\n",
        "\n",
        "    # BERT의 토크나이저로 문장을 토큰 단위로 분리하기\n",
        "    tokenized_texts = [tokenizer.tokenize(sent) for sent in sentences]\n",
        "\n",
        "    # 입력 토큰의 최대 시퀀스 길이 설정하기\n",
        "    MAX_LEN = 128\n",
        "\n",
        "    # 토큰을 숫자 인덱스로 변환하기 \n",
        "    input_ids = [tokenizer.convert_tokens_to_ids(x) for x in tokenized_texts]\n",
        "    \n",
        "    # 문장을 MAX_LEN 길이에 맞게 자르고, 모자란 부분을 패딩 0으로 채움\n",
        "    input_ids = pad_sequences(input_ids, maxlen=MAX_LEN, dtype=\"long\", truncating=\"post\", padding=\"post\")\n",
        "\n",
        "    # 어텐션 마스크 초기화하기 \n",
        "    attention_masks = []\n",
        "\n",
        "    # 어텐션 마스크를 패딩이 아니면 1, 패딩이면 0으로 설정\n",
        "    # 패딩 부분은 BERT 모델에서 어텐션을 수행하지 않으므로 속도 향상시키기 \n",
        "    for seq in input_ids:\n",
        "        seq_mask = [float(i>0) for i in seq]\n",
        "        attention_masks.append(seq_mask)\n",
        "\n",
        "    # 데이터를 파이토치의 텐서로 변환하기 \n",
        "    inputs = torch.tensor(input_ids)\n",
        "    masks = torch.tensor(attention_masks)\n",
        "\n",
        "    # 입력값과 마스크 출력하기 \n",
        "    return inputs, masks"
      ]
    },
    {
      "cell_type": "code",
      "execution_count": null,
      "metadata": {
        "id": "a03VktV-A_Fv"
      },
      "outputs": [],
      "source": [
        "# 문장 테스트하기\n",
        "def test_sentences(sentences):\n",
        "\n",
        "    # 평가모드로 변경하기\n",
        "    model.eval()\n",
        "\n",
        "    # 문장을 입력 데이터로 변환하기\n",
        "    inputs, masks = convert_input_data(sentences)\n",
        "\n",
        "    # 데이터를 GPU에 넣기\n",
        "    b_input_ids = inputs.to(device)\n",
        "    b_input_mask = masks.to(device)\n",
        "            \n",
        "    # 그래디언트 계산 중지하기\n",
        "    with torch.no_grad():     \n",
        "        # 순전파 수행하기\n",
        "        outputs = model(b_input_ids, \n",
        "                        token_type_ids=None, \n",
        "                        attention_mask=b_input_mask)\n",
        "\n",
        "    # 손실함수값 구하기\n",
        "    logits = outputs[0]\n",
        "\n",
        "    # CPU로 데이터 이동하기\n",
        "    logits = logits.detach().cpu().numpy()\n",
        "\n",
        "    # 로짓값 구하기 \n",
        "    return logits"
      ]
    },
    {
      "cell_type": "code",
      "execution_count": null,
      "metadata": {
        "colab": {
          "base_uri": "https://localhost:8080/"
        },
        "id": "eJUkGOiTAnSg",
        "outputId": "1f2d2f4d-da2a-4525-8c33-65b274abd57e"
      },
      "outputs": [
        {
          "name": "stdout",
          "output_type": "stream",
          "text": [
            "[[ 0.5292857 -0.594953 ]]\n",
            "0\n"
          ]
        }
      ],
      "source": [
        "# 실제 사례에 대한 결과값 출력하기1\n",
        "logits = test_sentences(['연기는 별로지만 재미 하나는 끝내줌!'])\n",
        "\n",
        "print(logits)\n",
        "print(np.argmax(logits))"
      ]
    },
    {
      "cell_type": "code",
      "execution_count": null,
      "metadata": {
        "colab": {
          "base_uri": "https://localhost:8080/"
        },
        "id": "VA-J1fG5DK-U",
        "outputId": "1d028311-f5be-475f-8d42-9e44b0fab33d"
      },
      "outputs": [
        {
          "name": "stdout",
          "output_type": "stream",
          "text": [
            "[[ 3.0603206 -3.0913913]]\n",
            "0\n"
          ]
        }
      ],
      "source": [
        "# 실제 사례에 대한 결과값 출력하기2\n",
        "logits = test_sentences(['주연배우가 아깝다. 총체적 난국...'])\n",
        "\n",
        "print(logits)\n",
        "print(np.argmax(logits))"
      ]
    },
    {
      "cell_type": "markdown",
      "metadata": {
        "id": "we1Bcn4wDn5O"
      },
      "source": [
        "### **2. Q&A 예시**"
      ]
    },
    {
      "cell_type": "code",
      "execution_count": null,
      "metadata": {
        "colab": {
          "base_uri": "https://localhost:8080/",
          "height": 477
        },
        "id": "eUh_318dDLIr",
        "outputId": "f8e6f4ee-a29a-49d6-cacf-b08cc913ca8c"
      },
      "outputs": [
        {
          "name": "stdout",
          "output_type": "stream",
          "text": [
            "Looking in links: https://download.pytorch.org/whl/torch_stable.html\n",
            "Collecting torch==1.5.0+cu92\n",
            "  Downloading https://download.pytorch.org/whl/cu92/torch-1.5.0%2Bcu92-cp37-cp37m-linux_x86_64.whl (603.7 MB)\n",
            "\u001b[K     |████████████████████████████████| 603.7 MB 6.3 kB/s \n",
            "\u001b[?25hCollecting torchvision==0.6.0+cu92\n",
            "  Downloading https://download.pytorch.org/whl/cu92/torchvision-0.6.0%2Bcu92-cp37-cp37m-linux_x86_64.whl (6.5 MB)\n",
            "\u001b[K     |████████████████████████████████| 6.5 MB 45.5 MB/s \n",
            "\u001b[?25hRequirement already satisfied: numpy in /usr/local/lib/python3.7/dist-packages (from torch==1.5.0+cu92) (1.19.5)\n",
            "Requirement already satisfied: future in /usr/local/lib/python3.7/dist-packages (from torch==1.5.0+cu92) (0.16.0)\n",
            "Requirement already satisfied: pillow>=4.1.1 in /usr/local/lib/python3.7/dist-packages (from torchvision==0.6.0+cu92) (7.1.2)\n",
            "Installing collected packages: torch, torchvision\n",
            "  Attempting uninstall: torch\n",
            "    Found existing installation: torch 1.10.0+cu111\n",
            "    Uninstalling torch-1.10.0+cu111:\n",
            "      Successfully uninstalled torch-1.10.0+cu111\n",
            "  Attempting uninstall: torchvision\n",
            "    Found existing installation: torchvision 0.11.1+cu111\n",
            "    Uninstalling torchvision-0.11.1+cu111:\n",
            "      Successfully uninstalled torchvision-0.11.1+cu111\n",
            "\u001b[31mERROR: pip's dependency resolver does not currently take into account all the packages that are installed. This behaviour is the source of the following dependency conflicts.\n",
            "torchtext 0.11.0 requires torch==1.10.0, but you have torch 1.5.0+cu92 which is incompatible.\u001b[0m\n",
            "Successfully installed torch-1.5.0+cu92 torchvision-0.6.0+cu92\n"
          ]
        },
        {
          "data": {
            "application/vnd.colab-display-data+json": {
              "pip_warning": {
                "packages": [
                  "torch"
                ]
              }
            }
          },
          "metadata": {},
          "output_type": "display_data"
        }
      ],
      "source": [
        "# 모듈 설치하기 \n",
        "!pip install torch==1.5.0+cu92 torchvision==0.6.0+cu92 -f https://download.pytorch.org/whl/torch_stable.html"
      ]
    },
    {
      "cell_type": "code",
      "execution_count": null,
      "metadata": {
        "colab": {
          "base_uri": "https://localhost:8080/",
          "height": 177,
          "referenced_widgets": [
            "eb291d0d8c554f8baba3141f03e54772",
            "dd3edb0990ce44438c073b2f75d196a5",
            "220fe892e32a4158bca3ef17ccd5b1c9",
            "0c6a86b88df44c9e99822956dc3210a2",
            "3272fcf30d16470694e4ea19fa505bac",
            "4093de7d7c4c4033925c10c552f23ebb",
            "b605426581dc40798c109ef3eb71693d",
            "f7acc56b14274d69b75de8dba49ced33",
            "1e29a92145f44c3cb44d4a434deed037",
            "9e8c8dbb01d04600b39621a29a8062e1",
            "00d135123ef144d988556499b94a5757",
            "8f8bb6fc3fb840bdb398172c5f123f06",
            "a71d99ff985b4d08ba8fb7284e5c8507",
            "28d75596384c4b3c9f0b3e573cb01496",
            "032fccc54f1f4d8587283772c04315c9",
            "5912bee0f3d94d17b3232b56f29775a8",
            "1a8047dd6bfa4db287e7d31cc9ff232e",
            "894365adde8b4f85bc66651fcef8c14e",
            "1972fe456c9f4a3590f2517f28bea260",
            "77532c69371849d0928cd5b6112dccd7",
            "5262affc67d34131953c9d18d4747a7d",
            "39b93bd77d3e4ac69354ee062a1235d6",
            "582c4eb98bfe44308dcc8d378c9c619e",
            "8209140d1025434d98234c5f4e9c771e",
            "8f39124bc4594ce6b52bbc64f4b05e78",
            "53b3d2f020ed4e00bd56cd4f560f2a08",
            "571de1d166b849bdb19e517d956f88de",
            "3b3c16b835d64f30bf056df32bf21cc8",
            "151f679c9aac4eb580ff97ae7a074b1c",
            "78f495960d6044e79645a2747a13f931",
            "b6a598256935442da5b827e4292d0216",
            "8ba81bf6eb784425ba26701fd933f09d",
            "ad1abe817f6946c78b3846881626d46e",
            "87a18e8077b04455b19ed5b1f8bd86c6",
            "f23cc07a72d54dfd9067f5f10a46dcf7",
            "b731634911d64809af6651b57d971a32",
            "0ac0c318d2744cd1be735055ca83cea1",
            "983c76cceecd4c048aef529df56c1cd9",
            "497efb230c1e4b688a0ad09888d4ae83",
            "41c58b05fbb9410a8b268333acc8d85f",
            "3983bfc722244670b51b837240bf0844",
            "190def9679e3410196203a048b827848",
            "c3ba46d95e7e4e9aa536f8f4c53e1cfa",
            "79725acd72024f38b6180bd54239f1c6",
            "d7b9ec33dd1949e9bc47bbb64a7e3fe9",
            "78de8de0517f4140bced57cdfead77ca",
            "8627c99244a9408ba119dce350b0c284",
            "ac63aee2d2824e689483c76e1f06ce02",
            "9f24f354152a427caa257fc296690b6a",
            "166c69deec77498d8b60bd3e1a910ab1",
            "62acc288d06548478be2a88eb2928e65",
            "38d6683429674657a91602bb7fe6ca3a",
            "16b35e37d5674ac88494afca68e83da8",
            "a52dff732e6b49b287d85bec0067cf28",
            "605ba181a317462498be9d29f9892c46"
          ]
        },
        "id": "qs8H2ngDDLNn",
        "outputId": "261c9cda-6c52-4463-9489-170b827bcd73"
      },
      "outputs": [
        {
          "data": {
            "application/vnd.jupyter.widget-view+json": {
              "model_id": "eb291d0d8c554f8baba3141f03e54772",
              "version_major": 2,
              "version_minor": 0
            },
            "text/plain": [
              "Downloading:   0%|          | 0.00/152 [00:00<?, ?B/s]"
            ]
          },
          "metadata": {},
          "output_type": "display_data"
        },
        {
          "data": {
            "application/vnd.jupyter.widget-view+json": {
              "model_id": "8f8bb6fc3fb840bdb398172c5f123f06",
              "version_major": 2,
              "version_minor": 0
            },
            "text/plain": [
              "Downloading:   0%|          | 0.00/508 [00:00<?, ?B/s]"
            ]
          },
          "metadata": {},
          "output_type": "display_data"
        },
        {
          "data": {
            "application/vnd.jupyter.widget-view+json": {
              "model_id": "582c4eb98bfe44308dcc8d378c9c619e",
              "version_major": 2,
              "version_minor": 0
            },
            "text/plain": [
              "Downloading:   0%|          | 0.00/208k [00:00<?, ?B/s]"
            ]
          },
          "metadata": {},
          "output_type": "display_data"
        },
        {
          "data": {
            "application/vnd.jupyter.widget-view+json": {
              "model_id": "87a18e8077b04455b19ed5b1f8bd86c6",
              "version_major": 2,
              "version_minor": 0
            },
            "text/plain": [
              "Downloading:   0%|          | 0.00/112 [00:00<?, ?B/s]"
            ]
          },
          "metadata": {},
          "output_type": "display_data"
        },
        {
          "data": {
            "application/vnd.jupyter.widget-view+json": {
              "model_id": "d7b9ec33dd1949e9bc47bbb64a7e3fe9",
              "version_major": 2,
              "version_minor": 0
            },
            "text/plain": [
              "Downloading:   0%|          | 0.00/413M [00:00<?, ?B/s]"
            ]
          },
          "metadata": {},
          "output_type": "display_data"
        }
      ],
      "source": [
        "# 모듈 불러오기\n",
        "import torch\n",
        "from transformers import AutoTokenizer, AutoModelForQuestionAnswering\n",
        "\n",
        "# 프리트레인된 토크나이저와 모델 불러오기\n",
        "tokenizer = AutoTokenizer.from_pretrained(\"deepset/bert-base-cased-squad2\") \n",
        "model = AutoModelForQuestionAnswering.from_pretrained(\"deepset/bert-base-cased-squad2\", return_dict=False)"
      ]
    },
    {
      "cell_type": "code",
      "execution_count": null,
      "metadata": {
        "colab": {
          "base_uri": "https://localhost:8080/",
          "height": 35
        },
        "id": "D-A1dLooDLSS",
        "outputId": "19122561-c0e6-4eb2-96c8-e7256bde4102"
      },
      "outputs": [
        {
          "data": {
            "application/vnd.google.colaboratory.intrinsic+json": {
              "type": "string"
            },
            "text/plain": [
              "'the Argead dynasty'"
            ]
          },
          "execution_count": 49,
          "metadata": {},
          "output_type": "execute_result"
        }
      ],
      "source": [
        "# 질문 제시하기 (\"누가 마케도니아를 다스렸는가\")\n",
        "question = \"Who ruled Macedonia\"\n",
        "\n",
        "# 문맥 제시하기 (마케도니아에 대한 설명으로서 역사와 통치 군주, 위치 등에 대해서 다루고 있음)\n",
        "context = \"\"\"Macedonia was an ancient kingdom on the periphery of Archaic and Classical Greece, \n",
        "and later the dominant state of Hellenistic Greece. The kingdom was founded and initially ruled \n",
        "by the Argead dynasty, followed by the Antipatrid and Antigonid dynasties. Home to the ancient \n",
        "Macedonians, it originated on the northeastern part of the Greek peninsula. Before the 4th \n",
        "century BC, it was a small kingdom outside of the area dominated by the city-states of Athens, \n",
        "Sparta and Thebes, and briefly subordinate to Achaemenid Persia.\"\"\"\n",
        "\n",
        "\n",
        "# 1. 입력값 토크나이징하기 \n",
        "# 주의: return_tensors='pt'형태를 포함하지 않는다면 리스트 탐색은 쉬워지지만 모델에 피드를 줄 수 없게 됨\n",
        "inputs = tokenizer.encode_plus(question, context, return_tensors=\"pt\") \n",
        "\n",
        "# 2. 모델 점수 확보하기 \n",
        "answer_start_scores, answer_end_scores = model(**inputs)\n",
        "answer_start = torch.argmax(answer_start_scores)  # 최대 점수값과 함께 가장 답변의 시작부분일 것 같은 부분을 얻어내기\n",
        "answer_end = torch.argmax(answer_end_scores) + 1  # 최대 점수값과 함께 가장 답변의 끝 부분일 것 같은 부분을 얻어내기\n",
        "\n",
        "# 3. 답변의 범위 구하기 \n",
        "# 확률상 시작과 끝에 해당할 가능성이 가장 높은 토큰을 얻게 되면, 그 사이에 있는 모든 토큰을 포함하는 방식으로 이 때 토큰들을 다시 문자로 변환함\n",
        "tokenizer.convert_tokens_to_string(tokenizer.convert_ids_to_tokens(inputs[\"input_ids\"][0][answer_start:answer_end]))"
      ]
    },
    {
      "cell_type": "code",
      "execution_count": null,
      "metadata": {
        "colab": {
          "base_uri": "https://localhost:8080/"
        },
        "id": "sQE3F6b3Ez0I",
        "outputId": "8564c171-7374-4f8e-b5a8-1ec463216209"
      },
      "outputs": [
        {
          "name": "stdout",
          "output_type": "stream",
          "text": [
            "Collecting wikipedia\n",
            "  Downloading wikipedia-1.4.0.tar.gz (27 kB)\n",
            "Requirement already satisfied: beautifulsoup4 in /usr/local/lib/python3.7/dist-packages (from wikipedia) (4.6.3)\n",
            "Requirement already satisfied: requests<3.0.0,>=2.0.0 in /usr/local/lib/python3.7/dist-packages (from wikipedia) (2.23.0)\n",
            "Requirement already satisfied: urllib3!=1.25.0,!=1.25.1,<1.26,>=1.21.1 in /usr/local/lib/python3.7/dist-packages (from requests<3.0.0,>=2.0.0->wikipedia) (1.24.3)\n",
            "Requirement already satisfied: certifi>=2017.4.17 in /usr/local/lib/python3.7/dist-packages (from requests<3.0.0,>=2.0.0->wikipedia) (2021.10.8)\n",
            "Requirement already satisfied: chardet<4,>=3.0.2 in /usr/local/lib/python3.7/dist-packages (from requests<3.0.0,>=2.0.0->wikipedia) (3.0.4)\n",
            "Requirement already satisfied: idna<3,>=2.5 in /usr/local/lib/python3.7/dist-packages (from requests<3.0.0,>=2.0.0->wikipedia) (2.10)\n",
            "Building wheels for collected packages: wikipedia\n",
            "  Building wheel for wikipedia (setup.py) ... \u001b[?25l\u001b[?25hdone\n",
            "  Created wheel for wikipedia: filename=wikipedia-1.4.0-py3-none-any.whl size=11696 sha256=651fda7bf0828c504ff67641ddb418fa7baacd7591bb8fab1fcdca7523d6ac75\n",
            "  Stored in directory: /root/.cache/pip/wheels/15/93/6d/5b2c68b8a64c7a7a04947b4ed6d89fb557dcc6bc27d1d7f3ba\n",
            "Successfully built wikipedia\n",
            "Installing collected packages: wikipedia\n",
            "Successfully installed wikipedia-1.4.0\n"
          ]
        }
      ],
      "source": [
        "# 위키피디아 모듈 설치하기\n",
        "!pip install wikipedia"
      ]
    },
    {
      "cell_type": "code",
      "execution_count": null,
      "metadata": {
        "id": "fPcau67dDLXE"
      },
      "outputs": [],
      "source": [
        "# 모듈 불러오기\n",
        "import wikipedia as wiki\n",
        "import torch\n",
        "from collections import OrderedDict\n",
        "from transformers import AutoTokenizer, AutoModelForQuestionAnswering\n",
        "\n",
        "# 클래스 정의하기 \n",
        "class DocumentReader:\n",
        "    def __init__(self, pretrained_model_name_or_path='bert-large-uncased'):\n",
        "        self.READER_PATH = pretrained_model_name_or_path\n",
        "        self.tokenizer = AutoTokenizer.from_pretrained(self.READER_PATH) # 토크나이저 설정 \n",
        "        self.model = AutoModelForQuestionAnswering.from_pretrained(self.READER_PATH, return_dict=False) # 모델 설정 \n",
        "        self.max_len = self.model.config.max_position_embeddings # 최장 길이 설정 \n",
        "        self.chunked = False #청킹화 아님 상태로 설정 \n",
        "\n",
        "    # 토크나이저 정의 \n",
        "    def tokenize(self, question, text):\n",
        "        self.inputs = self.tokenizer.encode_plus(question, text, add_special_tokens=True, return_tensors=\"pt\")\n",
        "        self.input_ids = self.inputs[\"input_ids\"].tolist()[0]\n",
        "\n",
        "        # 입력값이 길이가 입력 최대한도를 넘으면 이를 청킹화시키고 표시하기 \n",
        "        if len(self.input_ids) > self.max_len:\n",
        "            self.inputs = self.chunkify()\n",
        "            self.chunked = True\n",
        "\n",
        "    # 청킹화하는 함수 정의 \n",
        "    def chunkify(self):\n",
        "        \"\"\" \n",
        "        트랜스포머 모델의 입력값의 최대한도 안에 들어갈 수 있도록 긴 글을 쪼개는 함수이며, BERT와 RoBERTa, ALBERT는 아래와 같은 형태로 입력할 필요가 있음\n",
        "        [CLS] question tokens [SEP] context tokens [SEP].\n",
        "        \"\"\"\n",
        "\n",
        "        # 토큰의 타입 인덱스값에 따른 질문 마스크 생성하기(0은 질문 토큰,1은 문맥 토큰)\n",
        "        \n",
        "        qmask = self.inputs['token_type_ids'].lt(1)\n",
        "        qt = torch.masked_select(self.inputs['input_ids'], qmask)\n",
        "        chunk_size = self.max_len - qt.size()[0] - 1 # \"-1\"은 마지막에 종결하는 [SEP]를 더하는 것을 나타내기 위함\n",
        "\n",
        "        # 사전 형태의 사전을 만드는데 모든 하위 사전은 청킹화되기 이전의 모델 입력값의 구조를 모방함\n",
        "        chunked_input = OrderedDict()\n",
        "        for k,v in self.inputs.items():\n",
        "            q = torch.masked_select(v, qmask)\n",
        "            c = torch.masked_select(v, ~qmask)\n",
        "            chunks = torch.split(c, chunk_size)\n",
        "            \n",
        "            for i, chunk in enumerate(chunks):\n",
        "                if i not in chunked_input:\n",
        "                    chunked_input[i] = {}\n",
        "\n",
        "                thing = torch.cat((q, chunk))\n",
        "                if i != len(chunks)-1:\n",
        "                    if k == 'input_ids':\n",
        "                        thing = torch.cat((thing, torch.tensor([102])))\n",
        "                    else:\n",
        "                        thing = torch.cat((thing, torch.tensor([1])))\n",
        "\n",
        "                chunked_input[i][k] = torch.unsqueeze(thing, dim=0)\n",
        "        return chunked_input\n",
        "\n",
        "\n",
        "    # 정답 함수 구현하기 \n",
        "    def get_answer(self):\n",
        "        if self.chunked:\n",
        "            answer = ''\n",
        "            for k, chunk in self.inputs.items():\n",
        "                answer_start_scores, answer_end_scores = self.model(**chunk)\n",
        "\n",
        "                answer_start = torch.argmax(answer_start_scores)\n",
        "                answer_end = torch.argmax(answer_end_scores) + 1\n",
        "\n",
        "                ans = self.convert_ids_to_string(chunk['input_ids'][0][answer_start:answer_end])\n",
        "                if ans != '[CLS]':\n",
        "                    answer += ans + \" / \"\n",
        "            return answer\n",
        "        else:\n",
        "            answer_start_scores, answer_end_scores = self.model(**self.inputs)\n",
        "\n",
        "            answer_start = torch.argmax(answer_start_scores)  # get the most likely beginning of answer with the argmax of the score\n",
        "            answer_end = torch.argmax(answer_end_scores) + 1  # get the most likely end of answer with the argmax of the score\n",
        "        \n",
        "            return self.convert_ids_to_string(self.inputs['input_ids'][0][\n",
        "                                              answer_start:answer_end])\n",
        "    # 인덱스를 문자로 변환하는 함수 정의하기 \n",
        "    def convert_ids_to_string(self, input_ids):\n",
        "        return self.tokenizer.convert_tokens_to_string(self.tokenizer.convert_ids_to_tokens(input_ids))"
      ]
    },
    {
      "cell_type": "code",
      "execution_count": null,
      "metadata": {
        "id": "DjCqlp_lDLcK"
      },
      "outputs": [],
      "source": [
        "# # collapse-hide \n",
        "\n",
        "# 결과값을 보다 읽기 쉽게 하기 위해서 토큰 문자열의 길이에 대한 주의사항을 끄기 \n",
        "import logging\n",
        "logging.getLogger(\"transformers.tokenization_utils\").setLevel(logging.ERROR)"
      ]
    },
    {
      "cell_type": "code",
      "execution_count": null,
      "metadata": {
        "colab": {
          "base_uri": "https://localhost:8080/"
        },
        "id": "ekAqzcLNDLhQ",
        "outputId": "f2575851-fe54-4e8f-fc54-99059ef383c5"
      },
      "outputs": [
        {
          "name": "stdout",
          "output_type": "stream",
          "text": [
            "Question: When was Bill Clinton born?\n",
            "Top wiki result: <WikipediaPage 'Bill Clinton'>\n"
          ]
        },
        {
          "name": "stderr",
          "output_type": "stream",
          "text": [
            "Token indices sequence length is longer than the specified maximum sequence length for this model (17543 > 512). Running this sequence through the model will result in indexing errors\n"
          ]
        },
        {
          "name": "stdout",
          "output_type": "stream",
          "text": [
            "Answer: 1946 / \n",
            "\n",
            "Question: Why is the sky blue?\n",
            "Top wiki result: <WikipediaPage 'Diffuse sky radiation'>\n",
            "Answer: Rayleigh scattering /  / \n",
            "\n",
            "Question: How many sides does a pentagon have?\n",
            "Top wiki result: <WikipediaPage 'The Pentagon'>\n",
            "Answer: five / \n",
            "\n"
          ]
        }
      ],
      "source": [
        "# 질문 설정하기\n",
        "questions = [\n",
        "    'When was Bill Clinton born?',\n",
        "    'Why is the sky blue?',\n",
        "    'How many sides does a pentagon have?'\n",
        "]\n",
        "\n",
        "# 리더기 설정하기 \n",
        "reader = DocumentReader(\"deepset/bert-base-cased-squad2\") \n",
        "\n",
        "\n",
        "# 질문, 위키피디아 모듈에서의 페이지 결과값, 그리고 그에 대한 답을 출력하기 \n",
        "for question in questions:\n",
        "    print(f\"Question: {question}\")\n",
        "    results = wiki.search(question)\n",
        "\n",
        "    page = wiki.page(results[0])\n",
        "    print(f\"Top wiki result: {page}\")\n",
        "\n",
        "    text = page.content\n",
        "\n",
        "    reader.tokenize(question, text)\n",
        "    print(f\"Answer: {reader.get_answer()}\")\n",
        "    print()"
      ]
    },
    {
      "cell_type": "markdown",
      "metadata": {
        "id": "zD9z-JJxE8w-"
      },
      "source": [
        "## **3-1. 예시**"
      ]
    },
    {
      "cell_type": "code",
      "execution_count": null,
      "metadata": {
        "colab": {
          "base_uri": "https://localhost:8080/"
        },
        "id": "cSf2Sd8uDLzY",
        "outputId": "03fff913-6619-44d7-9846-d6b2597b40d5"
      },
      "outputs": [
        {
          "name": "stderr",
          "output_type": "stream",
          "text": [
            "No model was supplied, defaulted to distilroberta-base (https://huggingface.co/distilroberta-base)\n"
          ]
        }
      ],
      "source": [
        "# 파이프라인 설정하기\n",
        "import transformers\n",
        "from transformers import pipeline\n",
        "unmasker = pipeline(\"fill-mask\")"
      ]
    },
    {
      "cell_type": "code",
      "execution_count": null,
      "metadata": {
        "colab": {
          "base_uri": "https://localhost:8080/"
        },
        "id": "ZbDShRvADL3Z",
        "outputId": "a3d44557-686a-4ca7-9b87-1790ea23754c"
      },
      "outputs": [
        {
          "name": "stdout",
          "output_type": "stream",
          "text": [
            "[{'score': 0.17927499115467072,\n",
            "  'sequence': 'HuggingFace is creating a tool that the community uses to solve '\n",
            "              'NLP tasks.',\n",
            "  'token': 3944,\n",
            "  'token_str': ' tool'},\n",
            " {'score': 0.11349404603242874,\n",
            "  'sequence': 'HuggingFace is creating a framework that the community uses to '\n",
            "              'solve NLP tasks.',\n",
            "  'token': 7208,\n",
            "  'token_str': ' framework'},\n",
            " {'score': 0.05243541672825813,\n",
            "  'sequence': 'HuggingFace is creating a library that the community uses to '\n",
            "              'solve NLP tasks.',\n",
            "  'token': 5560,\n",
            "  'token_str': ' library'},\n",
            " {'score': 0.034935448318719864,\n",
            "  'sequence': 'HuggingFace is creating a database that the community uses to '\n",
            "              'solve NLP tasks.',\n",
            "  'token': 8503,\n",
            "  'token_str': ' database'},\n",
            " {'score': 0.028602484613656998,\n",
            "  'sequence': 'HuggingFace is creating a prototype that the community uses to '\n",
            "              'solve NLP tasks.',\n",
            "  'token': 17715,\n",
            "  'token_str': ' prototype'}]\n"
          ]
        }
      ],
      "source": [
        "# 매스킹된 예시문장 제시하기 \n",
        "from pprint import pprint\n",
        "pprint(unmasker(f\"HuggingFace is creating a {unmasker.tokenizer.mask_token} that the community uses to solve NLP tasks.\"))"
      ]
    },
    {
      "cell_type": "code",
      "execution_count": null,
      "metadata": {
        "colab": {
          "base_uri": "https://localhost:8080/"
        },
        "id": "HL8MdM0WAnXG",
        "outputId": "91746c42-1dbe-4018-834d-3fff87a76679"
      },
      "outputs": [
        {
          "name": "stdout",
          "output_type": "stream",
          "text": [
            "Distilled models are smaller than the models they mimic. Using them instead of the large versions would help reduce our carbon footprint.\n",
            "Distilled models are smaller than the models they mimic. Using them instead of the large versions would help increase our carbon footprint.\n",
            "Distilled models are smaller than the models they mimic. Using them instead of the large versions would help decrease our carbon footprint.\n",
            "Distilled models are smaller than the models they mimic. Using them instead of the large versions would help offset our carbon footprint.\n",
            "Distilled models are smaller than the models they mimic. Using them instead of the large versions would help improve our carbon footprint.\n"
          ]
        }
      ],
      "source": [
        "from transformers import AutoModelForMaskedLM, AutoTokenizer \n",
        "import torch\n",
        "\n",
        "# 토크나이저와 모델 불러오기\n",
        "tokenizer = AutoTokenizer.from_pretrained(\"distilbert-base-cased\")\n",
        "model = AutoModelForMaskedLM.from_pretrained(\"distilbert-base-cased\")\n",
        "\n",
        "# 시퀀스 제시하기\n",
        "sequence = \"Distilled models are smaller than the models they mimic. Using them instead of the large \" \\\n",
        "    f\"versions would help {tokenizer.mask_token} our carbon footprint.\"\n",
        "\n",
        "# 토크나이징하고 토큰 인덱스에 매스킹하기 \n",
        "inputs = tokenizer(sequence, return_tensors=\"pt\")\n",
        "mask_token_index = torch.where(inputs[\"input_ids\"] == tokenizer.mask_token_id)[1]\n",
        "\n",
        "# 토큰의 로짓값 구하고 매스킹하기 \n",
        "token_logits = model(**inputs).logits\n",
        "mask_token_logits = token_logits[0, mask_token_index, :]\n",
        "\n",
        "# 최고 다섯개의 로짓값 구하기 \n",
        "top_5_tokens = torch.topk(mask_token_logits, 5, dim=1).indices[0].tolist()\n",
        "\n",
        "for token in top_5_tokens:\n",
        "    print(sequence.replace(tokenizer.mask_token, tokenizer.decode([token])))"
      ]
    },
    {
      "cell_type": "markdown",
      "metadata": {
        "id": "apO9uKyVFWU8"
      },
      "source": [
        "## **3-2. 예시**"
      ]
    },
    {
      "cell_type": "code",
      "execution_count": null,
      "metadata": {
        "colab": {
          "base_uri": "https://localhost:8080/"
        },
        "id": "83JeZZgkFS_f",
        "outputId": "955a0ec1-3e2a-4caf-c1ad-8ea93ea67fb8"
      },
      "outputs": [
        {
          "name": "stdout",
          "output_type": "stream",
          "text": [
            "Make sure to read the rest of this post paragraph\n"
          ]
        }
      ],
      "source": [
        "from transformers import AutoModelForCausalLM, AutoTokenizer, top_k_top_p_filtering\n",
        "import torch\n",
        "from torch.nn import functional as F\n",
        "\n",
        "# GPT-2 토크나이저와 모델 불러오기 \n",
        "tokenizer = AutoTokenizer.from_pretrained('gpt2')\n",
        "model = AutoModelForCausalLM.from_pretrained('gpt2')\n",
        "\n",
        "# 입력값 구문 토크나이징하기 \n",
        "phrase = f'Make sure to read the rest of this'\n",
        "inputs = tokenizer.encode(phrase, return_tensors='pt')\n",
        "\n",
        "# 마지막 층에서 로짓값 얻기 \n",
        "last_layer_logits = model(inputs).logits[:, -1, :]\n",
        "\n",
        "# 30개의 최대 로짓값을 최고로 유지하되 총 확률값이 1과 같거나 넘을 경우 중단하기\n",
        "top_logits = top_k_top_p_filtering(last_layer_logits, top_k=100, top_p=1.0)\n",
        "\n",
        "# 로짓값을 소프트맥스 함수로 확률값으로 변환시키기 \n",
        "probabilities = F.softmax(top_logits, dim=-1)\n",
        "\n",
        "# 다음번 토큰 생성하기 \n",
        "generated_next_token = torch.multinomial(probabilities, num_samples=2)\n",
        "generated = torch.cat([inputs, generated_next_token], dim=-1)\n",
        "\n",
        "# 결과값 얻기 \n",
        "result_string = tokenizer.decode(generated.tolist()[0])\n",
        "\n",
        "# 문자열 출력하기\n",
        "print(result_string)"
      ]
    }
  ],
  "metadata": {
    "colab": {
      "collapsed_sections": [],
      "name": "NLP_Transformer_Usage_part_one(1.0).ipynb",
      "provenance": [],
      "include_colab_link": true
    },
    "kernelspec": {
      "display_name": "Python 3 (ipykernel)",
      "language": "python",
      "name": "python3"
    },
    "language_info": {
      "codemirror_mode": {
        "name": "ipython",
        "version": 3
      },
      "file_extension": ".py",
      "mimetype": "text/x-python",
      "name": "python",
      "nbconvert_exporter": "python",
      "pygments_lexer": "ipython3",
      "version": "3.8.12"
    },
    "widgets": {
      "application/vnd.jupyter.widget-state+json": {
        "0096cb12eca44179ae7854ad4c6fb6d7": {
          "model_module": "@jupyter-widgets/base",
          "model_module_version": "1.2.0",
          "model_name": "LayoutModel",
          "state": {
            "_model_module": "@jupyter-widgets/base",
            "_model_module_version": "1.2.0",
            "_model_name": "LayoutModel",
            "_view_count": null,
            "_view_module": "@jupyter-widgets/base",
            "_view_module_version": "1.2.0",
            "_view_name": "LayoutView",
            "align_content": null,
            "align_items": null,
            "align_self": null,
            "border": null,
            "bottom": null,
            "display": null,
            "flex": null,
            "flex_flow": null,
            "grid_area": null,
            "grid_auto_columns": null,
            "grid_auto_flow": null,
            "grid_auto_rows": null,
            "grid_column": null,
            "grid_gap": null,
            "grid_row": null,
            "grid_template_areas": null,
            "grid_template_columns": null,
            "grid_template_rows": null,
            "height": null,
            "justify_content": null,
            "justify_items": null,
            "left": null,
            "margin": null,
            "max_height": null,
            "max_width": null,
            "min_height": null,
            "min_width": null,
            "object_fit": null,
            "object_position": null,
            "order": null,
            "overflow": null,
            "overflow_x": null,
            "overflow_y": null,
            "padding": null,
            "right": null,
            "top": null,
            "visibility": null,
            "width": null
          }
        },
        "00d135123ef144d988556499b94a5757": {
          "model_module": "@jupyter-widgets/base",
          "model_module_version": "1.2.0",
          "model_name": "LayoutModel",
          "state": {
            "_model_module": "@jupyter-widgets/base",
            "_model_module_version": "1.2.0",
            "_model_name": "LayoutModel",
            "_view_count": null,
            "_view_module": "@jupyter-widgets/base",
            "_view_module_version": "1.2.0",
            "_view_name": "LayoutView",
            "align_content": null,
            "align_items": null,
            "align_self": null,
            "border": null,
            "bottom": null,
            "display": null,
            "flex": null,
            "flex_flow": null,
            "grid_area": null,
            "grid_auto_columns": null,
            "grid_auto_flow": null,
            "grid_auto_rows": null,
            "grid_column": null,
            "grid_gap": null,
            "grid_row": null,
            "grid_template_areas": null,
            "grid_template_columns": null,
            "grid_template_rows": null,
            "height": null,
            "justify_content": null,
            "justify_items": null,
            "left": null,
            "margin": null,
            "max_height": null,
            "max_width": null,
            "min_height": null,
            "min_width": null,
            "object_fit": null,
            "object_position": null,
            "order": null,
            "overflow": null,
            "overflow_x": null,
            "overflow_y": null,
            "padding": null,
            "right": null,
            "top": null,
            "visibility": null,
            "width": null
          }
        },
        "01c7d1aab8d844c7b361ac8576881a99": {
          "model_module": "@jupyter-widgets/base",
          "model_module_version": "1.2.0",
          "model_name": "LayoutModel",
          "state": {
            "_model_module": "@jupyter-widgets/base",
            "_model_module_version": "1.2.0",
            "_model_name": "LayoutModel",
            "_view_count": null,
            "_view_module": "@jupyter-widgets/base",
            "_view_module_version": "1.2.0",
            "_view_name": "LayoutView",
            "align_content": null,
            "align_items": null,
            "align_self": null,
            "border": null,
            "bottom": null,
            "display": null,
            "flex": null,
            "flex_flow": null,
            "grid_area": null,
            "grid_auto_columns": null,
            "grid_auto_flow": null,
            "grid_auto_rows": null,
            "grid_column": null,
            "grid_gap": null,
            "grid_row": null,
            "grid_template_areas": null,
            "grid_template_columns": null,
            "grid_template_rows": null,
            "height": null,
            "justify_content": null,
            "justify_items": null,
            "left": null,
            "margin": null,
            "max_height": null,
            "max_width": null,
            "min_height": null,
            "min_width": null,
            "object_fit": null,
            "object_position": null,
            "order": null,
            "overflow": null,
            "overflow_x": null,
            "overflow_y": null,
            "padding": null,
            "right": null,
            "top": null,
            "visibility": null,
            "width": null
          }
        },
        "032fccc54f1f4d8587283772c04315c9": {
          "model_module": "@jupyter-widgets/controls",
          "model_module_version": "1.5.0",
          "model_name": "FloatProgressModel",
          "state": {
            "_dom_classes": [],
            "_model_module": "@jupyter-widgets/controls",
            "_model_module_version": "1.5.0",
            "_model_name": "FloatProgressModel",
            "_view_count": null,
            "_view_module": "@jupyter-widgets/controls",
            "_view_module_version": "1.5.0",
            "_view_name": "ProgressView",
            "bar_style": "success",
            "description": "",
            "description_tooltip": null,
            "layout": "IPY_MODEL_77532c69371849d0928cd5b6112dccd7",
            "max": 508,
            "min": 0,
            "orientation": "horizontal",
            "style": "IPY_MODEL_1972fe456c9f4a3590f2517f28bea260",
            "value": 508
          }
        },
        "03b6dce9f49944659c0bacf41ab691ad": {
          "model_module": "@jupyter-widgets/controls",
          "model_module_version": "1.5.0",
          "model_name": "ProgressStyleModel",
          "state": {
            "_model_module": "@jupyter-widgets/controls",
            "_model_module_version": "1.5.0",
            "_model_name": "ProgressStyleModel",
            "_view_count": null,
            "_view_module": "@jupyter-widgets/base",
            "_view_module_version": "1.2.0",
            "_view_name": "StyleView",
            "bar_color": null,
            "description_width": ""
          }
        },
        "03cf5c4dbb3c46bdbb57767c59318c24": {
          "model_module": "@jupyter-widgets/base",
          "model_module_version": "1.2.0",
          "model_name": "LayoutModel",
          "state": {
            "_model_module": "@jupyter-widgets/base",
            "_model_module_version": "1.2.0",
            "_model_name": "LayoutModel",
            "_view_count": null,
            "_view_module": "@jupyter-widgets/base",
            "_view_module_version": "1.2.0",
            "_view_name": "LayoutView",
            "align_content": null,
            "align_items": null,
            "align_self": null,
            "border": null,
            "bottom": null,
            "display": null,
            "flex": null,
            "flex_flow": null,
            "grid_area": null,
            "grid_auto_columns": null,
            "grid_auto_flow": null,
            "grid_auto_rows": null,
            "grid_column": null,
            "grid_gap": null,
            "grid_row": null,
            "grid_template_areas": null,
            "grid_template_columns": null,
            "grid_template_rows": null,
            "height": null,
            "justify_content": null,
            "justify_items": null,
            "left": null,
            "margin": null,
            "max_height": null,
            "max_width": null,
            "min_height": null,
            "min_width": null,
            "object_fit": null,
            "object_position": null,
            "order": null,
            "overflow": null,
            "overflow_x": null,
            "overflow_y": null,
            "padding": null,
            "right": null,
            "top": null,
            "visibility": null,
            "width": null
          }
        },
        "0a453564d80343a4a3f153d432877fb7": {
          "model_module": "@jupyter-widgets/base",
          "model_module_version": "1.2.0",
          "model_name": "LayoutModel",
          "state": {
            "_model_module": "@jupyter-widgets/base",
            "_model_module_version": "1.2.0",
            "_model_name": "LayoutModel",
            "_view_count": null,
            "_view_module": "@jupyter-widgets/base",
            "_view_module_version": "1.2.0",
            "_view_name": "LayoutView",
            "align_content": null,
            "align_items": null,
            "align_self": null,
            "border": null,
            "bottom": null,
            "display": null,
            "flex": null,
            "flex_flow": null,
            "grid_area": null,
            "grid_auto_columns": null,
            "grid_auto_flow": null,
            "grid_auto_rows": null,
            "grid_column": null,
            "grid_gap": null,
            "grid_row": null,
            "grid_template_areas": null,
            "grid_template_columns": null,
            "grid_template_rows": null,
            "height": null,
            "justify_content": null,
            "justify_items": null,
            "left": null,
            "margin": null,
            "max_height": null,
            "max_width": null,
            "min_height": null,
            "min_width": null,
            "object_fit": null,
            "object_position": null,
            "order": null,
            "overflow": null,
            "overflow_x": null,
            "overflow_y": null,
            "padding": null,
            "right": null,
            "top": null,
            "visibility": null,
            "width": null
          }
        },
        "0ac0c318d2744cd1be735055ca83cea1": {
          "model_module": "@jupyter-widgets/controls",
          "model_module_version": "1.5.0",
          "model_name": "FloatProgressModel",
          "state": {
            "_dom_classes": [],
            "_model_module": "@jupyter-widgets/controls",
            "_model_module_version": "1.5.0",
            "_model_name": "FloatProgressModel",
            "_view_count": null,
            "_view_module": "@jupyter-widgets/controls",
            "_view_module_version": "1.5.0",
            "_view_name": "ProgressView",
            "bar_style": "success",
            "description": "",
            "description_tooltip": null,
            "layout": "IPY_MODEL_190def9679e3410196203a048b827848",
            "max": 112,
            "min": 0,
            "orientation": "horizontal",
            "style": "IPY_MODEL_3983bfc722244670b51b837240bf0844",
            "value": 112
          }
        },
        "0c6a86b88df44c9e99822956dc3210a2": {
          "model_module": "@jupyter-widgets/controls",
          "model_module_version": "1.5.0",
          "model_name": "FloatProgressModel",
          "state": {
            "_dom_classes": [],
            "_model_module": "@jupyter-widgets/controls",
            "_model_module_version": "1.5.0",
            "_model_name": "FloatProgressModel",
            "_view_count": null,
            "_view_module": "@jupyter-widgets/controls",
            "_view_module_version": "1.5.0",
            "_view_name": "ProgressView",
            "bar_style": "success",
            "description": "",
            "description_tooltip": null,
            "layout": "IPY_MODEL_1e29a92145f44c3cb44d4a434deed037",
            "max": 152,
            "min": 0,
            "orientation": "horizontal",
            "style": "IPY_MODEL_f7acc56b14274d69b75de8dba49ced33",
            "value": 152
          }
        },
        "13c8a79be7a34ecf854e39d7c843cd2d": {
          "model_module": "@jupyter-widgets/base",
          "model_module_version": "1.2.0",
          "model_name": "LayoutModel",
          "state": {
            "_model_module": "@jupyter-widgets/base",
            "_model_module_version": "1.2.0",
            "_model_name": "LayoutModel",
            "_view_count": null,
            "_view_module": "@jupyter-widgets/base",
            "_view_module_version": "1.2.0",
            "_view_name": "LayoutView",
            "align_content": null,
            "align_items": null,
            "align_self": null,
            "border": null,
            "bottom": null,
            "display": null,
            "flex": null,
            "flex_flow": null,
            "grid_area": null,
            "grid_auto_columns": null,
            "grid_auto_flow": null,
            "grid_auto_rows": null,
            "grid_column": null,
            "grid_gap": null,
            "grid_row": null,
            "grid_template_areas": null,
            "grid_template_columns": null,
            "grid_template_rows": null,
            "height": null,
            "justify_content": null,
            "justify_items": null,
            "left": null,
            "margin": null,
            "max_height": null,
            "max_width": null,
            "min_height": null,
            "min_width": null,
            "object_fit": null,
            "object_position": null,
            "order": null,
            "overflow": null,
            "overflow_x": null,
            "overflow_y": null,
            "padding": null,
            "right": null,
            "top": null,
            "visibility": null,
            "width": null
          }
        },
        "148830e72c114460b243af25e06b2b29": {
          "model_module": "@jupyter-widgets/controls",
          "model_module_version": "1.5.0",
          "model_name": "DescriptionStyleModel",
          "state": {
            "_model_module": "@jupyter-widgets/controls",
            "_model_module_version": "1.5.0",
            "_model_name": "DescriptionStyleModel",
            "_view_count": null,
            "_view_module": "@jupyter-widgets/base",
            "_view_module_version": "1.2.0",
            "_view_name": "StyleView",
            "description_width": ""
          }
        },
        "151f679c9aac4eb580ff97ae7a074b1c": {
          "model_module": "@jupyter-widgets/base",
          "model_module_version": "1.2.0",
          "model_name": "LayoutModel",
          "state": {
            "_model_module": "@jupyter-widgets/base",
            "_model_module_version": "1.2.0",
            "_model_name": "LayoutModel",
            "_view_count": null,
            "_view_module": "@jupyter-widgets/base",
            "_view_module_version": "1.2.0",
            "_view_name": "LayoutView",
            "align_content": null,
            "align_items": null,
            "align_self": null,
            "border": null,
            "bottom": null,
            "display": null,
            "flex": null,
            "flex_flow": null,
            "grid_area": null,
            "grid_auto_columns": null,
            "grid_auto_flow": null,
            "grid_auto_rows": null,
            "grid_column": null,
            "grid_gap": null,
            "grid_row": null,
            "grid_template_areas": null,
            "grid_template_columns": null,
            "grid_template_rows": null,
            "height": null,
            "justify_content": null,
            "justify_items": null,
            "left": null,
            "margin": null,
            "max_height": null,
            "max_width": null,
            "min_height": null,
            "min_width": null,
            "object_fit": null,
            "object_position": null,
            "order": null,
            "overflow": null,
            "overflow_x": null,
            "overflow_y": null,
            "padding": null,
            "right": null,
            "top": null,
            "visibility": null,
            "width": null
          }
        },
        "166c69deec77498d8b60bd3e1a910ab1": {
          "model_module": "@jupyter-widgets/controls",
          "model_module_version": "1.5.0",
          "model_name": "DescriptionStyleModel",
          "state": {
            "_model_module": "@jupyter-widgets/controls",
            "_model_module_version": "1.5.0",
            "_model_name": "DescriptionStyleModel",
            "_view_count": null,
            "_view_module": "@jupyter-widgets/base",
            "_view_module_version": "1.2.0",
            "_view_name": "StyleView",
            "description_width": ""
          }
        },
        "16b35e37d5674ac88494afca68e83da8": {
          "model_module": "@jupyter-widgets/base",
          "model_module_version": "1.2.0",
          "model_name": "LayoutModel",
          "state": {
            "_model_module": "@jupyter-widgets/base",
            "_model_module_version": "1.2.0",
            "_model_name": "LayoutModel",
            "_view_count": null,
            "_view_module": "@jupyter-widgets/base",
            "_view_module_version": "1.2.0",
            "_view_name": "LayoutView",
            "align_content": null,
            "align_items": null,
            "align_self": null,
            "border": null,
            "bottom": null,
            "display": null,
            "flex": null,
            "flex_flow": null,
            "grid_area": null,
            "grid_auto_columns": null,
            "grid_auto_flow": null,
            "grid_auto_rows": null,
            "grid_column": null,
            "grid_gap": null,
            "grid_row": null,
            "grid_template_areas": null,
            "grid_template_columns": null,
            "grid_template_rows": null,
            "height": null,
            "justify_content": null,
            "justify_items": null,
            "left": null,
            "margin": null,
            "max_height": null,
            "max_width": null,
            "min_height": null,
            "min_width": null,
            "object_fit": null,
            "object_position": null,
            "order": null,
            "overflow": null,
            "overflow_x": null,
            "overflow_y": null,
            "padding": null,
            "right": null,
            "top": null,
            "visibility": null,
            "width": null
          }
        },
        "190def9679e3410196203a048b827848": {
          "model_module": "@jupyter-widgets/base",
          "model_module_version": "1.2.0",
          "model_name": "LayoutModel",
          "state": {
            "_model_module": "@jupyter-widgets/base",
            "_model_module_version": "1.2.0",
            "_model_name": "LayoutModel",
            "_view_count": null,
            "_view_module": "@jupyter-widgets/base",
            "_view_module_version": "1.2.0",
            "_view_name": "LayoutView",
            "align_content": null,
            "align_items": null,
            "align_self": null,
            "border": null,
            "bottom": null,
            "display": null,
            "flex": null,
            "flex_flow": null,
            "grid_area": null,
            "grid_auto_columns": null,
            "grid_auto_flow": null,
            "grid_auto_rows": null,
            "grid_column": null,
            "grid_gap": null,
            "grid_row": null,
            "grid_template_areas": null,
            "grid_template_columns": null,
            "grid_template_rows": null,
            "height": null,
            "justify_content": null,
            "justify_items": null,
            "left": null,
            "margin": null,
            "max_height": null,
            "max_width": null,
            "min_height": null,
            "min_width": null,
            "object_fit": null,
            "object_position": null,
            "order": null,
            "overflow": null,
            "overflow_x": null,
            "overflow_y": null,
            "padding": null,
            "right": null,
            "top": null,
            "visibility": null,
            "width": null
          }
        },
        "1972fe456c9f4a3590f2517f28bea260": {
          "model_module": "@jupyter-widgets/controls",
          "model_module_version": "1.5.0",
          "model_name": "ProgressStyleModel",
          "state": {
            "_model_module": "@jupyter-widgets/controls",
            "_model_module_version": "1.5.0",
            "_model_name": "ProgressStyleModel",
            "_view_count": null,
            "_view_module": "@jupyter-widgets/base",
            "_view_module_version": "1.2.0",
            "_view_name": "StyleView",
            "bar_color": null,
            "description_width": ""
          }
        },
        "1a8047dd6bfa4db287e7d31cc9ff232e": {
          "model_module": "@jupyter-widgets/controls",
          "model_module_version": "1.5.0",
          "model_name": "DescriptionStyleModel",
          "state": {
            "_model_module": "@jupyter-widgets/controls",
            "_model_module_version": "1.5.0",
            "_model_name": "DescriptionStyleModel",
            "_view_count": null,
            "_view_module": "@jupyter-widgets/base",
            "_view_module_version": "1.2.0",
            "_view_name": "StyleView",
            "description_width": ""
          }
        },
        "1a8f8de84e7c423cbd0b2911e7b61551": {
          "model_module": "@jupyter-widgets/base",
          "model_module_version": "1.2.0",
          "model_name": "LayoutModel",
          "state": {
            "_model_module": "@jupyter-widgets/base",
            "_model_module_version": "1.2.0",
            "_model_name": "LayoutModel",
            "_view_count": null,
            "_view_module": "@jupyter-widgets/base",
            "_view_module_version": "1.2.0",
            "_view_name": "LayoutView",
            "align_content": null,
            "align_items": null,
            "align_self": null,
            "border": null,
            "bottom": null,
            "display": null,
            "flex": null,
            "flex_flow": null,
            "grid_area": null,
            "grid_auto_columns": null,
            "grid_auto_flow": null,
            "grid_auto_rows": null,
            "grid_column": null,
            "grid_gap": null,
            "grid_row": null,
            "grid_template_areas": null,
            "grid_template_columns": null,
            "grid_template_rows": null,
            "height": null,
            "justify_content": null,
            "justify_items": null,
            "left": null,
            "margin": null,
            "max_height": null,
            "max_width": null,
            "min_height": null,
            "min_width": null,
            "object_fit": null,
            "object_position": null,
            "order": null,
            "overflow": null,
            "overflow_x": null,
            "overflow_y": null,
            "padding": null,
            "right": null,
            "top": null,
            "visibility": null,
            "width": null
          }
        },
        "1d34591b80c64c328337aad9c8faf824": {
          "model_module": "@jupyter-widgets/controls",
          "model_module_version": "1.5.0",
          "model_name": "DescriptionStyleModel",
          "state": {
            "_model_module": "@jupyter-widgets/controls",
            "_model_module_version": "1.5.0",
            "_model_name": "DescriptionStyleModel",
            "_view_count": null,
            "_view_module": "@jupyter-widgets/base",
            "_view_module_version": "1.2.0",
            "_view_name": "StyleView",
            "description_width": ""
          }
        },
        "1e29a92145f44c3cb44d4a434deed037": {
          "model_module": "@jupyter-widgets/base",
          "model_module_version": "1.2.0",
          "model_name": "LayoutModel",
          "state": {
            "_model_module": "@jupyter-widgets/base",
            "_model_module_version": "1.2.0",
            "_model_name": "LayoutModel",
            "_view_count": null,
            "_view_module": "@jupyter-widgets/base",
            "_view_module_version": "1.2.0",
            "_view_name": "LayoutView",
            "align_content": null,
            "align_items": null,
            "align_self": null,
            "border": null,
            "bottom": null,
            "display": null,
            "flex": null,
            "flex_flow": null,
            "grid_area": null,
            "grid_auto_columns": null,
            "grid_auto_flow": null,
            "grid_auto_rows": null,
            "grid_column": null,
            "grid_gap": null,
            "grid_row": null,
            "grid_template_areas": null,
            "grid_template_columns": null,
            "grid_template_rows": null,
            "height": null,
            "justify_content": null,
            "justify_items": null,
            "left": null,
            "margin": null,
            "max_height": null,
            "max_width": null,
            "min_height": null,
            "min_width": null,
            "object_fit": null,
            "object_position": null,
            "order": null,
            "overflow": null,
            "overflow_x": null,
            "overflow_y": null,
            "padding": null,
            "right": null,
            "top": null,
            "visibility": null,
            "width": null
          }
        },
        "220fe892e32a4158bca3ef17ccd5b1c9": {
          "model_module": "@jupyter-widgets/controls",
          "model_module_version": "1.5.0",
          "model_name": "HTMLModel",
          "state": {
            "_dom_classes": [],
            "_model_module": "@jupyter-widgets/controls",
            "_model_module_version": "1.5.0",
            "_model_name": "HTMLModel",
            "_view_count": null,
            "_view_module": "@jupyter-widgets/controls",
            "_view_module_version": "1.5.0",
            "_view_name": "HTMLView",
            "description": "",
            "description_tooltip": null,
            "layout": "IPY_MODEL_b605426581dc40798c109ef3eb71693d",
            "placeholder": "​",
            "style": "IPY_MODEL_4093de7d7c4c4033925c10c552f23ebb",
            "value": "Downloading: 100%"
          }
        },
        "28d40d583ac8471aaa151023227ea549": {
          "model_module": "@jupyter-widgets/controls",
          "model_module_version": "1.5.0",
          "model_name": "DescriptionStyleModel",
          "state": {
            "_model_module": "@jupyter-widgets/controls",
            "_model_module_version": "1.5.0",
            "_model_name": "DescriptionStyleModel",
            "_view_count": null,
            "_view_module": "@jupyter-widgets/base",
            "_view_module_version": "1.2.0",
            "_view_name": "StyleView",
            "description_width": ""
          }
        },
        "28d75596384c4b3c9f0b3e573cb01496": {
          "model_module": "@jupyter-widgets/controls",
          "model_module_version": "1.5.0",
          "model_name": "HTMLModel",
          "state": {
            "_dom_classes": [],
            "_model_module": "@jupyter-widgets/controls",
            "_model_module_version": "1.5.0",
            "_model_name": "HTMLModel",
            "_view_count": null,
            "_view_module": "@jupyter-widgets/controls",
            "_view_module_version": "1.5.0",
            "_view_name": "HTMLView",
            "description": "",
            "description_tooltip": null,
            "layout": "IPY_MODEL_894365adde8b4f85bc66651fcef8c14e",
            "placeholder": "​",
            "style": "IPY_MODEL_1a8047dd6bfa4db287e7d31cc9ff232e",
            "value": "Downloading: 100%"
          }
        },
        "2c7dd03d007b43609c87198f33484d25": {
          "model_module": "@jupyter-widgets/controls",
          "model_module_version": "1.5.0",
          "model_name": "DescriptionStyleModel",
          "state": {
            "_model_module": "@jupyter-widgets/controls",
            "_model_module_version": "1.5.0",
            "_model_name": "DescriptionStyleModel",
            "_view_count": null,
            "_view_module": "@jupyter-widgets/base",
            "_view_module_version": "1.2.0",
            "_view_name": "StyleView",
            "description_width": ""
          }
        },
        "2dd6e3de695642319d4177499a1b2c7c": {
          "model_module": "@jupyter-widgets/controls",
          "model_module_version": "1.5.0",
          "model_name": "HTMLModel",
          "state": {
            "_dom_classes": [],
            "_model_module": "@jupyter-widgets/controls",
            "_model_module_version": "1.5.0",
            "_model_name": "HTMLModel",
            "_view_count": null,
            "_view_module": "@jupyter-widgets/controls",
            "_view_module_version": "1.5.0",
            "_view_name": "HTMLView",
            "description": "",
            "description_tooltip": null,
            "layout": "IPY_MODEL_b81dfcfca8a949598c8d9bf08f3e737d",
            "placeholder": "​",
            "style": "IPY_MODEL_b58d9cb1d3da4bbaa3f77aac4b4f09c9",
            "value": "Downloading: 100%"
          }
        },
        "2f3445ec358c46409099d9b37e83aed9": {
          "model_module": "@jupyter-widgets/controls",
          "model_module_version": "1.5.0",
          "model_name": "DescriptionStyleModel",
          "state": {
            "_model_module": "@jupyter-widgets/controls",
            "_model_module_version": "1.5.0",
            "_model_name": "DescriptionStyleModel",
            "_view_count": null,
            "_view_module": "@jupyter-widgets/base",
            "_view_module_version": "1.2.0",
            "_view_name": "StyleView",
            "description_width": ""
          }
        },
        "3272fcf30d16470694e4ea19fa505bac": {
          "model_module": "@jupyter-widgets/controls",
          "model_module_version": "1.5.0",
          "model_name": "HTMLModel",
          "state": {
            "_dom_classes": [],
            "_model_module": "@jupyter-widgets/controls",
            "_model_module_version": "1.5.0",
            "_model_name": "HTMLModel",
            "_view_count": null,
            "_view_module": "@jupyter-widgets/controls",
            "_view_module_version": "1.5.0",
            "_view_name": "HTMLView",
            "description": "",
            "description_tooltip": null,
            "layout": "IPY_MODEL_00d135123ef144d988556499b94a5757",
            "placeholder": "​",
            "style": "IPY_MODEL_9e8c8dbb01d04600b39621a29a8062e1",
            "value": " 152/152 [00:00&lt;00:00, 3.20kB/s]"
          }
        },
        "33e84ffdc36b444a8339b020cf528d49": {
          "model_module": "@jupyter-widgets/controls",
          "model_module_version": "1.5.0",
          "model_name": "FloatProgressModel",
          "state": {
            "_dom_classes": [],
            "_model_module": "@jupyter-widgets/controls",
            "_model_module_version": "1.5.0",
            "_model_name": "FloatProgressModel",
            "_view_count": null,
            "_view_module": "@jupyter-widgets/controls",
            "_view_module_version": "1.5.0",
            "_view_name": "ProgressView",
            "bar_style": "success",
            "description": "",
            "description_tooltip": null,
            "layout": "IPY_MODEL_b15bed4a578745368be75e63fbeee602",
            "max": 1961828,
            "min": 0,
            "orientation": "horizontal",
            "style": "IPY_MODEL_6ae9c9f3392847f7a0d4b4e2b647996b",
            "value": 1961828
          }
        },
        "35e97d1fe7684b17835a3af31a06a87c": {
          "model_module": "@jupyter-widgets/base",
          "model_module_version": "1.2.0",
          "model_name": "LayoutModel",
          "state": {
            "_model_module": "@jupyter-widgets/base",
            "_model_module_version": "1.2.0",
            "_model_name": "LayoutModel",
            "_view_count": null,
            "_view_module": "@jupyter-widgets/base",
            "_view_module_version": "1.2.0",
            "_view_name": "LayoutView",
            "align_content": null,
            "align_items": null,
            "align_self": null,
            "border": null,
            "bottom": null,
            "display": null,
            "flex": null,
            "flex_flow": null,
            "grid_area": null,
            "grid_auto_columns": null,
            "grid_auto_flow": null,
            "grid_auto_rows": null,
            "grid_column": null,
            "grid_gap": null,
            "grid_row": null,
            "grid_template_areas": null,
            "grid_template_columns": null,
            "grid_template_rows": null,
            "height": null,
            "justify_content": null,
            "justify_items": null,
            "left": null,
            "margin": null,
            "max_height": null,
            "max_width": null,
            "min_height": null,
            "min_width": null,
            "object_fit": null,
            "object_position": null,
            "order": null,
            "overflow": null,
            "overflow_x": null,
            "overflow_y": null,
            "padding": null,
            "right": null,
            "top": null,
            "visibility": null,
            "width": null
          }
        },
        "38d6683429674657a91602bb7fe6ca3a": {
          "model_module": "@jupyter-widgets/controls",
          "model_module_version": "1.5.0",
          "model_name": "ProgressStyleModel",
          "state": {
            "_model_module": "@jupyter-widgets/controls",
            "_model_module_version": "1.5.0",
            "_model_name": "ProgressStyleModel",
            "_view_count": null,
            "_view_module": "@jupyter-widgets/base",
            "_view_module_version": "1.2.0",
            "_view_name": "StyleView",
            "bar_color": null,
            "description_width": ""
          }
        },
        "3983bfc722244670b51b837240bf0844": {
          "model_module": "@jupyter-widgets/controls",
          "model_module_version": "1.5.0",
          "model_name": "ProgressStyleModel",
          "state": {
            "_model_module": "@jupyter-widgets/controls",
            "_model_module_version": "1.5.0",
            "_model_name": "ProgressStyleModel",
            "_view_count": null,
            "_view_module": "@jupyter-widgets/base",
            "_view_module_version": "1.2.0",
            "_view_name": "StyleView",
            "bar_color": null,
            "description_width": ""
          }
        },
        "39b93bd77d3e4ac69354ee062a1235d6": {
          "model_module": "@jupyter-widgets/base",
          "model_module_version": "1.2.0",
          "model_name": "LayoutModel",
          "state": {
            "_model_module": "@jupyter-widgets/base",
            "_model_module_version": "1.2.0",
            "_model_name": "LayoutModel",
            "_view_count": null,
            "_view_module": "@jupyter-widgets/base",
            "_view_module_version": "1.2.0",
            "_view_name": "LayoutView",
            "align_content": null,
            "align_items": null,
            "align_self": null,
            "border": null,
            "bottom": null,
            "display": null,
            "flex": null,
            "flex_flow": null,
            "grid_area": null,
            "grid_auto_columns": null,
            "grid_auto_flow": null,
            "grid_auto_rows": null,
            "grid_column": null,
            "grid_gap": null,
            "grid_row": null,
            "grid_template_areas": null,
            "grid_template_columns": null,
            "grid_template_rows": null,
            "height": null,
            "justify_content": null,
            "justify_items": null,
            "left": null,
            "margin": null,
            "max_height": null,
            "max_width": null,
            "min_height": null,
            "min_width": null,
            "object_fit": null,
            "object_position": null,
            "order": null,
            "overflow": null,
            "overflow_x": null,
            "overflow_y": null,
            "padding": null,
            "right": null,
            "top": null,
            "visibility": null,
            "width": null
          }
        },
        "3b3c16b835d64f30bf056df32bf21cc8": {
          "model_module": "@jupyter-widgets/controls",
          "model_module_version": "1.5.0",
          "model_name": "DescriptionStyleModel",
          "state": {
            "_model_module": "@jupyter-widgets/controls",
            "_model_module_version": "1.5.0",
            "_model_name": "DescriptionStyleModel",
            "_view_count": null,
            "_view_module": "@jupyter-widgets/base",
            "_view_module_version": "1.2.0",
            "_view_name": "StyleView",
            "description_width": ""
          }
        },
        "4093de7d7c4c4033925c10c552f23ebb": {
          "model_module": "@jupyter-widgets/controls",
          "model_module_version": "1.5.0",
          "model_name": "DescriptionStyleModel",
          "state": {
            "_model_module": "@jupyter-widgets/controls",
            "_model_module_version": "1.5.0",
            "_model_name": "DescriptionStyleModel",
            "_view_count": null,
            "_view_module": "@jupyter-widgets/base",
            "_view_module_version": "1.2.0",
            "_view_name": "StyleView",
            "description_width": ""
          }
        },
        "41c58b05fbb9410a8b268333acc8d85f": {
          "model_module": "@jupyter-widgets/base",
          "model_module_version": "1.2.0",
          "model_name": "LayoutModel",
          "state": {
            "_model_module": "@jupyter-widgets/base",
            "_model_module_version": "1.2.0",
            "_model_name": "LayoutModel",
            "_view_count": null,
            "_view_module": "@jupyter-widgets/base",
            "_view_module_version": "1.2.0",
            "_view_name": "LayoutView",
            "align_content": null,
            "align_items": null,
            "align_self": null,
            "border": null,
            "bottom": null,
            "display": null,
            "flex": null,
            "flex_flow": null,
            "grid_area": null,
            "grid_auto_columns": null,
            "grid_auto_flow": null,
            "grid_auto_rows": null,
            "grid_column": null,
            "grid_gap": null,
            "grid_row": null,
            "grid_template_areas": null,
            "grid_template_columns": null,
            "grid_template_rows": null,
            "height": null,
            "justify_content": null,
            "justify_items": null,
            "left": null,
            "margin": null,
            "max_height": null,
            "max_width": null,
            "min_height": null,
            "min_width": null,
            "object_fit": null,
            "object_position": null,
            "order": null,
            "overflow": null,
            "overflow_x": null,
            "overflow_y": null,
            "padding": null,
            "right": null,
            "top": null,
            "visibility": null,
            "width": null
          }
        },
        "4218605d81484a3c9a9cd1db53623c1a": {
          "model_module": "@jupyter-widgets/controls",
          "model_module_version": "1.5.0",
          "model_name": "HTMLModel",
          "state": {
            "_dom_classes": [],
            "_model_module": "@jupyter-widgets/controls",
            "_model_module_version": "1.5.0",
            "_model_name": "HTMLModel",
            "_view_count": null,
            "_view_module": "@jupyter-widgets/controls",
            "_view_module_version": "1.5.0",
            "_view_name": "HTMLView",
            "description": "",
            "description_tooltip": null,
            "layout": "IPY_MODEL_d8df44f16bde4cfba16427df69a24b12",
            "placeholder": "​",
            "style": "IPY_MODEL_1d34591b80c64c328337aad9c8faf824",
            "value": " 972k/972k [00:00&lt;00:00, 1.40MB/s]"
          }
        },
        "459284115dfe47d79146b2d99ecc8205": {
          "model_module": "@jupyter-widgets/base",
          "model_module_version": "1.2.0",
          "model_name": "LayoutModel",
          "state": {
            "_model_module": "@jupyter-widgets/base",
            "_model_module_version": "1.2.0",
            "_model_name": "LayoutModel",
            "_view_count": null,
            "_view_module": "@jupyter-widgets/base",
            "_view_module_version": "1.2.0",
            "_view_name": "LayoutView",
            "align_content": null,
            "align_items": null,
            "align_self": null,
            "border": null,
            "bottom": null,
            "display": null,
            "flex": null,
            "flex_flow": null,
            "grid_area": null,
            "grid_auto_columns": null,
            "grid_auto_flow": null,
            "grid_auto_rows": null,
            "grid_column": null,
            "grid_gap": null,
            "grid_row": null,
            "grid_template_areas": null,
            "grid_template_columns": null,
            "grid_template_rows": null,
            "height": null,
            "justify_content": null,
            "justify_items": null,
            "left": null,
            "margin": null,
            "max_height": null,
            "max_width": null,
            "min_height": null,
            "min_width": null,
            "object_fit": null,
            "object_position": null,
            "order": null,
            "overflow": null,
            "overflow_x": null,
            "overflow_y": null,
            "padding": null,
            "right": null,
            "top": null,
            "visibility": null,
            "width": null
          }
        },
        "47d80ca277f74fb1ba87fea850dbc4fd": {
          "model_module": "@jupyter-widgets/controls",
          "model_module_version": "1.5.0",
          "model_name": "HBoxModel",
          "state": {
            "_dom_classes": [],
            "_model_module": "@jupyter-widgets/controls",
            "_model_module_version": "1.5.0",
            "_model_name": "HBoxModel",
            "_view_count": null,
            "_view_module": "@jupyter-widgets/controls",
            "_view_module_version": "1.5.0",
            "_view_name": "HBoxView",
            "box_style": "",
            "children": [
              "IPY_MODEL_5ab4d6c6c5a943338d97d3fbc4a6e7c2",
              "IPY_MODEL_33e84ffdc36b444a8339b020cf528d49",
              "IPY_MODEL_f94292da9d674e12a762b649b17854c7"
            ],
            "layout": "IPY_MODEL_73ae5317cff04364aae94f6402ec541d"
          }
        },
        "497efb230c1e4b688a0ad09888d4ae83": {
          "model_module": "@jupyter-widgets/controls",
          "model_module_version": "1.5.0",
          "model_name": "DescriptionStyleModel",
          "state": {
            "_model_module": "@jupyter-widgets/controls",
            "_model_module_version": "1.5.0",
            "_model_name": "DescriptionStyleModel",
            "_view_count": null,
            "_view_module": "@jupyter-widgets/base",
            "_view_module_version": "1.2.0",
            "_view_name": "StyleView",
            "description_width": ""
          }
        },
        "5262affc67d34131953c9d18d4747a7d": {
          "model_module": "@jupyter-widgets/controls",
          "model_module_version": "1.5.0",
          "model_name": "DescriptionStyleModel",
          "state": {
            "_model_module": "@jupyter-widgets/controls",
            "_model_module_version": "1.5.0",
            "_model_name": "DescriptionStyleModel",
            "_view_count": null,
            "_view_module": "@jupyter-widgets/base",
            "_view_module_version": "1.2.0",
            "_view_name": "StyleView",
            "description_width": ""
          }
        },
        "53b3d2f020ed4e00bd56cd4f560f2a08": {
          "model_module": "@jupyter-widgets/controls",
          "model_module_version": "1.5.0",
          "model_name": "FloatProgressModel",
          "state": {
            "_dom_classes": [],
            "_model_module": "@jupyter-widgets/controls",
            "_model_module_version": "1.5.0",
            "_model_name": "FloatProgressModel",
            "_view_count": null,
            "_view_module": "@jupyter-widgets/controls",
            "_view_module_version": "1.5.0",
            "_view_name": "ProgressView",
            "bar_style": "success",
            "description": "",
            "description_tooltip": null,
            "layout": "IPY_MODEL_b6a598256935442da5b827e4292d0216",
            "max": 213450,
            "min": 0,
            "orientation": "horizontal",
            "style": "IPY_MODEL_78f495960d6044e79645a2747a13f931",
            "value": 213450
          }
        },
        "54940a4c9be34b33aff41ab7a54d1958": {
          "model_module": "@jupyter-widgets/controls",
          "model_module_version": "1.5.0",
          "model_name": "HTMLModel",
          "state": {
            "_dom_classes": [],
            "_model_module": "@jupyter-widgets/controls",
            "_model_module_version": "1.5.0",
            "_model_name": "HTMLModel",
            "_view_count": null,
            "_view_module": "@jupyter-widgets/controls",
            "_view_module_version": "1.5.0",
            "_view_name": "HTMLView",
            "description": "",
            "description_tooltip": null,
            "layout": "IPY_MODEL_aeba83a40c5941aa8c40f04fa62c9c5d",
            "placeholder": "​",
            "style": "IPY_MODEL_148830e72c114460b243af25e06b2b29",
            "value": " 681M/681M [00:26&lt;00:00, 31.8MB/s]"
          }
        },
        "571de1d166b849bdb19e517d956f88de": {
          "model_module": "@jupyter-widgets/controls",
          "model_module_version": "1.5.0",
          "model_name": "HTMLModel",
          "state": {
            "_dom_classes": [],
            "_model_module": "@jupyter-widgets/controls",
            "_model_module_version": "1.5.0",
            "_model_name": "HTMLModel",
            "_view_count": null,
            "_view_module": "@jupyter-widgets/controls",
            "_view_module_version": "1.5.0",
            "_view_name": "HTMLView",
            "description": "",
            "description_tooltip": null,
            "layout": "IPY_MODEL_ad1abe817f6946c78b3846881626d46e",
            "placeholder": "​",
            "style": "IPY_MODEL_8ba81bf6eb784425ba26701fd933f09d",
            "value": " 208k/208k [00:00&lt;00:00, 954kB/s]"
          }
        },
        "582c4eb98bfe44308dcc8d378c9c619e": {
          "model_module": "@jupyter-widgets/controls",
          "model_module_version": "1.5.0",
          "model_name": "HBoxModel",
          "state": {
            "_dom_classes": [],
            "_model_module": "@jupyter-widgets/controls",
            "_model_module_version": "1.5.0",
            "_model_name": "HBoxModel",
            "_view_count": null,
            "_view_module": "@jupyter-widgets/controls",
            "_view_module_version": "1.5.0",
            "_view_name": "HBoxView",
            "box_style": "",
            "children": [
              "IPY_MODEL_8f39124bc4594ce6b52bbc64f4b05e78",
              "IPY_MODEL_53b3d2f020ed4e00bd56cd4f560f2a08",
              "IPY_MODEL_571de1d166b849bdb19e517d956f88de"
            ],
            "layout": "IPY_MODEL_8209140d1025434d98234c5f4e9c771e"
          }
        },
        "5912bee0f3d94d17b3232b56f29775a8": {
          "model_module": "@jupyter-widgets/controls",
          "model_module_version": "1.5.0",
          "model_name": "HTMLModel",
          "state": {
            "_dom_classes": [],
            "_model_module": "@jupyter-widgets/controls",
            "_model_module_version": "1.5.0",
            "_model_name": "HTMLModel",
            "_view_count": null,
            "_view_module": "@jupyter-widgets/controls",
            "_view_module_version": "1.5.0",
            "_view_name": "HTMLView",
            "description": "",
            "description_tooltip": null,
            "layout": "IPY_MODEL_39b93bd77d3e4ac69354ee062a1235d6",
            "placeholder": "​",
            "style": "IPY_MODEL_5262affc67d34131953c9d18d4747a7d",
            "value": " 508/508 [00:00&lt;00:00, 12.7kB/s]"
          }
        },
        "5ab4d6c6c5a943338d97d3fbc4a6e7c2": {
          "model_module": "@jupyter-widgets/controls",
          "model_module_version": "1.5.0",
          "model_name": "HTMLModel",
          "state": {
            "_dom_classes": [],
            "_model_module": "@jupyter-widgets/controls",
            "_model_module_version": "1.5.0",
            "_model_name": "HTMLModel",
            "_view_count": null,
            "_view_module": "@jupyter-widgets/controls",
            "_view_module_version": "1.5.0",
            "_view_name": "HTMLView",
            "description": "",
            "description_tooltip": null,
            "layout": "IPY_MODEL_01c7d1aab8d844c7b361ac8576881a99",
            "placeholder": "​",
            "style": "IPY_MODEL_2c7dd03d007b43609c87198f33484d25",
            "value": "Downloading: 100%"
          }
        },
        "5b438621ffc44a8e801c2f63797a1e1e": {
          "model_module": "@jupyter-widgets/base",
          "model_module_version": "1.2.0",
          "model_name": "LayoutModel",
          "state": {
            "_model_module": "@jupyter-widgets/base",
            "_model_module_version": "1.2.0",
            "_model_name": "LayoutModel",
            "_view_count": null,
            "_view_module": "@jupyter-widgets/base",
            "_view_module_version": "1.2.0",
            "_view_name": "LayoutView",
            "align_content": null,
            "align_items": null,
            "align_self": null,
            "border": null,
            "bottom": null,
            "display": null,
            "flex": null,
            "flex_flow": null,
            "grid_area": null,
            "grid_auto_columns": null,
            "grid_auto_flow": null,
            "grid_auto_rows": null,
            "grid_column": null,
            "grid_gap": null,
            "grid_row": null,
            "grid_template_areas": null,
            "grid_template_columns": null,
            "grid_template_rows": null,
            "height": null,
            "justify_content": null,
            "justify_items": null,
            "left": null,
            "margin": null,
            "max_height": null,
            "max_width": null,
            "min_height": null,
            "min_width": null,
            "object_fit": null,
            "object_position": null,
            "order": null,
            "overflow": null,
            "overflow_x": null,
            "overflow_y": null,
            "padding": null,
            "right": null,
            "top": null,
            "visibility": null,
            "width": null
          }
        },
        "5e5100e485954175b12ad9ffaa9391c1": {
          "model_module": "@jupyter-widgets/base",
          "model_module_version": "1.2.0",
          "model_name": "LayoutModel",
          "state": {
            "_model_module": "@jupyter-widgets/base",
            "_model_module_version": "1.2.0",
            "_model_name": "LayoutModel",
            "_view_count": null,
            "_view_module": "@jupyter-widgets/base",
            "_view_module_version": "1.2.0",
            "_view_name": "LayoutView",
            "align_content": null,
            "align_items": null,
            "align_self": null,
            "border": null,
            "bottom": null,
            "display": null,
            "flex": null,
            "flex_flow": null,
            "grid_area": null,
            "grid_auto_columns": null,
            "grid_auto_flow": null,
            "grid_auto_rows": null,
            "grid_column": null,
            "grid_gap": null,
            "grid_row": null,
            "grid_template_areas": null,
            "grid_template_columns": null,
            "grid_template_rows": null,
            "height": null,
            "justify_content": null,
            "justify_items": null,
            "left": null,
            "margin": null,
            "max_height": null,
            "max_width": null,
            "min_height": null,
            "min_width": null,
            "object_fit": null,
            "object_position": null,
            "order": null,
            "overflow": null,
            "overflow_x": null,
            "overflow_y": null,
            "padding": null,
            "right": null,
            "top": null,
            "visibility": null,
            "width": null
          }
        },
        "605ba181a317462498be9d29f9892c46": {
          "model_module": "@jupyter-widgets/base",
          "model_module_version": "1.2.0",
          "model_name": "LayoutModel",
          "state": {
            "_model_module": "@jupyter-widgets/base",
            "_model_module_version": "1.2.0",
            "_model_name": "LayoutModel",
            "_view_count": null,
            "_view_module": "@jupyter-widgets/base",
            "_view_module_version": "1.2.0",
            "_view_name": "LayoutView",
            "align_content": null,
            "align_items": null,
            "align_self": null,
            "border": null,
            "bottom": null,
            "display": null,
            "flex": null,
            "flex_flow": null,
            "grid_area": null,
            "grid_auto_columns": null,
            "grid_auto_flow": null,
            "grid_auto_rows": null,
            "grid_column": null,
            "grid_gap": null,
            "grid_row": null,
            "grid_template_areas": null,
            "grid_template_columns": null,
            "grid_template_rows": null,
            "height": null,
            "justify_content": null,
            "justify_items": null,
            "left": null,
            "margin": null,
            "max_height": null,
            "max_width": null,
            "min_height": null,
            "min_width": null,
            "object_fit": null,
            "object_position": null,
            "order": null,
            "overflow": null,
            "overflow_x": null,
            "overflow_y": null,
            "padding": null,
            "right": null,
            "top": null,
            "visibility": null,
            "width": null
          }
        },
        "62acc288d06548478be2a88eb2928e65": {
          "model_module": "@jupyter-widgets/base",
          "model_module_version": "1.2.0",
          "model_name": "LayoutModel",
          "state": {
            "_model_module": "@jupyter-widgets/base",
            "_model_module_version": "1.2.0",
            "_model_name": "LayoutModel",
            "_view_count": null,
            "_view_module": "@jupyter-widgets/base",
            "_view_module_version": "1.2.0",
            "_view_name": "LayoutView",
            "align_content": null,
            "align_items": null,
            "align_self": null,
            "border": null,
            "bottom": null,
            "display": null,
            "flex": null,
            "flex_flow": null,
            "grid_area": null,
            "grid_auto_columns": null,
            "grid_auto_flow": null,
            "grid_auto_rows": null,
            "grid_column": null,
            "grid_gap": null,
            "grid_row": null,
            "grid_template_areas": null,
            "grid_template_columns": null,
            "grid_template_rows": null,
            "height": null,
            "justify_content": null,
            "justify_items": null,
            "left": null,
            "margin": null,
            "max_height": null,
            "max_width": null,
            "min_height": null,
            "min_width": null,
            "object_fit": null,
            "object_position": null,
            "order": null,
            "overflow": null,
            "overflow_x": null,
            "overflow_y": null,
            "padding": null,
            "right": null,
            "top": null,
            "visibility": null,
            "width": null
          }
        },
        "62b19bdbded0446c8c9c442f9dac7e16": {
          "model_module": "@jupyter-widgets/base",
          "model_module_version": "1.2.0",
          "model_name": "LayoutModel",
          "state": {
            "_model_module": "@jupyter-widgets/base",
            "_model_module_version": "1.2.0",
            "_model_name": "LayoutModel",
            "_view_count": null,
            "_view_module": "@jupyter-widgets/base",
            "_view_module_version": "1.2.0",
            "_view_name": "LayoutView",
            "align_content": null,
            "align_items": null,
            "align_self": null,
            "border": null,
            "bottom": null,
            "display": null,
            "flex": null,
            "flex_flow": null,
            "grid_area": null,
            "grid_auto_columns": null,
            "grid_auto_flow": null,
            "grid_auto_rows": null,
            "grid_column": null,
            "grid_gap": null,
            "grid_row": null,
            "grid_template_areas": null,
            "grid_template_columns": null,
            "grid_template_rows": null,
            "height": null,
            "justify_content": null,
            "justify_items": null,
            "left": null,
            "margin": null,
            "max_height": null,
            "max_width": null,
            "min_height": null,
            "min_width": null,
            "object_fit": null,
            "object_position": null,
            "order": null,
            "overflow": null,
            "overflow_x": null,
            "overflow_y": null,
            "padding": null,
            "right": null,
            "top": null,
            "visibility": null,
            "width": null
          }
        },
        "6668fd4e0ae6489bb978453c175d8a8c": {
          "model_module": "@jupyter-widgets/controls",
          "model_module_version": "1.5.0",
          "model_name": "DescriptionStyleModel",
          "state": {
            "_model_module": "@jupyter-widgets/controls",
            "_model_module_version": "1.5.0",
            "_model_name": "DescriptionStyleModel",
            "_view_count": null,
            "_view_module": "@jupyter-widgets/base",
            "_view_module_version": "1.2.0",
            "_view_name": "StyleView",
            "description_width": ""
          }
        },
        "6ae9c9f3392847f7a0d4b4e2b647996b": {
          "model_module": "@jupyter-widgets/controls",
          "model_module_version": "1.5.0",
          "model_name": "ProgressStyleModel",
          "state": {
            "_model_module": "@jupyter-widgets/controls",
            "_model_module_version": "1.5.0",
            "_model_name": "ProgressStyleModel",
            "_view_count": null,
            "_view_module": "@jupyter-widgets/base",
            "_view_module_version": "1.2.0",
            "_view_name": "StyleView",
            "bar_color": null,
            "description_width": ""
          }
        },
        "6b9c2eb779184040803556422679e065": {
          "model_module": "@jupyter-widgets/controls",
          "model_module_version": "1.5.0",
          "model_name": "HBoxModel",
          "state": {
            "_dom_classes": [],
            "_model_module": "@jupyter-widgets/controls",
            "_model_module_version": "1.5.0",
            "_model_name": "HBoxModel",
            "_view_count": null,
            "_view_module": "@jupyter-widgets/controls",
            "_view_module_version": "1.5.0",
            "_view_name": "HBoxView",
            "box_style": "",
            "children": [
              "IPY_MODEL_df493fab2dba4440a19728dd0f968a2e",
              "IPY_MODEL_8c5fbd3fc85f4e97a76f3a34884da910",
              "IPY_MODEL_98422127b14e4ed6ad77008116231aeb"
            ],
            "layout": "IPY_MODEL_459284115dfe47d79146b2d99ecc8205"
          }
        },
        "73ae5317cff04364aae94f6402ec541d": {
          "model_module": "@jupyter-widgets/base",
          "model_module_version": "1.2.0",
          "model_name": "LayoutModel",
          "state": {
            "_model_module": "@jupyter-widgets/base",
            "_model_module_version": "1.2.0",
            "_model_name": "LayoutModel",
            "_view_count": null,
            "_view_module": "@jupyter-widgets/base",
            "_view_module_version": "1.2.0",
            "_view_name": "LayoutView",
            "align_content": null,
            "align_items": null,
            "align_self": null,
            "border": null,
            "bottom": null,
            "display": null,
            "flex": null,
            "flex_flow": null,
            "grid_area": null,
            "grid_auto_columns": null,
            "grid_auto_flow": null,
            "grid_auto_rows": null,
            "grid_column": null,
            "grid_gap": null,
            "grid_row": null,
            "grid_template_areas": null,
            "grid_template_columns": null,
            "grid_template_rows": null,
            "height": null,
            "justify_content": null,
            "justify_items": null,
            "left": null,
            "margin": null,
            "max_height": null,
            "max_width": null,
            "min_height": null,
            "min_width": null,
            "object_fit": null,
            "object_position": null,
            "order": null,
            "overflow": null,
            "overflow_x": null,
            "overflow_y": null,
            "padding": null,
            "right": null,
            "top": null,
            "visibility": null,
            "width": null
          }
        },
        "75a8f6f42c4547b4924666a28abf6d30": {
          "model_module": "@jupyter-widgets/controls",
          "model_module_version": "1.5.0",
          "model_name": "HBoxModel",
          "state": {
            "_dom_classes": [],
            "_model_module": "@jupyter-widgets/controls",
            "_model_module_version": "1.5.0",
            "_model_name": "HBoxModel",
            "_view_count": null,
            "_view_module": "@jupyter-widgets/controls",
            "_view_module_version": "1.5.0",
            "_view_name": "HBoxView",
            "box_style": "",
            "children": [
              "IPY_MODEL_87749881f9434a079056d365e30c7ccd",
              "IPY_MODEL_c89450b20a4e4756b27c7df2a1b62ed7",
              "IPY_MODEL_54940a4c9be34b33aff41ab7a54d1958"
            ],
            "layout": "IPY_MODEL_03cf5c4dbb3c46bdbb57767c59318c24"
          }
        },
        "77532c69371849d0928cd5b6112dccd7": {
          "model_module": "@jupyter-widgets/base",
          "model_module_version": "1.2.0",
          "model_name": "LayoutModel",
          "state": {
            "_model_module": "@jupyter-widgets/base",
            "_model_module_version": "1.2.0",
            "_model_name": "LayoutModel",
            "_view_count": null,
            "_view_module": "@jupyter-widgets/base",
            "_view_module_version": "1.2.0",
            "_view_name": "LayoutView",
            "align_content": null,
            "align_items": null,
            "align_self": null,
            "border": null,
            "bottom": null,
            "display": null,
            "flex": null,
            "flex_flow": null,
            "grid_area": null,
            "grid_auto_columns": null,
            "grid_auto_flow": null,
            "grid_auto_rows": null,
            "grid_column": null,
            "grid_gap": null,
            "grid_row": null,
            "grid_template_areas": null,
            "grid_template_columns": null,
            "grid_template_rows": null,
            "height": null,
            "justify_content": null,
            "justify_items": null,
            "left": null,
            "margin": null,
            "max_height": null,
            "max_width": null,
            "min_height": null,
            "min_width": null,
            "object_fit": null,
            "object_position": null,
            "order": null,
            "overflow": null,
            "overflow_x": null,
            "overflow_y": null,
            "padding": null,
            "right": null,
            "top": null,
            "visibility": null,
            "width": null
          }
        },
        "78de8de0517f4140bced57cdfead77ca": {
          "model_module": "@jupyter-widgets/base",
          "model_module_version": "1.2.0",
          "model_name": "LayoutModel",
          "state": {
            "_model_module": "@jupyter-widgets/base",
            "_model_module_version": "1.2.0",
            "_model_name": "LayoutModel",
            "_view_count": null,
            "_view_module": "@jupyter-widgets/base",
            "_view_module_version": "1.2.0",
            "_view_name": "LayoutView",
            "align_content": null,
            "align_items": null,
            "align_self": null,
            "border": null,
            "bottom": null,
            "display": null,
            "flex": null,
            "flex_flow": null,
            "grid_area": null,
            "grid_auto_columns": null,
            "grid_auto_flow": null,
            "grid_auto_rows": null,
            "grid_column": null,
            "grid_gap": null,
            "grid_row": null,
            "grid_template_areas": null,
            "grid_template_columns": null,
            "grid_template_rows": null,
            "height": null,
            "justify_content": null,
            "justify_items": null,
            "left": null,
            "margin": null,
            "max_height": null,
            "max_width": null,
            "min_height": null,
            "min_width": null,
            "object_fit": null,
            "object_position": null,
            "order": null,
            "overflow": null,
            "overflow_x": null,
            "overflow_y": null,
            "padding": null,
            "right": null,
            "top": null,
            "visibility": null,
            "width": null
          }
        },
        "78f495960d6044e79645a2747a13f931": {
          "model_module": "@jupyter-widgets/controls",
          "model_module_version": "1.5.0",
          "model_name": "ProgressStyleModel",
          "state": {
            "_model_module": "@jupyter-widgets/controls",
            "_model_module_version": "1.5.0",
            "_model_name": "ProgressStyleModel",
            "_view_count": null,
            "_view_module": "@jupyter-widgets/base",
            "_view_module_version": "1.2.0",
            "_view_name": "StyleView",
            "bar_color": null,
            "description_width": ""
          }
        },
        "79725acd72024f38b6180bd54239f1c6": {
          "model_module": "@jupyter-widgets/base",
          "model_module_version": "1.2.0",
          "model_name": "LayoutModel",
          "state": {
            "_model_module": "@jupyter-widgets/base",
            "_model_module_version": "1.2.0",
            "_model_name": "LayoutModel",
            "_view_count": null,
            "_view_module": "@jupyter-widgets/base",
            "_view_module_version": "1.2.0",
            "_view_name": "LayoutView",
            "align_content": null,
            "align_items": null,
            "align_self": null,
            "border": null,
            "bottom": null,
            "display": null,
            "flex": null,
            "flex_flow": null,
            "grid_area": null,
            "grid_auto_columns": null,
            "grid_auto_flow": null,
            "grid_auto_rows": null,
            "grid_column": null,
            "grid_gap": null,
            "grid_row": null,
            "grid_template_areas": null,
            "grid_template_columns": null,
            "grid_template_rows": null,
            "height": null,
            "justify_content": null,
            "justify_items": null,
            "left": null,
            "margin": null,
            "max_height": null,
            "max_width": null,
            "min_height": null,
            "min_width": null,
            "object_fit": null,
            "object_position": null,
            "order": null,
            "overflow": null,
            "overflow_x": null,
            "overflow_y": null,
            "padding": null,
            "right": null,
            "top": null,
            "visibility": null,
            "width": null
          }
        },
        "7b72223097574f438162acf65cd14d15": {
          "model_module": "@jupyter-widgets/controls",
          "model_module_version": "1.5.0",
          "model_name": "HBoxModel",
          "state": {
            "_dom_classes": [],
            "_model_module": "@jupyter-widgets/controls",
            "_model_module_version": "1.5.0",
            "_model_name": "HBoxModel",
            "_view_count": null,
            "_view_module": "@jupyter-widgets/controls",
            "_view_module_version": "1.5.0",
            "_view_name": "HBoxView",
            "box_style": "",
            "children": [
              "IPY_MODEL_2dd6e3de695642319d4177499a1b2c7c",
              "IPY_MODEL_f7b97b5048b84160ad471e2c266aca57",
              "IPY_MODEL_8a94534f5e3747009a7ec53713b1d585"
            ],
            "layout": "IPY_MODEL_5e5100e485954175b12ad9ffaa9391c1"
          }
        },
        "8209140d1025434d98234c5f4e9c771e": {
          "model_module": "@jupyter-widgets/base",
          "model_module_version": "1.2.0",
          "model_name": "LayoutModel",
          "state": {
            "_model_module": "@jupyter-widgets/base",
            "_model_module_version": "1.2.0",
            "_model_name": "LayoutModel",
            "_view_count": null,
            "_view_module": "@jupyter-widgets/base",
            "_view_module_version": "1.2.0",
            "_view_name": "LayoutView",
            "align_content": null,
            "align_items": null,
            "align_self": null,
            "border": null,
            "bottom": null,
            "display": null,
            "flex": null,
            "flex_flow": null,
            "grid_area": null,
            "grid_auto_columns": null,
            "grid_auto_flow": null,
            "grid_auto_rows": null,
            "grid_column": null,
            "grid_gap": null,
            "grid_row": null,
            "grid_template_areas": null,
            "grid_template_columns": null,
            "grid_template_rows": null,
            "height": null,
            "justify_content": null,
            "justify_items": null,
            "left": null,
            "margin": null,
            "max_height": null,
            "max_width": null,
            "min_height": null,
            "min_width": null,
            "object_fit": null,
            "object_position": null,
            "order": null,
            "overflow": null,
            "overflow_x": null,
            "overflow_y": null,
            "padding": null,
            "right": null,
            "top": null,
            "visibility": null,
            "width": null
          }
        },
        "8627c99244a9408ba119dce350b0c284": {
          "model_module": "@jupyter-widgets/controls",
          "model_module_version": "1.5.0",
          "model_name": "HTMLModel",
          "state": {
            "_dom_classes": [],
            "_model_module": "@jupyter-widgets/controls",
            "_model_module_version": "1.5.0",
            "_model_name": "HTMLModel",
            "_view_count": null,
            "_view_module": "@jupyter-widgets/controls",
            "_view_module_version": "1.5.0",
            "_view_name": "HTMLView",
            "description": "",
            "description_tooltip": null,
            "layout": "IPY_MODEL_62acc288d06548478be2a88eb2928e65",
            "placeholder": "​",
            "style": "IPY_MODEL_166c69deec77498d8b60bd3e1a910ab1",
            "value": "Downloading: 100%"
          }
        },
        "87749881f9434a079056d365e30c7ccd": {
          "model_module": "@jupyter-widgets/controls",
          "model_module_version": "1.5.0",
          "model_name": "HTMLModel",
          "state": {
            "_dom_classes": [],
            "_model_module": "@jupyter-widgets/controls",
            "_model_module_version": "1.5.0",
            "_model_name": "HTMLModel",
            "_view_count": null,
            "_view_module": "@jupyter-widgets/controls",
            "_view_module_version": "1.5.0",
            "_view_name": "HTMLView",
            "description": "",
            "description_tooltip": null,
            "layout": "IPY_MODEL_5b438621ffc44a8e801c2f63797a1e1e",
            "placeholder": "​",
            "style": "IPY_MODEL_2f3445ec358c46409099d9b37e83aed9",
            "value": "Downloading: 100%"
          }
        },
        "87a18e8077b04455b19ed5b1f8bd86c6": {
          "model_module": "@jupyter-widgets/controls",
          "model_module_version": "1.5.0",
          "model_name": "HBoxModel",
          "state": {
            "_dom_classes": [],
            "_model_module": "@jupyter-widgets/controls",
            "_model_module_version": "1.5.0",
            "_model_name": "HBoxModel",
            "_view_count": null,
            "_view_module": "@jupyter-widgets/controls",
            "_view_module_version": "1.5.0",
            "_view_name": "HBoxView",
            "box_style": "",
            "children": [
              "IPY_MODEL_b731634911d64809af6651b57d971a32",
              "IPY_MODEL_0ac0c318d2744cd1be735055ca83cea1",
              "IPY_MODEL_983c76cceecd4c048aef529df56c1cd9"
            ],
            "layout": "IPY_MODEL_f23cc07a72d54dfd9067f5f10a46dcf7"
          }
        },
        "894365adde8b4f85bc66651fcef8c14e": {
          "model_module": "@jupyter-widgets/base",
          "model_module_version": "1.2.0",
          "model_name": "LayoutModel",
          "state": {
            "_model_module": "@jupyter-widgets/base",
            "_model_module_version": "1.2.0",
            "_model_name": "LayoutModel",
            "_view_count": null,
            "_view_module": "@jupyter-widgets/base",
            "_view_module_version": "1.2.0",
            "_view_name": "LayoutView",
            "align_content": null,
            "align_items": null,
            "align_self": null,
            "border": null,
            "bottom": null,
            "display": null,
            "flex": null,
            "flex_flow": null,
            "grid_area": null,
            "grid_auto_columns": null,
            "grid_auto_flow": null,
            "grid_auto_rows": null,
            "grid_column": null,
            "grid_gap": null,
            "grid_row": null,
            "grid_template_areas": null,
            "grid_template_columns": null,
            "grid_template_rows": null,
            "height": null,
            "justify_content": null,
            "justify_items": null,
            "left": null,
            "margin": null,
            "max_height": null,
            "max_width": null,
            "min_height": null,
            "min_width": null,
            "object_fit": null,
            "object_position": null,
            "order": null,
            "overflow": null,
            "overflow_x": null,
            "overflow_y": null,
            "padding": null,
            "right": null,
            "top": null,
            "visibility": null,
            "width": null
          }
        },
        "8a94534f5e3747009a7ec53713b1d585": {
          "model_module": "@jupyter-widgets/controls",
          "model_module_version": "1.5.0",
          "model_name": "HTMLModel",
          "state": {
            "_dom_classes": [],
            "_model_module": "@jupyter-widgets/controls",
            "_model_module_version": "1.5.0",
            "_model_name": "HTMLModel",
            "_view_count": null,
            "_view_module": "@jupyter-widgets/controls",
            "_view_module_version": "1.5.0",
            "_view_name": "HTMLView",
            "description": "",
            "description_tooltip": null,
            "layout": "IPY_MODEL_0096cb12eca44179ae7854ad4c6fb6d7",
            "placeholder": "​",
            "style": "IPY_MODEL_28d40d583ac8471aaa151023227ea549",
            "value": " 29.0/29.0 [00:00&lt;00:00, 600B/s]"
          }
        },
        "8ba81bf6eb784425ba26701fd933f09d": {
          "model_module": "@jupyter-widgets/controls",
          "model_module_version": "1.5.0",
          "model_name": "DescriptionStyleModel",
          "state": {
            "_model_module": "@jupyter-widgets/controls",
            "_model_module_version": "1.5.0",
            "_model_name": "DescriptionStyleModel",
            "_view_count": null,
            "_view_module": "@jupyter-widgets/base",
            "_view_module_version": "1.2.0",
            "_view_name": "StyleView",
            "description_width": ""
          }
        },
        "8c5fbd3fc85f4e97a76f3a34884da910": {
          "model_module": "@jupyter-widgets/controls",
          "model_module_version": "1.5.0",
          "model_name": "FloatProgressModel",
          "state": {
            "_dom_classes": [],
            "_model_module": "@jupyter-widgets/controls",
            "_model_module_version": "1.5.0",
            "_model_name": "FloatProgressModel",
            "_view_count": null,
            "_view_module": "@jupyter-widgets/controls",
            "_view_module_version": "1.5.0",
            "_view_name": "ProgressView",
            "bar_style": "success",
            "description": "",
            "description_tooltip": null,
            "layout": "IPY_MODEL_35e97d1fe7684b17835a3af31a06a87c",
            "max": 625,
            "min": 0,
            "orientation": "horizontal",
            "style": "IPY_MODEL_c6486d7aa2224fd08100e2150944771e",
            "value": 625
          }
        },
        "8f39124bc4594ce6b52bbc64f4b05e78": {
          "model_module": "@jupyter-widgets/controls",
          "model_module_version": "1.5.0",
          "model_name": "HTMLModel",
          "state": {
            "_dom_classes": [],
            "_model_module": "@jupyter-widgets/controls",
            "_model_module_version": "1.5.0",
            "_model_name": "HTMLModel",
            "_view_count": null,
            "_view_module": "@jupyter-widgets/controls",
            "_view_module_version": "1.5.0",
            "_view_name": "HTMLView",
            "description": "",
            "description_tooltip": null,
            "layout": "IPY_MODEL_151f679c9aac4eb580ff97ae7a074b1c",
            "placeholder": "​",
            "style": "IPY_MODEL_3b3c16b835d64f30bf056df32bf21cc8",
            "value": "Downloading: 100%"
          }
        },
        "8f8bb6fc3fb840bdb398172c5f123f06": {
          "model_module": "@jupyter-widgets/controls",
          "model_module_version": "1.5.0",
          "model_name": "HBoxModel",
          "state": {
            "_dom_classes": [],
            "_model_module": "@jupyter-widgets/controls",
            "_model_module_version": "1.5.0",
            "_model_name": "HBoxModel",
            "_view_count": null,
            "_view_module": "@jupyter-widgets/controls",
            "_view_module_version": "1.5.0",
            "_view_name": "HBoxView",
            "box_style": "",
            "children": [
              "IPY_MODEL_28d75596384c4b3c9f0b3e573cb01496",
              "IPY_MODEL_032fccc54f1f4d8587283772c04315c9",
              "IPY_MODEL_5912bee0f3d94d17b3232b56f29775a8"
            ],
            "layout": "IPY_MODEL_a71d99ff985b4d08ba8fb7284e5c8507"
          }
        },
        "983c76cceecd4c048aef529df56c1cd9": {
          "model_module": "@jupyter-widgets/controls",
          "model_module_version": "1.5.0",
          "model_name": "HTMLModel",
          "state": {
            "_dom_classes": [],
            "_model_module": "@jupyter-widgets/controls",
            "_model_module_version": "1.5.0",
            "_model_name": "HTMLModel",
            "_view_count": null,
            "_view_module": "@jupyter-widgets/controls",
            "_view_module_version": "1.5.0",
            "_view_name": "HTMLView",
            "description": "",
            "description_tooltip": null,
            "layout": "IPY_MODEL_79725acd72024f38b6180bd54239f1c6",
            "placeholder": "​",
            "style": "IPY_MODEL_c3ba46d95e7e4e9aa536f8f4c53e1cfa",
            "value": " 112/112 [00:00&lt;00:00, 2.75kB/s]"
          }
        },
        "98422127b14e4ed6ad77008116231aeb": {
          "model_module": "@jupyter-widgets/controls",
          "model_module_version": "1.5.0",
          "model_name": "HTMLModel",
          "state": {
            "_dom_classes": [],
            "_model_module": "@jupyter-widgets/controls",
            "_model_module_version": "1.5.0",
            "_model_name": "HTMLModel",
            "_view_count": null,
            "_view_module": "@jupyter-widgets/controls",
            "_view_module_version": "1.5.0",
            "_view_name": "HTMLView",
            "description": "",
            "description_tooltip": null,
            "layout": "IPY_MODEL_62b19bdbded0446c8c9c442f9dac7e16",
            "placeholder": "​",
            "style": "IPY_MODEL_6668fd4e0ae6489bb978453c175d8a8c",
            "value": " 625/625 [00:00&lt;00:00, 15.7kB/s]"
          }
        },
        "98425d28cc534ede8f13104538756d3d": {
          "model_module": "@jupyter-widgets/controls",
          "model_module_version": "1.5.0",
          "model_name": "ProgressStyleModel",
          "state": {
            "_model_module": "@jupyter-widgets/controls",
            "_model_module_version": "1.5.0",
            "_model_name": "ProgressStyleModel",
            "_view_count": null,
            "_view_module": "@jupyter-widgets/base",
            "_view_module_version": "1.2.0",
            "_view_name": "StyleView",
            "bar_color": null,
            "description_width": ""
          }
        },
        "9e8c8dbb01d04600b39621a29a8062e1": {
          "model_module": "@jupyter-widgets/controls",
          "model_module_version": "1.5.0",
          "model_name": "DescriptionStyleModel",
          "state": {
            "_model_module": "@jupyter-widgets/controls",
            "_model_module_version": "1.5.0",
            "_model_name": "DescriptionStyleModel",
            "_view_count": null,
            "_view_module": "@jupyter-widgets/base",
            "_view_module_version": "1.2.0",
            "_view_name": "StyleView",
            "description_width": ""
          }
        },
        "9f24f354152a427caa257fc296690b6a": {
          "model_module": "@jupyter-widgets/controls",
          "model_module_version": "1.5.0",
          "model_name": "HTMLModel",
          "state": {
            "_dom_classes": [],
            "_model_module": "@jupyter-widgets/controls",
            "_model_module_version": "1.5.0",
            "_model_name": "HTMLModel",
            "_view_count": null,
            "_view_module": "@jupyter-widgets/controls",
            "_view_module_version": "1.5.0",
            "_view_name": "HTMLView",
            "description": "",
            "description_tooltip": null,
            "layout": "IPY_MODEL_605ba181a317462498be9d29f9892c46",
            "placeholder": "​",
            "style": "IPY_MODEL_a52dff732e6b49b287d85bec0067cf28",
            "value": " 413M/413M [00:15&lt;00:00, 29.1MB/s]"
          }
        },
        "a52dff732e6b49b287d85bec0067cf28": {
          "model_module": "@jupyter-widgets/controls",
          "model_module_version": "1.5.0",
          "model_name": "DescriptionStyleModel",
          "state": {
            "_model_module": "@jupyter-widgets/controls",
            "_model_module_version": "1.5.0",
            "_model_name": "DescriptionStyleModel",
            "_view_count": null,
            "_view_module": "@jupyter-widgets/base",
            "_view_module_version": "1.2.0",
            "_view_name": "StyleView",
            "description_width": ""
          }
        },
        "a71d99ff985b4d08ba8fb7284e5c8507": {
          "model_module": "@jupyter-widgets/base",
          "model_module_version": "1.2.0",
          "model_name": "LayoutModel",
          "state": {
            "_model_module": "@jupyter-widgets/base",
            "_model_module_version": "1.2.0",
            "_model_name": "LayoutModel",
            "_view_count": null,
            "_view_module": "@jupyter-widgets/base",
            "_view_module_version": "1.2.0",
            "_view_name": "LayoutView",
            "align_content": null,
            "align_items": null,
            "align_self": null,
            "border": null,
            "bottom": null,
            "display": null,
            "flex": null,
            "flex_flow": null,
            "grid_area": null,
            "grid_auto_columns": null,
            "grid_auto_flow": null,
            "grid_auto_rows": null,
            "grid_column": null,
            "grid_gap": null,
            "grid_row": null,
            "grid_template_areas": null,
            "grid_template_columns": null,
            "grid_template_rows": null,
            "height": null,
            "justify_content": null,
            "justify_items": null,
            "left": null,
            "margin": null,
            "max_height": null,
            "max_width": null,
            "min_height": null,
            "min_width": null,
            "object_fit": null,
            "object_position": null,
            "order": null,
            "overflow": null,
            "overflow_x": null,
            "overflow_y": null,
            "padding": null,
            "right": null,
            "top": null,
            "visibility": null,
            "width": null
          }
        },
        "ac63aee2d2824e689483c76e1f06ce02": {
          "model_module": "@jupyter-widgets/controls",
          "model_module_version": "1.5.0",
          "model_name": "FloatProgressModel",
          "state": {
            "_dom_classes": [],
            "_model_module": "@jupyter-widgets/controls",
            "_model_module_version": "1.5.0",
            "_model_name": "FloatProgressModel",
            "_view_count": null,
            "_view_module": "@jupyter-widgets/controls",
            "_view_module_version": "1.5.0",
            "_view_name": "ProgressView",
            "bar_style": "success",
            "description": "",
            "description_tooltip": null,
            "layout": "IPY_MODEL_16b35e37d5674ac88494afca68e83da8",
            "max": 433294681,
            "min": 0,
            "orientation": "horizontal",
            "style": "IPY_MODEL_38d6683429674657a91602bb7fe6ca3a",
            "value": 433294681
          }
        },
        "ad1abe817f6946c78b3846881626d46e": {
          "model_module": "@jupyter-widgets/base",
          "model_module_version": "1.2.0",
          "model_name": "LayoutModel",
          "state": {
            "_model_module": "@jupyter-widgets/base",
            "_model_module_version": "1.2.0",
            "_model_name": "LayoutModel",
            "_view_count": null,
            "_view_module": "@jupyter-widgets/base",
            "_view_module_version": "1.2.0",
            "_view_name": "LayoutView",
            "align_content": null,
            "align_items": null,
            "align_self": null,
            "border": null,
            "bottom": null,
            "display": null,
            "flex": null,
            "flex_flow": null,
            "grid_area": null,
            "grid_auto_columns": null,
            "grid_auto_flow": null,
            "grid_auto_rows": null,
            "grid_column": null,
            "grid_gap": null,
            "grid_row": null,
            "grid_template_areas": null,
            "grid_template_columns": null,
            "grid_template_rows": null,
            "height": null,
            "justify_content": null,
            "justify_items": null,
            "left": null,
            "margin": null,
            "max_height": null,
            "max_width": null,
            "min_height": null,
            "min_width": null,
            "object_fit": null,
            "object_position": null,
            "order": null,
            "overflow": null,
            "overflow_x": null,
            "overflow_y": null,
            "padding": null,
            "right": null,
            "top": null,
            "visibility": null,
            "width": null
          }
        },
        "aeba83a40c5941aa8c40f04fa62c9c5d": {
          "model_module": "@jupyter-widgets/base",
          "model_module_version": "1.2.0",
          "model_name": "LayoutModel",
          "state": {
            "_model_module": "@jupyter-widgets/base",
            "_model_module_version": "1.2.0",
            "_model_name": "LayoutModel",
            "_view_count": null,
            "_view_module": "@jupyter-widgets/base",
            "_view_module_version": "1.2.0",
            "_view_name": "LayoutView",
            "align_content": null,
            "align_items": null,
            "align_self": null,
            "border": null,
            "bottom": null,
            "display": null,
            "flex": null,
            "flex_flow": null,
            "grid_area": null,
            "grid_auto_columns": null,
            "grid_auto_flow": null,
            "grid_auto_rows": null,
            "grid_column": null,
            "grid_gap": null,
            "grid_row": null,
            "grid_template_areas": null,
            "grid_template_columns": null,
            "grid_template_rows": null,
            "height": null,
            "justify_content": null,
            "justify_items": null,
            "left": null,
            "margin": null,
            "max_height": null,
            "max_width": null,
            "min_height": null,
            "min_width": null,
            "object_fit": null,
            "object_position": null,
            "order": null,
            "overflow": null,
            "overflow_x": null,
            "overflow_y": null,
            "padding": null,
            "right": null,
            "top": null,
            "visibility": null,
            "width": null
          }
        },
        "b025b65240024fddade87a0a3bf197c4": {
          "model_module": "@jupyter-widgets/base",
          "model_module_version": "1.2.0",
          "model_name": "LayoutModel",
          "state": {
            "_model_module": "@jupyter-widgets/base",
            "_model_module_version": "1.2.0",
            "_model_name": "LayoutModel",
            "_view_count": null,
            "_view_module": "@jupyter-widgets/base",
            "_view_module_version": "1.2.0",
            "_view_name": "LayoutView",
            "align_content": null,
            "align_items": null,
            "align_self": null,
            "border": null,
            "bottom": null,
            "display": null,
            "flex": null,
            "flex_flow": null,
            "grid_area": null,
            "grid_auto_columns": null,
            "grid_auto_flow": null,
            "grid_auto_rows": null,
            "grid_column": null,
            "grid_gap": null,
            "grid_row": null,
            "grid_template_areas": null,
            "grid_template_columns": null,
            "grid_template_rows": null,
            "height": null,
            "justify_content": null,
            "justify_items": null,
            "left": null,
            "margin": null,
            "max_height": null,
            "max_width": null,
            "min_height": null,
            "min_width": null,
            "object_fit": null,
            "object_position": null,
            "order": null,
            "overflow": null,
            "overflow_x": null,
            "overflow_y": null,
            "padding": null,
            "right": null,
            "top": null,
            "visibility": null,
            "width": null
          }
        },
        "b15bed4a578745368be75e63fbeee602": {
          "model_module": "@jupyter-widgets/base",
          "model_module_version": "1.2.0",
          "model_name": "LayoutModel",
          "state": {
            "_model_module": "@jupyter-widgets/base",
            "_model_module_version": "1.2.0",
            "_model_name": "LayoutModel",
            "_view_count": null,
            "_view_module": "@jupyter-widgets/base",
            "_view_module_version": "1.2.0",
            "_view_name": "LayoutView",
            "align_content": null,
            "align_items": null,
            "align_self": null,
            "border": null,
            "bottom": null,
            "display": null,
            "flex": null,
            "flex_flow": null,
            "grid_area": null,
            "grid_auto_columns": null,
            "grid_auto_flow": null,
            "grid_auto_rows": null,
            "grid_column": null,
            "grid_gap": null,
            "grid_row": null,
            "grid_template_areas": null,
            "grid_template_columns": null,
            "grid_template_rows": null,
            "height": null,
            "justify_content": null,
            "justify_items": null,
            "left": null,
            "margin": null,
            "max_height": null,
            "max_width": null,
            "min_height": null,
            "min_width": null,
            "object_fit": null,
            "object_position": null,
            "order": null,
            "overflow": null,
            "overflow_x": null,
            "overflow_y": null,
            "padding": null,
            "right": null,
            "top": null,
            "visibility": null,
            "width": null
          }
        },
        "b40375c56aed4c0da0a6f2417320a229": {
          "model_module": "@jupyter-widgets/controls",
          "model_module_version": "1.5.0",
          "model_name": "DescriptionStyleModel",
          "state": {
            "_model_module": "@jupyter-widgets/controls",
            "_model_module_version": "1.5.0",
            "_model_name": "DescriptionStyleModel",
            "_view_count": null,
            "_view_module": "@jupyter-widgets/base",
            "_view_module_version": "1.2.0",
            "_view_name": "StyleView",
            "description_width": ""
          }
        },
        "b58d9cb1d3da4bbaa3f77aac4b4f09c9": {
          "model_module": "@jupyter-widgets/controls",
          "model_module_version": "1.5.0",
          "model_name": "DescriptionStyleModel",
          "state": {
            "_model_module": "@jupyter-widgets/controls",
            "_model_module_version": "1.5.0",
            "_model_name": "DescriptionStyleModel",
            "_view_count": null,
            "_view_module": "@jupyter-widgets/base",
            "_view_module_version": "1.2.0",
            "_view_name": "StyleView",
            "description_width": ""
          }
        },
        "b605426581dc40798c109ef3eb71693d": {
          "model_module": "@jupyter-widgets/base",
          "model_module_version": "1.2.0",
          "model_name": "LayoutModel",
          "state": {
            "_model_module": "@jupyter-widgets/base",
            "_model_module_version": "1.2.0",
            "_model_name": "LayoutModel",
            "_view_count": null,
            "_view_module": "@jupyter-widgets/base",
            "_view_module_version": "1.2.0",
            "_view_name": "LayoutView",
            "align_content": null,
            "align_items": null,
            "align_self": null,
            "border": null,
            "bottom": null,
            "display": null,
            "flex": null,
            "flex_flow": null,
            "grid_area": null,
            "grid_auto_columns": null,
            "grid_auto_flow": null,
            "grid_auto_rows": null,
            "grid_column": null,
            "grid_gap": null,
            "grid_row": null,
            "grid_template_areas": null,
            "grid_template_columns": null,
            "grid_template_rows": null,
            "height": null,
            "justify_content": null,
            "justify_items": null,
            "left": null,
            "margin": null,
            "max_height": null,
            "max_width": null,
            "min_height": null,
            "min_width": null,
            "object_fit": null,
            "object_position": null,
            "order": null,
            "overflow": null,
            "overflow_x": null,
            "overflow_y": null,
            "padding": null,
            "right": null,
            "top": null,
            "visibility": null,
            "width": null
          }
        },
        "b6a598256935442da5b827e4292d0216": {
          "model_module": "@jupyter-widgets/base",
          "model_module_version": "1.2.0",
          "model_name": "LayoutModel",
          "state": {
            "_model_module": "@jupyter-widgets/base",
            "_model_module_version": "1.2.0",
            "_model_name": "LayoutModel",
            "_view_count": null,
            "_view_module": "@jupyter-widgets/base",
            "_view_module_version": "1.2.0",
            "_view_name": "LayoutView",
            "align_content": null,
            "align_items": null,
            "align_self": null,
            "border": null,
            "bottom": null,
            "display": null,
            "flex": null,
            "flex_flow": null,
            "grid_area": null,
            "grid_auto_columns": null,
            "grid_auto_flow": null,
            "grid_auto_rows": null,
            "grid_column": null,
            "grid_gap": null,
            "grid_row": null,
            "grid_template_areas": null,
            "grid_template_columns": null,
            "grid_template_rows": null,
            "height": null,
            "justify_content": null,
            "justify_items": null,
            "left": null,
            "margin": null,
            "max_height": null,
            "max_width": null,
            "min_height": null,
            "min_width": null,
            "object_fit": null,
            "object_position": null,
            "order": null,
            "overflow": null,
            "overflow_x": null,
            "overflow_y": null,
            "padding": null,
            "right": null,
            "top": null,
            "visibility": null,
            "width": null
          }
        },
        "b731634911d64809af6651b57d971a32": {
          "model_module": "@jupyter-widgets/controls",
          "model_module_version": "1.5.0",
          "model_name": "HTMLModel",
          "state": {
            "_dom_classes": [],
            "_model_module": "@jupyter-widgets/controls",
            "_model_module_version": "1.5.0",
            "_model_name": "HTMLModel",
            "_view_count": null,
            "_view_module": "@jupyter-widgets/controls",
            "_view_module_version": "1.5.0",
            "_view_name": "HTMLView",
            "description": "",
            "description_tooltip": null,
            "layout": "IPY_MODEL_41c58b05fbb9410a8b268333acc8d85f",
            "placeholder": "​",
            "style": "IPY_MODEL_497efb230c1e4b688a0ad09888d4ae83",
            "value": "Downloading: 100%"
          }
        },
        "b81dfcfca8a949598c8d9bf08f3e737d": {
          "model_module": "@jupyter-widgets/base",
          "model_module_version": "1.2.0",
          "model_name": "LayoutModel",
          "state": {
            "_model_module": "@jupyter-widgets/base",
            "_model_module_version": "1.2.0",
            "_model_name": "LayoutModel",
            "_view_count": null,
            "_view_module": "@jupyter-widgets/base",
            "_view_module_version": "1.2.0",
            "_view_name": "LayoutView",
            "align_content": null,
            "align_items": null,
            "align_self": null,
            "border": null,
            "bottom": null,
            "display": null,
            "flex": null,
            "flex_flow": null,
            "grid_area": null,
            "grid_auto_columns": null,
            "grid_auto_flow": null,
            "grid_auto_rows": null,
            "grid_column": null,
            "grid_gap": null,
            "grid_row": null,
            "grid_template_areas": null,
            "grid_template_columns": null,
            "grid_template_rows": null,
            "height": null,
            "justify_content": null,
            "justify_items": null,
            "left": null,
            "margin": null,
            "max_height": null,
            "max_width": null,
            "min_height": null,
            "min_width": null,
            "object_fit": null,
            "object_position": null,
            "order": null,
            "overflow": null,
            "overflow_x": null,
            "overflow_y": null,
            "padding": null,
            "right": null,
            "top": null,
            "visibility": null,
            "width": null
          }
        },
        "b92c9e02bff8423f874c51d75dbdcb26": {
          "model_module": "@jupyter-widgets/controls",
          "model_module_version": "1.5.0",
          "model_name": "DescriptionStyleModel",
          "state": {
            "_model_module": "@jupyter-widgets/controls",
            "_model_module_version": "1.5.0",
            "_model_name": "DescriptionStyleModel",
            "_view_count": null,
            "_view_module": "@jupyter-widgets/base",
            "_view_module_version": "1.2.0",
            "_view_name": "StyleView",
            "description_width": ""
          }
        },
        "be63e8c6bfb34f04bd7b242da53a987b": {
          "model_module": "@jupyter-widgets/controls",
          "model_module_version": "1.5.0",
          "model_name": "HTMLModel",
          "state": {
            "_dom_classes": [],
            "_model_module": "@jupyter-widgets/controls",
            "_model_module_version": "1.5.0",
            "_model_name": "HTMLModel",
            "_view_count": null,
            "_view_module": "@jupyter-widgets/controls",
            "_view_module_version": "1.5.0",
            "_view_name": "HTMLView",
            "description": "",
            "description_tooltip": null,
            "layout": "IPY_MODEL_d34f5de3fc9a4172a15b982f17921746",
            "placeholder": "​",
            "style": "IPY_MODEL_ede9e4d9472747cb8c240372339adf40",
            "value": "Downloading: 100%"
          }
        },
        "c3ba46d95e7e4e9aa536f8f4c53e1cfa": {
          "model_module": "@jupyter-widgets/controls",
          "model_module_version": "1.5.0",
          "model_name": "DescriptionStyleModel",
          "state": {
            "_model_module": "@jupyter-widgets/controls",
            "_model_module_version": "1.5.0",
            "_model_name": "DescriptionStyleModel",
            "_view_count": null,
            "_view_module": "@jupyter-widgets/base",
            "_view_module_version": "1.2.0",
            "_view_name": "StyleView",
            "description_width": ""
          }
        },
        "c6486d7aa2224fd08100e2150944771e": {
          "model_module": "@jupyter-widgets/controls",
          "model_module_version": "1.5.0",
          "model_name": "ProgressStyleModel",
          "state": {
            "_model_module": "@jupyter-widgets/controls",
            "_model_module_version": "1.5.0",
            "_model_name": "ProgressStyleModel",
            "_view_count": null,
            "_view_module": "@jupyter-widgets/base",
            "_view_module_version": "1.2.0",
            "_view_name": "StyleView",
            "bar_color": null,
            "description_width": ""
          }
        },
        "c89450b20a4e4756b27c7df2a1b62ed7": {
          "model_module": "@jupyter-widgets/controls",
          "model_module_version": "1.5.0",
          "model_name": "FloatProgressModel",
          "state": {
            "_dom_classes": [],
            "_model_module": "@jupyter-widgets/controls",
            "_model_module_version": "1.5.0",
            "_model_name": "FloatProgressModel",
            "_view_count": null,
            "_view_module": "@jupyter-widgets/controls",
            "_view_module_version": "1.5.0",
            "_view_name": "ProgressView",
            "bar_style": "success",
            "description": "",
            "description_tooltip": null,
            "layout": "IPY_MODEL_b025b65240024fddade87a0a3bf197c4",
            "max": 714314041,
            "min": 0,
            "orientation": "horizontal",
            "style": "IPY_MODEL_03b6dce9f49944659c0bacf41ab691ad",
            "value": 714314041
          }
        },
        "cedf226764a043ceb0fbb106b3ee939a": {
          "model_module": "@jupyter-widgets/controls",
          "model_module_version": "1.5.0",
          "model_name": "HBoxModel",
          "state": {
            "_dom_classes": [],
            "_model_module": "@jupyter-widgets/controls",
            "_model_module_version": "1.5.0",
            "_model_name": "HBoxModel",
            "_view_count": null,
            "_view_module": "@jupyter-widgets/controls",
            "_view_module_version": "1.5.0",
            "_view_name": "HBoxView",
            "box_style": "",
            "children": [
              "IPY_MODEL_be63e8c6bfb34f04bd7b242da53a987b",
              "IPY_MODEL_fa07ceffc834457ba7d0bb50f851623d",
              "IPY_MODEL_4218605d81484a3c9a9cd1db53623c1a"
            ],
            "layout": "IPY_MODEL_0a453564d80343a4a3f153d432877fb7"
          }
        },
        "d34f5de3fc9a4172a15b982f17921746": {
          "model_module": "@jupyter-widgets/base",
          "model_module_version": "1.2.0",
          "model_name": "LayoutModel",
          "state": {
            "_model_module": "@jupyter-widgets/base",
            "_model_module_version": "1.2.0",
            "_model_name": "LayoutModel",
            "_view_count": null,
            "_view_module": "@jupyter-widgets/base",
            "_view_module_version": "1.2.0",
            "_view_name": "LayoutView",
            "align_content": null,
            "align_items": null,
            "align_self": null,
            "border": null,
            "bottom": null,
            "display": null,
            "flex": null,
            "flex_flow": null,
            "grid_area": null,
            "grid_auto_columns": null,
            "grid_auto_flow": null,
            "grid_auto_rows": null,
            "grid_column": null,
            "grid_gap": null,
            "grid_row": null,
            "grid_template_areas": null,
            "grid_template_columns": null,
            "grid_template_rows": null,
            "height": null,
            "justify_content": null,
            "justify_items": null,
            "left": null,
            "margin": null,
            "max_height": null,
            "max_width": null,
            "min_height": null,
            "min_width": null,
            "object_fit": null,
            "object_position": null,
            "order": null,
            "overflow": null,
            "overflow_x": null,
            "overflow_y": null,
            "padding": null,
            "right": null,
            "top": null,
            "visibility": null,
            "width": null
          }
        },
        "d50478b5b69e4903857b19b15411ffea": {
          "model_module": "@jupyter-widgets/base",
          "model_module_version": "1.2.0",
          "model_name": "LayoutModel",
          "state": {
            "_model_module": "@jupyter-widgets/base",
            "_model_module_version": "1.2.0",
            "_model_name": "LayoutModel",
            "_view_count": null,
            "_view_module": "@jupyter-widgets/base",
            "_view_module_version": "1.2.0",
            "_view_name": "LayoutView",
            "align_content": null,
            "align_items": null,
            "align_self": null,
            "border": null,
            "bottom": null,
            "display": null,
            "flex": null,
            "flex_flow": null,
            "grid_area": null,
            "grid_auto_columns": null,
            "grid_auto_flow": null,
            "grid_auto_rows": null,
            "grid_column": null,
            "grid_gap": null,
            "grid_row": null,
            "grid_template_areas": null,
            "grid_template_columns": null,
            "grid_template_rows": null,
            "height": null,
            "justify_content": null,
            "justify_items": null,
            "left": null,
            "margin": null,
            "max_height": null,
            "max_width": null,
            "min_height": null,
            "min_width": null,
            "object_fit": null,
            "object_position": null,
            "order": null,
            "overflow": null,
            "overflow_x": null,
            "overflow_y": null,
            "padding": null,
            "right": null,
            "top": null,
            "visibility": null,
            "width": null
          }
        },
        "d7b9ec33dd1949e9bc47bbb64a7e3fe9": {
          "model_module": "@jupyter-widgets/controls",
          "model_module_version": "1.5.0",
          "model_name": "HBoxModel",
          "state": {
            "_dom_classes": [],
            "_model_module": "@jupyter-widgets/controls",
            "_model_module_version": "1.5.0",
            "_model_name": "HBoxModel",
            "_view_count": null,
            "_view_module": "@jupyter-widgets/controls",
            "_view_module_version": "1.5.0",
            "_view_name": "HBoxView",
            "box_style": "",
            "children": [
              "IPY_MODEL_8627c99244a9408ba119dce350b0c284",
              "IPY_MODEL_ac63aee2d2824e689483c76e1f06ce02",
              "IPY_MODEL_9f24f354152a427caa257fc296690b6a"
            ],
            "layout": "IPY_MODEL_78de8de0517f4140bced57cdfead77ca"
          }
        },
        "d8df44f16bde4cfba16427df69a24b12": {
          "model_module": "@jupyter-widgets/base",
          "model_module_version": "1.2.0",
          "model_name": "LayoutModel",
          "state": {
            "_model_module": "@jupyter-widgets/base",
            "_model_module_version": "1.2.0",
            "_model_name": "LayoutModel",
            "_view_count": null,
            "_view_module": "@jupyter-widgets/base",
            "_view_module_version": "1.2.0",
            "_view_name": "LayoutView",
            "align_content": null,
            "align_items": null,
            "align_self": null,
            "border": null,
            "bottom": null,
            "display": null,
            "flex": null,
            "flex_flow": null,
            "grid_area": null,
            "grid_auto_columns": null,
            "grid_auto_flow": null,
            "grid_auto_rows": null,
            "grid_column": null,
            "grid_gap": null,
            "grid_row": null,
            "grid_template_areas": null,
            "grid_template_columns": null,
            "grid_template_rows": null,
            "height": null,
            "justify_content": null,
            "justify_items": null,
            "left": null,
            "margin": null,
            "max_height": null,
            "max_width": null,
            "min_height": null,
            "min_width": null,
            "object_fit": null,
            "object_position": null,
            "order": null,
            "overflow": null,
            "overflow_x": null,
            "overflow_y": null,
            "padding": null,
            "right": null,
            "top": null,
            "visibility": null,
            "width": null
          }
        },
        "dd3edb0990ce44438c073b2f75d196a5": {
          "model_module": "@jupyter-widgets/base",
          "model_module_version": "1.2.0",
          "model_name": "LayoutModel",
          "state": {
            "_model_module": "@jupyter-widgets/base",
            "_model_module_version": "1.2.0",
            "_model_name": "LayoutModel",
            "_view_count": null,
            "_view_module": "@jupyter-widgets/base",
            "_view_module_version": "1.2.0",
            "_view_name": "LayoutView",
            "align_content": null,
            "align_items": null,
            "align_self": null,
            "border": null,
            "bottom": null,
            "display": null,
            "flex": null,
            "flex_flow": null,
            "grid_area": null,
            "grid_auto_columns": null,
            "grid_auto_flow": null,
            "grid_auto_rows": null,
            "grid_column": null,
            "grid_gap": null,
            "grid_row": null,
            "grid_template_areas": null,
            "grid_template_columns": null,
            "grid_template_rows": null,
            "height": null,
            "justify_content": null,
            "justify_items": null,
            "left": null,
            "margin": null,
            "max_height": null,
            "max_width": null,
            "min_height": null,
            "min_width": null,
            "object_fit": null,
            "object_position": null,
            "order": null,
            "overflow": null,
            "overflow_x": null,
            "overflow_y": null,
            "padding": null,
            "right": null,
            "top": null,
            "visibility": null,
            "width": null
          }
        },
        "df493fab2dba4440a19728dd0f968a2e": {
          "model_module": "@jupyter-widgets/controls",
          "model_module_version": "1.5.0",
          "model_name": "HTMLModel",
          "state": {
            "_dom_classes": [],
            "_model_module": "@jupyter-widgets/controls",
            "_model_module_version": "1.5.0",
            "_model_name": "HTMLModel",
            "_view_count": null,
            "_view_module": "@jupyter-widgets/controls",
            "_view_module_version": "1.5.0",
            "_view_name": "HTMLView",
            "description": "",
            "description_tooltip": null,
            "layout": "IPY_MODEL_e0a1263bfec74e63ab75b3ca95c009aa",
            "placeholder": "​",
            "style": "IPY_MODEL_b92c9e02bff8423f874c51d75dbdcb26",
            "value": "Downloading: 100%"
          }
        },
        "e0a1263bfec74e63ab75b3ca95c009aa": {
          "model_module": "@jupyter-widgets/base",
          "model_module_version": "1.2.0",
          "model_name": "LayoutModel",
          "state": {
            "_model_module": "@jupyter-widgets/base",
            "_model_module_version": "1.2.0",
            "_model_name": "LayoutModel",
            "_view_count": null,
            "_view_module": "@jupyter-widgets/base",
            "_view_module_version": "1.2.0",
            "_view_name": "LayoutView",
            "align_content": null,
            "align_items": null,
            "align_self": null,
            "border": null,
            "bottom": null,
            "display": null,
            "flex": null,
            "flex_flow": null,
            "grid_area": null,
            "grid_auto_columns": null,
            "grid_auto_flow": null,
            "grid_auto_rows": null,
            "grid_column": null,
            "grid_gap": null,
            "grid_row": null,
            "grid_template_areas": null,
            "grid_template_columns": null,
            "grid_template_rows": null,
            "height": null,
            "justify_content": null,
            "justify_items": null,
            "left": null,
            "margin": null,
            "max_height": null,
            "max_width": null,
            "min_height": null,
            "min_width": null,
            "object_fit": null,
            "object_position": null,
            "order": null,
            "overflow": null,
            "overflow_x": null,
            "overflow_y": null,
            "padding": null,
            "right": null,
            "top": null,
            "visibility": null,
            "width": null
          }
        },
        "eb291d0d8c554f8baba3141f03e54772": {
          "model_module": "@jupyter-widgets/controls",
          "model_module_version": "1.5.0",
          "model_name": "HBoxModel",
          "state": {
            "_dom_classes": [],
            "_model_module": "@jupyter-widgets/controls",
            "_model_module_version": "1.5.0",
            "_model_name": "HBoxModel",
            "_view_count": null,
            "_view_module": "@jupyter-widgets/controls",
            "_view_module_version": "1.5.0",
            "_view_name": "HBoxView",
            "box_style": "",
            "children": [
              "IPY_MODEL_220fe892e32a4158bca3ef17ccd5b1c9",
              "IPY_MODEL_0c6a86b88df44c9e99822956dc3210a2",
              "IPY_MODEL_3272fcf30d16470694e4ea19fa505bac"
            ],
            "layout": "IPY_MODEL_dd3edb0990ce44438c073b2f75d196a5"
          }
        },
        "ede9e4d9472747cb8c240372339adf40": {
          "model_module": "@jupyter-widgets/controls",
          "model_module_version": "1.5.0",
          "model_name": "DescriptionStyleModel",
          "state": {
            "_model_module": "@jupyter-widgets/controls",
            "_model_module_version": "1.5.0",
            "_model_name": "DescriptionStyleModel",
            "_view_count": null,
            "_view_module": "@jupyter-widgets/base",
            "_view_module_version": "1.2.0",
            "_view_name": "StyleView",
            "description_width": ""
          }
        },
        "f23cc07a72d54dfd9067f5f10a46dcf7": {
          "model_module": "@jupyter-widgets/base",
          "model_module_version": "1.2.0",
          "model_name": "LayoutModel",
          "state": {
            "_model_module": "@jupyter-widgets/base",
            "_model_module_version": "1.2.0",
            "_model_name": "LayoutModel",
            "_view_count": null,
            "_view_module": "@jupyter-widgets/base",
            "_view_module_version": "1.2.0",
            "_view_name": "LayoutView",
            "align_content": null,
            "align_items": null,
            "align_self": null,
            "border": null,
            "bottom": null,
            "display": null,
            "flex": null,
            "flex_flow": null,
            "grid_area": null,
            "grid_auto_columns": null,
            "grid_auto_flow": null,
            "grid_auto_rows": null,
            "grid_column": null,
            "grid_gap": null,
            "grid_row": null,
            "grid_template_areas": null,
            "grid_template_columns": null,
            "grid_template_rows": null,
            "height": null,
            "justify_content": null,
            "justify_items": null,
            "left": null,
            "margin": null,
            "max_height": null,
            "max_width": null,
            "min_height": null,
            "min_width": null,
            "object_fit": null,
            "object_position": null,
            "order": null,
            "overflow": null,
            "overflow_x": null,
            "overflow_y": null,
            "padding": null,
            "right": null,
            "top": null,
            "visibility": null,
            "width": null
          }
        },
        "f7acc56b14274d69b75de8dba49ced33": {
          "model_module": "@jupyter-widgets/controls",
          "model_module_version": "1.5.0",
          "model_name": "ProgressStyleModel",
          "state": {
            "_model_module": "@jupyter-widgets/controls",
            "_model_module_version": "1.5.0",
            "_model_name": "ProgressStyleModel",
            "_view_count": null,
            "_view_module": "@jupyter-widgets/base",
            "_view_module_version": "1.2.0",
            "_view_name": "StyleView",
            "bar_color": null,
            "description_width": ""
          }
        },
        "f7b97b5048b84160ad471e2c266aca57": {
          "model_module": "@jupyter-widgets/controls",
          "model_module_version": "1.5.0",
          "model_name": "FloatProgressModel",
          "state": {
            "_dom_classes": [],
            "_model_module": "@jupyter-widgets/controls",
            "_model_module_version": "1.5.0",
            "_model_name": "FloatProgressModel",
            "_view_count": null,
            "_view_module": "@jupyter-widgets/controls",
            "_view_module_version": "1.5.0",
            "_view_name": "ProgressView",
            "bar_style": "success",
            "description": "",
            "description_tooltip": null,
            "layout": "IPY_MODEL_d50478b5b69e4903857b19b15411ffea",
            "max": 29,
            "min": 0,
            "orientation": "horizontal",
            "style": "IPY_MODEL_f8d6f9ee4674457ab1ec58d67e5fb580",
            "value": 29
          }
        },
        "f8d6f9ee4674457ab1ec58d67e5fb580": {
          "model_module": "@jupyter-widgets/controls",
          "model_module_version": "1.5.0",
          "model_name": "ProgressStyleModel",
          "state": {
            "_model_module": "@jupyter-widgets/controls",
            "_model_module_version": "1.5.0",
            "_model_name": "ProgressStyleModel",
            "_view_count": null,
            "_view_module": "@jupyter-widgets/base",
            "_view_module_version": "1.2.0",
            "_view_name": "StyleView",
            "bar_color": null,
            "description_width": ""
          }
        },
        "f94292da9d674e12a762b649b17854c7": {
          "model_module": "@jupyter-widgets/controls",
          "model_module_version": "1.5.0",
          "model_name": "HTMLModel",
          "state": {
            "_dom_classes": [],
            "_model_module": "@jupyter-widgets/controls",
            "_model_module_version": "1.5.0",
            "_model_name": "HTMLModel",
            "_view_count": null,
            "_view_module": "@jupyter-widgets/controls",
            "_view_module_version": "1.5.0",
            "_view_name": "HTMLView",
            "description": "",
            "description_tooltip": null,
            "layout": "IPY_MODEL_1a8f8de84e7c423cbd0b2911e7b61551",
            "placeholder": "​",
            "style": "IPY_MODEL_b40375c56aed4c0da0a6f2417320a229",
            "value": " 1.87M/1.87M [00:00&lt;00:00, 5.73MB/s]"
          }
        },
        "fa07ceffc834457ba7d0bb50f851623d": {
          "model_module": "@jupyter-widgets/controls",
          "model_module_version": "1.5.0",
          "model_name": "FloatProgressModel",
          "state": {
            "_dom_classes": [],
            "_model_module": "@jupyter-widgets/controls",
            "_model_module_version": "1.5.0",
            "_model_name": "FloatProgressModel",
            "_view_count": null,
            "_view_module": "@jupyter-widgets/controls",
            "_view_module_version": "1.5.0",
            "_view_name": "ProgressView",
            "bar_style": "success",
            "description": "",
            "description_tooltip": null,
            "layout": "IPY_MODEL_13c8a79be7a34ecf854e39d7c843cd2d",
            "max": 995526,
            "min": 0,
            "orientation": "horizontal",
            "style": "IPY_MODEL_98425d28cc534ede8f13104538756d3d",
            "value": 995526
          }
        }
      }
    }
  },
  "nbformat": 4,
  "nbformat_minor": 0
}