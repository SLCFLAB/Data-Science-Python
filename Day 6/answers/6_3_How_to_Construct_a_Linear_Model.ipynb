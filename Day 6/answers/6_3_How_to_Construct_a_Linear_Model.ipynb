{
  "cells": [
    {
      "cell_type": "markdown",
      "metadata": {
        "id": "5c7a15f6"
      },
      "source": [
        "<a href=\"https://colab.research.google.com/github/SLCFLAB/Data-Science-Python/blob/main/Day%206/6_3.%20How%20to%20Construct%20a%20Linear%20Model.ipynb\" target=\"_parent\"><img src=\"https://colab.research.google.com/assets/colab-badge.svg\" alt=\"Open In Colab\"/></a>"
      ]
    },
    {
      "cell_type": "markdown",
      "metadata": {
        "id": "q0d67KhOY_LX"
      },
      "source": [
        "ref: https://github.com/Harry24k/Pytorch-Basic"
      ]
    },
    {
      "cell_type": "markdown",
      "metadata": {
        "id": "JXAEzpFPY_LX"
      },
      "source": [
        "# 3. How to Construct a Linear Model"
      ]
    },
    {
      "cell_type": "code",
      "execution_count": 1,
      "metadata": {
        "id": "8Q-wQAjKY_LY"
      },
      "outputs": [],
      "source": [
        "import torch\n",
        "import torch.nn as nn\n",
        "import torch.optim as optim"
      ]
    },
    {
      "cell_type": "code",
      "execution_count": 2,
      "metadata": {
        "id": "rYPRAA6CY_LZ"
      },
      "outputs": [],
      "source": [
        "import matplotlib.pyplot as plt\n",
        "%matplotlib inline"
      ]
    },
    {
      "cell_type": "markdown",
      "metadata": {
        "id": "VSx74zIZY_LZ"
      },
      "source": [
        "## 3.1 Problem #1"
      ]
    },
    {
      "cell_type": "code",
      "execution_count": 3,
      "metadata": {
        "id": "aehKWzTUY_La"
      },
      "outputs": [],
      "source": [
        "X = torch.rand(100, 20)\n",
        "Y = torch.rand(100, 1)"
      ]
    },
    {
      "cell_type": "code",
      "execution_count": 5,
      "metadata": {
        "scrolled": true,
        "colab": {
          "base_uri": "https://localhost:8080/"
        },
        "id": "sK0E9Mj1Y_La",
        "outputId": "fd87fc20-2ee6-4b85-947c-1dd924c45e6d"
      },
      "outputs": [
        {
          "output_type": "execute_result",
          "data": {
            "text/plain": [
              "True"
            ]
          },
          "metadata": {},
          "execution_count": 5
        }
      ],
      "source": [
        "model = nn.Linear(20, 1)\n",
        "model(X.view(100,-1)).shape == Y.shape"
      ]
    },
    {
      "cell_type": "code",
      "source": [
        "model(X).shape"
      ],
      "metadata": {
        "colab": {
          "base_uri": "https://localhost:8080/"
        },
        "id": "CiEb1DDtZcv7",
        "outputId": "bf8fd0fd-bd47-4c5e-d830-b997f3eda1e6"
      },
      "execution_count": 7,
      "outputs": [
        {
          "output_type": "execute_result",
          "data": {
            "text/plain": [
              "torch.Size([100, 1])"
            ]
          },
          "metadata": {},
          "execution_count": 7
        }
      ]
    },
    {
      "cell_type": "markdown",
      "metadata": {
        "id": "AjJXcZzSY_Lb"
      },
      "source": [
        "## 3.2 Problem #2"
      ]
    },
    {
      "cell_type": "code",
      "execution_count": 10,
      "metadata": {
        "id": "hjsPK6TIY_Lb"
      },
      "outputs": [],
      "source": [
        "X = torch.rand(500, 30)\n",
        "Y = torch.rand(500, 2)"
      ]
    },
    {
      "cell_type": "code",
      "execution_count": 11,
      "metadata": {
        "scrolled": true,
        "colab": {
          "base_uri": "https://localhost:8080/"
        },
        "id": "CksIZ2yMY_Lc",
        "outputId": "d5c64c09-eb02-412c-8626-2064cc6e6d85"
      },
      "outputs": [
        {
          "output_type": "execute_result",
          "data": {
            "text/plain": [
              "True"
            ]
          },
          "metadata": {},
          "execution_count": 11
        }
      ],
      "source": [
        "model = nn.Linear(30, 2)\n",
        "model(X.view(-1,30)).shape == Y.shape"
      ]
    },
    {
      "cell_type": "markdown",
      "metadata": {
        "id": "alk05y9dY_Lc"
      },
      "source": [
        "## 3.3 Problem #3"
      ]
    },
    {
      "cell_type": "code",
      "execution_count": 12,
      "metadata": {
        "id": "oAUMGMjeY_Lc"
      },
      "outputs": [],
      "source": [
        "X = torch.rand(500, 40)\n",
        "Y = torch.rand(1000, 1)"
      ]
    },
    {
      "cell_type": "code",
      "execution_count": 13,
      "metadata": {
        "colab": {
          "base_uri": "https://localhost:8080/"
        },
        "id": "wdCW5JHeY_Ld",
        "outputId": "09c5b5cc-8fd0-4618-b2a0-5a40ad5590eb"
      },
      "outputs": [
        {
          "output_type": "execute_result",
          "data": {
            "text/plain": [
              "True"
            ]
          },
          "metadata": {},
          "execution_count": 13
        }
      ],
      "source": [
        "model = nn.Linear(20, 1)\n",
        "model(X.view(1000,-1)).shape == Y.shape"
      ]
    },
    {
      "cell_type": "markdown",
      "metadata": {
        "id": "3LW5UfFmY_Ld"
      },
      "source": [
        "## 3.4 Problem #4"
      ]
    },
    {
      "cell_type": "code",
      "execution_count": 16,
      "metadata": {
        "id": "p_6s4Tf3Y_Le"
      },
      "outputs": [],
      "source": [
        "X = torch.rand(1000, 200, 20)\n",
        "Y = torch.rand(1000, 2)"
      ]
    },
    {
      "cell_type": "code",
      "execution_count": 17,
      "metadata": {
        "colab": {
          "base_uri": "https://localhost:8080/"
        },
        "id": "OLZy0eaXY_Le",
        "outputId": "c94721bc-e7f1-4d9c-b43a-77b200f4faf5"
      },
      "outputs": [
        {
          "output_type": "execute_result",
          "data": {
            "text/plain": [
              "True"
            ]
          },
          "metadata": {},
          "execution_count": 17
        }
      ],
      "source": [
        "model = nn.Linear(200*20, 2)\n",
        "model(X.view(1000,-1)).shape == Y.shape"
      ]
    }
  ],
  "metadata": {
    "kernelspec": {
      "display_name": "Python 3",
      "language": "python",
      "name": "python3"
    },
    "language_info": {
      "codemirror_mode": {
        "name": "ipython",
        "version": 3
      },
      "file_extension": ".py",
      "mimetype": "text/x-python",
      "name": "python",
      "nbconvert_exporter": "python",
      "pygments_lexer": "ipython3",
      "version": "3.6.5"
    },
    "colab": {
      "name": "6_3. How to Construct a Linear Model.ipynb",
      "provenance": []
    }
  },
  "nbformat": 4,
  "nbformat_minor": 0
}