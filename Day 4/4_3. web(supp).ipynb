{
 "cells": [
  {
   "cell_type": "markdown",
   "metadata": {
    "id": "R26VV6A-haNF"
   },
   "source": [
    "# Web Crawling\n",
    "\n",
    "### ref: https://github.com/nhkim55/bigdata_fintech_python"
   ]
  },
  {
   "cell_type": "markdown",
   "metadata": {},
   "source": [
    "<a href=\"https://colab.research.google.com/github/SLCFLAB/Data-Science-Python/blob/main/Day%204/4_3.web(supp).ipynb\" target=\"_parent\"><img src=\"https://colab.research.google.com/assets/colab-badge.svg\" alt=\"Open In Colab\"/></a>\n"
   ]
  },
  {
   "cell_type": "markdown",
   "metadata": {
    "id": "j6LlNV61hoid"
   },
   "source": [
    "## HTML Parsing"
   ]
  },
  {
   "cell_type": "markdown",
   "metadata": {
    "id": "8S51fbM9inkP"
   },
   "source": [
    "기본 모듈 임포트"
   ]
  },
  {
   "cell_type": "code",
   "execution_count": 1,
   "metadata": {
    "id": "r29jca3SfQys"
   },
   "outputs": [],
   "source": [
    "# 기본모듈 임포트\n",
    "\n",
    "## urllib은 웹에서 얻은 데이터를 다루는 파이썬 패키지. request는 웹 문서를 열어 데이터 읽어오는 모듈\n",
    "import urllib.request as ur\n",
    "## 웹문서를 구성하는 HTML과 XML문서에서 원하는 정보를 쉽게 추출할 수 있는 모듈을 모아놓은 패키지\n",
    "from bs4 import BeautifulSoup as bs\n"
   ]
  },
  {
   "cell_type": "markdown",
   "metadata": {
    "id": "Ql_0gSPuinBy"
   },
   "source": [
    "### 1. urlopen으로 웹 사이트 정보 가져오기"
   ]
  },
  {
   "cell_type": "markdown",
   "metadata": {
    "id": "njhsZiaAZ8Qt"
   },
   "source": [
    "삼성주가정보 [http://finance.naver.com/item/main.nhn?code=005930](http://finance.naver.com/item/main.nhn?code=005930)"
   ]
  },
  {
   "cell_type": "markdown",
   "metadata": {
    "id": "h_w3y0VejW27"
   },
   "source": [
    "\n",
    "웹 사이트에서 원하는 정보를 요청해서 그 결과물을 반환하는 명령\n",
    "```\n",
    "urllib.request.urlopen('URL주소')\n",
    "```\n",
    "\n"
   ]
  },
  {
   "cell_type": "code",
   "execution_count": 2,
   "metadata": {
    "colab": {
     "base_uri": "https://localhost:8080/"
    },
    "executionInfo": {
     "elapsed": 1785,
     "status": "ok",
     "timestamp": 1610612745895,
     "user": {
      "displayName": "Namhyoung Kim",
      "photoUrl": "",
      "userId": "10452528424857445283"
     },
     "user_tz": -540
    },
    "id": "n70NNL9dzqPW",
    "outputId": "395cd871-1a9e-4d1f-a4c9-70fe112df89e"
   },
   "outputs": [
    {
     "data": {
      "text/plain": [
       "<http.client.HTTPResponse at 0x229b4989ca0>"
      ]
     },
     "execution_count": 2,
     "metadata": {},
     "output_type": "execute_result"
    }
   ],
   "source": [
    "# 접속하고 싶은 웹 사이트의 url주소를 url 객체에 문자열로 저장\n",
    "url = 'http://finance.naver.com/item/main.nhn?code=005930'\n",
    "\n",
    "html = ur.urlopen(url)\n",
    "html"
   ]
  },
  {
   "cell_type": "markdown",
   "metadata": {
    "id": "Br4sEAmBkAHq"
   },
   "source": [
    "html에 어떤 내용이 있는지 read()로 간단히 살펴볼 수 있음"
   ]
  },
  {
   "cell_type": "code",
   "execution_count": 3,
   "metadata": {
    "colab": {
     "base_uri": "https://localhost:8080/"
    },
    "executionInfo": {
     "elapsed": 1257,
     "status": "ok",
     "timestamp": 1610612746539,
     "user": {
      "displayName": "Namhyoung Kim",
      "photoUrl": "",
      "userId": "10452528424857445283"
     },
     "user_tz": -540
    },
    "id": "c99A-eGNj-IV",
    "outputId": "bce0226c-bc2d-4a71-d858-ffacfec6d2d9"
   },
   "outputs": [
    {
     "data": {
      "text/plain": [
       "b\"\\n\\n\\t\\n\\t\\n\\t\\n\\t\\n<html lang='ko'>\\n<head>\\n\\n\\n\\t\\n\\t\\t<title>\\xbb\\xef\\xbc\\xba\\xc0\\xfc\\xc0\\xda : \\xb3\\xd7\\xc0\\xcc\\xb9\\xf6 \\xb1\\xdd\\xc0\\xb6</title>\\n\\t\\n\\t\\n\\n\\n\\n\\n\\n\\t\\n\\t\\n\\t\\t<meta h\""
      ]
     },
     "execution_count": 3,
     "metadata": {},
     "output_type": "execute_result"
    }
   ],
   "source": [
    "html.read()[:100]"
   ]
  },
  {
   "cell_type": "markdown",
   "metadata": {
    "id": "CnVPX02yk6FL"
   },
   "source": [
    "### 2. 뷰티풀수프로 자료형 변환"
   ]
  },
  {
   "cell_type": "markdown",
   "metadata": {
    "id": "606oTFlalFRI"
   },
   "source": [
    "html 객체에 저장한 자료를 정보를 쉽게 추출할 수 있는 형태, 즉 파싱(parsing)하기 쉬운 형태로 변환\n",
    "\n",
    "\n",
    "```python\n",
    "bs(html.read(), 'html.parser')\n",
    "```\n",
    "\n",
    "  * 파싱(parsing)이란 웹 문서에서 원하는 패턴이나 순서로 자료를 추출해 가공하는 것을 말함\n",
    "\n"
   ]
  },
  {
   "cell_type": "code",
   "execution_count": 4,
   "metadata": {
    "id": "kNGXSFJklNZ-"
   },
   "outputs": [],
   "source": [
    "soup = bs(html.read(), 'html.parser')"
   ]
  },
  {
   "cell_type": "code",
   "execution_count": 5,
   "metadata": {
    "colab": {
     "base_uri": "https://localhost:8080/"
    },
    "executionInfo": {
     "elapsed": 766,
     "status": "ok",
     "timestamp": 1610612748495,
     "user": {
      "displayName": "Namhyoung Kim",
      "photoUrl": "",
      "userId": "10452528424857445283"
     },
     "user_tz": -540
    },
    "id": "F-ldHQDxkJam",
    "outputId": "867cd6eb-75fa-467a-814a-c69b977d9e1c"
   },
   "outputs": [
    {
     "data": {
      "text/plain": [
       "(http.client.HTTPResponse, bs4.BeautifulSoup)"
      ]
     },
     "execution_count": 5,
     "metadata": {},
     "output_type": "execute_result"
    }
   ],
   "source": [
    "type(html), type(soup)"
   ]
  },
  {
   "cell_type": "code",
   "execution_count": 7,
   "metadata": {
    "id": "1DPxcrHGlUVi"
   },
   "outputs": [],
   "source": [
    "# 위의 과정은 다음과 같이 한 줄로 표현가능\n",
    "soup = bs(ur.urlopen(url).read(), 'html.parser')"
   ]
  },
  {
   "cell_type": "markdown",
   "metadata": {
    "id": "fawArnxWnX3N"
   },
   "source": [
    "### 3. 특정 태그에서 텍스트만 추출 "
   ]
  },
  {
   "cell_type": "markdown",
   "metadata": {
    "id": "Ql0W_kFln6uC"
   },
   "source": [
    "HTML 구조 살펴보기 \n",
    "\n",
    "\n",
    "```html\n",
    "<HTML>\n",
    "<head>\n",
    "  <title> 페이지 제목 </title>\n",
    "</head>\n",
    "<body>\n",
    "  <h1> 글 제목 </h1>\n",
    "  <p> 글 본문 </p>\n",
    "</body>\n",
    "</HTML>\n",
    "\n",
    "```\n",
    "\n",
    "이 구조를 참고해 웹 문서자료에서 원하는 요소를 찾음"
   ]
  },
  {
   "cell_type": "markdown",
   "metadata": {
    "id": "uZhgK4tWpAXf"
   },
   "source": [
    "find_all로 원하는 태그만 모으기\n",
    "\n",
    "* soup에 find_all메서드 이용하여 특정 태그만 모을 수 있음\n",
    "```\n",
    "soup.find_all(찾아낼 태그)\n",
    "```\n",
    "\n"
   ]
  },
  {
   "cell_type": "code",
   "execution_count": 8,
   "metadata": {
    "colab": {
     "base_uri": "https://localhost:8080/"
    },
    "executionInfo": {
     "elapsed": 890,
     "status": "ok",
     "timestamp": 1610612753919,
     "user": {
      "displayName": "Namhyoung Kim",
      "photoUrl": "",
      "userId": "10452528424857445283"
     },
     "user_tz": -540
    },
    "id": "mzq_2B6Y0QF-",
    "outputId": "bbd913e2-48ce-40c5-8817-0bcb5eb4b64f"
   },
   "outputs": [
    {
     "data": {
      "text/plain": [
       "[<dl class=\"blind\">\n",
       " <dt>종목 시세 정보</dt>\n",
       " <dd>2022년 01월 19일 16시 11분 기준 장마감</dd>\n",
       " <dd>종목명 삼성전자</dd>\n",
       " <dd>종목코드 005930 코스피</dd>\n",
       " <dd>현재가 76,300 전일대비 하락 700 마이너스 0.91 퍼센트</dd>\n",
       " <dd>전일가 77,000</dd>\n",
       " <dd>시가 76,500</dd>\n",
       " <dd>고가 76,900</dd>\n",
       " <dd>상한가 100,000</dd>\n",
       " <dd>저가 76,100</dd>\n",
       " <dd>하한가 53,900</dd>\n",
       " <dd>거래량 10,543,644</dd>\n",
       " <dd>거래대금 805,979백만</dd>\n",
       " </dl>,\n",
       " <dl class=\"blind\">\n",
       " <dt><strong>삼성전자</strong></dt>\n",
       " <dd>오늘의시세 76,300 포인트</dd>\n",
       " <dd>700 포인트 하락</dd>\n",
       " <dd>0.91% 마이너스</dd>\n",
       " </dl>,\n",
       " <dl class=\"line\">\n",
       " <dt>선차트</dt>\n",
       " <dd>\n",
       " <ul>\n",
       " <li class=\"day\"><a class=\"on\" href=\"#\" onclick=\"showChart('day')\">1일</a></li>\n",
       " <li class=\"week\"><a href=\"#\" onclick=\"showChart('week')\">1주일</a></li>\n",
       " <li class=\"month3\"><a href=\"#\" onclick=\"showChart('month3');\">3개월</a></li>\n",
       " <li class=\"year\"><a href=\"#\" onclick=\"showChart('year');\">1년</a></li>\n",
       " <li class=\"year3\"><a href=\"#\" onclick=\"showChart('year3');\">3년</a></li>\n",
       " <li class=\"year5\"><a href=\"#\" onclick=\"showChart('year5');\">5년</a></li>\n",
       " <li class=\"year10\"><a href=\"#\" onclick=\"showChart('year10');\">10년</a></li>\n",
       " </ul>\n",
       " </dd>\n",
       " </dl>,\n",
       " <dl class=\"bar\">\n",
       " <dt>봉차트</dt>\n",
       " <dd>\n",
       " <ul>\n",
       " <li class=\"day\"><a href=\"#\" onclick=\"showBarChart('day');\">일봉</a></li>\n",
       " <li class=\"week\"><a href=\"#\" onclick=\"showBarChart('week');\">주봉</a></li>\n",
       " <li class=\"month\"><a href=\"#\" onclick=\"showBarChart('month');\">월봉</a></li>\n",
       " </ul>\n",
       " </dd>\n",
       " </dl>,\n",
       " <dl>\n",
       " <dt>조정영업이익</dt>\n",
       " <dd>매출액-매출원가-판관비</dd>\n",
       " <dt>지배주주지분</dt>\n",
       " <dd>지배회상의 지분에 귀속되는 당기순이익</dd>\n",
       " <dt>비지배주주지분</dt>\n",
       " <dd>종속회사의 지분에 귀속되는 당기순이익</dd>\n",
       " </dl>,\n",
       " <dl>\n",
       " <dt>조정영업이익률</dt>\n",
       " <dd>조정영업이익/매출액</dd>\n",
       " <dt>ROE(지배주주지분)</dt>\n",
       " <dd>지배주주지분 당기순이익 / (자본총계 - 비지배주주지분)</dd>\n",
       " </dl>,\n",
       " <dl>\n",
       " <dt>EPS(지배주주지분)</dt>\n",
       " <dd>지배주주지분 당기순이익/지배주주 평균발행주식수(우선주+보통주)</dd>\n",
       " <dt>BPS(지배주주지분</dt>\n",
       " <dd>지배주주지분 귀속 순자산/지배주주 기말발행주식(우선주+보통주)</dd>\n",
       " </dl>]"
      ]
     },
     "execution_count": 8,
     "metadata": {},
     "output_type": "execute_result"
    }
   ],
   "source": [
    "soup.find_all('dl')"
   ]
  },
  {
   "cell_type": "code",
   "execution_count": 9,
   "metadata": {
    "colab": {
     "base_uri": "https://localhost:8080/"
    },
    "executionInfo": {
     "elapsed": 1375,
     "status": "ok",
     "timestamp": 1610612775914,
     "user": {
      "displayName": "Namhyoung Kim",
      "photoUrl": "",
      "userId": "10452528424857445283"
     },
     "user_tz": -540
    },
    "id": "jOR6IU0X0sEf",
    "outputId": "16183efe-ae21-4bb1-ca9e-027366a79687"
   },
   "outputs": [
    {
     "name": "stdout",
     "output_type": "stream",
     "text": [
      "\n",
      "종목 시세 정보\n",
      "2022년 01월 19일 16시 11분 기준 장마감\n",
      "종목명 삼성전자\n",
      "종목코드 005930 코스피\n",
      "현재가 76,300 전일대비 하락 700 마이너스 0.91 퍼센트\n",
      "전일가 77,000\n",
      "시가 76,500\n",
      "고가 76,900\n",
      "상한가 100,000\n",
      "저가 76,100\n",
      "하한가 53,900\n",
      "거래량 10,543,644\n",
      "거래대금 805,979백만\n",
      "\n",
      "\n",
      "삼성전자\n",
      "오늘의시세 76,300 포인트\n",
      "700 포인트 하락\n",
      "0.91% 마이너스\n",
      "\n",
      "\n",
      "선차트\n",
      "\n",
      "\n",
      "1일\n",
      "1주일\n",
      "3개월\n",
      "1년\n",
      "3년\n",
      "5년\n",
      "10년\n",
      "\n",
      "\n",
      "\n",
      "\n",
      "봉차트\n",
      "\n",
      "\n",
      "일봉\n",
      "주봉\n",
      "월봉\n",
      "\n",
      "\n",
      "\n",
      "\n",
      "조정영업이익\n",
      "매출액-매출원가-판관비\n",
      "지배주주지분\n",
      "지배회상의 지분에 귀속되는 당기순이익\n",
      "비지배주주지분\n",
      "종속회사의 지분에 귀속되는 당기순이익\n",
      "\n",
      "\n",
      "조정영업이익률\n",
      "조정영업이익/매출액\n",
      "ROE(지배주주지분)\n",
      "지배주주지분 당기순이익 / (자본총계 - 비지배주주지분)\n",
      "\n",
      "\n",
      "EPS(지배주주지분)\n",
      "지배주주지분 당기순이익/지배주주 평균발행주식수(우선주+보통주)\n",
      "BPS(지배주주지분\n",
      "지배주주지분 귀속 순자산/지배주주 기말발행주식(우선주+보통주)\n",
      "\n"
     ]
    }
   ],
   "source": [
    "info = soup.find_all('dl')\n",
    "for i in info:\n",
    "  print(i.text)"
   ]
  },
  {
   "cell_type": "code",
   "execution_count": 10,
   "metadata": {
    "colab": {
     "base_uri": "https://localhost:8080/"
    },
    "executionInfo": {
     "elapsed": 1195,
     "status": "ok",
     "timestamp": 1610612968831,
     "user": {
      "displayName": "Namhyoung Kim",
      "photoUrl": "",
      "userId": "10452528424857445283"
     },
     "user_tz": -540
    },
    "id": "R3CXigqD2T3S",
    "outputId": "2d15672d-b509-4833-9ba3-9845c440f48b"
   },
   "outputs": [
    {
     "name": "stdout",
     "output_type": "stream",
     "text": [
      "\n",
      "종목 시세 정보\n",
      "2022년 01월 19일 16시 11분 기준 장마감\n",
      "종목명 삼성전자\n",
      "종목코드 005930 코스피\n",
      "현재가 76,300 전일대비 하락 700 마이너스 0.91 퍼센트\n",
      "전일가 77,000\n",
      "시가 76,500\n",
      "고가 76,900\n",
      "상한가 100,000\n",
      "저가 76,100\n",
      "하한가 53,900\n",
      "거래량 10,543,644\n",
      "거래대금 805,979백만\n",
      "\n",
      "\n",
      "삼성전자\n",
      "오늘의시세 76,300 포인트\n",
      "700 포인트 하락\n",
      "0.91% 마이너스\n",
      "\n"
     ]
    }
   ],
   "source": [
    "info = soup.find_all('dl',{\"class\": \"blind\"})\n",
    "for i in info:\n",
    "  print(i.text)"
   ]
  },
  {
   "cell_type": "code",
   "execution_count": 11,
   "metadata": {
    "colab": {
     "base_uri": "https://localhost:8080/"
    },
    "executionInfo": {
     "elapsed": 742,
     "status": "ok",
     "timestamp": 1610612968832,
     "user": {
      "displayName": "Namhyoung Kim",
      "photoUrl": "",
      "userId": "10452528424857445283"
     },
     "user_tz": -540
    },
    "id": "wMBJ3YZnAzv_",
    "outputId": "a08edbae-e748-485c-f8ae-ad607f416958"
   },
   "outputs": [
    {
     "name": "stdout",
     "output_type": "stream",
     "text": [
      "\n",
      "종목 시세 정보\n",
      "2022년 01월 19일 16시 11분 기준 장마감\n",
      "종목명 삼성전자\n",
      "종목코드 005930 코스피\n",
      "현재가 76,300 전일대비 하락 700 마이너스 0.91 퍼센트\n",
      "전일가 77,000\n",
      "시가 76,500\n",
      "고가 76,900\n",
      "상한가 100,000\n",
      "저가 76,100\n",
      "하한가 53,900\n",
      "거래량 10,543,644\n",
      "거래대금 805,979백만\n",
      "\n"
     ]
    }
   ],
   "source": [
    "print(info[0].text)"
   ]
  },
  {
   "cell_type": "code",
   "execution_count": 12,
   "metadata": {
    "colab": {
     "base_uri": "https://localhost:8080/"
    },
    "executionInfo": {
     "elapsed": 1039,
     "status": "ok",
     "timestamp": 1610612938877,
     "user": {
      "displayName": "Namhyoung Kim",
      "photoUrl": "",
      "userId": "10452528424857445283"
     },
     "user_tz": -540
    },
    "id": "WbPrOTYYAojL",
    "outputId": "99490621-15ec-4afc-c973-ced4bd4ef546"
   },
   "outputs": [
    {
     "name": "stdout",
     "output_type": "stream",
     "text": [
      "\n",
      "종목 시세 정보\n",
      "2022년 01월 19일 16시 11분 기준 장마감\n",
      "종목명 삼성전자\n",
      "종목코드 005930 코스피\n",
      "현재가 76,300 전일대비 하락 700 마이너스 0.91 퍼센트\n",
      "전일가 77,000\n",
      "시가 76,500\n",
      "고가 76,900\n",
      "상한가 100,000\n",
      "저가 76,100\n",
      "하한가 53,900\n",
      "거래량 10,543,644\n",
      "거래대금 805,979백만\n",
      "\n"
     ]
    }
   ],
   "source": [
    "info = soup.find('dl',{\"class\": \"blind\"})\n",
    "print(info.text)"
   ]
  },
  {
   "cell_type": "markdown",
   "metadata": {
    "id": "FrOil-XvDxpz"
   },
   "source": [
    "## 정규표현식"
   ]
  },
  {
   "cell_type": "markdown",
   "metadata": {
    "id": "eSMpa7H1Livp"
   },
   "source": [
    "HTML 문서를 문자열로 취급하고 문자열에서 필요한 부분만을 정규포현식을 이용하여 추출 가능 "
   ]
  },
  {
   "cell_type": "markdown",
   "metadata": {
    "id": "91lvqXntJwIl"
   },
   "source": [
    "### 강의자료 다운 받기 예제"
   ]
  },
  {
   "cell_type": "markdown",
   "metadata": {
    "id": "0y_w4qHzaTB7"
   },
   "source": [
    "[https://cs229.stanford.edu/notes2021fall/](https://cs229.stanford.edu/notes2021fall/)"
   ]
  },
  {
   "cell_type": "code",
   "execution_count": 5,
   "metadata": {
    "executionInfo": {
     "elapsed": 1611,
     "status": "ok",
     "timestamp": 1610628933002,
     "user": {
      "displayName": "Namhyoung Kim",
      "photoUrl": "",
      "userId": "10452528424857445283"
     },
     "user_tz": -540
    },
    "id": "qZtzJTPSlUyJ"
   },
   "outputs": [],
   "source": [
    "import urllib.request as ur\n",
    "import re\n",
    "import numpy as np\n",
    "\n",
    "base_url = \"https://cs229.stanford.edu/notes2021fall/\"\n",
    "html = ur.urlopen(base_url)\n",
    "html_contents = str(html.read().decode(\"utf-8\"))"
   ]
  },
  {
   "cell_type": "code",
   "execution_count": 6,
   "metadata": {
    "colab": {
     "base_uri": "https://localhost:8080/"
    },
    "executionInfo": {
     "elapsed": 897,
     "status": "ok",
     "timestamp": 1610628935236,
     "user": {
      "displayName": "Namhyoung Kim",
      "photoUrl": "",
      "userId": "10452528424857445283"
     },
     "user_tz": -540
    },
    "id": "ZNepY3_MlU0O",
    "outputId": "14363057-e8e5-4a7a-c528-7391a923839c"
   },
   "outputs": [
    {
     "name": "stdout",
     "output_type": "stream",
     "text": [
      "['addendum_bias_variance.pdf' 'cs229-notes1.pdf' 'cs229-notes10.pdf'\n",
      " 'cs229-notes11.pdf' 'cs229-notes12.pdf' 'cs229-notes13.pdf'\n",
      " 'cs229-notes14.pdf' 'cs229-notes2.pdf' 'cs229-notes3.pdf'\n",
      " 'cs229-notes4.pdf' 'cs229-notes5.pdf' 'cs229-notes6.pdf'\n",
      " 'cs229-notes7a.pdf' 'cs229-notes7b.pdf' 'cs229-notes8.pdf'\n",
      " 'cs229-notes9.pdf' 'deep_learning_notes.pdf' 'error-analysis.pdf'\n",
      " 'lecture10-bias-variance.pdf' 'lecture10-lasso-regression.pdf'\n",
      " 'lecture10-ridge-regression.pdf' 'lecture11-boosting.pdf'\n",
      " 'lecture11-decision-tree-overfitting.pdf' 'lecture11-decision-trees.pdf'\n",
      " 'lecture12-kmeans.pdf' 'lecture13-em.pdf' 'lecture13-gmms.pdf'\n",
      " 'lecture14-pca-annotated.pdf' 'lecture14-pca.pdf'\n",
      " 'lecture14-types-of-learning-annotated.pdf'\n",
      " 'lecture14-types-of-learning.pdf' 'lecture17-live-notes.pdf'\n",
      " 'lecture4-live-notes.pdf' 'lecture5-live-notes.pdf'\n",
      " 'lecture6-live-notes.pdf' 'lecture7-live-notes.pdf'\n",
      " 'lecture8-live-notes.pdf' 'lecture9-live-notes.pdf'\n",
      " 'section1notes-linear-algebra-review.pdf'\n",
      " 'section2notes-probability-review.pdf'\n",
      " 'section3notes-python-tutorial.pdf' 'section4notes-midterm-review.pdf'\n",
      " 'section6notes-evaluation-metrics.pdf' 'section7notes-deep-learning.pdf'\n",
      " 'section8notes-ensembling-techniques.pdf']\n"
     ]
    }
   ],
   "source": [
    "url_list = re.findall(\"[a-zA-Z0-9\\-\\_\\.]*\\.pdf\", html_contents)\n",
    "url_list = np.unique(np.array(url_list))\n",
    "print(url_list)"
   ]
  },
  {
   "cell_type": "markdown",
   "metadata": {
    "id": "ytC2J6D0KTbb"
   },
   "source": [
    "### 주가 정보 추출 예제"
   ]
  },
  {
   "cell_type": "code",
   "execution_count": 12,
   "metadata": {
    "executionInfo": {
     "elapsed": 1812,
     "status": "ok",
     "timestamp": 1610629224660,
     "user": {
      "displayName": "Namhyoung Kim",
      "photoUrl": "",
      "userId": "10452528424857445283"
     },
     "user_tz": -540
    },
    "id": "8UwnlpoOlU90"
   },
   "outputs": [],
   "source": [
    "import urllib.request as ur\n",
    "import re\n",
    "\n",
    "url = \"http://finance.naver.com/item/main.nhn?code=005930\"\n",
    "html = ur.urlopen(url)\n",
    "html_contents = str(html.read().decode(\"ms949\"))"
   ]
  },
  {
   "cell_type": "code",
   "execution_count": 13,
   "metadata": {
    "colab": {
     "base_uri": "https://localhost:8080/"
    },
    "executionInfo": {
     "elapsed": 1009,
     "status": "ok",
     "timestamp": 1610629232521,
     "user": {
      "displayName": "Namhyoung Kim",
      "photoUrl": "",
      "userId": "10452528424857445283"
     },
     "user_tz": -540
    },
    "id": "RRQ-t_b_lVAQ",
    "outputId": "4bdd4609-e6bb-4c4d-9c37-e358aa1022d3"
   },
   "outputs": [
    {
     "name": "stdout",
     "output_type": "stream",
     "text": [
      "\n",
      "\t        <dt>종목 시세 정보</dt>\n",
      "\t        <dd>2022년 01월 19일 16시 11분 기준 장마감</dd>\n",
      "\t        <dd>종목명 삼성전자</dd>\n",
      "\t        <dd>종목코드 005930 코스피</dd>\n",
      "\t        <dd>현재가 76,300 전일대비 하락 700 마이너스 0.91 퍼센트</dd>\n",
      "\t        <dd>전일가 77,000</dd>\n",
      "\t        <dd>시가 76,500</dd>\n",
      "\t        <dd>고가 76,900</dd>\n",
      "\t        <dd>상한가 100,000</dd>\n",
      "\t        <dd>저가 76,100</dd>\n",
      "\t        <dd>하한가 53,900</dd>\n",
      "\t        <dd>거래량 10,543,644</dd>\n",
      "\t        <dd>거래대금 805,979백만</dd>\n",
      "        \n"
     ]
    }
   ],
   "source": [
    "stock_results = re.findall(\"(\\<dl class=\\\"blind\\\"\\>)([\\s\\S]+?)(\\<\\/dl\\>)\", html_contents)\n",
    "samsung_stock = stock_results[0] #2가지 중 1번째\n",
    "samsung_index = samsung_stock[1] #1번째, 3번째는 <dl>, 2번째가 원하는 내용\n",
    "print(samsung_index)"
   ]
  },
  {
   "cell_type": "code",
   "execution_count": 14,
   "metadata": {
    "id": "JrJp6nSXlVDx"
   },
   "outputs": [],
   "source": [
    "index_list = re.findall(\"(\\<dd\\>)([\\s\\S]+?)(\\<\\/dd\\>)\", samsung_index)"
   ]
  },
  {
   "cell_type": "code",
   "execution_count": 15,
   "metadata": {
    "colab": {
     "base_uri": "https://localhost:8080/"
    },
    "executionInfo": {
     "elapsed": 1173,
     "status": "ok",
     "timestamp": 1610615720160,
     "user": {
      "displayName": "Namhyoung Kim",
      "photoUrl": "",
      "userId": "10452528424857445283"
     },
     "user_tz": -540
    },
    "id": "iIuTeS_OKYjJ",
    "outputId": "4b1d878f-d6db-4660-c0d8-2dd4e47bae7c"
   },
   "outputs": [
    {
     "name": "stdout",
     "output_type": "stream",
     "text": [
      "2022년 01월 19일 16시 11분 기준 장마감\n",
      "종목명 삼성전자\n",
      "종목코드 005930 코스피\n",
      "현재가 76,300 전일대비 하락 700 마이너스 0.91 퍼센트\n",
      "전일가 77,000\n",
      "시가 76,500\n",
      "고가 76,900\n",
      "상한가 100,000\n",
      "저가 76,100\n",
      "하한가 53,900\n",
      "거래량 10,543,644\n",
      "거래대금 805,979백만\n"
     ]
    }
   ],
   "source": [
    "for index in index_list:\n",
    "    print(index[1])"
   ]
  },
  {
   "cell_type": "code",
   "execution_count": null,
   "metadata": {
    "id": "xxI_YzcFLYQO"
   },
   "outputs": [],
   "source": []
  }
 ],
 "metadata": {
  "colab": {
   "authorship_tag": "ABX9TyPqKTHorv5NqYEke22/2KBY",
   "collapsed_sections": [],
   "mount_file_id": "1SNFP6-P3ji_LDZn4O_yU5yIba-ROVrLU",
   "name": "ch11_web.ipynb",
   "provenance": []
  },
  "kernelspec": {
   "display_name": "Python 3",
   "language": "python",
   "name": "python3"
  },
  "language_info": {
   "codemirror_mode": {
    "name": "ipython",
    "version": 3
   },
   "file_extension": ".py",
   "mimetype": "text/x-python",
   "name": "python",
   "nbconvert_exporter": "python",
   "pygments_lexer": "ipython3",
   "version": "3.8.3"
  }
 },
 "nbformat": 4,
 "nbformat_minor": 1
}
