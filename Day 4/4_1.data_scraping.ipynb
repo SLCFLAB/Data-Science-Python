{
  "cells": [
    {
      "cell_type": "code",
      "execution_count": 2,
      "metadata": {
        "id": "4Zy8dj0HFe1Y"
      },
      "outputs": [],
      "source": [
        "import requests\n",
        "from bs4 import BeautifulSoup\n",
        "import time\n",
        "import pandas as pd\n",
        "import numpy as np\n",
        "import os"
      ]
    },
    {
      "cell_type": "markdown",
      "source": [
        "# References\n",
        "https://docs.python-requests.org/en/master/\n",
        "\n"
      ],
      "metadata": {
        "id": "I-mhkHr5YtuD"
      }
    },
    {
      "cell_type": "markdown",
      "metadata": {
        "id": "qMilnEXgACbV"
      },
      "source": [
        "# Request "
      ]
    },
    {
      "cell_type": "code",
      "execution_count": 7,
      "metadata": {
        "colab": {
          "base_uri": "https://localhost:8080/"
        },
        "id": "UzALRtxiYr3r",
        "outputId": "63d1d5fb-6c3f-49cd-a214-5c8aaad2cf30"
      },
      "outputs": [
        {
          "output_type": "stream",
          "name": "stdout",
          "text": [
            "200\n",
            "utf-8\n"
          ]
        }
      ],
      "source": [
        "r = requests.get(\"https://www.wooribank.com/\",\n",
        "                  timeout = 15, # 1초 동안 무응답 시 에러처리\n",
        "                  headers = {\n",
        "                      \"User-agent\" : \"Mozilla/5.0 (Macintosh; Intel Mac OS X 10_15_7) \\\n",
        "                      AppleWebKit/537.36 (KHTML, like Gecko) Chrome/98.0.4758.109\"\n",
        "                  }\n",
        "                ) \n",
        "r.encoding = \"utf-8\" # encoding 방식 지정해주기\n",
        "\n",
        "print(r.status_code)\n",
        "print(r.encoding)\n",
        "# print(r.text)"
      ]
    },
    {
      "cell_type": "code",
      "source": [
        "# 다른 페이지들도 가져와보기\n",
        "\n",
        "naver_webtoon_html = requests.get(\"https://comic.naver.com/webtoon/weekday\",\n",
        "                  timeout = 15, # 1초 동안 무응답 시 에러처리\n",
        "                  headers = {\n",
        "                      \"User-agent\" : \"Mozilla/5.0 (Macintosh; Intel Mac OS X 10_15_7) \\\n",
        "                      AppleWebKit/537.36 (KHTML, like Gecko) Chrome/98.0.4758.109\"\n",
        "                  }\n",
        "                ) \n",
        "print(naver_webtoon_html.status_code)\n",
        "# print(naver_webtoon_html.text) \n"
      ],
      "metadata": {
        "colab": {
          "base_uri": "https://localhost:8080/"
        },
        "id": "dyob5-ljZv02",
        "outputId": "da58ec3e-454f-441f-e615-8c52abc04608"
      },
      "execution_count": 13,
      "outputs": [
        {
          "output_type": "stream",
          "name": "stdout",
          "text": [
            "200\n"
          ]
        }
      ]
    },
    {
      "cell_type": "code",
      "source": [
        "# 다른 페이지들도 가져와보기\n",
        "\n",
        "melon_html = requests.get(\"https://www.melon.com/chart/index.htm\",\n",
        "                  timeout = 15, # 1초 동안 무응답 시 에러처리,\n",
        "                  \n",
        "                  headers = {\n",
        "                      \"User-agent\" : \"Mozilla/5.0 (Macintosh; Intel Mac OS X 10_15_7) \\\n",
        "                      AppleWebKit/537.36 (KHTML, like Gecko) Chrome/98.0.4758.109\"\n",
        "                  }\n",
        "                ) \n",
        "print(melon_html.status_code)\n",
        "# print(melon_html.text) \n"
      ],
      "metadata": {
        "colab": {
          "base_uri": "https://localhost:8080/"
        },
        "id": "CbJ6bCmQagle",
        "outputId": "caf5a687-a8fb-4149-a912-7e58e53c742b"
      },
      "execution_count": 28,
      "outputs": [
        {
          "output_type": "stream",
          "name": "stdout",
          "text": [
            "200\n"
          ]
        }
      ]
    },
    {
      "cell_type": "markdown",
      "metadata": {
        "id": "lbCCR3rrYr3t"
      },
      "source": [
        "# BeautifulSoup"
      ]
    },
    {
      "cell_type": "code",
      "execution_count": 29,
      "metadata": {
        "colab": {
          "base_uri": "https://localhost:8080/"
        },
        "id": "2wxHzQtvYr3u",
        "outputId": "2ad50c4a-d76b-4b79-8885-859562b4f13a"
      },
      "outputs": [
        {
          "output_type": "stream",
          "name": "stdout",
          "text": [
            "<title>우리은행</title>\n",
            "우리은행\n"
          ]
        }
      ],
      "source": [
        "soup = BeautifulSoup(r.content, 'html.parser')\n",
        "# print(soup.prettify())\n",
        "\n",
        "print(soup.title)\n",
        "print(soup.title.string) "
      ]
    },
    {
      "cell_type": "code",
      "source": [
        "soup.select(\"div[class='tit-5 absolute js-display-hover']\")"
      ],
      "metadata": {
        "colab": {
          "base_uri": "https://localhost:8080/"
        },
        "id": "WtOR4Y3LiGL2",
        "outputId": "77e88e85-656b-45fc-9216-0faa0ecf0f4a"
      },
      "execution_count": 31,
      "outputs": [
        {
          "output_type": "execute_result",
          "data": {
            "text/plain": [
              "[<div class=\"tit-5 absolute js-display-hover\">\n",
              " <a class=\"js-display-hover-trigger\" href=\"https://spot.wooribank.com/pot/Dream?withyou=po\"><img alt=\"금융상품\" src=\"https://simg.wooribank.com/img/intro/header/btn_tit_4_intro_new_211130.png\"/></a>\n",
              " <div class=\"js-display-hover-area level2\">\n",
              " <span class=\"arrow\"></span>\n",
              " <ul class=\"menu\">\n",
              " <li class=\"title\"><a href=\"https://spot.wooribank.com/pot/Dream?withyou=po\">금융상품</a></li>\n",
              " <li><a href=\"https://spot.wooribank.com/pot/Dream?withyou=PORMG0002\">추천상품</a></li>\n",
              " <li><a href=\"https://spot.wooribank.com/pot/Dream?withyou=PODEP0001\">예금</a></li>\n",
              " <li><a href=\"https://spot.wooribank.com/pot/Dream?withyou=OWFDM0003\">펀드</a></li>\n",
              " <li><a href=\"https://spot.wooribank.com/pot/Dream?withyou=ln\">대출</a></li>\n",
              " <li><a href=\"https://spot.wooribank.com/pot/Dream?withyou=fx\">외환</a></li>\n",
              " <li><a href=\"https://spot.wooribank.com/pot/Dream?withyou=POGLD0001\">골드</a></li>\n",
              " <li><a href=\"https://spot.wooribank.com/pot/Dream?withyou=POTRT0001\">신탁</a></li>\n",
              " <li><a href=\"https://spot.wooribank.com/pot/Dream?withyou=POBAC0001\">보험</a></li>\n",
              " <li><a href=\"https://svc.wooribank.com/svc/Dream?withyou=rp\">퇴직연금</a></li>\n",
              " <li><a href=\"https://spot.wooribank.com/pot/Dream?withyou=OWMNG0014\">시니어플러스 은퇴설계</a></li>\n",
              " <li><a href=\"https://spot.wooribank.com/pot/Dream?withyou=IMISA0044\">ISA</a></li>\n",
              " </ul>\n",
              " </div>\n",
              " </div>]"
            ]
          },
          "metadata": {},
          "execution_count": 31
        }
      ]
    },
    {
      "cell_type": "code",
      "source": [
        "soup.select(\"div[class='tit-5 absolute js-display-hover'] li\")"
      ],
      "metadata": {
        "colab": {
          "base_uri": "https://localhost:8080/"
        },
        "id": "jU6XSg_uiJhr",
        "outputId": "4a7efb8d-e224-4cec-df69-781dd711d9ca"
      },
      "execution_count": 32,
      "outputs": [
        {
          "output_type": "execute_result",
          "data": {
            "text/plain": [
              "[<li class=\"title\"><a href=\"https://spot.wooribank.com/pot/Dream?withyou=po\">금융상품</a></li>,\n",
              " <li><a href=\"https://spot.wooribank.com/pot/Dream?withyou=PORMG0002\">추천상품</a></li>,\n",
              " <li><a href=\"https://spot.wooribank.com/pot/Dream?withyou=PODEP0001\">예금</a></li>,\n",
              " <li><a href=\"https://spot.wooribank.com/pot/Dream?withyou=OWFDM0003\">펀드</a></li>,\n",
              " <li><a href=\"https://spot.wooribank.com/pot/Dream?withyou=ln\">대출</a></li>,\n",
              " <li><a href=\"https://spot.wooribank.com/pot/Dream?withyou=fx\">외환</a></li>,\n",
              " <li><a href=\"https://spot.wooribank.com/pot/Dream?withyou=POGLD0001\">골드</a></li>,\n",
              " <li><a href=\"https://spot.wooribank.com/pot/Dream?withyou=POTRT0001\">신탁</a></li>,\n",
              " <li><a href=\"https://spot.wooribank.com/pot/Dream?withyou=POBAC0001\">보험</a></li>,\n",
              " <li><a href=\"https://svc.wooribank.com/svc/Dream?withyou=rp\">퇴직연금</a></li>,\n",
              " <li><a href=\"https://spot.wooribank.com/pot/Dream?withyou=OWMNG0014\">시니어플러스 은퇴설계</a></li>,\n",
              " <li><a href=\"https://spot.wooribank.com/pot/Dream?withyou=IMISA0044\">ISA</a></li>]"
            ]
          },
          "metadata": {},
          "execution_count": 32
        }
      ]
    },
    {
      "cell_type": "code",
      "execution_count": 33,
      "metadata": {
        "scrolled": true,
        "colab": {
          "base_uri": "https://localhost:8080/"
        },
        "id": "eUxrC5lIYr3v",
        "outputId": "966cbf24-20a3-42a3-93d8-b1b62fe855c8"
      },
      "outputs": [
        {
          "output_type": "stream",
          "name": "stdout",
          "text": [
            "금융상품\n",
            "추천상품\n",
            "예금\n",
            "펀드\n",
            "대출\n",
            "외환\n",
            "골드\n",
            "신탁\n",
            "보험\n",
            "퇴직연금\n",
            "시니어플러스 은퇴설계\n",
            "ISA\n"
          ]
        }
      ],
      "source": [
        "for item in soup.select(\"div[class='tit-5 absolute js-display-hover'] li\"):\n",
        "    print(item.text)"
      ]
    },
    {
      "cell_type": "code",
      "source": [
        "soup.select_one(\"div[class='tit-5 absolute js-display-hover'] li\")"
      ],
      "metadata": {
        "colab": {
          "base_uri": "https://localhost:8080/"
        },
        "id": "RM2FPiF6jhUk",
        "outputId": "001293ac-ebc2-4a39-ceb2-8a76f7d55fcb"
      },
      "execution_count": 47,
      "outputs": [
        {
          "output_type": "execute_result",
          "data": {
            "text/plain": [
              "<li class=\"title\"><a href=\"https://spot.wooribank.com/pot/Dream?withyou=po\">금융상품</a></li>"
            ]
          },
          "metadata": {},
          "execution_count": 47
        }
      ]
    },
    {
      "cell_type": "code",
      "source": [
        "soup.find(\"div\",{\"class\":\"tit-5 absolute js-display-hover\"})"
      ],
      "metadata": {
        "colab": {
          "base_uri": "https://localhost:8080/"
        },
        "id": "E-e3NaBkj9HK",
        "outputId": "2228eef3-5ca3-4da5-f0d5-2926cb1b53b0"
      },
      "execution_count": 49,
      "outputs": [
        {
          "output_type": "execute_result",
          "data": {
            "text/plain": [
              "<div class=\"tit-5 absolute js-display-hover\">\n",
              "<a class=\"js-display-hover-trigger\" href=\"https://spot.wooribank.com/pot/Dream?withyou=po\"><img alt=\"금융상품\" src=\"https://simg.wooribank.com/img/intro/header/btn_tit_4_intro_new_211130.png\"/></a>\n",
              "<div class=\"js-display-hover-area level2\">\n",
              "<span class=\"arrow\"></span>\n",
              "<ul class=\"menu\">\n",
              "<li class=\"title\"><a href=\"https://spot.wooribank.com/pot/Dream?withyou=po\">금융상품</a></li>\n",
              "<li><a href=\"https://spot.wooribank.com/pot/Dream?withyou=PORMG0002\">추천상품</a></li>\n",
              "<li><a href=\"https://spot.wooribank.com/pot/Dream?withyou=PODEP0001\">예금</a></li>\n",
              "<li><a href=\"https://spot.wooribank.com/pot/Dream?withyou=OWFDM0003\">펀드</a></li>\n",
              "<li><a href=\"https://spot.wooribank.com/pot/Dream?withyou=ln\">대출</a></li>\n",
              "<li><a href=\"https://spot.wooribank.com/pot/Dream?withyou=fx\">외환</a></li>\n",
              "<li><a href=\"https://spot.wooribank.com/pot/Dream?withyou=POGLD0001\">골드</a></li>\n",
              "<li><a href=\"https://spot.wooribank.com/pot/Dream?withyou=POTRT0001\">신탁</a></li>\n",
              "<li><a href=\"https://spot.wooribank.com/pot/Dream?withyou=POBAC0001\">보험</a></li>\n",
              "<li><a href=\"https://svc.wooribank.com/svc/Dream?withyou=rp\">퇴직연금</a></li>\n",
              "<li><a href=\"https://spot.wooribank.com/pot/Dream?withyou=OWMNG0014\">시니어플러스 은퇴설계</a></li>\n",
              "<li><a href=\"https://spot.wooribank.com/pot/Dream?withyou=IMISA0044\">ISA</a></li>\n",
              "</ul>\n",
              "</div>\n",
              "</div>"
            ]
          },
          "metadata": {},
          "execution_count": 49
        }
      ]
    },
    {
      "cell_type": "code",
      "source": [
        "soup.find(\"div\",{\"class\":\"tit-5 absolute js-display-hover\"}).find_all(\"li\")"
      ],
      "metadata": {
        "colab": {
          "base_uri": "https://localhost:8080/"
        },
        "id": "Yd6ymY_OlD92",
        "outputId": "bf609473-8523-404c-ba83-06c1b8d8128d"
      },
      "execution_count": 54,
      "outputs": [
        {
          "output_type": "execute_result",
          "data": {
            "text/plain": [
              "[<li class=\"title\"><a href=\"https://spot.wooribank.com/pot/Dream?withyou=po\">금융상품</a></li>,\n",
              " <li><a href=\"https://spot.wooribank.com/pot/Dream?withyou=PORMG0002\">추천상품</a></li>,\n",
              " <li><a href=\"https://spot.wooribank.com/pot/Dream?withyou=PODEP0001\">예금</a></li>,\n",
              " <li><a href=\"https://spot.wooribank.com/pot/Dream?withyou=OWFDM0003\">펀드</a></li>,\n",
              " <li><a href=\"https://spot.wooribank.com/pot/Dream?withyou=ln\">대출</a></li>,\n",
              " <li><a href=\"https://spot.wooribank.com/pot/Dream?withyou=fx\">외환</a></li>,\n",
              " <li><a href=\"https://spot.wooribank.com/pot/Dream?withyou=POGLD0001\">골드</a></li>,\n",
              " <li><a href=\"https://spot.wooribank.com/pot/Dream?withyou=POTRT0001\">신탁</a></li>,\n",
              " <li><a href=\"https://spot.wooribank.com/pot/Dream?withyou=POBAC0001\">보험</a></li>,\n",
              " <li><a href=\"https://svc.wooribank.com/svc/Dream?withyou=rp\">퇴직연금</a></li>,\n",
              " <li><a href=\"https://spot.wooribank.com/pot/Dream?withyou=OWMNG0014\">시니어플러스 은퇴설계</a></li>,\n",
              " <li><a href=\"https://spot.wooribank.com/pot/Dream?withyou=IMISA0044\">ISA</a></li>]"
            ]
          },
          "metadata": {},
          "execution_count": 54
        }
      ]
    },
    {
      "cell_type": "markdown",
      "metadata": {
        "id": "cMP-EWjfYr3v"
      },
      "source": [
        "# Request, BS4 실습"
      ]
    },
    {
      "cell_type": "code",
      "source": [
        "# 연습용 페이지 크롤링 (To-do)\n",
        "# https://dataquestio.github.io/web-scraping-pages/ids_and_classes.html\n",
        "\n",
        "# \"First-outer paragraph\" 출력해보기\n",
        "\n"
      ],
      "metadata": {
        "id": "FpuJnmYmnq45"
      },
      "execution_count": 95,
      "outputs": []
    },
    {
      "cell_type": "code",
      "execution_count": 96,
      "metadata": {
        "id": "uKxCKAmwYr3w"
      },
      "outputs": [],
      "source": [
        "# 오늘의 코스피 받아오기 (To-do)\n"
      ]
    },
    {
      "cell_type": "code",
      "source": [
        "# 네이버웹툰 https://comic.naver.com/webtoon/weekday 실시간 인기 급상승 웹툰 1위-10위 제목 뽑아보기\n"
      ],
      "metadata": {
        "id": "cNsFPmWStwS9"
      },
      "execution_count": 97,
      "outputs": []
    },
    {
      "cell_type": "code",
      "source": [
        "# National Weather Service 페이지 크롤링\n",
        "# https://forecast.weather.gov/MapClick.php?lat=37.7772&lon=-122.4168#.Yk05PBNBxFw\n"
      ],
      "metadata": {
        "id": "Wa53XQe2qj7O"
      },
      "execution_count": 98,
      "outputs": []
    },
    {
      "cell_type": "code",
      "execution_count": 99,
      "metadata": {
        "id": "FU3bY1AaYr3x"
      },
      "outputs": [],
      "source": [
        "# 시간별 날씨 (To-do)\n",
        "# https://weather.naver.com/today/\n",
        "# 시간대별로 날씨 뽑아와서 dictionary에 저장하기\n"
      ]
    },
    {
      "cell_type": "code",
      "source": [
        "# Challenging\n",
        "\n",
        "# Melon playlist \n",
        "# https://www.melon.com/chart/index.htm\n",
        "# 1위-100위 노래 제목 뽑기\n"
      ],
      "metadata": {
        "id": "AAoNHMQauDH0"
      },
      "execution_count": 100,
      "outputs": []
    },
    {
      "cell_type": "code",
      "source": [
        ""
      ],
      "metadata": {
        "id": "vT8wPlyryb_-"
      },
      "execution_count": null,
      "outputs": []
    }
  ],
  "metadata": {
    "colab": {
      "name": "04.ipynb",
      "provenance": []
    },
    "kernelspec": {
      "display_name": "bigdata",
      "language": "python",
      "name": "bigdata"
    },
    "language_info": {
      "codemirror_mode": {
        "name": "ipython",
        "version": 3
      },
      "file_extension": ".py",
      "mimetype": "text/x-python",
      "name": "python",
      "nbconvert_exporter": "python",
      "pygments_lexer": "ipython3",
      "version": "3.7.11"
    }
  },
  "nbformat": 4,
  "nbformat_minor": 0
}