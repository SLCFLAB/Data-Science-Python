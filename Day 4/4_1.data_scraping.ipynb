{
  "cells": [
    {
      "cell_type": "code",
      "execution_count": 22,
      "metadata": {
        "colab": {
          "base_uri": "https://localhost:8080/"
        },
        "id": "4Zy8dj0HFe1Y",
        "outputId": "bdece3ed-7ea7-491d-c48e-e4b2b36d23de"
      },
      "outputs": [
        {
          "output_type": "stream",
          "name": "stdout",
          "text": [
            "Requirement already satisfied: finance-datareader in /usr/local/lib/python3.7/dist-packages (0.9.33)\n",
            "Requirement already satisfied: pandas>=0.19.2 in /usr/local/lib/python3.7/dist-packages (from finance-datareader) (1.3.5)\n",
            "Requirement already satisfied: lxml in /usr/local/lib/python3.7/dist-packages (from finance-datareader) (4.2.6)\n",
            "Requirement already satisfied: requests-file in /usr/local/lib/python3.7/dist-packages (from finance-datareader) (1.5.1)\n",
            "Requirement already satisfied: tqdm in /usr/local/lib/python3.7/dist-packages (from finance-datareader) (4.63.0)\n",
            "Requirement already satisfied: requests>=2.3.0 in /usr/local/lib/python3.7/dist-packages (from finance-datareader) (2.23.0)\n",
            "Requirement already satisfied: python-dateutil>=2.7.3 in /usr/local/lib/python3.7/dist-packages (from pandas>=0.19.2->finance-datareader) (2.8.2)\n",
            "Requirement already satisfied: pytz>=2017.3 in /usr/local/lib/python3.7/dist-packages (from pandas>=0.19.2->finance-datareader) (2018.9)\n",
            "Requirement already satisfied: numpy>=1.17.3 in /usr/local/lib/python3.7/dist-packages (from pandas>=0.19.2->finance-datareader) (1.21.5)\n",
            "Requirement already satisfied: six>=1.5 in /usr/local/lib/python3.7/dist-packages (from python-dateutil>=2.7.3->pandas>=0.19.2->finance-datareader) (1.15.0)\n",
            "Requirement already satisfied: urllib3!=1.25.0,!=1.25.1,<1.26,>=1.21.1 in /usr/local/lib/python3.7/dist-packages (from requests>=2.3.0->finance-datareader) (1.24.3)\n",
            "Requirement already satisfied: idna<3,>=2.5 in /usr/local/lib/python3.7/dist-packages (from requests>=2.3.0->finance-datareader) (2.10)\n",
            "Requirement already satisfied: certifi>=2017.4.17 in /usr/local/lib/python3.7/dist-packages (from requests>=2.3.0->finance-datareader) (2021.10.8)\n",
            "Requirement already satisfied: chardet<4,>=3.0.2 in /usr/local/lib/python3.7/dist-packages (from requests>=2.3.0->finance-datareader) (3.0.4)\n"
          ]
        }
      ],
      "source": [
        "import requests\n",
        "from bs4 import BeautifulSoup\n",
        "import time\n",
        "import pandas as pd\n",
        "# !pip install finance-datareader\n",
        "import FinanceDataReader as fdr\n",
        "import numpy as np\n",
        "import os"
      ]
    },
    {
      "cell_type": "markdown",
      "source": [
        "# References\n",
        "https://docs.python-requests.org/en/master/\n",
        "\n"
      ],
      "metadata": {
        "id": "I-mhkHr5YtuD"
      }
    },
    {
      "cell_type": "code",
      "execution_count": 2,
      "metadata": {
        "id": "pp1kgsz1Yr38"
      },
      "outputs": [],
      "source": [
        ""
      ]
    },
    {
      "cell_type": "markdown",
      "metadata": {
        "id": "qMilnEXgACbV"
      },
      "source": [
        "# Request "
      ]
    },
    {
      "cell_type": "code",
      "execution_count": 49,
      "metadata": {
        "colab": {
          "base_uri": "https://localhost:8080/"
        },
        "id": "UzALRtxiYr3r",
        "outputId": "6a816f54-fb65-4401-9265-c7055cf31b01"
      },
      "outputs": [
        {
          "output_type": "stream",
          "name": "stdout",
          "text": [
            "200\n",
            "ISO-8859-1\n"
          ]
        }
      ],
      "source": [
        "r = requests.get(\"https://www.wooribank.com/\",\n",
        "                  timeout = 1,\n",
        "                  params = {\n",
        "                      \"User-agent\" : \"~~\"\n",
        "                  }\n",
        "                ) \n",
        "print(r.status_code)\n",
        "\n",
        "print(r.encoding)\n",
        "\n",
        "# encoding 방식 지정\n",
        "r.encoding = \"utf-8\"\n",
        "# print(r.encoding)\n",
        "\n",
        "# print(r.text)"
      ]
    },
    {
      "cell_type": "markdown",
      "metadata": {
        "id": "lbCCR3rrYr3t"
      },
      "source": [
        "# BeautifulSoup"
      ]
    },
    {
      "cell_type": "code",
      "execution_count": 50,
      "metadata": {
        "colab": {
          "base_uri": "https://localhost:8080/"
        },
        "id": "2wxHzQtvYr3u",
        "outputId": "35e05374-4301-4054-a098-0b0e74242b6b"
      },
      "outputs": [
        {
          "output_type": "stream",
          "name": "stdout",
          "text": [
            "<title>우리은행</title>\n",
            "우리은행\n"
          ]
        }
      ],
      "source": [
        "soup = BeautifulSoup(r.content, 'html.parser')\n",
        "# print(soup.prettify())\n",
        "\n",
        "print(soup.title)\n",
        "print(soup.title.string) "
      ]
    },
    {
      "cell_type": "code",
      "execution_count": 51,
      "metadata": {
        "scrolled": true,
        "colab": {
          "base_uri": "https://localhost:8080/"
        },
        "id": "eUxrC5lIYr3v",
        "outputId": "e33a50c7-8b94-4707-c594-90c429ed594e"
      },
      "outputs": [
        {
          "output_type": "stream",
          "name": "stdout",
          "text": [
            "금융상품\n",
            "추천상품\n",
            "예금\n",
            "펀드\n",
            "대출\n",
            "외환\n",
            "골드\n",
            "신탁\n",
            "보험\n",
            "퇴직연금\n",
            "시니어플러스 은퇴설계\n",
            "ISA\n"
          ]
        }
      ],
      "source": [
        "for item in soup.select(\"div[class='tit-5 absolute js-display-hover'] li\"):\n",
        "    print(item.text)"
      ]
    },
    {
      "cell_type": "markdown",
      "metadata": {
        "id": "cMP-EWjfYr3v"
      },
      "source": [
        "# Request, BS4 실습"
      ]
    },
    {
      "cell_type": "code",
      "execution_count": 36,
      "metadata": {
        "colab": {
          "base_uri": "https://localhost:8080/",
          "height": 53
        },
        "id": "uKxCKAmwYr3w",
        "outputId": "9982380a-7764-4f70-b61b-9abd8b368429"
      },
      "outputs": [
        {
          "output_type": "stream",
          "name": "stdout",
          "text": [
            "EUC-KR\n"
          ]
        },
        {
          "output_type": "execute_result",
          "data": {
            "text/plain": [
              "'2,729.98'"
            ],
            "application/vnd.google.colaboratory.intrinsic+json": {
              "type": "string"
            }
          },
          "metadata": {},
          "execution_count": 36
        }
      ],
      "source": [
        "# 오늘의 코스피 받아오기 (To-do)\n",
        "r = requests.get(\"https://finance.naver.com/sise/sise_index.naver?code=KOSPI\")\n",
        "print(r.encoding)\n",
        "soup = BeautifulSoup(r.text, 'lxml')\n",
        "\n",
        "tag = soup.select_one(\"em[id='now_value']\" )\n",
        "# tag = soup.find(\"em\", {\"id\":\"now_value\"}) 로 쓸수도 있음\n",
        "tag.text"
      ]
    },
    {
      "cell_type": "code",
      "execution_count": 27,
      "metadata": {
        "colab": {
          "base_uri": "https://localhost:8080/"
        },
        "id": "FU3bY1AaYr3x",
        "outputId": "76e87130-f15c-42c8-d3fc-dfc935ceb13a"
      },
      "outputs": [
        {
          "output_type": "stream",
          "name": "stdout",
          "text": [
            "UTF-8\n"
          ]
        }
      ],
      "source": [
        "# 시간별 날씨 (To-do)\n",
        "r = requests.get(\"https://weather.naver.com/today/\")\n",
        "print(r.encoding)\n",
        "# print(r.text)"
      ]
    },
    {
      "cell_type": "code",
      "execution_count": 28,
      "metadata": {
        "id": "Yu7-zfWNYr3x"
      },
      "outputs": [],
      "source": [
        "soup = BeautifulSoup(r.content, 'lxml')"
      ]
    },
    {
      "cell_type": "code",
      "execution_count": 29,
      "metadata": {
        "colab": {
          "base_uri": "https://localhost:8080/"
        },
        "id": "Vg_FT1ZHYr3y",
        "outputId": "af9c78e0-b4fb-4d00-97e7-e437e92c4273"
      },
      "outputs": [
        {
          "output_type": "stream",
          "name": "stdout",
          "text": [
            "{'19시': '9도', '20시': '8도', '21시': '7도', '22시': '6도', '23시': '6도', '내일': '14도', '1시': '3도', '2시': '3도', '3시': '2도', '4시': '2도', '5시': '2도', '6시': '2도', '7시': '2도', '8시': '3도', '9시': '5도', '10시': '8도', '11시': '10도', '12시': '11도', '13시': '13도', '14시': '13도', '15시': '13도', '16시': '13도', '17시': '12도', '18시': '11도', '모레': '8도', '글피': '4도', '0시': '5도'}\n"
          ]
        }
      ],
      "source": [
        "# 시간대별 날씨 탭\n",
        "# 마우스 우클릭 -> 페이지 소스 보기 or 검사 \n",
        "# html 코드에서 시간대별 날씨 데이터가 포함된 태그 \n",
        "\n",
        "# <div class=\"scroll_area\" data-name=\"hourly\" data-click=\"false\" data-nclk=\"wtk.hourscr\">\n",
        "#   <div>\n",
        "#     <ul>\n",
        "#       <li>\n",
        "#         <span class=\"time\">16시</span>\n",
        "#         <span class=\"blind\">흐림</span>\n",
        "#         <span class=\"blind\">17도</span>\n",
        "#       </li>\n",
        "#     </ul>\n",
        "#   </div>\n",
        "# </div>\n",
        "\n",
        "# data-name 이 hourly인 div 태그로부터 시작 !\n",
        "\n",
        "# soup.select(\"\")\n",
        "\n",
        "hourly_weather = {}\n",
        "for k, weather in enumerate(soup.select(\"div[data-name='hourly'] div ul li span\" )):\n",
        "    if k%3==0:\n",
        "        weather_time = weather.text\n",
        "    if k%3==2:\n",
        "        temparature = weather.text\n",
        "        hourly_weather[weather_time] = temparature\n",
        "print(hourly_weather)"
      ]
    }
  ],
  "metadata": {
    "colab": {
      "name": "04.ipynb",
      "provenance": []
    },
    "kernelspec": {
      "display_name": "bigdata",
      "language": "python",
      "name": "bigdata"
    },
    "language_info": {
      "codemirror_mode": {
        "name": "ipython",
        "version": 3
      },
      "file_extension": ".py",
      "mimetype": "text/x-python",
      "name": "python",
      "nbconvert_exporter": "python",
      "pygments_lexer": "ipython3",
      "version": "3.7.11"
    }
  },
  "nbformat": 4,
  "nbformat_minor": 0
}