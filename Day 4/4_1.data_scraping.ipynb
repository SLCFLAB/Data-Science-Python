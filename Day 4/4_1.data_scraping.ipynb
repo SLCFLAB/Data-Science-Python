{
  "cells": [
    {
      "cell_type": "code",
      "execution_count": 2,
      "metadata": {
        "id": "4Zy8dj0HFe1Y"
      },
      "outputs": [],
      "source": [
        "import requests\n",
        "from bs4 import BeautifulSoup\n",
        "import time\n",
        "import pandas as pd\n",
        "import numpy as np\n",
        "import os"
      ]
    },
    {
      "cell_type": "markdown",
      "source": [
        "# References\n",
        "https://docs.python-requests.org/en/master/\n",
        "\n"
      ],
      "metadata": {
        "id": "I-mhkHr5YtuD"
      }
    },
    {
      "cell_type": "markdown",
      "metadata": {
        "id": "qMilnEXgACbV"
      },
      "source": [
        "# Request "
      ]
    },
    {
      "cell_type": "code",
      "execution_count": 7,
      "metadata": {
        "colab": {
          "base_uri": "https://localhost:8080/"
        },
        "id": "UzALRtxiYr3r",
        "outputId": "63d1d5fb-6c3f-49cd-a214-5c8aaad2cf30"
      },
      "outputs": [
        {
          "output_type": "stream",
          "name": "stdout",
          "text": [
            "200\n",
            "utf-8\n"
          ]
        }
      ],
      "source": [
        "r = requests.get(\"https://www.wooribank.com/\",\n",
        "                  timeout = 15, # 1초 동안 무응답 시 에러처리\n",
        "                  headers = {\n",
        "                      \"User-agent\" : \"Mozilla/5.0 (Macintosh; Intel Mac OS X 10_15_7) \\\n",
        "                      AppleWebKit/537.36 (KHTML, like Gecko) Chrome/98.0.4758.109\"\n",
        "                  }\n",
        "                ) \n",
        "r.encoding = \"utf-8\" # encoding 방식 지정해주기\n",
        "\n",
        "print(r.status_code)\n",
        "print(r.encoding)\n",
        "# print(r.text)"
      ]
    },
    {
      "cell_type": "code",
      "source": [
        "# 다른 페이지들도 가져와보기\n",
        "\n",
        "naver_webtoon_html = requests.get(\"https://comic.naver.com/webtoon/weekday\",\n",
        "                  timeout = 15, # 1초 동안 무응답 시 에러처리\n",
        "                  headers = {\n",
        "                      \"User-agent\" : \"Mozilla/5.0 (Macintosh; Intel Mac OS X 10_15_7) \\\n",
        "                      AppleWebKit/537.36 (KHTML, like Gecko) Chrome/98.0.4758.109\"\n",
        "                  }\n",
        "                ) \n",
        "print(naver_webtoon_html.status_code)\n",
        "# print(naver_webtoon_html.text) \n"
      ],
      "metadata": {
        "id": "dyob5-ljZv02",
        "outputId": "da58ec3e-454f-441f-e615-8c52abc04608",
        "colab": {
          "base_uri": "https://localhost:8080/"
        }
      },
      "execution_count": 13,
      "outputs": [
        {
          "output_type": "stream",
          "name": "stdout",
          "text": [
            "200\n"
          ]
        }
      ]
    },
    {
      "cell_type": "code",
      "source": [
        "# 다른 페이지들도 가져와보기\n",
        "\n",
        "melon_html = requests.get(\"https://www.melon.com/chart/index.htm\",\n",
        "                  timeout = 15, # 1초 동안 무응답 시 에러처리,\n",
        "                  \n",
        "                  headers = {\n",
        "                      \"User-agent\" : \"Mozilla/5.0 (Macintosh; Intel Mac OS X 10_15_7) \\\n",
        "                      AppleWebKit/537.36 (KHTML, like Gecko) Chrome/98.0.4758.109\"\n",
        "                  }\n",
        "                ) \n",
        "print(melon_html.status_code)\n",
        "# print(melon_html.text) \n"
      ],
      "metadata": {
        "id": "CbJ6bCmQagle",
        "outputId": "caf5a687-a8fb-4149-a912-7e58e53c742b",
        "colab": {
          "base_uri": "https://localhost:8080/"
        }
      },
      "execution_count": 28,
      "outputs": [
        {
          "output_type": "stream",
          "name": "stdout",
          "text": [
            "200\n"
          ]
        }
      ]
    },
    {
      "cell_type": "markdown",
      "metadata": {
        "id": "lbCCR3rrYr3t"
      },
      "source": [
        "# BeautifulSoup"
      ]
    },
    {
      "cell_type": "code",
      "execution_count": 29,
      "metadata": {
        "colab": {
          "base_uri": "https://localhost:8080/"
        },
        "id": "2wxHzQtvYr3u",
        "outputId": "2ad50c4a-d76b-4b79-8885-859562b4f13a"
      },
      "outputs": [
        {
          "output_type": "stream",
          "name": "stdout",
          "text": [
            "<title>우리은행</title>\n",
            "우리은행\n"
          ]
        }
      ],
      "source": [
        "soup = BeautifulSoup(r.content, 'html.parser')\n",
        "# print(soup.prettify())\n",
        "\n",
        "print(soup.title)\n",
        "print(soup.title.string) "
      ]
    },
    {
      "cell_type": "code",
      "source": [
        "soup.select(\"div[class='tit-5 absolute js-display-hover']\")"
      ],
      "metadata": {
        "id": "WtOR4Y3LiGL2",
        "outputId": "77e88e85-656b-45fc-9216-0faa0ecf0f4a",
        "colab": {
          "base_uri": "https://localhost:8080/"
        }
      },
      "execution_count": 31,
      "outputs": [
        {
          "output_type": "execute_result",
          "data": {
            "text/plain": [
              "[<div class=\"tit-5 absolute js-display-hover\">\n",
              " <a class=\"js-display-hover-trigger\" href=\"https://spot.wooribank.com/pot/Dream?withyou=po\"><img alt=\"금융상품\" src=\"https://simg.wooribank.com/img/intro/header/btn_tit_4_intro_new_211130.png\"/></a>\n",
              " <div class=\"js-display-hover-area level2\">\n",
              " <span class=\"arrow\"></span>\n",
              " <ul class=\"menu\">\n",
              " <li class=\"title\"><a href=\"https://spot.wooribank.com/pot/Dream?withyou=po\">금융상품</a></li>\n",
              " <li><a href=\"https://spot.wooribank.com/pot/Dream?withyou=PORMG0002\">추천상품</a></li>\n",
              " <li><a href=\"https://spot.wooribank.com/pot/Dream?withyou=PODEP0001\">예금</a></li>\n",
              " <li><a href=\"https://spot.wooribank.com/pot/Dream?withyou=OWFDM0003\">펀드</a></li>\n",
              " <li><a href=\"https://spot.wooribank.com/pot/Dream?withyou=ln\">대출</a></li>\n",
              " <li><a href=\"https://spot.wooribank.com/pot/Dream?withyou=fx\">외환</a></li>\n",
              " <li><a href=\"https://spot.wooribank.com/pot/Dream?withyou=POGLD0001\">골드</a></li>\n",
              " <li><a href=\"https://spot.wooribank.com/pot/Dream?withyou=POTRT0001\">신탁</a></li>\n",
              " <li><a href=\"https://spot.wooribank.com/pot/Dream?withyou=POBAC0001\">보험</a></li>\n",
              " <li><a href=\"https://svc.wooribank.com/svc/Dream?withyou=rp\">퇴직연금</a></li>\n",
              " <li><a href=\"https://spot.wooribank.com/pot/Dream?withyou=OWMNG0014\">시니어플러스 은퇴설계</a></li>\n",
              " <li><a href=\"https://spot.wooribank.com/pot/Dream?withyou=IMISA0044\">ISA</a></li>\n",
              " </ul>\n",
              " </div>\n",
              " </div>]"
            ]
          },
          "metadata": {},
          "execution_count": 31
        }
      ]
    },
    {
      "cell_type": "code",
      "source": [
        "soup.select(\"div[class='tit-5 absolute js-display-hover'] li\")"
      ],
      "metadata": {
        "id": "jU6XSg_uiJhr",
        "outputId": "4a7efb8d-e224-4cec-df69-781dd711d9ca",
        "colab": {
          "base_uri": "https://localhost:8080/"
        }
      },
      "execution_count": 32,
      "outputs": [
        {
          "output_type": "execute_result",
          "data": {
            "text/plain": [
              "[<li class=\"title\"><a href=\"https://spot.wooribank.com/pot/Dream?withyou=po\">금융상품</a></li>,\n",
              " <li><a href=\"https://spot.wooribank.com/pot/Dream?withyou=PORMG0002\">추천상품</a></li>,\n",
              " <li><a href=\"https://spot.wooribank.com/pot/Dream?withyou=PODEP0001\">예금</a></li>,\n",
              " <li><a href=\"https://spot.wooribank.com/pot/Dream?withyou=OWFDM0003\">펀드</a></li>,\n",
              " <li><a href=\"https://spot.wooribank.com/pot/Dream?withyou=ln\">대출</a></li>,\n",
              " <li><a href=\"https://spot.wooribank.com/pot/Dream?withyou=fx\">외환</a></li>,\n",
              " <li><a href=\"https://spot.wooribank.com/pot/Dream?withyou=POGLD0001\">골드</a></li>,\n",
              " <li><a href=\"https://spot.wooribank.com/pot/Dream?withyou=POTRT0001\">신탁</a></li>,\n",
              " <li><a href=\"https://spot.wooribank.com/pot/Dream?withyou=POBAC0001\">보험</a></li>,\n",
              " <li><a href=\"https://svc.wooribank.com/svc/Dream?withyou=rp\">퇴직연금</a></li>,\n",
              " <li><a href=\"https://spot.wooribank.com/pot/Dream?withyou=OWMNG0014\">시니어플러스 은퇴설계</a></li>,\n",
              " <li><a href=\"https://spot.wooribank.com/pot/Dream?withyou=IMISA0044\">ISA</a></li>]"
            ]
          },
          "metadata": {},
          "execution_count": 32
        }
      ]
    },
    {
      "cell_type": "code",
      "execution_count": 33,
      "metadata": {
        "scrolled": true,
        "colab": {
          "base_uri": "https://localhost:8080/"
        },
        "id": "eUxrC5lIYr3v",
        "outputId": "966cbf24-20a3-42a3-93d8-b1b62fe855c8"
      },
      "outputs": [
        {
          "output_type": "stream",
          "name": "stdout",
          "text": [
            "금융상품\n",
            "추천상품\n",
            "예금\n",
            "펀드\n",
            "대출\n",
            "외환\n",
            "골드\n",
            "신탁\n",
            "보험\n",
            "퇴직연금\n",
            "시니어플러스 은퇴설계\n",
            "ISA\n"
          ]
        }
      ],
      "source": [
        "for item in soup.select(\"div[class='tit-5 absolute js-display-hover'] li\"):\n",
        "    print(item.text)"
      ]
    },
    {
      "cell_type": "code",
      "source": [
        "soup.select_one(\"div[class='tit-5 absolute js-display-hover'] li\")"
      ],
      "metadata": {
        "id": "RM2FPiF6jhUk",
        "outputId": "001293ac-ebc2-4a39-ceb2-8a76f7d55fcb",
        "colab": {
          "base_uri": "https://localhost:8080/"
        }
      },
      "execution_count": 47,
      "outputs": [
        {
          "output_type": "execute_result",
          "data": {
            "text/plain": [
              "<li class=\"title\"><a href=\"https://spot.wooribank.com/pot/Dream?withyou=po\">금융상품</a></li>"
            ]
          },
          "metadata": {},
          "execution_count": 47
        }
      ]
    },
    {
      "cell_type": "code",
      "source": [
        "soup.find(\"div\",{\"class\":\"tit-5 absolute js-display-hover\"})"
      ],
      "metadata": {
        "id": "E-e3NaBkj9HK",
        "outputId": "2228eef3-5ca3-4da5-f0d5-2926cb1b53b0",
        "colab": {
          "base_uri": "https://localhost:8080/"
        }
      },
      "execution_count": 49,
      "outputs": [
        {
          "output_type": "execute_result",
          "data": {
            "text/plain": [
              "<div class=\"tit-5 absolute js-display-hover\">\n",
              "<a class=\"js-display-hover-trigger\" href=\"https://spot.wooribank.com/pot/Dream?withyou=po\"><img alt=\"금융상품\" src=\"https://simg.wooribank.com/img/intro/header/btn_tit_4_intro_new_211130.png\"/></a>\n",
              "<div class=\"js-display-hover-area level2\">\n",
              "<span class=\"arrow\"></span>\n",
              "<ul class=\"menu\">\n",
              "<li class=\"title\"><a href=\"https://spot.wooribank.com/pot/Dream?withyou=po\">금융상품</a></li>\n",
              "<li><a href=\"https://spot.wooribank.com/pot/Dream?withyou=PORMG0002\">추천상품</a></li>\n",
              "<li><a href=\"https://spot.wooribank.com/pot/Dream?withyou=PODEP0001\">예금</a></li>\n",
              "<li><a href=\"https://spot.wooribank.com/pot/Dream?withyou=OWFDM0003\">펀드</a></li>\n",
              "<li><a href=\"https://spot.wooribank.com/pot/Dream?withyou=ln\">대출</a></li>\n",
              "<li><a href=\"https://spot.wooribank.com/pot/Dream?withyou=fx\">외환</a></li>\n",
              "<li><a href=\"https://spot.wooribank.com/pot/Dream?withyou=POGLD0001\">골드</a></li>\n",
              "<li><a href=\"https://spot.wooribank.com/pot/Dream?withyou=POTRT0001\">신탁</a></li>\n",
              "<li><a href=\"https://spot.wooribank.com/pot/Dream?withyou=POBAC0001\">보험</a></li>\n",
              "<li><a href=\"https://svc.wooribank.com/svc/Dream?withyou=rp\">퇴직연금</a></li>\n",
              "<li><a href=\"https://spot.wooribank.com/pot/Dream?withyou=OWMNG0014\">시니어플러스 은퇴설계</a></li>\n",
              "<li><a href=\"https://spot.wooribank.com/pot/Dream?withyou=IMISA0044\">ISA</a></li>\n",
              "</ul>\n",
              "</div>\n",
              "</div>"
            ]
          },
          "metadata": {},
          "execution_count": 49
        }
      ]
    },
    {
      "cell_type": "code",
      "source": [
        "soup.find(\"div\",{\"class\":\"tit-5 absolute js-display-hover\"}).find_all(\"li\")"
      ],
      "metadata": {
        "id": "Yd6ymY_OlD92",
        "outputId": "bf609473-8523-404c-ba83-06c1b8d8128d",
        "colab": {
          "base_uri": "https://localhost:8080/"
        }
      },
      "execution_count": 54,
      "outputs": [
        {
          "output_type": "execute_result",
          "data": {
            "text/plain": [
              "[<li class=\"title\"><a href=\"https://spot.wooribank.com/pot/Dream?withyou=po\">금융상품</a></li>,\n",
              " <li><a href=\"https://spot.wooribank.com/pot/Dream?withyou=PORMG0002\">추천상품</a></li>,\n",
              " <li><a href=\"https://spot.wooribank.com/pot/Dream?withyou=PODEP0001\">예금</a></li>,\n",
              " <li><a href=\"https://spot.wooribank.com/pot/Dream?withyou=OWFDM0003\">펀드</a></li>,\n",
              " <li><a href=\"https://spot.wooribank.com/pot/Dream?withyou=ln\">대출</a></li>,\n",
              " <li><a href=\"https://spot.wooribank.com/pot/Dream?withyou=fx\">외환</a></li>,\n",
              " <li><a href=\"https://spot.wooribank.com/pot/Dream?withyou=POGLD0001\">골드</a></li>,\n",
              " <li><a href=\"https://spot.wooribank.com/pot/Dream?withyou=POTRT0001\">신탁</a></li>,\n",
              " <li><a href=\"https://spot.wooribank.com/pot/Dream?withyou=POBAC0001\">보험</a></li>,\n",
              " <li><a href=\"https://svc.wooribank.com/svc/Dream?withyou=rp\">퇴직연금</a></li>,\n",
              " <li><a href=\"https://spot.wooribank.com/pot/Dream?withyou=OWMNG0014\">시니어플러스 은퇴설계</a></li>,\n",
              " <li><a href=\"https://spot.wooribank.com/pot/Dream?withyou=IMISA0044\">ISA</a></li>]"
            ]
          },
          "metadata": {},
          "execution_count": 54
        }
      ]
    },
    {
      "cell_type": "markdown",
      "metadata": {
        "id": "cMP-EWjfYr3v"
      },
      "source": [
        "# Request, BS4 실습"
      ]
    },
    {
      "cell_type": "code",
      "source": [
        "# 연습용 페이지 크롤링 (To-do)\n",
        "# https://dataquestio.github.io/web-scraping-pages/ids_and_classes.html\n",
        "\n",
        "# \"First-outer paragraph\" 출력해보기\n",
        "\n",
        "r = requests.get(\"https://dataquestio.github.io/web-scraping-pages/ids_and_classes.html\")\n",
        "print(r.encoding)\n",
        "\n",
        "soup = BeautifulSoup(r.text, 'lxml')\n",
        "\n",
        "soup.select_one(\"p[class='outer-text first-item'] b\").text"
      ],
      "metadata": {
        "id": "FpuJnmYmnq45",
        "outputId": "1b65223b-ce36-4090-99f2-d868618142e3",
        "colab": {
          "base_uri": "https://localhost:8080/",
          "height": 53
        }
      },
      "execution_count": 78,
      "outputs": [
        {
          "output_type": "stream",
          "name": "stdout",
          "text": [
            "utf-8\n"
          ]
        },
        {
          "output_type": "execute_result",
          "data": {
            "text/plain": [
              "'\\n                First outer paragraph.\\n            '"
            ],
            "application/vnd.google.colaboratory.intrinsic+json": {
              "type": "string"
            }
          },
          "metadata": {},
          "execution_count": 78
        }
      ]
    },
    {
      "cell_type": "code",
      "execution_count": 79,
      "metadata": {
        "colab": {
          "base_uri": "https://localhost:8080/"
        },
        "id": "uKxCKAmwYr3w",
        "outputId": "3014dbfe-deba-4f74-8f52-d3c9597fb597"
      },
      "outputs": [
        {
          "output_type": "stream",
          "name": "stdout",
          "text": [
            "EUC-KR\n",
            "2,735.03\n"
          ]
        }
      ],
      "source": [
        "# 오늘의 코스피 받아오기 (To-do)\n",
        "r = requests.get(\"https://finance.naver.com/sise/sise_index.naver?code=KOSPI\")\n",
        "print(r.encoding)\n",
        "soup = BeautifulSoup(r.text, 'lxml')\n",
        "\n",
        "tag = soup.select_one(\"em[id='now_value']\")\n",
        "# tag = soup.find(\"em\", {\"id\":\"now_value\"}) 로 쓸수도 있음\n",
        "print(tag.text)"
      ]
    },
    {
      "cell_type": "code",
      "source": [
        "# 네이버웹툰 https://comic.naver.com/webtoon/weekday 실시간 인기 급상승 웹툰 1위-10위 제목 뽑아보기\n",
        "\n",
        "\n",
        "r = requests.get(\"https://comic.naver.com/webtoon/weekday\")\n",
        "print(r.encoding)\n",
        "# print(r.text)\n",
        "soup = BeautifulSoup(r.content, 'lxml')\n",
        "rank_webtoons = soup.select(\"ol[id='realTimeRankFavorite'] li a\" )\n",
        "for webtoon in rank_webtoons:\n",
        "  print(webtoon.text)"
      ],
      "metadata": {
        "id": "cNsFPmWStwS9",
        "outputId": "452d6760-d523-4ee3-94fe-3ecd1411b556",
        "colab": {
          "base_uri": "https://localhost:8080/"
        }
      },
      "execution_count": 86,
      "outputs": [
        {
          "output_type": "stream",
          "name": "stdout",
          "text": [
            "UTF-8\n",
            "전지적 독자 시점-097. Ep. 20 범람의 재앙 (5)\n",
            "내 남편과 결혼해줘-23화\n",
            "화산귀환-54화\n",
            "남주의 첫날밤을 가져버렸다-외전 1화\n",
            "튜토리얼 탑의 고인물-102화\n",
            "나쁜사람-88화\n",
            "먹는 인생-44화 체리\n",
            "66666년 만에 환생한 흑마법사-41화 : 또 다른 실력자\n",
            "일렉시드-184화\n",
            "쓰레기는 쓰레기통에!-8화\n"
          ]
        }
      ]
    },
    {
      "cell_type": "code",
      "source": [
        "# National Weather Service 페이지 크롤링\n",
        "# https://forecast.weather.gov/MapClick.php?lat=37.7772&lon=-122.4168#.Yk05PBNBxFw\n",
        "\n",
        "r = requests.get(\"https://forecast.weather.gov/MapClick.php?lat=37.7772&lon=-122.4168#.Yk05PBNBxFw\")\n",
        "print(r.encoding)\n",
        "\n",
        "soup = BeautifulSoup(r.text, 'lxml')\n",
        "\n",
        "descList = soup.select(\"div[id='seven-day-forecast'] li[class='forecast-tombstone'] p[class='short-desc']\")\n",
        "for item in descList:\n",
        "  print(item.text)"
      ],
      "metadata": {
        "id": "Wa53XQe2qj7O",
        "outputId": "80e33e88-2834-4cb5-ad20-c59ff2eca161",
        "colab": {
          "base_uri": "https://localhost:8080/"
        }
      },
      "execution_count": 77,
      "outputs": [
        {
          "output_type": "stream",
          "name": "stdout",
          "text": [
            "UTF-8\n",
            "Mostly Clear\n",
            "Sunny\n",
            "Clear\n",
            "Sunny\n",
            "Mostly Clear\n",
            "Mostly Sunny\n",
            "Mostly Clear\n",
            "Sunny\n",
            "Mostly Clear\n"
          ]
        }
      ]
    },
    {
      "cell_type": "code",
      "execution_count": 80,
      "metadata": {
        "colab": {
          "base_uri": "https://localhost:8080/"
        },
        "id": "FU3bY1AaYr3x",
        "outputId": "bce60b79-a261-42cf-e1ce-cbb7d4871ac6"
      },
      "outputs": [
        {
          "output_type": "stream",
          "name": "stdout",
          "text": [
            "UTF-8\n",
            "{'17시': '19도', '18시': '18도', '19시': '15도', '20시': '15도', '21시': '14도', '22시': '13도', '23시': '13도', '내일': '9도', '1시': '7도', '2시': '7도', '3시': '6도', '4시': '6도', '5시': '6도', '6시': '6도', '7시': '6도', '8시': '8도', '9시': '10도', '10시': '12도', '11시': '14도', '12시': '16도', '13시': '18도', '14시': '19도', '15시': '19도', '16시': '19도', '모레': '7도', '글피': '12도'}\n"
          ]
        }
      ],
      "source": [
        "# 시간별 날씨 (To-do)\n",
        "# https://weather.naver.com/today/\n",
        "# 시간대별로 날씨 뽑아와서 dictionary에 저장하기\n",
        "\n",
        "r = requests.get(\"https://weather.naver.com/today/\")\n",
        "print(r.encoding)\n",
        "# print(r.text)\n",
        "soup = BeautifulSoup(r.content, 'lxml')\n",
        "\n",
        "# 시간대별 날씨 탭\n",
        "# 마우스 우클릭 -> 페이지 소스 보기 or 검사 \n",
        "# html 코드에서 시간대별 날씨 데이터가 포함된 태그 \n",
        "\n",
        "# <div class=\"scroll_area\" data-name=\"hourly\" data-click=\"false\" data-nclk=\"wtk.hourscr\">\n",
        "#   <div>\n",
        "#     <ul>\n",
        "#       <li>\n",
        "#         <span class=\"time\">16시</span>\n",
        "#         <span class=\"blind\">흐림</span>\n",
        "#         <span class=\"blind\">17도</span>\n",
        "#       </li>\n",
        "#     </ul>\n",
        "#   </div>\n",
        "# </div>\n",
        "\n",
        "# data-name 이 hourly인 div 태그로부터 시작 !\n",
        "\n",
        "# soup.select(\"\")\n",
        "\n",
        "hourly_weather = {}\n",
        "for k, weather in enumerate(soup.select(\"div[data-name='hourly'] div ul li span\" )):\n",
        "    if k%3==0:\n",
        "        weather_time = weather.text\n",
        "    if k%3==2:\n",
        "        temparature = weather.text\n",
        "        hourly_weather[weather_time] = temparature\n",
        "print(hourly_weather)"
      ]
    },
    {
      "cell_type": "code",
      "source": [
        "# Challenging\n",
        "\n",
        "# Melon playlist \n",
        "# https://www.melon.com/chart/index.htm\n",
        "# 1위-100위 노래 제목 뽑기\n",
        "\n",
        "melon_html = requests.get(\"https://www.melon.com/chart/index.htm\",\n",
        "                  timeout = 15, # 1초 동안 무응답 시 에러처리,\n",
        "                  \n",
        "                  headers = {\n",
        "                      \"User-agent\" : \"Mozilla/5.0 (Macintosh; Intel Mac OS X 10_15_7) \\\n",
        "                      AppleWebKit/537.36 (KHTML, like Gecko) Chrome/98.0.4758.109\"\n",
        "                  }\n",
        "                ) \n",
        "\n",
        "soup = BeautifulSoup(melon_html.content, 'lxml')\n",
        "song_titles = soup.select(\"div[class='wrap_song_info'] div[class='ellipsis rank01']\")\n",
        "for song in song_titles:\n",
        "  print(song.text)"
      ],
      "metadata": {
        "id": "AAoNHMQauDH0",
        "outputId": "35cd0cc9-51fa-4824-9ded-07bf6ab50fb7",
        "colab": {
          "base_uri": "https://localhost:8080/"
        }
      },
      "execution_count": 94,
      "outputs": [
        {
          "output_type": "stream",
          "name": "stdout",
          "text": [
            "\n",
            "봄여름가을겨울 (Still Life)\n",
            "\n",
            "\n",
            "TOMBOY\n",
            "\n",
            "\n",
            "Feel My Rhythm\n",
            "\n",
            "\n",
            "GANADARA (Feat. 아이유)\n",
            "\n",
            "\n",
            "사랑인가 봐\n",
            "\n",
            "\n",
            "사랑은 늘 도망가\n",
            "\n",
            "\n",
            "INVU\n",
            "\n",
            "\n",
            "취중고백\n",
            "\n",
            "\n",
            "LOVE DIVE\n",
            "\n",
            "\n",
            "듣고 싶을까\n",
            "\n",
            "\n",
            "버퍼링 (Glitch Mode)\n",
            "\n",
            "\n",
            "RUN2U\n",
            "\n",
            "\n",
            "언제나 사랑해\n",
            "\n",
            "\n",
            "ELEVEN\n",
            "\n",
            "\n",
            "다정히 내 이름을 부르면\n",
            "\n",
            "\n",
            "SMILEY (Feat. BIBI)\n",
            "\n",
            "\n",
            "존재만으로\n",
            "\n",
            "\n",
            "신호등\n",
            "\n",
            "\n",
            "이제 나만 믿어요\n",
            "\n",
            "\n",
            "회전목마 (Feat. Zion.T, 원슈타인) (Prod. Slom)\n",
            "\n",
            "\n",
            "STAY\n",
            "\n",
            "\n",
            "드라마\n",
            "\n",
            "\n",
            "사랑인걸\n",
            "\n",
            "\n",
            "다시 사랑한다면 (김필 Ver.)\n",
            "\n",
            "\n",
            "Step Back\n",
            "\n",
            "\n",
            "어제처럼\n",
            "\n",
            "\n",
            "strawberry moon\n",
            "\n",
            "\n",
            "그대라는 사치\n",
            "\n",
            "\n",
            "너, 너 (N번째 연애 X 휘인 (Whee In))\n",
            "\n",
            "\n",
            "MY BAG\n",
            "\n",
            "\n",
            "리무진 (Feat. MINO) (Prod. GRAY)\n",
            "\n",
            "\n",
            "별빛 같은 나의 사랑아\n",
            "\n",
            "\n",
            "Next Level\n",
            "\n",
            "\n",
            "잊었니\n",
            "\n",
            "\n",
            "19금\n",
            "abcdefu\n",
            "\n",
            "\n",
            "Weekend\n",
            "\n",
            "\n",
            "HERO\n",
            "\n",
            "\n",
            "호랑수월가\n",
            "\n",
            "\n",
            "눈이 오잖아(Feat.헤이즈)\n",
            "\n",
            "\n",
            "끝사랑\n",
            "\n",
            "\n",
            "내 생에 아름다운\n",
            "\n",
            "\n",
            "Dynamite\n",
            "\n",
            "\n",
            "너를 생각해\n",
            "\n",
            "\n",
            "Starlight\n",
            "\n",
            "\n",
            "라일락\n",
            "\n",
            "\n",
            "Butter\n",
            "\n",
            "\n",
            "북극성 (Never Goodbye)\n",
            "\n",
            "\n",
            "Counting Stars (Feat. Beenzino)\n",
            "\n",
            "\n",
            "Real Love\n",
            "\n",
            "\n",
            "Dreams Come True\n",
            "\n",
            "\n",
            "Bk Love\n",
            "\n",
            "\n",
            "바라만 본다\n",
            "\n",
            "\n",
            "Savage\n",
            "\n",
            "\n",
            "봄날\n",
            "\n",
            "\n",
            "내가 아니라도\n",
            "\n",
            "\n",
            "Permission to Dance\n",
            "\n",
            "\n",
            "OHAYO MY NIGHT\n",
            "\n",
            "\n",
            "스물다섯, 스물하나\n",
            "\n",
            "\n",
            "Blueming\n",
            "\n",
            "\n",
            "Celebrity\n",
            "\n",
            "\n",
            "내 손을 잡아\n",
            "\n",
            "\n",
            "With\n",
            "\n",
            "\n",
            "찰나가 영원이 될 때 (The Eternal Moment)\n",
            "\n",
            "\n",
            "Bad Habits\n",
            "\n",
            "\n",
            "아주, 천천히\n",
            "\n",
            "\n",
            "DAYDREAM\n",
            "\n",
            "\n",
            "모든 날, 모든 순간 (Every day, Every Moment)\n",
            "\n",
            "\n",
            "만남은 쉽고 이별은 어려워 (Feat. Leellamarz) (Prod. TOIL)\n",
            "\n",
            "\n",
            "My Universe\n",
            "\n",
            "\n",
            "사이렌 Remix (Feat. UNEDUCATED KID, Paul Blanco)\n",
            "\n",
            "\n",
            "Dun Dun Dance\n",
            "\n",
            "\n",
            "밤하늘의 별을(2020)\n",
            "\n",
            "\n",
            "벚꽃이 피면 우리 그만 헤어져\n",
            "\n",
            "\n",
            "Off My Face\n",
            "\n",
            "\n",
            "벚꽃 엔딩\n",
            "\n",
            "\n",
            "Arcade\n",
            "\n",
            "\n",
            "겨울잠\n",
            "\n",
            "\n",
            "봄 사랑 벚꽃 말고\n",
            "\n",
            "\n",
            "서랍\n",
            "\n",
            "\n",
            "헤픈 우연\n",
            "\n",
            "\n",
            "고백\n",
            "\n",
            "\n",
            "너의 모든 순간\n",
            "\n",
            "\n",
            "Can't Control Myself\n",
            "\n",
            "\n",
            "계단말고 엘리베이터\n",
            "\n",
            "\n",
            "낙하 (with 아이유)\n",
            "\n",
            "\n",
            "꽃 (With 김민석 of 멜로망스)\n",
            "\n",
            "\n",
            "문득\n",
            "\n",
            "\n",
            "너를 위한 단어 (It’s Yours)\n",
            "\n",
            "\n",
            "미니카 (Drive)\n",
            "\n",
            "\n",
            "언덕나무\n",
            "\n",
            "\n",
            "Rewind\n",
            "\n",
            "\n",
            "Christmas Tree\n",
            "\n",
            "\n",
            "어떻게 이별까지 사랑하겠어, 널 사랑하는 거지\n",
            "\n",
            "\n",
            "Stronger (What Doesn't Kill You)\n",
            "\n",
            "\n",
            "아무래도 난\n",
            "\n",
            "\n",
            "잘 자 (Teddy Bear)\n",
            "\n",
            "\n",
            "Saturday Drip\n",
            "\n",
            "\n",
            "롤린 (Rollin')\n",
            "\n",
            "\n",
            "Better Than Gold (지금)\n",
            "\n",
            "\n",
            "Fire Alarm\n",
            "\n"
          ]
        }
      ]
    }
  ],
  "metadata": {
    "colab": {
      "name": "04.ipynb",
      "provenance": []
    },
    "kernelspec": {
      "display_name": "bigdata",
      "language": "python",
      "name": "bigdata"
    },
    "language_info": {
      "codemirror_mode": {
        "name": "ipython",
        "version": 3
      },
      "file_extension": ".py",
      "mimetype": "text/x-python",
      "name": "python",
      "nbconvert_exporter": "python",
      "pygments_lexer": "ipython3",
      "version": "3.7.11"
    }
  },
  "nbformat": 4,
  "nbformat_minor": 0
}