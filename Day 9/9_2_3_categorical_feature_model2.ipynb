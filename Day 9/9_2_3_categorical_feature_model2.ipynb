{
  "cells": [
    {
      "cell_type": "markdown",
      "metadata": {
        "id": "view-in-github",
        "colab_type": "text"
      },
      "source": [
        "<a href=\"https://colab.research.google.com/github/SLCFLAB/Data-Science-Python/blob/main/Day%209/9_2_3_categorical_feature_model2.ipynb\" target=\"_parent\"><img src=\"https://colab.research.google.com/assets/colab-badge.svg\" alt=\"Open In Colab\"/></a>"
      ]
    },
    {
      "cell_type": "markdown",
      "id": "767f68c4",
      "metadata": {
        "papermill": {
          "duration": 0.014829,
          "end_time": "2022-03-04T14:34:57.196318",
          "exception": false,
          "start_time": "2022-03-04T14:34:57.181489",
          "status": "completed"
        },
        "tags": [],
        "id": "767f68c4"
      },
      "source": [
        "# 범주형 데이터 이진분류 경진대회 모델 성능 개선 II"
      ]
    },
    {
      "cell_type": "markdown",
      "id": "5f7cb550",
      "metadata": {
        "papermill": {
          "duration": 0.012741,
          "end_time": "2022-03-04T14:34:57.223361",
          "exception": false,
          "start_time": "2022-03-04T14:34:57.210620",
          "status": "completed"
        },
        "tags": [],
        "id": "5f7cb550"
      },
      "source": [
        "- [범주형 데이터 이진분류 경진대회 링크](https://www.kaggle.com/c/cat-in-the-dat/)\n",
        "- [모델링 코드 참고 링크](https://www.kaggle.com/dkomyagin/cat-in-the-dat-0-80285-private-lb-solution)"
      ]
    },
    {
      "cell_type": "code",
      "execution_count": 1,
      "id": "8ca9394d",
      "metadata": {
        "execution": {
          "iopub.execute_input": "2022-03-04T14:34:57.258440Z",
          "iopub.status.busy": "2022-03-04T14:34:57.257857Z",
          "iopub.status.idle": "2022-03-04T14:34:59.634841Z",
          "shell.execute_reply": "2022-03-04T14:34:59.634151Z"
        },
        "papermill": {
          "duration": 2.398552,
          "end_time": "2022-03-04T14:34:59.634999",
          "exception": false,
          "start_time": "2022-03-04T14:34:57.236447",
          "status": "completed"
        },
        "tags": [],
        "id": "8ca9394d"
      },
      "outputs": [],
      "source": [
        "import pandas as pd\n",
        "\n",
        "# 데이터 경로\n",
        "data_path = 'https://raw.githubusercontent.com/SLCFLAB/Data-Science-Python/main/Day%209/data/'\n",
        "\n",
        "\n",
        "train = pd.read_csv(data_path + 'cat_train.csv', index_col='id')\n",
        "test = pd.read_csv(data_path + 'cat_test.csv', index_col='id')\n",
        "submission = pd.read_csv(data_path + 'cat_sample_submission.csv', index_col='id')"
      ]
    },
    {
      "cell_type": "markdown",
      "id": "b0cd779b",
      "metadata": {
        "papermill": {
          "duration": 0.013198,
          "end_time": "2022-03-04T14:34:59.662100",
          "exception": false,
          "start_time": "2022-03-04T14:34:59.648902",
          "status": "completed"
        },
        "tags": [],
        "id": "b0cd779b"
      },
      "source": [
        "## 피처 엔지니어링 I : 피처 맞춤 인코딩"
      ]
    },
    {
      "cell_type": "markdown",
      "id": "4d1a3169",
      "metadata": {
        "papermill": {
          "duration": 0.012877,
          "end_time": "2022-03-04T14:34:59.688398",
          "exception": false,
          "start_time": "2022-03-04T14:34:59.675521",
          "status": "completed"
        },
        "tags": [],
        "id": "4d1a3169"
      },
      "source": [
        "### 데이터 합치기"
      ]
    },
    {
      "cell_type": "code",
      "execution_count": 2,
      "id": "64ad02d2",
      "metadata": {
        "execution": {
          "iopub.execute_input": "2022-03-04T14:34:59.720653Z",
          "iopub.status.busy": "2022-03-04T14:34:59.719993Z",
          "iopub.status.idle": "2022-03-04T14:35:00.308904Z",
          "shell.execute_reply": "2022-03-04T14:35:00.308398Z"
        },
        "papermill": {
          "duration": 0.607543,
          "end_time": "2022-03-04T14:35:00.309050",
          "exception": false,
          "start_time": "2022-03-04T14:34:59.701507",
          "status": "completed"
        },
        "tags": [],
        "id": "64ad02d2"
      },
      "outputs": [],
      "source": [
        "# 훈련 데이터와 테스트 데이터 합치기\n",
        "all_data = pd.concat([train, test])\n",
        "all_data = all_data.drop('target', axis=1) # 타깃 값 제거"
      ]
    },
    {
      "cell_type": "markdown",
      "id": "6533e712",
      "metadata": {
        "papermill": {
          "duration": 0.012817,
          "end_time": "2022-03-04T14:35:00.335211",
          "exception": false,
          "start_time": "2022-03-04T14:35:00.322394",
          "status": "completed"
        },
        "tags": [],
        "id": "6533e712"
      },
      "source": [
        "### 이진 피처 인코딩"
      ]
    },
    {
      "cell_type": "code",
      "execution_count": 3,
      "id": "d87f3f2c",
      "metadata": {
        "execution": {
          "iopub.execute_input": "2022-03-04T14:35:00.389552Z",
          "iopub.status.busy": "2022-03-04T14:35:00.388876Z",
          "iopub.status.idle": "2022-03-04T14:35:00.648975Z",
          "shell.execute_reply": "2022-03-04T14:35:00.648413Z"
        },
        "papermill": {
          "duration": 0.29948,
          "end_time": "2022-03-04T14:35:00.649116",
          "exception": false,
          "start_time": "2022-03-04T14:35:00.349636",
          "status": "completed"
        },
        "tags": [],
        "id": "d87f3f2c"
      },
      "outputs": [],
      "source": [
        "all_data['bin_3'] = all_data['bin_3'].map({'F':0, 'T':1})\n",
        "all_data['bin_4'] = all_data['bin_4'].map({'N':0, 'Y':1})"
      ]
    },
    {
      "cell_type": "markdown",
      "id": "7671b326",
      "metadata": {
        "papermill": {
          "duration": 0.01313,
          "end_time": "2022-03-04T14:35:00.675811",
          "exception": false,
          "start_time": "2022-03-04T14:35:00.662681",
          "status": "completed"
        },
        "tags": [],
        "id": "7671b326"
      },
      "source": [
        "### 순서형 피처 인코딩"
      ]
    },
    {
      "cell_type": "code",
      "execution_count": 4,
      "id": "4aa16f11",
      "metadata": {
        "execution": {
          "iopub.execute_input": "2022-03-04T14:35:00.745219Z",
          "iopub.status.busy": "2022-03-04T14:35:00.708421Z",
          "iopub.status.idle": "2022-03-04T14:35:00.981301Z",
          "shell.execute_reply": "2022-03-04T14:35:00.980781Z"
        },
        "papermill": {
          "duration": 0.292112,
          "end_time": "2022-03-04T14:35:00.981449",
          "exception": false,
          "start_time": "2022-03-04T14:35:00.689337",
          "status": "completed"
        },
        "tags": [],
        "id": "4aa16f11"
      },
      "outputs": [],
      "source": [
        "ord1dict = {'Novice':0, 'Contributor':1, \n",
        "            'Expert':2, 'Master':3, 'Grandmaster':4}\n",
        "ord2dict = {'Freezing':0, 'Cold':1, 'Warm':2, \n",
        "            'Hot':3, 'Boiling Hot':4, 'Lava Hot':5}\n",
        "\n",
        "all_data['ord_1'] = all_data['ord_1'].map(ord1dict)\n",
        "all_data['ord_2'] = all_data['ord_2'].map(ord2dict)"
      ]
    },
    {
      "cell_type": "code",
      "execution_count": 5,
      "id": "9cd758b2",
      "metadata": {
        "execution": {
          "iopub.execute_input": "2022-03-04T14:35:01.015650Z",
          "iopub.status.busy": "2022-03-04T14:35:01.014864Z",
          "iopub.status.idle": "2022-03-04T14:35:02.481103Z",
          "shell.execute_reply": "2022-03-04T14:35:02.480390Z"
        },
        "papermill": {
          "duration": 1.485865,
          "end_time": "2022-03-04T14:35:02.481285",
          "exception": false,
          "start_time": "2022-03-04T14:35:00.995420",
          "status": "completed"
        },
        "tags": [],
        "colab": {
          "base_uri": "https://localhost:8080/"
        },
        "id": "9cd758b2",
        "outputId": "c1f9e454-6f8f-4354-fb79-50b2f4b9d295"
      },
      "outputs": [
        {
          "output_type": "stream",
          "name": "stdout",
          "text": [
            "ord_3\n",
            "['a' 'b' 'c' 'd' 'e' 'f' 'g' 'h' 'i' 'j' 'k' 'l' 'm' 'n' 'o']\n",
            "ord_4\n",
            "['A' 'B' 'C' 'D' 'E' 'F' 'G' 'H' 'I' 'J' 'K' 'L' 'M' 'N' 'O' 'P' 'Q' 'R'\n",
            " 'S' 'T' 'U' 'V' 'W' 'X' 'Y' 'Z']\n",
            "ord_5\n",
            "['AP' 'Ai' 'Aj' 'BA' 'BE' 'Bb' 'Bd' 'Bn' 'CL' 'CM' 'CU' 'CZ' 'Cl' 'DH'\n",
            " 'DN' 'Dc' 'Dx' 'Ed' 'Eg' 'Er' 'FI' 'Fd' 'Fo' 'GD' 'GJ' 'Gb' 'Gx' 'Hj'\n",
            " 'IK' 'Id' 'JX' 'Jc' 'Jf' 'Jt' 'KR' 'KZ' 'Kf' 'Kq' 'LE' 'MC' 'MO' 'MV'\n",
            " 'Mf' 'Ml' 'Mx' 'NV' 'Nf' 'Nk' 'OR' 'Ob' 'Os' 'PA' 'PQ' 'PZ' 'Ps' 'QM'\n",
            " 'Qb' 'Qh' 'Qo' 'RG' 'RL' 'RP' 'Rm' 'Ry' 'SB' 'Sc' 'TR' 'TZ' 'To' 'UO'\n",
            " 'Uk' 'Uu' 'Vf' 'Vx' 'WE' 'Wc' 'Wv' 'XI' 'Xh' 'Xi' 'YC' 'Yb' 'Ye' 'ZR'\n",
            " 'ZS' 'Zc' 'Zq' 'aF' 'aM' 'aO' 'aP' 'ac' 'av' 'bF' 'bJ' 'be' 'cA' 'cG'\n",
            " 'cW' 'ck' 'cp' 'dB' 'dE' 'dN' 'dO' 'dP' 'dQ' 'dZ' 'dh' 'eG' 'eQ' 'eb'\n",
            " 'eg' 'ek' 'ex' 'fO' 'fh' 'gJ' 'gM' 'hL' 'hT' 'hh' 'hp' 'iT' 'ih' 'jS'\n",
            " 'jV' 'je' 'jp' 'kC' 'kE' 'kK' 'kL' 'kU' 'kW' 'ke' 'kr' 'kw' 'lF' 'lL'\n",
            " 'll' 'lx' 'mb' 'mc' 'mm' 'nX' 'nh' 'oC' 'oG' 'oH' 'oK' 'od' 'on' 'pa'\n",
            " 'ps' 'qA' 'qJ' 'qK' 'qP' 'qX' 'qo' 'qv' 'qw' 'rZ' 'ri' 'rp' 'sD' 'sV'\n",
            " 'sY' 'sn' 'su' 'tM' 'tP' 'tv' 'uJ' 'uS' 'ud' 'us' 'ut' 'ux' 'uy' 'vK'\n",
            " 'vq' 'vy' 'wu' 'wy' 'xP' 'xy' 'yN' 'yY' 'yc' 'zU']\n"
          ]
        }
      ],
      "source": [
        "from sklearn.preprocessing import OrdinalEncoder\n",
        "\n",
        "ord_345 = ['ord_3', 'ord_4', 'ord_5']\n",
        "\n",
        "ord_encoder = OrdinalEncoder() # OrdinalEncoder 객체 생성\n",
        "# ordinal 인코딩 적용\n",
        "all_data[ord_345] = ord_encoder.fit_transform(all_data[ord_345])\n",
        "\n",
        "# 피처별 인코딩 순서 출력\n",
        "for feature, categories in zip(ord_345, ord_encoder.categories_):\n",
        "    print(feature)\n",
        "    print(categories)"
      ]
    },
    {
      "cell_type": "markdown",
      "id": "bfdd89b6",
      "metadata": {
        "papermill": {
          "duration": 0.014492,
          "end_time": "2022-03-04T14:35:02.510941",
          "exception": false,
          "start_time": "2022-03-04T14:35:02.496449",
          "status": "completed"
        },
        "tags": [],
        "id": "bfdd89b6"
      },
      "source": [
        "### 명목형 피처 인코딩"
      ]
    },
    {
      "cell_type": "code",
      "execution_count": 6,
      "id": "75dec311",
      "metadata": {
        "execution": {
          "iopub.execute_input": "2022-03-04T14:35:02.544625Z",
          "iopub.status.busy": "2022-03-04T14:35:02.544023Z",
          "iopub.status.idle": "2022-03-04T14:35:02.546615Z",
          "shell.execute_reply": "2022-03-04T14:35:02.546045Z"
        },
        "papermill": {
          "duration": 0.021648,
          "end_time": "2022-03-04T14:35:02.546761",
          "exception": false,
          "start_time": "2022-03-04T14:35:02.525113",
          "status": "completed"
        },
        "tags": [],
        "id": "75dec311"
      },
      "outputs": [],
      "source": [
        "nom_features = ['nom_' + str(i) for i in range(10)] # 명목형 피처"
      ]
    },
    {
      "cell_type": "code",
      "execution_count": 7,
      "id": "52905d11",
      "metadata": {
        "execution": {
          "iopub.execute_input": "2022-03-04T14:35:02.582546Z",
          "iopub.status.busy": "2022-03-04T14:35:02.581893Z",
          "iopub.status.idle": "2022-03-04T14:35:04.126140Z",
          "shell.execute_reply": "2022-03-04T14:35:04.125541Z"
        },
        "papermill": {
          "duration": 1.565579,
          "end_time": "2022-03-04T14:35:04.126298",
          "exception": false,
          "start_time": "2022-03-04T14:35:02.560719",
          "status": "completed"
        },
        "tags": [],
        "colab": {
          "base_uri": "https://localhost:8080/"
        },
        "id": "52905d11",
        "outputId": "020f8113-0c08-482f-88c0-e9e50feaacc5"
      },
      "outputs": [
        {
          "output_type": "execute_result",
          "data": {
            "text/plain": [
              "<500000x16276 sparse matrix of type '<class 'numpy.float64'>'\n",
              "\twith 5000000 stored elements in Compressed Sparse Row format>"
            ]
          },
          "metadata": {},
          "execution_count": 7
        }
      ],
      "source": [
        "from sklearn.preprocessing import OneHotEncoder\n",
        "\n",
        "onehot_encoder = OneHotEncoder() # OneHotEncoder 객체 생성\n",
        "# 원-핫 인코딩 적용\n",
        "encoded_nom_matrix = onehot_encoder.fit_transform(all_data[nom_features])\n",
        "\n",
        "encoded_nom_matrix"
      ]
    },
    {
      "cell_type": "code",
      "execution_count": 8,
      "id": "b7204932",
      "metadata": {
        "execution": {
          "iopub.execute_input": "2022-03-04T14:35:04.188868Z",
          "iopub.status.busy": "2022-03-04T14:35:04.188226Z",
          "iopub.status.idle": "2022-03-04T14:35:04.191483Z",
          "shell.execute_reply": "2022-03-04T14:35:04.190963Z"
        },
        "papermill": {
          "duration": 0.050474,
          "end_time": "2022-03-04T14:35:04.191636",
          "exception": false,
          "start_time": "2022-03-04T14:35:04.141162",
          "status": "completed"
        },
        "tags": [],
        "id": "b7204932"
      },
      "outputs": [],
      "source": [
        "all_data = all_data.drop(nom_features, axis=1) # 기존 명목형 피처 삭제"
      ]
    },
    {
      "cell_type": "markdown",
      "id": "fab804bf",
      "metadata": {
        "papermill": {
          "duration": 0.014786,
          "end_time": "2022-03-04T14:35:04.221134",
          "exception": false,
          "start_time": "2022-03-04T14:35:04.206348",
          "status": "completed"
        },
        "tags": [],
        "id": "fab804bf"
      },
      "source": [
        "### 날짜 피처 인코딩"
      ]
    },
    {
      "cell_type": "code",
      "execution_count": 9,
      "id": "34ca99bc",
      "metadata": {
        "execution": {
          "iopub.execute_input": "2022-03-04T14:35:04.259940Z",
          "iopub.status.busy": "2022-03-04T14:35:04.259267Z",
          "iopub.status.idle": "2022-03-04T14:35:04.397966Z",
          "shell.execute_reply": "2022-03-04T14:35:04.397446Z"
        },
        "papermill": {
          "duration": 0.162139,
          "end_time": "2022-03-04T14:35:04.398117",
          "exception": false,
          "start_time": "2022-03-04T14:35:04.235978",
          "status": "completed"
        },
        "tags": [],
        "colab": {
          "base_uri": "https://localhost:8080/"
        },
        "id": "34ca99bc",
        "outputId": "48a55873-5402-4c74-99ac-6d9855a7b5dc"
      },
      "outputs": [
        {
          "output_type": "execute_result",
          "data": {
            "text/plain": [
              "<500000x19 sparse matrix of type '<class 'numpy.float64'>'\n",
              "\twith 1000000 stored elements in Compressed Sparse Row format>"
            ]
          },
          "metadata": {},
          "execution_count": 9
        }
      ],
      "source": [
        "date_features  = ['day', 'month'] # 날짜 피처\n",
        "\n",
        "# 원-핫 인코딩 적용\n",
        "encoded_date_matrix = onehot_encoder.fit_transform(all_data[date_features])\n",
        "\n",
        "all_data = all_data.drop(date_features, axis=1) # 기존 날짜 피처 삭제\n",
        "\n",
        "encoded_date_matrix"
      ]
    },
    {
      "cell_type": "markdown",
      "id": "53230fe5",
      "metadata": {
        "papermill": {
          "duration": 0.014697,
          "end_time": "2022-03-04T14:35:05.242909",
          "exception": false,
          "start_time": "2022-03-04T14:35:05.228212",
          "status": "completed"
        },
        "tags": [],
        "id": "53230fe5"
      },
      "source": [
        "### 데이터 나누기"
      ]
    },
    {
      "cell_type": "code",
      "execution_count": 35,
      "id": "05184bac",
      "metadata": {
        "execution": {
          "iopub.execute_input": "2022-03-04T14:35:05.278280Z",
          "iopub.status.busy": "2022-03-04T14:35:05.277661Z",
          "iopub.status.idle": "2022-03-04T14:35:05.358751Z",
          "shell.execute_reply": "2022-03-04T14:35:05.359213Z"
        },
        "papermill": {
          "duration": 0.101356,
          "end_time": "2022-03-04T14:35:05.359394",
          "exception": false,
          "start_time": "2022-03-04T14:35:05.258038",
          "status": "completed"
        },
        "tags": [],
        "id": "05184bac"
      },
      "outputs": [],
      "source": [
        "num_train = len(train) # 훈련 데이터 개수\n",
        "\n",
        "# 훈련 데이터와 테스트 데이터 나누기\n",
        "X_train = all_data[:num_train] # 0 ~ num_train - 1행\n",
        "X_test = all_data[num_train:] # num_train ~ 마지막 행\n",
        "\n",
        "y = train['target'].values"
      ]
    },
    {
      "cell_type": "markdown",
      "source": [
        "# XGBoost "
      ],
      "metadata": {
        "id": "jyVxkDty_O2V"
      },
      "id": "jyVxkDty_O2V"
    },
    {
      "cell_type": "markdown",
      "source": [
        "XGBoost란 Extreme Gradient Boosting의 약자로, Gradient Boost를 병렬학습 가능하도록 구현함.\n",
        "\n",
        "Regression과 Classification을 모두 지원하며, 성능과 효율이 좋은 편이다.\n",
        "\n",
        "\n",
        "\n"
      ],
      "metadata": {
        "id": "vva-0fDRJLMu"
      },
      "id": "vva-0fDRJLMu"
    },
    {
      "cell_type": "markdown",
      "source": [
        "방법 1.  사이킷런 래퍼 XGBoost 모듈"
      ],
      "metadata": {
        "id": "R1SzrA5tOr4C"
      },
      "id": "R1SzrA5tOr4C"
    },
    {
      "cell_type": "code",
      "source": [
        "import xgboost as xgb\n",
        "from xgboost import XGBClassifier\n",
        "\n",
        "# 1. 모델 선언\n",
        "xgb_model  = XGBClassifier()\n",
        "\n",
        "# 2. 모델 훈련 fit()함수\n",
        "xgb_model.fit(X_train, y)\n",
        "\n",
        "# 3. 모델 예측 predict()함수\n",
        "Y_pred = xgb_model.predict(X_test)\n",
        "\n",
        "# 4. score()\n",
        "xgb_model.score(X_train, y)"
      ],
      "metadata": {
        "id": "_EaBzPhNIphC",
        "outputId": "9d60b2db-4ed3-4f73-c68a-5e46709bbae1",
        "colab": {
          "base_uri": "https://localhost:8080/"
        }
      },
      "id": "_EaBzPhNIphC",
      "execution_count": 36,
      "outputs": [
        {
          "output_type": "execute_result",
          "data": {
            "text/plain": [
              "0.7267766666666666"
            ]
          },
          "metadata": {},
          "execution_count": 36
        }
      ]
    },
    {
      "cell_type": "markdown",
      "source": [
        "방법 2.  파이썬 래퍼 XGBoost 모듈"
      ],
      "metadata": {
        "id": "7j8Ssth0Odfe"
      },
      "id": "7j8Ssth0Odfe"
    },
    {
      "cell_type": "code",
      "source": [
        "from sklearn.model_selection import train_test_split\n",
        "X_train, X_valid, y_train, y_valid = train_test_split(X_train, y, \n",
        "                                                      test_size=0.2, \n",
        "                                                      random_state=0)\n",
        "dtrain = xgb.DMatrix(X_train, y_train)\n",
        "dvalid = xgb.DMatrix(X_valid, y_valid)"
      ],
      "metadata": {
        "id": "S8WCE_tA9_Fi"
      },
      "id": "S8WCE_tA9_Fi",
      "execution_count": 38,
      "outputs": []
    },
    {
      "cell_type": "code",
      "source": [
        "params = {'max_depth':3,\n",
        "         'eta':0.1,\n",
        "         'objective':'binary:logistic',\n",
        "         'eval_metric':'rmse',\n",
        "         'early_stoppings':100}\n",
        "num_rounds = 400\n",
        "w_list = [(dtrain,'train'),(dvalid,'valid')]"
      ],
      "metadata": {
        "id": "nTFaZOtSMQWp"
      },
      "id": "nTFaZOtSMQWp",
      "execution_count": 54,
      "outputs": []
    },
    {
      "cell_type": "code",
      "source": [
        "xgb_ml = xgb.train(params = params, dtrain = dtrain, num_boost_round = num_rounds, early_stopping_rounds = 100, evals = w_list)"
      ],
      "metadata": {
        "id": "OcHHPS3xLm3e",
        "outputId": "ac96d954-bb3e-4465-a9e4-cf187bbfdd27",
        "colab": {
          "base_uri": "https://localhost:8080/"
        }
      },
      "id": "OcHHPS3xLm3e",
      "execution_count": 55,
      "outputs": [
        {
          "output_type": "stream",
          "name": "stdout",
          "text": [
            "[0]\ttrain-rmse:0.490052\tvalid-rmse:0.490094\n",
            "Multiple eval metrics have been passed: 'valid-rmse' will be used for early stopping.\n",
            "\n",
            "Will train until valid-rmse hasn't improved in 100 rounds.\n",
            "[1]\ttrain-rmse:0.481789\tvalid-rmse:0.48181\n",
            "[2]\ttrain-rmse:0.474878\tvalid-rmse:0.474893\n",
            "[3]\ttrain-rmse:0.469073\tvalid-rmse:0.469141\n",
            "[4]\ttrain-rmse:0.464165\tvalid-rmse:0.464244\n",
            "[5]\ttrain-rmse:0.460051\tvalid-rmse:0.460172\n",
            "[6]\ttrain-rmse:0.45653\tvalid-rmse:0.456652\n",
            "[7]\ttrain-rmse:0.453548\tvalid-rmse:0.45364\n",
            "[8]\ttrain-rmse:0.450973\tvalid-rmse:0.451129\n",
            "[9]\ttrain-rmse:0.448801\tvalid-rmse:0.448993\n",
            "[10]\ttrain-rmse:0.446877\tvalid-rmse:0.447074\n",
            "[11]\ttrain-rmse:0.445217\tvalid-rmse:0.445422\n",
            "[12]\ttrain-rmse:0.443758\tvalid-rmse:0.444018\n",
            "[13]\ttrain-rmse:0.44248\tvalid-rmse:0.442759\n",
            "[14]\ttrain-rmse:0.441316\tvalid-rmse:0.441633\n",
            "[15]\ttrain-rmse:0.440263\tvalid-rmse:0.440581\n",
            "[16]\ttrain-rmse:0.439363\tvalid-rmse:0.439718\n",
            "[17]\ttrain-rmse:0.438542\tvalid-rmse:0.438909\n",
            "[18]\ttrain-rmse:0.437787\tvalid-rmse:0.438122\n",
            "[19]\ttrain-rmse:0.437099\tvalid-rmse:0.437461\n",
            "[20]\ttrain-rmse:0.436477\tvalid-rmse:0.436848\n",
            "[21]\ttrain-rmse:0.435898\tvalid-rmse:0.436314\n",
            "[22]\ttrain-rmse:0.435366\tvalid-rmse:0.435803\n",
            "[23]\ttrain-rmse:0.43488\tvalid-rmse:0.435321\n",
            "[24]\ttrain-rmse:0.434407\tvalid-rmse:0.434843\n",
            "[25]\ttrain-rmse:0.433983\tvalid-rmse:0.434452\n",
            "[26]\ttrain-rmse:0.433598\tvalid-rmse:0.434068\n",
            "[27]\ttrain-rmse:0.43323\tvalid-rmse:0.433735\n",
            "[28]\ttrain-rmse:0.432872\tvalid-rmse:0.433404\n",
            "[29]\ttrain-rmse:0.432535\tvalid-rmse:0.433086\n",
            "[30]\ttrain-rmse:0.432225\tvalid-rmse:0.43277\n",
            "[31]\ttrain-rmse:0.431938\tvalid-rmse:0.432501\n",
            "[32]\ttrain-rmse:0.431668\tvalid-rmse:0.432216\n",
            "[33]\ttrain-rmse:0.431403\tvalid-rmse:0.432012\n",
            "[34]\ttrain-rmse:0.43113\tvalid-rmse:0.431709\n",
            "[35]\ttrain-rmse:0.430884\tvalid-rmse:0.431477\n",
            "[36]\ttrain-rmse:0.430668\tvalid-rmse:0.431286\n",
            "[37]\ttrain-rmse:0.430441\tvalid-rmse:0.431079\n",
            "[38]\ttrain-rmse:0.430234\tvalid-rmse:0.430835\n",
            "[39]\ttrain-rmse:0.430037\tvalid-rmse:0.430635\n",
            "[40]\ttrain-rmse:0.429858\tvalid-rmse:0.430474\n",
            "[41]\ttrain-rmse:0.429677\tvalid-rmse:0.430297\n",
            "[42]\ttrain-rmse:0.429505\tvalid-rmse:0.430109\n",
            "[43]\ttrain-rmse:0.429356\tvalid-rmse:0.429987\n",
            "[44]\ttrain-rmse:0.429197\tvalid-rmse:0.429838\n",
            "[45]\ttrain-rmse:0.429051\tvalid-rmse:0.42968\n",
            "[46]\ttrain-rmse:0.428914\tvalid-rmse:0.429563\n",
            "[47]\ttrain-rmse:0.428774\tvalid-rmse:0.429439\n",
            "[48]\ttrain-rmse:0.428644\tvalid-rmse:0.429307\n",
            "[49]\ttrain-rmse:0.428531\tvalid-rmse:0.4292\n",
            "[50]\ttrain-rmse:0.428419\tvalid-rmse:0.429113\n",
            "[51]\ttrain-rmse:0.428305\tvalid-rmse:0.429004\n",
            "[52]\ttrain-rmse:0.428201\tvalid-rmse:0.428897\n",
            "[53]\ttrain-rmse:0.4281\tvalid-rmse:0.428798\n",
            "[54]\ttrain-rmse:0.428001\tvalid-rmse:0.428685\n",
            "[55]\ttrain-rmse:0.427921\tvalid-rmse:0.428609\n",
            "[56]\ttrain-rmse:0.427826\tvalid-rmse:0.428525\n",
            "[57]\ttrain-rmse:0.427745\tvalid-rmse:0.428457\n",
            "[58]\ttrain-rmse:0.427663\tvalid-rmse:0.428376\n",
            "[59]\ttrain-rmse:0.427584\tvalid-rmse:0.428298\n",
            "[60]\ttrain-rmse:0.427517\tvalid-rmse:0.428243\n",
            "[61]\ttrain-rmse:0.427451\tvalid-rmse:0.428186\n",
            "[62]\ttrain-rmse:0.427386\tvalid-rmse:0.428117\n",
            "[63]\ttrain-rmse:0.427322\tvalid-rmse:0.428068\n",
            "[64]\ttrain-rmse:0.427259\tvalid-rmse:0.428022\n",
            "[65]\ttrain-rmse:0.427202\tvalid-rmse:0.427985\n",
            "[66]\ttrain-rmse:0.427144\tvalid-rmse:0.427929\n",
            "[67]\ttrain-rmse:0.427093\tvalid-rmse:0.427878\n",
            "[68]\ttrain-rmse:0.427043\tvalid-rmse:0.427826\n",
            "[69]\ttrain-rmse:0.426995\tvalid-rmse:0.427792\n",
            "[70]\ttrain-rmse:0.426944\tvalid-rmse:0.427757\n",
            "[71]\ttrain-rmse:0.4269\tvalid-rmse:0.427707\n",
            "[72]\ttrain-rmse:0.42686\tvalid-rmse:0.42767\n",
            "[73]\ttrain-rmse:0.426821\tvalid-rmse:0.427625\n",
            "[74]\ttrain-rmse:0.42678\tvalid-rmse:0.427589\n",
            "[75]\ttrain-rmse:0.426741\tvalid-rmse:0.427553\n",
            "[76]\ttrain-rmse:0.426705\tvalid-rmse:0.427521\n",
            "[77]\ttrain-rmse:0.426672\tvalid-rmse:0.427502\n",
            "[78]\ttrain-rmse:0.426639\tvalid-rmse:0.427486\n",
            "[79]\ttrain-rmse:0.426607\tvalid-rmse:0.427456\n",
            "[80]\ttrain-rmse:0.426575\tvalid-rmse:0.427422\n",
            "[81]\ttrain-rmse:0.426543\tvalid-rmse:0.427398\n",
            "[82]\ttrain-rmse:0.426518\tvalid-rmse:0.427372\n",
            "[83]\ttrain-rmse:0.426491\tvalid-rmse:0.427353\n",
            "[84]\ttrain-rmse:0.426464\tvalid-rmse:0.427327\n",
            "[85]\ttrain-rmse:0.426441\tvalid-rmse:0.427309\n",
            "[86]\ttrain-rmse:0.426416\tvalid-rmse:0.427287\n",
            "[87]\ttrain-rmse:0.426394\tvalid-rmse:0.427263\n",
            "[88]\ttrain-rmse:0.426373\tvalid-rmse:0.42724\n",
            "[89]\ttrain-rmse:0.426352\tvalid-rmse:0.427223\n",
            "[90]\ttrain-rmse:0.426329\tvalid-rmse:0.427207\n",
            "[91]\ttrain-rmse:0.426309\tvalid-rmse:0.427193\n",
            "[92]\ttrain-rmse:0.426289\tvalid-rmse:0.427176\n",
            "[93]\ttrain-rmse:0.426269\tvalid-rmse:0.427161\n",
            "[94]\ttrain-rmse:0.426251\tvalid-rmse:0.427149\n",
            "[95]\ttrain-rmse:0.426236\tvalid-rmse:0.427132\n",
            "[96]\ttrain-rmse:0.426219\tvalid-rmse:0.427115\n",
            "[97]\ttrain-rmse:0.4262\tvalid-rmse:0.427099\n",
            "[98]\ttrain-rmse:0.426184\tvalid-rmse:0.427087\n",
            "[99]\ttrain-rmse:0.426169\tvalid-rmse:0.427072\n",
            "[100]\ttrain-rmse:0.426155\tvalid-rmse:0.427067\n",
            "[101]\ttrain-rmse:0.42614\tvalid-rmse:0.42706\n",
            "[102]\ttrain-rmse:0.426127\tvalid-rmse:0.427053\n",
            "[103]\ttrain-rmse:0.426115\tvalid-rmse:0.427038\n",
            "[104]\ttrain-rmse:0.426101\tvalid-rmse:0.427033\n",
            "[105]\ttrain-rmse:0.426089\tvalid-rmse:0.427018\n",
            "[106]\ttrain-rmse:0.426077\tvalid-rmse:0.42701\n",
            "[107]\ttrain-rmse:0.426064\tvalid-rmse:0.427004\n",
            "[108]\ttrain-rmse:0.426054\tvalid-rmse:0.426999\n",
            "[109]\ttrain-rmse:0.426042\tvalid-rmse:0.426994\n",
            "[110]\ttrain-rmse:0.426033\tvalid-rmse:0.426987\n",
            "[111]\ttrain-rmse:0.426023\tvalid-rmse:0.426981\n",
            "[112]\ttrain-rmse:0.426014\tvalid-rmse:0.426973\n",
            "[113]\ttrain-rmse:0.426004\tvalid-rmse:0.426972\n",
            "[114]\ttrain-rmse:0.425994\tvalid-rmse:0.426961\n",
            "[115]\ttrain-rmse:0.425985\tvalid-rmse:0.426956\n",
            "[116]\ttrain-rmse:0.425977\tvalid-rmse:0.426949\n",
            "[117]\ttrain-rmse:0.425969\tvalid-rmse:0.426945\n",
            "[118]\ttrain-rmse:0.425961\tvalid-rmse:0.426937\n",
            "[119]\ttrain-rmse:0.425953\tvalid-rmse:0.426932\n",
            "[120]\ttrain-rmse:0.425945\tvalid-rmse:0.426931\n",
            "[121]\ttrain-rmse:0.42594\tvalid-rmse:0.426927\n",
            "[122]\ttrain-rmse:0.425933\tvalid-rmse:0.426919\n",
            "[123]\ttrain-rmse:0.425925\tvalid-rmse:0.426917\n",
            "[124]\ttrain-rmse:0.425918\tvalid-rmse:0.426913\n",
            "[125]\ttrain-rmse:0.42591\tvalid-rmse:0.426909\n",
            "[126]\ttrain-rmse:0.425903\tvalid-rmse:0.426908\n",
            "[127]\ttrain-rmse:0.425898\tvalid-rmse:0.426905\n",
            "[128]\ttrain-rmse:0.425893\tvalid-rmse:0.4269\n",
            "[129]\ttrain-rmse:0.425888\tvalid-rmse:0.426895\n",
            "[130]\ttrain-rmse:0.425883\tvalid-rmse:0.426895\n",
            "[131]\ttrain-rmse:0.425879\tvalid-rmse:0.42689\n",
            "[132]\ttrain-rmse:0.425874\tvalid-rmse:0.426887\n",
            "[133]\ttrain-rmse:0.425869\tvalid-rmse:0.426885\n",
            "[134]\ttrain-rmse:0.425865\tvalid-rmse:0.426881\n",
            "[135]\ttrain-rmse:0.42586\tvalid-rmse:0.426881\n",
            "[136]\ttrain-rmse:0.425854\tvalid-rmse:0.42688\n",
            "[137]\ttrain-rmse:0.425851\tvalid-rmse:0.426876\n",
            "[138]\ttrain-rmse:0.425846\tvalid-rmse:0.426875\n",
            "[139]\ttrain-rmse:0.425842\tvalid-rmse:0.426871\n",
            "[140]\ttrain-rmse:0.425837\tvalid-rmse:0.42687\n",
            "[141]\ttrain-rmse:0.425833\tvalid-rmse:0.426868\n",
            "[142]\ttrain-rmse:0.425829\tvalid-rmse:0.426865\n",
            "[143]\ttrain-rmse:0.425825\tvalid-rmse:0.426866\n",
            "[144]\ttrain-rmse:0.425821\tvalid-rmse:0.426863\n",
            "[145]\ttrain-rmse:0.425818\tvalid-rmse:0.426863\n",
            "[146]\ttrain-rmse:0.425815\tvalid-rmse:0.42686\n",
            "[147]\ttrain-rmse:0.425811\tvalid-rmse:0.426858\n",
            "[148]\ttrain-rmse:0.425807\tvalid-rmse:0.426857\n",
            "[149]\ttrain-rmse:0.425804\tvalid-rmse:0.426855\n",
            "[150]\ttrain-rmse:0.425801\tvalid-rmse:0.42685\n",
            "[151]\ttrain-rmse:0.425797\tvalid-rmse:0.42685\n",
            "[152]\ttrain-rmse:0.425793\tvalid-rmse:0.426847\n",
            "[153]\ttrain-rmse:0.425791\tvalid-rmse:0.426844\n",
            "[154]\ttrain-rmse:0.425788\tvalid-rmse:0.426844\n",
            "[155]\ttrain-rmse:0.425785\tvalid-rmse:0.426844\n",
            "[156]\ttrain-rmse:0.425782\tvalid-rmse:0.426845\n",
            "[157]\ttrain-rmse:0.425778\tvalid-rmse:0.426847\n",
            "[158]\ttrain-rmse:0.425775\tvalid-rmse:0.426847\n",
            "[159]\ttrain-rmse:0.425773\tvalid-rmse:0.426848\n",
            "[160]\ttrain-rmse:0.42577\tvalid-rmse:0.426849\n",
            "[161]\ttrain-rmse:0.425766\tvalid-rmse:0.426848\n",
            "[162]\ttrain-rmse:0.425762\tvalid-rmse:0.426849\n",
            "[163]\ttrain-rmse:0.42576\tvalid-rmse:0.426848\n",
            "[164]\ttrain-rmse:0.425758\tvalid-rmse:0.426851\n",
            "[165]\ttrain-rmse:0.425756\tvalid-rmse:0.426847\n",
            "[166]\ttrain-rmse:0.425753\tvalid-rmse:0.426847\n",
            "[167]\ttrain-rmse:0.425751\tvalid-rmse:0.426846\n",
            "[168]\ttrain-rmse:0.425748\tvalid-rmse:0.426847\n",
            "[169]\ttrain-rmse:0.425746\tvalid-rmse:0.426849\n",
            "[170]\ttrain-rmse:0.425742\tvalid-rmse:0.42685\n",
            "[171]\ttrain-rmse:0.425739\tvalid-rmse:0.42685\n",
            "[172]\ttrain-rmse:0.425736\tvalid-rmse:0.426852\n",
            "[173]\ttrain-rmse:0.425734\tvalid-rmse:0.426852\n",
            "[174]\ttrain-rmse:0.425732\tvalid-rmse:0.426854\n",
            "[175]\ttrain-rmse:0.425729\tvalid-rmse:0.426857\n",
            "[176]\ttrain-rmse:0.425727\tvalid-rmse:0.426857\n",
            "[177]\ttrain-rmse:0.425723\tvalid-rmse:0.426859\n",
            "[178]\ttrain-rmse:0.42572\tvalid-rmse:0.426859\n",
            "[179]\ttrain-rmse:0.425719\tvalid-rmse:0.426859\n",
            "[180]\ttrain-rmse:0.425716\tvalid-rmse:0.426858\n",
            "[181]\ttrain-rmse:0.425713\tvalid-rmse:0.426856\n",
            "[182]\ttrain-rmse:0.425711\tvalid-rmse:0.426857\n",
            "[183]\ttrain-rmse:0.425709\tvalid-rmse:0.426857\n",
            "[184]\ttrain-rmse:0.425707\tvalid-rmse:0.426857\n",
            "[185]\ttrain-rmse:0.425705\tvalid-rmse:0.426857\n",
            "[186]\ttrain-rmse:0.425702\tvalid-rmse:0.426856\n",
            "[187]\ttrain-rmse:0.425701\tvalid-rmse:0.426855\n",
            "[188]\ttrain-rmse:0.425699\tvalid-rmse:0.426856\n",
            "[189]\ttrain-rmse:0.425697\tvalid-rmse:0.426855\n",
            "[190]\ttrain-rmse:0.425695\tvalid-rmse:0.426858\n",
            "[191]\ttrain-rmse:0.425691\tvalid-rmse:0.42686\n",
            "[192]\ttrain-rmse:0.42569\tvalid-rmse:0.426861\n",
            "[193]\ttrain-rmse:0.425686\tvalid-rmse:0.426861\n",
            "[194]\ttrain-rmse:0.425683\tvalid-rmse:0.426864\n",
            "[195]\ttrain-rmse:0.425681\tvalid-rmse:0.426864\n",
            "[196]\ttrain-rmse:0.425679\tvalid-rmse:0.426865\n",
            "[197]\ttrain-rmse:0.425678\tvalid-rmse:0.426867\n",
            "[198]\ttrain-rmse:0.425675\tvalid-rmse:0.426867\n",
            "[199]\ttrain-rmse:0.425673\tvalid-rmse:0.426867\n",
            "[200]\ttrain-rmse:0.425671\tvalid-rmse:0.426867\n",
            "[201]\ttrain-rmse:0.42567\tvalid-rmse:0.426866\n",
            "[202]\ttrain-rmse:0.425667\tvalid-rmse:0.426866\n",
            "[203]\ttrain-rmse:0.425666\tvalid-rmse:0.426866\n",
            "[204]\ttrain-rmse:0.425664\tvalid-rmse:0.426866\n",
            "[205]\ttrain-rmse:0.425662\tvalid-rmse:0.426865\n",
            "[206]\ttrain-rmse:0.42566\tvalid-rmse:0.426863\n",
            "[207]\ttrain-rmse:0.425658\tvalid-rmse:0.426863\n",
            "[208]\ttrain-rmse:0.425656\tvalid-rmse:0.426864\n",
            "[209]\ttrain-rmse:0.425654\tvalid-rmse:0.426865\n",
            "[210]\ttrain-rmse:0.425652\tvalid-rmse:0.426865\n",
            "[211]\ttrain-rmse:0.425649\tvalid-rmse:0.426866\n",
            "[212]\ttrain-rmse:0.425647\tvalid-rmse:0.426866\n",
            "[213]\ttrain-rmse:0.425646\tvalid-rmse:0.426868\n",
            "[214]\ttrain-rmse:0.425644\tvalid-rmse:0.426869\n",
            "[215]\ttrain-rmse:0.425642\tvalid-rmse:0.42687\n",
            "[216]\ttrain-rmse:0.425641\tvalid-rmse:0.426868\n",
            "[217]\ttrain-rmse:0.425638\tvalid-rmse:0.426867\n",
            "[218]\ttrain-rmse:0.425636\tvalid-rmse:0.426867\n",
            "[219]\ttrain-rmse:0.425634\tvalid-rmse:0.426868\n",
            "[220]\ttrain-rmse:0.425632\tvalid-rmse:0.426871\n",
            "[221]\ttrain-rmse:0.42563\tvalid-rmse:0.426869\n",
            "[222]\ttrain-rmse:0.425629\tvalid-rmse:0.426871\n",
            "[223]\ttrain-rmse:0.425627\tvalid-rmse:0.426872\n",
            "[224]\ttrain-rmse:0.425624\tvalid-rmse:0.426874\n",
            "[225]\ttrain-rmse:0.425621\tvalid-rmse:0.426875\n",
            "[226]\ttrain-rmse:0.42562\tvalid-rmse:0.426875\n",
            "[227]\ttrain-rmse:0.425618\tvalid-rmse:0.426875\n",
            "[228]\ttrain-rmse:0.425617\tvalid-rmse:0.426875\n",
            "[229]\ttrain-rmse:0.425614\tvalid-rmse:0.426876\n",
            "[230]\ttrain-rmse:0.425613\tvalid-rmse:0.426877\n",
            "[231]\ttrain-rmse:0.425611\tvalid-rmse:0.426878\n",
            "[232]\ttrain-rmse:0.425609\tvalid-rmse:0.42688\n",
            "[233]\ttrain-rmse:0.425607\tvalid-rmse:0.426879\n",
            "[234]\ttrain-rmse:0.425605\tvalid-rmse:0.426882\n",
            "[235]\ttrain-rmse:0.425603\tvalid-rmse:0.426883\n",
            "[236]\ttrain-rmse:0.425601\tvalid-rmse:0.426883\n",
            "[237]\ttrain-rmse:0.4256\tvalid-rmse:0.426884\n",
            "[238]\ttrain-rmse:0.425598\tvalid-rmse:0.426885\n",
            "[239]\ttrain-rmse:0.425596\tvalid-rmse:0.426886\n",
            "[240]\ttrain-rmse:0.425594\tvalid-rmse:0.426886\n",
            "[241]\ttrain-rmse:0.425591\tvalid-rmse:0.426887\n",
            "[242]\ttrain-rmse:0.425589\tvalid-rmse:0.42689\n",
            "[243]\ttrain-rmse:0.425587\tvalid-rmse:0.426892\n",
            "[244]\ttrain-rmse:0.425585\tvalid-rmse:0.426892\n",
            "[245]\ttrain-rmse:0.425584\tvalid-rmse:0.426894\n",
            "[246]\ttrain-rmse:0.425582\tvalid-rmse:0.426894\n",
            "[247]\ttrain-rmse:0.425581\tvalid-rmse:0.426894\n",
            "[248]\ttrain-rmse:0.425578\tvalid-rmse:0.426893\n",
            "[249]\ttrain-rmse:0.425575\tvalid-rmse:0.426891\n",
            "[250]\ttrain-rmse:0.425573\tvalid-rmse:0.426893\n",
            "[251]\ttrain-rmse:0.425571\tvalid-rmse:0.426895\n",
            "[252]\ttrain-rmse:0.42557\tvalid-rmse:0.426897\n",
            "[253]\ttrain-rmse:0.425568\tvalid-rmse:0.426896\n",
            "Stopping. Best iteration:\n",
            "[153]\ttrain-rmse:0.425791\tvalid-rmse:0.426844\n",
            "\n"
          ]
        }
      ]
    },
    {
      "cell_type": "code",
      "source": [
        "# 혼동행렬, 정확도, 정밀도, 재현율, F1, AUC 불러오기\n",
        "from sklearn.metrics import confusion_matrix, accuracy_score, precision_score, recall_score\n",
        "from sklearn.metrics import confusion_matrix, f1_score, roc_auc_score\n",
        "\n",
        "def get_clf_eval(y_test, y_pred):\n",
        "    confusion = confusion_matrix(y_test, y_pred)\n",
        "    accuracy = accuracy_score(y_test, y_pred)\n",
        "    precision = precision_score(y_test, y_pred)\n",
        "    recall = recall_score(y_test, y_pred)\n",
        "    F1 = f1_score(y_test, y_pred)\n",
        "    AUC = roc_auc_score(y_test, y_pred)\n",
        "    print('오차행렬:\\n', confusion)\n",
        "    print('\\n정확도: {:.4f}'.format(accuracy))\n",
        "    print('정밀도: {:.4f}'.format(precision))\n",
        "    print('재현율: {:.4f}'.format(recall))\n",
        "    print('F1: {:.4f}'.format(F1))\n",
        "    print('AUC: {:.4f}'.format(AUC))"
      ],
      "metadata": {
        "id": "EGJ9J8i0NSWr"
      },
      "id": "EGJ9J8i0NSWr",
      "execution_count": 60,
      "outputs": []
    },
    {
      "cell_type": "code",
      "source": [
        "import numpy as np\n",
        "pred_probs = xgb_ml.predict(dvalid)\n",
        "print('predict() 수행 결과값을 10개만 표시, 예측 확률 값으로 표시됨')\n",
        "print(np.round(pred_probs[:10], 3))\n",
        "\n",
        "# 예측 확률이 0.5보다 크면 1, 그렇지 않으면 0으로 예측값 결정해 리스트 객체인 preds에 저장\n",
        "preds = [ 1 if x > 0.5 else 0 for x in pred_probs]\n",
        "print('예측값 10개만 표시: ', preds[:10])"
      ],
      "metadata": {
        "id": "yL47aQHZNsd0",
        "outputId": "56498a35-c109-4fc7-ac51-ddeb4d045338",
        "colab": {
          "base_uri": "https://localhost:8080/"
        }
      },
      "id": "yL47aQHZNsd0",
      "execution_count": 57,
      "outputs": [
        {
          "output_type": "stream",
          "name": "stdout",
          "text": [
            "predict() 수행 결과값을 10개만 표시, 예측 확률 값으로 표시됨\n",
            "[0.459 0.175 0.515 0.348 0.299 0.366 0.123 0.391 0.557 0.234]\n",
            "예측값 10개만 표시:  [0, 0, 1, 0, 0, 0, 0, 0, 1, 0]\n"
          ]
        }
      ]
    },
    {
      "cell_type": "code",
      "source": [
        "get_clf_eval(y_valid, preds)"
      ],
      "metadata": {
        "id": "qFvI3H54N5Kv",
        "outputId": "f06f7c64-417a-4b8a-ba84-3695abc032db",
        "colab": {
          "base_uri": "https://localhost:8080/"
        }
      },
      "id": "qFvI3H54N5Kv",
      "execution_count": 61,
      "outputs": [
        {
          "output_type": "stream",
          "name": "stdout",
          "text": [
            "오차행렬:\n",
            " [[37989  3689]\n",
            " [12771  5551]]\n",
            "\n",
            "정확도: 0.7257\n",
            "정밀도: 0.6008\n",
            "재현율: 0.3030\n",
            "F1: 0.4028\n",
            "AUC: 0.6072\n"
          ]
        }
      ]
    },
    {
      "cell_type": "code",
      "source": [
        ""
      ],
      "metadata": {
        "id": "3nxIsBFBN-Dy"
      },
      "id": "3nxIsBFBN-Dy",
      "execution_count": null,
      "outputs": []
    }
  ],
  "metadata": {
    "kernelspec": {
      "display_name": "Python 3",
      "language": "python",
      "name": "python3"
    },
    "language_info": {
      "codemirror_mode": {
        "name": "ipython",
        "version": 3
      },
      "file_extension": ".py",
      "mimetype": "text/x-python",
      "name": "python",
      "nbconvert_exporter": "python",
      "pygments_lexer": "ipython3",
      "version": "3.7.10"
    },
    "papermill": {
      "default_parameters": {},
      "duration": 487.91631,
      "end_time": "2022-03-04T14:42:57.694861",
      "environment_variables": {},
      "exception": null,
      "input_path": "__notebook__.ipynb",
      "output_path": "__notebook__.ipynb",
      "parameters": {},
      "start_time": "2022-03-04T14:34:49.778551",
      "version": "2.3.3"
    },
    "colab": {
      "name": "ch7-modeling2.ipynb",
      "provenance": [],
      "include_colab_link": true
    },
    "accelerator": "GPU"
  },
  "nbformat": 4,
  "nbformat_minor": 5
}