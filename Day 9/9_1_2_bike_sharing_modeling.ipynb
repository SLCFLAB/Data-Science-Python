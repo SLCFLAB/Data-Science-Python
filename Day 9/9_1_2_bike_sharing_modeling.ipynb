{
  "cells": [
    {
      "cell_type": "markdown",
      "metadata": {
        "id": "view-in-github",
        "colab_type": "text"
      },
      "source": [
        "<a href=\"https://colab.research.google.com/github/SLCFLAB/Data-Science-Python/blob/main/Day%209/9_1_2_bike_sharing_modeling.ipynb\" target=\"_parent\"><img src=\"https://colab.research.google.com/assets/colab-badge.svg\" alt=\"Open In Colab\"/></a>"
      ]
    },
    {
      "cell_type": "markdown",
      "id": "abe802f3",
      "metadata": {
        "papermill": {
          "duration": 0.031199,
          "end_time": "2022-03-04T07:34:50.628937",
          "exception": false,
          "start_time": "2022-03-04T07:34:50.597738",
          "status": "completed"
        },
        "tags": [],
        "id": "abe802f3"
      },
      "source": [
        "# 자전거 대여 수요 예측 경진대회 모델 성능 개선"
      ]
    },
    {
      "cell_type": "markdown",
      "id": "3738ef37",
      "metadata": {
        "papermill": {
          "duration": 0.029852,
          "end_time": "2022-03-04T07:34:50.689793",
          "exception": false,
          "start_time": "2022-03-04T07:34:50.659941",
          "status": "completed"
        },
        "tags": [],
        "id": "3738ef37"
      },
      "source": [
        "- [자전거 대여 수요 예측 경진대회 링크](https://www.kaggle.com/c/bike-sharing-demand)\n",
        "\n",
        "- [모델링 코드 참고 링크](https://www.kaggle.com/viveksrinivasan/eda-ensemble-model-top-10-percentile)"
      ]
    },
    {
      "cell_type": "code",
      "execution_count": 1,
      "id": "3f2d647d",
      "metadata": {
        "_cell_guid": "057b1690-5b93-9f14-eafe-fad12c00da69",
        "execution": {
          "iopub.execute_input": "2022-03-04T07:34:50.754853Z",
          "iopub.status.busy": "2022-03-04T07:34:50.753666Z",
          "iopub.status.idle": "2022-03-04T07:34:50.847315Z",
          "shell.execute_reply": "2022-03-04T07:34:50.846523Z",
          "shell.execute_reply.started": "2022-03-04T07:34:19.972825Z"
        },
        "papermill": {
          "duration": 0.127478,
          "end_time": "2022-03-04T07:34:50.847475",
          "exception": false,
          "start_time": "2022-03-04T07:34:50.719997",
          "status": "completed"
        },
        "tags": [],
        "id": "3f2d647d"
      },
      "outputs": [],
      "source": [
        "import numpy as np\n",
        "import pandas as pd\n",
        "\n",
        "# 데이터 경로\n",
        "data_path = 'https://raw.githubusercontent.com/SLCFLAB/Data-Science-Python/main/Day%209/data/'\n",
        "\n",
        "train = pd.read_csv(data_path + 'bike_train.csv')\n",
        "test = pd.read_csv(data_path + 'bike_test.csv')\n",
        "submission = pd.read_csv(data_path + 'bike_sampleSubmission.csv')"
      ]
    },
    {
      "cell_type": "markdown",
      "id": "2b1292a2",
      "metadata": {
        "papermill": {
          "duration": 0.030421,
          "end_time": "2022-03-04T07:34:50.910055",
          "exception": false,
          "start_time": "2022-03-04T07:34:50.879634",
          "status": "completed"
        },
        "tags": [],
        "id": "2b1292a2"
      },
      "source": [
        "## 피처 엔지니어링"
      ]
    },
    {
      "cell_type": "markdown",
      "id": "b43134ef",
      "metadata": {
        "papermill": {
          "duration": 0.030362,
          "end_time": "2022-03-04T07:34:50.971481",
          "exception": false,
          "start_time": "2022-03-04T07:34:50.941119",
          "status": "completed"
        },
        "tags": [],
        "id": "b43134ef"
      },
      "source": [
        "### 이상치 제거"
      ]
    },
    {
      "cell_type": "code",
      "execution_count": 2,
      "id": "d8afb2b5",
      "metadata": {
        "execution": {
          "iopub.execute_input": "2022-03-04T07:34:51.038632Z",
          "iopub.status.busy": "2022-03-04T07:34:51.037936Z",
          "iopub.status.idle": "2022-03-04T07:34:51.051836Z",
          "shell.execute_reply": "2022-03-04T07:34:51.051112Z",
          "shell.execute_reply.started": "2022-03-04T07:34:20.096046Z"
        },
        "papermill": {
          "duration": 0.049673,
          "end_time": "2022-03-04T07:34:51.051978",
          "exception": false,
          "start_time": "2022-03-04T07:34:51.002305",
          "status": "completed"
        },
        "tags": [],
        "id": "d8afb2b5"
      },
      "outputs": [],
      "source": [
        "# 훈련 데이터에서 weather가 4가 아닌 데이터만 추출\n",
        "train = train[train['weather'] != 4]"
      ]
    },
    {
      "cell_type": "markdown",
      "id": "7b5e6167",
      "metadata": {
        "papermill": {
          "duration": 0.031325,
          "end_time": "2022-03-04T07:34:51.115229",
          "exception": false,
          "start_time": "2022-03-04T07:34:51.083904",
          "status": "completed"
        },
        "tags": [],
        "id": "7b5e6167"
      },
      "source": [
        "### 데이터 합치기"
      ]
    },
    {
      "cell_type": "code",
      "execution_count": 3,
      "id": "15ffe0c9",
      "metadata": {
        "execution": {
          "iopub.execute_input": "2022-03-04T07:34:51.181488Z",
          "iopub.status.busy": "2022-03-04T07:34:51.180791Z",
          "iopub.status.idle": "2022-03-04T07:34:51.222314Z",
          "shell.execute_reply": "2022-03-04T07:34:51.221633Z",
          "shell.execute_reply.started": "2022-03-04T07:34:20.120586Z"
        },
        "papermill": {
          "duration": 0.076013,
          "end_time": "2022-03-04T07:34:51.222445",
          "exception": false,
          "start_time": "2022-03-04T07:34:51.146432",
          "status": "completed"
        },
        "tags": [],
        "colab": {
          "base_uri": "https://localhost:8080/",
          "height": 424
        },
        "id": "15ffe0c9",
        "outputId": "c6f05577-5915-4a46-a380-f5abb37d0bc4"
      },
      "outputs": [
        {
          "output_type": "execute_result",
          "data": {
            "text/plain": [
              "                  datetime  season  holiday  workingday  weather   temp  \\\n",
              "0      2011-01-01 00:00:00       1        0           0        1   9.84   \n",
              "1      2011-01-01 01:00:00       1        0           0        1   9.02   \n",
              "2      2011-01-01 02:00:00       1        0           0        1   9.02   \n",
              "3      2011-01-01 03:00:00       1        0           0        1   9.84   \n",
              "4      2011-01-01 04:00:00       1        0           0        1   9.84   \n",
              "...                    ...     ...      ...         ...      ...    ...   \n",
              "17373  2012-12-31 19:00:00       1        0           1        2  10.66   \n",
              "17374  2012-12-31 20:00:00       1        0           1        2  10.66   \n",
              "17375  2012-12-31 21:00:00       1        0           1        1  10.66   \n",
              "17376  2012-12-31 22:00:00       1        0           1        1  10.66   \n",
              "17377  2012-12-31 23:00:00       1        0           1        1  10.66   \n",
              "\n",
              "        atemp  humidity  windspeed  casual  registered  count  \n",
              "0      14.395        81     0.0000     3.0        13.0   16.0  \n",
              "1      13.635        80     0.0000     8.0        32.0   40.0  \n",
              "2      13.635        80     0.0000     5.0        27.0   32.0  \n",
              "3      14.395        75     0.0000     3.0        10.0   13.0  \n",
              "4      14.395        75     0.0000     0.0         1.0    1.0  \n",
              "...       ...       ...        ...     ...         ...    ...  \n",
              "17373  12.880        60    11.0014     NaN         NaN    NaN  \n",
              "17374  12.880        60    11.0014     NaN         NaN    NaN  \n",
              "17375  12.880        60    11.0014     NaN         NaN    NaN  \n",
              "17376  13.635        56     8.9981     NaN         NaN    NaN  \n",
              "17377  13.635        65     8.9981     NaN         NaN    NaN  \n",
              "\n",
              "[17378 rows x 12 columns]"
            ],
            "text/html": [
              "\n",
              "  <div id=\"df-3f9f72cd-e1ff-4540-97d2-91c100f04576\">\n",
              "    <div class=\"colab-df-container\">\n",
              "      <div>\n",
              "<style scoped>\n",
              "    .dataframe tbody tr th:only-of-type {\n",
              "        vertical-align: middle;\n",
              "    }\n",
              "\n",
              "    .dataframe tbody tr th {\n",
              "        vertical-align: top;\n",
              "    }\n",
              "\n",
              "    .dataframe thead th {\n",
              "        text-align: right;\n",
              "    }\n",
              "</style>\n",
              "<table border=\"1\" class=\"dataframe\">\n",
              "  <thead>\n",
              "    <tr style=\"text-align: right;\">\n",
              "      <th></th>\n",
              "      <th>datetime</th>\n",
              "      <th>season</th>\n",
              "      <th>holiday</th>\n",
              "      <th>workingday</th>\n",
              "      <th>weather</th>\n",
              "      <th>temp</th>\n",
              "      <th>atemp</th>\n",
              "      <th>humidity</th>\n",
              "      <th>windspeed</th>\n",
              "      <th>casual</th>\n",
              "      <th>registered</th>\n",
              "      <th>count</th>\n",
              "    </tr>\n",
              "  </thead>\n",
              "  <tbody>\n",
              "    <tr>\n",
              "      <th>0</th>\n",
              "      <td>2011-01-01 00:00:00</td>\n",
              "      <td>1</td>\n",
              "      <td>0</td>\n",
              "      <td>0</td>\n",
              "      <td>1</td>\n",
              "      <td>9.84</td>\n",
              "      <td>14.395</td>\n",
              "      <td>81</td>\n",
              "      <td>0.0000</td>\n",
              "      <td>3.0</td>\n",
              "      <td>13.0</td>\n",
              "      <td>16.0</td>\n",
              "    </tr>\n",
              "    <tr>\n",
              "      <th>1</th>\n",
              "      <td>2011-01-01 01:00:00</td>\n",
              "      <td>1</td>\n",
              "      <td>0</td>\n",
              "      <td>0</td>\n",
              "      <td>1</td>\n",
              "      <td>9.02</td>\n",
              "      <td>13.635</td>\n",
              "      <td>80</td>\n",
              "      <td>0.0000</td>\n",
              "      <td>8.0</td>\n",
              "      <td>32.0</td>\n",
              "      <td>40.0</td>\n",
              "    </tr>\n",
              "    <tr>\n",
              "      <th>2</th>\n",
              "      <td>2011-01-01 02:00:00</td>\n",
              "      <td>1</td>\n",
              "      <td>0</td>\n",
              "      <td>0</td>\n",
              "      <td>1</td>\n",
              "      <td>9.02</td>\n",
              "      <td>13.635</td>\n",
              "      <td>80</td>\n",
              "      <td>0.0000</td>\n",
              "      <td>5.0</td>\n",
              "      <td>27.0</td>\n",
              "      <td>32.0</td>\n",
              "    </tr>\n",
              "    <tr>\n",
              "      <th>3</th>\n",
              "      <td>2011-01-01 03:00:00</td>\n",
              "      <td>1</td>\n",
              "      <td>0</td>\n",
              "      <td>0</td>\n",
              "      <td>1</td>\n",
              "      <td>9.84</td>\n",
              "      <td>14.395</td>\n",
              "      <td>75</td>\n",
              "      <td>0.0000</td>\n",
              "      <td>3.0</td>\n",
              "      <td>10.0</td>\n",
              "      <td>13.0</td>\n",
              "    </tr>\n",
              "    <tr>\n",
              "      <th>4</th>\n",
              "      <td>2011-01-01 04:00:00</td>\n",
              "      <td>1</td>\n",
              "      <td>0</td>\n",
              "      <td>0</td>\n",
              "      <td>1</td>\n",
              "      <td>9.84</td>\n",
              "      <td>14.395</td>\n",
              "      <td>75</td>\n",
              "      <td>0.0000</td>\n",
              "      <td>0.0</td>\n",
              "      <td>1.0</td>\n",
              "      <td>1.0</td>\n",
              "    </tr>\n",
              "    <tr>\n",
              "      <th>...</th>\n",
              "      <td>...</td>\n",
              "      <td>...</td>\n",
              "      <td>...</td>\n",
              "      <td>...</td>\n",
              "      <td>...</td>\n",
              "      <td>...</td>\n",
              "      <td>...</td>\n",
              "      <td>...</td>\n",
              "      <td>...</td>\n",
              "      <td>...</td>\n",
              "      <td>...</td>\n",
              "      <td>...</td>\n",
              "    </tr>\n",
              "    <tr>\n",
              "      <th>17373</th>\n",
              "      <td>2012-12-31 19:00:00</td>\n",
              "      <td>1</td>\n",
              "      <td>0</td>\n",
              "      <td>1</td>\n",
              "      <td>2</td>\n",
              "      <td>10.66</td>\n",
              "      <td>12.880</td>\n",
              "      <td>60</td>\n",
              "      <td>11.0014</td>\n",
              "      <td>NaN</td>\n",
              "      <td>NaN</td>\n",
              "      <td>NaN</td>\n",
              "    </tr>\n",
              "    <tr>\n",
              "      <th>17374</th>\n",
              "      <td>2012-12-31 20:00:00</td>\n",
              "      <td>1</td>\n",
              "      <td>0</td>\n",
              "      <td>1</td>\n",
              "      <td>2</td>\n",
              "      <td>10.66</td>\n",
              "      <td>12.880</td>\n",
              "      <td>60</td>\n",
              "      <td>11.0014</td>\n",
              "      <td>NaN</td>\n",
              "      <td>NaN</td>\n",
              "      <td>NaN</td>\n",
              "    </tr>\n",
              "    <tr>\n",
              "      <th>17375</th>\n",
              "      <td>2012-12-31 21:00:00</td>\n",
              "      <td>1</td>\n",
              "      <td>0</td>\n",
              "      <td>1</td>\n",
              "      <td>1</td>\n",
              "      <td>10.66</td>\n",
              "      <td>12.880</td>\n",
              "      <td>60</td>\n",
              "      <td>11.0014</td>\n",
              "      <td>NaN</td>\n",
              "      <td>NaN</td>\n",
              "      <td>NaN</td>\n",
              "    </tr>\n",
              "    <tr>\n",
              "      <th>17376</th>\n",
              "      <td>2012-12-31 22:00:00</td>\n",
              "      <td>1</td>\n",
              "      <td>0</td>\n",
              "      <td>1</td>\n",
              "      <td>1</td>\n",
              "      <td>10.66</td>\n",
              "      <td>13.635</td>\n",
              "      <td>56</td>\n",
              "      <td>8.9981</td>\n",
              "      <td>NaN</td>\n",
              "      <td>NaN</td>\n",
              "      <td>NaN</td>\n",
              "    </tr>\n",
              "    <tr>\n",
              "      <th>17377</th>\n",
              "      <td>2012-12-31 23:00:00</td>\n",
              "      <td>1</td>\n",
              "      <td>0</td>\n",
              "      <td>1</td>\n",
              "      <td>1</td>\n",
              "      <td>10.66</td>\n",
              "      <td>13.635</td>\n",
              "      <td>65</td>\n",
              "      <td>8.9981</td>\n",
              "      <td>NaN</td>\n",
              "      <td>NaN</td>\n",
              "      <td>NaN</td>\n",
              "    </tr>\n",
              "  </tbody>\n",
              "</table>\n",
              "<p>17378 rows × 12 columns</p>\n",
              "</div>\n",
              "      <button class=\"colab-df-convert\" onclick=\"convertToInteractive('df-3f9f72cd-e1ff-4540-97d2-91c100f04576')\"\n",
              "              title=\"Convert this dataframe to an interactive table.\"\n",
              "              style=\"display:none;\">\n",
              "        \n",
              "  <svg xmlns=\"http://www.w3.org/2000/svg\" height=\"24px\"viewBox=\"0 0 24 24\"\n",
              "       width=\"24px\">\n",
              "    <path d=\"M0 0h24v24H0V0z\" fill=\"none\"/>\n",
              "    <path d=\"M18.56 5.44l.94 2.06.94-2.06 2.06-.94-2.06-.94-.94-2.06-.94 2.06-2.06.94zm-11 1L8.5 8.5l.94-2.06 2.06-.94-2.06-.94L8.5 2.5l-.94 2.06-2.06.94zm10 10l.94 2.06.94-2.06 2.06-.94-2.06-.94-.94-2.06-.94 2.06-2.06.94z\"/><path d=\"M17.41 7.96l-1.37-1.37c-.4-.4-.92-.59-1.43-.59-.52 0-1.04.2-1.43.59L10.3 9.45l-7.72 7.72c-.78.78-.78 2.05 0 2.83L4 21.41c.39.39.9.59 1.41.59.51 0 1.02-.2 1.41-.59l7.78-7.78 2.81-2.81c.8-.78.8-2.07 0-2.86zM5.41 20L4 18.59l7.72-7.72 1.47 1.35L5.41 20z\"/>\n",
              "  </svg>\n",
              "      </button>\n",
              "      \n",
              "  <style>\n",
              "    .colab-df-container {\n",
              "      display:flex;\n",
              "      flex-wrap:wrap;\n",
              "      gap: 12px;\n",
              "    }\n",
              "\n",
              "    .colab-df-convert {\n",
              "      background-color: #E8F0FE;\n",
              "      border: none;\n",
              "      border-radius: 50%;\n",
              "      cursor: pointer;\n",
              "      display: none;\n",
              "      fill: #1967D2;\n",
              "      height: 32px;\n",
              "      padding: 0 0 0 0;\n",
              "      width: 32px;\n",
              "    }\n",
              "\n",
              "    .colab-df-convert:hover {\n",
              "      background-color: #E2EBFA;\n",
              "      box-shadow: 0px 1px 2px rgba(60, 64, 67, 0.3), 0px 1px 3px 1px rgba(60, 64, 67, 0.15);\n",
              "      fill: #174EA6;\n",
              "    }\n",
              "\n",
              "    [theme=dark] .colab-df-convert {\n",
              "      background-color: #3B4455;\n",
              "      fill: #D2E3FC;\n",
              "    }\n",
              "\n",
              "    [theme=dark] .colab-df-convert:hover {\n",
              "      background-color: #434B5C;\n",
              "      box-shadow: 0px 1px 3px 1px rgba(0, 0, 0, 0.15);\n",
              "      filter: drop-shadow(0px 1px 2px rgba(0, 0, 0, 0.3));\n",
              "      fill: #FFFFFF;\n",
              "    }\n",
              "  </style>\n",
              "\n",
              "      <script>\n",
              "        const buttonEl =\n",
              "          document.querySelector('#df-3f9f72cd-e1ff-4540-97d2-91c100f04576 button.colab-df-convert');\n",
              "        buttonEl.style.display =\n",
              "          google.colab.kernel.accessAllowed ? 'block' : 'none';\n",
              "\n",
              "        async function convertToInteractive(key) {\n",
              "          const element = document.querySelector('#df-3f9f72cd-e1ff-4540-97d2-91c100f04576');\n",
              "          const dataTable =\n",
              "            await google.colab.kernel.invokeFunction('convertToInteractive',\n",
              "                                                     [key], {});\n",
              "          if (!dataTable) return;\n",
              "\n",
              "          const docLinkHtml = 'Like what you see? Visit the ' +\n",
              "            '<a target=\"_blank\" href=https://colab.research.google.com/notebooks/data_table.ipynb>data table notebook</a>'\n",
              "            + ' to learn more about interactive tables.';\n",
              "          element.innerHTML = '';\n",
              "          dataTable['output_type'] = 'display_data';\n",
              "          await google.colab.output.renderOutput(dataTable, element);\n",
              "          const docLink = document.createElement('div');\n",
              "          docLink.innerHTML = docLinkHtml;\n",
              "          element.appendChild(docLink);\n",
              "        }\n",
              "      </script>\n",
              "    </div>\n",
              "  </div>\n",
              "  "
            ]
          },
          "metadata": {},
          "execution_count": 3
        }
      ],
      "source": [
        "all_data = pd.concat([train, test], ignore_index=True)\n",
        "all_data"
      ]
    },
    {
      "cell_type": "markdown",
      "id": "e7dee9c1",
      "metadata": {
        "papermill": {
          "duration": 0.031481,
          "end_time": "2022-03-04T07:34:51.285645",
          "exception": false,
          "start_time": "2022-03-04T07:34:51.254164",
          "status": "completed"
        },
        "tags": [],
        "id": "e7dee9c1"
      },
      "source": [
        "### 파생 변수(피처) 추가"
      ]
    },
    {
      "cell_type": "code",
      "execution_count": 4,
      "id": "8f86edd1",
      "metadata": {
        "_cell_guid": "18f7c3fc-ffdf-4bc6-1d4c-c455fb4e0141",
        "execution": {
          "iopub.execute_input": "2022-03-04T07:34:51.363035Z",
          "iopub.status.busy": "2022-03-04T07:34:51.357156Z",
          "iopub.status.idle": "2022-03-04T07:34:51.674271Z",
          "shell.execute_reply": "2022-03-04T07:34:51.674839Z",
          "shell.execute_reply.started": "2022-03-04T07:34:20.163346Z"
        },
        "papermill": {
          "duration": 0.357413,
          "end_time": "2022-03-04T07:34:51.675000",
          "exception": false,
          "start_time": "2022-03-04T07:34:51.317587",
          "status": "completed"
        },
        "tags": [],
        "id": "8f86edd1"
      },
      "outputs": [],
      "source": [
        "from datetime import datetime\n",
        "\n",
        "# 날짜 피처 생성\n",
        "all_data['date'] = all_data['datetime'].apply(lambda x: x.split()[0])\n",
        "# 연도 피처 생성\n",
        "all_data['year'] = all_data['datetime'].apply(lambda x: x.split()[0].split('-')[0])\n",
        "# 월 피처 생성\n",
        "all_data['month'] = all_data['datetime'].apply(lambda x: x.split()[0].split('-')[1])\n",
        "# 시 피처 생성\n",
        "all_data['hour'] = all_data['datetime'].apply(lambda x: x.split()[1].split(':')[0])\n",
        "# 요일 피처 생성\n",
        "all_data[\"weekday\"] = all_data['date'].apply(lambda dateString : datetime.strptime(dateString,\"%Y-%m-%d\").weekday())"
      ]
    },
    {
      "cell_type": "markdown",
      "id": "8fe06dd4",
      "metadata": {
        "papermill": {
          "duration": 0.030867,
          "end_time": "2022-03-04T07:34:51.737321",
          "exception": false,
          "start_time": "2022-03-04T07:34:51.706454",
          "status": "completed"
        },
        "tags": [],
        "id": "8fe06dd4"
      },
      "source": [
        "### 필요 없는 피처 제거"
      ]
    },
    {
      "cell_type": "code",
      "execution_count": 5,
      "id": "7d6f6200",
      "metadata": {
        "execution": {
          "iopub.execute_input": "2022-03-04T07:34:51.803482Z",
          "iopub.status.busy": "2022-03-04T07:34:51.802884Z",
          "iopub.status.idle": "2022-03-04T07:34:51.813301Z",
          "shell.execute_reply": "2022-03-04T07:34:51.813823Z",
          "shell.execute_reply.started": "2022-03-04T07:34:20.460096Z"
        },
        "papermill": {
          "duration": 0.044586,
          "end_time": "2022-03-04T07:34:51.814009",
          "exception": false,
          "start_time": "2022-03-04T07:34:51.769423",
          "status": "completed"
        },
        "tags": [],
        "id": "7d6f6200"
      },
      "outputs": [],
      "source": [
        "drop_features = ['casual', 'registered', 'datetime', 'date', 'windspeed', 'month']\n",
        "\n",
        "all_data = all_data.drop(drop_features, axis=1)"
      ]
    },
    {
      "cell_type": "markdown",
      "id": "ac29943a",
      "metadata": {
        "papermill": {
          "duration": 0.03082,
          "end_time": "2022-03-04T07:34:51.875825",
          "exception": false,
          "start_time": "2022-03-04T07:34:51.845005",
          "status": "completed"
        },
        "tags": [],
        "id": "ac29943a"
      },
      "source": [
        "### 데이터 나누기"
      ]
    },
    {
      "cell_type": "code",
      "execution_count": 6,
      "id": "4777aa3a",
      "metadata": {
        "execution": {
          "iopub.execute_input": "2022-03-04T07:34:51.944469Z",
          "iopub.status.busy": "2022-03-04T07:34:51.943829Z",
          "iopub.status.idle": "2022-03-04T07:34:51.951122Z",
          "shell.execute_reply": "2022-03-04T07:34:51.951616Z",
          "shell.execute_reply.started": "2022-03-04T07:34:20.475870Z"
        },
        "papermill": {
          "duration": 0.045225,
          "end_time": "2022-03-04T07:34:51.951824",
          "exception": false,
          "start_time": "2022-03-04T07:34:51.906599",
          "status": "completed"
        },
        "tags": [],
        "id": "4777aa3a"
      },
      "outputs": [],
      "source": [
        "# 훈련 데이터와 테스트 데이터 나누기\n",
        "X_train = all_data[~pd.isnull(all_data['count'])]\n",
        "X_test = all_data[pd.isnull(all_data['count'])]\n",
        "\n",
        "# 타깃값 count 제거\n",
        "X_train = X_train.drop(['count'], axis=1)\n",
        "X_test = X_test.drop(['count'], axis=1)\n",
        "\n",
        "y = train['count'] # 타깃값"
      ]
    },
    {
      "cell_type": "markdown",
      "id": "f5a352bb",
      "metadata": {
        "papermill": {
          "duration": 0.030958,
          "end_time": "2022-03-04T07:34:52.014022",
          "exception": false,
          "start_time": "2022-03-04T07:34:51.983064",
          "status": "completed"
        },
        "tags": [],
        "id": "f5a352bb"
      },
      "source": [
        "## 평가지표 계산 함수 작성"
      ]
    },
    {
      "cell_type": "code",
      "execution_count": 7,
      "id": "f1b9a2f7",
      "metadata": {
        "execution": {
          "iopub.execute_input": "2022-03-04T07:34:52.080103Z",
          "iopub.status.busy": "2022-03-04T07:34:52.079292Z",
          "iopub.status.idle": "2022-03-04T07:34:52.086065Z",
          "shell.execute_reply": "2022-03-04T07:34:52.086588Z",
          "shell.execute_reply.started": "2022-03-04T07:34:20.493708Z"
        },
        "papermill": {
          "duration": 0.04159,
          "end_time": "2022-03-04T07:34:52.086795",
          "exception": false,
          "start_time": "2022-03-04T07:34:52.045205",
          "status": "completed"
        },
        "tags": [],
        "id": "f1b9a2f7"
      },
      "outputs": [],
      "source": [
        "import numpy as np\n",
        "\n",
        "def rmsle(y_true, y_pred, convertExp=True):\n",
        "    # 지수변환\n",
        "    if convertExp:\n",
        "        y_true = np.exp(y_true)\n",
        "        y_pred = np.exp(y_pred)\n",
        "        \n",
        "    # 로그변환 후 결측값을 0으로 변환\n",
        "    log_true = np.nan_to_num(np.log(y_true+1))\n",
        "    log_pred = np.nan_to_num(np.log(y_pred+1))\n",
        "    \n",
        "    # RMSLE 계산\n",
        "    output = np.sqrt(np.mean((log_true - log_pred)**2))\n",
        "    return output"
      ]
    },
    {
      "cell_type": "markdown",
      "id": "bf48f74c",
      "metadata": {
        "papermill": {
          "duration": 0.031634,
          "end_time": "2022-03-04T07:34:52.149718",
          "exception": false,
          "start_time": "2022-03-04T07:34:52.118084",
          "status": "completed"
        },
        "tags": [],
        "id": "bf48f74c"
      },
      "source": [
        "# 1. 성능 개선 I : 릿지 회귀 모델"
      ]
    },
    {
      "cell_type": "markdown",
      "id": "af909395",
      "metadata": {
        "papermill": {
          "duration": 0.031038,
          "end_time": "2022-03-04T07:34:52.211836",
          "exception": false,
          "start_time": "2022-03-04T07:34:52.180798",
          "status": "completed"
        },
        "tags": [],
        "id": "af909395"
      },
      "source": [
        "## 1-1. 하이퍼 파라미터 최적화(모델 훈련)"
      ]
    },
    {
      "cell_type": "markdown",
      "id": "392451f8",
      "metadata": {
        "papermill": {
          "duration": 0.031135,
          "end_time": "2022-03-04T07:34:52.274257",
          "exception": false,
          "start_time": "2022-03-04T07:34:52.243122",
          "status": "completed"
        },
        "tags": [],
        "id": "392451f8"
      },
      "source": [
        "### 모델 생성"
      ]
    },
    {
      "cell_type": "code",
      "execution_count": 8,
      "id": "68ffa07c",
      "metadata": {
        "execution": {
          "iopub.execute_input": "2022-03-04T07:34:52.339941Z",
          "iopub.status.busy": "2022-03-04T07:34:52.339073Z",
          "iopub.status.idle": "2022-03-04T07:34:53.607355Z",
          "shell.execute_reply": "2022-03-04T07:34:53.607898Z",
          "shell.execute_reply.started": "2022-03-04T07:34:20.504339Z"
        },
        "papermill": {
          "duration": 1.30285,
          "end_time": "2022-03-04T07:34:53.608074",
          "exception": false,
          "start_time": "2022-03-04T07:34:52.305224",
          "status": "completed"
        },
        "tags": [],
        "id": "68ffa07c"
      },
      "outputs": [],
      "source": [
        "from sklearn.linear_model import Ridge\n",
        "from sklearn.model_selection import GridSearchCV\n",
        "from sklearn import metrics\n",
        "\n",
        "ridge_model = Ridge()"
      ]
    },
    {
      "cell_type": "markdown",
      "id": "6359d0b5",
      "metadata": {
        "papermill": {
          "duration": 0.031222,
          "end_time": "2022-03-04T07:34:53.671310",
          "exception": false,
          "start_time": "2022-03-04T07:34:53.640088",
          "status": "completed"
        },
        "tags": [],
        "id": "6359d0b5"
      },
      "source": [
        "### 그리드서치 객체 생성"
      ]
    },
    {
      "cell_type": "code",
      "execution_count": 9,
      "id": "82f511bc",
      "metadata": {
        "execution": {
          "iopub.execute_input": "2022-03-04T07:34:53.738466Z",
          "iopub.status.busy": "2022-03-04T07:34:53.737630Z",
          "iopub.status.idle": "2022-03-04T07:34:53.744064Z",
          "shell.execute_reply": "2022-03-04T07:34:53.744566Z",
          "shell.execute_reply.started": "2022-03-04T07:34:21.808922Z"
        },
        "papermill": {
          "duration": 0.041701,
          "end_time": "2022-03-04T07:34:53.744762",
          "exception": false,
          "start_time": "2022-03-04T07:34:53.703061",
          "status": "completed"
        },
        "tags": [],
        "id": "82f511bc"
      },
      "outputs": [],
      "source": [
        "# 하이퍼 파라미터 값 목록\n",
        "ridge_params = {'max_iter':[3000], 'alpha':[0.1, 1, 2, 3, 4, 10, 30, 100, 200, 300, 400, 800, 900, 1000]}\n",
        "\n",
        "# 교차 검증용 평가 함수(RMSLE 점수 계산)\n",
        "rmsle_scorer = metrics.make_scorer(rmsle, greater_is_better=False)\n",
        "# 그리드서치(with 릿지) 객체 생성\n",
        "gridsearch_ridge_model = GridSearchCV(estimator=ridge_model,   # 릿지 모델\n",
        "                                      param_grid=ridge_params, # 값 목록\n",
        "                                      scoring=rmsle_scorer,    # 평가지표\n",
        "                                      cv=5)                    # 교차검증 분할 수"
      ]
    },
    {
      "cell_type": "markdown",
      "id": "50b031af",
      "metadata": {
        "papermill": {
          "duration": 0.031236,
          "end_time": "2022-03-04T07:34:53.808173",
          "exception": false,
          "start_time": "2022-03-04T07:34:53.776937",
          "status": "completed"
        },
        "tags": [],
        "id": "50b031af"
      },
      "source": [
        "### 그리드서치 수행"
      ]
    },
    {
      "cell_type": "code",
      "execution_count": 10,
      "id": "d88fa23f",
      "metadata": {
        "execution": {
          "iopub.execute_input": "2022-03-04T07:34:53.875859Z",
          "iopub.status.busy": "2022-03-04T07:34:53.874973Z",
          "iopub.status.idle": "2022-03-04T07:34:55.446634Z",
          "shell.execute_reply": "2022-03-04T07:34:55.447592Z",
          "shell.execute_reply.started": "2022-03-04T07:34:21.818410Z"
        },
        "papermill": {
          "duration": 1.608455,
          "end_time": "2022-03-04T07:34:55.447815",
          "exception": false,
          "start_time": "2022-03-04T07:34:53.839360",
          "status": "completed"
        },
        "tags": [],
        "colab": {
          "base_uri": "https://localhost:8080/"
        },
        "id": "d88fa23f",
        "outputId": "11277816-d508-4808-fd25-a413c465e7ac"
      },
      "outputs": [
        {
          "output_type": "execute_result",
          "data": {
            "text/plain": [
              "GridSearchCV(cv=5, estimator=Ridge(),\n",
              "             param_grid={'alpha': [0.1, 1, 2, 3, 4, 10, 30, 100, 200, 300, 400,\n",
              "                                   800, 900, 1000],\n",
              "                         'max_iter': [3000]},\n",
              "             scoring=make_scorer(rmsle, greater_is_better=False))"
            ]
          },
          "metadata": {},
          "execution_count": 10
        }
      ],
      "source": [
        "log_y = np.log(y) # 타깃값 로그변환\n",
        "gridsearch_ridge_model.fit(X_train, log_y) # 훈련(그리드서치)"
      ]
    },
    {
      "cell_type": "code",
      "execution_count": 11,
      "id": "fa026bd4",
      "metadata": {
        "execution": {
          "iopub.execute_input": "2022-03-04T07:34:55.537733Z",
          "iopub.status.busy": "2022-03-04T07:34:55.536945Z",
          "iopub.status.idle": "2022-03-04T07:34:55.541559Z",
          "shell.execute_reply": "2022-03-04T07:34:55.540856Z",
          "shell.execute_reply.started": "2022-03-04T07:34:24.332497Z"
        },
        "papermill": {
          "duration": 0.055437,
          "end_time": "2022-03-04T07:34:55.541995",
          "exception": false,
          "start_time": "2022-03-04T07:34:55.486558",
          "status": "completed"
        },
        "tags": [],
        "colab": {
          "base_uri": "https://localhost:8080/"
        },
        "id": "fa026bd4",
        "outputId": "7e27e811-d3e1-491c-9f6e-84b1525dc37e"
      },
      "outputs": [
        {
          "output_type": "stream",
          "name": "stdout",
          "text": [
            "최적 하이퍼파라미터 : {'alpha': 0.1, 'max_iter': 3000}\n"
          ]
        }
      ],
      "source": [
        "print('최적 하이퍼파라미터 :', gridsearch_ridge_model.best_params_)"
      ]
    },
    {
      "cell_type": "markdown",
      "id": "862376a8",
      "metadata": {
        "papermill": {
          "duration": 0.031951,
          "end_time": "2022-03-04T07:34:55.606774",
          "exception": false,
          "start_time": "2022-03-04T07:34:55.574823",
          "status": "completed"
        },
        "tags": [],
        "id": "862376a8"
      },
      "source": [
        "## 1-2. 성능 검증"
      ]
    },
    {
      "cell_type": "code",
      "execution_count": 12,
      "id": "079f3b13",
      "metadata": {
        "execution": {
          "iopub.execute_input": "2022-03-04T07:34:55.678703Z",
          "iopub.status.busy": "2022-03-04T07:34:55.677947Z",
          "iopub.status.idle": "2022-03-04T07:34:55.698221Z",
          "shell.execute_reply": "2022-03-04T07:34:55.699059Z",
          "shell.execute_reply.started": "2022-03-04T07:34:24.347400Z"
        },
        "papermill": {
          "duration": 0.060077,
          "end_time": "2022-03-04T07:34:55.699280",
          "exception": false,
          "start_time": "2022-03-04T07:34:55.639203",
          "status": "completed"
        },
        "tags": [],
        "colab": {
          "base_uri": "https://localhost:8080/"
        },
        "id": "079f3b13",
        "outputId": "54596ff9-945b-4f17-e7c2-bb1fed821dcc"
      },
      "outputs": [
        {
          "output_type": "stream",
          "name": "stdout",
          "text": [
            "릿지 회귀 RMSLE 값 : 1.0205\n"
          ]
        }
      ],
      "source": [
        "# 예측\n",
        "preds = gridsearch_ridge_model.best_estimator_.predict(X_train) \n",
        "\n",
        "# 평가\n",
        "print(f'릿지 회귀 RMSLE 값 : {rmsle(log_y, preds, True):.4f}') "
      ]
    },
    {
      "cell_type": "markdown",
      "id": "07fdf919",
      "metadata": {
        "papermill": {
          "duration": 0.039662,
          "end_time": "2022-03-04T07:34:55.778770",
          "exception": false,
          "start_time": "2022-03-04T07:34:55.739108",
          "status": "completed"
        },
        "tags": [],
        "id": "07fdf919"
      },
      "source": [
        "# 2. 성능 개선 II : 라쏘 회귀 모델"
      ]
    },
    {
      "cell_type": "markdown",
      "id": "a56d27b6",
      "metadata": {
        "papermill": {
          "duration": 0.032158,
          "end_time": "2022-03-04T07:34:55.848593",
          "exception": false,
          "start_time": "2022-03-04T07:34:55.816435",
          "status": "completed"
        },
        "tags": [],
        "id": "a56d27b6"
      },
      "source": [
        "## 2.1. 하이퍼 파라미터 최적화(모델 훈련)"
      ]
    },
    {
      "cell_type": "code",
      "execution_count": 13,
      "id": "a72cfefc",
      "metadata": {
        "execution": {
          "iopub.execute_input": "2022-03-04T07:34:55.922002Z",
          "iopub.status.busy": "2022-03-04T07:34:55.921356Z",
          "iopub.status.idle": "2022-03-04T07:34:58.268453Z",
          "shell.execute_reply": "2022-03-04T07:34:58.269609Z",
          "shell.execute_reply.started": "2022-03-04T07:34:24.386741Z"
        },
        "papermill": {
          "duration": 2.388592,
          "end_time": "2022-03-04T07:34:58.269840",
          "exception": false,
          "start_time": "2022-03-04T07:34:55.881248",
          "status": "completed"
        },
        "tags": [],
        "colab": {
          "base_uri": "https://localhost:8080/"
        },
        "id": "a72cfefc",
        "outputId": "05dc4d74-6782-4785-e7bb-9734a1c8c34b"
      },
      "outputs": [
        {
          "output_type": "stream",
          "name": "stdout",
          "text": [
            "최적 하이퍼파라미터 : {'alpha': 0.00125, 'max_iter': 3000}\n"
          ]
        }
      ],
      "source": [
        "from sklearn.linear_model import Lasso\n",
        "\n",
        "# 모델 생성\n",
        "lasso_model = Lasso()\n",
        "# 하이퍼파라미터 값 목록\n",
        "lasso_alpha = 1/np.array([0.1, 1, 2, 3, 4, 10, 30, 100, 200, 300, 400, 800, 900, 1000])\n",
        "lasso_params = {'max_iter':[3000], 'alpha':lasso_alpha}\n",
        "# 그리드서치(with 라쏘) 객체 생성\n",
        "gridsearch_lasso_model = GridSearchCV(estimator=lasso_model,\n",
        "                                      param_grid=lasso_params,\n",
        "                                      scoring=rmsle_scorer,\n",
        "                                      cv=5)\n",
        "# 그리드서치 수행\n",
        "log_y = np.log(y)\n",
        "gridsearch_lasso_model.fit(X_train, log_y)\n",
        "\n",
        "print('최적 하이퍼파라미터 :', gridsearch_lasso_model.best_params_)"
      ]
    },
    {
      "cell_type": "markdown",
      "id": "ec7a0660",
      "metadata": {
        "papermill": {
          "duration": 0.039912,
          "end_time": "2022-03-04T07:34:58.350071",
          "exception": false,
          "start_time": "2022-03-04T07:34:58.310159",
          "status": "completed"
        },
        "tags": [],
        "id": "ec7a0660"
      },
      "source": [
        "## 2.2. 성능 검증"
      ]
    },
    {
      "cell_type": "code",
      "execution_count": 14,
      "id": "07c7832a",
      "metadata": {
        "execution": {
          "iopub.execute_input": "2022-03-04T07:34:58.439679Z",
          "iopub.status.busy": "2022-03-04T07:34:58.438819Z",
          "iopub.status.idle": "2022-03-04T07:34:58.447346Z",
          "shell.execute_reply": "2022-03-04T07:34:58.448065Z",
          "shell.execute_reply.started": "2022-03-04T07:34:28.193822Z"
        },
        "papermill": {
          "duration": 0.060163,
          "end_time": "2022-03-04T07:34:58.448241",
          "exception": false,
          "start_time": "2022-03-04T07:34:58.388078",
          "status": "completed"
        },
        "tags": [],
        "colab": {
          "base_uri": "https://localhost:8080/"
        },
        "id": "07c7832a",
        "outputId": "f7ce1b39-3cc0-409f-93e3-0747e3b4cb24"
      },
      "outputs": [
        {
          "output_type": "stream",
          "name": "stdout",
          "text": [
            "라쏘 회귀 RMSLE 값 : 1.0205\n"
          ]
        }
      ],
      "source": [
        "# 예측\n",
        "preds = gridsearch_lasso_model.best_estimator_.predict(X_train)\n",
        "\n",
        "# 평가\n",
        "print(f'라쏘 회귀 RMSLE 값 : {rmsle(log_y, preds, True):.4f}')"
      ]
    },
    {
      "cell_type": "markdown",
      "id": "8ce9faa5",
      "metadata": {
        "papermill": {
          "duration": 0.040543,
          "end_time": "2022-03-04T07:34:58.528769",
          "exception": false,
          "start_time": "2022-03-04T07:34:58.488226",
          "status": "completed"
        },
        "tags": [],
        "id": "8ce9faa5"
      },
      "source": [
        "# 3. 성능 개선 III : 랜덤 포레스트 회귀 모델"
      ]
    },
    {
      "cell_type": "markdown",
      "id": "aae7f9d7",
      "metadata": {
        "papermill": {
          "duration": 0.039839,
          "end_time": "2022-03-04T07:34:58.612898",
          "exception": false,
          "start_time": "2022-03-04T07:34:58.573059",
          "status": "completed"
        },
        "tags": [],
        "id": "aae7f9d7"
      },
      "source": [
        "## 3.1. 하이퍼 파라미터 최적화(모델 훈련)"
      ]
    },
    {
      "cell_type": "code",
      "execution_count": 15,
      "id": "0a619a37",
      "metadata": {
        "execution": {
          "iopub.execute_input": "2022-03-04T07:34:58.688248Z",
          "iopub.status.busy": "2022-03-04T07:34:58.687577Z",
          "iopub.status.idle": "2022-03-04T07:35:58.346162Z",
          "shell.execute_reply": "2022-03-04T07:35:58.346712Z"
        },
        "papermill": {
          "duration": 59.699496,
          "end_time": "2022-03-04T07:35:58.346884",
          "exception": false,
          "start_time": "2022-03-04T07:34:58.647388",
          "status": "completed"
        },
        "tags": [],
        "colab": {
          "base_uri": "https://localhost:8080/"
        },
        "id": "0a619a37",
        "outputId": "dc9a3da8-7da8-4c77-9819-f46bea3c3ca1"
      },
      "outputs": [
        {
          "output_type": "stream",
          "name": "stdout",
          "text": [
            "최적 하이퍼파라미터 : {'n_estimators': 140, 'random_state': 42}\n"
          ]
        }
      ],
      "source": [
        "from sklearn.ensemble import RandomForestRegressor\n",
        "\n",
        "# 모델 생성\n",
        "randomforest_model = RandomForestRegressor()\n",
        "# 그리드서치 객체 생성\n",
        "rf_params = {'random_state':[42], 'n_estimators':[100, 120, 140]}\n",
        "gridsearch_random_forest_model = GridSearchCV(estimator=randomforest_model,\n",
        "                                              param_grid=rf_params,\n",
        "                                              scoring=rmsle_scorer,\n",
        "                                              cv=5)\n",
        "# 그리드서치 수행\n",
        "log_y = np.log(y)\n",
        "gridsearch_random_forest_model.fit(X_train, log_y)\n",
        "\n",
        "print('최적 하이퍼파라미터 :', gridsearch_random_forest_model.best_params_)"
      ]
    },
    {
      "cell_type": "markdown",
      "id": "b8d08397",
      "metadata": {
        "papermill": {
          "duration": 0.03607,
          "end_time": "2022-03-04T07:35:58.417064",
          "exception": false,
          "start_time": "2022-03-04T07:35:58.380994",
          "status": "completed"
        },
        "tags": [],
        "id": "b8d08397"
      },
      "source": [
        "## 3.2. 모델 성능 검증"
      ]
    },
    {
      "cell_type": "code",
      "execution_count": 16,
      "id": "ca53bd89",
      "metadata": {
        "execution": {
          "iopub.execute_input": "2022-03-04T07:35:58.488650Z",
          "iopub.status.busy": "2022-03-04T07:35:58.487983Z",
          "iopub.status.idle": "2022-03-04T07:35:58.770619Z",
          "shell.execute_reply": "2022-03-04T07:35:58.771226Z"
        },
        "papermill": {
          "duration": 0.320128,
          "end_time": "2022-03-04T07:35:58.771419",
          "exception": false,
          "start_time": "2022-03-04T07:35:58.451291",
          "status": "completed"
        },
        "tags": [],
        "colab": {
          "base_uri": "https://localhost:8080/"
        },
        "id": "ca53bd89",
        "outputId": "67b6262e-ade3-4a52-9f9a-9390cdde0b37"
      },
      "outputs": [
        {
          "output_type": "stream",
          "name": "stdout",
          "text": [
            "랜덤 포레스트 회귀 RMSLE 값 : 0.1127\n"
          ]
        }
      ],
      "source": [
        "# 예측\n",
        "preds = gridsearch_random_forest_model.best_estimator_.predict(X_train)\n",
        "\n",
        "# 평가\n",
        "print(f'랜덤 포레스트 회귀 RMSLE 값 : {rmsle(log_y, preds, True):.4f}')"
      ]
    },
    {
      "cell_type": "markdown",
      "id": "c19c38f9",
      "metadata": {
        "papermill": {
          "duration": 0.034342,
          "end_time": "2022-03-04T07:35:58.841280",
          "exception": false,
          "start_time": "2022-03-04T07:35:58.806938",
          "status": "completed"
        },
        "tags": [],
        "id": "c19c38f9"
      },
      "source": [
        "## 3.3. 예측 및 결과 제출"
      ]
    },
    {
      "cell_type": "code",
      "execution_count": 17,
      "id": "0ddfa1f0",
      "metadata": {
        "execution": {
          "iopub.execute_input": "2022-03-04T07:35:58.912924Z",
          "iopub.status.busy": "2022-03-04T07:35:58.912248Z",
          "iopub.status.idle": "2022-03-04T07:36:00.053544Z",
          "shell.execute_reply": "2022-03-04T07:36:00.052960Z"
        },
        "papermill": {
          "duration": 1.178299,
          "end_time": "2022-03-04T07:36:00.053709",
          "exception": false,
          "start_time": "2022-03-04T07:35:58.875410",
          "status": "completed"
        },
        "tags": [],
        "colab": {
          "base_uri": "https://localhost:8080/",
          "height": 295
        },
        "id": "0ddfa1f0",
        "outputId": "e904f1fb-3c35-4895-e66a-465e4814bc4b"
      },
      "outputs": [
        {
          "output_type": "display_data",
          "data": {
            "text/plain": [
              "<Figure size 720x288 with 2 Axes>"
            ],
            "image/png": "[encoded data removed]"
          },
          "metadata": {
            "needs_background": "light"
          }
        }
      ],
      "source": [
        "import seaborn as sns\n",
        "import matplotlib.pyplot as plt\n",
        "\n",
        "randomforest_preds = gridsearch_random_forest_model.best_estimator_.predict(X_test)\n",
        "\n",
        "figure, axes = plt.subplots(ncols=2)\n",
        "figure.set_size_inches(10, 4)\n",
        "\n",
        "sns.histplot(y, bins=50, ax=axes[0])\n",
        "axes[0].set_title('Train Data Distribution')\n",
        "sns.histplot(np.exp(randomforest_preds), bins=50, ax=axes[1])\n",
        "axes[1].set_title('Predicted Test Data Distribution');"
      ]
    },
    {
      "cell_type": "code",
      "execution_count": 18,
      "id": "80855ee2",
      "metadata": {
        "execution": {
          "iopub.execute_input": "2022-03-04T07:36:00.129946Z",
          "iopub.status.busy": "2022-03-04T07:36:00.129240Z",
          "iopub.status.idle": "2022-03-04T07:36:00.158950Z",
          "shell.execute_reply": "2022-03-04T07:36:00.159458Z"
        },
        "papermill": {
          "duration": 0.070503,
          "end_time": "2022-03-04T07:36:00.159635",
          "exception": false,
          "start_time": "2022-03-04T07:36:00.089132",
          "status": "completed"
        },
        "tags": [],
        "id": "80855ee2"
      },
      "outputs": [],
      "source": [
        "submission['count'] = np.exp(randomforest_preds) # 지수변환\n",
        "submission.to_csv('submission.csv', index=False)"
      ]
    }
  ],
  "metadata": {
    "kernelspec": {
      "display_name": "Python 3",
      "language": "python",
      "name": "python3"
    },
    "language_info": {
      "codemirror_mode": {
        "name": "ipython",
        "version": 3
      },
      "file_extension": ".py",
      "mimetype": "text/x-python",
      "name": "python",
      "nbconvert_exporter": "python",
      "pygments_lexer": "ipython3",
      "version": "3.7.10"
    },
    "papermill": {
      "default_parameters": {},
      "duration": 82.159705,
      "end_time": "2022-03-04T07:36:01.807207",
      "environment_variables": {},
      "exception": null,
      "input_path": "__notebook__.ipynb",
      "output_path": "__notebook__.ipynb",
      "parameters": {},
      "start_time": "2022-03-04T07:34:39.647502",
      "version": "2.3.3"
    },
    "colab": {
      "name": "ch6-modeling.ipynb",
      "provenance": [],
      "include_colab_link": true
    }
  },
  "nbformat": 4,
  "nbformat_minor": 5
}