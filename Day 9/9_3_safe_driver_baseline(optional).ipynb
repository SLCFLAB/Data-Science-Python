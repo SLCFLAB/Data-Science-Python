{
  "cells": [
    {
      "cell_type": "markdown",
      "metadata": {
        "id": "view-in-github",
        "colab_type": "text"
      },
      "source": [
        "<a href=\"https://colab.research.google.com/github/SLCFLAB/Data-Science-Python/blob/main/Day%209/9_3_safe_driver_baseline(optional).ipynb\" target=\"_parent\"><img src=\"https://colab.research.google.com/assets/colab-badge.svg\" alt=\"Open In Colab\"/></a>"
      ]
    },
    {
      "cell_type": "markdown",
      "id": "4ccfbf16",
      "metadata": {
        "papermill": {
          "duration": 0.013457,
          "end_time": "2022-03-04T16:04:18.344796",
          "exception": false,
          "start_time": "2022-03-04T16:04:18.331339",
          "status": "completed"
        },
        "tags": [],
        "id": "4ccfbf16"
      },
      "source": [
        "# 안전 운전자 예측 경진대회 베이스라인 모델"
      ]
    },
    {
      "cell_type": "markdown",
      "id": "ccff91ba",
      "metadata": {
        "papermill": {
          "duration": 0.012182,
          "end_time": "2022-03-04T16:04:18.369745",
          "exception": false,
          "start_time": "2022-03-04T16:04:18.357563",
          "status": "completed"
        },
        "tags": [],
        "id": "ccff91ba"
      },
      "source": [
        "- [안전 운전자 예측 경진대회 링크](https://www.kaggle.com/c/porto-seguro-safe-driver-prediction)\n",
        "- [베이스라인 코드 참고 링크](https://www.kaggle.com/xiaozhouwang/2nd-place-lightgbm-solution)"
      ]
    },
    {
      "cell_type": "code",
      "execution_count": null,
      "id": "32877ceb",
      "metadata": {
        "execution": {
          "iopub.execute_input": "2022-03-04T16:04:18.408610Z",
          "iopub.status.busy": "2022-03-04T16:04:18.407573Z",
          "iopub.status.idle": "2022-03-04T16:04:28.309658Z",
          "shell.execute_reply": "2022-03-04T16:04:28.308842Z"
        },
        "papermill": {
          "duration": 9.924797,
          "end_time": "2022-03-04T16:04:28.309821",
          "exception": false,
          "start_time": "2022-03-04T16:04:18.385024",
          "status": "completed"
        },
        "tags": [],
        "colab": {
          "base_uri": "https://localhost:8080/"
        },
        "id": "32877ceb",
        "outputId": "a791d7e5-ecce-4d71-cb1f-d9188eae95bc"
      },
      "outputs": [
        {
          "output_type": "stream",
          "name": "stdout",
          "text": [
            "Mounted at /content/gdrive\n"
          ]
        }
      ],
      "source": [
        "from google.colab import drive\n",
        "drive.mount(\"/content/gdrive\")"
      ]
    },
    {
      "cell_type": "code",
      "source": [
        "cd gdrive/MyDrive/'Colab Notebooks'"
      ],
      "metadata": {
        "colab": {
          "base_uri": "https://localhost:8080/"
        },
        "id": "BCqWjhQzVTwK",
        "outputId": "75be674d-e9d5-4e52-f8ad-99ea3db618e0"
      },
      "id": "BCqWjhQzVTwK",
      "execution_count": null,
      "outputs": [
        {
          "output_type": "stream",
          "name": "stdout",
          "text": [
            "/content/gdrive/MyDrive/Colab Notebooks\n"
          ]
        }
      ]
    },
    {
      "cell_type": "code",
      "source": [
        "import pandas as pd\n",
        "\n",
        "data_path = 'porto-seguro-safe-driver-prediction/' \n",
        "\n",
        "train = pd.read_csv(data_path + 'train.csv', index_col='id')\n",
        "test = pd.read_csv(data_path + 'test.csv', index_col='id')\n",
        "submission = pd.read_csv(data_path + 'sample_submission.csv', index_col='id')"
      ],
      "metadata": {
        "id": "YgwqPND4VXYi"
      },
      "id": "YgwqPND4VXYi",
      "execution_count": null,
      "outputs": []
    },
    {
      "cell_type": "markdown",
      "id": "7ea96b1e",
      "metadata": {
        "papermill": {
          "duration": 0.012131,
          "end_time": "2022-03-04T16:04:28.334448",
          "exception": false,
          "start_time": "2022-03-04T16:04:28.322317",
          "status": "completed"
        },
        "tags": [],
        "id": "7ea96b1e"
      },
      "source": [
        "## 1. 피처 엔지니어링"
      ]
    },
    {
      "cell_type": "markdown",
      "id": "23fd7802",
      "metadata": {
        "papermill": {
          "duration": 0.012067,
          "end_time": "2022-03-04T16:04:28.358741",
          "exception": false,
          "start_time": "2022-03-04T16:04:28.346674",
          "status": "completed"
        },
        "tags": [],
        "id": "23fd7802"
      },
      "source": [
        "### 데이터 합치기"
      ]
    },
    {
      "cell_type": "code",
      "execution_count": null,
      "id": "a142ad83",
      "metadata": {
        "execution": {
          "iopub.execute_input": "2022-03-04T16:04:28.386982Z",
          "iopub.status.busy": "2022-03-04T16:04:28.386052Z",
          "iopub.status.idle": "2022-03-04T16:04:29.525990Z",
          "shell.execute_reply": "2022-03-04T16:04:29.525473Z"
        },
        "papermill": {
          "duration": 1.155008,
          "end_time": "2022-03-04T16:04:29.526145",
          "exception": false,
          "start_time": "2022-03-04T16:04:28.371137",
          "status": "completed"
        },
        "tags": [],
        "id": "a142ad83"
      },
      "outputs": [],
      "source": [
        "all_data = pd.concat([train, test], ignore_index=True)\n",
        "all_data = all_data.drop('target', axis=1) # 타깃값 제거"
      ]
    },
    {
      "cell_type": "code",
      "execution_count": null,
      "id": "5bafb240",
      "metadata": {
        "execution": {
          "iopub.execute_input": "2022-03-04T16:04:29.560308Z",
          "iopub.status.busy": "2022-03-04T16:04:29.559499Z",
          "iopub.status.idle": "2022-03-04T16:04:29.563219Z",
          "shell.execute_reply": "2022-03-04T16:04:29.563655Z"
        },
        "papermill": {
          "duration": 0.025038,
          "end_time": "2022-03-04T16:04:29.563823",
          "exception": false,
          "start_time": "2022-03-04T16:04:29.538785",
          "status": "completed"
        },
        "tags": [],
        "colab": {
          "base_uri": "https://localhost:8080/"
        },
        "id": "5bafb240",
        "outputId": "7d0e5d88-cd38-47fd-ec4e-5f6927eb0da7"
      },
      "outputs": [
        {
          "output_type": "execute_result",
          "data": {
            "text/plain": [
              "Index(['ps_ind_01', 'ps_ind_02_cat', 'ps_ind_03', 'ps_ind_04_cat',\n",
              "       'ps_ind_05_cat', 'ps_ind_06_bin', 'ps_ind_07_bin', 'ps_ind_08_bin',\n",
              "       'ps_ind_09_bin', 'ps_ind_10_bin', 'ps_ind_11_bin', 'ps_ind_12_bin',\n",
              "       'ps_ind_13_bin', 'ps_ind_14', 'ps_ind_15', 'ps_ind_16_bin',\n",
              "       'ps_ind_17_bin', 'ps_ind_18_bin', 'ps_reg_01', 'ps_reg_02', 'ps_reg_03',\n",
              "       'ps_car_01_cat', 'ps_car_02_cat', 'ps_car_03_cat', 'ps_car_04_cat',\n",
              "       'ps_car_05_cat', 'ps_car_06_cat', 'ps_car_07_cat', 'ps_car_08_cat',\n",
              "       'ps_car_09_cat', 'ps_car_10_cat', 'ps_car_11_cat', 'ps_car_11',\n",
              "       'ps_car_12', 'ps_car_13', 'ps_car_14', 'ps_car_15', 'ps_calc_01',\n",
              "       'ps_calc_02', 'ps_calc_03', 'ps_calc_04', 'ps_calc_05', 'ps_calc_06',\n",
              "       'ps_calc_07', 'ps_calc_08', 'ps_calc_09', 'ps_calc_10', 'ps_calc_11',\n",
              "       'ps_calc_12', 'ps_calc_13', 'ps_calc_14', 'ps_calc_15_bin',\n",
              "       'ps_calc_16_bin', 'ps_calc_17_bin', 'ps_calc_18_bin', 'ps_calc_19_bin',\n",
              "       'ps_calc_20_bin'],\n",
              "      dtype='object')"
            ]
          },
          "metadata": {},
          "execution_count": 5
        }
      ],
      "source": [
        "all_features = all_data.columns # 전체 피처\n",
        "all_features"
      ]
    },
    {
      "cell_type": "markdown",
      "id": "45b6215d",
      "metadata": {
        "papermill": {
          "duration": 0.013732,
          "end_time": "2022-03-04T16:04:29.590823",
          "exception": false,
          "start_time": "2022-03-04T16:04:29.577091",
          "status": "completed"
        },
        "tags": [],
        "id": "45b6215d"
      },
      "source": [
        "### 명목형 피처 원-핫 인코딩"
      ]
    },
    {
      "cell_type": "code",
      "execution_count": null,
      "id": "63a98ea6",
      "metadata": {
        "execution": {
          "iopub.execute_input": "2022-03-04T16:04:29.620417Z",
          "iopub.status.busy": "2022-03-04T16:04:29.619434Z",
          "iopub.status.idle": "2022-03-04T16:04:32.444440Z",
          "shell.execute_reply": "2022-03-04T16:04:32.443773Z"
        },
        "papermill": {
          "duration": 2.840868,
          "end_time": "2022-03-04T16:04:32.444635",
          "exception": false,
          "start_time": "2022-03-04T16:04:29.603767",
          "status": "completed"
        },
        "tags": [],
        "colab": {
          "base_uri": "https://localhost:8080/"
        },
        "id": "63a98ea6",
        "outputId": "641f273e-3de4-4b2d-e0af-4b2ce7b521e7"
      },
      "outputs": [
        {
          "output_type": "execute_result",
          "data": {
            "text/plain": [
              "<1488028x184 sparse matrix of type '<class 'numpy.float64'>'\n",
              "\twith 20832392 stored elements in Compressed Sparse Row format>"
            ]
          },
          "metadata": {},
          "execution_count": 6
        }
      ],
      "source": [
        "from sklearn.preprocessing import OneHotEncoder\n",
        "\n",
        "# 명목형 피처 추출\n",
        "cat_features = [feature for feature in all_features if 'cat' in feature] \n",
        "\n",
        "onehot_encoder = OneHotEncoder() # 원-핫 인코더 객체 생성\n",
        "# 인코딩\n",
        "encoded_cat_matrix = onehot_encoder.fit_transform(all_data[cat_features]) \n",
        "\n",
        "encoded_cat_matrix"
      ]
    },
    {
      "cell_type": "markdown",
      "id": "c844eaa1",
      "metadata": {
        "papermill": {
          "duration": 0.016673,
          "end_time": "2022-03-04T16:04:32.480219",
          "exception": false,
          "start_time": "2022-03-04T16:04:32.463546",
          "status": "completed"
        },
        "tags": [],
        "id": "c844eaa1"
      },
      "source": [
        "### 필요 없는 피처 제거"
      ]
    },
    {
      "cell_type": "code",
      "execution_count": null,
      "id": "3b0e7573",
      "metadata": {
        "execution": {
          "iopub.execute_input": "2022-03-04T16:04:32.516473Z",
          "iopub.status.busy": "2022-03-04T16:04:32.515821Z",
          "iopub.status.idle": "2022-03-04T16:04:32.519468Z",
          "shell.execute_reply": "2022-03-04T16:04:32.519894Z"
        },
        "papermill": {
          "duration": 0.024619,
          "end_time": "2022-03-04T16:04:32.520078",
          "exception": false,
          "start_time": "2022-03-04T16:04:32.495459",
          "status": "completed"
        },
        "tags": [],
        "id": "3b0e7573"
      },
      "outputs": [],
      "source": [
        "# 추가로 제거할 피처\n",
        "drop_features = ['ps_ind_14', 'ps_ind_10_bin', 'ps_ind_11_bin', \n",
        "                 'ps_ind_12_bin', 'ps_ind_13_bin', 'ps_car_14']\n",
        "\n",
        "# '1) 명목형 피처, 2) calc 분류의 피처, 3) 추가 제거할 피처'를 제외한 피처\n",
        "remaining_features = [feature for feature in all_features \n",
        "                      if ('cat' not in feature and \n",
        "                          'calc' not in feature and \n",
        "                          feature not in drop_features)]"
      ]
    },
    {
      "cell_type": "code",
      "execution_count": null,
      "id": "83952cba",
      "metadata": {
        "execution": {
          "iopub.execute_input": "2022-03-04T16:04:32.549859Z",
          "iopub.status.busy": "2022-03-04T16:04:32.549281Z",
          "iopub.status.idle": "2022-03-04T16:04:34.872354Z",
          "shell.execute_reply": "2022-03-04T16:04:34.873028Z"
        },
        "papermill": {
          "duration": 2.33979,
          "end_time": "2022-03-04T16:04:34.873246",
          "exception": false,
          "start_time": "2022-03-04T16:04:32.533456",
          "status": "completed"
        },
        "tags": [],
        "id": "83952cba"
      },
      "outputs": [],
      "source": [
        "from scipy import sparse\n",
        "\n",
        "all_data_sprs = sparse.hstack([sparse.csr_matrix(all_data[remaining_features]),\n",
        "                               encoded_cat_matrix],\n",
        "                              format='csr')"
      ]
    },
    {
      "cell_type": "markdown",
      "id": "54e97aaa",
      "metadata": {
        "papermill": {
          "duration": 0.013675,
          "end_time": "2022-03-04T16:04:34.900581",
          "exception": false,
          "start_time": "2022-03-04T16:04:34.886906",
          "status": "completed"
        },
        "tags": [],
        "id": "54e97aaa"
      },
      "source": [
        "### 데이터 나누기"
      ]
    },
    {
      "cell_type": "code",
      "execution_count": null,
      "id": "df300631",
      "metadata": {
        "execution": {
          "iopub.execute_input": "2022-03-04T16:04:34.931334Z",
          "iopub.status.busy": "2022-03-04T16:04:34.930694Z",
          "iopub.status.idle": "2022-03-04T16:04:35.489165Z",
          "shell.execute_reply": "2022-03-04T16:04:35.488625Z"
        },
        "papermill": {
          "duration": 0.574971,
          "end_time": "2022-03-04T16:04:35.489307",
          "exception": false,
          "start_time": "2022-03-04T16:04:34.914336",
          "status": "completed"
        },
        "tags": [],
        "id": "df300631"
      },
      "outputs": [],
      "source": [
        "num_train = len(train) # 훈련 데이터 개수\n",
        "\n",
        "# 훈련 데이터와 테스트 데이터 나누기\n",
        "X = all_data_sprs[:num_train]\n",
        "X_test = all_data_sprs[num_train:]\n",
        "\n",
        "y = train['target'].values"
      ]
    },
    {
      "cell_type": "markdown",
      "id": "a11172c5",
      "metadata": {
        "papermill": {
          "duration": 0.013478,
          "end_time": "2022-03-04T16:04:35.516518",
          "exception": false,
          "start_time": "2022-03-04T16:04:35.503040",
          "status": "completed"
        },
        "tags": [],
        "id": "a11172c5"
      },
      "source": [
        "##2. 평가지표 계산 함수 작성"
      ]
    },
    {
      "cell_type": "markdown",
      "id": "712a2ad6",
      "metadata": {
        "papermill": {
          "duration": 0.013544,
          "end_time": "2022-03-04T16:04:35.544144",
          "exception": false,
          "start_time": "2022-03-04T16:04:35.530600",
          "status": "completed"
        },
        "tags": [],
        "id": "712a2ad6"
      },
      "source": [
        "### 정규화 지니계수 계산 함수"
      ]
    },
    {
      "cell_type": "code",
      "execution_count": null,
      "id": "4e28081b",
      "metadata": {
        "execution": {
          "iopub.execute_input": "2022-03-04T16:04:35.579991Z",
          "iopub.status.busy": "2022-03-04T16:04:35.578797Z",
          "iopub.status.idle": "2022-03-04T16:04:35.581226Z",
          "shell.execute_reply": "2022-03-04T16:04:35.581656Z"
        },
        "papermill": {
          "duration": 0.023542,
          "end_time": "2022-03-04T16:04:35.581827",
          "exception": false,
          "start_time": "2022-03-04T16:04:35.558285",
          "status": "completed"
        },
        "tags": [],
        "id": "4e28081b"
      },
      "outputs": [],
      "source": [
        "import numpy as np\n",
        "\n",
        "def eval_gini(y_true, y_pred):\n",
        "    # 실제값과 예측값의 크기가 같은지 확인 (값이 다르면 오류 발생)\n",
        "    assert y_true.shape == y_pred.shape\n",
        "\n",
        "    n_samples = y_true.shape[0]                      # 데이터 개수\n",
        "    L_mid = np.linspace(1 / n_samples, 1, n_samples) # 대각선 값\n",
        "\n",
        "    # 1) 예측값에 대한 지니계수\n",
        "    pred_order = y_true[y_pred.argsort()] # y_pred 크기순으로 y_true 값 정렬\n",
        "    L_pred = np.cumsum(pred_order) / np.sum(pred_order) # 로렌츠 곡선\n",
        "    G_pred = np.sum(L_mid - L_pred)       # 예측 값에 대한 지니계수\n",
        "\n",
        "    # 2) 예측이 완벽할 때 지니계수\n",
        "    true_order = y_true[y_true.argsort()] # y_true 크기순으로 y_true 값 정렬\n",
        "    L_true = np.cumsum(true_order) / np.sum(true_order) # 로렌츠 곡선\n",
        "    G_true = np.sum(L_mid - L_true)       # 예측이 완벽할 때 지니계수\n",
        "\n",
        "    # 정규화된 지니계수\n",
        "    return G_pred / G_true"
      ]
    },
    {
      "cell_type": "code",
      "execution_count": null,
      "id": "63e127ae",
      "metadata": {
        "execution": {
          "iopub.execute_input": "2022-03-04T16:04:35.613558Z",
          "iopub.status.busy": "2022-03-04T16:04:35.612608Z",
          "iopub.status.idle": "2022-03-04T16:04:35.616337Z",
          "shell.execute_reply": "2022-03-04T16:04:35.616739Z"
        },
        "papermill": {
          "duration": 0.021169,
          "end_time": "2022-03-04T16:04:35.616906",
          "exception": false,
          "start_time": "2022-03-04T16:04:35.595737",
          "status": "completed"
        },
        "tags": [],
        "id": "63e127ae"
      },
      "outputs": [],
      "source": [
        "def gini(preds, dtrain):\n",
        "    labels = dtrain.get_label()\n",
        "    return 'gini', eval_gini(labels, preds), True # 반환값"
      ]
    },
    {
      "cell_type": "markdown",
      "id": "22ce0ce8",
      "metadata": {
        "papermill": {
          "duration": 0.013584,
          "end_time": "2022-03-04T16:04:35.644298",
          "exception": false,
          "start_time": "2022-03-04T16:04:35.630714",
          "status": "completed"
        },
        "tags": [],
        "id": "22ce0ce8"
      },
      "source": [
        "## 3. 모델 훈련 및 성능 검증"
      ]
    },
    {
      "cell_type": "markdown",
      "id": "72ea885d",
      "metadata": {
        "papermill": {
          "duration": 0.01342,
          "end_time": "2022-03-04T16:04:35.671570",
          "exception": false,
          "start_time": "2022-03-04T16:04:35.658150",
          "status": "completed"
        },
        "tags": [],
        "id": "72ea885d"
      },
      "source": [
        "### OOF 방식으로 LightGBM 훈련"
      ]
    },
    {
      "cell_type": "code",
      "execution_count": null,
      "id": "b2c5211a",
      "metadata": {
        "execution": {
          "iopub.execute_input": "2022-03-04T16:04:35.704187Z",
          "iopub.status.busy": "2022-03-04T16:04:35.703515Z",
          "iopub.status.idle": "2022-03-04T16:04:35.751464Z",
          "shell.execute_reply": "2022-03-04T16:04:35.751884Z"
        },
        "papermill": {
          "duration": 0.066724,
          "end_time": "2022-03-04T16:04:35.752075",
          "exception": false,
          "start_time": "2022-03-04T16:04:35.685351",
          "status": "completed"
        },
        "tags": [],
        "id": "b2c5211a"
      },
      "outputs": [],
      "source": [
        "from sklearn.model_selection import StratifiedKFold\n",
        "\n",
        "# 층화 K 폴드 교차 검증기\n",
        "folds = StratifiedKFold(n_splits=5, shuffle=True, random_state=1991)"
      ]
    },
    {
      "cell_type": "code",
      "execution_count": null,
      "id": "f04be7d0",
      "metadata": {
        "execution": {
          "iopub.execute_input": "2022-03-04T16:04:35.785146Z",
          "iopub.status.busy": "2022-03-04T16:04:35.784535Z",
          "iopub.status.idle": "2022-03-04T16:04:35.786256Z",
          "shell.execute_reply": "2022-03-04T16:04:35.786634Z"
        },
        "papermill": {
          "duration": 0.020903,
          "end_time": "2022-03-04T16:04:35.786798",
          "exception": false,
          "start_time": "2022-03-04T16:04:35.765895",
          "status": "completed"
        },
        "tags": [],
        "id": "f04be7d0"
      },
      "outputs": [],
      "source": [
        "params = {'objective': 'binary',\n",
        "          'learning_rate': 0.01,\n",
        "          'force_row_wise': True,\n",
        "          'random_state': 0}"
      ]
    },
    {
      "cell_type": "code",
      "execution_count": null,
      "id": "7625cab5",
      "metadata": {
        "execution": {
          "iopub.execute_input": "2022-03-04T16:04:35.817668Z",
          "iopub.status.busy": "2022-03-04T16:04:35.817082Z",
          "iopub.status.idle": "2022-03-04T16:04:35.822515Z",
          "shell.execute_reply": "2022-03-04T16:04:35.823013Z"
        },
        "papermill": {
          "duration": 0.022533,
          "end_time": "2022-03-04T16:04:35.823182",
          "exception": false,
          "start_time": "2022-03-04T16:04:35.800649",
          "status": "completed"
        },
        "tags": [],
        "id": "7625cab5"
      },
      "outputs": [],
      "source": [
        "# OOF 방식으로 훈련된 모델로 검증 데이터 타깃값을 예측한 확률을 담을 1차원 배열\n",
        "oof_val_preds = np.zeros(X.shape[0]) \n",
        "# OOF 방식으로 훈련된 모델로 테스트 데이터 타깃값을 예측한 확률을 담을 1차원 배열\n",
        "oof_test_preds = np.zeros(X_test.shape[0]) "
      ]
    },
    {
      "cell_type": "code",
      "execution_count": null,
      "id": "4b0da233",
      "metadata": {
        "execution": {
          "iopub.execute_input": "2022-03-04T16:04:35.854215Z",
          "iopub.status.busy": "2022-03-04T16:04:35.853506Z",
          "iopub.status.idle": "2022-03-04T16:09:55.004501Z",
          "shell.execute_reply": "2022-03-04T16:09:55.005047Z"
        },
        "papermill": {
          "duration": 319.168335,
          "end_time": "2022-03-04T16:09:55.005422",
          "exception": false,
          "start_time": "2022-03-04T16:04:35.837087",
          "status": "completed"
        },
        "tags": [],
        "colab": {
          "base_uri": "https://localhost:8080/"
        },
        "id": "4b0da233",
        "outputId": "432ca022-58b7-4e02-82e4-7427901d9b88"
      },
      "outputs": [
        {
          "output_type": "stream",
          "name": "stdout",
          "text": [
            "######################################## 폴드 1 / 폴드 5 ########################################\n",
            "Training until validation scores don't improve for 100 rounds.\n",
            "[100]\tvalid_0's binary_logloss: 0.15336\tvalid_0's gini: 0.261801\n",
            "[200]\tvalid_0's binary_logloss: 0.152428\tvalid_0's gini: 0.275964\n",
            "[300]\tvalid_0's binary_logloss: 0.152018\tvalid_0's gini: 0.282624\n",
            "[400]\tvalid_0's binary_logloss: 0.151798\tvalid_0's gini: 0.286985\n",
            "[500]\tvalid_0's binary_logloss: 0.151716\tvalid_0's gini: 0.288374\n",
            "[600]\tvalid_0's binary_logloss: 0.151677\tvalid_0's gini: 0.288793\n",
            "[700]\tvalid_0's binary_logloss: 0.151671\tvalid_0's gini: 0.288778\n",
            "Early stopping, best iteration is:\n",
            "[646]\tvalid_0's binary_logloss: 0.151673\tvalid_0's gini: 0.288887\n",
            "폴드 1 지니계수 : 0.2888871820172969\n",
            "\n",
            "######################################## 폴드 2 / 폴드 5 ########################################\n",
            "Training until validation scores don't improve for 100 rounds.\n",
            "[100]\tvalid_0's binary_logloss: 0.153506\tvalid_0's gini: 0.249477\n",
            "[200]\tvalid_0's binary_logloss: 0.152709\tvalid_0's gini: 0.260875\n",
            "[300]\tvalid_0's binary_logloss: 0.152395\tvalid_0's gini: 0.267264\n",
            "[400]\tvalid_0's binary_logloss: 0.152231\tvalid_0's gini: 0.271464\n",
            "[500]\tvalid_0's binary_logloss: 0.152158\tvalid_0's gini: 0.273253\n",
            "[600]\tvalid_0's binary_logloss: 0.152128\tvalid_0's gini: 0.274075\n",
            "[700]\tvalid_0's binary_logloss: 0.152119\tvalid_0's gini: 0.274381\n",
            "Early stopping, best iteration is:\n",
            "[678]\tvalid_0's binary_logloss: 0.152116\tvalid_0's gini: 0.274516\n",
            "폴드 2 지니계수 : 0.27451635104937466\n",
            "\n",
            "######################################## 폴드 3 / 폴드 5 ########################################\n",
            "Training until validation scores don't improve for 100 rounds.\n",
            "[100]\tvalid_0's binary_logloss: 0.15326\tvalid_0's gini: 0.261338\n",
            "[200]\tvalid_0's binary_logloss: 0.152329\tvalid_0's gini: 0.271699\n",
            "[300]\tvalid_0's binary_logloss: 0.151974\tvalid_0's gini: 0.276442\n",
            "[400]\tvalid_0's binary_logloss: 0.151813\tvalid_0's gini: 0.278722\n",
            "[500]\tvalid_0's binary_logloss: 0.151758\tvalid_0's gini: 0.279825\n",
            "[600]\tvalid_0's binary_logloss: 0.151753\tvalid_0's gini: 0.279965\n",
            "Early stopping, best iteration is:\n",
            "[548]\tvalid_0's binary_logloss: 0.151747\tvalid_0's gini: 0.280228\n",
            "폴드 3 지니계수 : 0.2802284578966572\n",
            "\n",
            "######################################## 폴드 4 / 폴드 5 ########################################\n",
            "Training until validation scores don't improve for 100 rounds.\n",
            "[100]\tvalid_0's binary_logloss: 0.153399\tvalid_0's gini: 0.250822\n",
            "[200]\tvalid_0's binary_logloss: 0.152546\tvalid_0's gini: 0.263109\n",
            "[300]\tvalid_0's binary_logloss: 0.152255\tvalid_0's gini: 0.266983\n",
            "[400]\tvalid_0's binary_logloss: 0.152111\tvalid_0's gini: 0.270068\n",
            "[500]\tvalid_0's binary_logloss: 0.152075\tvalid_0's gini: 0.270896\n",
            "[600]\tvalid_0's binary_logloss: 0.152074\tvalid_0's gini: 0.270987\n",
            "Early stopping, best iteration is:\n",
            "[579]\tvalid_0's binary_logloss: 0.152067\tvalid_0's gini: 0.271195\n",
            "폴드 4 지니계수 : 0.2711951251992087\n",
            "\n",
            "######################################## 폴드 5 / 폴드 5 ########################################\n",
            "Training until validation scores don't improve for 100 rounds.\n",
            "[100]\tvalid_0's binary_logloss: 0.153481\tvalid_0's gini: 0.26208\n",
            "[200]\tvalid_0's binary_logloss: 0.152621\tvalid_0's gini: 0.273864\n",
            "[300]\tvalid_0's binary_logloss: 0.152266\tvalid_0's gini: 0.279955\n",
            "[400]\tvalid_0's binary_logloss: 0.152049\tvalid_0's gini: 0.285368\n",
            "[500]\tvalid_0's binary_logloss: 0.151974\tvalid_0's gini: 0.287701\n",
            "[600]\tvalid_0's binary_logloss: 0.15195\tvalid_0's gini: 0.288286\n",
            "Early stopping, best iteration is:\n",
            "[594]\tvalid_0's binary_logloss: 0.15195\tvalid_0's gini: 0.288331\n",
            "폴드 5 지니계수 : 0.28833118931840523\n",
            "\n"
          ]
        }
      ],
      "source": [
        "import lightgbm as lgb\n",
        "\n",
        "# OOF 방식으로 모델 훈련, 검증, 예측\n",
        "for idx, (train_idx, valid_idx) in enumerate(folds.split(X, y)):\n",
        "    # 각 폴드를 구분하는 문구 출력\n",
        "    print('#'*40, f'폴드 {idx+1} / 폴드 {folds.n_splits}', '#'*40)\n",
        "    \n",
        "    # 훈련용 데이터, 검증용 데이터 설정 \n",
        "    X_train, y_train = X[train_idx], y[train_idx] # 훈련용 데이터\n",
        "    X_valid, y_valid = X[valid_idx], y[valid_idx] # 검증용 데이터\n",
        "\n",
        "    # LightGBM 전용 데이터셋 생성 \n",
        "    dtrain = lgb.Dataset(X_train, y_train) # LightGBM 전용 훈련 데이터셋\n",
        "    dvalid = lgb.Dataset(X_valid, y_valid) # LightGBM 전용 검증 데이터셋\n",
        "\n",
        "    # LightGBM 모델 훈련 \n",
        "    lgb_model = lgb.train(params=params,        # 훈련용 하이퍼파라미터\n",
        "                          train_set=dtrain,     # 훈련 데이터셋\n",
        "                          num_boost_round=1000, # 부스팅 반복 횟수\n",
        "                          valid_sets=dvalid,    # 성능 평가용 검증 데이터셋\n",
        "                          feval=gini,           # 검증용 평가지표\n",
        "                          early_stopping_rounds=100, # 조기종료 조건\n",
        "                          verbose_eval=100)     # 100번째마다 점수 출력\n",
        "    \n",
        "    # 테스트 데이터를 활용해 OOF 예측\n",
        "    oof_test_preds += lgb_model.predict(X_test)/folds.n_splits\n",
        "    \n",
        "    # 모델 성능 평가를 위한 검증 데이터 타깃값 예측\n",
        "    oof_val_preds[valid_idx] += lgb_model.predict(X_valid)\n",
        "    \n",
        "    # 검증 데이터 예측 확률에 대한 정규화 지니계수 \n",
        "    gini_score = eval_gini(y_valid, oof_val_preds[valid_idx])\n",
        "    print(f'폴드 {idx+1} 지니계수 : {gini_score}\\n')"
      ]
    },
    {
      "cell_type": "code",
      "execution_count": null,
      "id": "32910d6b",
      "metadata": {
        "execution": {
          "iopub.execute_input": "2022-03-04T16:09:55.067089Z",
          "iopub.status.busy": "2022-03-04T16:09:55.066464Z",
          "iopub.status.idle": "2022-03-04T16:09:55.174801Z",
          "shell.execute_reply": "2022-03-04T16:09:55.175266Z"
        },
        "papermill": {
          "duration": 0.14201,
          "end_time": "2022-03-04T16:09:55.175437",
          "exception": false,
          "start_time": "2022-03-04T16:09:55.033427",
          "status": "completed"
        },
        "tags": [],
        "colab": {
          "base_uri": "https://localhost:8080/"
        },
        "id": "32910d6b",
        "outputId": "288ae88f-08eb-459c-c372-0715f7d155ac"
      },
      "outputs": [
        {
          "output_type": "stream",
          "name": "stdout",
          "text": [
            "OOF 검증 데이터 지니계수: 0.2804880266267947\n"
          ]
        }
      ],
      "source": [
        "print('OOF 검증 데이터 지니계수:', eval_gini(y, oof_val_preds))"
      ]
    },
    {
      "cell_type": "markdown",
      "id": "8fec0f01",
      "metadata": {
        "papermill": {
          "duration": 0.027825,
          "end_time": "2022-03-04T16:09:55.230520",
          "exception": false,
          "start_time": "2022-03-04T16:09:55.202695",
          "status": "completed"
        },
        "tags": [],
        "id": "8fec0f01"
      },
      "source": [
        "## 4. 예측 및 결과 제출"
      ]
    },
    {
      "cell_type": "code",
      "execution_count": null,
      "id": "20ee22a9",
      "metadata": {
        "execution": {
          "iopub.execute_input": "2022-03-04T16:09:55.291899Z",
          "iopub.status.busy": "2022-03-04T16:09:55.291301Z",
          "iopub.status.idle": "2022-03-04T16:09:57.634188Z",
          "shell.execute_reply": "2022-03-04T16:09:57.633036Z"
        },
        "papermill": {
          "duration": 2.376696,
          "end_time": "2022-03-04T16:09:57.634352",
          "exception": false,
          "start_time": "2022-03-04T16:09:55.257656",
          "status": "completed"
        },
        "tags": [],
        "id": "20ee22a9"
      },
      "outputs": [],
      "source": [
        "submission['target'] = oof_test_preds\n",
        "submission.to_csv('submission.csv')"
      ]
    }
  ],
  "metadata": {
    "kernelspec": {
      "display_name": "Python 3",
      "language": "python",
      "name": "python3"
    },
    "language_info": {
      "codemirror_mode": {
        "name": "ipython",
        "version": 3
      },
      "file_extension": ".py",
      "mimetype": "text/x-python",
      "name": "python",
      "nbconvert_exporter": "python",
      "pygments_lexer": "ipython3",
      "version": "3.7.10"
    },
    "papermill": {
      "default_parameters": {},
      "duration": 347.825766,
      "end_time": "2022-03-04T16:09:59.020331",
      "environment_variables": {},
      "exception": null,
      "input_path": "__notebook__.ipynb",
      "output_path": "__notebook__.ipynb",
      "parameters": {},
      "start_time": "2022-03-04T16:04:11.194565",
      "version": "2.3.3"
    },
    "colab": {
      "name": "ch8-baseline.ipynb",
      "provenance": [],
      "include_colab_link": true
    },
    "accelerator": "GPU"
  },
  "nbformat": 4,
  "nbformat_minor": 5
}