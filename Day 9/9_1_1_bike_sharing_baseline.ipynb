{
  "cells": [
    {
      "cell_type": "markdown",
      "metadata": {
        "id": "view-in-github",
        "colab_type": "text"
      },
      "source": [
        "<a href=\"https://colab.research.google.com/github/SLCFLAB/Data-Science-Python/blob/main/Day%209/9_1_1_bike_sharing_baseline.ipynb\" target=\"_parent\"><img src=\"https://colab.research.google.com/assets/colab-badge.svg\" alt=\"Open In Colab\"/></a>"
      ]
    },
    {
      "cell_type": "markdown",
      "id": "0e02f352",
      "metadata": {
        "papermill": {
          "duration": 0.013889,
          "end_time": "2022-03-04T07:14:05.722828",
          "exception": false,
          "start_time": "2022-03-04T07:14:05.708939",
          "status": "completed"
        },
        "tags": [],
        "id": "0e02f352"
      },
      "source": [
        "# 자전거 대여 수요 예측 경진대회 베이스라인 모델"
      ]
    },
    {
      "cell_type": "markdown",
      "id": "b73c37a3",
      "metadata": {
        "papermill": {
          "duration": 0.01262,
          "end_time": "2022-03-04T07:14:05.749261",
          "exception": false,
          "start_time": "2022-03-04T07:14:05.736641",
          "status": "completed"
        },
        "tags": [],
        "id": "b73c37a3"
      },
      "source": [
        "- [자전거 대여 수요 예측 경진대회 링크](https://www.kaggle.com/c/bike-sharing-demand)\n",
        "\n",
        "- [베이스라인 모델 코드 참고 링크](https://www.kaggle.com/viveksrinivasan/eda-ensemble-model-top-10-percentile)"
      ]
    },
    {
      "cell_type": "code",
      "execution_count": 1,
      "id": "40a9192a",
      "metadata": {
        "_cell_guid": "057b1690-5b93-9f14-eafe-fad12c00da69",
        "execution": {
          "iopub.execute_input": "2022-03-04T07:14:05.779624Z",
          "iopub.status.busy": "2022-03-04T07:14:05.778523Z",
          "iopub.status.idle": "2022-03-04T07:14:05.856125Z",
          "shell.execute_reply": "2022-03-04T07:14:05.856947Z",
          "shell.execute_reply.started": "2022-03-04T07:13:47.451779Z"
        },
        "papermill": {
          "duration": 0.095203,
          "end_time": "2022-03-04T07:14:05.857360",
          "exception": false,
          "start_time": "2022-03-04T07:14:05.762157",
          "status": "completed"
        },
        "tags": [],
        "id": "40a9192a"
      },
      "outputs": [],
      "source": [
        "import numpy as np\n",
        "import pandas as pd\n",
        "\n",
        "# 데이터 경로\n",
        "data_path = 'https://raw.githubusercontent.com/SLCFLAB/Data-Science-Python/main/Day%209/data/'\n",
        "\n",
        "train = pd.read_csv(data_path + 'bike_train.csv')\n",
        "test = pd.read_csv(data_path + 'bike_test.csv')\n",
        "submission = pd.read_csv(data_path + 'bike_sampleSubmission.csv')"
      ]
    },
    {
      "cell_type": "markdown",
      "id": "457a2e60",
      "metadata": {
        "papermill": {
          "duration": 0.017926,
          "end_time": "2022-03-04T07:14:05.890281",
          "exception": false,
          "start_time": "2022-03-04T07:14:05.872355",
          "status": "completed"
        },
        "tags": [],
        "id": "457a2e60"
      },
      "source": [
        "##1. 피처 엔지니어링"
      ]
    },
    {
      "cell_type": "markdown",
      "id": "79a653d5",
      "metadata": {
        "papermill": {
          "duration": 0.012779,
          "end_time": "2022-03-04T07:14:05.921617",
          "exception": false,
          "start_time": "2022-03-04T07:14:05.908838",
          "status": "completed"
        },
        "tags": [],
        "id": "79a653d5"
      },
      "source": [
        "### 이상치 제거"
      ]
    },
    {
      "cell_type": "code",
      "execution_count": 2,
      "id": "abe8b235",
      "metadata": {
        "execution": {
          "iopub.execute_input": "2022-03-04T07:14:05.960592Z",
          "iopub.status.busy": "2022-03-04T07:14:05.959962Z",
          "iopub.status.idle": "2022-03-04T07:14:05.971126Z",
          "shell.execute_reply": "2022-03-04T07:14:05.971631Z",
          "shell.execute_reply.started": "2022-03-04T07:13:47.554689Z"
        },
        "papermill": {
          "duration": 0.029281,
          "end_time": "2022-03-04T07:14:05.971810",
          "exception": false,
          "start_time": "2022-03-04T07:14:05.942529",
          "status": "completed"
        },
        "tags": [],
        "id": "abe8b235"
      },
      "outputs": [],
      "source": [
        "# 훈련 데이터에서 weather가 4가 아닌 데이터만 추출\n",
        "train = train[train['weather'] != 4]"
      ]
    },
    {
      "cell_type": "markdown",
      "id": "b8d95eb2",
      "metadata": {
        "papermill": {
          "duration": 0.012348,
          "end_time": "2022-03-04T07:14:05.997219",
          "exception": false,
          "start_time": "2022-03-04T07:14:05.984871",
          "status": "completed"
        },
        "tags": [],
        "id": "b8d95eb2"
      },
      "source": [
        "### 데이터 합치기"
      ]
    },
    {
      "cell_type": "code",
      "execution_count": 3,
      "id": "0da58b0c",
      "metadata": {
        "execution": {
          "iopub.execute_input": "2022-03-04T07:14:06.026657Z",
          "iopub.status.busy": "2022-03-04T07:14:06.026050Z",
          "iopub.status.idle": "2022-03-04T07:14:06.057760Z",
          "shell.execute_reply": "2022-03-04T07:14:06.058209Z",
          "shell.execute_reply.started": "2022-03-04T07:13:47.569945Z"
        },
        "papermill": {
          "duration": 0.047227,
          "end_time": "2022-03-04T07:14:06.058388",
          "exception": false,
          "start_time": "2022-03-04T07:14:06.011161",
          "status": "completed"
        },
        "tags": [],
        "colab": {
          "base_uri": "https://localhost:8080/",
          "height": 424
        },
        "id": "0da58b0c",
        "outputId": "bc3f2f39-902b-4a47-8e18-eac15a4b7a6a"
      },
      "outputs": [
        {
          "output_type": "execute_result",
          "data": {
            "text/plain": [
              "                 datetime  season  holiday  workingday  weather   temp  \\\n",
              "0     2011-01-01 00:00:00       1        0           0        1   9.84   \n",
              "1     2011-01-01 01:00:00       1        0           0        1   9.02   \n",
              "2     2011-01-01 02:00:00       1        0           0        1   9.02   \n",
              "3     2011-01-01 03:00:00       1        0           0        1   9.84   \n",
              "4     2011-01-01 04:00:00       1        0           0        1   9.84   \n",
              "...                   ...     ...      ...         ...      ...    ...   \n",
              "6488  2012-12-31 19:00:00       1        0           1        2  10.66   \n",
              "6489  2012-12-31 20:00:00       1        0           1        2  10.66   \n",
              "6490  2012-12-31 21:00:00       1        0           1        1  10.66   \n",
              "6491  2012-12-31 22:00:00       1        0           1        1  10.66   \n",
              "6492  2012-12-31 23:00:00       1        0           1        1  10.66   \n",
              "\n",
              "       atemp  humidity  windspeed  casual  registered  count  \n",
              "0     14.395        81     0.0000     3.0        13.0   16.0  \n",
              "1     13.635        80     0.0000     8.0        32.0   40.0  \n",
              "2     13.635        80     0.0000     5.0        27.0   32.0  \n",
              "3     14.395        75     0.0000     3.0        10.0   13.0  \n",
              "4     14.395        75     0.0000     0.0         1.0    1.0  \n",
              "...      ...       ...        ...     ...         ...    ...  \n",
              "6488  12.880        60    11.0014     NaN         NaN    NaN  \n",
              "6489  12.880        60    11.0014     NaN         NaN    NaN  \n",
              "6490  12.880        60    11.0014     NaN         NaN    NaN  \n",
              "6491  13.635        56     8.9981     NaN         NaN    NaN  \n",
              "6492  13.635        65     8.9981     NaN         NaN    NaN  \n",
              "\n",
              "[17378 rows x 12 columns]"
            ],
            "text/html": [
              "\n",
              "  <div id=\"df-61f410d8-5bc5-4adc-b096-b376a9ed449e\">\n",
              "    <div class=\"colab-df-container\">\n",
              "      <div>\n",
              "<style scoped>\n",
              "    .dataframe tbody tr th:only-of-type {\n",
              "        vertical-align: middle;\n",
              "    }\n",
              "\n",
              "    .dataframe tbody tr th {\n",
              "        vertical-align: top;\n",
              "    }\n",
              "\n",
              "    .dataframe thead th {\n",
              "        text-align: right;\n",
              "    }\n",
              "</style>\n",
              "<table border=\"1\" class=\"dataframe\">\n",
              "  <thead>\n",
              "    <tr style=\"text-align: right;\">\n",
              "      <th></th>\n",
              "      <th>datetime</th>\n",
              "      <th>season</th>\n",
              "      <th>holiday</th>\n",
              "      <th>workingday</th>\n",
              "      <th>weather</th>\n",
              "      <th>temp</th>\n",
              "      <th>atemp</th>\n",
              "      <th>humidity</th>\n",
              "      <th>windspeed</th>\n",
              "      <th>casual</th>\n",
              "      <th>registered</th>\n",
              "      <th>count</th>\n",
              "    </tr>\n",
              "  </thead>\n",
              "  <tbody>\n",
              "    <tr>\n",
              "      <th>0</th>\n",
              "      <td>2011-01-01 00:00:00</td>\n",
              "      <td>1</td>\n",
              "      <td>0</td>\n",
              "      <td>0</td>\n",
              "      <td>1</td>\n",
              "      <td>9.84</td>\n",
              "      <td>14.395</td>\n",
              "      <td>81</td>\n",
              "      <td>0.0000</td>\n",
              "      <td>3.0</td>\n",
              "      <td>13.0</td>\n",
              "      <td>16.0</td>\n",
              "    </tr>\n",
              "    <tr>\n",
              "      <th>1</th>\n",
              "      <td>2011-01-01 01:00:00</td>\n",
              "      <td>1</td>\n",
              "      <td>0</td>\n",
              "      <td>0</td>\n",
              "      <td>1</td>\n",
              "      <td>9.02</td>\n",
              "      <td>13.635</td>\n",
              "      <td>80</td>\n",
              "      <td>0.0000</td>\n",
              "      <td>8.0</td>\n",
              "      <td>32.0</td>\n",
              "      <td>40.0</td>\n",
              "    </tr>\n",
              "    <tr>\n",
              "      <th>2</th>\n",
              "      <td>2011-01-01 02:00:00</td>\n",
              "      <td>1</td>\n",
              "      <td>0</td>\n",
              "      <td>0</td>\n",
              "      <td>1</td>\n",
              "      <td>9.02</td>\n",
              "      <td>13.635</td>\n",
              "      <td>80</td>\n",
              "      <td>0.0000</td>\n",
              "      <td>5.0</td>\n",
              "      <td>27.0</td>\n",
              "      <td>32.0</td>\n",
              "    </tr>\n",
              "    <tr>\n",
              "      <th>3</th>\n",
              "      <td>2011-01-01 03:00:00</td>\n",
              "      <td>1</td>\n",
              "      <td>0</td>\n",
              "      <td>0</td>\n",
              "      <td>1</td>\n",
              "      <td>9.84</td>\n",
              "      <td>14.395</td>\n",
              "      <td>75</td>\n",
              "      <td>0.0000</td>\n",
              "      <td>3.0</td>\n",
              "      <td>10.0</td>\n",
              "      <td>13.0</td>\n",
              "    </tr>\n",
              "    <tr>\n",
              "      <th>4</th>\n",
              "      <td>2011-01-01 04:00:00</td>\n",
              "      <td>1</td>\n",
              "      <td>0</td>\n",
              "      <td>0</td>\n",
              "      <td>1</td>\n",
              "      <td>9.84</td>\n",
              "      <td>14.395</td>\n",
              "      <td>75</td>\n",
              "      <td>0.0000</td>\n",
              "      <td>0.0</td>\n",
              "      <td>1.0</td>\n",
              "      <td>1.0</td>\n",
              "    </tr>\n",
              "    <tr>\n",
              "      <th>...</th>\n",
              "      <td>...</td>\n",
              "      <td>...</td>\n",
              "      <td>...</td>\n",
              "      <td>...</td>\n",
              "      <td>...</td>\n",
              "      <td>...</td>\n",
              "      <td>...</td>\n",
              "      <td>...</td>\n",
              "      <td>...</td>\n",
              "      <td>...</td>\n",
              "      <td>...</td>\n",
              "      <td>...</td>\n",
              "    </tr>\n",
              "    <tr>\n",
              "      <th>6488</th>\n",
              "      <td>2012-12-31 19:00:00</td>\n",
              "      <td>1</td>\n",
              "      <td>0</td>\n",
              "      <td>1</td>\n",
              "      <td>2</td>\n",
              "      <td>10.66</td>\n",
              "      <td>12.880</td>\n",
              "      <td>60</td>\n",
              "      <td>11.0014</td>\n",
              "      <td>NaN</td>\n",
              "      <td>NaN</td>\n",
              "      <td>NaN</td>\n",
              "    </tr>\n",
              "    <tr>\n",
              "      <th>6489</th>\n",
              "      <td>2012-12-31 20:00:00</td>\n",
              "      <td>1</td>\n",
              "      <td>0</td>\n",
              "      <td>1</td>\n",
              "      <td>2</td>\n",
              "      <td>10.66</td>\n",
              "      <td>12.880</td>\n",
              "      <td>60</td>\n",
              "      <td>11.0014</td>\n",
              "      <td>NaN</td>\n",
              "      <td>NaN</td>\n",
              "      <td>NaN</td>\n",
              "    </tr>\n",
              "    <tr>\n",
              "      <th>6490</th>\n",
              "      <td>2012-12-31 21:00:00</td>\n",
              "      <td>1</td>\n",
              "      <td>0</td>\n",
              "      <td>1</td>\n",
              "      <td>1</td>\n",
              "      <td>10.66</td>\n",
              "      <td>12.880</td>\n",
              "      <td>60</td>\n",
              "      <td>11.0014</td>\n",
              "      <td>NaN</td>\n",
              "      <td>NaN</td>\n",
              "      <td>NaN</td>\n",
              "    </tr>\n",
              "    <tr>\n",
              "      <th>6491</th>\n",
              "      <td>2012-12-31 22:00:00</td>\n",
              "      <td>1</td>\n",
              "      <td>0</td>\n",
              "      <td>1</td>\n",
              "      <td>1</td>\n",
              "      <td>10.66</td>\n",
              "      <td>13.635</td>\n",
              "      <td>56</td>\n",
              "      <td>8.9981</td>\n",
              "      <td>NaN</td>\n",
              "      <td>NaN</td>\n",
              "      <td>NaN</td>\n",
              "    </tr>\n",
              "    <tr>\n",
              "      <th>6492</th>\n",
              "      <td>2012-12-31 23:00:00</td>\n",
              "      <td>1</td>\n",
              "      <td>0</td>\n",
              "      <td>1</td>\n",
              "      <td>1</td>\n",
              "      <td>10.66</td>\n",
              "      <td>13.635</td>\n",
              "      <td>65</td>\n",
              "      <td>8.9981</td>\n",
              "      <td>NaN</td>\n",
              "      <td>NaN</td>\n",
              "      <td>NaN</td>\n",
              "    </tr>\n",
              "  </tbody>\n",
              "</table>\n",
              "<p>17378 rows × 12 columns</p>\n",
              "</div>\n",
              "      <button class=\"colab-df-convert\" onclick=\"convertToInteractive('df-61f410d8-5bc5-4adc-b096-b376a9ed449e')\"\n",
              "              title=\"Convert this dataframe to an interactive table.\"\n",
              "              style=\"display:none;\">\n",
              "        \n",
              "  <svg xmlns=\"http://www.w3.org/2000/svg\" height=\"24px\"viewBox=\"0 0 24 24\"\n",
              "       width=\"24px\">\n",
              "    <path d=\"M0 0h24v24H0V0z\" fill=\"none\"/>\n",
              "    <path d=\"M18.56 5.44l.94 2.06.94-2.06 2.06-.94-2.06-.94-.94-2.06-.94 2.06-2.06.94zm-11 1L8.5 8.5l.94-2.06 2.06-.94-2.06-.94L8.5 2.5l-.94 2.06-2.06.94zm10 10l.94 2.06.94-2.06 2.06-.94-2.06-.94-.94-2.06-.94 2.06-2.06.94z\"/><path d=\"M17.41 7.96l-1.37-1.37c-.4-.4-.92-.59-1.43-.59-.52 0-1.04.2-1.43.59L10.3 9.45l-7.72 7.72c-.78.78-.78 2.05 0 2.83L4 21.41c.39.39.9.59 1.41.59.51 0 1.02-.2 1.41-.59l7.78-7.78 2.81-2.81c.8-.78.8-2.07 0-2.86zM5.41 20L4 18.59l7.72-7.72 1.47 1.35L5.41 20z\"/>\n",
              "  </svg>\n",
              "      </button>\n",
              "      \n",
              "  <style>\n",
              "    .colab-df-container {\n",
              "      display:flex;\n",
              "      flex-wrap:wrap;\n",
              "      gap: 12px;\n",
              "    }\n",
              "\n",
              "    .colab-df-convert {\n",
              "      background-color: #E8F0FE;\n",
              "      border: none;\n",
              "      border-radius: 50%;\n",
              "      cursor: pointer;\n",
              "      display: none;\n",
              "      fill: #1967D2;\n",
              "      height: 32px;\n",
              "      padding: 0 0 0 0;\n",
              "      width: 32px;\n",
              "    }\n",
              "\n",
              "    .colab-df-convert:hover {\n",
              "      background-color: #E2EBFA;\n",
              "      box-shadow: 0px 1px 2px rgba(60, 64, 67, 0.3), 0px 1px 3px 1px rgba(60, 64, 67, 0.15);\n",
              "      fill: #174EA6;\n",
              "    }\n",
              "\n",
              "    [theme=dark] .colab-df-convert {\n",
              "      background-color: #3B4455;\n",
              "      fill: #D2E3FC;\n",
              "    }\n",
              "\n",
              "    [theme=dark] .colab-df-convert:hover {\n",
              "      background-color: #434B5C;\n",
              "      box-shadow: 0px 1px 3px 1px rgba(0, 0, 0, 0.15);\n",
              "      filter: drop-shadow(0px 1px 2px rgba(0, 0, 0, 0.3));\n",
              "      fill: #FFFFFF;\n",
              "    }\n",
              "  </style>\n",
              "\n",
              "      <script>\n",
              "        const buttonEl =\n",
              "          document.querySelector('#df-61f410d8-5bc5-4adc-b096-b376a9ed449e button.colab-df-convert');\n",
              "        buttonEl.style.display =\n",
              "          google.colab.kernel.accessAllowed ? 'block' : 'none';\n",
              "\n",
              "        async function convertToInteractive(key) {\n",
              "          const element = document.querySelector('#df-61f410d8-5bc5-4adc-b096-b376a9ed449e');\n",
              "          const dataTable =\n",
              "            await google.colab.kernel.invokeFunction('convertToInteractive',\n",
              "                                                     [key], {});\n",
              "          if (!dataTable) return;\n",
              "\n",
              "          const docLinkHtml = 'Like what you see? Visit the ' +\n",
              "            '<a target=\"_blank\" href=https://colab.research.google.com/notebooks/data_table.ipynb>data table notebook</a>'\n",
              "            + ' to learn more about interactive tables.';\n",
              "          element.innerHTML = '';\n",
              "          dataTable['output_type'] = 'display_data';\n",
              "          await google.colab.output.renderOutput(dataTable, element);\n",
              "          const docLink = document.createElement('div');\n",
              "          docLink.innerHTML = docLinkHtml;\n",
              "          element.appendChild(docLink);\n",
              "        }\n",
              "      </script>\n",
              "    </div>\n",
              "  </div>\n",
              "  "
            ]
          },
          "metadata": {},
          "execution_count": 3
        }
      ],
      "source": [
        "all_data_temp = pd.concat([train, test])\n",
        "all_data_temp"
      ]
    },
    {
      "cell_type": "code",
      "execution_count": 4,
      "id": "db1bf5a9",
      "metadata": {
        "execution": {
          "iopub.execute_input": "2022-03-04T07:14:06.089082Z",
          "iopub.status.busy": "2022-03-04T07:14:06.088449Z",
          "iopub.status.idle": "2022-03-04T07:14:06.109942Z",
          "shell.execute_reply": "2022-03-04T07:14:06.110468Z",
          "shell.execute_reply.started": "2022-03-04T07:13:47.614214Z"
        },
        "papermill": {
          "duration": 0.037888,
          "end_time": "2022-03-04T07:14:06.110635",
          "exception": false,
          "start_time": "2022-03-04T07:14:06.072747",
          "status": "completed"
        },
        "tags": [],
        "colab": {
          "base_uri": "https://localhost:8080/",
          "height": 424
        },
        "id": "db1bf5a9",
        "outputId": "e1ffbf6e-a675-41c6-c272-41028682fddb"
      },
      "outputs": [
        {
          "output_type": "execute_result",
          "data": {
            "text/plain": [
              "                  datetime  season  holiday  workingday  weather   temp  \\\n",
              "0      2011-01-01 00:00:00       1        0           0        1   9.84   \n",
              "1      2011-01-01 01:00:00       1        0           0        1   9.02   \n",
              "2      2011-01-01 02:00:00       1        0           0        1   9.02   \n",
              "3      2011-01-01 03:00:00       1        0           0        1   9.84   \n",
              "4      2011-01-01 04:00:00       1        0           0        1   9.84   \n",
              "...                    ...     ...      ...         ...      ...    ...   \n",
              "17373  2012-12-31 19:00:00       1        0           1        2  10.66   \n",
              "17374  2012-12-31 20:00:00       1        0           1        2  10.66   \n",
              "17375  2012-12-31 21:00:00       1        0           1        1  10.66   \n",
              "17376  2012-12-31 22:00:00       1        0           1        1  10.66   \n",
              "17377  2012-12-31 23:00:00       1        0           1        1  10.66   \n",
              "\n",
              "        atemp  humidity  windspeed  casual  registered  count  \n",
              "0      14.395        81     0.0000     3.0        13.0   16.0  \n",
              "1      13.635        80     0.0000     8.0        32.0   40.0  \n",
              "2      13.635        80     0.0000     5.0        27.0   32.0  \n",
              "3      14.395        75     0.0000     3.0        10.0   13.0  \n",
              "4      14.395        75     0.0000     0.0         1.0    1.0  \n",
              "...       ...       ...        ...     ...         ...    ...  \n",
              "17373  12.880        60    11.0014     NaN         NaN    NaN  \n",
              "17374  12.880        60    11.0014     NaN         NaN    NaN  \n",
              "17375  12.880        60    11.0014     NaN         NaN    NaN  \n",
              "17376  13.635        56     8.9981     NaN         NaN    NaN  \n",
              "17377  13.635        65     8.9981     NaN         NaN    NaN  \n",
              "\n",
              "[17378 rows x 12 columns]"
            ],
            "text/html": [
              "\n",
              "  <div id=\"df-7cceea71-4ad6-4090-9886-e07d8b8edd1e\">\n",
              "    <div class=\"colab-df-container\">\n",
              "      <div>\n",
              "<style scoped>\n",
              "    .dataframe tbody tr th:only-of-type {\n",
              "        vertical-align: middle;\n",
              "    }\n",
              "\n",
              "    .dataframe tbody tr th {\n",
              "        vertical-align: top;\n",
              "    }\n",
              "\n",
              "    .dataframe thead th {\n",
              "        text-align: right;\n",
              "    }\n",
              "</style>\n",
              "<table border=\"1\" class=\"dataframe\">\n",
              "  <thead>\n",
              "    <tr style=\"text-align: right;\">\n",
              "      <th></th>\n",
              "      <th>datetime</th>\n",
              "      <th>season</th>\n",
              "      <th>holiday</th>\n",
              "      <th>workingday</th>\n",
              "      <th>weather</th>\n",
              "      <th>temp</th>\n",
              "      <th>atemp</th>\n",
              "      <th>humidity</th>\n",
              "      <th>windspeed</th>\n",
              "      <th>casual</th>\n",
              "      <th>registered</th>\n",
              "      <th>count</th>\n",
              "    </tr>\n",
              "  </thead>\n",
              "  <tbody>\n",
              "    <tr>\n",
              "      <th>0</th>\n",
              "      <td>2011-01-01 00:00:00</td>\n",
              "      <td>1</td>\n",
              "      <td>0</td>\n",
              "      <td>0</td>\n",
              "      <td>1</td>\n",
              "      <td>9.84</td>\n",
              "      <td>14.395</td>\n",
              "      <td>81</td>\n",
              "      <td>0.0000</td>\n",
              "      <td>3.0</td>\n",
              "      <td>13.0</td>\n",
              "      <td>16.0</td>\n",
              "    </tr>\n",
              "    <tr>\n",
              "      <th>1</th>\n",
              "      <td>2011-01-01 01:00:00</td>\n",
              "      <td>1</td>\n",
              "      <td>0</td>\n",
              "      <td>0</td>\n",
              "      <td>1</td>\n",
              "      <td>9.02</td>\n",
              "      <td>13.635</td>\n",
              "      <td>80</td>\n",
              "      <td>0.0000</td>\n",
              "      <td>8.0</td>\n",
              "      <td>32.0</td>\n",
              "      <td>40.0</td>\n",
              "    </tr>\n",
              "    <tr>\n",
              "      <th>2</th>\n",
              "      <td>2011-01-01 02:00:00</td>\n",
              "      <td>1</td>\n",
              "      <td>0</td>\n",
              "      <td>0</td>\n",
              "      <td>1</td>\n",
              "      <td>9.02</td>\n",
              "      <td>13.635</td>\n",
              "      <td>80</td>\n",
              "      <td>0.0000</td>\n",
              "      <td>5.0</td>\n",
              "      <td>27.0</td>\n",
              "      <td>32.0</td>\n",
              "    </tr>\n",
              "    <tr>\n",
              "      <th>3</th>\n",
              "      <td>2011-01-01 03:00:00</td>\n",
              "      <td>1</td>\n",
              "      <td>0</td>\n",
              "      <td>0</td>\n",
              "      <td>1</td>\n",
              "      <td>9.84</td>\n",
              "      <td>14.395</td>\n",
              "      <td>75</td>\n",
              "      <td>0.0000</td>\n",
              "      <td>3.0</td>\n",
              "      <td>10.0</td>\n",
              "      <td>13.0</td>\n",
              "    </tr>\n",
              "    <tr>\n",
              "      <th>4</th>\n",
              "      <td>2011-01-01 04:00:00</td>\n",
              "      <td>1</td>\n",
              "      <td>0</td>\n",
              "      <td>0</td>\n",
              "      <td>1</td>\n",
              "      <td>9.84</td>\n",
              "      <td>14.395</td>\n",
              "      <td>75</td>\n",
              "      <td>0.0000</td>\n",
              "      <td>0.0</td>\n",
              "      <td>1.0</td>\n",
              "      <td>1.0</td>\n",
              "    </tr>\n",
              "    <tr>\n",
              "      <th>...</th>\n",
              "      <td>...</td>\n",
              "      <td>...</td>\n",
              "      <td>...</td>\n",
              "      <td>...</td>\n",
              "      <td>...</td>\n",
              "      <td>...</td>\n",
              "      <td>...</td>\n",
              "      <td>...</td>\n",
              "      <td>...</td>\n",
              "      <td>...</td>\n",
              "      <td>...</td>\n",
              "      <td>...</td>\n",
              "    </tr>\n",
              "    <tr>\n",
              "      <th>17373</th>\n",
              "      <td>2012-12-31 19:00:00</td>\n",
              "      <td>1</td>\n",
              "      <td>0</td>\n",
              "      <td>1</td>\n",
              "      <td>2</td>\n",
              "      <td>10.66</td>\n",
              "      <td>12.880</td>\n",
              "      <td>60</td>\n",
              "      <td>11.0014</td>\n",
              "      <td>NaN</td>\n",
              "      <td>NaN</td>\n",
              "      <td>NaN</td>\n",
              "    </tr>\n",
              "    <tr>\n",
              "      <th>17374</th>\n",
              "      <td>2012-12-31 20:00:00</td>\n",
              "      <td>1</td>\n",
              "      <td>0</td>\n",
              "      <td>1</td>\n",
              "      <td>2</td>\n",
              "      <td>10.66</td>\n",
              "      <td>12.880</td>\n",
              "      <td>60</td>\n",
              "      <td>11.0014</td>\n",
              "      <td>NaN</td>\n",
              "      <td>NaN</td>\n",
              "      <td>NaN</td>\n",
              "    </tr>\n",
              "    <tr>\n",
              "      <th>17375</th>\n",
              "      <td>2012-12-31 21:00:00</td>\n",
              "      <td>1</td>\n",
              "      <td>0</td>\n",
              "      <td>1</td>\n",
              "      <td>1</td>\n",
              "      <td>10.66</td>\n",
              "      <td>12.880</td>\n",
              "      <td>60</td>\n",
              "      <td>11.0014</td>\n",
              "      <td>NaN</td>\n",
              "      <td>NaN</td>\n",
              "      <td>NaN</td>\n",
              "    </tr>\n",
              "    <tr>\n",
              "      <th>17376</th>\n",
              "      <td>2012-12-31 22:00:00</td>\n",
              "      <td>1</td>\n",
              "      <td>0</td>\n",
              "      <td>1</td>\n",
              "      <td>1</td>\n",
              "      <td>10.66</td>\n",
              "      <td>13.635</td>\n",
              "      <td>56</td>\n",
              "      <td>8.9981</td>\n",
              "      <td>NaN</td>\n",
              "      <td>NaN</td>\n",
              "      <td>NaN</td>\n",
              "    </tr>\n",
              "    <tr>\n",
              "      <th>17377</th>\n",
              "      <td>2012-12-31 23:00:00</td>\n",
              "      <td>1</td>\n",
              "      <td>0</td>\n",
              "      <td>1</td>\n",
              "      <td>1</td>\n",
              "      <td>10.66</td>\n",
              "      <td>13.635</td>\n",
              "      <td>65</td>\n",
              "      <td>8.9981</td>\n",
              "      <td>NaN</td>\n",
              "      <td>NaN</td>\n",
              "      <td>NaN</td>\n",
              "    </tr>\n",
              "  </tbody>\n",
              "</table>\n",
              "<p>17378 rows × 12 columns</p>\n",
              "</div>\n",
              "      <button class=\"colab-df-convert\" onclick=\"convertToInteractive('df-7cceea71-4ad6-4090-9886-e07d8b8edd1e')\"\n",
              "              title=\"Convert this dataframe to an interactive table.\"\n",
              "              style=\"display:none;\">\n",
              "        \n",
              "  <svg xmlns=\"http://www.w3.org/2000/svg\" height=\"24px\"viewBox=\"0 0 24 24\"\n",
              "       width=\"24px\">\n",
              "    <path d=\"M0 0h24v24H0V0z\" fill=\"none\"/>\n",
              "    <path d=\"M18.56 5.44l.94 2.06.94-2.06 2.06-.94-2.06-.94-.94-2.06-.94 2.06-2.06.94zm-11 1L8.5 8.5l.94-2.06 2.06-.94-2.06-.94L8.5 2.5l-.94 2.06-2.06.94zm10 10l.94 2.06.94-2.06 2.06-.94-2.06-.94-.94-2.06-.94 2.06-2.06.94z\"/><path d=\"M17.41 7.96l-1.37-1.37c-.4-.4-.92-.59-1.43-.59-.52 0-1.04.2-1.43.59L10.3 9.45l-7.72 7.72c-.78.78-.78 2.05 0 2.83L4 21.41c.39.39.9.59 1.41.59.51 0 1.02-.2 1.41-.59l7.78-7.78 2.81-2.81c.8-.78.8-2.07 0-2.86zM5.41 20L4 18.59l7.72-7.72 1.47 1.35L5.41 20z\"/>\n",
              "  </svg>\n",
              "      </button>\n",
              "      \n",
              "  <style>\n",
              "    .colab-df-container {\n",
              "      display:flex;\n",
              "      flex-wrap:wrap;\n",
              "      gap: 12px;\n",
              "    }\n",
              "\n",
              "    .colab-df-convert {\n",
              "      background-color: #E8F0FE;\n",
              "      border: none;\n",
              "      border-radius: 50%;\n",
              "      cursor: pointer;\n",
              "      display: none;\n",
              "      fill: #1967D2;\n",
              "      height: 32px;\n",
              "      padding: 0 0 0 0;\n",
              "      width: 32px;\n",
              "    }\n",
              "\n",
              "    .colab-df-convert:hover {\n",
              "      background-color: #E2EBFA;\n",
              "      box-shadow: 0px 1px 2px rgba(60, 64, 67, 0.3), 0px 1px 3px 1px rgba(60, 64, 67, 0.15);\n",
              "      fill: #174EA6;\n",
              "    }\n",
              "\n",
              "    [theme=dark] .colab-df-convert {\n",
              "      background-color: #3B4455;\n",
              "      fill: #D2E3FC;\n",
              "    }\n",
              "\n",
              "    [theme=dark] .colab-df-convert:hover {\n",
              "      background-color: #434B5C;\n",
              "      box-shadow: 0px 1px 3px 1px rgba(0, 0, 0, 0.15);\n",
              "      filter: drop-shadow(0px 1px 2px rgba(0, 0, 0, 0.3));\n",
              "      fill: #FFFFFF;\n",
              "    }\n",
              "  </style>\n",
              "\n",
              "      <script>\n",
              "        const buttonEl =\n",
              "          document.querySelector('#df-7cceea71-4ad6-4090-9886-e07d8b8edd1e button.colab-df-convert');\n",
              "        buttonEl.style.display =\n",
              "          google.colab.kernel.accessAllowed ? 'block' : 'none';\n",
              "\n",
              "        async function convertToInteractive(key) {\n",
              "          const element = document.querySelector('#df-7cceea71-4ad6-4090-9886-e07d8b8edd1e');\n",
              "          const dataTable =\n",
              "            await google.colab.kernel.invokeFunction('convertToInteractive',\n",
              "                                                     [key], {});\n",
              "          if (!dataTable) return;\n",
              "\n",
              "          const docLinkHtml = 'Like what you see? Visit the ' +\n",
              "            '<a target=\"_blank\" href=https://colab.research.google.com/notebooks/data_table.ipynb>data table notebook</a>'\n",
              "            + ' to learn more about interactive tables.';\n",
              "          element.innerHTML = '';\n",
              "          dataTable['output_type'] = 'display_data';\n",
              "          await google.colab.output.renderOutput(dataTable, element);\n",
              "          const docLink = document.createElement('div');\n",
              "          docLink.innerHTML = docLinkHtml;\n",
              "          element.appendChild(docLink);\n",
              "        }\n",
              "      </script>\n",
              "    </div>\n",
              "  </div>\n",
              "  "
            ]
          },
          "metadata": {},
          "execution_count": 4
        }
      ],
      "source": [
        "all_data = pd.concat([train, test], ignore_index=True)\n",
        "all_data"
      ]
    },
    {
      "cell_type": "markdown",
      "id": "0ca4baf1",
      "metadata": {
        "papermill": {
          "duration": 0.013764,
          "end_time": "2022-03-04T07:14:06.138272",
          "exception": false,
          "start_time": "2022-03-04T07:14:06.124508",
          "status": "completed"
        },
        "tags": [],
        "id": "0ca4baf1"
      },
      "source": [
        "### 파생 변수(피처) 추가"
      ]
    },
    {
      "cell_type": "code",
      "execution_count": 5,
      "id": "52035406",
      "metadata": {
        "_cell_guid": "18f7c3fc-ffdf-4bc6-1d4c-c455fb4e0141",
        "execution": {
          "iopub.execute_input": "2022-03-04T07:14:06.169054Z",
          "iopub.status.busy": "2022-03-04T07:14:06.168460Z",
          "iopub.status.idle": "2022-03-04T07:14:06.382463Z",
          "shell.execute_reply": "2022-03-04T07:14:06.381932Z",
          "shell.execute_reply.started": "2022-03-04T07:13:47.649062Z"
        },
        "papermill": {
          "duration": 0.230439,
          "end_time": "2022-03-04T07:14:06.382626",
          "exception": false,
          "start_time": "2022-03-04T07:14:06.152187",
          "status": "completed"
        },
        "tags": [],
        "id": "52035406"
      },
      "outputs": [],
      "source": [
        "from datetime import datetime\n",
        "\n",
        "# 날짜 피처 생성\n",
        "all_data['date'] = all_data['datetime'].apply(lambda x: x.split()[0])\n",
        "# 연도 피처 생성\n",
        "all_data['year'] = all_data['datetime'].apply(lambda x: x.split()[0].split('-')[0])\n",
        "# 월 피처 생성\n",
        "all_data['month'] = all_data['datetime'].apply(lambda x: x.split()[0].split('-')[1])\n",
        "# 시 피처 생성\n",
        "all_data['hour'] = all_data['datetime'].apply(lambda x: x.split()[1].split(':')[0])\n",
        "# 요일 피처 생성\n",
        "all_data[\"weekday\"] = all_data['date'].apply(lambda dateString : datetime.strptime(dateString,\"%Y-%m-%d\").weekday())"
      ]
    },
    {
      "cell_type": "markdown",
      "id": "99ae76ac",
      "metadata": {
        "papermill": {
          "duration": 0.013724,
          "end_time": "2022-03-04T07:14:06.410297",
          "exception": false,
          "start_time": "2022-03-04T07:14:06.396573",
          "status": "completed"
        },
        "tags": [],
        "id": "99ae76ac"
      },
      "source": [
        "### 필요 없는 피처 제거"
      ]
    },
    {
      "cell_type": "code",
      "execution_count": 6,
      "id": "33b6319f",
      "metadata": {
        "execution": {
          "iopub.execute_input": "2022-03-04T07:14:06.444634Z",
          "iopub.status.busy": "2022-03-04T07:14:06.443546Z",
          "iopub.status.idle": "2022-03-04T07:14:06.454163Z",
          "shell.execute_reply": "2022-03-04T07:14:06.453595Z",
          "shell.execute_reply.started": "2022-03-04T07:13:47.959230Z"
        },
        "papermill": {
          "duration": 0.029914,
          "end_time": "2022-03-04T07:14:06.454297",
          "exception": false,
          "start_time": "2022-03-04T07:14:06.424383",
          "status": "completed"
        },
        "tags": [],
        "id": "33b6319f"
      },
      "outputs": [],
      "source": [
        "drop_features = ['casual', 'registered', 'datetime', 'date', 'windspeed', 'month']\n",
        "\n",
        "all_data = all_data.drop(drop_features, axis=1)"
      ]
    },
    {
      "cell_type": "markdown",
      "id": "054cb6bd",
      "metadata": {
        "papermill": {
          "duration": 0.013659,
          "end_time": "2022-03-04T07:14:06.481904",
          "exception": false,
          "start_time": "2022-03-04T07:14:06.468245",
          "status": "completed"
        },
        "tags": [],
        "id": "054cb6bd"
      },
      "source": [
        "### 데이터 나누기"
      ]
    },
    {
      "cell_type": "code",
      "execution_count": 7,
      "id": "c864bbd8",
      "metadata": {
        "execution": {
          "iopub.execute_input": "2022-03-04T07:14:06.513934Z",
          "iopub.status.busy": "2022-03-04T07:14:06.512968Z",
          "iopub.status.idle": "2022-03-04T07:14:06.523171Z",
          "shell.execute_reply": "2022-03-04T07:14:06.523627Z",
          "shell.execute_reply.started": "2022-03-04T07:13:47.976049Z"
        },
        "papermill": {
          "duration": 0.027974,
          "end_time": "2022-03-04T07:14:06.523811",
          "exception": false,
          "start_time": "2022-03-04T07:14:06.495837",
          "status": "completed"
        },
        "tags": [],
        "id": "c864bbd8"
      },
      "outputs": [],
      "source": [
        "# 훈련 데이터와 테스트 데이터 나누기\n",
        "X_train = all_data[~pd.isnull(all_data['count'])]\n",
        "X_test = all_data[pd.isnull(all_data['count'])]\n",
        "\n",
        "# 타깃값 count 제거\n",
        "X_train = X_train.drop(['count'], axis=1)\n",
        "X_test = X_test.drop(['count'], axis=1)\n",
        "\n",
        "y = train['count'] # 타깃값"
      ]
    },
    {
      "cell_type": "code",
      "execution_count": 8,
      "id": "f8f1afbf",
      "metadata": {
        "execution": {
          "iopub.execute_input": "2022-03-04T07:14:06.555449Z",
          "iopub.status.busy": "2022-03-04T07:14:06.554526Z",
          "iopub.status.idle": "2022-03-04T07:14:06.567114Z",
          "shell.execute_reply": "2022-03-04T07:14:06.567530Z",
          "shell.execute_reply.started": "2022-03-04T07:13:47.994169Z"
        },
        "papermill": {
          "duration": 0.030091,
          "end_time": "2022-03-04T07:14:06.567698",
          "exception": false,
          "start_time": "2022-03-04T07:14:06.537607",
          "status": "completed"
        },
        "tags": [],
        "colab": {
          "base_uri": "https://localhost:8080/",
          "height": 206
        },
        "id": "f8f1afbf",
        "outputId": "a60a2994-4cb0-4768-861f-867593c471d3"
      },
      "outputs": [
        {
          "output_type": "execute_result",
          "data": {
            "text/plain": [
              "   season  holiday  workingday  weather  temp   atemp  humidity  year hour  \\\n",
              "0       1        0           0        1  9.84  14.395        81  2011   00   \n",
              "1       1        0           0        1  9.02  13.635        80  2011   01   \n",
              "2       1        0           0        1  9.02  13.635        80  2011   02   \n",
              "3       1        0           0        1  9.84  14.395        75  2011   03   \n",
              "4       1        0           0        1  9.84  14.395        75  2011   04   \n",
              "\n",
              "   weekday  \n",
              "0        5  \n",
              "1        5  \n",
              "2        5  \n",
              "3        5  \n",
              "4        5  "
            ],
            "text/html": [
              "\n",
              "  <div id=\"df-b914c598-9349-4b6b-b9fa-31b927440481\">\n",
              "    <div class=\"colab-df-container\">\n",
              "      <div>\n",
              "<style scoped>\n",
              "    .dataframe tbody tr th:only-of-type {\n",
              "        vertical-align: middle;\n",
              "    }\n",
              "\n",
              "    .dataframe tbody tr th {\n",
              "        vertical-align: top;\n",
              "    }\n",
              "\n",
              "    .dataframe thead th {\n",
              "        text-align: right;\n",
              "    }\n",
              "</style>\n",
              "<table border=\"1\" class=\"dataframe\">\n",
              "  <thead>\n",
              "    <tr style=\"text-align: right;\">\n",
              "      <th></th>\n",
              "      <th>season</th>\n",
              "      <th>holiday</th>\n",
              "      <th>workingday</th>\n",
              "      <th>weather</th>\n",
              "      <th>temp</th>\n",
              "      <th>atemp</th>\n",
              "      <th>humidity</th>\n",
              "      <th>year</th>\n",
              "      <th>hour</th>\n",
              "      <th>weekday</th>\n",
              "    </tr>\n",
              "  </thead>\n",
              "  <tbody>\n",
              "    <tr>\n",
              "      <th>0</th>\n",
              "      <td>1</td>\n",
              "      <td>0</td>\n",
              "      <td>0</td>\n",
              "      <td>1</td>\n",
              "      <td>9.84</td>\n",
              "      <td>14.395</td>\n",
              "      <td>81</td>\n",
              "      <td>2011</td>\n",
              "      <td>00</td>\n",
              "      <td>5</td>\n",
              "    </tr>\n",
              "    <tr>\n",
              "      <th>1</th>\n",
              "      <td>1</td>\n",
              "      <td>0</td>\n",
              "      <td>0</td>\n",
              "      <td>1</td>\n",
              "      <td>9.02</td>\n",
              "      <td>13.635</td>\n",
              "      <td>80</td>\n",
              "      <td>2011</td>\n",
              "      <td>01</td>\n",
              "      <td>5</td>\n",
              "    </tr>\n",
              "    <tr>\n",
              "      <th>2</th>\n",
              "      <td>1</td>\n",
              "      <td>0</td>\n",
              "      <td>0</td>\n",
              "      <td>1</td>\n",
              "      <td>9.02</td>\n",
              "      <td>13.635</td>\n",
              "      <td>80</td>\n",
              "      <td>2011</td>\n",
              "      <td>02</td>\n",
              "      <td>5</td>\n",
              "    </tr>\n",
              "    <tr>\n",
              "      <th>3</th>\n",
              "      <td>1</td>\n",
              "      <td>0</td>\n",
              "      <td>0</td>\n",
              "      <td>1</td>\n",
              "      <td>9.84</td>\n",
              "      <td>14.395</td>\n",
              "      <td>75</td>\n",
              "      <td>2011</td>\n",
              "      <td>03</td>\n",
              "      <td>5</td>\n",
              "    </tr>\n",
              "    <tr>\n",
              "      <th>4</th>\n",
              "      <td>1</td>\n",
              "      <td>0</td>\n",
              "      <td>0</td>\n",
              "      <td>1</td>\n",
              "      <td>9.84</td>\n",
              "      <td>14.395</td>\n",
              "      <td>75</td>\n",
              "      <td>2011</td>\n",
              "      <td>04</td>\n",
              "      <td>5</td>\n",
              "    </tr>\n",
              "  </tbody>\n",
              "</table>\n",
              "</div>\n",
              "      <button class=\"colab-df-convert\" onclick=\"convertToInteractive('df-b914c598-9349-4b6b-b9fa-31b927440481')\"\n",
              "              title=\"Convert this dataframe to an interactive table.\"\n",
              "              style=\"display:none;\">\n",
              "        \n",
              "  <svg xmlns=\"http://www.w3.org/2000/svg\" height=\"24px\"viewBox=\"0 0 24 24\"\n",
              "       width=\"24px\">\n",
              "    <path d=\"M0 0h24v24H0V0z\" fill=\"none\"/>\n",
              "    <path d=\"M18.56 5.44l.94 2.06.94-2.06 2.06-.94-2.06-.94-.94-2.06-.94 2.06-2.06.94zm-11 1L8.5 8.5l.94-2.06 2.06-.94-2.06-.94L8.5 2.5l-.94 2.06-2.06.94zm10 10l.94 2.06.94-2.06 2.06-.94-2.06-.94-.94-2.06-.94 2.06-2.06.94z\"/><path d=\"M17.41 7.96l-1.37-1.37c-.4-.4-.92-.59-1.43-.59-.52 0-1.04.2-1.43.59L10.3 9.45l-7.72 7.72c-.78.78-.78 2.05 0 2.83L4 21.41c.39.39.9.59 1.41.59.51 0 1.02-.2 1.41-.59l7.78-7.78 2.81-2.81c.8-.78.8-2.07 0-2.86zM5.41 20L4 18.59l7.72-7.72 1.47 1.35L5.41 20z\"/>\n",
              "  </svg>\n",
              "      </button>\n",
              "      \n",
              "  <style>\n",
              "    .colab-df-container {\n",
              "      display:flex;\n",
              "      flex-wrap:wrap;\n",
              "      gap: 12px;\n",
              "    }\n",
              "\n",
              "    .colab-df-convert {\n",
              "      background-color: #E8F0FE;\n",
              "      border: none;\n",
              "      border-radius: 50%;\n",
              "      cursor: pointer;\n",
              "      display: none;\n",
              "      fill: #1967D2;\n",
              "      height: 32px;\n",
              "      padding: 0 0 0 0;\n",
              "      width: 32px;\n",
              "    }\n",
              "\n",
              "    .colab-df-convert:hover {\n",
              "      background-color: #E2EBFA;\n",
              "      box-shadow: 0px 1px 2px rgba(60, 64, 67, 0.3), 0px 1px 3px 1px rgba(60, 64, 67, 0.15);\n",
              "      fill: #174EA6;\n",
              "    }\n",
              "\n",
              "    [theme=dark] .colab-df-convert {\n",
              "      background-color: #3B4455;\n",
              "      fill: #D2E3FC;\n",
              "    }\n",
              "\n",
              "    [theme=dark] .colab-df-convert:hover {\n",
              "      background-color: #434B5C;\n",
              "      box-shadow: 0px 1px 3px 1px rgba(0, 0, 0, 0.15);\n",
              "      filter: drop-shadow(0px 1px 2px rgba(0, 0, 0, 0.3));\n",
              "      fill: #FFFFFF;\n",
              "    }\n",
              "  </style>\n",
              "\n",
              "      <script>\n",
              "        const buttonEl =\n",
              "          document.querySelector('#df-b914c598-9349-4b6b-b9fa-31b927440481 button.colab-df-convert');\n",
              "        buttonEl.style.display =\n",
              "          google.colab.kernel.accessAllowed ? 'block' : 'none';\n",
              "\n",
              "        async function convertToInteractive(key) {\n",
              "          const element = document.querySelector('#df-b914c598-9349-4b6b-b9fa-31b927440481');\n",
              "          const dataTable =\n",
              "            await google.colab.kernel.invokeFunction('convertToInteractive',\n",
              "                                                     [key], {});\n",
              "          if (!dataTable) return;\n",
              "\n",
              "          const docLinkHtml = 'Like what you see? Visit the ' +\n",
              "            '<a target=\"_blank\" href=https://colab.research.google.com/notebooks/data_table.ipynb>data table notebook</a>'\n",
              "            + ' to learn more about interactive tables.';\n",
              "          element.innerHTML = '';\n",
              "          dataTable['output_type'] = 'display_data';\n",
              "          await google.colab.output.renderOutput(dataTable, element);\n",
              "          const docLink = document.createElement('div');\n",
              "          docLink.innerHTML = docLinkHtml;\n",
              "          element.appendChild(docLink);\n",
              "        }\n",
              "      </script>\n",
              "    </div>\n",
              "  </div>\n",
              "  "
            ]
          },
          "metadata": {},
          "execution_count": 8
        }
      ],
      "source": [
        "X_train.head()"
      ]
    },
    {
      "cell_type": "markdown",
      "id": "382398e9",
      "metadata": {
        "papermill": {
          "duration": 0.014163,
          "end_time": "2022-03-04T07:14:06.596183",
          "exception": false,
          "start_time": "2022-03-04T07:14:06.582020",
          "status": "completed"
        },
        "tags": [],
        "id": "382398e9"
      },
      "source": [
        "## 2. 평가지표 계산 함수 작성"
      ]
    },
    {
      "cell_type": "code",
      "execution_count": 9,
      "id": "d366cbd8",
      "metadata": {
        "execution": {
          "iopub.execute_input": "2022-03-04T07:14:06.628127Z",
          "iopub.status.busy": "2022-03-04T07:14:06.627525Z",
          "iopub.status.idle": "2022-03-04T07:14:06.632405Z",
          "shell.execute_reply": "2022-03-04T07:14:06.632887Z",
          "shell.execute_reply.started": "2022-03-04T07:13:48.014807Z"
        },
        "papermill": {
          "duration": 0.022519,
          "end_time": "2022-03-04T07:14:06.633058",
          "exception": false,
          "start_time": "2022-03-04T07:14:06.610539",
          "status": "completed"
        },
        "tags": [],
        "id": "d366cbd8"
      },
      "outputs": [],
      "source": [
        "import numpy as np\n",
        "\n",
        "def rmsle(y_true, y_pred, convertExp=True):\n",
        "    # 지수변환\n",
        "    if convertExp:\n",
        "        y_true = np.exp(y_true)\n",
        "        y_pred = np.exp(y_pred)\n",
        "        \n",
        "    # 로그변환 후 결측값을 0으로 변환\n",
        "    log_true = np.nan_to_num(np.log(y_true+1))\n",
        "    log_pred = np.nan_to_num(np.log(y_pred+1))\n",
        "    \n",
        "    # RMSLE 계산\n",
        "    output = np.sqrt(np.mean((log_true - log_pred)**2))\n",
        "    return output"
      ]
    },
    {
      "cell_type": "markdown",
      "id": "862392f7",
      "metadata": {
        "papermill": {
          "duration": 0.018329,
          "end_time": "2022-03-04T07:14:06.669185",
          "exception": false,
          "start_time": "2022-03-04T07:14:06.650856",
          "status": "completed"
        },
        "tags": [],
        "id": "862392f7"
      },
      "source": [
        "## 3. 모델 훈련"
      ]
    },
    {
      "cell_type": "code",
      "execution_count": 10,
      "id": "8b4b06df",
      "metadata": {
        "execution": {
          "iopub.execute_input": "2022-03-04T07:14:06.706938Z",
          "iopub.status.busy": "2022-03-04T07:14:06.705985Z",
          "iopub.status.idle": "2022-03-04T07:14:07.726381Z",
          "shell.execute_reply": "2022-03-04T07:14:07.725812Z"
        },
        "papermill": {
          "duration": 1.040798,
          "end_time": "2022-03-04T07:14:07.726546",
          "exception": false,
          "start_time": "2022-03-04T07:14:06.685748",
          "status": "completed"
        },
        "tags": [],
        "id": "8b4b06df"
      },
      "outputs": [],
      "source": [
        "from sklearn.linear_model import LinearRegression\n",
        "\n",
        "linear_reg_model = LinearRegression()"
      ]
    },
    {
      "cell_type": "code",
      "execution_count": 11,
      "id": "baf0b7ae",
      "metadata": {
        "execution": {
          "iopub.execute_input": "2022-03-04T07:14:07.761520Z",
          "iopub.status.busy": "2022-03-04T07:14:07.760453Z",
          "iopub.status.idle": "2022-03-04T07:14:07.796046Z",
          "shell.execute_reply": "2022-03-04T07:14:07.796535Z"
        },
        "papermill": {
          "duration": 0.055714,
          "end_time": "2022-03-04T07:14:07.796728",
          "exception": false,
          "start_time": "2022-03-04T07:14:07.741014",
          "status": "completed"
        },
        "tags": [],
        "colab": {
          "base_uri": "https://localhost:8080/"
        },
        "id": "baf0b7ae",
        "outputId": "0e762ef2-7e47-41fd-aaa0-e2b7cbb47f90"
      },
      "outputs": [
        {
          "output_type": "execute_result",
          "data": {
            "text/plain": [
              "LinearRegression()"
            ]
          },
          "metadata": {},
          "execution_count": 11
        }
      ],
      "source": [
        "log_y = np.log(y)  # 타깃값 로그변환\n",
        "linear_reg_model.fit(X_train, log_y) # 모델 훈련"
      ]
    },
    {
      "cell_type": "markdown",
      "id": "ba0fc430",
      "metadata": {
        "papermill": {
          "duration": 0.014963,
          "end_time": "2022-03-04T07:14:07.826762",
          "exception": false,
          "start_time": "2022-03-04T07:14:07.811799",
          "status": "completed"
        },
        "tags": [],
        "id": "ba0fc430"
      },
      "source": [
        "## 4. 모델 성능 검증"
      ]
    },
    {
      "cell_type": "code",
      "execution_count": 12,
      "id": "04ee0d90",
      "metadata": {
        "execution": {
          "iopub.execute_input": "2022-03-04T07:14:07.870960Z",
          "iopub.status.busy": "2022-03-04T07:14:07.869920Z",
          "iopub.status.idle": "2022-03-04T07:14:07.897377Z",
          "shell.execute_reply": "2022-03-04T07:14:07.898874Z"
        },
        "papermill": {
          "duration": 0.057322,
          "end_time": "2022-03-04T07:14:07.899151",
          "exception": false,
          "start_time": "2022-03-04T07:14:07.841829",
          "status": "completed"
        },
        "tags": [],
        "id": "04ee0d90"
      },
      "outputs": [],
      "source": [
        "preds = linear_reg_model.predict(X_train)"
      ]
    },
    {
      "cell_type": "code",
      "execution_count": 13,
      "id": "3ab85dfb",
      "metadata": {
        "execution": {
          "iopub.execute_input": "2022-03-04T07:14:07.983471Z",
          "iopub.status.busy": "2022-03-04T07:14:07.982193Z",
          "iopub.status.idle": "2022-03-04T07:14:07.987233Z",
          "shell.execute_reply": "2022-03-04T07:14:07.984385Z"
        },
        "papermill": {
          "duration": 0.050307,
          "end_time": "2022-03-04T07:14:07.987465",
          "exception": false,
          "start_time": "2022-03-04T07:14:07.937158",
          "status": "completed"
        },
        "tags": [],
        "colab": {
          "base_uri": "https://localhost:8080/"
        },
        "id": "3ab85dfb",
        "outputId": "7d42d8f2-b9d5-4fbd-a430-ac1fed78945d"
      },
      "outputs": [
        {
          "output_type": "stream",
          "name": "stdout",
          "text": [
            "선형회귀의 RMSLE 값 : 1.0205\n"
          ]
        }
      ],
      "source": [
        "print (f'선형회귀의 RMSLE 값 : {rmsle(log_y, preds, True):.4f}')"
      ]
    },
    {
      "cell_type": "markdown",
      "id": "3805b6c6",
      "metadata": {
        "papermill": {
          "duration": 0.014863,
          "end_time": "2022-03-04T07:14:08.030553",
          "exception": false,
          "start_time": "2022-03-04T07:14:08.015690",
          "status": "completed"
        },
        "tags": [],
        "id": "3805b6c6"
      },
      "source": [
        "## 5. 예측 및 결과 제출"
      ]
    },
    {
      "cell_type": "code",
      "execution_count": 14,
      "id": "76ed9519",
      "metadata": {
        "execution": {
          "iopub.execute_input": "2022-03-04T07:14:08.069570Z",
          "iopub.status.busy": "2022-03-04T07:14:08.068555Z",
          "iopub.status.idle": "2022-03-04T07:14:08.116602Z",
          "shell.execute_reply": "2022-03-04T07:14:08.117520Z"
        },
        "papermill": {
          "duration": 0.072017,
          "end_time": "2022-03-04T07:14:08.117793",
          "exception": false,
          "start_time": "2022-03-04T07:14:08.045776",
          "status": "completed"
        },
        "tags": [],
        "id": "76ed9519"
      },
      "outputs": [],
      "source": [
        "linearreg_preds = linear_reg_model.predict(X_test) # 테스트 데이터로 예측\n",
        "\n",
        "submission['count'] = np.exp(linearreg_preds)    # 지수변환\n",
        "submission.to_csv('submission.csv', index=False) # 파일로 저장"
      ]
    },
    {
      "cell_type": "code",
      "source": [
        ""
      ],
      "metadata": {
        "id": "wTu3K4Jj-z8Q"
      },
      "id": "wTu3K4Jj-z8Q",
      "execution_count": null,
      "outputs": []
    }
  ],
  "metadata": {
    "kernelspec": {
      "display_name": "Python 3",
      "language": "python",
      "name": "python3"
    },
    "language_info": {
      "codemirror_mode": {
        "name": "ipython",
        "version": 3
      },
      "file_extension": ".py",
      "mimetype": "text/x-python",
      "name": "python",
      "nbconvert_exporter": "python",
      "pygments_lexer": "ipython3",
      "version": "3.7.10"
    },
    "papermill": {
      "default_parameters": {},
      "duration": 10.658732,
      "end_time": "2022-03-04T07:14:08.763290",
      "environment_variables": {},
      "exception": null,
      "input_path": "__notebook__.ipynb",
      "output_path": "__notebook__.ipynb",
      "parameters": {},
      "start_time": "2022-03-04T07:13:58.104558",
      "version": "2.3.3"
    },
    "colab": {
      "name": "ch6-baseline.ipynb",
      "provenance": [],
      "include_colab_link": true
    }
  },
  "nbformat": 4,
  "nbformat_minor": 5
}