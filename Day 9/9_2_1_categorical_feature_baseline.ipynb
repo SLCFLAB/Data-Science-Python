{
  "cells": [
    {
      "cell_type": "markdown",
      "metadata": {
        "id": "view-in-github",
        "colab_type": "text"
      },
      "source": [
        "<a href=\"https://colab.research.google.com/github/SLCFLAB/Data-Science-Python/blob/main/Day%209/9_2_1_categorical_feature_baseline.ipynb\" target=\"_parent\"><img src=\"https://colab.research.google.com/assets/colab-badge.svg\" alt=\"Open In Colab\"/></a>"
      ]
    },
    {
      "cell_type": "markdown",
      "id": "0e00ec43",
      "metadata": {
        "papermill": {
          "duration": 0.024324,
          "end_time": "2022-03-04T14:03:53.559712",
          "exception": false,
          "start_time": "2022-03-04T14:03:53.535388",
          "status": "completed"
        },
        "tags": [],
        "id": "0e00ec43"
      },
      "source": [
        "## 범주형 데이터 이진분류 경진대회 베이스라인 모델"
      ]
    },
    {
      "cell_type": "markdown",
      "id": "33937671",
      "metadata": {
        "papermill": {
          "duration": 0.015066,
          "end_time": "2022-03-04T14:03:53.590715",
          "exception": false,
          "start_time": "2022-03-04T14:03:53.575649",
          "status": "completed"
        },
        "tags": [],
        "id": "33937671"
      },
      "source": [
        "- [범주형 데이터 이진분류 경진대회 링크](https://www.kaggle.com/c/cat-in-the-dat/)"
      ]
    },
    {
      "cell_type": "code",
      "execution_count": 1,
      "id": "fd9d17fc",
      "metadata": {
        "execution": {
          "iopub.execute_input": "2022-03-04T14:03:53.634821Z",
          "iopub.status.busy": "2022-03-04T14:03:53.634104Z",
          "iopub.status.idle": "2022-03-04T14:03:55.963506Z",
          "shell.execute_reply": "2022-03-04T14:03:55.962745Z"
        },
        "papermill": {
          "duration": 2.355333,
          "end_time": "2022-03-04T14:03:55.963690",
          "exception": false,
          "start_time": "2022-03-04T14:03:53.608357",
          "status": "completed"
        },
        "tags": [],
        "id": "fd9d17fc"
      },
      "outputs": [],
      "source": [
        "import pandas as pd\n",
        "\n",
        "# 데이터 경로\n",
        "data_path = 'https://raw.githubusercontent.com/SLCFLAB/Data-Science-Python/main/Day%209/data/'\n",
        "\n",
        "\n",
        "train = pd.read_csv(data_path + 'cat_train.csv', index_col='id')\n",
        "test = pd.read_csv(data_path + 'cat_test.csv', index_col='id')\n",
        "submission = pd.read_csv(data_path + 'cat_sample_submission.csv', index_col='id')"
      ]
    },
    {
      "cell_type": "markdown",
      "id": "056e3ee1",
      "metadata": {
        "papermill": {
          "duration": 0.014819,
          "end_time": "2022-03-04T14:03:55.993290",
          "exception": false,
          "start_time": "2022-03-04T14:03:55.978471",
          "status": "completed"
        },
        "tags": [],
        "id": "056e3ee1"
      },
      "source": [
        "## 1. 피처 엔지니어링"
      ]
    },
    {
      "cell_type": "markdown",
      "id": "57742640",
      "metadata": {
        "papermill": {
          "duration": 0.014539,
          "end_time": "2022-03-04T14:03:56.022740",
          "exception": false,
          "start_time": "2022-03-04T14:03:56.008201",
          "status": "completed"
        },
        "tags": [],
        "id": "57742640"
      },
      "source": [
        "### 데이터 합치기"
      ]
    },
    {
      "cell_type": "code",
      "execution_count": 2,
      "id": "f8c05754",
      "metadata": {
        "execution": {
          "iopub.execute_input": "2022-03-04T14:03:56.057706Z",
          "iopub.status.busy": "2022-03-04T14:03:56.056981Z",
          "iopub.status.idle": "2022-03-04T14:03:57.048621Z",
          "shell.execute_reply": "2022-03-04T14:03:57.049199Z"
        },
        "papermill": {
          "duration": 1.012026,
          "end_time": "2022-03-04T14:03:57.049396",
          "exception": false,
          "start_time": "2022-03-04T14:03:56.037370",
          "status": "completed"
        },
        "tags": [],
        "colab": {
          "base_uri": "https://localhost:8080/",
          "height": 605
        },
        "id": "f8c05754",
        "outputId": "141c0097-91d4-4662-dd98-8e97a76e1d41"
      },
      "outputs": [
        {
          "output_type": "execute_result",
          "data": {
            "text/plain": [
              "        bin_0  bin_1  bin_2 bin_3 bin_4 nom_0      nom_1    nom_2       nom_3  \\\n",
              "id                                                                              \n",
              "0         0.0    0.0    0.0     F     N   Red  Trapezoid  Hamster      Russia   \n",
              "1         1.0    1.0    0.0     F     Y   Red       Star  Axolotl         NaN   \n",
              "2         0.0    1.0    0.0     F     N   Red        NaN  Hamster      Canada   \n",
              "3         NaN    0.0    0.0     F     N   Red     Circle  Hamster     Finland   \n",
              "4         0.0    NaN    0.0     T     N   Red   Triangle  Hamster  Costa Rica   \n",
              "...       ...    ...    ...   ...   ...   ...        ...      ...         ...   \n",
              "999995    0.0    0.0    1.0     T     N   Red  Trapezoid  Axolotl  Costa Rica   \n",
              "999996    0.0    0.0    0.0     F     N   Red    Polygon      Dog      Russia   \n",
              "999997    0.0    0.0    1.0     T     N   Red   Triangle  Hamster         NaN   \n",
              "999998    0.0    0.0    0.0     F     Y   Red     Circle      Dog  Costa Rica   \n",
              "999999    0.0    0.0    1.0     F     N  Blue     Circle     Lion     Finland   \n",
              "\n",
              "           nom_4  ...      nom_8      nom_9 ord_0        ord_1        ord_2  \\\n",
              "id                ...                                                         \n",
              "0        Bassoon  ...  0256c7a4b  02e7c8990   3.0  Contributor          Hot   \n",
              "1       Theremin  ...  52ead350c  f37df64af   3.0  Grandmaster         Warm   \n",
              "2        Bassoon  ...  745b909d1        NaN   3.0          NaN     Freezing   \n",
              "3       Theremin  ...  bdaa56dd1  f9d456e57   1.0       Novice     Lava Hot   \n",
              "4            NaN  ...        NaN  c5361037c   3.0  Grandmaster         Cold   \n",
              "...          ...  ...        ...        ...   ...          ...          ...   \n",
              "999995  Theremin  ...  c1a4acfaf  45a68dd2e   2.0       Expert         Warm   \n",
              "999996  Theremin  ...  220190c9e  e48348d66   1.0  Contributor          NaN   \n",
              "999997  Theremin  ...  cc5495ab3  47021df0d   1.0  Grandmaster  Boiling Hot   \n",
              "999998  Theremin  ...  32b33a4b4  e4bf32721   3.0       Novice     Lava Hot   \n",
              "999999   Bassoon  ...  dda9ca69e  4d921f911   3.0  Contributor     Freezing   \n",
              "\n",
              "        ord_3 ord_4 ord_5  day month  \n",
              "id                                    \n",
              "0           c     U    Pw  6.0   3.0  \n",
              "1           e     X    pE  7.0   7.0  \n",
              "2           n     P    eN  5.0   9.0  \n",
              "3           a     C   NaN  3.0   3.0  \n",
              "4           h     C    OZ  5.0  12.0  \n",
              "...       ...   ...   ...  ...   ...  \n",
              "999995      n     R    dp  2.0  12.0  \n",
              "999996      n     X    US  1.0   5.0  \n",
              "999997      m     P    TL  1.0   6.0  \n",
              "999998      h     L    DI  2.0  11.0  \n",
              "999999      c     N    vx  3.0   6.0  \n",
              "\n",
              "[1000000 rows x 23 columns]"
            ],
            "text/html": [
              "\n",
              "  <div id=\"df-9a892cb8-356f-4395-ab62-262d167bd114\">\n",
              "    <div class=\"colab-df-container\">\n",
              "      <div>\n",
              "<style scoped>\n",
              "    .dataframe tbody tr th:only-of-type {\n",
              "        vertical-align: middle;\n",
              "    }\n",
              "\n",
              "    .dataframe tbody tr th {\n",
              "        vertical-align: top;\n",
              "    }\n",
              "\n",
              "    .dataframe thead th {\n",
              "        text-align: right;\n",
              "    }\n",
              "</style>\n",
              "<table border=\"1\" class=\"dataframe\">\n",
              "  <thead>\n",
              "    <tr style=\"text-align: right;\">\n",
              "      <th></th>\n",
              "      <th>bin_0</th>\n",
              "      <th>bin_1</th>\n",
              "      <th>bin_2</th>\n",
              "      <th>bin_3</th>\n",
              "      <th>bin_4</th>\n",
              "      <th>nom_0</th>\n",
              "      <th>nom_1</th>\n",
              "      <th>nom_2</th>\n",
              "      <th>nom_3</th>\n",
              "      <th>nom_4</th>\n",
              "      <th>...</th>\n",
              "      <th>nom_8</th>\n",
              "      <th>nom_9</th>\n",
              "      <th>ord_0</th>\n",
              "      <th>ord_1</th>\n",
              "      <th>ord_2</th>\n",
              "      <th>ord_3</th>\n",
              "      <th>ord_4</th>\n",
              "      <th>ord_5</th>\n",
              "      <th>day</th>\n",
              "      <th>month</th>\n",
              "    </tr>\n",
              "    <tr>\n",
              "      <th>id</th>\n",
              "      <th></th>\n",
              "      <th></th>\n",
              "      <th></th>\n",
              "      <th></th>\n",
              "      <th></th>\n",
              "      <th></th>\n",
              "      <th></th>\n",
              "      <th></th>\n",
              "      <th></th>\n",
              "      <th></th>\n",
              "      <th></th>\n",
              "      <th></th>\n",
              "      <th></th>\n",
              "      <th></th>\n",
              "      <th></th>\n",
              "      <th></th>\n",
              "      <th></th>\n",
              "      <th></th>\n",
              "      <th></th>\n",
              "      <th></th>\n",
              "      <th></th>\n",
              "    </tr>\n",
              "  </thead>\n",
              "  <tbody>\n",
              "    <tr>\n",
              "      <th>0</th>\n",
              "      <td>0.0</td>\n",
              "      <td>0.0</td>\n",
              "      <td>0.0</td>\n",
              "      <td>F</td>\n",
              "      <td>N</td>\n",
              "      <td>Red</td>\n",
              "      <td>Trapezoid</td>\n",
              "      <td>Hamster</td>\n",
              "      <td>Russia</td>\n",
              "      <td>Bassoon</td>\n",
              "      <td>...</td>\n",
              "      <td>0256c7a4b</td>\n",
              "      <td>02e7c8990</td>\n",
              "      <td>3.0</td>\n",
              "      <td>Contributor</td>\n",
              "      <td>Hot</td>\n",
              "      <td>c</td>\n",
              "      <td>U</td>\n",
              "      <td>Pw</td>\n",
              "      <td>6.0</td>\n",
              "      <td>3.0</td>\n",
              "    </tr>\n",
              "    <tr>\n",
              "      <th>1</th>\n",
              "      <td>1.0</td>\n",
              "      <td>1.0</td>\n",
              "      <td>0.0</td>\n",
              "      <td>F</td>\n",
              "      <td>Y</td>\n",
              "      <td>Red</td>\n",
              "      <td>Star</td>\n",
              "      <td>Axolotl</td>\n",
              "      <td>NaN</td>\n",
              "      <td>Theremin</td>\n",
              "      <td>...</td>\n",
              "      <td>52ead350c</td>\n",
              "      <td>f37df64af</td>\n",
              "      <td>3.0</td>\n",
              "      <td>Grandmaster</td>\n",
              "      <td>Warm</td>\n",
              "      <td>e</td>\n",
              "      <td>X</td>\n",
              "      <td>pE</td>\n",
              "      <td>7.0</td>\n",
              "      <td>7.0</td>\n",
              "    </tr>\n",
              "    <tr>\n",
              "      <th>2</th>\n",
              "      <td>0.0</td>\n",
              "      <td>1.0</td>\n",
              "      <td>0.0</td>\n",
              "      <td>F</td>\n",
              "      <td>N</td>\n",
              "      <td>Red</td>\n",
              "      <td>NaN</td>\n",
              "      <td>Hamster</td>\n",
              "      <td>Canada</td>\n",
              "      <td>Bassoon</td>\n",
              "      <td>...</td>\n",
              "      <td>745b909d1</td>\n",
              "      <td>NaN</td>\n",
              "      <td>3.0</td>\n",
              "      <td>NaN</td>\n",
              "      <td>Freezing</td>\n",
              "      <td>n</td>\n",
              "      <td>P</td>\n",
              "      <td>eN</td>\n",
              "      <td>5.0</td>\n",
              "      <td>9.0</td>\n",
              "    </tr>\n",
              "    <tr>\n",
              "      <th>3</th>\n",
              "      <td>NaN</td>\n",
              "      <td>0.0</td>\n",
              "      <td>0.0</td>\n",
              "      <td>F</td>\n",
              "      <td>N</td>\n",
              "      <td>Red</td>\n",
              "      <td>Circle</td>\n",
              "      <td>Hamster</td>\n",
              "      <td>Finland</td>\n",
              "      <td>Theremin</td>\n",
              "      <td>...</td>\n",
              "      <td>bdaa56dd1</td>\n",
              "      <td>f9d456e57</td>\n",
              "      <td>1.0</td>\n",
              "      <td>Novice</td>\n",
              "      <td>Lava Hot</td>\n",
              "      <td>a</td>\n",
              "      <td>C</td>\n",
              "      <td>NaN</td>\n",
              "      <td>3.0</td>\n",
              "      <td>3.0</td>\n",
              "    </tr>\n",
              "    <tr>\n",
              "      <th>4</th>\n",
              "      <td>0.0</td>\n",
              "      <td>NaN</td>\n",
              "      <td>0.0</td>\n",
              "      <td>T</td>\n",
              "      <td>N</td>\n",
              "      <td>Red</td>\n",
              "      <td>Triangle</td>\n",
              "      <td>Hamster</td>\n",
              "      <td>Costa Rica</td>\n",
              "      <td>NaN</td>\n",
              "      <td>...</td>\n",
              "      <td>NaN</td>\n",
              "      <td>c5361037c</td>\n",
              "      <td>3.0</td>\n",
              "      <td>Grandmaster</td>\n",
              "      <td>Cold</td>\n",
              "      <td>h</td>\n",
              "      <td>C</td>\n",
              "      <td>OZ</td>\n",
              "      <td>5.0</td>\n",
              "      <td>12.0</td>\n",
              "    </tr>\n",
              "    <tr>\n",
              "      <th>...</th>\n",
              "      <td>...</td>\n",
              "      <td>...</td>\n",
              "      <td>...</td>\n",
              "      <td>...</td>\n",
              "      <td>...</td>\n",
              "      <td>...</td>\n",
              "      <td>...</td>\n",
              "      <td>...</td>\n",
              "      <td>...</td>\n",
              "      <td>...</td>\n",
              "      <td>...</td>\n",
              "      <td>...</td>\n",
              "      <td>...</td>\n",
              "      <td>...</td>\n",
              "      <td>...</td>\n",
              "      <td>...</td>\n",
              "      <td>...</td>\n",
              "      <td>...</td>\n",
              "      <td>...</td>\n",
              "      <td>...</td>\n",
              "      <td>...</td>\n",
              "    </tr>\n",
              "    <tr>\n",
              "      <th>999995</th>\n",
              "      <td>0.0</td>\n",
              "      <td>0.0</td>\n",
              "      <td>1.0</td>\n",
              "      <td>T</td>\n",
              "      <td>N</td>\n",
              "      <td>Red</td>\n",
              "      <td>Trapezoid</td>\n",
              "      <td>Axolotl</td>\n",
              "      <td>Costa Rica</td>\n",
              "      <td>Theremin</td>\n",
              "      <td>...</td>\n",
              "      <td>c1a4acfaf</td>\n",
              "      <td>45a68dd2e</td>\n",
              "      <td>2.0</td>\n",
              "      <td>Expert</td>\n",
              "      <td>Warm</td>\n",
              "      <td>n</td>\n",
              "      <td>R</td>\n",
              "      <td>dp</td>\n",
              "      <td>2.0</td>\n",
              "      <td>12.0</td>\n",
              "    </tr>\n",
              "    <tr>\n",
              "      <th>999996</th>\n",
              "      <td>0.0</td>\n",
              "      <td>0.0</td>\n",
              "      <td>0.0</td>\n",
              "      <td>F</td>\n",
              "      <td>N</td>\n",
              "      <td>Red</td>\n",
              "      <td>Polygon</td>\n",
              "      <td>Dog</td>\n",
              "      <td>Russia</td>\n",
              "      <td>Theremin</td>\n",
              "      <td>...</td>\n",
              "      <td>220190c9e</td>\n",
              "      <td>e48348d66</td>\n",
              "      <td>1.0</td>\n",
              "      <td>Contributor</td>\n",
              "      <td>NaN</td>\n",
              "      <td>n</td>\n",
              "      <td>X</td>\n",
              "      <td>US</td>\n",
              "      <td>1.0</td>\n",
              "      <td>5.0</td>\n",
              "    </tr>\n",
              "    <tr>\n",
              "      <th>999997</th>\n",
              "      <td>0.0</td>\n",
              "      <td>0.0</td>\n",
              "      <td>1.0</td>\n",
              "      <td>T</td>\n",
              "      <td>N</td>\n",
              "      <td>Red</td>\n",
              "      <td>Triangle</td>\n",
              "      <td>Hamster</td>\n",
              "      <td>NaN</td>\n",
              "      <td>Theremin</td>\n",
              "      <td>...</td>\n",
              "      <td>cc5495ab3</td>\n",
              "      <td>47021df0d</td>\n",
              "      <td>1.0</td>\n",
              "      <td>Grandmaster</td>\n",
              "      <td>Boiling Hot</td>\n",
              "      <td>m</td>\n",
              "      <td>P</td>\n",
              "      <td>TL</td>\n",
              "      <td>1.0</td>\n",
              "      <td>6.0</td>\n",
              "    </tr>\n",
              "    <tr>\n",
              "      <th>999998</th>\n",
              "      <td>0.0</td>\n",
              "      <td>0.0</td>\n",
              "      <td>0.0</td>\n",
              "      <td>F</td>\n",
              "      <td>Y</td>\n",
              "      <td>Red</td>\n",
              "      <td>Circle</td>\n",
              "      <td>Dog</td>\n",
              "      <td>Costa Rica</td>\n",
              "      <td>Theremin</td>\n",
              "      <td>...</td>\n",
              "      <td>32b33a4b4</td>\n",
              "      <td>e4bf32721</td>\n",
              "      <td>3.0</td>\n",
              "      <td>Novice</td>\n",
              "      <td>Lava Hot</td>\n",
              "      <td>h</td>\n",
              "      <td>L</td>\n",
              "      <td>DI</td>\n",
              "      <td>2.0</td>\n",
              "      <td>11.0</td>\n",
              "    </tr>\n",
              "    <tr>\n",
              "      <th>999999</th>\n",
              "      <td>0.0</td>\n",
              "      <td>0.0</td>\n",
              "      <td>1.0</td>\n",
              "      <td>F</td>\n",
              "      <td>N</td>\n",
              "      <td>Blue</td>\n",
              "      <td>Circle</td>\n",
              "      <td>Lion</td>\n",
              "      <td>Finland</td>\n",
              "      <td>Bassoon</td>\n",
              "      <td>...</td>\n",
              "      <td>dda9ca69e</td>\n",
              "      <td>4d921f911</td>\n",
              "      <td>3.0</td>\n",
              "      <td>Contributor</td>\n",
              "      <td>Freezing</td>\n",
              "      <td>c</td>\n",
              "      <td>N</td>\n",
              "      <td>vx</td>\n",
              "      <td>3.0</td>\n",
              "      <td>6.0</td>\n",
              "    </tr>\n",
              "  </tbody>\n",
              "</table>\n",
              "<p>1000000 rows × 23 columns</p>\n",
              "</div>\n",
              "      <button class=\"colab-df-convert\" onclick=\"convertToInteractive('df-9a892cb8-356f-4395-ab62-262d167bd114')\"\n",
              "              title=\"Convert this dataframe to an interactive table.\"\n",
              "              style=\"display:none;\">\n",
              "        \n",
              "  <svg xmlns=\"http://www.w3.org/2000/svg\" height=\"24px\"viewBox=\"0 0 24 24\"\n",
              "       width=\"24px\">\n",
              "    <path d=\"M0 0h24v24H0V0z\" fill=\"none\"/>\n",
              "    <path d=\"M18.56 5.44l.94 2.06.94-2.06 2.06-.94-2.06-.94-.94-2.06-.94 2.06-2.06.94zm-11 1L8.5 8.5l.94-2.06 2.06-.94-2.06-.94L8.5 2.5l-.94 2.06-2.06.94zm10 10l.94 2.06.94-2.06 2.06-.94-2.06-.94-.94-2.06-.94 2.06-2.06.94z\"/><path d=\"M17.41 7.96l-1.37-1.37c-.4-.4-.92-.59-1.43-.59-.52 0-1.04.2-1.43.59L10.3 9.45l-7.72 7.72c-.78.78-.78 2.05 0 2.83L4 21.41c.39.39.9.59 1.41.59.51 0 1.02-.2 1.41-.59l7.78-7.78 2.81-2.81c.8-.78.8-2.07 0-2.86zM5.41 20L4 18.59l7.72-7.72 1.47 1.35L5.41 20z\"/>\n",
              "  </svg>\n",
              "      </button>\n",
              "      \n",
              "  <style>\n",
              "    .colab-df-container {\n",
              "      display:flex;\n",
              "      flex-wrap:wrap;\n",
              "      gap: 12px;\n",
              "    }\n",
              "\n",
              "    .colab-df-convert {\n",
              "      background-color: #E8F0FE;\n",
              "      border: none;\n",
              "      border-radius: 50%;\n",
              "      cursor: pointer;\n",
              "      display: none;\n",
              "      fill: #1967D2;\n",
              "      height: 32px;\n",
              "      padding: 0 0 0 0;\n",
              "      width: 32px;\n",
              "    }\n",
              "\n",
              "    .colab-df-convert:hover {\n",
              "      background-color: #E2EBFA;\n",
              "      box-shadow: 0px 1px 2px rgba(60, 64, 67, 0.3), 0px 1px 3px 1px rgba(60, 64, 67, 0.15);\n",
              "      fill: #174EA6;\n",
              "    }\n",
              "\n",
              "    [theme=dark] .colab-df-convert {\n",
              "      background-color: #3B4455;\n",
              "      fill: #D2E3FC;\n",
              "    }\n",
              "\n",
              "    [theme=dark] .colab-df-convert:hover {\n",
              "      background-color: #434B5C;\n",
              "      box-shadow: 0px 1px 3px 1px rgba(0, 0, 0, 0.15);\n",
              "      filter: drop-shadow(0px 1px 2px rgba(0, 0, 0, 0.3));\n",
              "      fill: #FFFFFF;\n",
              "    }\n",
              "  </style>\n",
              "\n",
              "      <script>\n",
              "        const buttonEl =\n",
              "          document.querySelector('#df-9a892cb8-356f-4395-ab62-262d167bd114 button.colab-df-convert');\n",
              "        buttonEl.style.display =\n",
              "          google.colab.kernel.accessAllowed ? 'block' : 'none';\n",
              "\n",
              "        async function convertToInteractive(key) {\n",
              "          const element = document.querySelector('#df-9a892cb8-356f-4395-ab62-262d167bd114');\n",
              "          const dataTable =\n",
              "            await google.colab.kernel.invokeFunction('convertToInteractive',\n",
              "                                                     [key], {});\n",
              "          if (!dataTable) return;\n",
              "\n",
              "          const docLinkHtml = 'Like what you see? Visit the ' +\n",
              "            '<a target=\"_blank\" href=https://colab.research.google.com/notebooks/data_table.ipynb>data table notebook</a>'\n",
              "            + ' to learn more about interactive tables.';\n",
              "          element.innerHTML = '';\n",
              "          dataTable['output_type'] = 'display_data';\n",
              "          await google.colab.output.renderOutput(dataTable, element);\n",
              "          const docLink = document.createElement('div');\n",
              "          docLink.innerHTML = docLinkHtml;\n",
              "          element.appendChild(docLink);\n",
              "        }\n",
              "      </script>\n",
              "    </div>\n",
              "  </div>\n",
              "  "
            ]
          },
          "metadata": {},
          "execution_count": 2
        }
      ],
      "source": [
        "all_data = pd.concat([train, test]) # 훈련 데이터와 테스트 데이터 합치기 \n",
        "all_data = all_data.drop('target', axis=1) # 타깃값 제거\n",
        "all_data"
      ]
    },
    {
      "cell_type": "markdown",
      "id": "2166a7ab",
      "metadata": {
        "papermill": {
          "duration": 0.015343,
          "end_time": "2022-03-04T14:03:57.081867",
          "exception": false,
          "start_time": "2022-03-04T14:03:57.066524",
          "status": "completed"
        },
        "tags": [],
        "id": "2166a7ab"
      },
      "source": [
        "### 원-핫 인코딩"
      ]
    },
    {
      "cell_type": "code",
      "execution_count": 3,
      "id": "7a4d3705",
      "metadata": {
        "execution": {
          "iopub.execute_input": "2022-03-04T14:03:57.118748Z",
          "iopub.status.busy": "2022-03-04T14:03:57.117831Z",
          "iopub.status.idle": "2022-03-04T14:04:02.104048Z",
          "shell.execute_reply": "2022-03-04T14:04:02.104573Z"
        },
        "papermill": {
          "duration": 5.007453,
          "end_time": "2022-03-04T14:04:02.104785",
          "exception": false,
          "start_time": "2022-03-04T14:03:57.097332",
          "status": "completed"
        },
        "tags": [],
        "id": "7a4d3705"
      },
      "outputs": [],
      "source": [
        "from sklearn.preprocessing import OneHotEncoder\n",
        "\n",
        "encoder = OneHotEncoder() # 원-핫 인코더 생성\n",
        "all_data_encoded = encoder.fit_transform(all_data) # 원-핫 인코딩 적용"
      ]
    },
    {
      "cell_type": "markdown",
      "id": "34d0a49c",
      "metadata": {
        "papermill": {
          "duration": 0.01743,
          "end_time": "2022-03-04T14:04:02.138935",
          "exception": false,
          "start_time": "2022-03-04T14:04:02.121505",
          "status": "completed"
        },
        "tags": [],
        "id": "34d0a49c"
      },
      "source": [
        "### 데이터 나누기"
      ]
    },
    {
      "cell_type": "code",
      "execution_count": 4,
      "id": "7ad78cb5",
      "metadata": {
        "execution": {
          "iopub.execute_input": "2022-03-04T14:04:02.187536Z",
          "iopub.status.busy": "2022-03-04T14:04:02.186665Z",
          "iopub.status.idle": "2022-03-04T14:04:02.371378Z",
          "shell.execute_reply": "2022-03-04T14:04:02.371901Z"
        },
        "papermill": {
          "duration": 0.215331,
          "end_time": "2022-03-04T14:04:02.372098",
          "exception": false,
          "start_time": "2022-03-04T14:04:02.156767",
          "status": "completed"
        },
        "tags": [],
        "id": "7ad78cb5"
      },
      "outputs": [],
      "source": [
        "num_train = len(train) # 훈련 데이터 개수\n",
        "\n",
        "# 훈련 데이터와 테스트 데이터 나누기\n",
        "X_train = all_data_encoded[:num_train] # 0 ~ num_train - 1행\n",
        "X_test = all_data_encoded[num_train:] # num_train ~ 마지막 행\n",
        "\n",
        "y = train['target']"
      ]
    },
    {
      "cell_type": "code",
      "execution_count": 5,
      "id": "afad5369",
      "metadata": {
        "execution": {
          "iopub.execute_input": "2022-03-04T14:04:02.409119Z",
          "iopub.status.busy": "2022-03-04T14:04:02.408301Z",
          "iopub.status.idle": "2022-03-04T14:04:02.714008Z",
          "shell.execute_reply": "2022-03-04T14:04:02.713184Z"
        },
        "papermill": {
          "duration": 0.326226,
          "end_time": "2022-03-04T14:04:02.714175",
          "exception": false,
          "start_time": "2022-03-04T14:04:02.387949",
          "status": "completed"
        },
        "tags": [],
        "id": "afad5369"
      },
      "outputs": [],
      "source": [
        "from sklearn.model_selection import train_test_split\n",
        "\n",
        "# 훈련 데이터, 검증 데이터 분리\n",
        "X_train, X_valid, y_train, y_valid = train_test_split(X_train, y,\n",
        "                                                      test_size=0.1,\n",
        "                                                      stratify=y,\n",
        "                                                      random_state=10)"
      ]
    },
    {
      "cell_type": "markdown",
      "id": "77f2244b",
      "metadata": {
        "papermill": {
          "duration": 0.016305,
          "end_time": "2022-03-04T14:04:02.747156",
          "exception": false,
          "start_time": "2022-03-04T14:04:02.730851",
          "status": "completed"
        },
        "tags": [],
        "id": "77f2244b"
      },
      "source": [
        "## 2. 모델 훈련"
      ]
    },
    {
      "cell_type": "code",
      "execution_count": 6,
      "id": "74309997",
      "metadata": {
        "execution": {
          "iopub.execute_input": "2022-03-04T14:04:02.785984Z",
          "iopub.status.busy": "2022-03-04T14:04:02.785213Z",
          "iopub.status.idle": "2022-03-04T14:05:08.153724Z",
          "shell.execute_reply": "2022-03-04T14:05:08.154715Z"
        },
        "papermill": {
          "duration": 65.391002,
          "end_time": "2022-03-04T14:05:08.155058",
          "exception": false,
          "start_time": "2022-03-04T14:04:02.764056",
          "status": "completed"
        },
        "tags": [],
        "colab": {
          "base_uri": "https://localhost:8080/"
        },
        "id": "74309997",
        "outputId": "93d4c188-2425-48d5-cabf-c0a74e3f2dd8"
      },
      "outputs": [
        {
          "output_type": "execute_result",
          "data": {
            "text/plain": [
              "LogisticRegression(max_iter=1000, random_state=42)"
            ]
          },
          "metadata": {},
          "execution_count": 6
        }
      ],
      "source": [
        "from sklearn.linear_model import LogisticRegression\n",
        "\n",
        "logistic_model = LogisticRegression(max_iter=1000, random_state=42) # 모델 생성\n",
        "logistic_model.fit(X_train, y_train) # 모델 훈련"
      ]
    },
    {
      "cell_type": "markdown",
      "id": "b85bc99c",
      "metadata": {
        "papermill": {
          "duration": 0.03109,
          "end_time": "2022-03-04T14:05:08.217582",
          "exception": false,
          "start_time": "2022-03-04T14:05:08.186492",
          "status": "completed"
        },
        "tags": [],
        "id": "b85bc99c"
      },
      "source": [
        "## 3. 모델 성능 검증"
      ]
    },
    {
      "cell_type": "code",
      "execution_count": 7,
      "id": "8ad45968",
      "metadata": {
        "execution": {
          "iopub.execute_input": "2022-03-04T14:05:08.261612Z",
          "iopub.status.busy": "2022-03-04T14:05:08.260588Z",
          "iopub.status.idle": "2022-03-04T14:05:08.268315Z",
          "shell.execute_reply": "2022-03-04T14:05:08.268969Z"
        },
        "papermill": {
          "duration": 0.02996,
          "end_time": "2022-03-04T14:05:08.269156",
          "exception": false,
          "start_time": "2022-03-04T14:05:08.239196",
          "status": "completed"
        },
        "tags": [],
        "colab": {
          "base_uri": "https://localhost:8080/"
        },
        "id": "8ad45968",
        "outputId": "3da9f48b-ebce-413c-d6fc-a2e7baaa3325"
      },
      "outputs": [
        {
          "output_type": "execute_result",
          "data": {
            "text/plain": [
              "array([[0.77272251, 0.22727749],\n",
              "       [0.91651808, 0.08348192],\n",
              "       [0.75030512, 0.24969488],\n",
              "       ...,\n",
              "       [0.66952461, 0.33047539],\n",
              "       [0.79398475, 0.20601525],\n",
              "       [0.68582777, 0.31417223]])"
            ]
          },
          "metadata": {},
          "execution_count": 7
        }
      ],
      "source": [
        "logistic_model.predict_proba(X_valid)"
      ]
    },
    {
      "cell_type": "code",
      "execution_count": 8,
      "id": "11550d7c",
      "metadata": {
        "execution": {
          "iopub.execute_input": "2022-03-04T14:05:08.307228Z",
          "iopub.status.busy": "2022-03-04T14:05:08.306093Z",
          "iopub.status.idle": "2022-03-04T14:05:08.314602Z",
          "shell.execute_reply": "2022-03-04T14:05:08.315306Z"
        },
        "papermill": {
          "duration": 0.029595,
          "end_time": "2022-03-04T14:05:08.315507",
          "exception": false,
          "start_time": "2022-03-04T14:05:08.285912",
          "status": "completed"
        },
        "tags": [],
        "colab": {
          "base_uri": "https://localhost:8080/"
        },
        "id": "11550d7c",
        "outputId": "1e892d97-a529-48aa-f272-674f3a093e82"
      },
      "outputs": [
        {
          "output_type": "execute_result",
          "data": {
            "text/plain": [
              "array([0, 0, 0, ..., 0, 0, 0])"
            ]
          },
          "metadata": {},
          "execution_count": 8
        }
      ],
      "source": [
        "logistic_model.predict(X_valid)"
      ]
    },
    {
      "cell_type": "code",
      "execution_count": 9,
      "id": "a45bb8e0",
      "metadata": {
        "execution": {
          "iopub.execute_input": "2022-03-04T14:05:08.355654Z",
          "iopub.status.busy": "2022-03-04T14:05:08.354580Z",
          "iopub.status.idle": "2022-03-04T14:05:08.361599Z",
          "shell.execute_reply": "2022-03-04T14:05:08.362192Z"
        },
        "papermill": {
          "duration": 0.028984,
          "end_time": "2022-03-04T14:05:08.362379",
          "exception": false,
          "start_time": "2022-03-04T14:05:08.333395",
          "status": "completed"
        },
        "tags": [],
        "id": "a45bb8e0"
      },
      "outputs": [],
      "source": [
        "# 검증 데이터를 활용한 타깃 예측 \n",
        "y_valid_preds = logistic_model.predict_proba(X_valid)[:, 1]"
      ]
    },
    {
      "cell_type": "code",
      "execution_count": 10,
      "id": "0c6023e7",
      "metadata": {
        "execution": {
          "iopub.execute_input": "2022-03-04T14:05:08.401243Z",
          "iopub.status.busy": "2022-03-04T14:05:08.400191Z",
          "iopub.status.idle": "2022-03-04T14:05:08.416810Z",
          "shell.execute_reply": "2022-03-04T14:05:08.417383Z"
        },
        "papermill": {
          "duration": 0.037655,
          "end_time": "2022-03-04T14:05:08.417576",
          "exception": false,
          "start_time": "2022-03-04T14:05:08.379921",
          "status": "completed"
        },
        "tags": [],
        "colab": {
          "base_uri": "https://localhost:8080/"
        },
        "id": "0c6023e7",
        "outputId": "139a3297-a8b6-4db2-cb0e-3e8ed3fa1288"
      },
      "outputs": [
        {
          "output_type": "stream",
          "name": "stdout",
          "text": [
            "검증 데이터 ROC AUC : 0.7858\n"
          ]
        }
      ],
      "source": [
        "from sklearn.metrics import roc_auc_score # ROC AUC 점수 계산 함수\n",
        "\n",
        "# 검증 데이터 ROC AUC\n",
        "roc_auc = roc_auc_score(y_valid, y_valid_preds)\n",
        "\n",
        "print(f'검증 데이터 ROC AUC : {roc_auc:.4f}')"
      ]
    },
    {
      "cell_type": "markdown",
      "id": "a9d4d030",
      "metadata": {
        "papermill": {
          "duration": 0.017776,
          "end_time": "2022-03-04T14:05:08.453457",
          "exception": false,
          "start_time": "2022-03-04T14:05:08.435681",
          "status": "completed"
        },
        "tags": [],
        "id": "a9d4d030"
      },
      "source": [
        "## 4. 예측 및 결과 제출"
      ]
    },
    {
      "cell_type": "code",
      "execution_count": 11,
      "id": "7454f39c",
      "metadata": {
        "execution": {
          "iopub.execute_input": "2022-03-04T14:05:08.493729Z",
          "iopub.status.busy": "2022-03-04T14:05:08.492653Z",
          "iopub.status.idle": "2022-03-04T14:05:08.514055Z",
          "shell.execute_reply": "2022-03-04T14:05:08.513429Z"
        },
        "papermill": {
          "duration": 0.042625,
          "end_time": "2022-03-04T14:05:08.514205",
          "exception": false,
          "start_time": "2022-03-04T14:05:08.471580",
          "status": "completed"
        },
        "tags": [],
        "id": "7454f39c"
      },
      "outputs": [],
      "source": [
        "# 타깃값 1일 확률 예측\n",
        "y_preds = logistic_model.predict_proba(X_test)[:, 1]"
      ]
    },
    {
      "cell_type": "code",
      "execution_count": 12,
      "id": "764092f1",
      "metadata": {
        "execution": {
          "iopub.execute_input": "2022-03-04T14:05:08.555387Z",
          "iopub.status.busy": "2022-03-04T14:05:08.554657Z",
          "iopub.status.idle": "2022-03-04T14:05:09.336031Z",
          "shell.execute_reply": "2022-03-04T14:05:09.335445Z"
        },
        "papermill": {
          "duration": 0.803918,
          "end_time": "2022-03-04T14:05:09.336183",
          "exception": false,
          "start_time": "2022-03-04T14:05:08.532265",
          "status": "completed"
        },
        "tags": [],
        "id": "764092f1"
      },
      "outputs": [],
      "source": [
        "# 제출 파일 생성\n",
        "submission['target'] = y_preds\n",
        "submission.to_csv('submission.csv')"
      ]
    }
  ],
  "metadata": {
    "kernelspec": {
      "display_name": "Python 3",
      "language": "python",
      "name": "python3"
    },
    "language_info": {
      "codemirror_mode": {
        "name": "ipython",
        "version": 3
      },
      "file_extension": ".py",
      "mimetype": "text/x-python",
      "name": "python",
      "nbconvert_exporter": "python",
      "pygments_lexer": "ipython3",
      "version": "3.7.10"
    },
    "papermill": {
      "default_parameters": {},
      "duration": 85.828822,
      "end_time": "2022-03-04T14:05:10.819299",
      "environment_variables": {},
      "exception": null,
      "input_path": "__notebook__.ipynb",
      "output_path": "__notebook__.ipynb",
      "parameters": {},
      "start_time": "2022-03-04T14:03:44.990477",
      "version": "2.3.3"
    },
    "colab": {
      "name": "ch7-baseline.ipynb",
      "provenance": [],
      "include_colab_link": true
    }
  },
  "nbformat": 4,
  "nbformat_minor": 5
}