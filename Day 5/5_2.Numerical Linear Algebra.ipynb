{
  "cells": [
    {
      "cell_type": "markdown",
      "metadata": {
        "id": "e8ea7aca"
      },
      "source": [
        "<a href=\"https://colab.research.google.com/github/SLCFLAB/Data-Science-Python/blob/main/Day%205/5_2.Numerical%20Linear%20Algebra.ipynb\" target=\"_parent\"><img src=\"https://colab.research.google.com/assets/colab-badge.svg\" alt=\"Open In Colab\"/></a>"
      ]
    },
    {
      "cell_type": "markdown",
      "metadata": {
        "id": "XnSEbKLgjv-O"
      },
      "source": [
        "# 1장 Matrix Computation"
      ]
    },
    {
      "cell_type": "markdown",
      "metadata": {
        "id": "8QJEVg7ojv-S"
      },
      "source": [
        "#### 코드 출처 \n",
        "[1] https://github.com/rickiepark/machine-learning-with-python-cookbook\n",
        "\n",
        "[2] https://docs.scipy.org/doc/scipy/reference/tutorial/linalg.html https://colab.research.google.com/github/SLCFLAB/Math4DS/blob/main"
      ]
    },
    {
      "cell_type": "markdown",
      "metadata": {
        "id": "_uVxNGmqjv-u"
      },
      "source": [
        "# 2절 Numerical Linear Algebra"
      ]
    },
    {
      "cell_type": "markdown",
      "metadata": {
        "id": "2Kp1-pI1jv-u"
      },
      "source": [
        "## 2.1 행렬의 랭크 구하기"
      ]
    },
    {
      "cell_type": "code",
      "execution_count": null,
      "metadata": {
        "id": "ciYhSKgrjv-u",
        "outputId": "33cce828-17bb-4ab2-f8e0-1e4dfff69748",
        "colab": {
          "base_uri": "https://localhost:8080/"
        }
      },
      "outputs": [
        {
          "output_type": "execute_result",
          "data": {
            "text/plain": [
              "2"
            ]
          },
          "metadata": {},
          "execution_count": 1
        }
      ],
      "source": [
        "# 라이브러리를 임포트합니다.\n",
        "import numpy as np\n",
        "\n",
        "# 행렬을 만듭니다.\n",
        "matrix = np.array([[1, 1, 1],\n",
        "                   [1, 1, 10],\n",
        "                   [1, 1, 15]])\n",
        "\n",
        "# 행렬의 랭크를 반환합니다.\n",
        "np.linalg.matrix_rank(matrix)"
      ]
    },
    {
      "cell_type": "markdown",
      "metadata": {
        "id": "GM388ggNjv-v"
      },
      "source": [
        "### 붙임"
      ]
    },
    {
      "cell_type": "code",
      "execution_count": null,
      "metadata": {
        "scrolled": true,
        "id": "J6Ohc7d0jv-v",
        "outputId": "3e41facd-e3cb-4a25-914a-055a09945a6a",
        "colab": {
          "base_uri": "https://localhost:8080/"
        }
      },
      "outputs": [
        {
          "output_type": "execute_result",
          "data": {
            "text/plain": [
              "2"
            ]
          },
          "metadata": {},
          "execution_count": 2
        }
      ],
      "source": [
        "# 2D 배열이므로 2가 반환됩니다.\n",
        "np.ndim(matrix)"
      ]
    },
    {
      "cell_type": "code",
      "execution_count": null,
      "metadata": {
        "id": "ezTCqTaRjv-v",
        "outputId": "f757e4b5-ee72-48e8-b1d4-c96521dbb450",
        "colab": {
          "base_uri": "https://localhost:8080/"
        }
      },
      "outputs": [
        {
          "output_type": "execute_result",
          "data": {
            "text/plain": [
              "2"
            ]
          },
          "metadata": {},
          "execution_count": 3
        }
      ],
      "source": [
        "# svd 함수로 특잇값만 계산합니다.\n",
        "s = np.linalg.svd(matrix, compute_uv=False)\n",
        "# 오차를 고려하여 0에 가까운 아주 작은 값을 지정합니다.\n",
        "np.sum(s > 1e-10)"
      ]
    },
    {
      "cell_type": "code",
      "source": [
        "# Todo\n",
        "# pdf 17페이지에 나와있는 A,B 행렬의 rank 구해보기\n"
      ],
      "metadata": {
        "id": "5y0nszpqM7Wm"
      },
      "execution_count": null,
      "outputs": []
    },
    {
      "cell_type": "markdown",
      "metadata": {
        "id": "Rhx-cnj2jv-v"
      },
      "source": [
        "## 2.2 행렬식(determinant)과 norm 계산하기"
      ]
    },
    {
      "cell_type": "code",
      "execution_count": null,
      "metadata": {
        "id": "BEfQPlM1jv-v",
        "outputId": "d6531bef-03ac-42d4-fda1-124a244f3077",
        "colab": {
          "base_uri": "https://localhost:8080/"
        }
      },
      "outputs": [
        {
          "output_type": "execute_result",
          "data": {
            "text/plain": [
              "-25.000000000000004"
            ]
          },
          "metadata": {},
          "execution_count": 4
        }
      ],
      "source": [
        "# 라이브러리를 임포트합니다.\n",
        "import numpy as np\n",
        "from scipy import linalg\n",
        "\n",
        "# 행렬을 만듭니다.\n",
        "A = np.array([[1, 3, 5],\n",
        "              [2, 5, 1],\n",
        "              [2, 3, 8]])\n",
        "\n",
        "# 행렬의 행렬식을 반환합니다.\n",
        "linalg.det(A)"
      ]
    },
    {
      "cell_type": "code",
      "execution_count": null,
      "metadata": {
        "id": "6xV_InCmjv-v",
        "outputId": "76561e88-4299-4bba-ba88-c1b977a486d9",
        "colab": {
          "base_uri": "https://localhost:8080/"
        }
      },
      "outputs": [
        {
          "output_type": "execute_result",
          "data": {
            "text/plain": [
              "11.916375287812984"
            ]
          },
          "metadata": {},
          "execution_count": 5
        }
      ],
      "source": [
        "linalg.norm(A)"
      ]
    },
    {
      "cell_type": "code",
      "execution_count": null,
      "metadata": {
        "id": "HjZez4lxjv-w",
        "outputId": "88f0b589-2816-4e0c-9a27-4ce8d9e0739a",
        "colab": {
          "base_uri": "https://localhost:8080/"
        }
      },
      "outputs": [
        {
          "output_type": "execute_result",
          "data": {
            "text/plain": [
              "11.916375287812984"
            ]
          },
          "metadata": {},
          "execution_count": 6
        }
      ],
      "source": [
        "linalg.norm(A,'fro') # frobenius norm is the default"
      ]
    },
    {
      "cell_type": "code",
      "execution_count": null,
      "metadata": {
        "id": "0N-g0ASvjv-w",
        "outputId": "ac45fbc2-eb1e-4fc3-9591-a9e5b0b7d13d",
        "colab": {
          "base_uri": "https://localhost:8080/"
        }
      },
      "outputs": [
        {
          "output_type": "execute_result",
          "data": {
            "text/plain": [
              "14.0"
            ]
          },
          "metadata": {},
          "execution_count": 7
        }
      ],
      "source": [
        "linalg.norm(A,1) # L1 norm (max column sum)"
      ]
    },
    {
      "cell_type": "code",
      "execution_count": null,
      "metadata": {
        "id": "r-No4j-Mjv-w",
        "outputId": "e4ac380a-b7ed-45bb-bb86-830bab55cd9b",
        "colab": {
          "base_uri": "https://localhost:8080/"
        }
      },
      "outputs": [
        {
          "output_type": "execute_result",
          "data": {
            "text/plain": [
              "5.0"
            ]
          },
          "metadata": {},
          "execution_count": 8
        }
      ],
      "source": [
        "linalg.norm(A,-1) # min column sum"
      ]
    },
    {
      "cell_type": "code",
      "execution_count": null,
      "metadata": {
        "id": "N2CGQx8Ijv-w",
        "outputId": "3d41ada5-f46e-4f15-81ae-4ee98636f132",
        "colab": {
          "base_uri": "https://localhost:8080/"
        }
      },
      "outputs": [
        {
          "output_type": "execute_result",
          "data": {
            "text/plain": [
              "13.0"
            ]
          },
          "metadata": {},
          "execution_count": 9
        }
      ],
      "source": [
        "linalg.norm(A,np.inf) # L inf norm (max row sum)"
      ]
    },
    {
      "cell_type": "code",
      "source": [
        "# Todo\n",
        "# pdf p.23 문제 numpy package로 구해보기\n"
      ],
      "metadata": {
        "id": "r7uZ6_smNLSF"
      },
      "execution_count": null,
      "outputs": []
    },
    {
      "cell_type": "markdown",
      "metadata": {
        "id": "reC5uq_Rjv-w"
      },
      "source": [
        "## 2.3 행렬의 대각 원소 추출하기"
      ]
    },
    {
      "cell_type": "code",
      "execution_count": null,
      "metadata": {
        "id": "4iVGgGCvjv-w",
        "outputId": "2b414b24-efc7-4981-aff7-b7bd8b7245e6",
        "colab": {
          "base_uri": "https://localhost:8080/"
        }
      },
      "outputs": [
        {
          "output_type": "execute_result",
          "data": {
            "text/plain": [
              "array([1, 4, 9])"
            ]
          },
          "metadata": {},
          "execution_count": 10
        }
      ],
      "source": [
        "# 라이브러리를 임포트합니다.\n",
        "import numpy as np\n",
        "\n",
        "# 행렬을 만듭니다.\n",
        "matrix = np.array([[1, 2, 3],\n",
        "                   [2, 4, 6],\n",
        "                   [3, 8, 9]])\n",
        "\n",
        "# 대각 원소를 반환합니다.\n",
        "matrix.diagonal()"
      ]
    },
    {
      "cell_type": "markdown",
      "metadata": {
        "id": "dvcv9weHjv-x"
      },
      "source": [
        "### 붙임"
      ]
    },
    {
      "cell_type": "code",
      "execution_count": null,
      "metadata": {
        "id": "nQmz2f7Tjv-x"
      },
      "outputs": [],
      "source": [
        "# 반환된 배열을 변경하려면 복사해야 합니다.\n",
        "a = matrix.diagonal().copy()"
      ]
    },
    {
      "cell_type": "code",
      "execution_count": null,
      "metadata": {
        "id": "lGu3hvF6jv-x",
        "outputId": "7f70d237-8788-45bc-910c-679c57c66185",
        "colab": {
          "base_uri": "https://localhost:8080/"
        }
      },
      "outputs": [
        {
          "output_type": "stream",
          "name": "stdout",
          "text": [
            "[1 4 9]\n"
          ]
        }
      ],
      "source": [
        "a = np.diag(matrix)\n",
        "print(a)"
      ]
    },
    {
      "cell_type": "code",
      "execution_count": null,
      "metadata": {
        "id": "zH5uG0XXjv-x",
        "outputId": "e9b80b29-4297-4371-8326-1452113f5346",
        "colab": {
          "base_uri": "https://localhost:8080/"
        }
      },
      "outputs": [
        {
          "output_type": "execute_result",
          "data": {
            "text/plain": [
              "array([[1, 0, 0],\n",
              "       [0, 4, 0],\n",
              "       [0, 0, 9]])"
            ]
          },
          "metadata": {},
          "execution_count": 13
        }
      ],
      "source": [
        "# 1차원 배열이 주어지면 2차원 대각행렬을 만듭니다.\n",
        "np.diag(a)"
      ]
    },
    {
      "cell_type": "markdown",
      "metadata": {
        "id": "az9Wepl1jv-x"
      },
      "source": [
        "## 2.4 행렬의 대각합(trace) 계산"
      ]
    },
    {
      "cell_type": "code",
      "execution_count": null,
      "metadata": {
        "id": "h6EDGpO0jv-x",
        "outputId": "b993cd42-61d8-4801-bd27-6e06cf7136eb",
        "colab": {
          "base_uri": "https://localhost:8080/"
        }
      },
      "outputs": [
        {
          "output_type": "execute_result",
          "data": {
            "text/plain": [
              "14"
            ]
          },
          "metadata": {},
          "execution_count": 14
        }
      ],
      "source": [
        "# 라이브러리를 임포트합니다.\n",
        "import numpy as np\n",
        "\n",
        "# 행렬을 만듭니다.\n",
        "matrix = np.array([[1, 2, 3],\n",
        "                   [2, 4, 6],\n",
        "                   [3, 8, 9]])\n",
        "\n",
        "# 대각합을 반환합니다.\n",
        "matrix.trace()"
      ]
    },
    {
      "cell_type": "code",
      "execution_count": null,
      "metadata": {
        "id": "o6QQTun8jv-x",
        "outputId": "59c0a806-aca1-4aa9-879b-ae7289b58e3a",
        "colab": {
          "base_uri": "https://localhost:8080/"
        }
      },
      "outputs": [
        {
          "output_type": "execute_result",
          "data": {
            "text/plain": [
              "14"
            ]
          },
          "metadata": {},
          "execution_count": 15
        }
      ],
      "source": [
        "# 대각 원소를 사용하여 합을 구합니다.\n",
        "sum(matrix.diagonal())"
      ]
    },
    {
      "cell_type": "markdown",
      "metadata": {
        "id": "G_FyImn7jv-y"
      },
      "source": [
        "## 2.5 점곱 계산"
      ]
    },
    {
      "cell_type": "code",
      "execution_count": null,
      "metadata": {
        "id": "-kSsTQ0Wjv-y",
        "outputId": "537fa055-986b-4f29-8afb-98cdffcbedad",
        "colab": {
          "base_uri": "https://localhost:8080/"
        }
      },
      "outputs": [
        {
          "output_type": "execute_result",
          "data": {
            "text/plain": [
              "32"
            ]
          },
          "metadata": {},
          "execution_count": 17
        }
      ],
      "source": [
        "# 라이브러리를 임포트합니다.\n",
        "import numpy as np\n",
        "\n",
        "# 두 벡터를 만듭니다.\n",
        "vector_a = np.array([1,2,3])\n",
        "vector_b = np.array([4,5,6])\n",
        "\n",
        "# 점곱을 계산합니다.\n",
        "np.dot(vector_a, vector_b)"
      ]
    },
    {
      "cell_type": "markdown",
      "metadata": {
        "id": "Ku8TogjWjv-z"
      },
      "source": [
        "### 붙임"
      ]
    },
    {
      "cell_type": "code",
      "execution_count": null,
      "metadata": {
        "id": "A8ezCfaVjv-z"
      },
      "outputs": [],
      "source": [
        "scalar_a = np.array(1)\n",
        "scalar_b = np.array(2)"
      ]
    },
    {
      "cell_type": "code",
      "execution_count": null,
      "metadata": {
        "id": "v7ZE57gVjv-z",
        "outputId": "9bdc766d-dab4-4b79-9f8b-4ff2d5358863",
        "colab": {
          "base_uri": "https://localhost:8080/"
        }
      },
      "outputs": [
        {
          "output_type": "execute_result",
          "data": {
            "text/plain": [
              "2"
            ]
          },
          "metadata": {},
          "execution_count": 19
        }
      ],
      "source": [
        "np.dot(scalar_a, scalar_b)"
      ]
    },
    {
      "cell_type": "code",
      "execution_count": null,
      "metadata": {
        "scrolled": false,
        "id": "XdoXw88Njv-z",
        "outputId": "217a56b1-d8f6-4a6b-f824-f887bdcd622b"
      },
      "outputs": [
        {
          "ename": "ValueError",
          "evalue": "matmul: Input operand 0 does not have enough dimensions (has 0, gufunc core with signature (n?,k),(k,m?)->(n?,m?) requires 1)",
          "output_type": "error",
          "traceback": [
            "\u001b[0;31m---------------------------------------------------------------------------\u001b[0m",
            "\u001b[0;31mValueError\u001b[0m                                Traceback (most recent call last)",
            "\u001b[0;32m<ipython-input-94-36d968e1a1af>\u001b[0m in \u001b[0;36m<module>\u001b[0;34m\u001b[0m\n\u001b[1;32m      1\u001b[0m \u001b[0;31m# 스칼라 배열에 적용되지 않습니다.\u001b[0m\u001b[0;34m\u001b[0m\u001b[0;34m\u001b[0m\u001b[0;34m\u001b[0m\u001b[0m\n\u001b[0;32m----> 2\u001b[0;31m \u001b[0mscalar_a\u001b[0m \u001b[0;34m@\u001b[0m \u001b[0mscalar_b\u001b[0m\u001b[0;34m\u001b[0m\u001b[0;34m\u001b[0m\u001b[0m\n\u001b[0m",
            "\u001b[0;31mValueError\u001b[0m: matmul: Input operand 0 does not have enough dimensions (has 0, gufunc core with signature (n?,k),(k,m?)->(n?,m?) requires 1)"
          ]
        }
      ],
      "source": [
        "# 스칼라 배열에 적용되지 않습니다.\n",
        "scalar_a @ scalar_b"
      ]
    },
    {
      "cell_type": "markdown",
      "metadata": {
        "id": "3Hn9ma4cjv-z"
      },
      "source": [
        "## 2.6 행렬 덧셈과 뺄셈"
      ]
    },
    {
      "cell_type": "code",
      "execution_count": null,
      "metadata": {
        "id": "OZSh-pnjjv-z",
        "outputId": "988ca4a2-9d77-40ca-878b-7f0a8e9f3737",
        "colab": {
          "base_uri": "https://localhost:8080/"
        }
      },
      "outputs": [
        {
          "output_type": "execute_result",
          "data": {
            "text/plain": [
              "array([[ 2,  4,  2],\n",
              "       [ 2,  4,  2],\n",
              "       [ 2,  4, 10]])"
            ]
          },
          "metadata": {},
          "execution_count": 20
        }
      ],
      "source": [
        "# 라이브러리를 임포트합니다.\n",
        "import numpy as np\n",
        "\n",
        "# 행렬을 만듭니다.\n",
        "matrix_a = np.array([[1, 1, 1],\n",
        "                     [1, 1, 1],\n",
        "                     [1, 1, 2]])\n",
        "\n",
        "# 행렬을 만듭니다.\n",
        "matrix_b = np.array([[1, 3, 1],\n",
        "                     [1, 3, 1],\n",
        "                     [1, 3, 8]])\n",
        "\n",
        "# 두 행렬을 더합니다.\n",
        "np.add(matrix_a, matrix_b)"
      ]
    },
    {
      "cell_type": "code",
      "execution_count": null,
      "metadata": {
        "id": "PBk9Z4Xvjv-0",
        "outputId": "1d25ba8f-9e03-44ce-909c-2fb7310fe972",
        "colab": {
          "base_uri": "https://localhost:8080/"
        }
      },
      "outputs": [
        {
          "output_type": "execute_result",
          "data": {
            "text/plain": [
              "array([[ 0, -2,  0],\n",
              "       [ 0, -2,  0],\n",
              "       [ 0, -2, -6]])"
            ]
          },
          "metadata": {},
          "execution_count": 21
        }
      ],
      "source": [
        "# 두 행렬을 뺍니다.\n",
        "np.subtract(matrix_a, matrix_b)"
      ]
    },
    {
      "cell_type": "code",
      "execution_count": null,
      "metadata": {
        "id": "hQK-oxOojv-0",
        "outputId": "6102639f-a5d9-470f-c229-2fe9756f6dd3",
        "colab": {
          "base_uri": "https://localhost:8080/"
        }
      },
      "outputs": [
        {
          "output_type": "execute_result",
          "data": {
            "text/plain": [
              "array([[ 2,  4,  2],\n",
              "       [ 2,  4,  2],\n",
              "       [ 2,  4, 10]])"
            ]
          },
          "metadata": {},
          "execution_count": 22
        }
      ],
      "source": [
        "# 두 행렬을 더합니다.\n",
        "matrix_a + matrix_b"
      ]
    },
    {
      "cell_type": "markdown",
      "metadata": {
        "id": "KsiFeQkRjv-0"
      },
      "source": [
        "## 2.7 행렬 곱셈"
      ]
    },
    {
      "cell_type": "code",
      "execution_count": null,
      "metadata": {
        "id": "xsgIHJCMjv-0",
        "outputId": "72fee2c0-d8c0-4eae-a2ee-95ea1caad978",
        "colab": {
          "base_uri": "https://localhost:8080/"
        }
      },
      "outputs": [
        {
          "output_type": "execute_result",
          "data": {
            "text/plain": [
              "array([[2, 5],\n",
              "       [3, 7]])"
            ]
          },
          "metadata": {},
          "execution_count": 23
        }
      ],
      "source": [
        "# 라이브러리를 임포트합니다.\n",
        "import numpy as np\n",
        "\n",
        "# 행렬을 만듭니다.\n",
        "matrix_a = np.array([[1, 1],\n",
        "                     [1, 2]])\n",
        "\n",
        "# 행렬을 만듭니다.\n",
        "matrix_b = np.array([[1, 3],\n",
        "                     [1, 2]])\n",
        "\n",
        "# 두 행렬을 곱합니다.\n",
        "np.dot(matrix_a, matrix_b)"
      ]
    },
    {
      "cell_type": "code",
      "execution_count": null,
      "metadata": {
        "id": "5OI33K7Tjv-1",
        "outputId": "a190ac77-3aa3-4418-bde8-7ddbdc0e3a08",
        "colab": {
          "base_uri": "https://localhost:8080/"
        }
      },
      "outputs": [
        {
          "output_type": "execute_result",
          "data": {
            "text/plain": [
              "array([[2, 5],\n",
              "       [3, 7]])"
            ]
          },
          "metadata": {},
          "execution_count": 24
        }
      ],
      "source": [
        "# 두 행렬을 곱합니다.\n",
        "matrix_a @ matrix_b"
      ]
    },
    {
      "cell_type": "code",
      "execution_count": null,
      "metadata": {
        "id": "NKpkqfzkjv-1",
        "outputId": "c1742ef7-71b7-4558-8f29-0bdf2e8287f5",
        "colab": {
          "base_uri": "https://localhost:8080/"
        }
      },
      "outputs": [
        {
          "output_type": "execute_result",
          "data": {
            "text/plain": [
              "array([[1, 3],\n",
              "       [1, 4]])"
            ]
          },
          "metadata": {},
          "execution_count": 25
        }
      ],
      "source": [
        "# 두 행렬의 원소별 곱셈을 수행합니다.\n",
        "matrix_a * matrix_b"
      ]
    },
    {
      "cell_type": "markdown",
      "metadata": {
        "id": "4JQ2-vttjv-2"
      },
      "source": [
        "## 2.8 역행렬 구하기, 연립방정식 풀기"
      ]
    },
    {
      "cell_type": "code",
      "execution_count": null,
      "metadata": {
        "id": "mYAC460Rjv-2",
        "outputId": "3cedb053-e8fa-4386-cd51-d3bc0b9a272d",
        "colab": {
          "base_uri": "https://localhost:8080/"
        }
      },
      "outputs": [
        {
          "output_type": "execute_result",
          "data": {
            "text/plain": [
              "array([[1, 3, 5],\n",
              "       [2, 5, 1],\n",
              "       [2, 3, 8]])"
            ]
          },
          "metadata": {},
          "execution_count": 28
        }
      ],
      "source": [
        "import numpy as np\n",
        "from scipy import linalg\n",
        "A = np.array([[1,3,5],[2,5,1],[2,3,8]])\n",
        "A"
      ]
    },
    {
      "cell_type": "code",
      "execution_count": null,
      "metadata": {
        "id": "MxCbpiRWjv-2",
        "outputId": "2620b0c4-62b6-4c97-d002-a8203dd2185b",
        "colab": {
          "base_uri": "https://localhost:8080/"
        }
      },
      "outputs": [
        {
          "output_type": "execute_result",
          "data": {
            "text/plain": [
              "array([[-1.48,  0.36,  0.88],\n",
              "       [ 0.56,  0.08, -0.36],\n",
              "       [ 0.16, -0.12,  0.04]])"
            ]
          },
          "metadata": {},
          "execution_count": 29
        }
      ],
      "source": [
        "linalg.inv(A)"
      ]
    },
    {
      "cell_type": "code",
      "execution_count": null,
      "metadata": {
        "id": "QuuLexdWjv-2",
        "outputId": "8db1770d-fb64-488c-c0ac-fe21f9e7dc88",
        "colab": {
          "base_uri": "https://localhost:8080/"
        }
      },
      "outputs": [
        {
          "output_type": "execute_result",
          "data": {
            "text/plain": [
              "array([[ 1.00000000e+00, -1.11022302e-16,  4.85722573e-17],\n",
              "       [ 3.05311332e-16,  1.00000000e+00,  7.63278329e-17],\n",
              "       [ 2.22044605e-16, -1.11022302e-16,  1.00000000e+00]])"
            ]
          },
          "metadata": {},
          "execution_count": 30
        }
      ],
      "source": [
        "A.dot(linalg.inv(A)) #double check"
      ]
    },
    {
      "cell_type": "code",
      "execution_count": null,
      "metadata": {
        "id": "ajdT5UNOjv-2",
        "outputId": "2b84e6cf-a857-4a6f-f7c0-5805a795c35a",
        "colab": {
          "base_uri": "https://localhost:8080/"
        }
      },
      "outputs": [
        {
          "output_type": "execute_result",
          "data": {
            "text/plain": [
              "array([[ 1.00000000e+00,  1.11022302e-16, -6.24500451e-17],\n",
              "       [-1.38777878e-16,  1.00000000e+00, -1.45716772e-16],\n",
              "       [-2.22044605e-16,  0.00000000e+00,  1.00000000e+00]])"
            ]
          },
          "metadata": {},
          "execution_count": 31
        }
      ],
      "source": [
        "# 행렬과 역행렬을 곱합니다.\n",
        "A @ np.linalg.inv(A)"
      ]
    },
    {
      "cell_type": "code",
      "execution_count": null,
      "metadata": {
        "id": "zH71REy9jv-3",
        "outputId": "e38c7d5a-2d88-43fc-ec21-c9b161aa84e6",
        "colab": {
          "base_uri": "https://localhost:8080/"
        }
      },
      "outputs": [
        {
          "output_type": "execute_result",
          "data": {
            "text/plain": [
              "array([[10],\n",
              "       [ 8],\n",
              "       [ 3]])"
            ]
          },
          "metadata": {},
          "execution_count": 32
        }
      ],
      "source": [
        "b = np.array([[10], [8], [3]])\n",
        "b"
      ]
    },
    {
      "cell_type": "code",
      "execution_count": null,
      "metadata": {
        "id": "IcYPe3H1jv-3",
        "outputId": "4b1d7c54-9b6e-4101-d2b4-a483241b9c22",
        "colab": {
          "base_uri": "https://localhost:8080/"
        }
      },
      "outputs": [
        {
          "output_type": "execute_result",
          "data": {
            "text/plain": [
              "array([[-9.28],\n",
              "       [ 5.16],\n",
              "       [ 0.76]])"
            ]
          },
          "metadata": {},
          "execution_count": 33
        }
      ],
      "source": [
        "linalg.inv(A).dot(b)"
      ]
    },
    {
      "cell_type": "code",
      "execution_count": null,
      "metadata": {
        "id": "ehHHWXXKjv-3",
        "outputId": "9b37062e-821b-4ca5-e634-97ad1520b389",
        "colab": {
          "base_uri": "https://localhost:8080/"
        }
      },
      "outputs": [
        {
          "output_type": "execute_result",
          "data": {
            "text/plain": [
              "array([[ 0.00000000e+00],\n",
              "       [-1.77635684e-15],\n",
              "       [-8.88178420e-16]])"
            ]
          },
          "metadata": {},
          "execution_count": 34
        }
      ],
      "source": [
        "A.dot(linalg.inv(A).dot(b)) - b  # check"
      ]
    },
    {
      "cell_type": "code",
      "execution_count": null,
      "metadata": {
        "id": "rxw9oRh8jv-3",
        "outputId": "fb13ca39-6c46-479b-dc20-9d3d5b534c04"
      },
      "outputs": [
        {
          "data": {
            "text/plain": [
              "array([[-9.28],\n",
              "       [ 5.16],\n",
              "       [ 0.76]])"
            ]
          },
          "execution_count": 61,
          "metadata": {},
          "output_type": "execute_result"
        }
      ],
      "source": [
        "np.linalg.solve(A, b)  # fast"
      ]
    },
    {
      "cell_type": "markdown",
      "metadata": {
        "id": "UY2lar6xjv-6"
      },
      "source": [
        "## 2.9 Eigenvalues and eigenvectors & SVD"
      ]
    },
    {
      "cell_type": "code",
      "execution_count": null,
      "metadata": {
        "id": "zOCnIE5Ojv-6",
        "outputId": "b1d6d787-81e7-458a-8395-024918a5cfa3",
        "colab": {
          "base_uri": "https://localhost:8080/"
        }
      },
      "outputs": [
        {
          "output_type": "stream",
          "name": "stdout",
          "text": [
            "(7.957916204910748+0j) (-1.2576647056775332+0j) (0.2997485007667829+0j)\n"
          ]
        }
      ],
      "source": [
        "import numpy as np\n",
        "from scipy import linalg\n",
        "A = np.array([[1, 5, 2], [2, 4, 1], [3, 6, 2]])\n",
        "la, v = linalg.eig(A)\n",
        "l1, l2, l3 = la\n",
        "print(l1,l2,l3)"
      ]
    },
    {
      "cell_type": "code",
      "execution_count": null,
      "metadata": {
        "id": "Njh7oWDhjv-7",
        "outputId": "8f451386-585c-4fcf-fddc-bef9dc5976f5",
        "colab": {
          "base_uri": "https://localhost:8080/"
        }
      },
      "outputs": [
        {
          "output_type": "stream",
          "name": "stdout",
          "text": [
            "[-0.5297175  -0.44941741 -0.71932146]\n",
            "[-0.90730751  0.28662547  0.30763439]\n",
            "[ 0.28380519 -0.39012063  0.87593408]\n"
          ]
        }
      ],
      "source": [
        "print(v[:, 0]) \n",
        "print(v[:, 1]) \n",
        "print(v[:, 2]) "
      ]
    },
    {
      "cell_type": "code",
      "execution_count": null,
      "metadata": {
        "id": "0mYo48E9jv-7",
        "outputId": "f6724c62-b019-4879-a08f-f310293f4d72",
        "colab": {
          "base_uri": "https://localhost:8080/"
        }
      },
      "outputs": [
        {
          "output_type": "execute_result",
          "data": {
            "text/plain": [
              "array([[1, 2, 3],\n",
              "       [4, 5, 6]])"
            ]
          },
          "metadata": {},
          "execution_count": 38
        }
      ],
      "source": [
        "import numpy as np\n",
        "from scipy import linalg\n",
        "A = np.array([[1,2,3],[4,5,6]])\n",
        "A"
      ]
    },
    {
      "cell_type": "code",
      "execution_count": null,
      "metadata": {
        "id": "wWqusTrljv-7",
        "outputId": "fe5bcae6-d57d-48e0-c1ac-57db3b9e0e64",
        "colab": {
          "base_uri": "https://localhost:8080/"
        }
      },
      "outputs": [
        {
          "output_type": "execute_result",
          "data": {
            "text/plain": [
              "((2, 2), (2,), (3, 3))"
            ]
          },
          "metadata": {},
          "execution_count": 39
        }
      ],
      "source": [
        "M,N = A.shape\n",
        "U,s,Vh = linalg.svd(A)\n",
        "Sig = linalg.diagsvd(s,M,N)\n",
        "U.shape,  s.shape, Vh.shape"
      ]
    },
    {
      "cell_type": "code",
      "execution_count": null,
      "metadata": {
        "id": "63zzFSM0jv-8",
        "outputId": "f211b8f1-3725-4b12-e6da-76ba13134077",
        "colab": {
          "base_uri": "https://localhost:8080/"
        }
      },
      "outputs": [
        {
          "output_type": "execute_result",
          "data": {
            "text/plain": [
              "array([[-0.3863177 , -0.92236578],\n",
              "       [-0.92236578,  0.3863177 ]])"
            ]
          },
          "metadata": {},
          "execution_count": 40
        }
      ],
      "source": [
        "U"
      ]
    },
    {
      "cell_type": "code",
      "execution_count": null,
      "metadata": {
        "id": "OLzkryUtjv-8",
        "outputId": "25a2a449-bdd0-445d-bdb7-dfe437b87b63",
        "colab": {
          "base_uri": "https://localhost:8080/"
        }
      },
      "outputs": [
        {
          "output_type": "execute_result",
          "data": {
            "text/plain": [
              "array([[9.508032  , 0.        , 0.        ],\n",
              "       [0.        , 0.77286964, 0.        ]])"
            ]
          },
          "metadata": {},
          "execution_count": 41
        }
      ],
      "source": [
        "Sig"
      ]
    },
    {
      "cell_type": "code",
      "execution_count": null,
      "metadata": {
        "id": "aALEXD7ajv-8",
        "outputId": "26bef282-5817-4909-f622-98626a0a733e",
        "colab": {
          "base_uri": "https://localhost:8080/"
        }
      },
      "outputs": [
        {
          "output_type": "execute_result",
          "data": {
            "text/plain": [
              "array([[-0.42866713, -0.56630692, -0.7039467 ],\n",
              "       [ 0.80596391,  0.11238241, -0.58119908],\n",
              "       [ 0.40824829, -0.81649658,  0.40824829]])"
            ]
          },
          "metadata": {},
          "execution_count": 42
        }
      ],
      "source": [
        "Vh"
      ]
    },
    {
      "cell_type": "code",
      "execution_count": null,
      "metadata": {
        "id": "XLHjpIG4jv-8",
        "outputId": "9d3e5a72-79c8-4941-95a4-7d8e7fb8a0c5",
        "colab": {
          "base_uri": "https://localhost:8080/"
        }
      },
      "outputs": [
        {
          "output_type": "execute_result",
          "data": {
            "text/plain": [
              "array([[1., 2., 3.],\n",
              "       [4., 5., 6.]])"
            ]
          },
          "metadata": {},
          "execution_count": 43
        }
      ],
      "source": [
        "U.dot(Sig.dot(Vh)) #check computation"
      ]
    },
    {
      "cell_type": "markdown",
      "metadata": {
        "id": "2uKDjJEwjv-9"
      },
      "source": [
        "## 2.10 난수 생성"
      ]
    },
    {
      "cell_type": "code",
      "execution_count": null,
      "metadata": {
        "id": "wj1irU9qjv-9",
        "outputId": "c76b3610-ebe1-4d54-8adc-8fd77e6dbeb5"
      },
      "outputs": [
        {
          "data": {
            "text/plain": [
              "array([0.5488135 , 0.71518937, 0.60276338])"
            ]
          },
          "execution_count": 106,
          "metadata": {},
          "output_type": "execute_result"
        }
      ],
      "source": [
        "# 라이브러리를 임포트합니다.\n",
        "import numpy as np\n",
        "\n",
        "# 초깃값을 지정합니다.\n",
        "np.random.seed(0)\n",
        "\n",
        "# 0.0과 1.0 사이에서 세 개의 실수 난수를 생성합니다.\n",
        "np.random.random(3)"
      ]
    },
    {
      "cell_type": "code",
      "execution_count": null,
      "metadata": {
        "id": "uXYhWNR8jv-9",
        "outputId": "c70733c9-0c5b-488c-858f-039737c65d12"
      },
      "outputs": [
        {
          "data": {
            "text/plain": [
              "array([3, 7, 9])"
            ]
          },
          "execution_count": 107,
          "metadata": {},
          "output_type": "execute_result"
        }
      ],
      "source": [
        "# 1과 10 사이에서 세 개의 정수 난수를 생성합니다.\n",
        "np.random.randint(0, 11, 3)"
      ]
    },
    {
      "cell_type": "code",
      "execution_count": null,
      "metadata": {
        "id": "yyHVStv-jv--",
        "outputId": "8fd752cf-b1e2-4637-a3f8-8fe26409387f"
      },
      "outputs": [
        {
          "data": {
            "text/plain": [
              "array([-1.42232584,  1.52006949, -0.29139398])"
            ]
          },
          "execution_count": 108,
          "metadata": {},
          "output_type": "execute_result"
        }
      ],
      "source": [
        "# 평균이 0.0이고 표준 편차가 1.0인 정규 분포에서 세 개의 수를 뽑습니다.\n",
        "np.random.normal(0.0, 1.0, 3)"
      ]
    },
    {
      "cell_type": "code",
      "execution_count": null,
      "metadata": {
        "id": "w62TzmSajv--",
        "outputId": "5de9e85d-5881-4701-b2b5-4cc92d84ce36"
      },
      "outputs": [
        {
          "data": {
            "text/plain": [
              "array([-0.98118713, -0.08939902,  1.46416405])"
            ]
          },
          "execution_count": 109,
          "metadata": {},
          "output_type": "execute_result"
        }
      ],
      "source": [
        "# 평균이 0.0이고 스케일이 1.0인 로지스틱 분포에서 세 개의 수를 뽑습니다.\n",
        "np.random.logistic(0.0, 1.0, 3)"
      ]
    },
    {
      "cell_type": "code",
      "execution_count": null,
      "metadata": {
        "id": "OuuMpTxwjv--",
        "outputId": "7ec3e2ce-0f0c-46a5-c157-3079920da0f6"
      },
      "outputs": [
        {
          "data": {
            "text/plain": [
              "array([1.47997717, 1.3927848 , 1.83607876])"
            ]
          },
          "execution_count": 110,
          "metadata": {},
          "output_type": "execute_result"
        }
      ],
      "source": [
        "# 1.0보다 크거나 같고 2.0보다 작은 세 개의 수를 뽑습니다.\n",
        "np.random.uniform(1.0, 2.0, 3)"
      ]
    },
    {
      "cell_type": "markdown",
      "metadata": {
        "id": "YI0Y6BMfjv-_"
      },
      "source": [
        "### 붙임"
      ]
    },
    {
      "cell_type": "code",
      "execution_count": null,
      "metadata": {
        "id": "xD75KYjfjv-_",
        "outputId": "2335dee4-0537-4de7-d87c-c6714948f3ec"
      },
      "outputs": [
        {
          "data": {
            "text/plain": [
              "array([[0.33739616, 0.64817187, 0.36824154],\n",
              "       [0.95715516, 0.14035078, 0.87008726]])"
            ]
          },
          "execution_count": 111,
          "metadata": {},
          "output_type": "execute_result"
        }
      ],
      "source": [
        "# 0.0(포함)과 1.0 사이에서 세 개의 실수 난수를 생성합니다.\n",
        "# np.random.random((2, 3)), np.random.sample((2, 3)), \n",
        "# np.random.uniform(0.0, 1.0, (2, 3))과 동일합니다.\n",
        "np.random.random_sample((2, 3))"
      ]
    },
    {
      "cell_type": "code",
      "execution_count": null,
      "metadata": {
        "id": "2-jOJhNojv-_",
        "outputId": "aeafa517-e734-4379-eb5a-3ae9fc8fae83"
      },
      "outputs": [
        {
          "data": {
            "text/plain": [
              "array([[0.47360805, 0.80091075, 0.52047748],\n",
              "       [0.67887953, 0.72063265, 0.58201979]])"
            ]
          },
          "execution_count": 112,
          "metadata": {},
          "output_type": "execute_result"
        }
      ],
      "source": [
        "# np.random.random_sample((2, 3))과 동일합니다.\n",
        "np.random.rand(2, 3)"
      ]
    },
    {
      "cell_type": "code",
      "execution_count": null,
      "metadata": {
        "id": "mgGN6ZC4jv-_",
        "outputId": "c79af5ae-7586-454d-f6f4-e4391013b41f"
      },
      "outputs": [
        {
          "data": {
            "text/plain": [
              "array([0, 0, 0, 0, 0, 0, 0, 0, 0, 0])"
            ]
          },
          "execution_count": 113,
          "metadata": {},
          "output_type": "execute_result"
        }
      ],
      "source": [
        "np.random.randint(0, 1, 10)"
      ]
    },
    {
      "cell_type": "code",
      "execution_count": null,
      "metadata": {
        "id": "F1yKhVBPjv-_",
        "outputId": "2322396c-502e-495f-e67c-0d11d902401f"
      },
      "outputs": [
        {
          "data": {
            "text/plain": [
              "array([[-0.13309028,  1.59456053,  0.23043417],\n",
              "       [-0.06491034, -0.96898025,  0.59124281]])"
            ]
          },
          "execution_count": 114,
          "metadata": {},
          "output_type": "execute_result"
        }
      ],
      "source": [
        "# np.random.normal(0.0, 1.0, (2, 3))과 동일합니다.\n",
        "np.random.standard_normal((2, 3))"
      ]
    },
    {
      "cell_type": "code",
      "execution_count": null,
      "metadata": {
        "id": "lVceTSpKjv_A",
        "outputId": "235acfa1-ca76-4091-a627-3301ac0750fd"
      },
      "outputs": [
        {
          "data": {
            "text/plain": [
              "array([[-0.7827755 , -0.44423283, -0.34518616],\n",
              "       [-0.88180055, -0.44265324, -0.5409163 ]])"
            ]
          },
          "execution_count": 115,
          "metadata": {},
          "output_type": "execute_result"
        }
      ],
      "source": [
        "# np.random.normal(0.0, 1.0, (2, 3))과 동일합니다.\n",
        "np.random.randn(2, 3)"
      ]
    },
    {
      "cell_type": "code",
      "execution_count": null,
      "metadata": {
        "id": "Vfh0Obumjv_A",
        "outputId": "8a826a35-6828-45d9-be8d-54c83c863991"
      },
      "outputs": [
        {
          "data": {
            "text/plain": [
              "array([0, 1, 2, 2, 0])"
            ]
          },
          "execution_count": 116,
          "metadata": {},
          "output_type": "execute_result"
        }
      ],
      "source": [
        "# 0~2 사이의 정수 중 랜덤하게 10번을 뽑습니다.\n",
        "# np.random.choice(3, 5)와 동일합니다.\n",
        "np.random.choice([0,1,2], 5)"
      ]
    },
    {
      "cell_type": "code",
      "execution_count": null,
      "metadata": {
        "id": "JBlCD5F7jv_A",
        "outputId": "19a366a1-9624-4abf-e942-177b7974cea2"
      },
      "outputs": [
        {
          "data": {
            "text/plain": [
              "array([0, 2, 3, 4, 1])"
            ]
          },
          "execution_count": 117,
          "metadata": {},
          "output_type": "execute_result"
        }
      ],
      "source": [
        "a = np.array([0, 1, 2, 3, 4])\n",
        "np.random.shuffle(a)\n",
        "a"
      ]
    },
    {
      "cell_type": "code",
      "execution_count": null,
      "metadata": {
        "id": "QBvMyJI9jv_A",
        "outputId": "18fbfc1c-7895-4832-bacb-a5f791029f7f"
      },
      "outputs": [
        {
          "data": {
            "text/plain": [
              "array([2, 0, 1, 3, 4])"
            ]
          },
          "execution_count": 118,
          "metadata": {},
          "output_type": "execute_result"
        }
      ],
      "source": [
        "# a는 변경되지 않습니다.\n",
        "np.random.permutation(a)"
      ]
    },
    {
      "cell_type": "code",
      "execution_count": null,
      "metadata": {
        "id": "xMDkyq6wjv_A",
        "outputId": "3778baf5-66d3-4f05-f31b-53bb2b90a935"
      },
      "outputs": [
        {
          "data": {
            "text/plain": [
              "array([4, 1, 2, 0, 3])"
            ]
          },
          "execution_count": 119,
          "metadata": {},
          "output_type": "execute_result"
        }
      ],
      "source": [
        "np.random.permutation(5)"
      ]
    }
  ],
  "metadata": {
    "kernelspec": {
      "display_name": "Python 3",
      "language": "python",
      "name": "python3"
    },
    "language_info": {
      "codemirror_mode": {
        "name": "ipython",
        "version": 3
      },
      "file_extension": ".py",
      "mimetype": "text/x-python",
      "name": "python",
      "nbconvert_exporter": "python",
      "pygments_lexer": "ipython3",
      "version": "3.8.3"
    },
    "colab": {
      "name": "5_1.Matrix Computation.ipynb",
      "provenance": []
    }
  },
  "nbformat": 4,
  "nbformat_minor": 0
}