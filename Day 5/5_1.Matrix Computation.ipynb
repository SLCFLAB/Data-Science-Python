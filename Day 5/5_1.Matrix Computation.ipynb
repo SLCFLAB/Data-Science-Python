{
  "cells": [
    {
   "cell_type": "markdown",
   "id": "e8ea7aca",
   "metadata": {},
   "source": [
    "<a href=\"https://colab.research.google.com/github/SLCFLAB/Data-Science-Python/blob/main/Day%201/5_1.%20Matrix%20Computation.ipynb\" target=\"_parent\"><img src=\"https://colab.research.google.com/assets/colab-badge.svg\" alt=\"Open In Colab\"/></a>"
   ]
  },
    {
      "cell_type": "markdown",
      "metadata": {
        "id": "17kXJzbRkIjs"
      },
      "source": [
        "# 1장 Matrix Computation"
      ]
    },
    {
      "cell_type": "markdown",
      "metadata": {
        "id": "ujSPerl6kIjv"
      },
      "source": [
        "# 1절 벡터, 행렬"
      ]
    },
    {
      "cell_type": "markdown",
      "metadata": {
        "id": "-g2AmcRmkIjw"
      },
      "source": [
        "#### 코드 출처 \n",
        "[1] https://github.com/rickiepark/machine-learning-with-python-cookbook\n",
        "[2] https://docs.scipy.org/doc/scipy/reference/tutorial/linalg.html https://colab.research.google.com/github/SLCFLAB/Math4DS/blob/main"
      ]
    },
    {
      "cell_type": "markdown",
      "metadata": {
        "id": "ky2nt0MCkIjw"
      },
      "source": [
        "## 1.1 벡터 만들기"
      ]
    },
    {
      "cell_type": "code",
      "execution_count": null,
      "metadata": {
        "id": "qAqH4-hAkIjw"
      },
      "outputs": [],
      "source": [
        "# 라이브러리를 임포트합니다.\n",
        "import numpy as np"
      ]
    },
    {
      "cell_type": "code",
      "execution_count": null,
      "metadata": {
        "id": "zvNfYBsJkIjx",
        "outputId": "6d0a06ac-19cc-4403-ebfb-ac878eba7238"
      },
      "outputs": [
        {
          "data": {
            "text/plain": [
              "'1.18.5'"
            ]
          },
          "execution_count": 2,
          "metadata": {},
          "output_type": "execute_result"
        }
      ],
      "source": [
        "np.__version__"
      ]
    },
    {
      "cell_type": "code",
      "execution_count": null,
      "metadata": {
        "id": "2PIfuDyZkIjy"
      },
      "outputs": [],
      "source": [
        "# 하나의 행으로 벡터를 만듭니다.\n",
        "vector_row = np.array([1, 2, 3])"
      ]
    },
    {
      "cell_type": "code",
      "execution_count": null,
      "metadata": {
        "id": "o6Lc8CD5kIjz",
        "outputId": "28ab453d-ca9a-428f-8349-f445d3418cac"
      },
      "outputs": [
        {
          "data": {
            "text/plain": [
              "array([1, 2, 3])"
            ]
          },
          "execution_count": 4,
          "metadata": {},
          "output_type": "execute_result"
        }
      ],
      "source": [
        "vector_row"
      ]
    },
    {
      "cell_type": "code",
      "execution_count": null,
      "metadata": {
        "id": "kjNkyEgBkIjz"
      },
      "outputs": [],
      "source": [
        "# 하나의 열로 벡터를 만듭니다.\n",
        "vector_column = np.array([[1],\n",
        "                          [2],\n",
        "                          [3]])"
      ]
    },
    {
      "cell_type": "code",
      "execution_count": null,
      "metadata": {
        "id": "DGAAJN0IkIj0",
        "outputId": "011bad7d-8593-48a3-fb86-a6c05731b30b"
      },
      "outputs": [
        {
          "data": {
            "text/plain": [
              "array([[1],\n",
              "       [2],\n",
              "       [3]])"
            ]
          },
          "execution_count": 6,
          "metadata": {},
          "output_type": "execute_result"
        }
      ],
      "source": [
        "vector_column"
      ]
    },
    {
      "cell_type": "markdown",
      "metadata": {
        "id": "nANPcg9ZkIj0"
      },
      "source": [
        "### 불임"
      ]
    },
    {
      "cell_type": "code",
      "execution_count": null,
      "metadata": {
        "id": "k9qx9B1rkIj1",
        "outputId": "b3b01bfc-e75e-4b56-8645-c8e26bd47929"
      },
      "outputs": [
        {
          "name": "stdout",
          "output_type": "stream",
          "text": [
            "<class 'numpy.ndarray'>\n"
          ]
        }
      ],
      "source": [
        "# 넘파이 배열의 클래스를 출력합니다.\n",
        "print(type(vector_row))"
      ]
    },
    {
      "cell_type": "code",
      "execution_count": null,
      "metadata": {
        "id": "PImy2SE_kIj1"
      },
      "outputs": [],
      "source": [
        "# ndarray를 사용하는 것은 권장되지 않습니다.\n",
        "bad_way = np.ndarray((3,))"
      ]
    },
    {
      "cell_type": "code",
      "execution_count": null,
      "metadata": {
        "id": "6rqdDT-4kIj1",
        "outputId": "500e325a-9110-4138-b5ff-f96ac1c435df"
      },
      "outputs": [
        {
          "data": {
            "text/plain": [
              "True"
            ]
          },
          "execution_count": 9,
          "metadata": {},
          "output_type": "execute_result"
        }
      ],
      "source": [
        "new_row = np.asarray([1, 2, 3])\n",
        "# asarray()는 새로운 배열을 만들지 않습니다.\n",
        "new_row = np.asarray(vector_row)\n",
        "new_row is vector_row"
      ]
    },
    {
      "cell_type": "code",
      "execution_count": null,
      "metadata": {
        "id": "VsrsN8XnkIj2",
        "outputId": "58bafba0-1866-4e59-8ba3-248b8a569f21"
      },
      "outputs": [
        {
          "data": {
            "text/plain": [
              "False"
            ]
          },
          "execution_count": 10,
          "metadata": {},
          "output_type": "execute_result"
        }
      ],
      "source": [
        "# array()는 배열이 입력되면 새로운 배열을 만듭니다.\n",
        "new_row = np.array(vector_row)\n",
        "new_row is vector_row"
      ]
    },
    {
      "cell_type": "code",
      "execution_count": null,
      "metadata": {
        "id": "qTKk-vvlkIj2",
        "outputId": "8ae6a698-8105-4da3-95aa-bb48d93efc63"
      },
      "outputs": [
        {
          "data": {
            "text/plain": [
              "False"
            ]
          },
          "execution_count": 11,
          "metadata": {},
          "output_type": "execute_result"
        }
      ],
      "source": [
        "# copy() 메서드를 사용하면 의도가 분명해집니다.\n",
        "new_row = vector_row.copy()\n",
        "new_row is vector_row"
      ]
    },
    {
      "cell_type": "markdown",
      "metadata": {
        "id": "krLWuwEqkIj3"
      },
      "source": [
        "## 1.2 행렬 만들기"
      ]
    },
    {
      "cell_type": "code",
      "execution_count": null,
      "metadata": {
        "id": "CIUU8VX3kIj3",
        "outputId": "b2542530-b1eb-4324-b915-02b1381e986f"
      },
      "outputs": [
        {
          "data": {
            "text/plain": [
              "matrix([[1, 2],\n",
              "        [3, 4]])"
            ]
          },
          "execution_count": 40,
          "metadata": {},
          "output_type": "execute_result"
        }
      ],
      "source": [
        "# numpy.matrix is matrix class that has a more convenient interface than numpy.ndarray for matrix operations. \n",
        "# This class supports, MATLAB-like creation syntax via the semicolon, has matrix multiplication as default for the * operator, \n",
        "# and contains I and T members that serve as shortcuts for inverse and transpose:\n",
        "import numpy as np\n",
        "A = np.mat('[1 2;3 4]')\n",
        "A"
      ]
    },
    {
      "cell_type": "code",
      "execution_count": null,
      "metadata": {
        "id": "Mr93lvUTkIj3",
        "outputId": "100a8e6e-e03d-4ad9-b5ad-d2b61dd3ef06"
      },
      "outputs": [
        {
          "data": {
            "text/plain": [
              "matrix([[-2. ,  1. ],\n",
              "        [ 1.5, -0.5]])"
            ]
          },
          "execution_count": 22,
          "metadata": {},
          "output_type": "execute_result"
        }
      ],
      "source": [
        "A.I"
      ]
    },
    {
      "cell_type": "code",
      "execution_count": null,
      "metadata": {
        "id": "5Z3OSxsZkIj4",
        "outputId": "ee77f584-9f7e-4962-f5b1-92ed1d5e38a9"
      },
      "outputs": [
        {
          "data": {
            "text/plain": [
              "matrix([[5, 6]])"
            ]
          },
          "execution_count": 41,
          "metadata": {},
          "output_type": "execute_result"
        }
      ],
      "source": [
        "b = np.mat('[5 6]')\n",
        "b"
      ]
    },
    {
      "cell_type": "code",
      "execution_count": null,
      "metadata": {
        "id": "wI4v6ohykIj4",
        "outputId": "89764cda-5c27-484c-dd6d-a464126744ae"
      },
      "outputs": [
        {
          "data": {
            "text/plain": [
              "matrix([[5],\n",
              "        [6]])"
            ]
          },
          "execution_count": 42,
          "metadata": {},
          "output_type": "execute_result"
        }
      ],
      "source": [
        "b.T"
      ]
    },
    {
      "cell_type": "code",
      "execution_count": null,
      "metadata": {
        "id": "zHLJc8KlkIj4",
        "outputId": "259c723e-4cd4-42de-aec4-b05b0b7191ca"
      },
      "outputs": [
        {
          "data": {
            "text/plain": [
              "matrix([[17],\n",
              "        [39]])"
            ]
          },
          "execution_count": 43,
          "metadata": {},
          "output_type": "execute_result"
        }
      ],
      "source": [
        "A*b.T\n",
        "# the matrix data structure is not recommended for two reasons. \n",
        "# First, arrays are the de facto standard data structure of NumPy. \n",
        "# Second, the vast majority of NumPy operations return arrays, not matrix objects."
      ]
    },
    {
      "cell_type": "markdown",
      "metadata": {
        "id": "NpQw4v7ZkIj4"
      },
      "source": [
        "### the above code can be rewritten as:"
      ]
    },
    {
      "cell_type": "code",
      "execution_count": null,
      "metadata": {
        "id": "4d2ziZr6kIj5",
        "outputId": "cb212558-e45e-45a9-a9a2-484982f624c3"
      },
      "outputs": [
        {
          "data": {
            "text/plain": [
              "array([[1, 2],\n",
              "       [3, 4]])"
            ]
          },
          "execution_count": 27,
          "metadata": {},
          "output_type": "execute_result"
        }
      ],
      "source": [
        "# scipy.linalg operations can be applied equally to numpy.matrix or to 2D numpy.ndarray objects.\n",
        "import numpy as np\n",
        "from scipy import linalg\n",
        "A = np.array([[1,2],[3,4]])\n",
        "A"
      ]
    },
    {
      "cell_type": "code",
      "execution_count": null,
      "metadata": {
        "id": "Z_Uu6dMKkIj5",
        "outputId": "f653b583-d079-4b50-fc65-e0df1de6b666"
      },
      "outputs": [
        {
          "data": {
            "text/plain": [
              "array([[-2. ,  1. ],\n",
              "       [ 1.5, -0.5]])"
            ]
          },
          "execution_count": 28,
          "metadata": {},
          "output_type": "execute_result"
        }
      ],
      "source": [
        "linalg.inv(A)"
      ]
    },
    {
      "cell_type": "code",
      "execution_count": null,
      "metadata": {
        "id": "na3qw86FkIj5",
        "outputId": "9c88584f-589e-4e52-a36f-cd09eac0039a"
      },
      "outputs": [
        {
          "data": {
            "text/plain": [
              "array([[5, 6]])"
            ]
          },
          "execution_count": 29,
          "metadata": {},
          "output_type": "execute_result"
        }
      ],
      "source": [
        "b = np.array([[5,6]]) #2D array\n",
        "b"
      ]
    },
    {
      "cell_type": "code",
      "execution_count": null,
      "metadata": {
        "id": "Eg0mNvKTkIj5",
        "outputId": "23ec9c5b-a323-4d7a-b4f8-64c75c4a7c16"
      },
      "outputs": [
        {
          "data": {
            "text/plain": [
              "array([[5],\n",
              "       [6]])"
            ]
          },
          "execution_count": 30,
          "metadata": {},
          "output_type": "execute_result"
        }
      ],
      "source": [
        "b.T"
      ]
    },
    {
      "cell_type": "code",
      "execution_count": null,
      "metadata": {
        "id": "jchuYQM8kIj6",
        "outputId": "aed535fd-0f6f-4758-e9de-42377359877f"
      },
      "outputs": [
        {
          "data": {
            "text/plain": [
              "array([[ 5, 12],\n",
              "       [15, 24]])"
            ]
          },
          "execution_count": 31,
          "metadata": {},
          "output_type": "execute_result"
        }
      ],
      "source": [
        "A*b #not matrix multiplication!"
      ]
    },
    {
      "cell_type": "code",
      "execution_count": null,
      "metadata": {
        "id": "UEfqz_5jkIj6",
        "outputId": "46ff3120-80e5-417e-df3e-e0d0c6632952"
      },
      "outputs": [
        {
          "data": {
            "text/plain": [
              "array([[17],\n",
              "       [39]])"
            ]
          },
          "execution_count": 32,
          "metadata": {},
          "output_type": "execute_result"
        }
      ],
      "source": [
        "A.dot(b.T) #matrix multiplication"
      ]
    },
    {
      "cell_type": "code",
      "execution_count": null,
      "metadata": {
        "id": "BL1h60zlkIj6",
        "outputId": "9e45872e-ffbc-4222-cb75-5537ed8aed8b"
      },
      "outputs": [
        {
          "data": {
            "text/plain": [
              "array([5, 6])"
            ]
          },
          "execution_count": 34,
          "metadata": {},
          "output_type": "execute_result"
        }
      ],
      "source": [
        "b = np.array([5,6]) #1D array\n",
        "b"
      ]
    },
    {
      "cell_type": "code",
      "execution_count": null,
      "metadata": {
        "id": "QlZTif1-kIj6",
        "outputId": "94f23762-f290-4b30-a385-79f4f976161a"
      },
      "outputs": [
        {
          "data": {
            "text/plain": [
              "array([5, 6])"
            ]
          },
          "execution_count": 35,
          "metadata": {},
          "output_type": "execute_result"
        }
      ],
      "source": [
        "b.T  #not matrix transpose!"
      ]
    },
    {
      "cell_type": "code",
      "execution_count": null,
      "metadata": {
        "id": "U3X7wG0VkIj6",
        "outputId": "fd125046-1e00-4a0a-ad98-548251c0f833"
      },
      "outputs": [
        {
          "data": {
            "text/plain": [
              "array([17, 39])"
            ]
          },
          "execution_count": 36,
          "metadata": {},
          "output_type": "execute_result"
        }
      ],
      "source": [
        "A.dot(b)  #does not matter for multiplication"
      ]
    },
    {
      "cell_type": "markdown",
      "metadata": {
        "id": "3OXc_QxykIj7"
      },
      "source": [
        "### 붙임"
      ]
    },
    {
      "cell_type": "code",
      "execution_count": null,
      "metadata": {
        "id": "zFe5fuAPkIj7",
        "outputId": "5f4c8fdf-d483-4741-bcd7-47a5d6ccbdcf"
      },
      "outputs": [
        {
          "data": {
            "text/plain": [
              "array([[0., 0.],\n",
              "       [0., 0.],\n",
              "       [0., 0.]])"
            ]
          },
          "execution_count": 14,
          "metadata": {},
          "output_type": "execute_result"
        }
      ],
      "source": [
        "# 임의의 값이 채워진 배열을 만듭니다.\n",
        "empty_matrix = np.empty((3, 2))\n",
        "empty_matrix"
      ]
    },
    {
      "cell_type": "code",
      "execution_count": null,
      "metadata": {
        "id": "pwLNY0wukIj7",
        "outputId": "4704469f-d825-4430-b8d2-9253f7e5f12f"
      },
      "outputs": [
        {
          "data": {
            "text/plain": [
              "array([[0., 0.],\n",
              "       [0., 0.],\n",
              "       [0., 0.]])"
            ]
          },
          "execution_count": 15,
          "metadata": {},
          "output_type": "execute_result"
        }
      ],
      "source": [
        "zero_matrix = np.zeros((3, 2))\n",
        "zero_matrix"
      ]
    },
    {
      "cell_type": "code",
      "execution_count": null,
      "metadata": {
        "id": "DB3H9YnQkIj7",
        "outputId": "fd932bfe-00ac-419a-ddb0-24078b4ea85d"
      },
      "outputs": [
        {
          "data": {
            "text/plain": [
              "array([[1., 1.],\n",
              "       [1., 1.],\n",
              "       [1., 1.]])"
            ]
          },
          "execution_count": 16,
          "metadata": {},
          "output_type": "execute_result"
        }
      ],
      "source": [
        "one_matrix = np.ones((3, 2))\n",
        "one_matrix"
      ]
    },
    {
      "cell_type": "code",
      "execution_count": null,
      "metadata": {
        "id": "mndqTazVkIj7",
        "outputId": "da2e31d7-b50f-47ee-9f60-70717d2c81ba"
      },
      "outputs": [
        {
          "data": {
            "text/plain": [
              "array([[7, 7],\n",
              "       [7, 7],\n",
              "       [7, 7]])"
            ]
          },
          "execution_count": 17,
          "metadata": {},
          "output_type": "execute_result"
        }
      ],
      "source": [
        "# 0 행렬을 만든 후 7을 더합니다.\n",
        "seven_matrix = np.zeros((3, 2)) + 7\n",
        "# full() 함수를 사용하는 것이 효율적입니다.\n",
        "seven_matrix = np.full((3, 2), 7)\n",
        "seven_matrix"
      ]
    },
    {
      "cell_type": "markdown",
      "metadata": {
        "id": "kRA2ecYWkIj8"
      },
      "source": [
        "## 1.3 희소 행렬 만들기"
      ]
    },
    {
      "cell_type": "code",
      "execution_count": null,
      "metadata": {
        "id": "z8bAusrmkIj8"
      },
      "outputs": [],
      "source": [
        "# 라이브러리를 임포트합니다.\n",
        "import numpy as np\n",
        "from scipy import sparse\n",
        "\n",
        "# 행렬을 만듭니다. \n",
        "matrix = np.array([[0, 0],\n",
        "                   [0, 1],\n",
        "                   [3, 0]])\n",
        "\n",
        "# CSR (compressed sparse row) 행렬을 만듭니다.\n",
        "matrix_sparse = sparse.csr_matrix(matrix)"
      ]
    },
    {
      "cell_type": "code",
      "execution_count": null,
      "metadata": {
        "id": "YO4pAmLSkIj8",
        "outputId": "96acf9ba-275c-4b82-c7da-e9a8f5551000"
      },
      "outputs": [
        {
          "name": "stdout",
          "output_type": "stream",
          "text": [
            "  (1, 1)\t1\n",
            "  (2, 0)\t3\n"
          ]
        }
      ],
      "source": [
        "# 희소 행렬을 출력합니다.\n",
        "print(matrix_sparse)"
      ]
    },
    {
      "cell_type": "code",
      "execution_count": null,
      "metadata": {
        "id": "x82iQ_3nkIj8",
        "outputId": "316a7f05-8da9-4225-de16-83de05e32aff"
      },
      "outputs": [
        {
          "name": "stdout",
          "output_type": "stream",
          "text": [
            "  (1, 1)\t1\n",
            "  (2, 0)\t3\n"
          ]
        }
      ],
      "source": [
        "# 큰 행렬을 만듭니다.\n",
        "matrix_large = np.array([[0, 0, 0, 0, 0, 0, 0, 0, 0, 0],\n",
        "                         [0, 1, 0, 0, 0, 0, 0, 0, 0, 0],\n",
        "                         [3, 0, 0, 0, 0, 0, 0, 0, 0, 0]])\n",
        "\n",
        "# CSR 행렬을 만듭니다.\n",
        "matrix_large_sparse = sparse.csr_matrix(matrix_large)\n",
        "\n",
        "# 원래 희소 행렬을 출력합니다.\n",
        "print(matrix_sparse)"
      ]
    },
    {
      "cell_type": "code",
      "execution_count": null,
      "metadata": {
        "id": "Kl2AG7Z5kIj8",
        "outputId": "a77ddceb-79c6-4a35-d9b6-283f6c2493cc"
      },
      "outputs": [
        {
          "name": "stdout",
          "output_type": "stream",
          "text": [
            "  (1, 1)\t1\n",
            "  (2, 0)\t3\n"
          ]
        }
      ],
      "source": [
        "# 큰 희소 행렬을 출력합니다.\n",
        "print(matrix_large_sparse)"
      ]
    },
    {
      "cell_type": "markdown",
      "metadata": {
        "id": "iPaVtBZAkIj9"
      },
      "source": [
        "### 붙임"
      ]
    },
    {
      "cell_type": "code",
      "execution_count": null,
      "metadata": {
        "id": "teg6u_ThkIj9",
        "outputId": "a6881cbe-bf7e-499d-f1f2-bcb04aec0a11"
      },
      "outputs": [
        {
          "name": "stdout",
          "output_type": "stream",
          "text": [
            "  (1, 1)\t1\n",
            "  (2, 0)\t3\n"
          ]
        }
      ],
      "source": [
        "# (data, (row_index, col_index))로 구성된 튜플을 전달합니다.\n",
        "# shape 매개변수에서 0을 포함한 행렬의 전체 크기를 지정합니다.  \n",
        "matrix_sparse_2 = sparse.csr_matrix(([1, 3], ([1, 2], [1, 0])), shape=(3, 10))\n",
        "\n",
        "print(matrix_sparse_2)"
      ]
    },
    {
      "cell_type": "code",
      "execution_count": null,
      "metadata": {
        "id": "2wZibkQMkIj9",
        "outputId": "0dcc299c-c27e-4fb2-f152-2ddecd1755b9"
      },
      "outputs": [
        {
          "name": "stdout",
          "output_type": "stream",
          "text": [
            "[[0 0 0 0 0 0 0 0 0 0]\n",
            " [0 1 0 0 0 0 0 0 0 0]\n",
            " [3 0 0 0 0 0 0 0 0 0]]\n"
          ]
        }
      ],
      "source": [
        "print(matrix_sparse_2.toarray())"
      ]
    },
    {
      "cell_type": "code",
      "execution_count": null,
      "metadata": {
        "id": "TerBo2-bkIj9",
        "outputId": "73a93a99-002a-43c6-b9a7-194f2913a2c0"
      },
      "outputs": [
        {
          "data": {
            "text/plain": [
              "matrix([[0, 0, 0, 0, 0, 0, 0, 0, 0, 0],\n",
              "        [0, 1, 0, 0, 0, 0, 0, 0, 0, 0],\n",
              "        [3, 0, 0, 0, 0, 0, 0, 0, 0, 0]], dtype=int64)"
            ]
          },
          "execution_count": 24,
          "metadata": {},
          "output_type": "execute_result"
        }
      ],
      "source": [
        "matrix_sparse_2.todense()"
      ]
    },
    {
      "cell_type": "markdown",
      "metadata": {
        "id": "XaVGDIk3kIj9"
      },
      "source": [
        "## 1.4 원소 선택"
      ]
    },
    {
      "cell_type": "code",
      "execution_count": null,
      "metadata": {
        "id": "Gtq6BEFekIj9",
        "outputId": "3ac56b56-4af9-456f-8d43-810a8a030bdc"
      },
      "outputs": [
        {
          "data": {
            "text/plain": [
              "3"
            ]
          },
          "execution_count": 25,
          "metadata": {},
          "output_type": "execute_result"
        }
      ],
      "source": [
        "# 라이브러리를 임포트합니다.\n",
        "import numpy as np\n",
        "\n",
        "# 행 벡터를 만듭니다.\n",
        "vector = np.array([1, 2, 3, 4, 5, 6])\n",
        "\n",
        "# 행렬을 만듭니다.\n",
        "matrix = np.array([[1, 2, 3],\n",
        "                   [4, 5, 6],\n",
        "                   [7, 8, 9]])\n",
        "\n",
        "# vector의 세 번째 원소를 선택합니다.\n",
        "vector[2]"
      ]
    },
    {
      "cell_type": "code",
      "execution_count": null,
      "metadata": {
        "id": "Fzu_J5UakIj-",
        "outputId": "8e061c5a-3c73-4df6-f720-bff22602fe63"
      },
      "outputs": [
        {
          "data": {
            "text/plain": [
              "5"
            ]
          },
          "execution_count": 26,
          "metadata": {},
          "output_type": "execute_result"
        }
      ],
      "source": [
        "# matrix의 두 번째 행, 두 번째 열의 원소를 선택합니다.\n",
        "matrix[1,1]"
      ]
    },
    {
      "cell_type": "code",
      "execution_count": null,
      "metadata": {
        "id": "IdEZ4dX9kIj-",
        "outputId": "b83cc5c0-193f-49a0-f3cf-9be6a9429900"
      },
      "outputs": [
        {
          "data": {
            "text/plain": [
              "array([1, 2, 3, 4, 5, 6])"
            ]
          },
          "execution_count": 27,
          "metadata": {},
          "output_type": "execute_result"
        }
      ],
      "source": [
        "# 벡터에 있는 모든 원소를 선택합니다.\n",
        "vector[:]"
      ]
    },
    {
      "cell_type": "code",
      "execution_count": null,
      "metadata": {
        "id": "r5R1veFKkIj-",
        "outputId": "244c79be-9cef-4184-abc9-84368043ad7d"
      },
      "outputs": [
        {
          "data": {
            "text/plain": [
              "array([1, 2, 3])"
            ]
          },
          "execution_count": 28,
          "metadata": {},
          "output_type": "execute_result"
        }
      ],
      "source": [
        "# 세 번째 원소를 포함하여 그 이전의 모든 원소를 선택합니다.\n",
        "vector[:3]"
      ]
    },
    {
      "cell_type": "code",
      "execution_count": null,
      "metadata": {
        "id": "EmmxEQkIkIj-",
        "outputId": "4b890bd9-5357-48eb-f9d2-2e32a0803ffd"
      },
      "outputs": [
        {
          "data": {
            "text/plain": [
              "array([4, 5, 6])"
            ]
          },
          "execution_count": 29,
          "metadata": {},
          "output_type": "execute_result"
        }
      ],
      "source": [
        "# 세 번째 이후의 모든 원소를 선택합니다.\n",
        "vector[3:]"
      ]
    },
    {
      "cell_type": "code",
      "execution_count": null,
      "metadata": {
        "id": "SLktBU3JkIj_",
        "outputId": "4b81f9ea-f8e2-46cb-f3ec-0b23d2b7d6b9"
      },
      "outputs": [
        {
          "data": {
            "text/plain": [
              "6"
            ]
          },
          "execution_count": 30,
          "metadata": {},
          "output_type": "execute_result"
        }
      ],
      "source": [
        "# 마지막 원소를 선택합니다.\n",
        "vector[-1]"
      ]
    },
    {
      "cell_type": "code",
      "execution_count": null,
      "metadata": {
        "id": "a087d759kIj_",
        "outputId": "0052806e-1c5b-4006-f3d2-89d45a6fdfd1"
      },
      "outputs": [
        {
          "data": {
            "text/plain": [
              "array([[1, 2, 3],\n",
              "       [4, 5, 6]])"
            ]
          },
          "execution_count": 31,
          "metadata": {},
          "output_type": "execute_result"
        }
      ],
      "source": [
        "# 행렬에서 첫 번째 두 개의 행과 모든 열을 선택합니다.\n",
        "matrix[:2,:]"
      ]
    },
    {
      "cell_type": "code",
      "execution_count": null,
      "metadata": {
        "id": "JOuElc4qkIj_",
        "outputId": "9c7a33d3-df0f-48fc-f84b-e85fec17817b"
      },
      "outputs": [
        {
          "data": {
            "text/plain": [
              "array([[2],\n",
              "       [5],\n",
              "       [8]])"
            ]
          },
          "execution_count": 32,
          "metadata": {},
          "output_type": "execute_result"
        }
      ],
      "source": [
        "# 모든 행과 두 번째 열을 선택합니다.\n",
        "matrix[:,1:2]"
      ]
    },
    {
      "cell_type": "markdown",
      "metadata": {
        "id": "hISP1Q0gkIj_"
      },
      "source": [
        "### 붙임"
      ]
    },
    {
      "cell_type": "code",
      "execution_count": null,
      "metadata": {
        "id": "hdzPVR6_kIj_",
        "outputId": "d8704365-e41d-4d1d-8461-3793fcd38028"
      },
      "outputs": [
        {
          "data": {
            "text/plain": [
              "array([[1, 2, 3],\n",
              "       [7, 8, 9]])"
            ]
          },
          "execution_count": 33,
          "metadata": {},
          "output_type": "execute_result"
        }
      ],
      "source": [
        "# 첫 번째 행과 세 번째 행을 선택합니다.\n",
        "matrix[[0,2]]"
      ]
    },
    {
      "cell_type": "code",
      "execution_count": null,
      "metadata": {
        "id": "u1-4-TLakIkA",
        "outputId": "7b51d026-ee4e-4355-be14-9b6a5d5c1100"
      },
      "outputs": [
        {
          "data": {
            "text/plain": [
              "array([2, 7])"
            ]
          },
          "execution_count": 34,
          "metadata": {},
          "output_type": "execute_result"
        }
      ],
      "source": [
        "# (0, 1), (2, 0) 위치의 원소를 선택합니다.\n",
        "matrix[[0,2], [1,0]]"
      ]
    },
    {
      "cell_type": "code",
      "execution_count": null,
      "metadata": {
        "id": "qD6FVxjgkIkA",
        "outputId": "881ffe96-8cd1-444f-a643-962175da4196"
      },
      "outputs": [
        {
          "data": {
            "text/plain": [
              "array([[False, False, False],\n",
              "       [False, False,  True],\n",
              "       [ True,  True,  True]])"
            ]
          },
          "execution_count": 35,
          "metadata": {},
          "output_type": "execute_result"
        }
      ],
      "source": [
        "# matrix의 각 원소에 비교 연산자가 적용됩니다.\n",
        "mask = matrix > 5\n",
        "\n",
        "mask"
      ]
    },
    {
      "cell_type": "code",
      "execution_count": null,
      "metadata": {
        "id": "DFwRFA8IkIkA",
        "outputId": "3472a1a1-8254-41a1-ae75-86ee26f51356"
      },
      "outputs": [
        {
          "data": {
            "text/plain": [
              "array([6, 7, 8, 9])"
            ]
          },
          "execution_count": 36,
          "metadata": {},
          "output_type": "execute_result"
        }
      ],
      "source": [
        "# 불리언 마스크 배열을 사용하여 원소를 선택합니다.\n",
        "matrix[mask]"
      ]
    },
    {
      "cell_type": "markdown",
      "metadata": {
        "id": "PHmRzahLkIkA"
      },
      "source": [
        "## 1.5 행렬 정보 확인"
      ]
    },
    {
      "cell_type": "code",
      "execution_count": null,
      "metadata": {
        "id": "1von0JtokIkB",
        "outputId": "35f0cd5b-b46d-420c-c6a9-e2c7732a8749"
      },
      "outputs": [
        {
          "data": {
            "text/plain": [
              "(3, 4)"
            ]
          },
          "execution_count": 37,
          "metadata": {},
          "output_type": "execute_result"
        }
      ],
      "source": [
        "# 라이브러리를 임포트합니다.\n",
        "import numpy as np\n",
        "\n",
        "# 행렬을 만듭니다.\n",
        "matrix = np.array([[1, 2, 3, 4],\n",
        "                   [5, 6, 7, 8],\n",
        "                   [9, 10, 11, 12]])\n",
        "\n",
        "# 행렬의 크기를 확인합니다.\n",
        "matrix.shape"
      ]
    },
    {
      "cell_type": "code",
      "execution_count": null,
      "metadata": {
        "id": "aRFDiOkOkIkB",
        "outputId": "2a26570e-163f-44ac-fb22-a051943a00e6"
      },
      "outputs": [
        {
          "data": {
            "text/plain": [
              "12"
            ]
          },
          "execution_count": 38,
          "metadata": {},
          "output_type": "execute_result"
        }
      ],
      "source": [
        "# 행렬의 원소 개수를 확인합니다(행 * 열).\n",
        "matrix.size"
      ]
    },
    {
      "cell_type": "code",
      "execution_count": null,
      "metadata": {
        "id": "umXvj3sSkIkB",
        "outputId": "61b61c04-4adf-460e-e243-e285633826cd"
      },
      "outputs": [
        {
          "data": {
            "text/plain": [
              "2"
            ]
          },
          "execution_count": 39,
          "metadata": {},
          "output_type": "execute_result"
        }
      ],
      "source": [
        "# 차원 수를 확인합니다.\n",
        "matrix.ndim"
      ]
    },
    {
      "cell_type": "markdown",
      "metadata": {
        "id": "s4Lpi5MIkIkB"
      },
      "source": [
        "### 붙임"
      ]
    },
    {
      "cell_type": "code",
      "execution_count": null,
      "metadata": {
        "id": "PcEyH00ckIkB",
        "outputId": "47df5f93-1eae-4deb-a3b4-0c4a613ae401"
      },
      "outputs": [
        {
          "name": "stdout",
          "output_type": "stream",
          "text": [
            "int64\n"
          ]
        }
      ],
      "source": [
        "# 원소의 데이터 타입을 확인합니다.\n",
        "print(matrix.dtype)"
      ]
    },
    {
      "cell_type": "code",
      "execution_count": null,
      "metadata": {
        "id": "Uy-uKz50kIkB",
        "outputId": "aee2b6a6-c437-46a9-f8b0-4caa5cd5c7a2"
      },
      "outputs": [
        {
          "name": "stdout",
          "output_type": "stream",
          "text": [
            "8\n"
          ]
        }
      ],
      "source": [
        "# 원소 하나가 차지하는 바이트 크기입니다. \n",
        "print(matrix.itemsize)"
      ]
    },
    {
      "cell_type": "code",
      "execution_count": null,
      "metadata": {
        "id": "rwuTI5HMkIkC",
        "outputId": "fd24628c-bb58-43ef-da56-71ed1386c26b"
      },
      "outputs": [
        {
          "name": "stdout",
          "output_type": "stream",
          "text": [
            "96\n"
          ]
        }
      ],
      "source": [
        "# 배열 전체가 차지하는 바이트 크기입니다.\n",
        "print(matrix.nbytes)"
      ]
    },
    {
      "cell_type": "markdown",
      "metadata": {
        "id": "7LHQLTgdkIkC"
      },
      "source": [
        "## 1.6 벡터화 연산 적용하기"
      ]
    },
    {
      "cell_type": "code",
      "execution_count": null,
      "metadata": {
        "id": "z7tqAXNnkIkC",
        "outputId": "a468cbfc-2c98-4f5e-f21c-9e3fa3db5411"
      },
      "outputs": [
        {
          "data": {
            "text/plain": [
              "array([[101, 102, 103],\n",
              "       [104, 105, 106],\n",
              "       [107, 108, 109]])"
            ]
          },
          "execution_count": 43,
          "metadata": {},
          "output_type": "execute_result"
        }
      ],
      "source": [
        "# 라이브러리를 임포트합니다.\n",
        "import numpy as np\n",
        "\n",
        "# 행렬을 만듭니다.\n",
        "matrix = np.array([[1, 2, 3],\n",
        "                   [4, 5, 6],\n",
        "                   [7, 8, 9]])\n",
        "\n",
        "# 100을 더하는 함수를 만듭니다.\n",
        "add_100 = lambda i: i + 100\n",
        "\n",
        "# 벡터화된 함수를 만듭니다.\n",
        "vectorized_add_100 = np.vectorize(add_100)\n",
        "\n",
        "# 행렬의 모든 원소에 함수를 적용합니다.\n",
        "vectorized_add_100(matrix)"
      ]
    },
    {
      "cell_type": "code",
      "execution_count": null,
      "metadata": {
        "id": "99x0mo4PkIkC",
        "outputId": "6e54374c-30ed-42e4-957c-42d8e69ca58d"
      },
      "outputs": [
        {
          "data": {
            "text/plain": [
              "array([[101, 102, 103],\n",
              "       [104, 105, 106],\n",
              "       [107, 108, 109]])"
            ]
          },
          "execution_count": 44,
          "metadata": {},
          "output_type": "execute_result"
        }
      ],
      "source": [
        "# 모든 원소에 100을 더합니다.\n",
        "matrix + 100"
      ]
    },
    {
      "cell_type": "markdown",
      "metadata": {
        "id": "hiEZJhZ7kIkC"
      },
      "source": [
        "### 붙임"
      ]
    },
    {
      "cell_type": "code",
      "execution_count": null,
      "metadata": {
        "id": "X0jAkA0tkIkC",
        "outputId": "458aa2cf-3e6c-41dc-d746-bcf39efb1374"
      },
      "outputs": [
        {
          "data": {
            "text/plain": [
              "array([[101, 102, 103],\n",
              "       [104, 105, 106],\n",
              "       [107, 108, 109]])"
            ]
          },
          "execution_count": 45,
          "metadata": {},
          "output_type": "execute_result"
        }
      ],
      "source": [
        "# (3, 3) 크기 행렬에 (3, ) 벡터를 더하면 \n",
        "# (1, 3) 크기가 된다음 행을 따라 반복됩니다.\n",
        "matrix + [100, 100, 100]"
      ]
    },
    {
      "cell_type": "code",
      "execution_count": null,
      "metadata": {
        "id": "f0RI8u5nkIkD",
        "outputId": "66bd9e28-80e2-4bf0-a95e-318b5104b746"
      },
      "outputs": [
        {
          "data": {
            "text/plain": [
              "array([[101, 102, 103],\n",
              "       [104, 105, 106],\n",
              "       [107, 108, 109]])"
            ]
          },
          "execution_count": 46,
          "metadata": {},
          "output_type": "execute_result"
        }
      ],
      "source": [
        "# (3, 3) 크기 행렬에 (3, 1) 벡터를 더하면 열을 따라 반복됩니다.\n",
        "matrix + [[100], [100], [100]]"
      ]
    },
    {
      "cell_type": "markdown",
      "metadata": {
        "id": "32GPsFupkIkD"
      },
      "source": [
        "## 1.7 최댓값, 최솟값 찾기"
      ]
    },
    {
      "cell_type": "code",
      "execution_count": null,
      "metadata": {
        "id": "0aL5nC0LkIkD",
        "outputId": "02f818df-5220-487d-e904-4def6b1ecf03"
      },
      "outputs": [
        {
          "data": {
            "text/plain": [
              "9"
            ]
          },
          "execution_count": 47,
          "metadata": {},
          "output_type": "execute_result"
        }
      ],
      "source": [
        "# 라이브러리를 임포트합니다.\n",
        "import numpy as np\n",
        "\n",
        "# 행렬을 만듭니다.\n",
        "matrix = np.array([[1, 2, 3],\n",
        "                   [4, 5, 6],\n",
        "                   [7, 8, 9]])\n",
        "\n",
        "# 가장 큰 원소를 반환합니다.\n",
        "np.max(matrix)"
      ]
    },
    {
      "cell_type": "code",
      "execution_count": null,
      "metadata": {
        "id": "nHXZtlN3kIkD",
        "outputId": "c50d5db3-7495-436e-8e84-dc85abb9280b"
      },
      "outputs": [
        {
          "data": {
            "text/plain": [
              "1"
            ]
          },
          "execution_count": 48,
          "metadata": {},
          "output_type": "execute_result"
        }
      ],
      "source": [
        "# 가장 작은 원소를 반환합니다.\n",
        "np.min(matrix)"
      ]
    },
    {
      "cell_type": "code",
      "execution_count": null,
      "metadata": {
        "id": "Dgd88trokIkD",
        "outputId": "00a92ccf-7384-4dd9-a4a8-48db64c76d66"
      },
      "outputs": [
        {
          "data": {
            "text/plain": [
              "array([7, 8, 9])"
            ]
          },
          "execution_count": 49,
          "metadata": {},
          "output_type": "execute_result"
        }
      ],
      "source": [
        "# 각 열에서 최댓값을 찾습니다.\n",
        "np.max(matrix, axis=0)"
      ]
    },
    {
      "cell_type": "code",
      "execution_count": null,
      "metadata": {
        "id": "VM8x4mU6kIkD",
        "outputId": "0e46429f-a336-4c9f-84b8-d3c76f09b527"
      },
      "outputs": [
        {
          "data": {
            "text/plain": [
              "array([3, 6, 9])"
            ]
          },
          "execution_count": 50,
          "metadata": {},
          "output_type": "execute_result"
        }
      ],
      "source": [
        "# 각 행에서 최댓값을 찾습니다.\n",
        "np.max(matrix, axis=1)"
      ]
    },
    {
      "cell_type": "markdown",
      "metadata": {
        "id": "N_rS7tGHkIkE"
      },
      "source": [
        "### 붙임"
      ]
    },
    {
      "cell_type": "code",
      "execution_count": null,
      "metadata": {
        "id": "YGdcRMcGkIkE",
        "outputId": "60f19f5a-ac8a-498e-aa77-330f80c0537e"
      },
      "outputs": [
        {
          "data": {
            "text/plain": [
              "array([[3],\n",
              "       [6],\n",
              "       [9]])"
            ]
          },
          "execution_count": 51,
          "metadata": {},
          "output_type": "execute_result"
        }
      ],
      "source": [
        "# 이전 예와 달리 (3, 1) 크기의 열 벡터가 만들어 집니다.\n",
        "vector_column = np.max(matrix, axis=1, keepdims=True)\n",
        "\n",
        "vector_column"
      ]
    },
    {
      "cell_type": "code",
      "execution_count": null,
      "metadata": {
        "id": "pm1adhFMkIkE",
        "outputId": "19287f85-d198-4fcb-f60d-f4bf956effc5"
      },
      "outputs": [
        {
          "data": {
            "text/plain": [
              "array([[-2, -1,  0],\n",
              "       [-2, -1,  0],\n",
              "       [-2, -1,  0]])"
            ]
          },
          "execution_count": 52,
          "metadata": {},
          "output_type": "execute_result"
        }
      ],
      "source": [
        "# 열 벡터이므로 브로드캐스팅을 이용하여 각 행의 최댓값을 뺄 수 있습니다.\n",
        "matrix - vector_column"
      ]
    },
    {
      "cell_type": "markdown",
      "metadata": {
        "id": "SnTKT8VOkIkE"
      },
      "source": [
        "## 1.8 평균, 분산, 표준 편차 계산하기"
      ]
    },
    {
      "cell_type": "code",
      "execution_count": null,
      "metadata": {
        "id": "om-hfaC2kIkE",
        "outputId": "36171991-d6e9-4fb7-ff7a-3c865f818cc9"
      },
      "outputs": [
        {
          "data": {
            "text/plain": [
              "5.0"
            ]
          },
          "execution_count": 53,
          "metadata": {},
          "output_type": "execute_result"
        }
      ],
      "source": [
        "# 라이브러리를 임포트합니다.\n",
        "import numpy as np\n",
        "\n",
        "# 행렬을 만듭니다.\n",
        "matrix = np.array([[1, 2, 3],\n",
        "                   [4, 5, 6],\n",
        "                   [7, 8, 9]])\n",
        "\n",
        "# 평균을 반환합니다.\n",
        "np.mean(matrix)"
      ]
    },
    {
      "cell_type": "code",
      "execution_count": null,
      "metadata": {
        "id": "eUiTo7ZBkIkE",
        "outputId": "c7324e43-8497-4db9-e2b0-dddcf032cc8c"
      },
      "outputs": [
        {
          "data": {
            "text/plain": [
              "6.666666666666667"
            ]
          },
          "execution_count": 54,
          "metadata": {},
          "output_type": "execute_result"
        }
      ],
      "source": [
        "# 분산을 반환합니다.\n",
        "np.var(matrix)"
      ]
    },
    {
      "cell_type": "code",
      "execution_count": null,
      "metadata": {
        "id": "CvIP-sxTkIkF",
        "outputId": "ed427b6a-6a07-4b41-c429-1b6a852dd2d3"
      },
      "outputs": [
        {
          "data": {
            "text/plain": [
              "2.581988897471611"
            ]
          },
          "execution_count": 55,
          "metadata": {},
          "output_type": "execute_result"
        }
      ],
      "source": [
        "# 표준 편차를 반환합니다.\n",
        "np.std(matrix)"
      ]
    },
    {
      "cell_type": "code",
      "execution_count": null,
      "metadata": {
        "id": "6qfnuIbOkIkF",
        "outputId": "5ad76d71-f408-4625-d473-dfe356a7bf92"
      },
      "outputs": [
        {
          "data": {
            "text/plain": [
              "array([4., 5., 6.])"
            ]
          },
          "execution_count": 56,
          "metadata": {},
          "output_type": "execute_result"
        }
      ],
      "source": [
        "# 각 열의 평균을 계산합니다.\n",
        "np.mean(matrix, axis=0)"
      ]
    },
    {
      "cell_type": "markdown",
      "metadata": {
        "id": "8izlxLiakIkF"
      },
      "source": [
        "### 붙임"
      ]
    },
    {
      "cell_type": "code",
      "execution_count": null,
      "metadata": {
        "id": "9IxxFa7NkIkF",
        "outputId": "d0f201cc-2d64-472d-e4a0-72eb6ca1436b"
      },
      "outputs": [
        {
          "data": {
            "text/plain": [
              "2.7386127875258306"
            ]
          },
          "execution_count": 57,
          "metadata": {},
          "output_type": "execute_result"
        }
      ],
      "source": [
        "np.std(matrix, ddof=1)"
      ]
    },
    {
      "cell_type": "code",
      "execution_count": null,
      "metadata": {
        "id": "6_CWCEaVkIkF",
        "outputId": "88c3a86e-8176-4876-d0a1-9a96ed19d1c9"
      },
      "outputs": [
        {
          "data": {
            "text/plain": [
              "0    2.738613\n",
              "dtype: float64"
            ]
          },
          "execution_count": 58,
          "metadata": {},
          "output_type": "execute_result"
        }
      ],
      "source": [
        "import pandas as pd\n",
        "\n",
        "df = pd.DataFrame(matrix.flatten())\n",
        "df.std()"
      ]
    },
    {
      "cell_type": "markdown",
      "metadata": {
        "id": "L1twP7-UkIkF"
      },
      "source": [
        "## 1.9 배열 크기 바꾸기"
      ]
    },
    {
      "cell_type": "code",
      "execution_count": null,
      "metadata": {
        "id": "KHw1PkjEkIkF",
        "outputId": "061fffae-2abf-42b7-a533-7759fc9cde11"
      },
      "outputs": [
        {
          "data": {
            "text/plain": [
              "array([[ 1,  2,  3,  4,  5,  6],\n",
              "       [ 7,  8,  9, 10, 11, 12]])"
            ]
          },
          "execution_count": 59,
          "metadata": {},
          "output_type": "execute_result"
        }
      ],
      "source": [
        "# 라이브러리를 임포트합니다.\n",
        "import numpy as np\n",
        "\n",
        "# 4x3 행렬을 만듭니다.\n",
        "matrix = np.array([[1, 2, 3],\n",
        "                   [4, 5, 6],\n",
        "                   [7, 8, 9],\n",
        "                   [10, 11, 12]])\n",
        "\n",
        "# 2x6 행렬로 크기를 바꿉니다.\n",
        "matrix.reshape(2, 6)"
      ]
    },
    {
      "cell_type": "code",
      "execution_count": null,
      "metadata": {
        "id": "DWLRpNJ7kIkJ",
        "outputId": "b5b2e523-6841-49d8-bf6b-d62f0d6be5a4"
      },
      "outputs": [
        {
          "data": {
            "text/plain": [
              "12"
            ]
          },
          "execution_count": 60,
          "metadata": {},
          "output_type": "execute_result"
        }
      ],
      "source": [
        "matrix.size"
      ]
    },
    {
      "cell_type": "code",
      "execution_count": null,
      "metadata": {
        "id": "4PyLEQwXkIkJ",
        "outputId": "aef98208-63bf-4da0-d3a6-72355e3b78cf"
      },
      "outputs": [
        {
          "data": {
            "text/plain": [
              "array([[ 1,  2,  3,  4,  5,  6,  7,  8,  9, 10, 11, 12]])"
            ]
          },
          "execution_count": 61,
          "metadata": {},
          "output_type": "execute_result"
        }
      ],
      "source": [
        "matrix.reshape(1, -1)"
      ]
    },
    {
      "cell_type": "code",
      "execution_count": null,
      "metadata": {
        "id": "TDLS9v_xkIkJ",
        "outputId": "dcff3e39-5024-4d33-fb5f-856a8820c1ee"
      },
      "outputs": [
        {
          "data": {
            "text/plain": [
              "array([ 1,  2,  3,  4,  5,  6,  7,  8,  9, 10, 11, 12])"
            ]
          },
          "execution_count": 62,
          "metadata": {},
          "output_type": "execute_result"
        }
      ],
      "source": [
        "matrix.reshape(12)"
      ]
    },
    {
      "cell_type": "markdown",
      "metadata": {
        "id": "vBGgdxeakIkK"
      },
      "source": [
        "### 붙임"
      ]
    },
    {
      "cell_type": "code",
      "execution_count": null,
      "metadata": {
        "id": "aDiHHK1ykIkK",
        "outputId": "79b7f11d-96ea-41aa-eebc-ba88983bd28b"
      },
      "outputs": [
        {
          "data": {
            "text/plain": [
              "array([ 1,  2,  3,  4,  5,  6,  7,  8,  9, 10, 11, 12])"
            ]
          },
          "execution_count": 63,
          "metadata": {},
          "output_type": "execute_result"
        }
      ],
      "source": [
        "matrix.reshape(-1)"
      ]
    },
    {
      "cell_type": "code",
      "execution_count": null,
      "metadata": {
        "id": "uvg7SKoFkIkK",
        "outputId": "53e01936-f129-417f-b8a5-b575d9fd41e1"
      },
      "outputs": [
        {
          "data": {
            "text/plain": [
              "array([ 1,  2,  3,  4,  5,  6,  7,  8,  9, 10, 11, 12])"
            ]
          },
          "execution_count": 64,
          "metadata": {},
          "output_type": "execute_result"
        }
      ],
      "source": [
        "matrix.ravel()"
      ]
    },
    {
      "cell_type": "markdown",
      "metadata": {
        "id": "W7zO9WMzkIkK"
      },
      "source": [
        "## 1.10 벡터나 행렬을 전치하기"
      ]
    },
    {
      "cell_type": "code",
      "execution_count": null,
      "metadata": {
        "id": "puCRlVBakIkK",
        "outputId": "a94810af-fb6e-4565-b77a-33784db53661"
      },
      "outputs": [
        {
          "data": {
            "text/plain": [
              "array([[1, 4, 7],\n",
              "       [2, 5, 8],\n",
              "       [3, 6, 9]])"
            ]
          },
          "execution_count": 65,
          "metadata": {},
          "output_type": "execute_result"
        }
      ],
      "source": [
        "# 라이브러리를 임포트합니다.\n",
        "import numpy as np\n",
        "\n",
        "# 행렬을 만듭니다.\n",
        "matrix = np.array([[1, 2, 3],\n",
        "                   [4, 5, 6],\n",
        "                   [7, 8, 9]])\n",
        "\n",
        "# 행렬을 전치합니다.\n",
        "matrix.T"
      ]
    },
    {
      "cell_type": "code",
      "execution_count": null,
      "metadata": {
        "id": "B2Rxj5_XkIkK",
        "outputId": "281d139a-7443-40e9-a51a-807f37849d99"
      },
      "outputs": [
        {
          "data": {
            "text/plain": [
              "array([1, 2, 3, 4, 5, 6])"
            ]
          },
          "execution_count": 66,
          "metadata": {},
          "output_type": "execute_result"
        }
      ],
      "source": [
        "# 벡터를 전치합니다. -1D array\n",
        "np.array([1, 2, 3, 4, 5, 6]).T"
      ]
    },
    {
      "cell_type": "code",
      "execution_count": null,
      "metadata": {
        "id": "c4GKrps7kIkL",
        "outputId": "7a020cec-acac-428b-dc19-1938cbafc9ee"
      },
      "outputs": [
        {
          "data": {
            "text/plain": [
              "array([[1],\n",
              "       [2],\n",
              "       [3],\n",
              "       [4],\n",
              "       [5],\n",
              "       [6]])"
            ]
          },
          "execution_count": 67,
          "metadata": {},
          "output_type": "execute_result"
        }
      ],
      "source": [
        "# 행 벡터를 전치합니다.- 2D array\n",
        "np.array([[1, 2, 3, 4, 5, 6]]).T"
      ]
    },
    {
      "cell_type": "markdown",
      "metadata": {
        "id": "ZhgxBk5lkIkL"
      },
      "source": [
        "### 붙임"
      ]
    },
    {
      "cell_type": "code",
      "execution_count": null,
      "metadata": {
        "id": "0smcVTsYkIkL",
        "outputId": "794c5d47-de76-4f9a-be0b-87efed003892"
      },
      "outputs": [
        {
          "data": {
            "text/plain": [
              "array([[1, 4, 7],\n",
              "       [2, 5, 8],\n",
              "       [3, 6, 9]])"
            ]
          },
          "execution_count": 68,
          "metadata": {},
          "output_type": "execute_result"
        }
      ],
      "source": [
        "matrix.transpose()"
      ]
    },
    {
      "cell_type": "code",
      "execution_count": null,
      "metadata": {
        "id": "rJEoEpGYkIkL",
        "outputId": "3b25bef6-0982-419c-d22f-eda3049238be"
      },
      "outputs": [
        {
          "data": {
            "text/plain": [
              "array([[[ 1,  3,  5],\n",
              "        [ 2,  4,  6]],\n",
              "\n",
              "       [[ 7,  9, 11],\n",
              "        [ 8, 10, 12]]])"
            ]
          },
          "execution_count": 54,
          "metadata": {},
          "output_type": "execute_result"
        }
      ],
      "source": [
        "# 2x3x2 행렬을 만듭니다.\n",
        "matrix = np.array([[[ 1,  2],\n",
        "                    [ 3,  4],\n",
        "                    [ 5,  6]],\n",
        "\n",
        "                   [[ 7,  8],\n",
        "                    [ 9, 10],\n",
        "                    [11, 12]]])\n",
        "\n",
        "# 두 번째와 세 번째 차원을 바꾸어 2x2x3 행렬로 만듭니다.\n",
        "matrix.transpose((0, 2, 1))"
      ]
    },
    {
      "cell_type": "markdown",
      "metadata": {
        "id": "gYcI3a1qkIkL"
      },
      "source": [
        "## 1.11 행렬 펼치기"
      ]
    },
    {
      "cell_type": "code",
      "execution_count": null,
      "metadata": {
        "id": "VdTrk4wmkIkM",
        "outputId": "2b12af92-3710-4cf6-de6d-5674c28c3b32"
      },
      "outputs": [
        {
          "data": {
            "text/plain": [
              "array([1, 2, 3, 4, 5, 6, 7, 8, 9])"
            ]
          },
          "execution_count": 70,
          "metadata": {},
          "output_type": "execute_result"
        }
      ],
      "source": [
        "# 라이브러리를 임포트합니다.\n",
        "import numpy as np\n",
        "\n",
        "# 행렬을 만듭니다.\n",
        "matrix = np.array([[1, 2, 3],\n",
        "                   [4, 5, 6],\n",
        "                   [7, 8, 9]])\n",
        "\n",
        "# 행렬을 펼칩니다.\n",
        "matrix.flatten()"
      ]
    },
    {
      "cell_type": "code",
      "execution_count": null,
      "metadata": {
        "id": "lzmVNBvYkIkM",
        "outputId": "935b02e9-31ab-4b34-fca5-96b346ef7128"
      },
      "outputs": [
        {
          "data": {
            "text/plain": [
              "array([[1, 2, 3, 4, 5, 6, 7, 8, 9]])"
            ]
          },
          "execution_count": 71,
          "metadata": {},
          "output_type": "execute_result"
        }
      ],
      "source": [
        "matrix.reshape(1, -1)"
      ]
    },
    {
      "cell_type": "markdown",
      "metadata": {
        "id": "fFeBYzDhkIkM"
      },
      "source": [
        "### 붙임"
      ]
    },
    {
      "cell_type": "code",
      "execution_count": null,
      "metadata": {
        "id": "ZZy2FhE-kIkM",
        "outputId": "d233dda3-ed8f-4192-b8d4-2f99a9104ddc"
      },
      "outputs": [
        {
          "data": {
            "text/plain": [
              "array([-1,  2,  3,  4,  5,  6,  7,  8,  9])"
            ]
          },
          "execution_count": 72,
          "metadata": {},
          "output_type": "execute_result"
        }
      ],
      "source": [
        "vector_reshaped = matrix.reshape(-1)\n",
        "vector_flattened = matrix.flatten()\n",
        "\n",
        "# (0, 0) 위치의 원소를 바꿉니다.\n",
        "matrix[0][0] = -1\n",
        "\n",
        "# 배열의 뷰는 원본 배열의 변경 사항을 반영합니다.\n",
        "vector_reshaped"
      ]
    },
    {
      "cell_type": "code",
      "execution_count": null,
      "metadata": {
        "id": "9h-YaKRVkIkM",
        "outputId": "b4c6ad8c-1f32-49a8-92cd-dd21eac79418"
      },
      "outputs": [
        {
          "data": {
            "text/plain": [
              "array([1, 2, 3, 4, 5, 6, 7, 8, 9])"
            ]
          },
          "execution_count": 73,
          "metadata": {},
          "output_type": "execute_result"
        }
      ],
      "source": [
        "# 복사된 배열에는 영향이 미치지 않습니다.\n",
        "vector_flattened"
      ]
    }
  ],
  "metadata": {
    "kernelspec": {
      "display_name": "Python 3",
      "language": "python",
      "name": "python3"
    },
    "language_info": {
      "codemirror_mode": {
        "name": "ipython",
        "version": 3
      },
      "file_extension": ".py",
      "mimetype": "text/x-python",
      "name": "python",
      "nbconvert_exporter": "python",
      "pygments_lexer": "ipython3",
      "version": "3.8.3"
    },
    "colab": {
      "name": "5_1.Matrix Computation.ipynb",
      "provenance": []
    }
  },
  "nbformat": 4,
  "nbformat_minor": 0
}
