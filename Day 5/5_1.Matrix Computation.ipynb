{
  "cells": [
    {
      "cell_type": "markdown",
      "metadata": {
        "id": "e8ea7aca"
      },
      "source": [
        "<a href=\"https://colab.research.google.com/github/SLCFLAB/Data-Science-Python/blob/main/Day%201/5_1.%20Matrix%20Computation.ipynb\" target=\"_parent\"><img src=\"https://colab.research.google.com/assets/colab-badge.svg\" alt=\"Open In Colab\"/></a>"
      ]
    },
    {
      "cell_type": "markdown",
      "metadata": {
        "id": "17kXJzbRkIjs"
      },
      "source": [
        "# 1장 Matrix Computation"
      ]
    },
    {
      "cell_type": "markdown",
      "metadata": {
        "id": "ujSPerl6kIjv"
      },
      "source": [
        "# 1절 벡터, 행렬"
      ]
    },
    {
      "cell_type": "markdown",
      "metadata": {
        "id": "-g2AmcRmkIjw"
      },
      "source": [
        "#### 코드 출처 \n",
        "[1] https://github.com/rickiepark/machine-learning-with-python-cookbook\n",
        "[2] https://docs.scipy.org/doc/scipy/reference/tutorial/linalg.html https://colab.research.google.com/github/SLCFLAB/Math4DS/blob/main"
      ]
    },
    {
      "cell_type": "markdown",
      "metadata": {
        "id": "ky2nt0MCkIjw"
      },
      "source": [
        "## 1.1 벡터 만들기"
      ]
    },
    {
      "cell_type": "code",
      "execution_count": 1,
      "metadata": {
        "id": "qAqH4-hAkIjw"
      },
      "outputs": [],
      "source": [
        "# 라이브러리를 임포트합니다.\n",
        "import numpy as np"
      ]
    },
    {
      "cell_type": "code",
      "execution_count": 2,
      "metadata": {
        "id": "zvNfYBsJkIjx",
        "outputId": "b598a6f7-f9df-4003-869d-1e779f7e4fd5",
        "colab": {
          "base_uri": "https://localhost:8080/",
          "height": 35
        }
      },
      "outputs": [
        {
          "output_type": "execute_result",
          "data": {
            "text/plain": [
              "'1.21.5'"
            ],
            "application/vnd.google.colaboratory.intrinsic+json": {
              "type": "string"
            }
          },
          "metadata": {},
          "execution_count": 2
        }
      ],
      "source": [
        "np.__version__"
      ]
    },
    {
      "cell_type": "code",
      "execution_count": 3,
      "metadata": {
        "id": "2PIfuDyZkIjy"
      },
      "outputs": [],
      "source": [
        "# 하나의 행으로 벡터를 만듭니다.\n",
        "vector_row = np.array([1, 2, 3])"
      ]
    },
    {
      "cell_type": "code",
      "execution_count": 4,
      "metadata": {
        "id": "o6Lc8CD5kIjz",
        "outputId": "0ed4f296-056d-4ff8-c3e7-512edd9b1c2b",
        "colab": {
          "base_uri": "https://localhost:8080/"
        }
      },
      "outputs": [
        {
          "output_type": "execute_result",
          "data": {
            "text/plain": [
              "(3,)"
            ]
          },
          "metadata": {},
          "execution_count": 4
        }
      ],
      "source": [
        "vector_row.shape"
      ]
    },
    {
      "cell_type": "code",
      "execution_count": 5,
      "metadata": {
        "id": "kjNkyEgBkIjz"
      },
      "outputs": [],
      "source": [
        "# 하나의 열로 벡터를 만듭니다.\n",
        "vector_column = np.array([[1],\n",
        "                          [2],\n",
        "                          [3]])"
      ]
    },
    {
      "cell_type": "code",
      "execution_count": 6,
      "metadata": {
        "id": "DGAAJN0IkIj0",
        "outputId": "cfc4dc93-ee7e-406c-acbf-8cf88c20a608",
        "colab": {
          "base_uri": "https://localhost:8080/"
        }
      },
      "outputs": [
        {
          "output_type": "execute_result",
          "data": {
            "text/plain": [
              "array([[1],\n",
              "       [2],\n",
              "       [3]])"
            ]
          },
          "metadata": {},
          "execution_count": 6
        }
      ],
      "source": [
        "vector_column"
      ]
    },
    {
      "cell_type": "markdown",
      "metadata": {
        "id": "nANPcg9ZkIj0"
      },
      "source": [
        "### 불임"
      ]
    },
    {
      "cell_type": "code",
      "execution_count": 7,
      "metadata": {
        "id": "k9qx9B1rkIj1",
        "outputId": "719d5b73-8d7e-4665-cec2-63027a743b50",
        "colab": {
          "base_uri": "https://localhost:8080/"
        }
      },
      "outputs": [
        {
          "output_type": "stream",
          "name": "stdout",
          "text": [
            "<class 'numpy.ndarray'>\n"
          ]
        }
      ],
      "source": [
        "# 넘파이 배열의 클래스를 출력합니다.\n",
        "print(type(vector_row))"
      ]
    },
    {
      "cell_type": "code",
      "execution_count": null,
      "metadata": {
        "id": "PImy2SE_kIj1"
      },
      "outputs": [],
      "source": [
        "# ndarray를 사용하는 것은 권장되지 않습니다.\n",
        "bad_way = np.ndarray((3,))"
      ]
    },
    {
      "cell_type": "code",
      "execution_count": 12,
      "metadata": {
        "id": "6rqdDT-4kIj1",
        "outputId": "1994dc59-7eba-480b-bdee-aecb32a1efc9",
        "colab": {
          "base_uri": "https://localhost:8080/"
        }
      },
      "outputs": [
        {
          "output_type": "stream",
          "name": "stdout",
          "text": [
            "[1 2 3]\n",
            "<class 'numpy.ndarray'>\n"
          ]
        },
        {
          "output_type": "execute_result",
          "data": {
            "text/plain": [
              "True"
            ]
          },
          "metadata": {},
          "execution_count": 12
        }
      ],
      "source": [
        "new_row = np.asarray([1, 2, 3])\n",
        "# asarray()는 새로운 배열을 만들지 않습니다.\n",
        "new_row = np.asarray(vector_row)\n",
        "new_row is vector_row"
      ]
    },
    {
      "cell_type": "markdown",
      "metadata": {
        "id": "krLWuwEqkIj3"
      },
      "source": [
        "## 1.2 행렬 만들기"
      ]
    },
    {
      "cell_type": "code",
      "execution_count": 13,
      "metadata": {
        "id": "CIUU8VX3kIj3",
        "outputId": "08278573-d11e-4004-824d-d9d62b2ddfdf",
        "colab": {
          "base_uri": "https://localhost:8080/"
        }
      },
      "outputs": [
        {
          "output_type": "execute_result",
          "data": {
            "text/plain": [
              "matrix([[1, 2],\n",
              "        [3, 4]])"
            ]
          },
          "metadata": {},
          "execution_count": 13
        }
      ],
      "source": [
        "# numpy.matrix is matrix class that has a more convenient interface than numpy.ndarray for matrix operations. \n",
        "# This class supports, MATLAB-like creation syntax via the semicolon, has matrix multiplication as default for the * operator, \n",
        "# and contains I and T members that serve as shortcuts for inverse and transpose:\n",
        "import numpy as np\n",
        "A = np.mat('[1 2;3 4]')\n",
        "A"
      ]
    },
    {
      "cell_type": "code",
      "execution_count": 14,
      "metadata": {
        "id": "Mr93lvUTkIj3",
        "outputId": "a74b8666-35d5-4c4c-a912-34c223797eac",
        "colab": {
          "base_uri": "https://localhost:8080/"
        }
      },
      "outputs": [
        {
          "output_type": "execute_result",
          "data": {
            "text/plain": [
              "matrix([[-2. ,  1. ],\n",
              "        [ 1.5, -0.5]])"
            ]
          },
          "metadata": {},
          "execution_count": 14
        }
      ],
      "source": [
        "A.I"
      ]
    },
    {
      "cell_type": "code",
      "execution_count": 15,
      "metadata": {
        "id": "5Z3OSxsZkIj4",
        "outputId": "30b8a83b-e516-4390-e039-442d0c0a4857",
        "colab": {
          "base_uri": "https://localhost:8080/"
        }
      },
      "outputs": [
        {
          "output_type": "execute_result",
          "data": {
            "text/plain": [
              "matrix([[5, 6]])"
            ]
          },
          "metadata": {},
          "execution_count": 15
        }
      ],
      "source": [
        "b = np.mat('[5 6]')\n",
        "b"
      ]
    },
    {
      "cell_type": "code",
      "execution_count": 16,
      "metadata": {
        "id": "wI4v6ohykIj4",
        "outputId": "527c20c4-bfad-4883-9c66-81e344e32814",
        "colab": {
          "base_uri": "https://localhost:8080/"
        }
      },
      "outputs": [
        {
          "output_type": "execute_result",
          "data": {
            "text/plain": [
              "matrix([[5],\n",
              "        [6]])"
            ]
          },
          "metadata": {},
          "execution_count": 16
        }
      ],
      "source": [
        "b.T"
      ]
    },
    {
      "cell_type": "code",
      "execution_count": 17,
      "metadata": {
        "id": "zHLJc8KlkIj4",
        "outputId": "98f54626-729d-40e3-92e1-2fbc72d31d45",
        "colab": {
          "base_uri": "https://localhost:8080/"
        }
      },
      "outputs": [
        {
          "output_type": "execute_result",
          "data": {
            "text/plain": [
              "matrix([[17],\n",
              "        [39]])"
            ]
          },
          "metadata": {},
          "execution_count": 17
        }
      ],
      "source": [
        "A*b.T\n",
        "# the matrix data structure is not recommended for two reasons. \n",
        "# First, arrays are the de facto standard data structure of NumPy. \n",
        "# Second, the vast majority of NumPy operations return arrays, not matrix objects."
      ]
    },
    {
      "cell_type": "markdown",
      "metadata": {
        "id": "NpQw4v7ZkIj4"
      },
      "source": [
        "### the above code can be rewritten as:"
      ]
    },
    {
      "cell_type": "code",
      "execution_count": 18,
      "metadata": {
        "id": "4d2ziZr6kIj5",
        "outputId": "100eac20-d091-4358-a322-affe06d18511",
        "colab": {
          "base_uri": "https://localhost:8080/"
        }
      },
      "outputs": [
        {
          "output_type": "execute_result",
          "data": {
            "text/plain": [
              "array([[1, 2],\n",
              "       [3, 4]])"
            ]
          },
          "metadata": {},
          "execution_count": 18
        }
      ],
      "source": [
        "# scipy.linalg operations can be applied equally to numpy.matrix or to 2D numpy.ndarray objects.\n",
        "import numpy as np\n",
        "from scipy import linalg\n",
        "A = np.array([[1,2],[3,4]])\n",
        "A"
      ]
    },
    {
      "cell_type": "code",
      "execution_count": 19,
      "metadata": {
        "id": "Z_Uu6dMKkIj5",
        "outputId": "603a2643-35d0-4710-9daf-86e53688159c",
        "colab": {
          "base_uri": "https://localhost:8080/"
        }
      },
      "outputs": [
        {
          "output_type": "execute_result",
          "data": {
            "text/plain": [
              "array([[-2. ,  1. ],\n",
              "       [ 1.5, -0.5]])"
            ]
          },
          "metadata": {},
          "execution_count": 19
        }
      ],
      "source": [
        "linalg.inv(A)"
      ]
    },
    {
      "cell_type": "code",
      "execution_count": 20,
      "metadata": {
        "id": "na3qw86FkIj5",
        "outputId": "04963e80-7a8c-4c8b-d109-97884175dffe",
        "colab": {
          "base_uri": "https://localhost:8080/"
        }
      },
      "outputs": [
        {
          "output_type": "execute_result",
          "data": {
            "text/plain": [
              "array([[5, 6]])"
            ]
          },
          "metadata": {},
          "execution_count": 20
        }
      ],
      "source": [
        "b = np.array([[5,6]]) #2D array\n",
        "b"
      ]
    },
    {
      "cell_type": "code",
      "execution_count": 21,
      "metadata": {
        "id": "Eg0mNvKTkIj5",
        "outputId": "8041c636-bc70-405d-c922-a8cf6b127332",
        "colab": {
          "base_uri": "https://localhost:8080/"
        }
      },
      "outputs": [
        {
          "output_type": "execute_result",
          "data": {
            "text/plain": [
              "array([[5],\n",
              "       [6]])"
            ]
          },
          "metadata": {},
          "execution_count": 21
        }
      ],
      "source": [
        "b.T"
      ]
    },
    {
      "cell_type": "code",
      "execution_count": 22,
      "metadata": {
        "id": "jchuYQM8kIj6",
        "outputId": "1130c05e-5bdd-41e0-9165-8aa1f3fe7337",
        "colab": {
          "base_uri": "https://localhost:8080/"
        }
      },
      "outputs": [
        {
          "output_type": "execute_result",
          "data": {
            "text/plain": [
              "array([[ 5, 12],\n",
              "       [15, 24]])"
            ]
          },
          "metadata": {},
          "execution_count": 22
        }
      ],
      "source": [
        "A*b #not matrix multiplication!"
      ]
    },
    {
      "cell_type": "code",
      "execution_count": 23,
      "metadata": {
        "id": "UEfqz_5jkIj6",
        "outputId": "702ae2ed-293c-4660-e8d3-a96faa5600dd",
        "colab": {
          "base_uri": "https://localhost:8080/"
        }
      },
      "outputs": [
        {
          "output_type": "execute_result",
          "data": {
            "text/plain": [
              "array([[17],\n",
              "       [39]])"
            ]
          },
          "metadata": {},
          "execution_count": 23
        }
      ],
      "source": [
        "A.dot(b.T) #matrix multiplication"
      ]
    },
    {
      "cell_type": "code",
      "execution_count": 24,
      "metadata": {
        "id": "BL1h60zlkIj6",
        "outputId": "afe8e5ac-989b-4ae7-ca4b-1899d0d753ee",
        "colab": {
          "base_uri": "https://localhost:8080/"
        }
      },
      "outputs": [
        {
          "output_type": "execute_result",
          "data": {
            "text/plain": [
              "array([5, 6])"
            ]
          },
          "metadata": {},
          "execution_count": 24
        }
      ],
      "source": [
        "b = np.array([5,6]) #1D array\n",
        "b"
      ]
    },
    {
      "cell_type": "code",
      "execution_count": 25,
      "metadata": {
        "id": "QlZTif1-kIj6",
        "outputId": "00808aad-236b-4576-d666-20bff23ebf5e",
        "colab": {
          "base_uri": "https://localhost:8080/"
        }
      },
      "outputs": [
        {
          "output_type": "execute_result",
          "data": {
            "text/plain": [
              "array([5, 6])"
            ]
          },
          "metadata": {},
          "execution_count": 25
        }
      ],
      "source": [
        "b.T  #not matrix transpose!"
      ]
    },
    {
      "cell_type": "code",
      "execution_count": 26,
      "metadata": {
        "id": "U3X7wG0VkIj6",
        "outputId": "ae010cf8-ae16-46ae-f681-0f3079b79b92",
        "colab": {
          "base_uri": "https://localhost:8080/"
        }
      },
      "outputs": [
        {
          "output_type": "execute_result",
          "data": {
            "text/plain": [
              "array([17, 39])"
            ]
          },
          "metadata": {},
          "execution_count": 26
        }
      ],
      "source": [
        "A.dot(b)  #does not matter for multiplication"
      ]
    },
    {
      "cell_type": "markdown",
      "metadata": {
        "id": "3OXc_QxykIj7"
      },
      "source": [
        "### 붙임"
      ]
    },
    {
      "cell_type": "code",
      "execution_count": 31,
      "metadata": {
        "id": "zFe5fuAPkIj7",
        "outputId": "2654d77f-cf3f-403b-e095-c859328d6136",
        "colab": {
          "base_uri": "https://localhost:8080/"
        }
      },
      "outputs": [
        {
          "output_type": "execute_result",
          "data": {
            "text/plain": [
              "array([[0., 0.],\n",
              "       [0., 0.],\n",
              "       [0., 0.]])"
            ]
          },
          "metadata": {},
          "execution_count": 31
        }
      ],
      "source": [
        "# 임의의 값이 채워진 배열을 만듭니다.\n",
        "empty_matrix = np.empty((3, 2))\n",
        "empty_matrix"
      ]
    },
    {
      "cell_type": "code",
      "execution_count": 29,
      "metadata": {
        "id": "pwLNY0wukIj7",
        "outputId": "e0c13c1b-dfb1-4754-e522-4674f93d8ca8",
        "colab": {
          "base_uri": "https://localhost:8080/"
        }
      },
      "outputs": [
        {
          "output_type": "execute_result",
          "data": {
            "text/plain": [
              "array([[0., 0.],\n",
              "       [0., 0.],\n",
              "       [0., 0.]])"
            ]
          },
          "metadata": {},
          "execution_count": 29
        }
      ],
      "source": [
        "zero_matrix = np.zeros((3, 2))\n",
        "zero_matrix"
      ]
    },
    {
      "cell_type": "code",
      "execution_count": 32,
      "metadata": {
        "id": "DB3H9YnQkIj7",
        "outputId": "10b67202-0110-4b28-ff1e-aab2a86733f6",
        "colab": {
          "base_uri": "https://localhost:8080/"
        }
      },
      "outputs": [
        {
          "output_type": "execute_result",
          "data": {
            "text/plain": [
              "array([[1., 1.],\n",
              "       [1., 1.],\n",
              "       [1., 1.]])"
            ]
          },
          "metadata": {},
          "execution_count": 32
        }
      ],
      "source": [
        "one_matrix = np.ones((3, 2))\n",
        "one_matrix"
      ]
    },
    {
      "cell_type": "code",
      "execution_count": 33,
      "metadata": {
        "id": "mndqTazVkIj7",
        "outputId": "f6b3a63f-1398-4eb0-fd28-808fcf5d8b30",
        "colab": {
          "base_uri": "https://localhost:8080/"
        }
      },
      "outputs": [
        {
          "output_type": "execute_result",
          "data": {
            "text/plain": [
              "array([[7, 7],\n",
              "       [7, 7],\n",
              "       [7, 7]])"
            ]
          },
          "metadata": {},
          "execution_count": 33
        }
      ],
      "source": [
        "# 0 행렬을 만든 후 7을 더합니다.\n",
        "seven_matrix = np.zeros((3, 2)) + 7\n",
        "# full() 함수를 사용하는 것이 효율적입니다.\n",
        "seven_matrix = np.full((3, 2), 7)\n",
        "seven_matrix"
      ]
    },
    {
      "cell_type": "markdown",
      "metadata": {
        "id": "kRA2ecYWkIj8"
      },
      "source": [
        "## 1.3 희소 행렬 만들기"
      ]
    },
    {
      "cell_type": "code",
      "execution_count": 34,
      "metadata": {
        "id": "z8bAusrmkIj8"
      },
      "outputs": [],
      "source": [
        "# 라이브러리를 임포트합니다.\n",
        "import numpy as np\n",
        "from scipy import sparse\n",
        "\n",
        "# 행렬을 만듭니다. \n",
        "matrix = np.array([[0, 0],\n",
        "                   [0, 1],\n",
        "                   [3, 0]])\n",
        "\n",
        "# CSR (compressed sparse row) 행렬을 만듭니다.\n",
        "matrix_sparse = sparse.csr_matrix(matrix)"
      ]
    },
    {
      "cell_type": "code",
      "execution_count": 35,
      "metadata": {
        "id": "YO4pAmLSkIj8",
        "outputId": "336e8789-306b-4a4d-ef28-fa73d0cdac09",
        "colab": {
          "base_uri": "https://localhost:8080/"
        }
      },
      "outputs": [
        {
          "output_type": "stream",
          "name": "stdout",
          "text": [
            "  (1, 1)\t1\n",
            "  (2, 0)\t3\n"
          ]
        }
      ],
      "source": [
        "# 희소 행렬을 출력합니다.\n",
        "print(matrix_sparse)"
      ]
    },
    {
      "cell_type": "code",
      "execution_count": 36,
      "metadata": {
        "id": "x82iQ_3nkIj8",
        "outputId": "bb348efa-31f3-45b7-d174-41bc385e3d52",
        "colab": {
          "base_uri": "https://localhost:8080/"
        }
      },
      "outputs": [
        {
          "output_type": "stream",
          "name": "stdout",
          "text": [
            "  (1, 1)\t1\n",
            "  (2, 0)\t3\n"
          ]
        }
      ],
      "source": [
        "# 큰 행렬을 만듭니다.\n",
        "matrix_large = np.array([[0, 0, 0, 0, 0, 0, 0, 0, 0, 0],\n",
        "                         [0, 1, 0, 0, 0, 0, 0, 0, 0, 0],\n",
        "                         [3, 0, 0, 0, 0, 0, 0, 0, 0, 0]])\n",
        "\n",
        "# CSR 행렬을 만듭니다.\n",
        "matrix_large_sparse = sparse.csr_matrix(matrix_large)\n",
        "\n",
        "# 원래 희소 행렬을 출력합니다.\n",
        "print(matrix_sparse)"
      ]
    },
    {
      "cell_type": "code",
      "execution_count": 37,
      "metadata": {
        "id": "Kl2AG7Z5kIj8",
        "outputId": "b70c68fb-f5e6-49cb-e0ef-e03d1c74b3ff",
        "colab": {
          "base_uri": "https://localhost:8080/"
        }
      },
      "outputs": [
        {
          "output_type": "stream",
          "name": "stdout",
          "text": [
            "  (1, 1)\t1\n",
            "  (2, 0)\t3\n"
          ]
        }
      ],
      "source": [
        "# 큰 희소 행렬을 출력합니다.\n",
        "print(matrix_large_sparse)"
      ]
    },
    {
      "cell_type": "markdown",
      "metadata": {
        "id": "iPaVtBZAkIj9"
      },
      "source": [
        "### 붙임"
      ]
    },
    {
      "cell_type": "code",
      "execution_count": 38,
      "metadata": {
        "id": "teg6u_ThkIj9",
        "outputId": "c8326e63-d399-42e4-e57b-96f117d04178",
        "colab": {
          "base_uri": "https://localhost:8080/"
        }
      },
      "outputs": [
        {
          "output_type": "stream",
          "name": "stdout",
          "text": [
            "  (1, 1)\t1\n",
            "  (2, 0)\t3\n"
          ]
        }
      ],
      "source": [
        "# (data, (row_index, col_index))로 구성된 튜플을 전달합니다.\n",
        "# shape 매개변수에서 0을 포함한 행렬의 전체 크기를 지정합니다.  \n",
        "matrix_sparse_2 = sparse.csr_matrix(([1, 3], ([1, 2], [1, 0])), shape=(3, 10))\n",
        "\n",
        "print(matrix_sparse_2)"
      ]
    },
    {
      "cell_type": "code",
      "execution_count": 39,
      "metadata": {
        "id": "2wZibkQMkIj9",
        "outputId": "b7d18a2f-80b7-4f6b-fd03-c629afedba7d",
        "colab": {
          "base_uri": "https://localhost:8080/"
        }
      },
      "outputs": [
        {
          "output_type": "stream",
          "name": "stdout",
          "text": [
            "[[0 0 0 0 0 0 0 0 0 0]\n",
            " [0 1 0 0 0 0 0 0 0 0]\n",
            " [3 0 0 0 0 0 0 0 0 0]]\n"
          ]
        }
      ],
      "source": [
        "print(matrix_sparse_2.toarray())"
      ]
    },
    {
      "cell_type": "code",
      "execution_count": 40,
      "metadata": {
        "id": "TerBo2-bkIj9",
        "outputId": "eae9c949-fd3c-48ec-97ca-e16543bd5a07",
        "colab": {
          "base_uri": "https://localhost:8080/"
        }
      },
      "outputs": [
        {
          "output_type": "execute_result",
          "data": {
            "text/plain": [
              "matrix([[0, 0, 0, 0, 0, 0, 0, 0, 0, 0],\n",
              "        [0, 1, 0, 0, 0, 0, 0, 0, 0, 0],\n",
              "        [3, 0, 0, 0, 0, 0, 0, 0, 0, 0]], dtype=int64)"
            ]
          },
          "metadata": {},
          "execution_count": 40
        }
      ],
      "source": [
        "matrix_sparse_2.todense()"
      ]
    },
    {
      "cell_type": "markdown",
      "metadata": {
        "id": "XaVGDIk3kIj9"
      },
      "source": [
        "## 1.4 원소 선택"
      ]
    },
    {
      "cell_type": "code",
      "execution_count": 41,
      "metadata": {
        "id": "Gtq6BEFekIj9",
        "outputId": "49b3e69e-852f-4c09-8361-2afe640d0062",
        "colab": {
          "base_uri": "https://localhost:8080/"
        }
      },
      "outputs": [
        {
          "output_type": "execute_result",
          "data": {
            "text/plain": [
              "3"
            ]
          },
          "metadata": {},
          "execution_count": 41
        }
      ],
      "source": [
        "# 라이브러리를 임포트합니다.\n",
        "import numpy as np\n",
        "\n",
        "# 행 벡터를 만듭니다.\n",
        "vector = np.array([1, 2, 3, 4, 5, 6])\n",
        "\n",
        "# 행렬을 만듭니다.\n",
        "matrix = np.array([[1, 2, 3],\n",
        "                   [4, 5, 6],\n",
        "                   [7, 8, 9]])\n",
        "\n",
        "# vector의 세 번째 원소를 선택합니다.\n",
        "vector[2]"
      ]
    },
    {
      "cell_type": "code",
      "execution_count": 42,
      "metadata": {
        "id": "Fzu_J5UakIj-",
        "outputId": "8cddd760-0b03-4554-8195-877d04899b8f",
        "colab": {
          "base_uri": "https://localhost:8080/"
        }
      },
      "outputs": [
        {
          "output_type": "execute_result",
          "data": {
            "text/plain": [
              "5"
            ]
          },
          "metadata": {},
          "execution_count": 42
        }
      ],
      "source": [
        "# matrix의 두 번째 행, 두 번째 열의 원소를 선택합니다.\n",
        "matrix[1,1]"
      ]
    },
    {
      "cell_type": "code",
      "execution_count": 43,
      "metadata": {
        "id": "IdEZ4dX9kIj-",
        "outputId": "645c9a01-601d-40ed-963f-764802719cec",
        "colab": {
          "base_uri": "https://localhost:8080/"
        }
      },
      "outputs": [
        {
          "output_type": "execute_result",
          "data": {
            "text/plain": [
              "array([1, 2, 3, 4, 5, 6])"
            ]
          },
          "metadata": {},
          "execution_count": 43
        }
      ],
      "source": [
        "# 벡터에 있는 모든 원소를 선택합니다.\n",
        "vector[:]"
      ]
    },
    {
      "cell_type": "code",
      "execution_count": 44,
      "metadata": {
        "id": "r5R1veFKkIj-",
        "outputId": "5d77e9d5-682a-47d2-cb90-d03651d76168",
        "colab": {
          "base_uri": "https://localhost:8080/"
        }
      },
      "outputs": [
        {
          "output_type": "execute_result",
          "data": {
            "text/plain": [
              "array([1, 2, 3])"
            ]
          },
          "metadata": {},
          "execution_count": 44
        }
      ],
      "source": [
        "# 세 번째 원소를 포함하여 그 이전의 모든 원소를 선택합니다.\n",
        "vector[:3]"
      ]
    },
    {
      "cell_type": "code",
      "execution_count": 45,
      "metadata": {
        "id": "EmmxEQkIkIj-",
        "outputId": "d2b49f1d-b70b-42af-8a65-fb0392e694df",
        "colab": {
          "base_uri": "https://localhost:8080/"
        }
      },
      "outputs": [
        {
          "output_type": "execute_result",
          "data": {
            "text/plain": [
              "array([4, 5, 6])"
            ]
          },
          "metadata": {},
          "execution_count": 45
        }
      ],
      "source": [
        "# 세 번째 이후의 모든 원소를 선택합니다.\n",
        "vector[3:]"
      ]
    },
    {
      "cell_type": "code",
      "execution_count": 46,
      "metadata": {
        "id": "SLktBU3JkIj_",
        "outputId": "43e45f37-8a74-4f25-c854-483182d4e05d",
        "colab": {
          "base_uri": "https://localhost:8080/"
        }
      },
      "outputs": [
        {
          "output_type": "execute_result",
          "data": {
            "text/plain": [
              "6"
            ]
          },
          "metadata": {},
          "execution_count": 46
        }
      ],
      "source": [
        "# 마지막 원소를 선택합니다.\n",
        "vector[-1]"
      ]
    },
    {
      "cell_type": "code",
      "execution_count": 47,
      "metadata": {
        "id": "a087d759kIj_",
        "outputId": "992848a2-d5b4-44bb-d2cf-0d5139d7d6a4",
        "colab": {
          "base_uri": "https://localhost:8080/"
        }
      },
      "outputs": [
        {
          "output_type": "execute_result",
          "data": {
            "text/plain": [
              "array([[1, 2, 3],\n",
              "       [4, 5, 6]])"
            ]
          },
          "metadata": {},
          "execution_count": 47
        }
      ],
      "source": [
        "# 행렬에서 첫 번째 두 개의 행과 모든 열을 선택합니다.\n",
        "matrix[:2,:]"
      ]
    },
    {
      "cell_type": "code",
      "execution_count": 48,
      "metadata": {
        "id": "JOuElc4qkIj_",
        "outputId": "3214152f-f6dd-4235-ee4e-f5e372fddb32",
        "colab": {
          "base_uri": "https://localhost:8080/"
        }
      },
      "outputs": [
        {
          "output_type": "execute_result",
          "data": {
            "text/plain": [
              "array([[2],\n",
              "       [5],\n",
              "       [8]])"
            ]
          },
          "metadata": {},
          "execution_count": 48
        }
      ],
      "source": [
        "# 모든 행과 두 번째 열을 선택합니다.\n",
        "matrix[:,1:2]"
      ]
    },
    {
      "cell_type": "markdown",
      "metadata": {
        "id": "hISP1Q0gkIj_"
      },
      "source": [
        "### 붙임"
      ]
    },
    {
      "cell_type": "code",
      "execution_count": 49,
      "metadata": {
        "id": "hdzPVR6_kIj_",
        "outputId": "8774aab3-e4aa-47c0-8942-3f5423d7b00a",
        "colab": {
          "base_uri": "https://localhost:8080/"
        }
      },
      "outputs": [
        {
          "output_type": "execute_result",
          "data": {
            "text/plain": [
              "array([[1, 2, 3],\n",
              "       [7, 8, 9]])"
            ]
          },
          "metadata": {},
          "execution_count": 49
        }
      ],
      "source": [
        "# 첫 번째 행과 세 번째 행을 선택합니다.\n",
        "matrix[[0,2]]"
      ]
    },
    {
      "cell_type": "code",
      "execution_count": 50,
      "metadata": {
        "id": "u1-4-TLakIkA",
        "outputId": "4064facb-2ef2-475f-a3fe-aa766f27289d",
        "colab": {
          "base_uri": "https://localhost:8080/"
        }
      },
      "outputs": [
        {
          "output_type": "execute_result",
          "data": {
            "text/plain": [
              "array([2, 7])"
            ]
          },
          "metadata": {},
          "execution_count": 50
        }
      ],
      "source": [
        "# (0, 1), (2, 0) 위치의 원소를 선택합니다.\n",
        "matrix[[0,2], [1,0]]"
      ]
    },
    {
      "cell_type": "code",
      "execution_count": 51,
      "metadata": {
        "id": "qD6FVxjgkIkA",
        "outputId": "58a60b10-a44a-411b-c3c7-2f895504d1ed",
        "colab": {
          "base_uri": "https://localhost:8080/"
        }
      },
      "outputs": [
        {
          "output_type": "execute_result",
          "data": {
            "text/plain": [
              "array([[False, False, False],\n",
              "       [False, False,  True],\n",
              "       [ True,  True,  True]])"
            ]
          },
          "metadata": {},
          "execution_count": 51
        }
      ],
      "source": [
        "# matrix의 각 원소에 비교 연산자가 적용됩니다.\n",
        "mask = matrix > 5\n",
        "\n",
        "mask"
      ]
    },
    {
      "cell_type": "code",
      "execution_count": 52,
      "metadata": {
        "id": "DFwRFA8IkIkA",
        "outputId": "2d552838-73d3-459e-d2a6-231a2f916222",
        "colab": {
          "base_uri": "https://localhost:8080/"
        }
      },
      "outputs": [
        {
          "output_type": "execute_result",
          "data": {
            "text/plain": [
              "array([6, 7, 8, 9])"
            ]
          },
          "metadata": {},
          "execution_count": 52
        }
      ],
      "source": [
        "# 불리언 마스크 배열을 사용하여 원소를 선택합니다.\n",
        "matrix[mask]"
      ]
    },
    {
      "cell_type": "markdown",
      "metadata": {
        "id": "PHmRzahLkIkA"
      },
      "source": [
        "## 1.5 행렬 정보 확인"
      ]
    },
    {
      "cell_type": "code",
      "execution_count": 53,
      "metadata": {
        "id": "1von0JtokIkB",
        "outputId": "7b9cc864-01d1-4444-98a3-86066f38e92c",
        "colab": {
          "base_uri": "https://localhost:8080/"
        }
      },
      "outputs": [
        {
          "output_type": "execute_result",
          "data": {
            "text/plain": [
              "(3, 4)"
            ]
          },
          "metadata": {},
          "execution_count": 53
        }
      ],
      "source": [
        "# 라이브러리를 임포트합니다.\n",
        "import numpy as np\n",
        "\n",
        "# 행렬을 만듭니다.\n",
        "matrix = np.array([[1, 2, 3, 4],\n",
        "                   [5, 6, 7, 8],\n",
        "                   [9, 10, 11, 12]])\n",
        "\n",
        "# 행렬의 크기를 확인합니다.\n",
        "matrix.shape"
      ]
    },
    {
      "cell_type": "code",
      "execution_count": 54,
      "metadata": {
        "id": "aRFDiOkOkIkB",
        "outputId": "115e576a-f4e4-4133-c269-106c4dcb9761",
        "colab": {
          "base_uri": "https://localhost:8080/"
        }
      },
      "outputs": [
        {
          "output_type": "execute_result",
          "data": {
            "text/plain": [
              "12"
            ]
          },
          "metadata": {},
          "execution_count": 54
        }
      ],
      "source": [
        "# 행렬의 원소 개수를 확인합니다(행 * 열).\n",
        "matrix.size"
      ]
    },
    {
      "cell_type": "code",
      "execution_count": 55,
      "metadata": {
        "id": "umXvj3sSkIkB",
        "outputId": "58877e38-6383-4142-85d4-9b01713c43d6",
        "colab": {
          "base_uri": "https://localhost:8080/"
        }
      },
      "outputs": [
        {
          "output_type": "execute_result",
          "data": {
            "text/plain": [
              "2"
            ]
          },
          "metadata": {},
          "execution_count": 55
        }
      ],
      "source": [
        "# 차원 수를 확인합니다.\n",
        "matrix.ndim"
      ]
    },
    {
      "cell_type": "markdown",
      "metadata": {
        "id": "s4Lpi5MIkIkB"
      },
      "source": [
        "### 붙임"
      ]
    },
    {
      "cell_type": "code",
      "execution_count": 56,
      "metadata": {
        "id": "PcEyH00ckIkB",
        "outputId": "bc487599-d93b-4e7a-d9ed-82e01eec16fe",
        "colab": {
          "base_uri": "https://localhost:8080/"
        }
      },
      "outputs": [
        {
          "output_type": "stream",
          "name": "stdout",
          "text": [
            "int64\n"
          ]
        }
      ],
      "source": [
        "# 원소의 데이터 타입을 확인합니다.\n",
        "print(matrix.dtype)"
      ]
    },
    {
      "cell_type": "code",
      "execution_count": 57,
      "metadata": {
        "id": "Uy-uKz50kIkB",
        "outputId": "f5ada8a4-e5bc-4d42-ba60-86a1e4a8c176",
        "colab": {
          "base_uri": "https://localhost:8080/"
        }
      },
      "outputs": [
        {
          "output_type": "stream",
          "name": "stdout",
          "text": [
            "8\n"
          ]
        }
      ],
      "source": [
        "# 원소 하나가 차지하는 바이트 크기입니다. \n",
        "print(matrix.itemsize)"
      ]
    },
    {
      "cell_type": "code",
      "execution_count": 58,
      "metadata": {
        "id": "rwuTI5HMkIkC",
        "outputId": "ac579f4a-924e-45c8-f721-aea9eb60c9c1",
        "colab": {
          "base_uri": "https://localhost:8080/"
        }
      },
      "outputs": [
        {
          "output_type": "stream",
          "name": "stdout",
          "text": [
            "96\n"
          ]
        }
      ],
      "source": [
        "# 배열 전체가 차지하는 바이트 크기입니다.\n",
        "print(matrix.nbytes)"
      ]
    },
    {
      "cell_type": "markdown",
      "metadata": {
        "id": "7LHQLTgdkIkC"
      },
      "source": [
        "## 1.6 벡터화 연산 적용하기"
      ]
    },
    {
      "cell_type": "code",
      "execution_count": 59,
      "metadata": {
        "id": "z7tqAXNnkIkC",
        "outputId": "5ac388ce-037e-4b4d-f852-fcadcc6e9e66",
        "colab": {
          "base_uri": "https://localhost:8080/"
        }
      },
      "outputs": [
        {
          "output_type": "execute_result",
          "data": {
            "text/plain": [
              "array([[101, 102, 103],\n",
              "       [104, 105, 106],\n",
              "       [107, 108, 109]])"
            ]
          },
          "metadata": {},
          "execution_count": 59
        }
      ],
      "source": [
        "# 라이브러리를 임포트합니다.\n",
        "import numpy as np\n",
        "\n",
        "# 행렬을 만듭니다.\n",
        "matrix = np.array([[1, 2, 3],\n",
        "                   [4, 5, 6],\n",
        "                   [7, 8, 9]])\n",
        "\n",
        "# 100을 더하는 함수를 만듭니다.\n",
        "add_100 = lambda i: i + 100\n",
        "\n",
        "# 벡터화된 함수를 만듭니다.\n",
        "vectorized_add_100 = np.vectorize(add_100)\n",
        "\n",
        "# 행렬의 모든 원소에 함수를 적용합니다.\n",
        "vectorized_add_100(matrix)"
      ]
    },
    {
      "cell_type": "code",
      "execution_count": 60,
      "metadata": {
        "id": "99x0mo4PkIkC",
        "outputId": "ab86be73-01eb-4279-9f83-bfe2cbf28765",
        "colab": {
          "base_uri": "https://localhost:8080/"
        }
      },
      "outputs": [
        {
          "output_type": "execute_result",
          "data": {
            "text/plain": [
              "array([[101, 102, 103],\n",
              "       [104, 105, 106],\n",
              "       [107, 108, 109]])"
            ]
          },
          "metadata": {},
          "execution_count": 60
        }
      ],
      "source": [
        "# 모든 원소에 100을 더합니다.\n",
        "matrix + 100"
      ]
    },
    {
      "cell_type": "markdown",
      "metadata": {
        "id": "hiEZJhZ7kIkC"
      },
      "source": [
        "### 붙임"
      ]
    },
    {
      "cell_type": "code",
      "execution_count": 61,
      "metadata": {
        "id": "X0jAkA0tkIkC",
        "outputId": "a8b486bc-f8ec-41b7-c78d-f943faf60034",
        "colab": {
          "base_uri": "https://localhost:8080/"
        }
      },
      "outputs": [
        {
          "output_type": "execute_result",
          "data": {
            "text/plain": [
              "array([[101, 202, 303],\n",
              "       [104, 205, 306],\n",
              "       [107, 208, 309]])"
            ]
          },
          "metadata": {},
          "execution_count": 61
        }
      ],
      "source": [
        "# (3, 3) 크기 행렬에 (3, ) 벡터를 더하면 \n",
        "# (1, 3) 크기가 된다음 행을 따라 반복됩니다.\n",
        "matrix + [100, 200, 300]"
      ]
    },
    {
      "cell_type": "code",
      "execution_count": 62,
      "metadata": {
        "id": "f0RI8u5nkIkD",
        "outputId": "5286ba27-64f1-4dd6-ff8a-7b92a8d3e5c2",
        "colab": {
          "base_uri": "https://localhost:8080/"
        }
      },
      "outputs": [
        {
          "output_type": "execute_result",
          "data": {
            "text/plain": [
              "array([[101, 102, 103],\n",
              "       [204, 205, 206],\n",
              "       [307, 308, 309]])"
            ]
          },
          "metadata": {},
          "execution_count": 62
        }
      ],
      "source": [
        "# (3, 3) 크기 행렬에 (3, 1) 벡터를 더하면 열을 따라 반복됩니다.\n",
        "matrix + [[100], [200], [300]]"
      ]
    },
    {
      "cell_type": "markdown",
      "metadata": {
        "id": "32GPsFupkIkD"
      },
      "source": [
        "## 1.7 최댓값, 최솟값 찾기"
      ]
    },
    {
      "cell_type": "code",
      "execution_count": 63,
      "metadata": {
        "id": "0aL5nC0LkIkD",
        "outputId": "fec6bbda-9846-41b4-a64a-cac01b4684f2",
        "colab": {
          "base_uri": "https://localhost:8080/"
        }
      },
      "outputs": [
        {
          "output_type": "execute_result",
          "data": {
            "text/plain": [
              "9"
            ]
          },
          "metadata": {},
          "execution_count": 63
        }
      ],
      "source": [
        "# 라이브러리를 임포트합니다.\n",
        "import numpy as np\n",
        "\n",
        "# 행렬을 만듭니다.\n",
        "matrix = np.array([[1, 2, 3],\n",
        "                   [4, 5, 6],\n",
        "                   [7, 8, 9]])\n",
        "\n",
        "# 가장 큰 원소를 반환합니다.\n",
        "np.max(matrix)"
      ]
    },
    {
      "cell_type": "code",
      "execution_count": 64,
      "metadata": {
        "id": "nHXZtlN3kIkD",
        "outputId": "11299648-ee38-4f25-d708-3eecf48ac28d",
        "colab": {
          "base_uri": "https://localhost:8080/"
        }
      },
      "outputs": [
        {
          "output_type": "execute_result",
          "data": {
            "text/plain": [
              "1"
            ]
          },
          "metadata": {},
          "execution_count": 64
        }
      ],
      "source": [
        "# 가장 작은 원소를 반환합니다.\n",
        "np.min(matrix)"
      ]
    },
    {
      "cell_type": "code",
      "execution_count": 65,
      "metadata": {
        "id": "Dgd88trokIkD",
        "outputId": "27c8da3f-a37f-434c-c469-a9f871dc4120",
        "colab": {
          "base_uri": "https://localhost:8080/"
        }
      },
      "outputs": [
        {
          "output_type": "execute_result",
          "data": {
            "text/plain": [
              "array([7, 8, 9])"
            ]
          },
          "metadata": {},
          "execution_count": 65
        }
      ],
      "source": [
        "# 각 열에서 최댓값을 찾습니다.\n",
        "np.max(matrix, axis=0)"
      ]
    },
    {
      "cell_type": "code",
      "execution_count": 66,
      "metadata": {
        "id": "VM8x4mU6kIkD",
        "outputId": "e99b2bb1-29f9-47a4-c9fa-170d34d791de",
        "colab": {
          "base_uri": "https://localhost:8080/"
        }
      },
      "outputs": [
        {
          "output_type": "execute_result",
          "data": {
            "text/plain": [
              "array([3, 6, 9])"
            ]
          },
          "metadata": {},
          "execution_count": 66
        }
      ],
      "source": [
        "# 각 행에서 최댓값을 찾습니다.\n",
        "np.max(matrix, axis=1)"
      ]
    },
    {
      "cell_type": "markdown",
      "metadata": {
        "id": "N_rS7tGHkIkE"
      },
      "source": [
        "### 붙임"
      ]
    },
    {
      "cell_type": "code",
      "execution_count": 68,
      "metadata": {
        "id": "YGdcRMcGkIkE",
        "outputId": "1ea3d8ee-ae8c-4620-8d2b-dfc92fcb4918",
        "colab": {
          "base_uri": "https://localhost:8080/"
        }
      },
      "outputs": [
        {
          "output_type": "execute_result",
          "data": {
            "text/plain": [
              "array([[3],\n",
              "       [6],\n",
              "       [9]])"
            ]
          },
          "metadata": {},
          "execution_count": 68
        }
      ],
      "source": [
        "# 이전 예와 달리 (3, 1) 크기의 열 벡터가 만들어 집니다.\n",
        "vector_column = np.max(matrix, axis=1, keepdims=True)\n",
        "\n",
        "vector_column"
      ]
    },
    {
      "cell_type": "code",
      "execution_count": 69,
      "metadata": {
        "id": "pm1adhFMkIkE",
        "outputId": "a516f775-dac6-4994-b8b9-ef738d8eb858",
        "colab": {
          "base_uri": "https://localhost:8080/"
        }
      },
      "outputs": [
        {
          "output_type": "execute_result",
          "data": {
            "text/plain": [
              "array([[-2, -1,  0],\n",
              "       [-2, -1,  0],\n",
              "       [-2, -1,  0]])"
            ]
          },
          "metadata": {},
          "execution_count": 69
        }
      ],
      "source": [
        "# 열 벡터이므로 브로드캐스팅을 이용하여 각 행의 최댓값을 뺄 수 있습니다.\n",
        "matrix - vector_column"
      ]
    },
    {
      "cell_type": "markdown",
      "metadata": {
        "id": "SnTKT8VOkIkE"
      },
      "source": [
        "## 1.8 평균, 분산, 표준 편차 계산하기"
      ]
    },
    {
      "cell_type": "code",
      "execution_count": 70,
      "metadata": {
        "id": "om-hfaC2kIkE",
        "outputId": "143898c6-5522-4700-f5a4-7324785bd902",
        "colab": {
          "base_uri": "https://localhost:8080/"
        }
      },
      "outputs": [
        {
          "output_type": "execute_result",
          "data": {
            "text/plain": [
              "5.0"
            ]
          },
          "metadata": {},
          "execution_count": 70
        }
      ],
      "source": [
        "# 라이브러리를 임포트합니다.\n",
        "import numpy as np\n",
        "\n",
        "# 행렬을 만듭니다.\n",
        "matrix = np.array([[1, 2, 3],\n",
        "                   [4, 5, 6],\n",
        "                   [7, 8, 9]])\n",
        "\n",
        "# 평균을 반환합니다.\n",
        "np.mean(matrix)"
      ]
    },
    {
      "cell_type": "code",
      "execution_count": 71,
      "metadata": {
        "id": "eUiTo7ZBkIkE",
        "outputId": "79797740-5fa4-4fdc-aa16-59e0c8906e21",
        "colab": {
          "base_uri": "https://localhost:8080/"
        }
      },
      "outputs": [
        {
          "output_type": "execute_result",
          "data": {
            "text/plain": [
              "6.666666666666667"
            ]
          },
          "metadata": {},
          "execution_count": 71
        }
      ],
      "source": [
        "# 분산을 반환합니다.\n",
        "np.var(matrix)"
      ]
    },
    {
      "cell_type": "code",
      "execution_count": 72,
      "metadata": {
        "id": "CvIP-sxTkIkF",
        "outputId": "f15f40a2-8f3b-470e-941a-e66d5c1d9335",
        "colab": {
          "base_uri": "https://localhost:8080/"
        }
      },
      "outputs": [
        {
          "output_type": "execute_result",
          "data": {
            "text/plain": [
              "2.581988897471611"
            ]
          },
          "metadata": {},
          "execution_count": 72
        }
      ],
      "source": [
        "# 표준 편차를 반환합니다.\n",
        "np.std(matrix)"
      ]
    },
    {
      "cell_type": "code",
      "execution_count": 73,
      "metadata": {
        "id": "6qfnuIbOkIkF",
        "outputId": "f2153329-0443-42f7-f9fe-30dfaed5575f",
        "colab": {
          "base_uri": "https://localhost:8080/"
        }
      },
      "outputs": [
        {
          "output_type": "execute_result",
          "data": {
            "text/plain": [
              "array([4., 5., 6.])"
            ]
          },
          "metadata": {},
          "execution_count": 73
        }
      ],
      "source": [
        "# 각 열의 평균을 계산합니다.\n",
        "np.mean(matrix, axis=0)"
      ]
    },
    {
      "cell_type": "markdown",
      "metadata": {
        "id": "L1twP7-UkIkF"
      },
      "source": [
        "## 1.9 배열 크기 바꾸기"
      ]
    },
    {
      "cell_type": "code",
      "execution_count": 75,
      "metadata": {
        "id": "KHw1PkjEkIkF",
        "outputId": "98cd24d0-1449-485c-b60c-2c47c370751e",
        "colab": {
          "base_uri": "https://localhost:8080/"
        }
      },
      "outputs": [
        {
          "output_type": "execute_result",
          "data": {
            "text/plain": [
              "array([[ 1,  2,  3,  4,  5,  6],\n",
              "       [ 7,  8,  9, 10, 11, 12]])"
            ]
          },
          "metadata": {},
          "execution_count": 75
        }
      ],
      "source": [
        "# 라이브러리를 임포트합니다.\n",
        "import numpy as np\n",
        "\n",
        "# 4x3 행렬을 만듭니다.\n",
        "matrix = np.array([[1, 2, 3],\n",
        "                   [4, 5, 6],\n",
        "                   [7, 8, 9],\n",
        "                   [10, 11, 12]])\n",
        "\n",
        "# 2x6 행렬로 크기를 바꿉니다.\n",
        "matrix.reshape(2, 6)"
      ]
    },
    {
      "cell_type": "code",
      "execution_count": 76,
      "metadata": {
        "id": "DWLRpNJ7kIkJ",
        "outputId": "36ff5077-5e93-4387-cc7f-1533028c30df",
        "colab": {
          "base_uri": "https://localhost:8080/"
        }
      },
      "outputs": [
        {
          "output_type": "execute_result",
          "data": {
            "text/plain": [
              "12"
            ]
          },
          "metadata": {},
          "execution_count": 76
        }
      ],
      "source": [
        "matrix.size"
      ]
    },
    {
      "cell_type": "markdown",
      "metadata": {
        "id": "W7zO9WMzkIkK"
      },
      "source": [
        "## 1.10 벡터나 행렬을 전치하기"
      ]
    },
    {
      "cell_type": "code",
      "execution_count": 81,
      "metadata": {
        "id": "puCRlVBakIkK",
        "outputId": "9305b3d2-a0bb-4f29-e236-0c9d7aa9e2f4",
        "colab": {
          "base_uri": "https://localhost:8080/"
        }
      },
      "outputs": [
        {
          "output_type": "execute_result",
          "data": {
            "text/plain": [
              "array([[1, 4, 7],\n",
              "       [2, 5, 8],\n",
              "       [3, 6, 9]])"
            ]
          },
          "metadata": {},
          "execution_count": 81
        }
      ],
      "source": [
        "# 라이브러리를 임포트합니다.\n",
        "import numpy as np\n",
        "\n",
        "# 행렬을 만듭니다.\n",
        "matrix = np.array([[1, 2, 3],\n",
        "                   [4, 5, 6],\n",
        "                   [7, 8, 9]])\n",
        "\n",
        "# 행렬을 전치합니다.\n",
        "matrix.T"
      ]
    },
    {
      "cell_type": "code",
      "execution_count": 82,
      "metadata": {
        "id": "B2Rxj5_XkIkK",
        "outputId": "32183a60-4f7b-4d1a-b1b0-92a1e9e91733",
        "colab": {
          "base_uri": "https://localhost:8080/"
        }
      },
      "outputs": [
        {
          "output_type": "execute_result",
          "data": {
            "text/plain": [
              "array([1, 2, 3, 4, 5, 6])"
            ]
          },
          "metadata": {},
          "execution_count": 82
        }
      ],
      "source": [
        "# 벡터를 전치합니다. -1D array\n",
        "np.array([1, 2, 3, 4, 5, 6]).T"
      ]
    },
    {
      "cell_type": "code",
      "execution_count": 83,
      "metadata": {
        "id": "c4GKrps7kIkL",
        "outputId": "a56e1c14-28b8-4a3e-d22d-ed79233f4c17",
        "colab": {
          "base_uri": "https://localhost:8080/"
        }
      },
      "outputs": [
        {
          "output_type": "execute_result",
          "data": {
            "text/plain": [
              "array([[1],\n",
              "       [2],\n",
              "       [3],\n",
              "       [4],\n",
              "       [5],\n",
              "       [6]])"
            ]
          },
          "metadata": {},
          "execution_count": 83
        }
      ],
      "source": [
        "# 행 벡터를 전치합니다.- 2D array\n",
        "np.array([[1, 2, 3, 4, 5, 6]]).T"
      ]
    },
    {
      "cell_type": "markdown",
      "metadata": {
        "id": "ZhgxBk5lkIkL"
      },
      "source": [
        "### 붙임"
      ]
    },
    {
      "cell_type": "code",
      "execution_count": 84,
      "metadata": {
        "id": "0smcVTsYkIkL",
        "outputId": "8a674d9e-a46c-4b50-e638-71b64cbb6291",
        "colab": {
          "base_uri": "https://localhost:8080/"
        }
      },
      "outputs": [
        {
          "output_type": "execute_result",
          "data": {
            "text/plain": [
              "array([[1, 4, 7],\n",
              "       [2, 5, 8],\n",
              "       [3, 6, 9]])"
            ]
          },
          "metadata": {},
          "execution_count": 84
        }
      ],
      "source": [
        "matrix.transpose()"
      ]
    },
    {
      "cell_type": "code",
      "execution_count": 85,
      "metadata": {
        "id": "rJEoEpGYkIkL",
        "outputId": "6b5fffe2-eddc-4cb4-c79a-b640bd322ad0",
        "colab": {
          "base_uri": "https://localhost:8080/"
        }
      },
      "outputs": [
        {
          "output_type": "execute_result",
          "data": {
            "text/plain": [
              "array([[[ 1,  3,  5],\n",
              "        [ 2,  4,  6]],\n",
              "\n",
              "       [[ 7,  9, 11],\n",
              "        [ 8, 10, 12]]])"
            ]
          },
          "metadata": {},
          "execution_count": 85
        }
      ],
      "source": [
        "# 2x3x2 행렬을 만듭니다.\n",
        "matrix = np.array([[[ 1,  2],\n",
        "                    [ 3,  4],\n",
        "                    [ 5,  6]],\n",
        "\n",
        "                   [[ 7,  8],\n",
        "                    [ 9, 10],\n",
        "                    [11, 12]]])\n",
        "\n",
        "# 두 번째와 세 번째 차원을 바꾸어 2x2x3 행렬로 만듭니다.\n",
        "matrix.transpose((0, 2, 1))"
      ]
    },
    {
      "cell_type": "markdown",
      "metadata": {
        "id": "gYcI3a1qkIkL"
      },
      "source": [
        "## 1.11 행렬 펼치기"
      ]
    },
    {
      "cell_type": "code",
      "execution_count": 86,
      "metadata": {
        "id": "VdTrk4wmkIkM",
        "outputId": "4f19c04d-cd7c-439c-f63b-9bb42def5456",
        "colab": {
          "base_uri": "https://localhost:8080/"
        }
      },
      "outputs": [
        {
          "output_type": "execute_result",
          "data": {
            "text/plain": [
              "array([1, 2, 3, 4, 5, 6, 7, 8, 9])"
            ]
          },
          "metadata": {},
          "execution_count": 86
        }
      ],
      "source": [
        "# 라이브러리를 임포트합니다.\n",
        "import numpy as np\n",
        "\n",
        "# 행렬을 만듭니다.\n",
        "matrix = np.array([[1, 2, 3],\n",
        "                   [4, 5, 6],\n",
        "                   [7, 8, 9]])\n",
        "\n",
        "# 행렬을 펼칩니다.\n",
        "matrix.flatten()"
      ]
    }
  ],
  "metadata": {
    "kernelspec": {
      "display_name": "Python 3",
      "language": "python",
      "name": "python3"
    },
    "language_info": {
      "codemirror_mode": {
        "name": "ipython",
        "version": 3
      },
      "file_extension": ".py",
      "mimetype": "text/x-python",
      "name": "python",
      "nbconvert_exporter": "python",
      "pygments_lexer": "ipython3",
      "version": "3.8.3"
    },
    "colab": {
      "name": "5_1.Matrix Computation.ipynb",
      "provenance": []
    }
  },
  "nbformat": 4,
  "nbformat_minor": 0
}