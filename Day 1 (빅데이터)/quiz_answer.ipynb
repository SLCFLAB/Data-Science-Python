{
 "cells": [
  {
   "cell_type": "markdown",
   "id": "adb63aef",
   "metadata": {},
   "source": [
    "## slide p.23"
   ]
  },
  {
   "cell_type": "code",
   "execution_count": 28,
   "id": "a9566b90",
   "metadata": {},
   "outputs": [
    {
     "data": {
      "text/plain": [
       "'a%b%c:d'"
      ]
     },
     "execution_count": 28,
     "metadata": {},
     "output_type": "execute_result"
    }
   ],
   "source": [
    "string = \"a:b:c:d\"\n",
    "string.replace(\":\", \"%\", 2)"
   ]
  },
  {
   "cell_type": "code",
   "execution_count": 29,
   "id": "adc72296",
   "metadata": {},
   "outputs": [
    {
     "name": "stdout",
     "output_type": "stream",
     "text": [
      "5678\n"
     ]
    }
   ],
   "source": [
    "phone = \"010-1234-5678\"\n",
    "print(phone[-4:])"
   ]
  },
  {
   "cell_type": "markdown",
   "id": "7b8475d7",
   "metadata": {},
   "source": [
    "## slide p.30~31"
   ]
  },
  {
   "cell_type": "code",
   "execution_count": 30,
   "id": "3ad42b40",
   "metadata": {},
   "outputs": [
    {
     "name": "stdout",
     "output_type": "stream",
     "text": [
      "79.0\n"
     ]
    }
   ],
   "source": [
    "A = [70, 60, 55, 75, 95, 90, 80, 80, 85, 100]\n",
    "sum=0\n",
    "for score in A:\n",
    "    sum += score\n",
    "print(sum/len(A))"
   ]
  },
  {
   "cell_type": "code",
   "execution_count": 31,
   "id": "e66976b7",
   "metadata": {},
   "outputs": [
    {
     "name": "stdout",
     "output_type": "stream",
     "text": [
      "166833\n"
     ]
    }
   ],
   "source": [
    "result = 0\n",
    "i = 1\n",
    "while i <= 1000:\n",
    "    if i % 3 == 0:\n",
    "        result += i\n",
    "    i +=1\n",
    "\n",
    "print(result)"
   ]
  },
  {
   "cell_type": "code",
   "execution_count": 32,
   "id": "ee8a47d5",
   "metadata": {},
   "outputs": [
    {
     "name": "stdout",
     "output_type": "stream",
     "text": [
      "수\n",
      "목\n",
      "토\n",
      "일\n"
     ]
    }
   ],
   "source": [
    "weather = {'월': 25.5, '화': 28.3, '수':33.2, '목':32.1, '금':17.3, '토':35.3, '일':33.3}\n",
    "for key in weather.keys():\n",
    "    if(weather[key]>30):\n",
    "        print(key)"
   ]
  },
  {
   "cell_type": "markdown",
   "id": "5bc3bb99",
   "metadata": {},
   "source": [
    "## slide p.34"
   ]
  },
  {
   "cell_type": "code",
   "execution_count": 33,
   "id": "d49fe56f",
   "metadata": {},
   "outputs": [
    {
     "name": "stdout",
     "output_type": "stream",
     "text": [
      "21\n",
      "6\n",
      "input error\n"
     ]
    }
   ],
   "source": [
    "def add_mul(choice, *args):\n",
    "    if choice==\"add\":\n",
    "        result=0\n",
    "        for i in args:\n",
    "            result+=i\n",
    "    elif choice==\"mul\":\n",
    "        result=1\n",
    "        for i in args:\n",
    "            result*=i\n",
    "    else:\n",
    "        result = 'input error'\n",
    "    return result\n",
    "\n",
    "print(add_mul('add', 1,2,3,4,5,6))\n",
    "print(add_mul('mul', 1,2,3))\n",
    "print(add_mul('div', 4,2))"
   ]
  },
  {
   "cell_type": "markdown",
   "id": "ec72b6c1",
   "metadata": {},
   "source": [
    "## slide p.36"
   ]
  },
  {
   "cell_type": "code",
   "execution_count": 34,
   "id": "60888a16",
   "metadata": {},
   "outputs": [
    {
     "data": {
      "text/plain": [
       "55"
      ]
     },
     "execution_count": 34,
     "metadata": {},
     "output_type": "execute_result"
    }
   ],
   "source": [
    "def f(n):\n",
    "    if(n<=1):\n",
    "        return n\n",
    "    else:\n",
    "        return f(n-1)+f(n-2)\n",
    "f(10)"
   ]
  },
  {
   "cell_type": "code",
   "execution_count": 35,
   "id": "68829185",
   "metadata": {},
   "outputs": [
    {
     "data": {
      "text/plain": [
       "[1, 4, 9, 16]"
      ]
     },
     "execution_count": 35,
     "metadata": {},
     "output_type": "execute_result"
    }
   ],
   "source": [
    "def sq(n):\n",
    "    a=[]\n",
    "    i=1\n",
    "    while i**2<=n:\n",
    "        a.append(i**2)\n",
    "        i+=1\n",
    "    return a\n",
    "sq(23)"
   ]
  },
  {
   "cell_type": "code",
   "execution_count": 36,
   "id": "130bf210",
   "metadata": {},
   "outputs": [],
   "source": [
    "def f(weather):\n",
    "    a=[]\n",
    "    for key in weather.keys():\n",
    "        if(weather[key]>30):\n",
    "            a.append(key)\n",
    "    return a"
   ]
  },
  {
   "cell_type": "code",
   "execution_count": 37,
   "id": "ac75ee25",
   "metadata": {},
   "outputs": [
    {
     "data": {
      "text/plain": [
       "['수', '목', '토', '일']"
      ]
     },
     "execution_count": 37,
     "metadata": {},
     "output_type": "execute_result"
    }
   ],
   "source": [
    "weather = {'월': 25.5, '화': 28.3, '수':33.2, '목':32.1, '금':17.3, '토':35.3, '일':33.3}\n",
    "f(weather)"
   ]
  }
 ],
 "metadata": {
  "kernelspec": {
   "display_name": "Python 3 (ipykernel)",
   "language": "python",
   "name": "python3"
  },
  "language_info": {
   "codemirror_mode": {
    "name": "ipython",
    "version": 3
   },
   "file_extension": ".py",
   "mimetype": "text/x-python",
   "name": "python",
   "nbconvert_exporter": "python",
   "pygments_lexer": "ipython3",
   "version": "3.9.7"
  }
 },
 "nbformat": 4,
 "nbformat_minor": 5
}
